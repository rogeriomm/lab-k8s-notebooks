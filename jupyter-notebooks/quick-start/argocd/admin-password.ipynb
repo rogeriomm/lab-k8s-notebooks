{
 "cells": [
  {
   "cell_type": "markdown",
   "id": "8c58438e-950c-41cb-a1d7-c8742e282909",
   "metadata": {},
   "source": [
    "https://tanzu.vmware.com/developer/guides/argocd-gs/"
   ]
  },
  {
   "cell_type": "code",
   "execution_count": 2,
   "id": "94b02822-6a3d-4df6-b5cb-5f41da6f36be",
   "metadata": {},
   "outputs": [
    {
     "name": "stdout",
     "output_type": "stream",
     "text": [
      "argocd-server-5d78bcbc7b-xd7vg\n"
     ]
    }
   ],
   "source": [
    "!kubectl -n argocd get pods -n argocd -l app.kubernetes.io/name=argocd-server -o name | cut -d'/' -f 2"
   ]
  },
  {
   "cell_type": "code",
   "execution_count": null,
   "id": "a7ecb680-252d-411e-a53c-f2c3a2d4f31d",
   "metadata": {},
   "outputs": [],
   "source": []
  }
 ],
 "metadata": {
  "kernelspec": {
   "display_name": "Python 3 (ipykernel)",
   "language": "python",
   "name": "python3"
  },
  "language_info": {
   "codemirror_mode": {
    "name": "ipython",
    "version": 3
   },
   "file_extension": ".py",
   "mimetype": "text/x-python",
   "name": "python",
   "nbconvert_exporter": "python",
   "pygments_lexer": "ipython3",
   "version": "3.10.13"
  }
 },
 "nbformat": 4,
 "nbformat_minor": 5
}
