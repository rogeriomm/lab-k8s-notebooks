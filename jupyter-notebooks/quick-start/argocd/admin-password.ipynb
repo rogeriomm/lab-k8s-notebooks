{
 "cells": [
  {
   "cell_type": "markdown",
   "id": "8c58438e-950c-41cb-a1d7-c8742e282909",
   "metadata": {},
   "source": [
    "https://argocd-operator.readthedocs.io/en/latest/usage/ingress/"
   ]
  },
  {
   "cell_type": "code",
   "execution_count": 7,
   "id": "a7ecb680-252d-411e-a53c-f2c3a2d4f31d",
   "metadata": {},
   "outputs": [
    {
     "name": "stdout",
     "output_type": "stream",
     "text": [
      "NAME                            TYPE                 DATA   AGE\n",
      "argocd-initial-admin-secret     Opaque               1      8d\n",
      "argocd-notifications-secret     Opaque               0      8d\n",
      "argocd-secret                   Opaque               5      8d\n",
      "sh.helm.release.v1.argocd.v10   helm.sh/release.v1   1      5m51s\n",
      "sh.helm.release.v1.argocd.v11   helm.sh/release.v1   1      5m5s\n",
      "sh.helm.release.v1.argocd.v12   helm.sh/release.v1   1      4m39s\n",
      "sh.helm.release.v1.argocd.v3    helm.sh/release.v1   1      34m\n",
      "sh.helm.release.v1.argocd.v4    helm.sh/release.v1   1      34m\n",
      "sh.helm.release.v1.argocd.v5    helm.sh/release.v1   1      30m\n",
      "sh.helm.release.v1.argocd.v6    helm.sh/release.v1   1      14m\n",
      "sh.helm.release.v1.argocd.v7    helm.sh/release.v1   1      12m\n",
      "sh.helm.release.v1.argocd.v8    helm.sh/release.v1   1      7m28s\n",
      "sh.helm.release.v1.argocd.v9    helm.sh/release.v1   1      7m3s\n"
     ]
    }
   ],
   "source": [
    "!kubectl -n argocd get secrets"
   ]
  },
  {
   "cell_type": "code",
   "execution_count": 5,
   "id": "94b02822-6a3d-4df6-b5cb-5f41da6f36be",
   "metadata": {},
   "outputs": [
    {
     "name": "stdout",
     "output_type": "stream",
     "text": [
      "lMeONnQycWndl1CU"
     ]
    }
   ],
   "source": [
    "!kubectl -n argocd get secret argocd-initial-admin-secret -o=jsonpath='{.data.password}' | base64 -d"
   ]
  },
  {
   "cell_type": "code",
   "execution_count": null,
   "id": "4cb0c297-e5f0-4e29-b281-ed915d72310f",
   "metadata": {},
   "outputs": [],
   "source": []
  }
 ],
 "metadata": {
  "kernelspec": {
   "display_name": "Python 3 (ipykernel)",
   "language": "python",
   "name": "python3"
  },
  "language_info": {
   "codemirror_mode": {
    "name": "ipython",
    "version": 3
   },
   "file_extension": ".py",
   "mimetype": "text/x-python",
   "name": "python",
   "nbconvert_exporter": "python",
   "pygments_lexer": "ipython3",
   "version": "3.10.13"
  }
 },
 "nbformat": 4,
 "nbformat_minor": 5
}
