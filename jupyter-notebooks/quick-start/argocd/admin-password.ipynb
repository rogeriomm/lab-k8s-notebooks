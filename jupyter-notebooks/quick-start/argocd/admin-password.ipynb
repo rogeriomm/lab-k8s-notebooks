{
 "cells": [
  {
   "cell_type": "code",
   "execution_count": 1,
   "id": "a7ecb680-252d-411e-a53c-f2c3a2d4f31d",
   "metadata": {},
   "outputs": [
    {
     "name": "stdout",
     "output_type": "stream",
     "text": [
      "\u001b[37mNAME                           TYPE                 DATA   AGE\u001b[0m\n",
      "\u001b[36margocd-initial-admin-secret\u001b[0m    \u001b[32mOpaque\u001b[0m               \u001b[35m1\u001b[0m      \u001b[37m4d23h\u001b[0m\n",
      "\u001b[36margocd-notifications-secret\u001b[0m    \u001b[32mOpaque\u001b[0m               \u001b[35m0\u001b[0m      \u001b[37m4d23h\u001b[0m\n",
      "\u001b[36margocd-secret\u001b[0m                  \u001b[32mOpaque\u001b[0m               \u001b[35m5\u001b[0m      \u001b[37m4d23h\u001b[0m\n",
      "\u001b[36msh.helm.release.v1.argocd.v1\u001b[0m   \u001b[32mhelm.sh/release.v1\u001b[0m   \u001b[35m1\u001b[0m      \u001b[37m4d23h\u001b[0m\n",
      "\u001b[36msh.helm.release.v1.argocd.v2\u001b[0m   \u001b[32mhelm.sh/release.v1\u001b[0m   \u001b[35m1\u001b[0m      \u001b[37m4m23s\u001b[0m\n"
     ]
    }
   ],
   "source": [
    "!kubecolor -n argocd get secrets"
   ]
  },
  {
   "cell_type": "code",
   "execution_count": 6,
   "id": "94b02822-6a3d-4df6-b5cb-5f41da6f36be",
   "metadata": {},
   "outputs": [
    {
     "name": "stdout",
     "output_type": "stream",
     "text": [
      "User: admin\n",
      "Password: KhSNrPbwKkLboCQF"
     ]
    }
   ],
   "source": [
    "!echo User: admin && echo -n \"Password: \" && kubectl -n argocd get secret argocd-initial-admin-secret -o=jsonpath='{.data.password}' | base64 -d"
   ]
  },
  {
   "cell_type": "code",
   "execution_count": 29,
   "id": "35baca3e-3422-4fdf-9f2f-94f4d4a6fc9b",
   "metadata": {},
   "outputs": [
    {
     "name": "stdout",
     "output_type": "stream",
     "text": [
      "'admin:login' logged in successfully\n",
      "Context 'argocd.worldl.xpt' updated\n"
     ]
    }
   ],
   "source": [
    "! password=$(kubectl -n argocd get secret argocd-initial-admin-secret -o=jsonpath='{.data.password}' | base64 -d) && \\\n",
    "  argocd login argocd.worldl.xpt --grpc-web --username admin --password $password\n"
   ]
  },
  {
   "cell_type": "code",
   "execution_count": 27,
   "id": "ed3aa2e9-6d2a-467c-8d01-7c519786e448",
   "metadata": {},
   "outputs": [
    {
     "name": "stdout",
     "output_type": "stream",
     "text": [
      "NAME  CLUSTER  NAMESPACE  PROJECT  STATUS  HEALTH  SYNCPOLICY  CONDITIONS  REPO  PATH  TARGET\n"
     ]
    }
   ],
   "source": [
    "! argocd app list"
   ]
  },
  {
   "cell_type": "code",
   "execution_count": null,
   "id": "6fd0b6c6-1aa6-42ee-9069-7cf495f25d9d",
   "metadata": {},
   "outputs": [],
   "source": []
  }
 ],
 "metadata": {
  "kernelspec": {
   "display_name": "Python 3 (ipykernel)",
   "language": "python",
   "name": "python3"
  },
  "language_info": {
   "codemirror_mode": {
    "name": "ipython",
    "version": 3
   },
   "file_extension": ".py",
   "mimetype": "text/x-python",
   "name": "python",
   "nbconvert_exporter": "python",
   "pygments_lexer": "ipython3",
   "version": "3.10.13"
  }
 },
 "nbformat": 4,
 "nbformat_minor": 5
}
