{
 "cells": [
  {
   "cell_type": "code",
   "execution_count": 1,
   "id": "d9f730d6-f9f7-4f65-9057-1f139781e07e",
   "metadata": {},
   "outputs": [
    {
     "name": "stdout",
     "output_type": "stream",
     "text": [
      "\u001b[37mNAME                                                    READY   STATUS    RESTARTS   AGE\u001b[0m\n",
      "\u001b[36mpod/argocd-application-controller-0\u001b[0m                     \u001b[32m1/1\u001b[0m     \u001b[35mRunning\u001b[0m   \u001b[37m0\u001b[0m          \u001b[33m15m\u001b[0m\n",
      "\u001b[36mpod/argocd-applicationset-controller-66c9b84df4-9gllr\u001b[0m   \u001b[32m1/1\u001b[0m     \u001b[35mRunning\u001b[0m   \u001b[37m0\u001b[0m          \u001b[33m15m\u001b[0m\n",
      "\u001b[36mpod/argocd-dex-server-5df4cc4565-8hxwr\u001b[0m                  \u001b[32m1/1\u001b[0m     \u001b[35mRunning\u001b[0m   \u001b[37m0\u001b[0m          \u001b[33m15m\u001b[0m\n",
      "\u001b[36mpod/argocd-notifications-controller-6f54fd9856-c8gr6\u001b[0m    \u001b[32m1/1\u001b[0m     \u001b[35mRunning\u001b[0m   \u001b[37m2\u001b[0m          \u001b[33m2d1h\u001b[0m\n",
      "\u001b[36mpod/argocd-redis-75ddd9dfbd-kngqp\u001b[0m                       \u001b[32m1/1\u001b[0m     \u001b[35mRunning\u001b[0m   \u001b[37m0\u001b[0m          \u001b[33m38m\u001b[0m\n",
      "\u001b[36mpod/argocd-repo-server-86448f84fb-5m9d8\u001b[0m                 \u001b[32m1/1\u001b[0m     \u001b[35mRunning\u001b[0m   \u001b[37m0\u001b[0m          \u001b[33m15m\u001b[0m\n",
      "\u001b[36mpod/argocd-server-8549d6695c-gdsnx\u001b[0m                      \u001b[32m1/1\u001b[0m     \u001b[35mRunning\u001b[0m   \u001b[37m0\u001b[0m          \u001b[33m15m\u001b[0m\n",
      "\u001b[37m\u001b[0m\n",
      "\u001b[37mNAME                                       TYPE        CLUSTER-IP       EXTERNAL-IP   PORT(S)             AGE\u001b[0m\n",
      "\u001b[36mservice/argocd-applicationset-controller\u001b[0m   \u001b[36mClusterIP\u001b[0m   \u001b[32m10.97.224.172\u001b[0m    \u001b[35m<none>\u001b[0m        \u001b[37m7000/TCP\u001b[0m            \u001b[33m5d\u001b[0m\n",
      "\u001b[36mservice/argocd-dex-server\u001b[0m                  \u001b[36mClusterIP\u001b[0m   \u001b[32m10.107.84.113\u001b[0m    \u001b[35m<none>\u001b[0m        \u001b[37m5556/TCP,5557/TCP\u001b[0m   \u001b[33m5d\u001b[0m\n",
      "\u001b[36mservice/argocd-redis\u001b[0m                       \u001b[36mClusterIP\u001b[0m   \u001b[32m10.103.145.36\u001b[0m    \u001b[35m<none>\u001b[0m        \u001b[37m6379/TCP\u001b[0m            \u001b[33m5d\u001b[0m\n",
      "\u001b[36mservice/argocd-repo-server\u001b[0m                 \u001b[36mClusterIP\u001b[0m   \u001b[32m10.102.103.207\u001b[0m   \u001b[35m<none>\u001b[0m        \u001b[37m8081/TCP\u001b[0m            \u001b[33m5d\u001b[0m\n",
      "\u001b[36mservice/argocd-server\u001b[0m                      \u001b[36mClusterIP\u001b[0m   \u001b[32m10.103.146.1\u001b[0m     \u001b[35m<none>\u001b[0m        \u001b[37m80/TCP,443/TCP\u001b[0m      \u001b[33m5d\u001b[0m\n",
      "\u001b[37m\u001b[0m\n",
      "\u001b[37mNAME                                               READY   UP-TO-DATE   AVAILABLE   AGE\u001b[0m\n",
      "\u001b[36mdeployment.apps/argocd-applicationset-controller\u001b[0m   \u001b[36m1/1\u001b[0m     \u001b[32m1\u001b[0m            \u001b[35m1\u001b[0m           \u001b[35m5d\u001b[0m\n",
      "\u001b[36mdeployment.apps/argocd-dex-server\u001b[0m                  \u001b[36m1/1\u001b[0m     \u001b[32m1\u001b[0m            \u001b[35m1\u001b[0m           \u001b[35m5d\u001b[0m\n",
      "\u001b[36mdeployment.apps/argocd-notifications-controller\u001b[0m    \u001b[36m1/1\u001b[0m     \u001b[32m1\u001b[0m            \u001b[35m1\u001b[0m           \u001b[35m5d\u001b[0m\n",
      "\u001b[36mdeployment.apps/argocd-redis\u001b[0m                       \u001b[36m1/1\u001b[0m     \u001b[32m1\u001b[0m            \u001b[35m1\u001b[0m           \u001b[35m5d\u001b[0m\n",
      "\u001b[36mdeployment.apps/argocd-repo-server\u001b[0m                 \u001b[36m1/1\u001b[0m     \u001b[32m1\u001b[0m            \u001b[35m1\u001b[0m           \u001b[35m5d\u001b[0m\n",
      "\u001b[36mdeployment.apps/argocd-server\u001b[0m                      \u001b[36m1/1\u001b[0m     \u001b[32m1\u001b[0m            \u001b[35m1\u001b[0m           \u001b[35m5d\u001b[0m\n",
      "\u001b[37m\u001b[0m\n",
      "\u001b[37mNAME                                                          DESIRED   CURRENT   READY   AGE\u001b[0m\n",
      "\u001b[36mreplicaset.apps/argocd-applicationset-controller-66c9b84df4\u001b[0m   \u001b[37m1\u001b[0m         \u001b[35m1\u001b[0m         \u001b[33m1\u001b[0m       \u001b[36m15m\u001b[0m\n",
      "\u001b[36mreplicaset.apps/argocd-applicationset-controller-cd8f748b\u001b[0m     \u001b[37m0\u001b[0m         \u001b[35m0\u001b[0m         \u001b[33m0\u001b[0m       \u001b[36m5d\u001b[0m\n",
      "\u001b[36mreplicaset.apps/argocd-dex-server-5df4cc4565\u001b[0m                  \u001b[37m1\u001b[0m         \u001b[35m1\u001b[0m         \u001b[33m1\u001b[0m       \u001b[36m15m\u001b[0m\n",
      "\u001b[36mreplicaset.apps/argocd-dex-server-6fdc49d789\u001b[0m                  \u001b[37m0\u001b[0m         \u001b[35m0\u001b[0m         \u001b[33m0\u001b[0m       \u001b[36m5d\u001b[0m\n",
      "\u001b[36mreplicaset.apps/argocd-notifications-controller-6f54fd9856\u001b[0m    \u001b[37m1\u001b[0m         \u001b[35m1\u001b[0m         \u001b[33m1\u001b[0m       \u001b[36m5d\u001b[0m\n",
      "\u001b[36mreplicaset.apps/argocd-redis-75ddd9dfbd\u001b[0m                       \u001b[37m1\u001b[0m         \u001b[35m1\u001b[0m         \u001b[33m1\u001b[0m       \u001b[36m5d\u001b[0m\n",
      "\u001b[36mreplicaset.apps/argocd-repo-server-75d959bdd4\u001b[0m                 \u001b[37m0\u001b[0m         \u001b[35m0\u001b[0m         \u001b[33m0\u001b[0m       \u001b[36m5d\u001b[0m\n",
      "\u001b[36mreplicaset.apps/argocd-repo-server-86448f84fb\u001b[0m                 \u001b[37m1\u001b[0m         \u001b[35m1\u001b[0m         \u001b[33m1\u001b[0m       \u001b[36m15m\u001b[0m\n",
      "\u001b[36mreplicaset.apps/argocd-server-786c58fd9\u001b[0m                       \u001b[37m0\u001b[0m         \u001b[35m0\u001b[0m         \u001b[33m0\u001b[0m       \u001b[36m5d\u001b[0m\n",
      "\u001b[36mreplicaset.apps/argocd-server-8549d6695c\u001b[0m                      \u001b[37m1\u001b[0m         \u001b[35m1\u001b[0m         \u001b[33m1\u001b[0m       \u001b[36m15m\u001b[0m\n",
      "\u001b[37m\u001b[0m\n",
      "\u001b[37mNAME                                             READY   AGE\u001b[0m\n",
      "\u001b[36mstatefulset.apps/argocd-application-controller\u001b[0m   \u001b[32m1/1\u001b[0m     \u001b[35m5d\u001b[0m\n"
     ]
    }
   ],
   "source": [
    "!kubecolor -n argocd get all "
   ]
  },
  {
   "cell_type": "code",
   "execution_count": 2,
   "id": "ae64c269-675d-40fb-b418-718a619aa3ae",
   "metadata": {},
   "outputs": [
    {
     "name": "stdout",
     "output_type": "stream",
     "text": [
      "\u001b[37mNAME                               TYPE        CLUSTER-IP       EXTERNAL-IP   PORT(S)             AGE\u001b[0m\n",
      "\u001b[36margocd-applicationset-controller\u001b[0m   \u001b[32mClusterIP\u001b[0m   \u001b[35m10.97.224.172\u001b[0m    \u001b[37m<none>\u001b[0m        \u001b[33m7000/TCP\u001b[0m            \u001b[36m5d\u001b[0m\n",
      "\u001b[36margocd-dex-server\u001b[0m                  \u001b[32mClusterIP\u001b[0m   \u001b[35m10.107.84.113\u001b[0m    \u001b[37m<none>\u001b[0m        \u001b[33m5556/TCP,5557/TCP\u001b[0m   \u001b[36m5d\u001b[0m\n",
      "\u001b[36margocd-redis\u001b[0m                       \u001b[32mClusterIP\u001b[0m   \u001b[35m10.103.145.36\u001b[0m    \u001b[37m<none>\u001b[0m        \u001b[33m6379/TCP\u001b[0m            \u001b[36m5d\u001b[0m\n",
      "\u001b[36margocd-repo-server\u001b[0m                 \u001b[32mClusterIP\u001b[0m   \u001b[35m10.102.103.207\u001b[0m   \u001b[37m<none>\u001b[0m        \u001b[33m8081/TCP\u001b[0m            \u001b[36m5d\u001b[0m\n",
      "\u001b[36margocd-server\u001b[0m                      \u001b[32mClusterIP\u001b[0m   \u001b[35m10.103.146.1\u001b[0m     \u001b[37m<none>\u001b[0m        \u001b[33m80/TCP,443/TCP\u001b[0m      \u001b[36m5d\u001b[0m\n"
     ]
    }
   ],
   "source": [
    "!kubecolor -n argocd get services"
   ]
  },
  {
   "cell_type": "code",
   "execution_count": 3,
   "id": "9d194547-63e8-4d64-ab31-8e26c422e8f0",
   "metadata": {},
   "outputs": [
    {
     "name": "stdout",
     "output_type": "stream",
     "text": [
      "Starting Nmap 7.80 ( https://nmap.org ) at 2024-02-12 08:04 -03\n",
      "Nmap scan report for argocd-repo-server.argocd.svc (10.102.103.207)\n",
      "Host is up (0.00026s latency).\n",
      "rDNS record for 10.102.103.207: argocd-repo-server.argocd.svc.cluster2.xpt\n",
      "\n",
      "PORT     STATE SERVICE\n",
      "8081/tcp open  blackice-icecap\n",
      "\n",
      "Nmap done: 1 IP address (1 host up) scanned in 0.13 seconds\n"
     ]
    }
   ],
   "source": [
    "!nmap -p 8081 argocd-repo-server.argocd.svc"
   ]
  },
  {
   "cell_type": "markdown",
   "id": "ae025703-6e62-4af5-90a9-8bec091db352",
   "metadata": {},
   "source": [
    "# Ingress"
   ]
  },
  {
   "cell_type": "code",
   "execution_count": 2,
   "id": "d28dbe99-7798-44d8-84b6-f2476b691fe4",
   "metadata": {},
   "outputs": [
    {
     "name": "stdout",
     "output_type": "stream",
     "text": [
      "\u001b[36mapiVersion\u001b[0m:\u001b[32m networking.k8s.io/v1\u001b[0m\n",
      "\u001b[32m\u001b[0m\u001b[36mkind\u001b[0m:\u001b[32m Ingress\u001b[0m\n",
      "\u001b[32m\u001b[0m\u001b[36mmetadata\u001b[0m:\u001b[36m\u001b[0m\n",
      "\u001b[36m  annotations\u001b[0m:\u001b[36m\u001b[0m\n",
      "\u001b[36m    meta.helm.sh/release-name\u001b[0m:\u001b[32m argocd\u001b[0m\n",
      "\u001b[32m    \u001b[0m\u001b[36mmeta.helm.sh/release-namespace\u001b[0m:\u001b[32m argocd\u001b[0m\n",
      "\u001b[32m  \u001b[0m\u001b[36mcreationTimestamp\u001b[0m:\u001b[32m \"2024-01-29T09:41:25Z\"\u001b[0m\u001b[36m\u001b[0m\n",
      "\u001b[36m  generation\u001b[0m:\u001b[95m 1\u001b[0m\n",
      "\u001b[95m  \u001b[0m\u001b[36mlabels\u001b[0m:\u001b[36m\u001b[0m\n",
      "\u001b[36m    app.kubernetes.io/component\u001b[0m:\u001b[32m server\u001b[0m\n",
      "\u001b[32m    \u001b[0m\u001b[36mapp.kubernetes.io/instance\u001b[0m:\u001b[32m argocd\u001b[0m\n",
      "\u001b[32m    \u001b[0m\u001b[36mapp.kubernetes.io/managed-by\u001b[0m:\u001b[32m Helm\u001b[0m\n",
      "\u001b[32m    \u001b[0m\u001b[36mapp.kubernetes.io/name\u001b[0m:\u001b[32m argocd-server\u001b[0m\n",
      "\u001b[32m    \u001b[0m\u001b[36mapp.kubernetes.io/part-of\u001b[0m:\u001b[32m argocd\u001b[0m\n",
      "\u001b[32m    \u001b[0m\u001b[36mapp.kubernetes.io/version\u001b[0m:\u001b[32m v2.9.5\u001b[0m\n",
      "\u001b[32m    \u001b[0m\u001b[36mhelm.sh/chart\u001b[0m:\u001b[32m argo-cd-5.53.3\u001b[0m\n",
      "\u001b[32m  \u001b[0m\u001b[36mname\u001b[0m:\u001b[32m argocd-server\u001b[0m\n",
      "\u001b[32m  \u001b[0m\u001b[36mnamespace\u001b[0m:\u001b[32m argocd\u001b[0m\n",
      "\u001b[32m  \u001b[0m\u001b[36mresourceVersion\u001b[0m:\u001b[32m \"671333\"\u001b[0m\u001b[36m\u001b[0m\n",
      "\u001b[36m  uid\u001b[0m:\u001b[32m 17a45eec-3882-4d54-a7c9-e78f3821336a\u001b[0m\n",
      "\u001b[32m\u001b[0m\u001b[36mspec\u001b[0m:\u001b[36m\u001b[0m\n",
      "\u001b[36m  ingressClassName\u001b[0m:\u001b[32m nginx\u001b[0m\n",
      "\u001b[32m  \u001b[0m\u001b[36mrules\u001b[0m:\n",
      "    -\u001b[36m host\u001b[0m:\u001b[32m argocd.worldl.xpt\u001b[0m\n",
      "\u001b[32m      \u001b[0m\u001b[36mhttp\u001b[0m:\u001b[36m\u001b[0m\n",
      "\u001b[36m        paths\u001b[0m:\n",
      "          -\u001b[36m backend\u001b[0m:\u001b[36m\u001b[0m\n",
      "\u001b[36m              service\u001b[0m:\u001b[36m\u001b[0m\n",
      "\u001b[36m                name\u001b[0m:\u001b[32m argocd-server\u001b[0m\n",
      "\u001b[32m                \u001b[0m\u001b[36mport\u001b[0m:\u001b[36m\u001b[0m\n",
      "\u001b[36m                  number\u001b[0m:\u001b[95m 80\u001b[0m\n",
      "\u001b[95m            \u001b[0m\u001b[36mpath\u001b[0m:\u001b[32m /\u001b[0m\n",
      "\u001b[32m            \u001b[0m\u001b[36mpathType\u001b[0m:\u001b[32m Prefix\u001b[0m\n",
      "\u001b[32m\u001b[0m\u001b[36mstatus\u001b[0m:\u001b[36m\u001b[0m\n",
      "\u001b[36m  loadBalancer\u001b[0m:\u001b[36m\u001b[0m\n",
      "\u001b[36m    ingress\u001b[0m:\n",
      "      -\u001b[36m ip\u001b[0m:\u001b[32m 192.168.49.2\u001b[0m\n"
     ]
    }
   ],
   "source": [
    "!kubectl -n argocd get ingress argocd-server -o yaml | yq"
   ]
  },
  {
   "cell_type": "code",
   "execution_count": 4,
   "id": "cfb5107e-0be0-4988-9cae-5aae5711e50b",
   "metadata": {},
   "outputs": [
    {
     "name": "stdout",
     "output_type": "stream",
     "text": [
      "'admin:login' logged in successfully\n",
      "Context 'argocd.worldl.xpt' updated\n"
     ]
    }
   ],
   "source": [
    "! password=$(kubectl -n argocd get secret argocd-initial-admin-secret -o=jsonpath='{.data.password}' | base64 -d) && \\\n",
    "  argocd login argocd.worldl.xpt --grpc-web --username admin --password $password"
   ]
  },
  {
   "cell_type": "code",
   "execution_count": 7,
   "id": "8587a2ab-1070-4ca9-9560-cd97106656c1",
   "metadata": {},
   "outputs": [
    {
     "name": "stdout",
     "output_type": "stream",
     "text": [
      "NAME  CLUSTER  NAMESPACE  PROJECT  STATUS  HEALTH  SYNCPOLICY  CONDITIONS  REPO  PATH  TARGET\n"
     ]
    }
   ],
   "source": [
    "!argocd app list"
   ]
  },
  {
   "cell_type": "code",
   "execution_count": 8,
   "id": "55d6d9cf-fd88-4bc5-a955-8cffbe989732",
   "metadata": {},
   "outputs": [
    {
     "name": "stdout",
     "output_type": "stream",
     "text": [
      "NAME          DESCRIPTION   DESTINATIONS  SOURCES  CLUSTER-RESOURCE-WHITELIST  NAMESPACE-RESOURCE-BLACKLIST  SIGNATURE-KEYS  ORPHANED-RESOURCES\n",
      "default                     *,*           *        */*                         <none>                        <none>          disabled\n",
      "labtools-k8s  labtools-k8s  <none>        <none>   <none>                      <none>                        <none>          disabled\n"
     ]
    }
   ],
   "source": [
    "!argocd proj list"
   ]
  },
  {
   "cell_type": "code",
   "execution_count": 13,
   "id": "ad0ea030-230b-4158-96bb-f994fb151d4a",
   "metadata": {},
   "outputs": [
    {
     "name": "stdout",
     "output_type": "stream",
     "text": [
      "\u001b[36mmetadata\u001b[0m:\u001b[36m\u001b[0m\n",
      "\u001b[36m  creationTimestamp\u001b[0m:\u001b[32m \"2024-02-12T11:53:16Z\"\u001b[0m\u001b[36m\u001b[0m\n",
      "\u001b[36m  generation\u001b[0m:\u001b[95m 1\u001b[0m\n",
      "\u001b[95m  \u001b[0m\u001b[36mmanagedFields\u001b[0m:\n",
      "    -\u001b[36m apiVersion\u001b[0m:\u001b[32m argoproj.io/v1alpha1\u001b[0m\n",
      "\u001b[32m      \u001b[0m\u001b[36mfieldsType\u001b[0m:\u001b[32m FieldsV1\u001b[0m\n",
      "\u001b[32m      \u001b[0m\u001b[36mfieldsV1\u001b[0m:\u001b[36m\u001b[0m\n",
      "\u001b[36m        f:spec\u001b[0m:\u001b[36m\u001b[0m\n",
      "\u001b[36m          .\u001b[0m: {}\u001b[36m\u001b[0m\n",
      "\u001b[36m          f:description\u001b[0m: {}\u001b[36m\u001b[0m\n",
      "\u001b[36m        f:status\u001b[0m: {}\u001b[36m\u001b[0m\n",
      "\u001b[36m      manager\u001b[0m:\u001b[32m argocd-server\u001b[0m\n",
      "\u001b[32m      \u001b[0m\u001b[36moperation\u001b[0m:\u001b[32m Update\u001b[0m\n",
      "\u001b[32m      \u001b[0m\u001b[36mtime\u001b[0m:\u001b[32m \"2024-02-12T11:53:16Z\"\u001b[0m\u001b[36m\u001b[0m\n",
      "\u001b[36m  name\u001b[0m:\u001b[32m labtools-k8s\u001b[0m\n",
      "\u001b[32m  \u001b[0m\u001b[36mnamespace\u001b[0m:\u001b[32m argocd\u001b[0m\n",
      "\u001b[32m  \u001b[0m\u001b[36mresourceVersion\u001b[0m:\u001b[32m \"821515\"\u001b[0m\u001b[36m\u001b[0m\n",
      "\u001b[36m  uid\u001b[0m:\u001b[32m 7a7dbeb2-2adf-4e25-9314-2cdb759c2f84\u001b[0m\n",
      "\u001b[32m\u001b[0m\u001b[36mspec\u001b[0m:\u001b[36m\u001b[0m\n",
      "\u001b[36m  description\u001b[0m:\u001b[32m labtools-k8s\u001b[0m\n",
      "\u001b[32m\u001b[0m\u001b[36mstatus\u001b[0m: {}\n"
     ]
    }
   ],
   "source": [
    "!argocd proj get labtools-k8s -o yaml | yq"
   ]
  },
  {
   "cell_type": "code",
   "execution_count": 6,
   "id": "9cab78cf-6602-439c-8525-7907918d4551",
   "metadata": {},
   "outputs": [
    {
     "name": "stdout",
     "output_type": "stream",
     "text": [
      "\u001b[36mapiVersion\u001b[0m:\u001b[32m v1\u001b[0m\n",
      "\u001b[32m\u001b[0m\u001b[36mautomountServiceAccountToken\u001b[0m:\u001b[95m true\u001b[0m\n",
      "\u001b[95m\u001b[0m\u001b[36mkind\u001b[0m:\u001b[32m ServiceAccount\u001b[0m\n",
      "\u001b[32m\u001b[0m\u001b[36mmetadata\u001b[0m:\u001b[36m\u001b[0m\n",
      "\u001b[36m  annotations\u001b[0m:\u001b[36m\u001b[0m\n",
      "\u001b[36m    meta.helm.sh/release-name\u001b[0m:\u001b[32m argocd\u001b[0m\n",
      "\u001b[32m    \u001b[0m\u001b[36mmeta.helm.sh/release-namespace\u001b[0m:\u001b[32m argocd\u001b[0m\n",
      "\u001b[32m  \u001b[0m\u001b[36mcreationTimestamp\u001b[0m:\u001b[32m \"2024-02-07T10:54:21Z\"\u001b[0m\u001b[36m\u001b[0m\n",
      "\u001b[36m  labels\u001b[0m:\u001b[36m\u001b[0m\n",
      "\u001b[36m    app.kubernetes.io/component\u001b[0m:\u001b[32m server\u001b[0m\n",
      "\u001b[32m    \u001b[0m\u001b[36mapp.kubernetes.io/instance\u001b[0m:\u001b[32m argocd\u001b[0m\n",
      "\u001b[32m    \u001b[0m\u001b[36mapp.kubernetes.io/managed-by\u001b[0m:\u001b[32m Helm\u001b[0m\n",
      "\u001b[32m    \u001b[0m\u001b[36mapp.kubernetes.io/name\u001b[0m:\u001b[32m argocd-server\u001b[0m\n",
      "\u001b[32m    \u001b[0m\u001b[36mapp.kubernetes.io/part-of\u001b[0m:\u001b[32m argocd\u001b[0m\n",
      "\u001b[32m    \u001b[0m\u001b[36mapp.kubernetes.io/version\u001b[0m:\u001b[32m v2.10.0\u001b[0m\n",
      "\u001b[32m    \u001b[0m\u001b[36mhelm.sh/chart\u001b[0m:\u001b[32m argo-cd-5.55.0\u001b[0m\n",
      "\u001b[32m  \u001b[0m\u001b[36mname\u001b[0m:\u001b[32m argocd-server\u001b[0m\n",
      "\u001b[32m  \u001b[0m\u001b[36mnamespace\u001b[0m:\u001b[32m argocd\u001b[0m\n",
      "\u001b[32m  \u001b[0m\u001b[36mresourceVersion\u001b[0m:\u001b[32m \"8471\"\u001b[0m\u001b[36m\u001b[0m\n",
      "\u001b[36m  uid\u001b[0m:\u001b[32m cc9e2b9c-7a79-4c51-965c-a95b1f84ed79\u001b[0m\n"
     ]
    }
   ],
   "source": [
    "!kubectl -n argocd get serviceaccount argocd-server -o yaml | yq"
   ]
  },
  {
   "cell_type": "code",
   "execution_count": 15,
   "id": "4c217513-e2cc-4b59-aa39-ee8949420b9d",
   "metadata": {},
   "outputs": [
    {
     "name": "stdout",
     "output_type": "stream",
     "text": [
      "argocd-application-controller                                          2024-02-07T10:54:21Z\n",
      "argocd-notifications-controller                                        2024-02-07T10:54:21Z\n",
      "argocd-repo-server                                                     2024-02-07T10:54:21Z\n",
      "argocd-server                                                          2024-02-07T10:54:21Z\n"
     ]
    }
   ],
   "source": [
    "!kubectl -n commander get ClusterRole | grep -i argocd"
   ]
  },
  {
   "cell_type": "code",
   "execution_count": 16,
   "id": "d82b9b97-49c2-4c18-9f10-5461bbe98943",
   "metadata": {},
   "outputs": [
    {
     "name": "stdout",
     "output_type": "stream",
     "text": [
      "argocd-application-controller                          ClusterRole/argocd-application-controller                                          5d2h\n",
      "argocd-notifications-controller                        ClusterRole/argocd-notifications-controller                                        5d2h\n",
      "argocd-repo-server                                     ClusterRole/argocd-repo-server                                                     5d2h\n",
      "argocd-server                                          ClusterRole/argocd-server                                                          5d2h\n"
     ]
    }
   ],
   "source": [
    "!kubectl -n commander get ClusterRoleBinding | grep -i argocd"
   ]
  },
  {
   "cell_type": "code",
   "execution_count": 17,
   "id": "dd765309-540e-4fa0-9e79-50cf3d560f22",
   "metadata": {},
   "outputs": [
    {
     "name": "stdout",
     "output_type": "stream",
     "text": [
      "\u001b[36mapiVersion\u001b[0m:\u001b[32m rbac.authorization.k8s.io/v1\u001b[0m\n",
      "\u001b[32m\u001b[0m\u001b[36mkind\u001b[0m:\u001b[32m ClusterRole\u001b[0m\n",
      "\u001b[32m\u001b[0m\u001b[36mmetadata\u001b[0m:\u001b[36m\u001b[0m\n",
      "\u001b[36m  annotations\u001b[0m:\u001b[36m\u001b[0m\n",
      "\u001b[36m    meta.helm.sh/release-name\u001b[0m:\u001b[32m argocd\u001b[0m\n",
      "\u001b[32m    \u001b[0m\u001b[36mmeta.helm.sh/release-namespace\u001b[0m:\u001b[32m argocd\u001b[0m\n",
      "\u001b[32m  \u001b[0m\u001b[36mcreationTimestamp\u001b[0m:\u001b[32m \"2024-02-07T10:54:21Z\"\u001b[0m\u001b[36m\u001b[0m\n",
      "\u001b[36m  labels\u001b[0m:\u001b[36m\u001b[0m\n",
      "\u001b[36m    app.kubernetes.io/component\u001b[0m:\u001b[32m repo-server\u001b[0m\n",
      "\u001b[32m    \u001b[0m\u001b[36mapp.kubernetes.io/instance\u001b[0m:\u001b[32m argocd\u001b[0m\n",
      "\u001b[32m    \u001b[0m\u001b[36mapp.kubernetes.io/managed-by\u001b[0m:\u001b[32m Helm\u001b[0m\n",
      "\u001b[32m    \u001b[0m\u001b[36mapp.kubernetes.io/name\u001b[0m:\u001b[32m argocd-repo-server\u001b[0m\n",
      "\u001b[32m    \u001b[0m\u001b[36mapp.kubernetes.io/part-of\u001b[0m:\u001b[32m argocd\u001b[0m\n",
      "\u001b[32m    \u001b[0m\u001b[36mapp.kubernetes.io/version\u001b[0m:\u001b[32m v2.10.0\u001b[0m\n",
      "\u001b[32m    \u001b[0m\u001b[36mhelm.sh/chart\u001b[0m:\u001b[32m argo-cd-5.55.0\u001b[0m\n",
      "\u001b[32m  \u001b[0m\u001b[36mname\u001b[0m:\u001b[32m argocd-repo-server\u001b[0m\n",
      "\u001b[32m  \u001b[0m\u001b[36mresourceVersion\u001b[0m:\u001b[32m \"8492\"\u001b[0m\u001b[36m\u001b[0m\n",
      "\u001b[36m  uid\u001b[0m:\u001b[32m 93b76429-e701-48f6-94d7-f898c335864b\u001b[0m\n",
      "\u001b[32m\u001b[0m\u001b[36mrules\u001b[0m:\n",
      "  -\u001b[36m apiGroups\u001b[0m:\n",
      "      -\u001b[32m '*'\u001b[0m\u001b[36m\u001b[0m\n",
      "\u001b[36m    resources\u001b[0m:\n",
      "      -\u001b[32m '*'\u001b[0m\u001b[36m\u001b[0m\n",
      "\u001b[36m    verbs\u001b[0m:\n",
      "      -\u001b[32m '*'\u001b[0m\n",
      "  -\u001b[36m nonResourceURLs\u001b[0m:\n",
      "      -\u001b[32m '*'\u001b[0m\u001b[36m\u001b[0m\n",
      "\u001b[36m    verbs\u001b[0m:\n",
      "      -\u001b[32m '*'\u001b[0m\n"
     ]
    }
   ],
   "source": [
    "!kubectl get ClusterRole argocd-repo-server -o yaml | yq"
   ]
  },
  {
   "cell_type": "code",
   "execution_count": 18,
   "id": "9c9df967-c1bd-451b-9633-5d1768418525",
   "metadata": {},
   "outputs": [
    {
     "name": "stdout",
     "output_type": "stream",
     "text": [
      "\u001b[36mapiVersion\u001b[0m:\u001b[32m rbac.authorization.k8s.io/v1\u001b[0m\n",
      "\u001b[32m\u001b[0m\u001b[36mkind\u001b[0m:\u001b[32m ClusterRoleBinding\u001b[0m\n",
      "\u001b[32m\u001b[0m\u001b[36mmetadata\u001b[0m:\u001b[36m\u001b[0m\n",
      "\u001b[36m  annotations\u001b[0m:\u001b[36m\u001b[0m\n",
      "\u001b[36m    meta.helm.sh/release-name\u001b[0m:\u001b[32m argocd\u001b[0m\n",
      "\u001b[32m    \u001b[0m\u001b[36mmeta.helm.sh/release-namespace\u001b[0m:\u001b[32m argocd\u001b[0m\n",
      "\u001b[32m  \u001b[0m\u001b[36mcreationTimestamp\u001b[0m:\u001b[32m \"2024-02-07T10:54:21Z\"\u001b[0m\u001b[36m\u001b[0m\n",
      "\u001b[36m  labels\u001b[0m:\u001b[36m\u001b[0m\n",
      "\u001b[36m    app.kubernetes.io/component\u001b[0m:\u001b[32m repo-server\u001b[0m\n",
      "\u001b[32m    \u001b[0m\u001b[36mapp.kubernetes.io/instance\u001b[0m:\u001b[32m argocd\u001b[0m\n",
      "\u001b[32m    \u001b[0m\u001b[36mapp.kubernetes.io/managed-by\u001b[0m:\u001b[32m Helm\u001b[0m\n",
      "\u001b[32m    \u001b[0m\u001b[36mapp.kubernetes.io/name\u001b[0m:\u001b[32m argocd-repo-server\u001b[0m\n",
      "\u001b[32m    \u001b[0m\u001b[36mapp.kubernetes.io/part-of\u001b[0m:\u001b[32m argocd\u001b[0m\n",
      "\u001b[32m    \u001b[0m\u001b[36mapp.kubernetes.io/version\u001b[0m:\u001b[32m v2.10.0\u001b[0m\n",
      "\u001b[32m    \u001b[0m\u001b[36mhelm.sh/chart\u001b[0m:\u001b[32m argo-cd-5.55.0\u001b[0m\n",
      "\u001b[32m  \u001b[0m\u001b[36mname\u001b[0m:\u001b[32m argocd-repo-server\u001b[0m\n",
      "\u001b[32m  \u001b[0m\u001b[36mresourceVersion\u001b[0m:\u001b[32m \"8498\"\u001b[0m\u001b[36m\u001b[0m\n",
      "\u001b[36m  uid\u001b[0m:\u001b[32m b357b1b5-3cba-447d-bf80-f9376cfe5d2c\u001b[0m\n",
      "\u001b[32m\u001b[0m\u001b[36mroleRef\u001b[0m:\u001b[36m\u001b[0m\n",
      "\u001b[36m  apiGroup\u001b[0m:\u001b[32m rbac.authorization.k8s.io\u001b[0m\n",
      "\u001b[32m  \u001b[0m\u001b[36mkind\u001b[0m:\u001b[32m ClusterRole\u001b[0m\n",
      "\u001b[32m  \u001b[0m\u001b[36mname\u001b[0m:\u001b[32m argocd-repo-server\u001b[0m\n",
      "\u001b[32m\u001b[0m\u001b[36msubjects\u001b[0m:\n",
      "  -\u001b[36m kind\u001b[0m:\u001b[32m ServiceAccount\u001b[0m\n",
      "\u001b[32m    \u001b[0m\u001b[36mname\u001b[0m:\u001b[32m argocd-repo-server\u001b[0m\n",
      "\u001b[32m    \u001b[0m\u001b[36mnamespace\u001b[0m:\u001b[32m argocd\u001b[0m\n"
     ]
    }
   ],
   "source": [
    "!kubectl get ClusterRoleBinding argocd-repo-server -o yaml | yq"
   ]
  },
  {
   "cell_type": "code",
   "execution_count": null,
   "id": "227eb8e2-64fd-4df1-9d1d-4f20dfbc0f61",
   "metadata": {},
   "outputs": [],
   "source": []
  }
 ],
 "metadata": {
  "kernelspec": {
   "display_name": "Python 3 (ipykernel)",
   "language": "python",
   "name": "python3"
  },
  "language_info": {
   "codemirror_mode": {
    "name": "ipython",
    "version": 3
   },
   "file_extension": ".py",
   "mimetype": "text/x-python",
   "name": "python",
   "nbconvert_exporter": "python",
   "pygments_lexer": "ipython3",
   "version": "3.10.13"
  }
 },
 "nbformat": 4,
 "nbformat_minor": 5
}
