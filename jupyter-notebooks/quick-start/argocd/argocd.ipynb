{
 "cells": [
  {
   "cell_type": "code",
   "execution_count": 3,
   "id": "d9f730d6-f9f7-4f65-9057-1f139781e07e",
   "metadata": {},
   "outputs": [
    {
     "name": "stdout",
     "output_type": "stream",
     "text": [
      "NAME                                                    READY   STATUS    RESTARTS       AGE\n",
      "pod/argocd-application-controller-0                     1/1     Running   17 (41h ago)   6d21h\n",
      "pod/argocd-applicationset-controller-58965fcf4c-6sld4   1/1     Running   12 (41h ago)   5d\n",
      "pod/argocd-dex-server-5bd46459b7-wjpv7                  1/1     Running   16 (41h ago)   7d22h\n",
      "pod/argocd-notifications-controller-77fb46fc9-tpjqx     1/1     Running   6 (41h ago)    3d14h\n",
      "pod/argocd-redis-87c5b59cf-q72xp                        1/1     Running   18 (41h ago)   7d22h\n",
      "pod/argocd-repo-server-7b589485ff-p8p7k                 1/1     Running   9 (41h ago)    5d\n",
      "pod/argocd-server-5d78bcbc7b-xd7vg                      1/1     Running   18 (41h ago)   6d21h\n",
      "\n",
      "NAME                                       TYPE        CLUSTER-IP      EXTERNAL-IP   PORT(S)             AGE\n",
      "service/argocd-applicationset-controller   ClusterIP   10.110.159.50   <none>        7000/TCP            8d\n",
      "service/argocd-dex-server                  ClusterIP   10.104.186.90   <none>        5556/TCP,5557/TCP   8d\n",
      "service/argocd-redis                       ClusterIP   10.106.5.76     <none>        6379/TCP            8d\n",
      "service/argocd-repo-server                 ClusterIP   10.96.142.111   <none>        8081/TCP            8d\n",
      "service/argocd-server                      ClusterIP   10.96.145.82    <none>        80/TCP,443/TCP      8d\n",
      "\n",
      "NAME                                               READY   UP-TO-DATE   AVAILABLE   AGE\n",
      "deployment.apps/argocd-applicationset-controller   1/1     1            1           8d\n",
      "deployment.apps/argocd-dex-server                  1/1     1            1           8d\n",
      "deployment.apps/argocd-notifications-controller    1/1     1            1           8d\n",
      "deployment.apps/argocd-redis                       1/1     1            1           8d\n",
      "deployment.apps/argocd-repo-server                 1/1     1            1           8d\n",
      "deployment.apps/argocd-server                      1/1     1            1           8d\n",
      "\n",
      "NAME                                                          DESIRED   CURRENT   READY   AGE\n",
      "replicaset.apps/argocd-applicationset-controller-58965fcf4c   1         1         1       8d\n",
      "replicaset.apps/argocd-dex-server-5bd46459b7                  1         1         1       8d\n",
      "replicaset.apps/argocd-notifications-controller-77fb46fc9     1         1         1       8d\n",
      "replicaset.apps/argocd-redis-87c5b59cf                        1         1         1       8d\n",
      "replicaset.apps/argocd-repo-server-7b589485ff                 1         1         1       8d\n",
      "replicaset.apps/argocd-server-5d78bcbc7b                      1         1         1       8d\n",
      "\n",
      "NAME                                             READY   AGE\n",
      "statefulset.apps/argocd-application-controller   1/1     8d\n"
     ]
    }
   ],
   "source": [
    "!kubectl -n argocd get all "
   ]
  },
  {
   "cell_type": "markdown",
   "id": "ae025703-6e62-4af5-90a9-8bec091db352",
   "metadata": {},
   "source": [
    "# Ingress"
   ]
  },
  {
   "cell_type": "code",
   "execution_count": 2,
   "id": "d28dbe99-7798-44d8-84b6-f2476b691fe4",
   "metadata": {},
   "outputs": [
    {
     "name": "stdout",
     "output_type": "stream",
     "text": [
      "\u001b[36mapiVersion\u001b[0m:\u001b[32m networking.k8s.io/v1\u001b[0m\n",
      "\u001b[32m\u001b[0m\u001b[36mkind\u001b[0m:\u001b[32m Ingress\u001b[0m\n",
      "\u001b[32m\u001b[0m\u001b[36mmetadata\u001b[0m:\u001b[36m\u001b[0m\n",
      "\u001b[36m  annotations\u001b[0m:\u001b[36m\u001b[0m\n",
      "\u001b[36m    meta.helm.sh/release-name\u001b[0m:\u001b[32m argocd\u001b[0m\n",
      "\u001b[32m    \u001b[0m\u001b[36mmeta.helm.sh/release-namespace\u001b[0m:\u001b[32m argocd\u001b[0m\n",
      "\u001b[32m  \u001b[0m\u001b[36mcreationTimestamp\u001b[0m:\u001b[32m \"2024-01-29T09:41:25Z\"\u001b[0m\u001b[36m\u001b[0m\n",
      "\u001b[36m  generation\u001b[0m:\u001b[95m 1\u001b[0m\n",
      "\u001b[95m  \u001b[0m\u001b[36mlabels\u001b[0m:\u001b[36m\u001b[0m\n",
      "\u001b[36m    app.kubernetes.io/component\u001b[0m:\u001b[32m server\u001b[0m\n",
      "\u001b[32m    \u001b[0m\u001b[36mapp.kubernetes.io/instance\u001b[0m:\u001b[32m argocd\u001b[0m\n",
      "\u001b[32m    \u001b[0m\u001b[36mapp.kubernetes.io/managed-by\u001b[0m:\u001b[32m Helm\u001b[0m\n",
      "\u001b[32m    \u001b[0m\u001b[36mapp.kubernetes.io/name\u001b[0m:\u001b[32m argocd-server\u001b[0m\n",
      "\u001b[32m    \u001b[0m\u001b[36mapp.kubernetes.io/part-of\u001b[0m:\u001b[32m argocd\u001b[0m\n",
      "\u001b[32m    \u001b[0m\u001b[36mapp.kubernetes.io/version\u001b[0m:\u001b[32m v2.9.5\u001b[0m\n",
      "\u001b[32m    \u001b[0m\u001b[36mhelm.sh/chart\u001b[0m:\u001b[32m argo-cd-5.53.3\u001b[0m\n",
      "\u001b[32m  \u001b[0m\u001b[36mname\u001b[0m:\u001b[32m argocd-server\u001b[0m\n",
      "\u001b[32m  \u001b[0m\u001b[36mnamespace\u001b[0m:\u001b[32m argocd\u001b[0m\n",
      "\u001b[32m  \u001b[0m\u001b[36mresourceVersion\u001b[0m:\u001b[32m \"671333\"\u001b[0m\u001b[36m\u001b[0m\n",
      "\u001b[36m  uid\u001b[0m:\u001b[32m 17a45eec-3882-4d54-a7c9-e78f3821336a\u001b[0m\n",
      "\u001b[32m\u001b[0m\u001b[36mspec\u001b[0m:\u001b[36m\u001b[0m\n",
      "\u001b[36m  ingressClassName\u001b[0m:\u001b[32m nginx\u001b[0m\n",
      "\u001b[32m  \u001b[0m\u001b[36mrules\u001b[0m:\n",
      "    -\u001b[36m host\u001b[0m:\u001b[32m argocd.worldl.xpt\u001b[0m\n",
      "\u001b[32m      \u001b[0m\u001b[36mhttp\u001b[0m:\u001b[36m\u001b[0m\n",
      "\u001b[36m        paths\u001b[0m:\n",
      "          -\u001b[36m backend\u001b[0m:\u001b[36m\u001b[0m\n",
      "\u001b[36m              service\u001b[0m:\u001b[36m\u001b[0m\n",
      "\u001b[36m                name\u001b[0m:\u001b[32m argocd-server\u001b[0m\n",
      "\u001b[32m                \u001b[0m\u001b[36mport\u001b[0m:\u001b[36m\u001b[0m\n",
      "\u001b[36m                  number\u001b[0m:\u001b[95m 80\u001b[0m\n",
      "\u001b[95m            \u001b[0m\u001b[36mpath\u001b[0m:\u001b[32m /\u001b[0m\n",
      "\u001b[32m            \u001b[0m\u001b[36mpathType\u001b[0m:\u001b[32m Prefix\u001b[0m\n",
      "\u001b[32m\u001b[0m\u001b[36mstatus\u001b[0m:\u001b[36m\u001b[0m\n",
      "\u001b[36m  loadBalancer\u001b[0m:\u001b[36m\u001b[0m\n",
      "\u001b[36m    ingress\u001b[0m:\n",
      "      -\u001b[36m ip\u001b[0m:\u001b[32m 192.168.49.2\u001b[0m\n"
     ]
    }
   ],
   "source": [
    "!kubectl -n argocd get ingress argocd-server -o yaml | yq"
   ]
  }
 ],
 "metadata": {
  "kernelspec": {
   "display_name": "Python 3 (ipykernel)",
   "language": "python",
   "name": "python3"
  },
  "language_info": {
   "codemirror_mode": {
    "name": "ipython",
    "version": 3
   },
   "file_extension": ".py",
   "mimetype": "text/x-python",
   "name": "python",
   "nbconvert_exporter": "python",
   "pygments_lexer": "ipython3",
   "version": "3.10.13"
  }
 },
 "nbformat": 4,
 "nbformat_minor": 5
}
