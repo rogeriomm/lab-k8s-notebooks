{
 "cells": [
  {
   "cell_type": "code",
   "execution_count": 1,
   "id": "4bcd2818-03a3-4478-b151-9ea3b685c9f0",
   "metadata": {},
   "outputs": [
    {
     "name": "stdout",
     "output_type": "stream",
     "text": [
      "\u001b[37mNAME                                       READY   STATUS    RESTARTS   AGE\u001b[0m\n",
      "\u001b[36mpod/metabase-deployment-5c69689fc4-5vq2l\u001b[0m   \u001b[32m1/1\u001b[0m     \u001b[35mRunning\u001b[0m   \u001b[37m0\u001b[0m          \u001b[33m3h42m\u001b[0m\n",
      "\u001b[37m\u001b[0m\n",
      "\u001b[37mNAME                      TYPE        CLUSTER-IP      EXTERNAL-IP   PORT(S)   AGE\u001b[0m\n",
      "\u001b[36mservice/metabase-server\u001b[0m   \u001b[36mClusterIP\u001b[0m   \u001b[32m10.110.246.62\u001b[0m   \u001b[35m<none>\u001b[0m        \u001b[37m80/TCP\u001b[0m    \u001b[33m3h42m\u001b[0m\n",
      "\u001b[37m\u001b[0m\n",
      "\u001b[37mNAME                                  READY   UP-TO-DATE   AVAILABLE   AGE\u001b[0m\n",
      "\u001b[36mdeployment.apps/metabase-deployment\u001b[0m   \u001b[32m1/1\u001b[0m     \u001b[36m1\u001b[0m            \u001b[32m1\u001b[0m           \u001b[35m3h42m\u001b[0m\n",
      "\u001b[37m\u001b[0m\n",
      "\u001b[37mNAME                                             DESIRED   CURRENT   READY   AGE\u001b[0m\n",
      "\u001b[36mreplicaset.apps/metabase-deployment-5c69689fc4\u001b[0m   \u001b[37m1\u001b[0m         \u001b[32m1\u001b[0m         \u001b[33m1\u001b[0m       \u001b[36m3h42m\u001b[0m\n"
     ]
    }
   ],
   "source": [
    "!kubecolor -n metabase get all"
   ]
  },
  {
   "cell_type": "code",
   "execution_count": null,
   "id": "6a1f0180-9ee7-4e6f-ae74-6fe081ae7523",
   "metadata": {},
   "outputs": [],
   "source": []
  }
 ],
 "metadata": {
  "kernelspec": {
   "display_name": "Python 3 (ipykernel)",
   "language": "python",
   "name": "python3"
  },
  "language_info": {
   "codemirror_mode": {
    "name": "ipython",
    "version": 3
   },
   "file_extension": ".py",
   "mimetype": "text/x-python",
   "name": "python",
   "nbconvert_exporter": "python",
   "pygments_lexer": "ipython3",
   "version": "3.10.13"
  }
 },
 "nbformat": 4,
 "nbformat_minor": 5
}
