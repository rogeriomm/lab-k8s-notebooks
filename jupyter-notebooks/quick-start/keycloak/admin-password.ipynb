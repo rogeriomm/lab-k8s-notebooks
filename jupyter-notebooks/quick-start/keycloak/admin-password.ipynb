{
 "cells": [
  {
   "cell_type": "code",
   "execution_count": 1,
   "id": "cf8b99e3-7ada-4efb-bd69-dd260d6a5a94",
   "metadata": {},
   "outputs": [
    {
     "name": "stdout",
     "output_type": "stream",
     "text": [
      "5qlMMFGKWt"
     ]
    }
   ],
   "source": [
    "!kubectl -n keycloak get secrets my-release-keycloak -o jsonpath='{.data.admin-password}' | base64 -d"
   ]
  },
  {
   "cell_type": "code",
   "execution_count": null,
   "id": "5442497a-e233-4504-bf68-98aa1bf229ac",
   "metadata": {},
   "outputs": [],
   "source": []
  }
 ],
 "metadata": {
  "kernelspec": {
   "display_name": "Python 3 (ipykernel)",
   "language": "python",
   "name": "python3"
  },
  "language_info": {
   "codemirror_mode": {
    "name": "ipython",
    "version": 3
   },
   "file_extension": ".py",
   "mimetype": "text/x-python",
   "name": "python",
   "nbconvert_exporter": "python",
   "pygments_lexer": "ipython3",
   "version": "3.10.13"
  }
 },
 "nbformat": 4,
 "nbformat_minor": 5
}
