{
 "cells": [
  {
   "cell_type": "code",
   "execution_count": 5,
   "id": "7e4a2701-a6f6-444b-bbb9-c6ab2bd65c3c",
   "metadata": {},
   "outputs": [
    {
     "name": "stdout",
     "output_type": "stream",
     "text": [
      "\u001b[37mNAME                        READY   STATUS    RESTARTS   AGE\u001b[0m\n",
      "\u001b[36mpod/my-release-keycloak-0\u001b[0m   \u001b[32m1/1\u001b[0m     \u001b[35mRunning\u001b[0m   \u001b[37m0\u001b[0m          \u001b[33m4m6s\u001b[0m\n",
      "\u001b[37m\u001b[0m\n",
      "\u001b[37mNAME                                   TYPE        CLUSTER-IP      EXTERNAL-IP   PORT(S)   AGE\u001b[0m\n",
      "\u001b[36mservice/my-release-keycloak\u001b[0m            \u001b[36mClusterIP\u001b[0m   \u001b[32m10.101.86.174\u001b[0m   \u001b[35m<none>\u001b[0m        \u001b[37m80/TCP\u001b[0m    \u001b[33m8m38s\u001b[0m\n",
      "\u001b[36mservice/my-release-keycloak-headless\u001b[0m   \u001b[36mClusterIP\u001b[0m   \u001b[32mNone\u001b[0m            \u001b[35m<none>\u001b[0m        \u001b[37m80/TCP\u001b[0m    \u001b[33m8m38s\u001b[0m\n",
      "\u001b[37m\u001b[0m\n",
      "\u001b[37mNAME                                   READY   AGE\u001b[0m\n",
      "\u001b[36mstatefulset.apps/my-release-keycloak\u001b[0m   \u001b[36m1/1\u001b[0m     \u001b[36m8m38s\u001b[0m\n"
     ]
    }
   ],
   "source": [
    "!kubecolor -n keycloak get all\n"
   ]
  },
  {
   "cell_type": "code",
   "execution_count": 6,
   "id": "d5ed440d-b602-494e-96bd-913c63ac7f2d",
   "metadata": {},
   "outputs": [
    {
     "name": "stdout",
     "output_type": "stream",
     "text": [
      "\u001b[37mNAME                               TYPE                 DATA   AGE\u001b[0m\n",
      "\u001b[36mmy-release-externaldb\u001b[0m              \u001b[32mOpaque\u001b[0m               \u001b[35m1\u001b[0m      \u001b[37m9m23s\u001b[0m\n",
      "\u001b[36mmy-release-keycloak\u001b[0m                \u001b[32mOpaque\u001b[0m               \u001b[35m1\u001b[0m      \u001b[37m9m23s\u001b[0m\n",
      "\u001b[36msh.helm.release.v1.my-release.v1\u001b[0m   \u001b[32mhelm.sh/release.v1\u001b[0m   \u001b[35m1\u001b[0m      \u001b[37m9m23s\u001b[0m\n",
      "\u001b[36msh.helm.release.v1.my-release.v2\u001b[0m   \u001b[32mhelm.sh/release.v1\u001b[0m   \u001b[35m1\u001b[0m      \u001b[37m7m38s\u001b[0m\n"
     ]
    }
   ],
   "source": [
    "!kubecolor -n keycloak get secrets"
   ]
  },
  {
   "cell_type": "code",
   "execution_count": 7,
   "id": "95db55b4-a267-4b35-97fb-09f2b3b38f0b",
   "metadata": {},
   "outputs": [
    {
     "name": "stdout",
     "output_type": "stream",
     "text": [
      "\u001b[36mapiVersion\u001b[0m:\u001b[32m v1\u001b[0m\n",
      "\u001b[32m\u001b[0m\u001b[36mdata\u001b[0m:\u001b[36m\u001b[0m\n",
      "\u001b[36m  admin-password\u001b[0m:\u001b[32m NXFsTU1GR0tXdA==\u001b[0m\n",
      "\u001b[32m\u001b[0m\u001b[36mkind\u001b[0m:\u001b[32m Secret\u001b[0m\n",
      "\u001b[32m\u001b[0m\u001b[36mmetadata\u001b[0m:\u001b[36m\u001b[0m\n",
      "\u001b[36m  annotations\u001b[0m:\u001b[36m\u001b[0m\n",
      "\u001b[36m    meta.helm.sh/release-name\u001b[0m:\u001b[32m my-release\u001b[0m\n",
      "\u001b[32m    \u001b[0m\u001b[36mmeta.helm.sh/release-namespace\u001b[0m:\u001b[32m keycloak\u001b[0m\n",
      "\u001b[32m  \u001b[0m\u001b[36mcreationTimestamp\u001b[0m:\u001b[32m \"2024-02-14T10:34:22Z\"\u001b[0m\u001b[36m\u001b[0m\n",
      "\u001b[36m  labels\u001b[0m:\u001b[36m\u001b[0m\n",
      "\u001b[36m    app.kubernetes.io/component\u001b[0m:\u001b[32m keycloak\u001b[0m\n",
      "\u001b[32m    \u001b[0m\u001b[36mapp.kubernetes.io/instance\u001b[0m:\u001b[32m my-release\u001b[0m\n",
      "\u001b[32m    \u001b[0m\u001b[36mapp.kubernetes.io/managed-by\u001b[0m:\u001b[32m Helm\u001b[0m\n",
      "\u001b[32m    \u001b[0m\u001b[36mapp.kubernetes.io/name\u001b[0m:\u001b[32m keycloak\u001b[0m\n",
      "\u001b[32m    \u001b[0m\u001b[36mapp.kubernetes.io/version\u001b[0m:\u001b[32m 23.0.6\u001b[0m\n",
      "\u001b[32m    \u001b[0m\u001b[36mhelm.sh/chart\u001b[0m:\u001b[32m keycloak-18.3.4\u001b[0m\n",
      "\u001b[32m  \u001b[0m\u001b[36mname\u001b[0m:\u001b[32m my-release-keycloak\u001b[0m\n",
      "\u001b[32m  \u001b[0m\u001b[36mnamespace\u001b[0m:\u001b[32m keycloak\u001b[0m\n",
      "\u001b[32m  \u001b[0m\u001b[36mresourceVersion\u001b[0m:\u001b[32m \"226283\"\u001b[0m\u001b[36m\u001b[0m\n",
      "\u001b[36m  uid\u001b[0m:\u001b[32m ef2b0ed1-4ec3-4f57-8ba6-8def62eb5734\u001b[0m\n",
      "\u001b[32m\u001b[0m\u001b[36mtype\u001b[0m:\u001b[32m Opaque\u001b[0m\n"
     ]
    }
   ],
   "source": [
    "!kubectl -n keycloak get secrets my-release-keycloak -o yaml | yq"
   ]
  },
  {
   "cell_type": "code",
   "execution_count": 9,
   "id": "b4560ff5-b1ab-4b52-ac10-694cc9f44ee8",
   "metadata": {},
   "outputs": [
    {
     "name": "stdout",
     "output_type": "stream",
     "text": [
      "5qlMMFGKWt"
     ]
    }
   ],
   "source": [
    "!kubectl -n keycloak get secrets my-release-keycloak -o jsonpath='{.data.admin-password}' | base64 -d"
   ]
  },
  {
   "cell_type": "code",
   "execution_count": null,
   "id": "e8f51413-dd0d-4afe-a26f-8c1002ed9615",
   "metadata": {},
   "outputs": [],
   "source": []
  }
 ],
 "metadata": {
  "kernelspec": {
   "display_name": "Python 3 (ipykernel)",
   "language": "python",
   "name": "python3"
  },
  "language_info": {
   "codemirror_mode": {
    "name": "ipython",
    "version": 3
   },
   "file_extension": ".py",
   "mimetype": "text/x-python",
   "name": "python",
   "nbconvert_exporter": "python",
   "pygments_lexer": "ipython3",
   "version": "3.10.13"
  }
 },
 "nbformat": 4,
 "nbformat_minor": 5
}
