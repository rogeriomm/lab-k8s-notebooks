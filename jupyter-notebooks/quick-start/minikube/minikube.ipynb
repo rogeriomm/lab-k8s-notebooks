{
 "cells": [
  {
   "cell_type": "code",
   "execution_count": 6,
   "id": "c1afbdd8-8e92-4a26-a5bc-95853f73655b",
   "metadata": {},
   "outputs": [
    {
     "name": "stdout",
     "output_type": "stream",
     "text": [
      "\u001b[37mNAME           CPU(cores)   CPU%   MEMORY(bytes)   MEMORY%   \u001b[0m\n",
      "\u001b[36mcluster2\u001b[0m       \u001b[32m369m\u001b[0m         \u001b[35m1%\u001b[0m     \u001b[37m11006Mi\u001b[0m         \u001b[33m12%\u001b[0m       \u001b[36m\u001b[0m\n",
      "\u001b[36mcluster2-m02\u001b[0m   \u001b[32m419m\u001b[0m         \u001b[35m1%\u001b[0m     \u001b[37m10958Mi\u001b[0m         \u001b[33m12%\u001b[0m       \u001b[36m\u001b[0m\n",
      "\u001b[36mcluster2-m03\u001b[0m   \u001b[32m176m\u001b[0m         \u001b[35m0%\u001b[0m     \u001b[37m7775Mi\u001b[0m          \u001b[33m8%\u001b[0m        \u001b[36m\u001b[0m\n",
      "\u001b[36mcluster2-m04\u001b[0m   \u001b[32m282m\u001b[0m         \u001b[35m0%\u001b[0m     \u001b[37m10906Mi\u001b[0m         \u001b[33m12%\u001b[0m       \u001b[36m\u001b[0m\n"
     ]
    }
   ],
   "source": [
    "!kubecolor top node"
   ]
  },
  {
   "cell_type": "code",
   "execution_count": 4,
   "id": "608226e1-c606-414e-ab7b-dfe1ab30eae2",
   "metadata": {},
   "outputs": [
    {
     "name": "stdout",
     "output_type": "stream",
     "text": [
      "\u001b[37mNAMESPACE                  NAME                                                                                     READY   STATUS      RESTARTS      AGE\u001b[0m\n",
      "\u001b[36mairflow\u001b[0m                    \u001b[32mairflow-db-migrations-7f96595484-mk8k2\u001b[0m                                                   \u001b[35m1/1\u001b[0m     \u001b[37mRunning\u001b[0m     \u001b[33m0\u001b[0m             \u001b[36m25m\u001b[0m\n",
      "\u001b[36mairflow\u001b[0m                    \u001b[32mairflow-flower-648c99f4f9-fb84f\u001b[0m                                                          \u001b[35m1/1\u001b[0m     \u001b[37mRunning\u001b[0m     \u001b[33m0\u001b[0m             \u001b[36m25m\u001b[0m\n",
      "\u001b[36mairflow\u001b[0m                    \u001b[32mairflow-pgbouncer-8b55bf9b9-tz7sv\u001b[0m                                                        \u001b[35m1/1\u001b[0m     \u001b[37mRunning\u001b[0m     \u001b[33m0\u001b[0m             \u001b[36m24m\u001b[0m\n",
      "\u001b[36mairflow\u001b[0m                    \u001b[32mairflow-redis-master-0\u001b[0m                                                                   \u001b[35m1/1\u001b[0m     \u001b[37mRunning\u001b[0m     \u001b[33m0\u001b[0m             \u001b[36m24m\u001b[0m\n",
      "\u001b[36mairflow\u001b[0m                    \u001b[32mairflow-scheduler-6b87968c95-fz9h5\u001b[0m                                                       \u001b[35m1/1\u001b[0m     \u001b[37mRunning\u001b[0m     \u001b[33m0\u001b[0m             \u001b[36m25m\u001b[0m\n",
      "\u001b[36mairflow\u001b[0m                    \u001b[32mairflow-sync-connections-5f878b687d-k4vlb\u001b[0m                                                \u001b[35m1/1\u001b[0m     \u001b[37mRunning\u001b[0m     \u001b[33m0\u001b[0m             \u001b[36m25m\u001b[0m\n",
      "\u001b[36mairflow\u001b[0m                    \u001b[32mairflow-sync-users-68995d58b4-8btfm\u001b[0m                                                      \u001b[35m1/1\u001b[0m     \u001b[37mRunning\u001b[0m     \u001b[33m0\u001b[0m             \u001b[36m25m\u001b[0m\n",
      "\u001b[36mairflow\u001b[0m                    \u001b[32mairflow-sync-variables-5bb77757b4-6f9bk\u001b[0m                                                  \u001b[35m1/1\u001b[0m     \u001b[37mRunning\u001b[0m     \u001b[33m0\u001b[0m             \u001b[36m25m\u001b[0m\n",
      "\u001b[36mairflow\u001b[0m                    \u001b[32mairflow-triggerer-86b9f4c4b9-fsxk6\u001b[0m                                                       \u001b[35m1/1\u001b[0m     \u001b[37mRunning\u001b[0m     \u001b[33m0\u001b[0m             \u001b[36m25m\u001b[0m\n",
      "\u001b[36mairflow\u001b[0m                    \u001b[32mairflow-web-79fd5555c4-qqdcg\u001b[0m                                                             \u001b[35m1/1\u001b[0m     \u001b[37mRunning\u001b[0m     \u001b[33m0\u001b[0m             \u001b[36m25m\u001b[0m\n",
      "\u001b[36mairflow\u001b[0m                    \u001b[32mairflow-worker-0\u001b[0m                                                                         \u001b[35m1/1\u001b[0m     \u001b[37mRunning\u001b[0m     \u001b[33m0\u001b[0m             \u001b[36m25m\u001b[0m\n",
      "\u001b[36margocd\u001b[0m                     \u001b[32margocd-application-controller-0\u001b[0m                                                          \u001b[35m1/1\u001b[0m     \u001b[37mRunning\u001b[0m     \u001b[33m0\u001b[0m             \u001b[36m24m\u001b[0m\n",
      "\u001b[36margocd\u001b[0m                     \u001b[32margocd-applicationset-controller-66c9b84df4-z8bpd\u001b[0m                                        \u001b[35m1/1\u001b[0m     \u001b[37mRunning\u001b[0m     \u001b[33m0\u001b[0m             \u001b[36m25m\u001b[0m\n",
      "\u001b[36margocd\u001b[0m                     \u001b[32margocd-dex-server-5df4cc4565-sh4c4\u001b[0m                                                       \u001b[35m1/1\u001b[0m     \u001b[37mRunning\u001b[0m     \u001b[33m0\u001b[0m             \u001b[36m25m\u001b[0m\n",
      "\u001b[36margocd\u001b[0m                     \u001b[32margocd-notifications-controller-6f54fd9856-zzz8h\u001b[0m                                         \u001b[35m1/1\u001b[0m     \u001b[37mRunning\u001b[0m     \u001b[33m0\u001b[0m             \u001b[36m25m\u001b[0m\n",
      "\u001b[36margocd\u001b[0m                     \u001b[32margocd-redis-75ddd9dfbd-249qh\u001b[0m                                                            \u001b[35m1/1\u001b[0m     \u001b[37mRunning\u001b[0m     \u001b[33m0\u001b[0m             \u001b[36m24m\u001b[0m\n",
      "\u001b[36margocd\u001b[0m                     \u001b[32margocd-repo-server-86448f84fb-8pnzf\u001b[0m                                                      \u001b[35m1/1\u001b[0m     \u001b[37mRunning\u001b[0m     \u001b[33m0\u001b[0m             \u001b[36m25m\u001b[0m\n",
      "\u001b[36margocd\u001b[0m                     \u001b[32margocd-server-8549d6695c-ddvl8\u001b[0m                                                           \u001b[35m1/1\u001b[0m     \u001b[37mRunning\u001b[0m     \u001b[33m0\u001b[0m             \u001b[36m24m\u001b[0m\n",
      "\u001b[36maws-glue\u001b[0m                   \u001b[32maws-glue-jupyter-7bfb5f947f-hvl6p\u001b[0m                                                        \u001b[35m3/3\u001b[0m     \u001b[37mRunning\u001b[0m     \u001b[33m0\u001b[0m             \u001b[36m25m\u001b[0m\n",
      "\u001b[36mcert-manager\u001b[0m               \u001b[32mcert-manager-6c69f9f796-wh5sc\u001b[0m                                                            \u001b[35m1/1\u001b[0m     \u001b[37mRunning\u001b[0m     \u001b[33m0\u001b[0m             \u001b[36m25m\u001b[0m\n",
      "\u001b[36mcert-manager\u001b[0m               \u001b[32mcert-manager-cainjector-584f44558c-bddqx\u001b[0m                                                 \u001b[35m1/1\u001b[0m     \u001b[37mRunning\u001b[0m     \u001b[33m1\u001b[0m             \u001b[36m107m\u001b[0m\n",
      "\u001b[36mcert-manager\u001b[0m               \u001b[32mcert-manager-webhook-76f9945d6f-gwlr6\u001b[0m                                                    \u001b[35m1/1\u001b[0m     \u001b[37mRunning\u001b[0m     \u001b[33m0\u001b[0m             \u001b[36m25m\u001b[0m\n",
      "\u001b[36mcommander\u001b[0m                  \u001b[32mjupyter-server-589c46c7d-5jjvm\u001b[0m                                                           \u001b[35m1/1\u001b[0m     \u001b[37mRunning\u001b[0m     \u001b[33m0\u001b[0m             \u001b[36m25m\u001b[0m\n",
      "\u001b[36mcommander\u001b[0m                  \u001b[32mtunnel-server-79fc7576b6-kddcs\u001b[0m                                                           \u001b[35m1/1\u001b[0m     \u001b[37mRunning\u001b[0m     \u001b[33m0\u001b[0m             \u001b[36m24m\u001b[0m\n",
      "\u001b[36mdatahub\u001b[0m                    \u001b[32mdatahub-acryl-datahub-actions-56d59dc5f5-779dh\u001b[0m                                           \u001b[35m1/1\u001b[0m     \u001b[37mRunning\u001b[0m     \u001b[33m3\u001b[0m             \u001b[36m13h\u001b[0m\n",
      "\u001b[36mdatahub\u001b[0m                    \u001b[32mdatahub-datahub-frontend-7545898455-blztv\u001b[0m                                                \u001b[35m1/1\u001b[0m     \u001b[37mRunning\u001b[0m     \u001b[33m5 (23m ago)\u001b[0m   \u001b[36m25m\u001b[0m\n",
      "\u001b[36mdatahub\u001b[0m                    \u001b[32mdatahub-datahub-gms-6464489876-hpp5v\u001b[0m                                                     \u001b[35m1/1\u001b[0m     \u001b[37mRunning\u001b[0m     \u001b[33m4\u001b[0m             \u001b[36m13h\u001b[0m\n",
      "\u001b[36mdatahub\u001b[0m                    \u001b[32mdatahub-datahub-system-update-job-t4bv8\u001b[0m                                                  \u001b[33m0/1\u001b[0m     \u001b[37mCompleted\u001b[0m   \u001b[33m0\u001b[0m             \u001b[36m13h\u001b[0m\n",
      "\u001b[36mdatahub\u001b[0m                    \u001b[32mdatahub-elasticsearch-setup-job-5wknp\u001b[0m                                                    \u001b[33m0/1\u001b[0m     \u001b[37mCompleted\u001b[0m   \u001b[33m0\u001b[0m             \u001b[36m14h\u001b[0m\n",
      "\u001b[36mdatahub\u001b[0m                    \u001b[32mdatahub-kafka-setup-job-z54pm\u001b[0m                                                            \u001b[33m0/1\u001b[0m     \u001b[37mCompleted\u001b[0m   \u001b[33m0\u001b[0m             \u001b[36m14h\u001b[0m\n",
      "\u001b[36mdatahub\u001b[0m                    \u001b[32mdatahub-postgresql-setup-job-rcfvs\u001b[0m                                                       \u001b[33m0/1\u001b[0m     \u001b[37mCompleted\u001b[0m   \u001b[33m0\u001b[0m             \u001b[36m13h\u001b[0m\n",
      "\u001b[36mdatahub\u001b[0m                    \u001b[32melasticsearch-master-0\u001b[0m                                                                   \u001b[35m1/1\u001b[0m     \u001b[37mRunning\u001b[0m     \u001b[33m2\u001b[0m             \u001b[36m14h\u001b[0m\n",
      "\u001b[36mdatahub\u001b[0m                    \u001b[32mprerequisites-kafka-0\u001b[0m                                                                    \u001b[35m1/1\u001b[0m     \u001b[37mRunning\u001b[0m     \u001b[33m4 (22m ago)\u001b[0m   \u001b[36m24m\u001b[0m\n",
      "\u001b[36mdatahub\u001b[0m                    \u001b[32mprerequisites-zookeeper-0\u001b[0m                                                                \u001b[35m1/1\u001b[0m     \u001b[37mRunning\u001b[0m     \u001b[33m0\u001b[0m             \u001b[36m24m\u001b[0m\n",
      "\u001b[36melasticsearch\u001b[0m              \u001b[32melasticsearch-coordinating-0\u001b[0m                                                             \u001b[35m1/1\u001b[0m     \u001b[37mRunning\u001b[0m     \u001b[33m2\u001b[0m             \u001b[36m14h\u001b[0m\n",
      "\u001b[36melasticsearch\u001b[0m              \u001b[32melasticsearch-coordinating-1\u001b[0m                                                             \u001b[35m1/1\u001b[0m     \u001b[37mRunning\u001b[0m     \u001b[33m0\u001b[0m             \u001b[36m24m\u001b[0m\n",
      "\u001b[36melasticsearch\u001b[0m              \u001b[32melasticsearch-data-0\u001b[0m                                                                     \u001b[35m1/1\u001b[0m     \u001b[37mRunning\u001b[0m     \u001b[33m2\u001b[0m             \u001b[36m14h\u001b[0m\n",
      "\u001b[36melasticsearch\u001b[0m              \u001b[32melasticsearch-data-1\u001b[0m                                                                     \u001b[35m1/1\u001b[0m     \u001b[37mRunning\u001b[0m     \u001b[33m0\u001b[0m             \u001b[36m24m\u001b[0m\n",
      "\u001b[36melasticsearch\u001b[0m              \u001b[32melasticsearch-ingest-0\u001b[0m                                                                   \u001b[35m1/1\u001b[0m     \u001b[37mRunning\u001b[0m     \u001b[33m0\u001b[0m             \u001b[36m24m\u001b[0m\n",
      "\u001b[36melasticsearch\u001b[0m              \u001b[32melasticsearch-ingest-1\u001b[0m                                                                   \u001b[35m1/1\u001b[0m     \u001b[37mRunning\u001b[0m     \u001b[33m2\u001b[0m             \u001b[36m14h\u001b[0m\n",
      "\u001b[36melasticsearch\u001b[0m              \u001b[32melasticsearch-master-0\u001b[0m                                                                   \u001b[35m1/1\u001b[0m     \u001b[37mRunning\u001b[0m     \u001b[33m2\u001b[0m             \u001b[36m14h\u001b[0m\n",
      "\u001b[36melasticsearch\u001b[0m              \u001b[32melasticsearch-master-1\u001b[0m                                                                   \u001b[35m1/1\u001b[0m     \u001b[37mRunning\u001b[0m     \u001b[33m0\u001b[0m             \u001b[36m24m\u001b[0m\n",
      "\u001b[36mhive\u001b[0m                       \u001b[32mhive-metastore-74dc686bbd-fs7sq\u001b[0m                                                          \u001b[35m1/1\u001b[0m     \u001b[37mRunning\u001b[0m     \u001b[33m0\u001b[0m             \u001b[36m25m\u001b[0m\n",
      "\u001b[36mingress-nginx\u001b[0m              \u001b[32mingress-nginx-admission-create-g6bzz\u001b[0m                                                     \u001b[33m0/1\u001b[0m     \u001b[37mCompleted\u001b[0m   \u001b[33m0\u001b[0m             \u001b[36m16h\u001b[0m\n",
      "\u001b[36mingress-nginx\u001b[0m              \u001b[32mingress-nginx-admission-patch-59hmt\u001b[0m                                                      \u001b[33m0/1\u001b[0m     \u001b[37mCompleted\u001b[0m   \u001b[33m1\u001b[0m             \u001b[36m16h\u001b[0m\n",
      "\u001b[36mingress-nginx\u001b[0m              \u001b[32mingress-nginx-controller-84945f6d87-dsw4n\u001b[0m                                                \u001b[35m1/1\u001b[0m     \u001b[37mRunning\u001b[0m     \u001b[33m2\u001b[0m             \u001b[36m14h\u001b[0m\n",
      "\u001b[36mjfrog\u001b[0m                      \u001b[32mjfrog-artifactory-jcr-0\u001b[0m                                                                  \u001b[35m6/6\u001b[0m     \u001b[37mRunning\u001b[0m     \u001b[33m0\u001b[0m             \u001b[36m24m\u001b[0m\n",
      "\u001b[36mk8s-replicator\u001b[0m             \u001b[32mkubernetes-replicator-85c7d9f464-qrtbz\u001b[0m                                                   \u001b[35m1/1\u001b[0m     \u001b[37mRunning\u001b[0m     \u001b[33m0\u001b[0m             \u001b[36m25m\u001b[0m\n",
      "\u001b[36mkafka-main-cluster\u001b[0m         \u001b[32mmain-entity-operator-5bd9cdc9b6-vks2t\u001b[0m                                                    \u001b[35m2/2\u001b[0m     \u001b[37mRunning\u001b[0m     \u001b[33m2 (20m ago)\u001b[0m   \u001b[36m20m\u001b[0m\n",
      "\u001b[36mkafka-main-cluster\u001b[0m         \u001b[32mmain-kafka-0\u001b[0m                                                                             \u001b[35m1/1\u001b[0m     \u001b[37mRunning\u001b[0m     \u001b[33m0\u001b[0m             \u001b[36m20m\u001b[0m\n",
      "\u001b[36mkafka-main-cluster\u001b[0m         \u001b[32mmain-registry-schema-registry-0\u001b[0m                                                          \u001b[35m1/1\u001b[0m     \u001b[37mRunning\u001b[0m     \u001b[33m0\u001b[0m             \u001b[36m20m\u001b[0m\n",
      "\u001b[36mkafka-main-cluster\u001b[0m         \u001b[32mmain-zookeeper-0\u001b[0m                                                                         \u001b[35m1/1\u001b[0m     \u001b[37mRunning\u001b[0m     \u001b[33m0\u001b[0m             \u001b[36m21m\u001b[0m\n",
      "\u001b[36mkafka-main-cluster\u001b[0m         \u001b[32mmy-bridge-bridge-6c9d4c855b-pmktx\u001b[0m                                                        \u001b[35m1/1\u001b[0m     \u001b[37mRunning\u001b[0m     \u001b[33m0\u001b[0m             \u001b[36m20m\u001b[0m\n",
      "\u001b[36mkafka-main-cluster\u001b[0m         \u001b[32mmy-connect-connect-0\u001b[0m                                                                     \u001b[35m1/1\u001b[0m     \u001b[37mRunning\u001b[0m     \u001b[33m0\u001b[0m             \u001b[36m20m\u001b[0m\n",
      "\u001b[36mkafka\u001b[0m                      \u001b[32mkafka-ui-646c544498-trdzg\u001b[0m                                                                \u001b[35m1/1\u001b[0m     \u001b[37mRunning\u001b[0m     \u001b[33m0\u001b[0m             \u001b[36m15m\u001b[0m\n",
      "\u001b[36mkafka\u001b[0m                      \u001b[32mredpandas-console-765cf9b5dc-kh9qm\u001b[0m                                                       \u001b[35m1/1\u001b[0m     \u001b[37mRunning\u001b[0m     \u001b[33m0\u001b[0m             \u001b[36m15m\u001b[0m\n",
      "\u001b[36mkafka\u001b[0m                      \u001b[32mstrimzi-cluster-operator-768d955cd9-w9rxr\u001b[0m                                                \u001b[35m1/1\u001b[0m     \u001b[37mRunning\u001b[0m     \u001b[33m0\u001b[0m             \u001b[36m24m\u001b[0m\n",
      "\u001b[36mkeycloak\u001b[0m                   \u001b[32mmy-release-keycloak-0\u001b[0m                                                                    \u001b[35m1/1\u001b[0m     \u001b[37mRunning\u001b[0m     \u001b[33m0\u001b[0m             \u001b[36m24m\u001b[0m\n",
      "\u001b[36mkube-system\u001b[0m                \u001b[32mcoredns-5dd5756b68-48fm2\u001b[0m                                                                 \u001b[35m1/1\u001b[0m     \u001b[37mRunning\u001b[0m     \u001b[33m3\u001b[0m             \u001b[36m16h\u001b[0m\n",
      "\u001b[36mkube-system\u001b[0m                \u001b[32metcd-cluster2\u001b[0m                                                                            \u001b[35m1/1\u001b[0m     \u001b[37mRunning\u001b[0m     \u001b[33m3\u001b[0m             \u001b[36m16h\u001b[0m\n",
      "\u001b[36mkube-system\u001b[0m                \u001b[32mkindnet-44fz6\u001b[0m                                                                            \u001b[35m1/1\u001b[0m     \u001b[37mRunning\u001b[0m     \u001b[33m0\u001b[0m             \u001b[36m21m\u001b[0m\n",
      "\u001b[36mkube-system\u001b[0m                \u001b[32mkindnet-5khn5\u001b[0m                                                                            \u001b[35m1/1\u001b[0m     \u001b[37mRunning\u001b[0m     \u001b[33m0\u001b[0m             \u001b[36m21m\u001b[0m\n",
      "\u001b[36mkube-system\u001b[0m                \u001b[32mkindnet-cm7mj\u001b[0m                                                                            \u001b[35m1/1\u001b[0m     \u001b[37mRunning\u001b[0m     \u001b[33m0\u001b[0m             \u001b[36m21m\u001b[0m\n",
      "\u001b[36mkube-system\u001b[0m                \u001b[32mkindnet-kmjbl\u001b[0m                                                                            \u001b[35m1/1\u001b[0m     \u001b[37mRunning\u001b[0m     \u001b[33m0\u001b[0m             \u001b[36m21m\u001b[0m\n",
      "\u001b[36mkube-system\u001b[0m                \u001b[32mkube-apiserver-cluster2\u001b[0m                                                                  \u001b[35m1/1\u001b[0m     \u001b[37mRunning\u001b[0m     \u001b[33m3\u001b[0m             \u001b[36m16h\u001b[0m\n",
      "\u001b[36mkube-system\u001b[0m                \u001b[32mkube-controller-manager-cluster2\u001b[0m                                                         \u001b[35m1/1\u001b[0m     \u001b[37mRunning\u001b[0m     \u001b[33m4 (26m ago)\u001b[0m   \u001b[36m16h\u001b[0m\n",
      "\u001b[36mkube-system\u001b[0m                \u001b[32mkube-proxy-ck4z6\u001b[0m                                                                         \u001b[35m1/1\u001b[0m     \u001b[37mRunning\u001b[0m     \u001b[33m3 (25m ago)\u001b[0m   \u001b[36m16h\u001b[0m\n",
      "\u001b[36mkube-system\u001b[0m                \u001b[32mkube-proxy-l278c\u001b[0m                                                                         \u001b[35m1/1\u001b[0m     \u001b[37mRunning\u001b[0m     \u001b[33m3 (24m ago)\u001b[0m   \u001b[36m16h\u001b[0m\n",
      "\u001b[36mkube-system\u001b[0m                \u001b[32mkube-proxy-p8lkm\u001b[0m                                                                         \u001b[35m1/1\u001b[0m     \u001b[37mRunning\u001b[0m     \u001b[33m3\u001b[0m             \u001b[36m16h\u001b[0m\n",
      "\u001b[36mkube-system\u001b[0m                \u001b[32mkube-proxy-x29zr\u001b[0m                                                                         \u001b[35m1/1\u001b[0m     \u001b[37mRunning\u001b[0m     \u001b[33m3\u001b[0m             \u001b[36m16h\u001b[0m\n",
      "\u001b[36mkube-system\u001b[0m                \u001b[32mkube-scheduler-cluster2\u001b[0m                                                                  \u001b[35m1/1\u001b[0m     \u001b[37mRunning\u001b[0m     \u001b[33m3\u001b[0m             \u001b[36m16h\u001b[0m\n",
      "\u001b[36mkube-system\u001b[0m                \u001b[32mmetrics-server-7c66d45ddc-8qc8l\u001b[0m                                                          \u001b[35m1/1\u001b[0m     \u001b[37mRunning\u001b[0m     \u001b[33m0\u001b[0m             \u001b[36m24m\u001b[0m\n",
      "\u001b[36mkube-system\u001b[0m                \u001b[32mstorage-provisioner\u001b[0m                                                                      \u001b[35m1/1\u001b[0m     \u001b[37mRunning\u001b[0m     \u001b[33m4 (25m ago)\u001b[0m   \u001b[36m16h\u001b[0m\n",
      "\u001b[36mkubernetes-dashboard\u001b[0m       \u001b[32mdashboard-metrics-scraper-7fd5cb4ddc-2klns\u001b[0m                                               \u001b[35m1/1\u001b[0m     \u001b[37mRunning\u001b[0m     \u001b[33m1\u001b[0m             \u001b[36m107m\u001b[0m\n",
      "\u001b[36mkubernetes-dashboard\u001b[0m       \u001b[32mkubernetes-dashboard-8694d4445c-c4gxx\u001b[0m                                                    \u001b[35m1/1\u001b[0m     \u001b[37mRunning\u001b[0m     \u001b[33m0\u001b[0m             \u001b[36m25m\u001b[0m\n",
      "\u001b[36mlocalstack\u001b[0m                 \u001b[32mlocalstack-f7bd7d54d-2cw2x\u001b[0m                                                               \u001b[35m1/1\u001b[0m     \u001b[37mRunning\u001b[0m     \u001b[33m1\u001b[0m             \u001b[36m107m\u001b[0m\n",
      "\u001b[36mmetabase\u001b[0m                   \u001b[32mmetabase-deployment-5c69689fc4-cxjjd\u001b[0m                                                     \u001b[35m1/1\u001b[0m     \u001b[37mRunning\u001b[0m     \u001b[33m0\u001b[0m             \u001b[36m24m\u001b[0m\n",
      "\u001b[36mmetallb-system\u001b[0m             \u001b[32mcontroller-7f75d4cbfb-28cgx\u001b[0m                                                              \u001b[35m1/1\u001b[0m     \u001b[37mRunning\u001b[0m     \u001b[33m1\u001b[0m             \u001b[36m107m\u001b[0m\n",
      "\u001b[36mmetallb-system\u001b[0m             \u001b[32mspeaker-kph77\u001b[0m                                                                            \u001b[35m1/1\u001b[0m     \u001b[37mRunning\u001b[0m     \u001b[33m3\u001b[0m             \u001b[36m16h\u001b[0m\n",
      "\u001b[36mmetallb-system\u001b[0m             \u001b[32mspeaker-mpnm5\u001b[0m                                                                            \u001b[35m1/1\u001b[0m     \u001b[37mRunning\u001b[0m     \u001b[33m3\u001b[0m             \u001b[36m16h\u001b[0m\n",
      "\u001b[36mmetallb-system\u001b[0m             \u001b[32mspeaker-rtpxj\u001b[0m                                                                            \u001b[35m1/1\u001b[0m     \u001b[37mRunning\u001b[0m     \u001b[33m3 (25m ago)\u001b[0m   \u001b[36m16h\u001b[0m\n",
      "\u001b[36mmetallb-system\u001b[0m             \u001b[32mspeaker-xsgwz\u001b[0m                                                                            \u001b[35m1/1\u001b[0m     \u001b[37mRunning\u001b[0m     \u001b[33m3 (24m ago)\u001b[0m   \u001b[36m16h\u001b[0m\n",
      "\u001b[36mminio-operator\u001b[0m             \u001b[32mconsole-75dc7dc944-5h8j7\u001b[0m                                                                 \u001b[35m1/1\u001b[0m     \u001b[37mRunning\u001b[0m     \u001b[33m0\u001b[0m             \u001b[36m25m\u001b[0m\n",
      "\u001b[36mminio-operator\u001b[0m             \u001b[32mminio-operator-5fb57dcdd5-fkchl\u001b[0m                                                          \u001b[35m1/1\u001b[0m     \u001b[37mRunning\u001b[0m     \u001b[33m2\u001b[0m             \u001b[36m14h\u001b[0m\n",
      "\u001b[36mminio-operator\u001b[0m             \u001b[32mminio-operator-5fb57dcdd5-z4bwc\u001b[0m                                                          \u001b[35m1/1\u001b[0m     \u001b[37mRunning\u001b[0m     \u001b[33m0\u001b[0m             \u001b[36m25m\u001b[0m\n",
      "\u001b[36mminio-tenant-1\u001b[0m             \u001b[32mminio-tenant-1-ss-0-0\u001b[0m                                                                    \u001b[35m2/2\u001b[0m     \u001b[37mRunning\u001b[0m     \u001b[33m0\u001b[0m             \u001b[36m24m\u001b[0m\n",
      "\u001b[36mminio-tenant-1\u001b[0m             \u001b[32mminio-tenant-1-ss-0-1\u001b[0m                                                                    \u001b[35m2/2\u001b[0m     \u001b[37mRunning\u001b[0m     \u001b[33m0\u001b[0m             \u001b[36m24m\u001b[0m\n",
      "\u001b[36mminio-tenant-1\u001b[0m             \u001b[32mminio-tenant-1-ss-0-2\u001b[0m                                                                    \u001b[35m2/2\u001b[0m     \u001b[37mRunning\u001b[0m     \u001b[33m4\u001b[0m             \u001b[36m14h\u001b[0m\n",
      "\u001b[36mmongodb\u001b[0m                    \u001b[32mmongodb-kubernetes-operator-bf56d5578-wq2l4\u001b[0m                                              \u001b[35m1/1\u001b[0m     \u001b[37mRunning\u001b[0m     \u001b[33m1\u001b[0m             \u001b[36m107m\u001b[0m\n",
      "\u001b[36mmysql\u001b[0m                      \u001b[32mmy-release-mysql-0\u001b[0m                                                                       \u001b[35m1/1\u001b[0m     \u001b[37mRunning\u001b[0m     \u001b[33m0\u001b[0m             \u001b[36m25m\u001b[0m\n",
      "\u001b[36mnfs-external-provisioner\u001b[0m   \u001b[32mnfs-subdir-external-provisioner-78f9d66b78-669xg\u001b[0m                                         \u001b[35m1/1\u001b[0m     \u001b[37mRunning\u001b[0m     \u001b[33m0\u001b[0m             \u001b[36m24m\u001b[0m\n",
      "\u001b[36mopenmetadata\u001b[0m               \u001b[32mopenmetadata-664b4bd67c-wcvnv\u001b[0m                                                            \u001b[35m1/1\u001b[0m     \u001b[37mRunning\u001b[0m     \u001b[33m0\u001b[0m             \u001b[36m25m\u001b[0m\n",
      "\u001b[36mpostgres\u001b[0m                   \u001b[32mpostgres-postgresql-0\u001b[0m                                                                    \u001b[35m1/1\u001b[0m     \u001b[37mRunning\u001b[0m     \u001b[33m0\u001b[0m             \u001b[36m25m\u001b[0m\n",
      "\u001b[36msqlserver\u001b[0m                  \u001b[32mmssqlserver-2022-97999577d-4bbkz\u001b[0m                                                         \u001b[35m1/1\u001b[0m     \u001b[37mRunning\u001b[0m     \u001b[33m0\u001b[0m             \u001b[36m24m\u001b[0m\n",
      "\u001b[36mtrino\u001b[0m                      \u001b[32mtrino-coordinator-dbbbcf9d9-wlrrm\u001b[0m                                                        \u001b[35m1/1\u001b[0m     \u001b[37mRunning\u001b[0m     \u001b[33m2\u001b[0m             \u001b[36m14h\u001b[0m\n",
      "\u001b[36mtrino\u001b[0m                      \u001b[32mtrino-worker-6c58b678cc-lsgcx\u001b[0m                                                            \u001b[35m1/1\u001b[0m     \u001b[37mRunning\u001b[0m     \u001b[33m0\u001b[0m             \u001b[36m25m\u001b[0m\n",
      "\u001b[36mtrino\u001b[0m                      \u001b[32mtrino-worker-6c58b678cc-w59kb\u001b[0m                                                            \u001b[35m1/1\u001b[0m     \u001b[37mRunning\u001b[0m     \u001b[33m2\u001b[0m             \u001b[36m14h\u001b[0m\n",
      "\u001b[36mzeppelin\u001b[0m                   \u001b[32mjupyter-server-6fb8f7dcbc-bhmrf\u001b[0m                                                          \u001b[35m1/1\u001b[0m     \u001b[37mRunning\u001b[0m     \u001b[33m0\u001b[0m             \u001b[36m25m\u001b[0m\n",
      "\u001b[36mzeppelin\u001b[0m                   \u001b[32mmd-eaczai\u001b[0m                                                                                \u001b[35m1/1\u001b[0m     \u001b[37mRunning\u001b[0m     \u001b[33m0\u001b[0m             \u001b[36m83s\u001b[0m\n",
      "\u001b[36mzeppelin\u001b[0m                   \u001b[32morg-apache-zeppelin-interpreter-remote-remoteinterpreterserver-69547a8da775c2ef-exec-2\u001b[0m   \u001b[35m1/1\u001b[0m     \u001b[37mRunning\u001b[0m     \u001b[33m0\u001b[0m             \u001b[36m66s\u001b[0m\n",
      "\u001b[36mzeppelin\u001b[0m                   \u001b[32msh-ayndug\u001b[0m                                                                                \u001b[35m1/1\u001b[0m     \u001b[37mRunning\u001b[0m     \u001b[33m0\u001b[0m             \u001b[36m80s\u001b[0m\n",
      "\u001b[36mzeppelin\u001b[0m                   \u001b[32mspark-cudnyl\u001b[0m                                                                             \u001b[35m1/1\u001b[0m     \u001b[37mRunning\u001b[0m     \u001b[33m0\u001b[0m             \u001b[36m2m31s\u001b[0m\n",
      "\u001b[36mzeppelin\u001b[0m                   \u001b[32mzeppelin-server-5d75d4f9d5-hxq99\u001b[0m                                                         \u001b[35m3/3\u001b[0m     \u001b[37mRunning\u001b[0m     \u001b[33m0\u001b[0m             \u001b[36m24m\u001b[0m\n"
     ]
    }
   ],
   "source": [
    "!kubecolor get pods -A"
   ]
  },
  {
   "cell_type": "markdown",
   "id": "cce3ae0c-37fb-49a1-83ab-b5ed709c366f",
   "metadata": {},
   "source": [
    "# Java Keystore\n",
    "   * https://en.wikipedia.org/wiki/Java_KeyStore\n",
    "\n",
    "Used in Kafka Connect to establish a SSL connection with Minio\n",
    "\n",
    "  * https://github.com/rogeriomm/labtools-k8s/blob/54c12b6c53d8184e3070ea00ec4670182f66e9a4/install/install.sh#L64"
   ]
  },
  {
   "cell_type": "code",
   "execution_count": 16,
   "id": "19402d44-6b03-4e97-b759-28654a0076dc",
   "metadata": {},
   "outputs": [
    {
     "name": "stdout",
     "output_type": "stream",
     "text": [
      "Keystore type: PKCS12\n",
      "Keystore provider: SUN\n",
      "\n",
      "Your keystore contains 1 entry\n",
      "\n",
      "ca, Feb 15, 2024, trustedCertEntry, \n",
      "Certificate fingerprint (SHA-256): 8B:C0:CC:51:51:9C:5B:AD:93:78:E7:00:46:4D:CD:E6:83:94:DD:A3:57:17:00:A8:96:39:C5:BF:71:08:F6:FE\n"
     ]
    }
   ],
   "source": [
    "!kubectl -n kube-system get secret cluster-truststore-jks -o jsonpath='{.data.cluster\\.truststore\\.jks}' | base64 --decode > /tmp/truststore.jks && \\\n",
    " keytool -list -keystore /tmp/truststore.jks -storepass 123456\n"
   ]
  },
  {
   "cell_type": "code",
   "execution_count": 18,
   "id": "8406e628-46e0-42c1-8890-b9453ff6b437",
   "metadata": {
    "scrolled": true
   },
   "outputs": [
    {
     "name": "stdout",
     "output_type": "stream",
     "text": [
      "\u001b[36mapiVersion\u001b[0m:\u001b[32m v1\u001b[0m\n",
      "\u001b[32m\u001b[0m\u001b[36mdata\u001b[0m:\u001b[36m\u001b[0m\n",
      "\u001b[36m  cluster.truststore.jks\u001b[0m:\u001b[32m MIIEcgIBAzCCBBwGCSqGSIb3DQEHAaCCBA0EggQJMIIEBTCCBAEGCSqGSIb3DQEHBqCCA/IwggPuAgEAMIID5wYJKoZIhvcNAQcBMGYGCSqGSIb3DQEFDTBZMDgGCSqGSIb3DQEFDDArBBRYTDNOSeBaU18+PDYC0AuXOoU4yQICJxACASAwDAYIKoZIhvcNAgkFADAdBglghkgBZQMEASoEEL6+IJaYVLJA65oX/E5ZSFaAggNwaED9aWOo8U3mcxUDHrX12hPylWFZbPz2i/meWE+etDmhMe4X9pbfgYw5Dy8kxmCuwjzmkCXU3htLI0N7gjbJOQ2/XQMOUEv/+tCmsefRXXXSv2Kq4w/rp/TfjaHlPMtosVcRbDM+7y9sYajZvTmn63+9vlyHq1Bi8EbpO7qPvHFzkRLsr7u+bOXeUwVt2bl7tjIqVLZ1xFykuAwEpsYRz/WjqRzxQj+Ksoo5fjl1URC4ycLNHnBYIdaRW1GSpfnY9Kw/aVxUHjDWtPNbYGd+QI33kRHQKH4Am7N5XZxxeubihsJQVn8zzjd8Cnpe9RfjbruzIKpaTLJh4d6Gx1+0Vlwy5cmrD67Jcdl3wibHilUo1/TovD90lZlcmsCo8tz7n1Ggxqtyv663yx1quJ/LymyQPjmvxOJsmOu2dBdJ9NqGIVQSE9dMAKOe2j5U+uQ9CnrnW3fXj0g13K0jBlOymifx21IWNQEw0N2AKVg9RkttKG+OG/MUbbWvUATajmNhu0CX0glFBWKpxEMUNAtHgr1xRWhkDfyHJYjNe9jhzyZgQbWhmiCWmu7+SBWaKltdLctIzay7cWOV2TwDsfpJB8wS+wZis2XLSqTHTf/L4P/QyuXPF+95bd82R1Cbkn2GUXC0nt5IXWuQ24+2gEi4nLgm5vOu39/SJjacQ+TH04F4rZ2ETuvVJ7CsVZrtorPOJTThf7/j/PLUPQ2IJCazjFL4dYHS5Y4Yqdr1NrYzmuVX6QSi2WWVvgQ6L7ggEZyo+TOWk/24MCIOV0OXwIFVU06GVBNwYCgb6P73pkcGAkvAEHULC3+N2SymE2g12oF1jrqU8fwcgdyve/ItxwU/YyJPhwv2CJCNGGsoycyJ56ehbO1PWrBQ/cha9UzVhPvWIRJ7fcm5PkigoOBm+E8Ckdl9+ley8l/6IpmJZ1kFi3oBj19UjLxM01iTizYXfgkkE5ei21DYtedElu030hPU40q1nxtqc7SvQBtxfd9yYbOIfW6W7QeInjbXeuyzWSGj0qa+cXWjbbj/04ad1Xz+bxi61TNQFjoMLPhp347KRWNb3s8kIp6PEMF48ksyyBqcrCBRWQqnnF0Ddgsdh8xHCVk5VtaJoR6ra4DWPFVQvzJwqj7B1YJvpbyFyi/9kw0jOxpo8x8X5B9MXVBxauis/TBNMDEwDQYJYIZIAWUDBAIBBQAEIPOdMkAJzB0ecUiUQT7yCcfc9ejYH7BwM/YOJs2Yp1BjBBSPuhdBBUaMlvNt/iKqMP87uu2mDgICJxA=\u001b[0m\n",
      "\u001b[32m\u001b[0m\u001b[36mkind\u001b[0m:\u001b[32m Secret\u001b[0m\n",
      "\u001b[32m\u001b[0m\u001b[36mmetadata\u001b[0m:\u001b[36m\u001b[0m\n",
      "\u001b[36m  annotations\u001b[0m:\u001b[36m\u001b[0m\n",
      "\u001b[36m    replicator.v1.mittwald.de/replicated-at\u001b[0m:\u001b[32m \"2024-02-15T19:48:07Z\"\u001b[0m\u001b[36m\u001b[0m\n",
      "\u001b[36m    replicator.v1.mittwald.de/replicated-from-version\u001b[0m:\u001b[32m \"1885212\"\u001b[0m\u001b[36m\u001b[0m\n",
      "\u001b[36m    replicator.v1.mittwald.de/replicated-keys\u001b[0m:\u001b[32m cluster.truststore.jks\u001b[0m\n",
      "\u001b[32m  \u001b[0m\u001b[36mcreationTimestamp\u001b[0m:\u001b[32m \"2024-02-15T19:48:07Z\"\u001b[0m\u001b[36m\u001b[0m\n",
      "\u001b[36m  name\u001b[0m:\u001b[32m cluster-truststore-jks\u001b[0m\n",
      "\u001b[32m  \u001b[0m\u001b[36mnamespace\u001b[0m:\u001b[32m kafka-main-cluster\u001b[0m\n",
      "\u001b[32m  \u001b[0m\u001b[36mresourceVersion\u001b[0m:\u001b[32m \"1885213\"\u001b[0m\u001b[36m\u001b[0m\n",
      "\u001b[36m  uid\u001b[0m:\u001b[32m c547ea2a-eac1-4e55-9488-e554321f801f\u001b[0m\n",
      "\u001b[32m\u001b[0m\u001b[36mtype\u001b[0m:\u001b[32m Opaque\u001b[0m\n"
     ]
    }
   ],
   "source": [
    "!kubectl -n kafka-main-cluster get secret cluster-truststore-jks -o yaml | yq"
   ]
  },
  {
   "cell_type": "code",
   "execution_count": null,
   "id": "8be1c549-2022-4ff5-98da-78c1d0130983",
   "metadata": {},
   "outputs": [],
   "source": []
  }
 ],
 "metadata": {
  "kernelspec": {
   "display_name": "Python 3 (ipykernel)",
   "language": "python",
   "name": "python3"
  },
  "language_info": {
   "codemirror_mode": {
    "name": "ipython",
    "version": 3
   },
   "file_extension": ".py",
   "mimetype": "text/x-python",
   "name": "python",
   "nbconvert_exporter": "python",
   "pygments_lexer": "ipython3",
   "version": "3.10.13"
  }
 },
 "nbformat": 4,
 "nbformat_minor": 5
}
