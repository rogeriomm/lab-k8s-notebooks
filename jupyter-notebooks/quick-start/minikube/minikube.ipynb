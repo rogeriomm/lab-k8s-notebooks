{
 "cells": [
  {
   "cell_type": "code",
   "execution_count": 1,
   "id": "c1afbdd8-8e92-4a26-a5bc-95853f73655b",
   "metadata": {},
   "outputs": [
    {
     "name": "stdout",
     "output_type": "stream",
     "text": [
      "\u001b[37mNAME           CPU(cores)   CPU%   MEMORY(bytes)   MEMORY%   \u001b[0m\n",
      "\u001b[36mcluster2\u001b[0m       \u001b[32m457m\u001b[0m         \u001b[35m1%\u001b[0m     \u001b[37m9042Mi\u001b[0m          \u001b[33m10%\u001b[0m       \u001b[36m\u001b[0m\n",
      "\u001b[36mcluster2-m02\u001b[0m   \u001b[32m145m\u001b[0m         \u001b[35m0%\u001b[0m     \u001b[37m8353Mi\u001b[0m          \u001b[33m9%\u001b[0m        \u001b[36m\u001b[0m\n",
      "\u001b[36mcluster2-m03\u001b[0m   \u001b[32m172m\u001b[0m         \u001b[35m0%\u001b[0m     \u001b[37m5310Mi\u001b[0m          \u001b[33m5%\u001b[0m        \u001b[36m\u001b[0m\n",
      "\u001b[36mcluster2-m04\u001b[0m   \u001b[32m354m\u001b[0m         \u001b[35m1%\u001b[0m     \u001b[37m13825Mi\u001b[0m         \u001b[33m15%\u001b[0m       \u001b[36m\u001b[0m\n"
     ]
    }
   ],
   "source": [
    "!kubecolor top node"
   ]
  },
  {
   "cell_type": "code",
   "execution_count": 3,
   "id": "608226e1-c606-414e-ab7b-dfe1ab30eae2",
   "metadata": {},
   "outputs": [
    {
     "name": "stdout",
     "output_type": "stream",
     "text": [
      "\u001b[37mNAMESPACE                  NAME                                               READY   STATUS                  RESTARTS      AGE\u001b[0m\n",
      "\u001b[36mairflow\u001b[0m                    \u001b[32mairflow-db-migrations-7f96595484-mrr2s\u001b[0m             \u001b[33m0/1\u001b[0m     \u001b[37mInit:ImagePullBackOff\u001b[0m   \u001b[33m0\u001b[0m             \u001b[36m19m\u001b[0m\n",
      "\u001b[36mairflow\u001b[0m                    \u001b[32mairflow-flower-648c99f4f9-vjtjm\u001b[0m                    \u001b[33m0/1\u001b[0m     \u001b[37mInit:ImagePullBackOff\u001b[0m   \u001b[33m0\u001b[0m             \u001b[36m19m\u001b[0m\n",
      "\u001b[36mairflow\u001b[0m                    \u001b[32mairflow-pgbouncer-8b55bf9b9-h46q8\u001b[0m                  \u001b[35m1/1\u001b[0m     \u001b[37mRunning\u001b[0m                 \u001b[33m0\u001b[0m             \u001b[36m19m\u001b[0m\n",
      "\u001b[36mairflow\u001b[0m                    \u001b[32mairflow-redis-master-0\u001b[0m                             \u001b[35m1/1\u001b[0m     \u001b[37mRunning\u001b[0m                 \u001b[33m0\u001b[0m             \u001b[36m19m\u001b[0m\n",
      "\u001b[36mairflow\u001b[0m                    \u001b[32mairflow-scheduler-6b87968c95-h4x49\u001b[0m                 \u001b[33m0/1\u001b[0m     \u001b[37mInit:ImagePullBackOff\u001b[0m   \u001b[33m0\u001b[0m             \u001b[36m19m\u001b[0m\n",
      "\u001b[36mairflow\u001b[0m                    \u001b[32mairflow-sync-connections-5f878b687d-8mkg9\u001b[0m          \u001b[33m0/1\u001b[0m     \u001b[37mInit:ImagePullBackOff\u001b[0m   \u001b[33m0\u001b[0m             \u001b[36m19m\u001b[0m\n",
      "\u001b[36mairflow\u001b[0m                    \u001b[32mairflow-sync-users-68995d58b4-mxhn9\u001b[0m                \u001b[33m0/1\u001b[0m     \u001b[37mInit:ImagePullBackOff\u001b[0m   \u001b[33m0\u001b[0m             \u001b[36m19m\u001b[0m\n",
      "\u001b[36mairflow\u001b[0m                    \u001b[32mairflow-sync-variables-5bb77757b4-72rbk\u001b[0m            \u001b[33m0/1\u001b[0m     \u001b[37mInit:ImagePullBackOff\u001b[0m   \u001b[33m0\u001b[0m             \u001b[36m19m\u001b[0m\n",
      "\u001b[36mairflow\u001b[0m                    \u001b[32mairflow-triggerer-86b9f4c4b9-k2cf4\u001b[0m                 \u001b[33m0/1\u001b[0m     \u001b[37mInit:ImagePullBackOff\u001b[0m   \u001b[33m0\u001b[0m             \u001b[36m19m\u001b[0m\n",
      "\u001b[36mairflow\u001b[0m                    \u001b[32mairflow-web-79fd5555c4-z8bkx\u001b[0m                       \u001b[33m0/1\u001b[0m     \u001b[37mInit:ImagePullBackOff\u001b[0m   \u001b[33m0\u001b[0m             \u001b[36m19m\u001b[0m\n",
      "\u001b[36mairflow\u001b[0m                    \u001b[32mairflow-worker-0\u001b[0m                                   \u001b[33m0/1\u001b[0m     \u001b[37mInit:ImagePullBackOff\u001b[0m   \u001b[33m0\u001b[0m             \u001b[36m19m\u001b[0m\n",
      "\u001b[36margocd\u001b[0m                     \u001b[32margocd-application-controller-0\u001b[0m                    \u001b[35m1/1\u001b[0m     \u001b[37mRunning\u001b[0m                 \u001b[33m0\u001b[0m             \u001b[36m23m\u001b[0m\n",
      "\u001b[36margocd\u001b[0m                     \u001b[32margocd-applicationset-controller-cd8f748b-c6gjj\u001b[0m    \u001b[35m1/1\u001b[0m     \u001b[37mRunning\u001b[0m                 \u001b[33m0\u001b[0m             \u001b[36m23m\u001b[0m\n",
      "\u001b[36margocd\u001b[0m                     \u001b[32margocd-dex-server-6fdc49d789-7jgnd\u001b[0m                 \u001b[35m1/1\u001b[0m     \u001b[37mRunning\u001b[0m                 \u001b[33m0\u001b[0m             \u001b[36m23m\u001b[0m\n",
      "\u001b[36margocd\u001b[0m                     \u001b[32margocd-notifications-controller-6f54fd9856-t26gn\u001b[0m   \u001b[35m1/1\u001b[0m     \u001b[37mRunning\u001b[0m                 \u001b[33m0\u001b[0m             \u001b[36m23m\u001b[0m\n",
      "\u001b[36margocd\u001b[0m                     \u001b[32margocd-redis-75ddd9dfbd-sk6cj\u001b[0m                      \u001b[35m1/1\u001b[0m     \u001b[37mRunning\u001b[0m                 \u001b[33m0\u001b[0m             \u001b[36m23m\u001b[0m\n",
      "\u001b[36margocd\u001b[0m                     \u001b[32margocd-repo-server-75d959bdd4-8jb2k\u001b[0m                \u001b[35m1/1\u001b[0m     \u001b[37mRunning\u001b[0m                 \u001b[33m0\u001b[0m             \u001b[36m23m\u001b[0m\n",
      "\u001b[36margocd\u001b[0m                     \u001b[32margocd-server-786c58fd9-cwdtk\u001b[0m                      \u001b[35m1/1\u001b[0m     \u001b[37mRunning\u001b[0m                 \u001b[33m0\u001b[0m             \u001b[36m23m\u001b[0m\n",
      "\u001b[36maws-glue\u001b[0m                   \u001b[32maws-glue-jupyter-7bfb5f947f-pcdmr\u001b[0m                  \u001b[35m3/3\u001b[0m     \u001b[37mRunning\u001b[0m                 \u001b[33m0\u001b[0m             \u001b[36m23m\u001b[0m\n",
      "\u001b[36mcommander\u001b[0m                  \u001b[32mjupyter-server-589c46c7d-qp5ql\u001b[0m                     \u001b[35m1/1\u001b[0m     \u001b[37mRunning\u001b[0m                 \u001b[33m0\u001b[0m             \u001b[36m23m\u001b[0m\n",
      "\u001b[36mcommander\u001b[0m                  \u001b[32mtunnel-server-79fc7576b6-7rxvg\u001b[0m                     \u001b[35m1/1\u001b[0m     \u001b[37mRunning\u001b[0m                 \u001b[33m0\u001b[0m             \u001b[36m11m\u001b[0m\n",
      "\u001b[36mdatahub\u001b[0m                    \u001b[32mdatahub-acryl-datahub-actions-56d59dc5f5-dvxg5\u001b[0m     \u001b[35m1/1\u001b[0m     \u001b[37mRunning\u001b[0m                 \u001b[33m0\u001b[0m             \u001b[36m10m\u001b[0m\n",
      "\u001b[36mdatahub\u001b[0m                    \u001b[32mdatahub-datahub-frontend-7545898455-x7x25\u001b[0m          \u001b[35m1/1\u001b[0m     \u001b[37mRunning\u001b[0m                 \u001b[33m0\u001b[0m             \u001b[36m10m\u001b[0m\n",
      "\u001b[36mdatahub\u001b[0m                    \u001b[32mdatahub-datahub-gms-6464489876-hqbbz\u001b[0m               \u001b[35m1/1\u001b[0m     \u001b[37mRunning\u001b[0m                 \u001b[33m0\u001b[0m             \u001b[36m10m\u001b[0m\n",
      "\u001b[36mdatahub\u001b[0m                    \u001b[32mdatahub-datahub-system-update-job-5dlgs\u001b[0m            \u001b[33m0/1\u001b[0m     \u001b[37mCompleted\u001b[0m               \u001b[33m0\u001b[0m             \u001b[36m11m\u001b[0m\n",
      "\u001b[36mdatahub\u001b[0m                    \u001b[32mdatahub-elasticsearch-setup-job-bv2cx\u001b[0m              \u001b[33m0/1\u001b[0m     \u001b[37mCompleted\u001b[0m               \u001b[33m0\u001b[0m             \u001b[36m19m\u001b[0m\n",
      "\u001b[36mdatahub\u001b[0m                    \u001b[32mdatahub-kafka-setup-job-hgrqt\u001b[0m                      \u001b[33m0/1\u001b[0m     \u001b[37mCompleted\u001b[0m               \u001b[33m0\u001b[0m             \u001b[36m16m\u001b[0m\n",
      "\u001b[36mdatahub\u001b[0m                    \u001b[32mdatahub-nocode-migration-job-5smhp\u001b[0m                 \u001b[33m0/1\u001b[0m     \u001b[37mError\u001b[0m                   \u001b[33m0\u001b[0m             \u001b[36m10m\u001b[0m\n",
      "\u001b[36mdatahub\u001b[0m                    \u001b[32mdatahub-nocode-migration-job-dq76v\u001b[0m                 \u001b[33m0/1\u001b[0m     \u001b[37mError\u001b[0m                   \u001b[33m0\u001b[0m             \u001b[36m9m36s\u001b[0m\n",
      "\u001b[36mdatahub\u001b[0m                    \u001b[32mdatahub-nocode-migration-job-kmldx\u001b[0m                 \u001b[33m0/1\u001b[0m     \u001b[37mError\u001b[0m                   \u001b[33m0\u001b[0m             \u001b[36m8m27s\u001b[0m\n",
      "\u001b[36mdatahub\u001b[0m                    \u001b[32mdatahub-nocode-migration-job-tbzzj\u001b[0m                 \u001b[33m0/1\u001b[0m     \u001b[37mCompleted\u001b[0m               \u001b[33m0\u001b[0m             \u001b[36m7m2s\u001b[0m\n",
      "\u001b[36mdatahub\u001b[0m                    \u001b[32mdatahub-postgresql-setup-job-w4m4v\u001b[0m                 \u001b[33m0/1\u001b[0m     \u001b[37mCompleted\u001b[0m               \u001b[33m0\u001b[0m             \u001b[36m11m\u001b[0m\n",
      "\u001b[36mdatahub\u001b[0m                    \u001b[32melasticsearch-master-0\u001b[0m                             \u001b[35m1/1\u001b[0m     \u001b[37mRunning\u001b[0m                 \u001b[33m0\u001b[0m             \u001b[36m19m\u001b[0m\n",
      "\u001b[36mdatahub\u001b[0m                    \u001b[32mprerequisites-kafka-0\u001b[0m                              \u001b[35m1/1\u001b[0m     \u001b[37mRunning\u001b[0m                 \u001b[33m2 (13m ago)\u001b[0m   \u001b[36m19m\u001b[0m\n",
      "\u001b[36mdatahub\u001b[0m                    \u001b[32mprerequisites-zookeeper-0\u001b[0m                          \u001b[35m1/1\u001b[0m     \u001b[37mRunning\u001b[0m                 \u001b[33m0\u001b[0m             \u001b[36m19m\u001b[0m\n",
      "\u001b[36melasticsearch\u001b[0m              \u001b[32melasticsearch-coordinating-0\u001b[0m                       \u001b[35m1/1\u001b[0m     \u001b[37mRunning\u001b[0m                 \u001b[33m0\u001b[0m             \u001b[36m22m\u001b[0m\n",
      "\u001b[36melasticsearch\u001b[0m              \u001b[32melasticsearch-coordinating-1\u001b[0m                       \u001b[35m1/1\u001b[0m     \u001b[37mRunning\u001b[0m                 \u001b[33m0\u001b[0m             \u001b[36m22m\u001b[0m\n",
      "\u001b[36melasticsearch\u001b[0m              \u001b[32melasticsearch-data-0\u001b[0m                               \u001b[35m1/1\u001b[0m     \u001b[37mRunning\u001b[0m                 \u001b[33m0\u001b[0m             \u001b[36m22m\u001b[0m\n",
      "\u001b[36melasticsearch\u001b[0m              \u001b[32melasticsearch-data-1\u001b[0m                               \u001b[35m1/1\u001b[0m     \u001b[37mRunning\u001b[0m                 \u001b[33m0\u001b[0m             \u001b[36m22m\u001b[0m\n",
      "\u001b[36melasticsearch\u001b[0m              \u001b[32melasticsearch-ingest-0\u001b[0m                             \u001b[35m1/1\u001b[0m     \u001b[37mRunning\u001b[0m                 \u001b[33m0\u001b[0m             \u001b[36m22m\u001b[0m\n",
      "\u001b[36melasticsearch\u001b[0m              \u001b[32melasticsearch-ingest-1\u001b[0m                             \u001b[35m1/1\u001b[0m     \u001b[37mRunning\u001b[0m                 \u001b[33m0\u001b[0m             \u001b[36m22m\u001b[0m\n",
      "\u001b[36melasticsearch\u001b[0m              \u001b[32melasticsearch-master-0\u001b[0m                             \u001b[35m1/1\u001b[0m     \u001b[37mRunning\u001b[0m                 \u001b[33m0\u001b[0m             \u001b[36m22m\u001b[0m\n",
      "\u001b[36melasticsearch\u001b[0m              \u001b[32melasticsearch-master-1\u001b[0m                             \u001b[35m1/1\u001b[0m     \u001b[37mRunning\u001b[0m                 \u001b[33m0\u001b[0m             \u001b[36m22m\u001b[0m\n",
      "\u001b[36mhive\u001b[0m                       \u001b[32mhive-metastore-59d88f4979-fl7tb\u001b[0m                    \u001b[35m1/1\u001b[0m     \u001b[37mRunning\u001b[0m                 \u001b[33m0\u001b[0m             \u001b[36m23m\u001b[0m\n",
      "\u001b[36mingress-nginx\u001b[0m              \u001b[32mingress-nginx-admission-create-lhtwn\u001b[0m               \u001b[33m0/1\u001b[0m     \u001b[37mCompleted\u001b[0m               \u001b[33m0\u001b[0m             \u001b[36m92m\u001b[0m\n",
      "\u001b[36mingress-nginx\u001b[0m              \u001b[32mingress-nginx-admission-patch-lcgtk\u001b[0m                \u001b[33m0/1\u001b[0m     \u001b[37mCompleted\u001b[0m               \u001b[33m2\u001b[0m             \u001b[36m92m\u001b[0m\n",
      "\u001b[36mingress-nginx\u001b[0m              \u001b[32mingress-nginx-controller-84945f6d87-xvsf7\u001b[0m          \u001b[35m1/1\u001b[0m     \u001b[37mRunning\u001b[0m                 \u001b[33m0\u001b[0m             \u001b[36m27m\u001b[0m\n",
      "\u001b[36mjfrog\u001b[0m                      \u001b[32mjfrog-artifactory-jcr-0\u001b[0m                            \u001b[35m6/6\u001b[0m     \u001b[37mRunning\u001b[0m                 \u001b[33m0\u001b[0m             \u001b[36m22m\u001b[0m\n",
      "\u001b[36mk8s-replicator\u001b[0m             \u001b[32mkubernetes-replicator-85c7d9f464-9rwcs\u001b[0m             \u001b[35m1/1\u001b[0m     \u001b[37mRunning\u001b[0m                 \u001b[33m0\u001b[0m             \u001b[36m24m\u001b[0m\n",
      "\u001b[36mkafka-main-cluster\u001b[0m         \u001b[32mmain-entity-operator-5bd9cdc9b6-snr25\u001b[0m              \u001b[35m2/2\u001b[0m     \u001b[37mRunning\u001b[0m                 \u001b[33m0\u001b[0m             \u001b[36m20m\u001b[0m\n",
      "\u001b[36mkafka-main-cluster\u001b[0m         \u001b[32mmain-kafka-0\u001b[0m                                       \u001b[35m1/1\u001b[0m     \u001b[37mRunning\u001b[0m                 \u001b[33m0\u001b[0m             \u001b[36m20m\u001b[0m\n",
      "\u001b[36mkafka-main-cluster\u001b[0m         \u001b[32mmain-registry-schema-registry-0\u001b[0m                    \u001b[35m1/1\u001b[0m     \u001b[37mRunning\u001b[0m                 \u001b[33m0\u001b[0m             \u001b[36m23m\u001b[0m\n",
      "\u001b[36mkafka-main-cluster\u001b[0m         \u001b[32mmain-zookeeper-0\u001b[0m                                   \u001b[35m1/1\u001b[0m     \u001b[37mRunning\u001b[0m                 \u001b[33m0\u001b[0m             \u001b[36m23m\u001b[0m\n",
      "\u001b[36mkafka-main-cluster\u001b[0m         \u001b[32mmy-bridge-bridge-549bb98dff-fvttz\u001b[0m                  \u001b[35m1/1\u001b[0m     \u001b[37mRunning\u001b[0m                 \u001b[33m0\u001b[0m             \u001b[36m20m\u001b[0m\n",
      "\u001b[36mkafka-main-cluster\u001b[0m         \u001b[32mmy-connect-connect-0\u001b[0m                               \u001b[33m0/1\u001b[0m     \u001b[37mImagePullBackOff\u001b[0m        \u001b[33m0\u001b[0m             \u001b[36m20m\u001b[0m\n",
      "\u001b[36mkafka\u001b[0m                      \u001b[32mkafka-ui-646c544498-krzgq\u001b[0m                          \u001b[35m1/1\u001b[0m     \u001b[37mRunning\u001b[0m                 \u001b[33m0\u001b[0m             \u001b[36m23m\u001b[0m\n",
      "\u001b[36mkafka\u001b[0m                      \u001b[32mstrimzi-cluster-operator-768d955cd9-7zpsr\u001b[0m          \u001b[35m1/1\u001b[0m     \u001b[37mRunning\u001b[0m                 \u001b[33m0\u001b[0m             \u001b[36m24m\u001b[0m\n",
      "\u001b[36mkube-system\u001b[0m                \u001b[32mcoredns-5dd5756b68-p2dw2\u001b[0m                           \u001b[35m1/1\u001b[0m     \u001b[37mRunning\u001b[0m                 \u001b[33m1\u001b[0m             \u001b[36m92m\u001b[0m\n",
      "\u001b[36mkube-system\u001b[0m                \u001b[32metcd-cluster2\u001b[0m                                      \u001b[35m1/1\u001b[0m     \u001b[37mRunning\u001b[0m                 \u001b[33m1\u001b[0m             \u001b[36m92m\u001b[0m\n",
      "\u001b[36mkube-system\u001b[0m                \u001b[32mkindnet-6g8km\u001b[0m                                      \u001b[35m1/1\u001b[0m     \u001b[37mRunning\u001b[0m                 \u001b[33m0\u001b[0m             \u001b[36m24m\u001b[0m\n",
      "\u001b[36mkube-system\u001b[0m                \u001b[32mkindnet-brt99\u001b[0m                                      \u001b[35m1/1\u001b[0m     \u001b[37mRunning\u001b[0m                 \u001b[33m0\u001b[0m             \u001b[36m24m\u001b[0m\n",
      "\u001b[36mkube-system\u001b[0m                \u001b[32mkindnet-fz6sw\u001b[0m                                      \u001b[35m1/1\u001b[0m     \u001b[37mRunning\u001b[0m                 \u001b[33m0\u001b[0m             \u001b[36m24m\u001b[0m\n",
      "\u001b[36mkube-system\u001b[0m                \u001b[32mkindnet-gq5zq\u001b[0m                                      \u001b[35m1/1\u001b[0m     \u001b[37mRunning\u001b[0m                 \u001b[33m0\u001b[0m             \u001b[36m24m\u001b[0m\n",
      "\u001b[36mkube-system\u001b[0m                \u001b[32mkube-apiserver-cluster2\u001b[0m                            \u001b[35m1/1\u001b[0m     \u001b[37mRunning\u001b[0m                 \u001b[33m1\u001b[0m             \u001b[36m92m\u001b[0m\n",
      "\u001b[36mkube-system\u001b[0m                \u001b[32mkube-controller-manager-cluster2\u001b[0m                   \u001b[35m1/1\u001b[0m     \u001b[37mRunning\u001b[0m                 \u001b[33m1\u001b[0m             \u001b[36m92m\u001b[0m\n",
      "\u001b[36mkube-system\u001b[0m                \u001b[32mkube-proxy-5rs9j\u001b[0m                                   \u001b[35m1/1\u001b[0m     \u001b[37mRunning\u001b[0m                 \u001b[33m1\u001b[0m             \u001b[36m92m\u001b[0m\n",
      "\u001b[36mkube-system\u001b[0m                \u001b[32mkube-proxy-8rwbt\u001b[0m                                   \u001b[35m1/1\u001b[0m     \u001b[37mRunning\u001b[0m                 \u001b[33m1 (27m ago)\u001b[0m   \u001b[36m92m\u001b[0m\n",
      "\u001b[36mkube-system\u001b[0m                \u001b[32mkube-proxy-fzr2j\u001b[0m                                   \u001b[35m1/1\u001b[0m     \u001b[37mRunning\u001b[0m                 \u001b[33m1 (26m ago)\u001b[0m   \u001b[36m92m\u001b[0m\n",
      "\u001b[36mkube-system\u001b[0m                \u001b[32mkube-proxy-z6q4v\u001b[0m                                   \u001b[35m1/1\u001b[0m     \u001b[37mRunning\u001b[0m                 \u001b[33m1 (27m ago)\u001b[0m   \u001b[36m92m\u001b[0m\n",
      "\u001b[36mkube-system\u001b[0m                \u001b[32mkube-scheduler-cluster2\u001b[0m                            \u001b[35m1/1\u001b[0m     \u001b[37mRunning\u001b[0m                 \u001b[33m1\u001b[0m             \u001b[36m92m\u001b[0m\n",
      "\u001b[36mkube-system\u001b[0m                \u001b[32mmetrics-server-7c66d45ddc-fgt6k\u001b[0m                    \u001b[35m1/1\u001b[0m     \u001b[37mRunning\u001b[0m                 \u001b[33m0\u001b[0m             \u001b[36m27m\u001b[0m\n",
      "\u001b[36mkube-system\u001b[0m                \u001b[32mstorage-provisioner\u001b[0m                                \u001b[35m1/1\u001b[0m     \u001b[37mRunning\u001b[0m                 \u001b[33m1\u001b[0m             \u001b[36m92m\u001b[0m\n",
      "\u001b[36mkubernetes-dashboard\u001b[0m       \u001b[32mdashboard-metrics-scraper-7fd5cb4ddc-thj75\u001b[0m         \u001b[35m1/1\u001b[0m     \u001b[37mRunning\u001b[0m                 \u001b[33m0\u001b[0m             \u001b[36m26m\u001b[0m\n",
      "\u001b[36mkubernetes-dashboard\u001b[0m       \u001b[32mkubernetes-dashboard-8694d4445c-k5lsb\u001b[0m              \u001b[35m1/1\u001b[0m     \u001b[37mRunning\u001b[0m                 \u001b[33m0\u001b[0m             \u001b[36m27m\u001b[0m\n",
      "\u001b[36mlocalstack\u001b[0m                 \u001b[32mlocalstack-f7bd7d54d-jq696\u001b[0m                         \u001b[35m1/1\u001b[0m     \u001b[37mRunning\u001b[0m                 \u001b[33m0\u001b[0m             \u001b[36m22m\u001b[0m\n",
      "\u001b[36mmetabase\u001b[0m                   \u001b[32mmetabase-deployment-5c69689fc4-hpblx\u001b[0m               \u001b[35m1/1\u001b[0m     \u001b[37mRunning\u001b[0m                 \u001b[33m0\u001b[0m             \u001b[36m23m\u001b[0m\n",
      "\u001b[36mmetallb-system\u001b[0m             \u001b[32mcontroller-7f75d4cbfb-5kqt7\u001b[0m                        \u001b[35m1/1\u001b[0m     \u001b[37mRunning\u001b[0m                 \u001b[33m0\u001b[0m             \u001b[36m26m\u001b[0m\n",
      "\u001b[36mmetallb-system\u001b[0m             \u001b[32mspeaker-2nhqk\u001b[0m                                      \u001b[35m1/1\u001b[0m     \u001b[37mRunning\u001b[0m                 \u001b[33m1\u001b[0m             \u001b[36m91m\u001b[0m\n",
      "\u001b[36mmetallb-system\u001b[0m             \u001b[32mspeaker-5jh6c\u001b[0m                                      \u001b[35m1/1\u001b[0m     \u001b[37mRunning\u001b[0m                 \u001b[33m1 (26m ago)\u001b[0m   \u001b[36m91m\u001b[0m\n",
      "\u001b[36mmetallb-system\u001b[0m             \u001b[32mspeaker-lk6p8\u001b[0m                                      \u001b[35m1/1\u001b[0m     \u001b[37mRunning\u001b[0m                 \u001b[33m1 (27m ago)\u001b[0m   \u001b[36m91m\u001b[0m\n",
      "\u001b[36mmetallb-system\u001b[0m             \u001b[32mspeaker-wwggj\u001b[0m                                      \u001b[35m1/1\u001b[0m     \u001b[37mRunning\u001b[0m                 \u001b[33m1 (27m ago)\u001b[0m   \u001b[36m91m\u001b[0m\n",
      "\u001b[36mminio-operator\u001b[0m             \u001b[32mconsole-75dc7dc944-xjv54\u001b[0m                           \u001b[35m1/1\u001b[0m     \u001b[37mRunning\u001b[0m                 \u001b[33m0\u001b[0m             \u001b[36m22m\u001b[0m\n",
      "\u001b[36mminio-operator\u001b[0m             \u001b[32mminio-operator-5fb57dcdd5-tmnz8\u001b[0m                    \u001b[35m1/1\u001b[0m     \u001b[37mRunning\u001b[0m                 \u001b[33m0\u001b[0m             \u001b[36m22m\u001b[0m\n",
      "\u001b[36mminio-operator\u001b[0m             \u001b[32mminio-operator-5fb57dcdd5-xssgr\u001b[0m                    \u001b[35m1/1\u001b[0m     \u001b[37mRunning\u001b[0m                 \u001b[33m0\u001b[0m             \u001b[36m22m\u001b[0m\n",
      "\u001b[36mminio-tenant-1\u001b[0m             \u001b[32mminio-tenant-1-ss-0-0\u001b[0m                              \u001b[35m2/2\u001b[0m     \u001b[37mRunning\u001b[0m                 \u001b[33m0\u001b[0m             \u001b[36m21m\u001b[0m\n",
      "\u001b[36mminio-tenant-1\u001b[0m             \u001b[32mminio-tenant-1-ss-0-1\u001b[0m                              \u001b[35m2/2\u001b[0m     \u001b[37mRunning\u001b[0m                 \u001b[33m0\u001b[0m             \u001b[36m21m\u001b[0m\n",
      "\u001b[36mminio-tenant-1\u001b[0m             \u001b[32mminio-tenant-1-ss-0-2\u001b[0m                              \u001b[35m2/2\u001b[0m     \u001b[37mRunning\u001b[0m                 \u001b[33m0\u001b[0m             \u001b[36m21m\u001b[0m\n",
      "\u001b[36mmongodb\u001b[0m                    \u001b[32mmongodb-kubernetes-operator-bf56d5578-zvbll\u001b[0m        \u001b[35m1/1\u001b[0m     \u001b[37mRunning\u001b[0m                 \u001b[33m0\u001b[0m             \u001b[36m23m\u001b[0m\n",
      "\u001b[36mmysql\u001b[0m                      \u001b[32mmy-release-mysql-0\u001b[0m                                 \u001b[35m1/1\u001b[0m     \u001b[37mRunning\u001b[0m                 \u001b[33m0\u001b[0m             \u001b[36m22m\u001b[0m\n",
      "\u001b[36mnfs-external-provisioner\u001b[0m   \u001b[32mnfs-subdir-external-provisioner-78f9d66b78-gq25t\u001b[0m   \u001b[35m1/1\u001b[0m     \u001b[37mRunning\u001b[0m                 \u001b[33m0\u001b[0m             \u001b[36m26m\u001b[0m\n",
      "\u001b[36mopenmetadata\u001b[0m               \u001b[32mopenmetadata-664b4bd67c-78qmv\u001b[0m                      \u001b[35m1/1\u001b[0m     \u001b[37mRunning\u001b[0m                 \u001b[33m0\u001b[0m             \u001b[36m6m16s\u001b[0m\n",
      "\u001b[36mpostgres\u001b[0m                   \u001b[32mpostgres-postgresql-0\u001b[0m                              \u001b[35m1/1\u001b[0m     \u001b[37mRunning\u001b[0m                 \u001b[33m0\u001b[0m             \u001b[36m22m\u001b[0m\n",
      "\u001b[36msqlserver\u001b[0m                  \u001b[32mmssqlserver-2022-97999577d-8kq7s\u001b[0m                   \u001b[35m1/1\u001b[0m     \u001b[37mRunning\u001b[0m                 \u001b[33m0\u001b[0m             \u001b[36m19m\u001b[0m\n",
      "\u001b[36msqlserver\u001b[0m                  \u001b[32msqlserver-init-job-pxkm6\u001b[0m                           \u001b[33m0/1\u001b[0m     \u001b[37mCompleted\u001b[0m               \u001b[33m0\u001b[0m             \u001b[36m23m\u001b[0m\n",
      "\u001b[36mtrino\u001b[0m                      \u001b[32mtrino-coordinator-dbbbcf9d9-6twzx\u001b[0m                  \u001b[35m1/1\u001b[0m     \u001b[37mRunning\u001b[0m                 \u001b[33m0\u001b[0m             \u001b[36m19m\u001b[0m\n",
      "\u001b[36mtrino\u001b[0m                      \u001b[32mtrino-worker-6c58b678cc-ct8jb\u001b[0m                      \u001b[35m1/1\u001b[0m     \u001b[37mRunning\u001b[0m                 \u001b[33m0\u001b[0m             \u001b[36m19m\u001b[0m\n",
      "\u001b[36mtrino\u001b[0m                      \u001b[32mtrino-worker-6c58b678cc-zwb44\u001b[0m                      \u001b[35m1/1\u001b[0m     \u001b[37mRunning\u001b[0m                 \u001b[33m0\u001b[0m             \u001b[36m19m\u001b[0m\n",
      "\u001b[36mzeppelin\u001b[0m                   \u001b[32mjupyter-server-6fb8f7dcbc-lg69m\u001b[0m                    \u001b[35m1/1\u001b[0m     \u001b[37mRunning\u001b[0m                 \u001b[33m0\u001b[0m             \u001b[36m23m\u001b[0m\n",
      "\u001b[36mzeppelin\u001b[0m                   \u001b[32mzeppelin-server-5d75d4f9d5-pjm9f\u001b[0m                   \u001b[35m3/3\u001b[0m     \u001b[37mRunning\u001b[0m                 \u001b[33m0\u001b[0m             \u001b[36m23m\u001b[0m\n"
     ]
    }
   ],
   "source": [
    "!kubecolor get pods -A"
   ]
  },
  {
   "cell_type": "code",
   "execution_count": null,
   "id": "19402d44-6b03-4e97-b759-28654a0076dc",
   "metadata": {},
   "outputs": [],
   "source": []
  }
 ],
 "metadata": {
  "kernelspec": {
   "display_name": "Python 3 (ipykernel)",
   "language": "python",
   "name": "python3"
  },
  "language_info": {
   "codemirror_mode": {
    "name": "ipython",
    "version": 3
   },
   "file_extension": ".py",
   "mimetype": "text/x-python",
   "name": "python",
   "nbconvert_exporter": "python",
   "pygments_lexer": "ipython3",
   "version": "3.10.13"
  }
 },
 "nbformat": 4,
 "nbformat_minor": 5
}
