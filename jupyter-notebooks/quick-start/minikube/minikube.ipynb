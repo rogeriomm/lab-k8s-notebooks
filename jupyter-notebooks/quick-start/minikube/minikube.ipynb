{
 "cells": [
  {
   "cell_type": "code",
   "execution_count": 1,
   "id": "c1afbdd8-8e92-4a26-a5bc-95853f73655b",
   "metadata": {},
   "outputs": [
    {
     "name": "stdout",
     "output_type": "stream",
     "text": [
      "\u001b[37mNAME           CPU(cores)   CPU%   MEMORY(bytes)   MEMORY%   \u001b[0m\n",
      "\u001b[36mcluster2\u001b[0m       \u001b[32m506m\u001b[0m         \u001b[35m1%\u001b[0m     \u001b[37m15729Mi\u001b[0m         \u001b[33m17%\u001b[0m       \u001b[36m\u001b[0m\n",
      "\u001b[36mcluster2-m02\u001b[0m   \u001b[32m316m\u001b[0m         \u001b[35m1%\u001b[0m     \u001b[37m11963Mi\u001b[0m         \u001b[33m13%\u001b[0m       \u001b[36m\u001b[0m\n",
      "\u001b[36mcluster2-m03\u001b[0m   \u001b[32m186m\u001b[0m         \u001b[35m0%\u001b[0m     \u001b[37m8180Mi\u001b[0m          \u001b[33m9%\u001b[0m        \u001b[36m\u001b[0m\n",
      "\u001b[36mcluster2-m04\u001b[0m   \u001b[32m234m\u001b[0m         \u001b[35m0%\u001b[0m     \u001b[37m11942Mi\u001b[0m         \u001b[33m13%\u001b[0m       \u001b[36m\u001b[0m\n"
     ]
    }
   ],
   "source": [
    "!kubecolor top node"
   ]
  },
  {
   "cell_type": "code",
   "execution_count": 2,
   "id": "608226e1-c606-414e-ab7b-dfe1ab30eae2",
   "metadata": {},
   "outputs": [
    {
     "name": "stdout",
     "output_type": "stream",
     "text": [
      "\u001b[37mNAMESPACE                  NAME                                                                                     READY   STATUS      RESTARTS         AGE\u001b[0m\n",
      "\u001b[36mairflow\u001b[0m                    \u001b[32mairflow-db-migrations-7f96595484-s8rft\u001b[0m                                                   \u001b[35m1/1\u001b[0m     \u001b[37mRunning\u001b[0m     \u001b[33m0\u001b[0m                \u001b[36m3h44m\u001b[0m\n",
      "\u001b[36mairflow\u001b[0m                    \u001b[32mairflow-flower-648c99f4f9-b6vls\u001b[0m                                                          \u001b[35m1/1\u001b[0m     \u001b[37mRunning\u001b[0m     \u001b[33m0\u001b[0m                \u001b[36m3h44m\u001b[0m\n",
      "\u001b[36mairflow\u001b[0m                    \u001b[32mairflow-pgbouncer-8b55bf9b9-h46q8\u001b[0m                                                        \u001b[35m1/1\u001b[0m     \u001b[37mRunning\u001b[0m     \u001b[33m8\u001b[0m                \u001b[36m5d10h\u001b[0m\n",
      "\u001b[36mairflow\u001b[0m                    \u001b[32mairflow-redis-master-0\u001b[0m                                                                   \u001b[35m1/1\u001b[0m     \u001b[37mRunning\u001b[0m     \u001b[33m0\u001b[0m                \u001b[36m3h43m\u001b[0m\n",
      "\u001b[36mairflow\u001b[0m                    \u001b[32mairflow-scheduler-6b87968c95-phjr8\u001b[0m                                                       \u001b[35m1/1\u001b[0m     \u001b[37mRunning\u001b[0m     \u001b[33m0\u001b[0m                \u001b[36m3h44m\u001b[0m\n",
      "\u001b[36mairflow\u001b[0m                    \u001b[32mairflow-sync-connections-5f878b687d-5fn7q\u001b[0m                                                \u001b[35m1/1\u001b[0m     \u001b[37mRunning\u001b[0m     \u001b[33m0\u001b[0m                \u001b[36m3h44m\u001b[0m\n",
      "\u001b[36mairflow\u001b[0m                    \u001b[32mairflow-sync-users-68995d58b4-942km\u001b[0m                                                      \u001b[35m1/1\u001b[0m     \u001b[37mRunning\u001b[0m     \u001b[33m0\u001b[0m                \u001b[36m3h44m\u001b[0m\n",
      "\u001b[36mairflow\u001b[0m                    \u001b[32mairflow-sync-variables-5bb77757b4-rzpwr\u001b[0m                                                  \u001b[35m1/1\u001b[0m     \u001b[37mRunning\u001b[0m     \u001b[33m0\u001b[0m                \u001b[36m3h44m\u001b[0m\n",
      "\u001b[36mairflow\u001b[0m                    \u001b[32mairflow-triggerer-86b9f4c4b9-2pnjk\u001b[0m                                                       \u001b[35m1/1\u001b[0m     \u001b[37mRunning\u001b[0m     \u001b[33m0\u001b[0m                \u001b[36m3h44m\u001b[0m\n",
      "\u001b[36mairflow\u001b[0m                    \u001b[32mairflow-web-79fd5555c4-25wh7\u001b[0m                                                             \u001b[35m1/1\u001b[0m     \u001b[37mRunning\u001b[0m     \u001b[33m0\u001b[0m                \u001b[36m3h44m\u001b[0m\n",
      "\u001b[36mairflow\u001b[0m                    \u001b[32mairflow-worker-0\u001b[0m                                                                         \u001b[35m1/1\u001b[0m     \u001b[37mRunning\u001b[0m     \u001b[33m0\u001b[0m                \u001b[36m3h44m\u001b[0m\n",
      "\u001b[36margocd\u001b[0m                     \u001b[32margocd-application-controller-0\u001b[0m                                                          \u001b[35m1/1\u001b[0m     \u001b[37mRunning\u001b[0m     \u001b[33m0\u001b[0m                \u001b[36m3h44m\u001b[0m\n",
      "\u001b[36margocd\u001b[0m                     \u001b[32margocd-applicationset-controller-66c9b84df4-zpjwv\u001b[0m                                        \u001b[35m1/1\u001b[0m     \u001b[37mRunning\u001b[0m     \u001b[33m0\u001b[0m                \u001b[36m3h43m\u001b[0m\n",
      "\u001b[36margocd\u001b[0m                     \u001b[32margocd-dex-server-5df4cc4565-mbt75\u001b[0m                                                       \u001b[35m1/1\u001b[0m     \u001b[37mRunning\u001b[0m     \u001b[33m0\u001b[0m                \u001b[36m3h44m\u001b[0m\n",
      "\u001b[36margocd\u001b[0m                     \u001b[32margocd-notifications-controller-6f54fd9856-b7f6t\u001b[0m                                         \u001b[35m1/1\u001b[0m     \u001b[37mRunning\u001b[0m     \u001b[33m0\u001b[0m                \u001b[36m3h43m\u001b[0m\n",
      "\u001b[36margocd\u001b[0m                     \u001b[32margocd-redis-75ddd9dfbd-pztmq\u001b[0m                                                            \u001b[35m1/1\u001b[0m     \u001b[37mRunning\u001b[0m     \u001b[33m0\u001b[0m                \u001b[36m3h43m\u001b[0m\n",
      "\u001b[36margocd\u001b[0m                     \u001b[32margocd-repo-server-86448f84fb-8qhgr\u001b[0m                                                      \u001b[35m1/1\u001b[0m     \u001b[37mRunning\u001b[0m     \u001b[33m0\u001b[0m                \u001b[36m3h43m\u001b[0m\n",
      "\u001b[36margocd\u001b[0m                     \u001b[32margocd-server-8549d6695c-fr54n\u001b[0m                                                           \u001b[35m1/1\u001b[0m     \u001b[37mRunning\u001b[0m     \u001b[33m0\u001b[0m                \u001b[36m3h43m\u001b[0m\n",
      "\u001b[36maws-glue\u001b[0m                   \u001b[32maws-glue-jupyter-7bfb5f947f-ns69b\u001b[0m                                                        \u001b[35m3/3\u001b[0m     \u001b[37mRunning\u001b[0m     \u001b[33m9\u001b[0m                \u001b[36m2d12h\u001b[0m\n",
      "\u001b[36mcert-manager\u001b[0m               \u001b[32mcert-manager-6c69f9f796-qfs7g\u001b[0m                                                            \u001b[35m1/1\u001b[0m     \u001b[37mRunning\u001b[0m     \u001b[33m0\u001b[0m                \u001b[36m3h43m\u001b[0m\n",
      "\u001b[36mcert-manager\u001b[0m               \u001b[32mcert-manager-cainjector-584f44558c-lm2dh\u001b[0m                                                 \u001b[35m1/1\u001b[0m     \u001b[37mRunning\u001b[0m     \u001b[33m0\u001b[0m                \u001b[36m3h44m\u001b[0m\n",
      "\u001b[36mcert-manager\u001b[0m               \u001b[32mcert-manager-webhook-76f9945d6f-qnr87\u001b[0m                                                    \u001b[35m1/1\u001b[0m     \u001b[37mRunning\u001b[0m     \u001b[33m0\u001b[0m                \u001b[36m3h44m\u001b[0m\n",
      "\u001b[36mcommander\u001b[0m                  \u001b[32mjupyter-server-589c46c7d-4d7jv\u001b[0m                                                           \u001b[35m1/1\u001b[0m     \u001b[37mRunning\u001b[0m     \u001b[33m0\u001b[0m                \u001b[36m3h44m\u001b[0m\n",
      "\u001b[36mcommander\u001b[0m                  \u001b[32mtunnel-server-79fc7576b6-tv4gn\u001b[0m                                                           \u001b[35m1/1\u001b[0m     \u001b[37mRunning\u001b[0m     \u001b[33m0\u001b[0m                \u001b[36m3h43m\u001b[0m\n",
      "\u001b[36mdatahub\u001b[0m                    \u001b[32mdatahub-acryl-datahub-actions-56d59dc5f5-z8kzm\u001b[0m                                           \u001b[35m1/1\u001b[0m     \u001b[37mRunning\u001b[0m     \u001b[33m2 (3h36m ago)\u001b[0m    \u001b[36m3h44m\u001b[0m\n",
      "\u001b[36mdatahub\u001b[0m                    \u001b[32mdatahub-datahub-frontend-7545898455-p2kxq\u001b[0m                                                \u001b[35m1/1\u001b[0m     \u001b[37mRunning\u001b[0m     \u001b[33m7 (3h39m ago)\u001b[0m    \u001b[36m2d12h\u001b[0m\n",
      "\u001b[36mdatahub\u001b[0m                    \u001b[32mdatahub-datahub-gms-6464489876-hqbbz\u001b[0m                                                     \u001b[35m1/1\u001b[0m     \u001b[37mRunning\u001b[0m     \u001b[33m12 (3h37m ago)\u001b[0m   \u001b[36m5d10h\u001b[0m\n",
      "\u001b[36mdatahub\u001b[0m                    \u001b[32melasticsearch-master-0\u001b[0m                                                                   \u001b[35m1/1\u001b[0m     \u001b[37mRunning\u001b[0m     \u001b[33m0\u001b[0m                \u001b[36m3h44m\u001b[0m\n",
      "\u001b[36mdatahub\u001b[0m                    \u001b[32mprerequisites-kafka-0\u001b[0m                                                                    \u001b[35m1/1\u001b[0m     \u001b[37mRunning\u001b[0m     \u001b[33m20\u001b[0m               \u001b[36m5d10h\u001b[0m\n",
      "\u001b[36mdatahub\u001b[0m                    \u001b[32mprerequisites-zookeeper-0\u001b[0m                                                                \u001b[35m1/1\u001b[0m     \u001b[37mRunning\u001b[0m     \u001b[33m8\u001b[0m                \u001b[36m5d10h\u001b[0m\n",
      "\u001b[36melasticsearch\u001b[0m              \u001b[32melasticsearch-coordinating-0\u001b[0m                                                             \u001b[35m1/1\u001b[0m     \u001b[37mRunning\u001b[0m     \u001b[33m1 (3h40m ago)\u001b[0m    \u001b[36m3h43m\u001b[0m\n",
      "\u001b[36melasticsearch\u001b[0m              \u001b[32melasticsearch-coordinating-1\u001b[0m                                                             \u001b[35m1/1\u001b[0m     \u001b[37mRunning\u001b[0m     \u001b[33m1 (3h40m ago)\u001b[0m    \u001b[36m3h44m\u001b[0m\n",
      "\u001b[36melasticsearch\u001b[0m              \u001b[32melasticsearch-data-0\u001b[0m                                                                     \u001b[35m1/1\u001b[0m     \u001b[37mRunning\u001b[0m     \u001b[33m1 (3h40m ago)\u001b[0m    \u001b[36m3h43m\u001b[0m\n",
      "\u001b[36melasticsearch\u001b[0m              \u001b[32melasticsearch-data-1\u001b[0m                                                                     \u001b[35m1/1\u001b[0m     \u001b[37mRunning\u001b[0m     \u001b[33m1 (3h40m ago)\u001b[0m    \u001b[36m3h44m\u001b[0m\n",
      "\u001b[36melasticsearch\u001b[0m              \u001b[32melasticsearch-ingest-0\u001b[0m                                                                   \u001b[35m1/1\u001b[0m     \u001b[37mRunning\u001b[0m     \u001b[33m1 (3h40m ago)\u001b[0m    \u001b[36m3h44m\u001b[0m\n",
      "\u001b[36melasticsearch\u001b[0m              \u001b[32melasticsearch-ingest-1\u001b[0m                                                                   \u001b[35m1/1\u001b[0m     \u001b[37mRunning\u001b[0m     \u001b[33m1 (3h39m ago)\u001b[0m    \u001b[36m3h43m\u001b[0m\n",
      "\u001b[36melasticsearch\u001b[0m              \u001b[32melasticsearch-master-0\u001b[0m                                                                   \u001b[35m1/1\u001b[0m     \u001b[37mRunning\u001b[0m     \u001b[33m1 (3h40m ago)\u001b[0m    \u001b[36m3h44m\u001b[0m\n",
      "\u001b[36melasticsearch\u001b[0m              \u001b[32melasticsearch-master-1\u001b[0m                                                                   \u001b[35m1/1\u001b[0m     \u001b[37mRunning\u001b[0m     \u001b[33m0\u001b[0m                \u001b[36m3h43m\u001b[0m\n",
      "\u001b[36mhive\u001b[0m                       \u001b[32mhive-metastore-74dc686bbd-pxhqj\u001b[0m                                                          \u001b[35m1/1\u001b[0m     \u001b[37mRunning\u001b[0m     \u001b[33m0\u001b[0m                \u001b[36m59m\u001b[0m\n",
      "\u001b[36mingress-nginx\u001b[0m              \u001b[32mingress-nginx-admission-create-lhtwn\u001b[0m                                                     \u001b[33m0/1\u001b[0m     \u001b[37mCompleted\u001b[0m   \u001b[33m0\u001b[0m                \u001b[36m5d11h\u001b[0m\n",
      "\u001b[36mingress-nginx\u001b[0m              \u001b[32mingress-nginx-admission-patch-lcgtk\u001b[0m                                                      \u001b[33m0/1\u001b[0m     \u001b[37mCompleted\u001b[0m   \u001b[33m2\u001b[0m                \u001b[36m5d11h\u001b[0m\n",
      "\u001b[36mingress-nginx\u001b[0m              \u001b[32mingress-nginx-controller-84945f6d87-xvsf7\u001b[0m                                                \u001b[35m1/1\u001b[0m     \u001b[37mRunning\u001b[0m     \u001b[33m8\u001b[0m                \u001b[36m5d10h\u001b[0m\n",
      "\u001b[36mjfrog\u001b[0m                      \u001b[32mjfrog-artifactory-jcr-0\u001b[0m                                                                  \u001b[35m6/6\u001b[0m     \u001b[37mRunning\u001b[0m     \u001b[33m0\u001b[0m                \u001b[36m8m59s\u001b[0m\n",
      "\u001b[36mk8s-replicator\u001b[0m             \u001b[32mkubernetes-replicator-85c7d9f464-6l84t\u001b[0m                                                   \u001b[35m1/1\u001b[0m     \u001b[37mRunning\u001b[0m     \u001b[33m3\u001b[0m                \u001b[36m2d12h\u001b[0m\n",
      "\u001b[36mkafka-main-cluster\u001b[0m         \u001b[32mmain-entity-operator-5bd9cdc9b6-vkb6m\u001b[0m                                                    \u001b[35m2/2\u001b[0m     \u001b[37mRunning\u001b[0m     \u001b[33m17 (3h30m ago)\u001b[0m   \u001b[36m3h43m\u001b[0m\n",
      "\u001b[36mkafka-main-cluster\u001b[0m         \u001b[32mmain-kafka-0\u001b[0m                                                                             \u001b[35m1/1\u001b[0m     \u001b[37mRunning\u001b[0m     \u001b[33m0\u001b[0m                \u001b[36m3h29m\u001b[0m\n",
      "\u001b[36mkafka-main-cluster\u001b[0m         \u001b[32mmain-registry-schema-registry-0\u001b[0m                                                          \u001b[35m1/1\u001b[0m     \u001b[37mRunning\u001b[0m     \u001b[33m6 (3h33m ago)\u001b[0m    \u001b[36m3h43m\u001b[0m\n",
      "\u001b[36mkafka-main-cluster\u001b[0m         \u001b[32mmain-zookeeper-0\u001b[0m                                                                         \u001b[35m1/1\u001b[0m     \u001b[37mRunning\u001b[0m     \u001b[33m0\u001b[0m                \u001b[36m3h29m\u001b[0m\n",
      "\u001b[36mkafka-main-cluster\u001b[0m         \u001b[32mmy-bridge-bridge-549bb98dff-fvttz\u001b[0m                                                        \u001b[35m1/1\u001b[0m     \u001b[37mRunning\u001b[0m     \u001b[33m15 (3h38m ago)\u001b[0m   \u001b[36m5d10h\u001b[0m\n",
      "\u001b[36mkafka-main-cluster\u001b[0m         \u001b[32mmy-connect-connect-0\u001b[0m                                                                     \u001b[35m1/1\u001b[0m     \u001b[37mRunning\u001b[0m     \u001b[33m0\u001b[0m                \u001b[36m3h29m\u001b[0m\n",
      "\u001b[36mkafka\u001b[0m                      \u001b[32mkafka-ui-646c544498-f82w9\u001b[0m                                                                \u001b[35m1/1\u001b[0m     \u001b[37mRunning\u001b[0m     \u001b[33m0\u001b[0m                \u001b[36m3h43m\u001b[0m\n",
      "\u001b[36mkafka\u001b[0m                      \u001b[32mredpandas-console-7c675884fb-xt64r\u001b[0m                                                       \u001b[35m1/1\u001b[0m     \u001b[37mRunning\u001b[0m     \u001b[33m10 (3h30m ago)\u001b[0m   \u001b[36m3h43m\u001b[0m\n",
      "\u001b[36mkafka\u001b[0m                      \u001b[32mstrimzi-cluster-operator-768d955cd9-c7frl\u001b[0m                                                \u001b[35m1/1\u001b[0m     \u001b[37mRunning\u001b[0m     \u001b[33m3\u001b[0m                \u001b[36m2d12h\u001b[0m\n",
      "\u001b[36mkube-system\u001b[0m                \u001b[32mcoredns-5dd5756b68-p2dw2\u001b[0m                                                                 \u001b[35m1/1\u001b[0m     \u001b[37mRunning\u001b[0m     \u001b[33m10\u001b[0m               \u001b[36m5d11h\u001b[0m\n",
      "\u001b[36mkube-system\u001b[0m                \u001b[32metcd-cluster2\u001b[0m                                                                            \u001b[35m1/1\u001b[0m     \u001b[37mRunning\u001b[0m     \u001b[33m10\u001b[0m               \u001b[36m5d11h\u001b[0m\n",
      "\u001b[36mkube-system\u001b[0m                \u001b[32mkindnet-69hhv\u001b[0m                                                                            \u001b[35m1/1\u001b[0m     \u001b[37mRunning\u001b[0m     \u001b[33m0\u001b[0m                \u001b[36m9m2s\u001b[0m\n",
      "\u001b[36mkube-system\u001b[0m                \u001b[32mkindnet-kg97t\u001b[0m                                                                            \u001b[35m1/1\u001b[0m     \u001b[37mRunning\u001b[0m     \u001b[33m0\u001b[0m                \u001b[36m9m4s\u001b[0m\n",
      "\u001b[36mkube-system\u001b[0m                \u001b[32mkindnet-kpxsr\u001b[0m                                                                            \u001b[35m1/1\u001b[0m     \u001b[37mRunning\u001b[0m     \u001b[33m0\u001b[0m                \u001b[36m9m7s\u001b[0m\n",
      "\u001b[36mkube-system\u001b[0m                \u001b[32mkindnet-w4rcg\u001b[0m                                                                            \u001b[35m1/1\u001b[0m     \u001b[37mRunning\u001b[0m     \u001b[33m0\u001b[0m                \u001b[36m9m5s\u001b[0m\n",
      "\u001b[36mkube-system\u001b[0m                \u001b[32mkube-apiserver-cluster2\u001b[0m                                                                  \u001b[35m1/1\u001b[0m     \u001b[37mRunning\u001b[0m     \u001b[33m10\u001b[0m               \u001b[36m5d11h\u001b[0m\n",
      "\u001b[36mkube-system\u001b[0m                \u001b[32mkube-controller-manager-cluster2\u001b[0m                                                         \u001b[35m1/1\u001b[0m     \u001b[37mRunning\u001b[0m     \u001b[33m10\u001b[0m               \u001b[36m5d11h\u001b[0m\n",
      "\u001b[36mkube-system\u001b[0m                \u001b[32mkube-proxy-5rs9j\u001b[0m                                                                         \u001b[35m1/1\u001b[0m     \u001b[37mRunning\u001b[0m     \u001b[33m10\u001b[0m               \u001b[36m5d11h\u001b[0m\n",
      "\u001b[36mkube-system\u001b[0m                \u001b[32mkube-proxy-8rwbt\u001b[0m                                                                         \u001b[35m1/1\u001b[0m     \u001b[37mRunning\u001b[0m     \u001b[33m10 (3h45m ago)\u001b[0m   \u001b[36m5d11h\u001b[0m\n",
      "\u001b[36mkube-system\u001b[0m                \u001b[32mkube-proxy-fzr2j\u001b[0m                                                                         \u001b[35m1/1\u001b[0m     \u001b[37mRunning\u001b[0m     \u001b[33m10 (3h44m ago)\u001b[0m   \u001b[36m5d11h\u001b[0m\n",
      "\u001b[36mkube-system\u001b[0m                \u001b[32mkube-proxy-z6q4v\u001b[0m                                                                         \u001b[35m1/1\u001b[0m     \u001b[37mRunning\u001b[0m     \u001b[33m10 (3h44m ago)\u001b[0m   \u001b[36m5d11h\u001b[0m\n",
      "\u001b[36mkube-system\u001b[0m                \u001b[32mkube-scheduler-cluster2\u001b[0m                                                                  \u001b[35m1/1\u001b[0m     \u001b[37mRunning\u001b[0m     \u001b[33m10\u001b[0m               \u001b[36m5d11h\u001b[0m\n",
      "\u001b[36mkube-system\u001b[0m                \u001b[32mmetrics-server-7c66d45ddc-4pmb2\u001b[0m                                                          \u001b[35m1/1\u001b[0m     \u001b[37mRunning\u001b[0m     \u001b[33m8 (3h39m ago)\u001b[0m    \u001b[36m2d12h\u001b[0m\n",
      "\u001b[36mkube-system\u001b[0m                \u001b[32mstorage-provisioner\u001b[0m                                                                      \u001b[35m1/1\u001b[0m     \u001b[37mRunning\u001b[0m     \u001b[33m20 (3h40m ago)\u001b[0m   \u001b[36m5d11h\u001b[0m\n",
      "\u001b[36mkubernetes-dashboard\u001b[0m       \u001b[32mdashboard-metrics-scraper-7fd5cb4ddc-bhdc5\u001b[0m                                               \u001b[35m1/1\u001b[0m     \u001b[37mRunning\u001b[0m     \u001b[33m3\u001b[0m                \u001b[36m2d12h\u001b[0m\n",
      "\u001b[36mkubernetes-dashboard\u001b[0m       \u001b[32mkubernetes-dashboard-8694d4445c-pcj8w\u001b[0m                                                    \u001b[35m1/1\u001b[0m     \u001b[37mRunning\u001b[0m     \u001b[33m7 (3h39m ago)\u001b[0m    \u001b[36m3d11h\u001b[0m\n",
      "\u001b[36mlocalstack\u001b[0m                 \u001b[32mlocalstack-f7bd7d54d-bxvtl\u001b[0m                                                               \u001b[35m1/1\u001b[0m     \u001b[37mRunning\u001b[0m     \u001b[33m7\u001b[0m                \u001b[36m4d11h\u001b[0m\n",
      "\u001b[36mmetabase\u001b[0m                   \u001b[32mmetabase-deployment-5c69689fc4-5mszm\u001b[0m                                                     \u001b[35m1/1\u001b[0m     \u001b[37mRunning\u001b[0m     \u001b[33m0\u001b[0m                \u001b[36m3h43m\u001b[0m\n",
      "\u001b[36mmetallb-system\u001b[0m             \u001b[32mcontroller-7f75d4cbfb-m68kn\u001b[0m                                                              \u001b[35m1/1\u001b[0m     \u001b[37mRunning\u001b[0m     \u001b[33m3\u001b[0m                \u001b[36m2d12h\u001b[0m\n",
      "\u001b[36mmetallb-system\u001b[0m             \u001b[32mspeaker-2nhqk\u001b[0m                                                                            \u001b[35m1/1\u001b[0m     \u001b[37mRunning\u001b[0m     \u001b[33m9\u001b[0m                \u001b[36m5d11h\u001b[0m\n",
      "\u001b[36mmetallb-system\u001b[0m             \u001b[32mspeaker-5jh6c\u001b[0m                                                                            \u001b[35m1/1\u001b[0m     \u001b[37mRunning\u001b[0m     \u001b[33m10 (3h44m ago)\u001b[0m   \u001b[36m5d11h\u001b[0m\n",
      "\u001b[36mmetallb-system\u001b[0m             \u001b[32mspeaker-lk6p8\u001b[0m                                                                            \u001b[35m1/1\u001b[0m     \u001b[37mRunning\u001b[0m     \u001b[33m11 (3h45m ago)\u001b[0m   \u001b[36m5d11h\u001b[0m\n",
      "\u001b[36mmetallb-system\u001b[0m             \u001b[32mspeaker-wwggj\u001b[0m                                                                            \u001b[35m1/1\u001b[0m     \u001b[37mRunning\u001b[0m     \u001b[33m10 (3h44m ago)\u001b[0m   \u001b[36m5d11h\u001b[0m\n",
      "\u001b[36mminio-operator\u001b[0m             \u001b[32mconsole-75dc7dc944-lvm27\u001b[0m                                                                 \u001b[35m1/1\u001b[0m     \u001b[37mRunning\u001b[0m     \u001b[33m6\u001b[0m                \u001b[36m4d11h\u001b[0m\n",
      "\u001b[36mminio-operator\u001b[0m             \u001b[32mminio-operator-5fb57dcdd5-qrx8l\u001b[0m                                                          \u001b[35m1/1\u001b[0m     \u001b[37mRunning\u001b[0m     \u001b[33m0\u001b[0m                \u001b[36m3h43m\u001b[0m\n",
      "\u001b[36mminio-operator\u001b[0m             \u001b[32mminio-operator-5fb57dcdd5-xssgr\u001b[0m                                                          \u001b[35m1/1\u001b[0m     \u001b[37mRunning\u001b[0m     \u001b[33m8\u001b[0m                \u001b[36m5d10h\u001b[0m\n",
      "\u001b[36mminio-tenant-1\u001b[0m             \u001b[32mminio-tenant-1-ss-0-0\u001b[0m                                                                    \u001b[35m2/2\u001b[0m     \u001b[37mRunning\u001b[0m     \u001b[33m0\u001b[0m                \u001b[36m3h44m\u001b[0m\n",
      "\u001b[36mminio-tenant-1\u001b[0m             \u001b[32mminio-tenant-1-ss-0-1\u001b[0m                                                                    \u001b[35m2/2\u001b[0m     \u001b[37mRunning\u001b[0m     \u001b[33m0\u001b[0m                \u001b[36m3h44m\u001b[0m\n",
      "\u001b[36mminio-tenant-1\u001b[0m             \u001b[32mminio-tenant-1-ss-0-2\u001b[0m                                                                    \u001b[35m2/2\u001b[0m     \u001b[37mRunning\u001b[0m     \u001b[33m0\u001b[0m                \u001b[36m3h43m\u001b[0m\n",
      "\u001b[36mmongodb\u001b[0m                    \u001b[32mmongodb-kubernetes-operator-bf56d5578-bmfgg\u001b[0m                                              \u001b[35m1/1\u001b[0m     \u001b[37mRunning\u001b[0m     \u001b[33m4 (3h40m ago)\u001b[0m    \u001b[36m2d12h\u001b[0m\n",
      "\u001b[36mmysql\u001b[0m                      \u001b[32mmy-release-mysql-0\u001b[0m                                                                       \u001b[35m1/1\u001b[0m     \u001b[37mRunning\u001b[0m     \u001b[33m0\u001b[0m                \u001b[36m3h43m\u001b[0m\n",
      "\u001b[36mnfs-external-provisioner\u001b[0m   \u001b[32mnfs-subdir-external-provisioner-78f9d66b78-wpvpn\u001b[0m                                         \u001b[35m1/1\u001b[0m     \u001b[37mRunning\u001b[0m     \u001b[33m7\u001b[0m                \u001b[36m5d9h\u001b[0m\n",
      "\u001b[36mopenmetadata\u001b[0m               \u001b[32mopenmetadata-664b4bd67c-8xx7v\u001b[0m                                                            \u001b[35m1/1\u001b[0m     \u001b[37mRunning\u001b[0m     \u001b[33m0\u001b[0m                \u001b[36m3h43m\u001b[0m\n",
      "\u001b[36mpostgres\u001b[0m                   \u001b[32mpostgres-postgresql-0\u001b[0m                                                                    \u001b[35m1/1\u001b[0m     \u001b[37mRunning\u001b[0m     \u001b[33m0\u001b[0m                \u001b[36m3h44m\u001b[0m\n",
      "\u001b[36msqlserver\u001b[0m                  \u001b[32mmssqlserver-2022-97999577d-ddctw\u001b[0m                                                         \u001b[35m1/1\u001b[0m     \u001b[37mRunning\u001b[0m     \u001b[33m7\u001b[0m                \u001b[36m5d6h\u001b[0m\n",
      "\u001b[36mtrino\u001b[0m                      \u001b[32mtrino-coordinator-dbbbcf9d9-d9dqq\u001b[0m                                                        \u001b[35m1/1\u001b[0m     \u001b[37mRunning\u001b[0m     \u001b[33m6\u001b[0m                \u001b[36m4d11h\u001b[0m\n",
      "\u001b[36mtrino\u001b[0m                      \u001b[32mtrino-worker-6c58b678cc-f98r4\u001b[0m                                                            \u001b[35m1/1\u001b[0m     \u001b[37mRunning\u001b[0m     \u001b[33m0\u001b[0m                \u001b[36m3h44m\u001b[0m\n",
      "\u001b[36mtrino\u001b[0m                      \u001b[32mtrino-worker-6c58b678cc-zwb44\u001b[0m                                                            \u001b[35m1/1\u001b[0m     \u001b[37mRunning\u001b[0m     \u001b[33m8\u001b[0m                \u001b[36m5d10h\u001b[0m\n",
      "\u001b[36mzeppelin\u001b[0m                   \u001b[32mjupyter-server-6fb8f7dcbc-8pckj\u001b[0m                                                          \u001b[35m1/1\u001b[0m     \u001b[37mRunning\u001b[0m     \u001b[33m0\u001b[0m                \u001b[36m3h43m\u001b[0m\n",
      "\u001b[36mzeppelin\u001b[0m                   \u001b[32morg-apache-zeppelin-interpreter-remote-remoteinterpreterserver-27c2348d9f0241f3-exec-1\u001b[0m   \u001b[35m1/1\u001b[0m     \u001b[37mRunning\u001b[0m     \u001b[33m0\u001b[0m                \u001b[36m57m\u001b[0m\n",
      "\u001b[36mzeppelin\u001b[0m                   \u001b[32mspark-pubhqc\u001b[0m                                                                             \u001b[35m1/1\u001b[0m     \u001b[37mRunning\u001b[0m     \u001b[33m0\u001b[0m                \u001b[36m57m\u001b[0m\n",
      "\u001b[36mzeppelin\u001b[0m                   \u001b[32mzeppelin-server-5d75d4f9d5-hpx9n\u001b[0m                                                         \u001b[35m3/3\u001b[0m     \u001b[37mRunning\u001b[0m     \u001b[33m0\u001b[0m                \u001b[36m57m\u001b[0m\n"
     ]
    }
   ],
   "source": [
    "!kubecolor get pods -A"
   ]
  },
  {
   "cell_type": "code",
   "execution_count": null,
   "id": "19402d44-6b03-4e97-b759-28654a0076dc",
   "metadata": {},
   "outputs": [],
   "source": []
  }
 ],
 "metadata": {
  "kernelspec": {
   "display_name": "Python 3 (ipykernel)",
   "language": "python",
   "name": "python3"
  },
  "language_info": {
   "codemirror_mode": {
    "name": "ipython",
    "version": 3
   },
   "file_extension": ".py",
   "mimetype": "text/x-python",
   "name": "python",
   "nbconvert_exporter": "python",
   "pygments_lexer": "ipython3",
   "version": "3.10.13"
  }
 },
 "nbformat": 4,
 "nbformat_minor": 5
}
