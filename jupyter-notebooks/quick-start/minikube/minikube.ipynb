{
 "cells": [
  {
   "cell_type": "code",
   "execution_count": 1,
   "id": "c1afbdd8-8e92-4a26-a5bc-95853f73655b",
   "metadata": {},
   "outputs": [
    {
     "name": "stdout",
     "output_type": "stream",
     "text": [
      "\u001b[37mNAME           CPU(cores)   CPU%   MEMORY(bytes)   MEMORY%   \u001b[0m\n",
      "\u001b[36mcluster2\u001b[0m       \u001b[32m501m\u001b[0m         \u001b[35m1%\u001b[0m     \u001b[37m18147Mi\u001b[0m         \u001b[33m20%\u001b[0m       \u001b[36m\u001b[0m\n",
      "\u001b[36mcluster2-m02\u001b[0m   \u001b[32m360m\u001b[0m         \u001b[35m1%\u001b[0m     \u001b[37m13612Mi\u001b[0m         \u001b[33m15%\u001b[0m       \u001b[36m\u001b[0m\n",
      "\u001b[36mcluster2-m03\u001b[0m   \u001b[32m126m\u001b[0m         \u001b[35m0%\u001b[0m     \u001b[37m6834Mi\u001b[0m          \u001b[33m7%\u001b[0m        \u001b[36m\u001b[0m\n",
      "\u001b[36mcluster2-m04\u001b[0m   \u001b[32m233m\u001b[0m         \u001b[35m0%\u001b[0m     \u001b[37m9738Mi\u001b[0m          \u001b[33m10%\u001b[0m       \u001b[36m\u001b[0m\n"
     ]
    }
   ],
   "source": [
    "!kubecolor top node"
   ]
  },
  {
   "cell_type": "code",
   "execution_count": 2,
   "id": "608226e1-c606-414e-ab7b-dfe1ab30eae2",
   "metadata": {},
   "outputs": [
    {
     "name": "stdout",
     "output_type": "stream",
     "text": [
      "\u001b[37mNAMESPACE                  NAME                                                READY   STATUS      RESTARTS        AGE\u001b[0m\n",
      "\u001b[36mairflow\u001b[0m                    \u001b[32mairflow-db-migrations-7f96595484-pbrv9\u001b[0m              \u001b[35m1/1\u001b[0m     \u001b[37mRunning\u001b[0m     \u001b[33m0\u001b[0m               \u001b[36m4h10m\u001b[0m\n",
      "\u001b[36mairflow\u001b[0m                    \u001b[32mairflow-flower-648c99f4f9-46c5s\u001b[0m                     \u001b[35m1/1\u001b[0m     \u001b[37mRunning\u001b[0m     \u001b[33m0\u001b[0m               \u001b[36m4h10m\u001b[0m\n",
      "\u001b[36mairflow\u001b[0m                    \u001b[32mairflow-pgbouncer-8b55bf9b9-h46q8\u001b[0m                   \u001b[35m1/1\u001b[0m     \u001b[37mRunning\u001b[0m     \u001b[33m7\u001b[0m               \u001b[36m5d3h\u001b[0m\n",
      "\u001b[36mairflow\u001b[0m                    \u001b[32mairflow-redis-master-0\u001b[0m                              \u001b[35m1/1\u001b[0m     \u001b[37mRunning\u001b[0m     \u001b[33m0\u001b[0m               \u001b[36m4h10m\u001b[0m\n",
      "\u001b[36mairflow\u001b[0m                    \u001b[32mairflow-scheduler-6b87968c95-2fmsr\u001b[0m                  \u001b[35m1/1\u001b[0m     \u001b[37mRunning\u001b[0m     \u001b[33m0\u001b[0m               \u001b[36m4h10m\u001b[0m\n",
      "\u001b[36mairflow\u001b[0m                    \u001b[32mairflow-sync-connections-5f878b687d-64mbc\u001b[0m           \u001b[35m1/1\u001b[0m     \u001b[37mRunning\u001b[0m     \u001b[33m0\u001b[0m               \u001b[36m4h10m\u001b[0m\n",
      "\u001b[36mairflow\u001b[0m                    \u001b[32mairflow-sync-users-68995d58b4-z7brf\u001b[0m                 \u001b[35m1/1\u001b[0m     \u001b[37mRunning\u001b[0m     \u001b[33m0\u001b[0m               \u001b[36m4h10m\u001b[0m\n",
      "\u001b[36mairflow\u001b[0m                    \u001b[32mairflow-sync-variables-5bb77757b4-pz72b\u001b[0m             \u001b[35m1/1\u001b[0m     \u001b[37mRunning\u001b[0m     \u001b[33m0\u001b[0m               \u001b[36m4h10m\u001b[0m\n",
      "\u001b[36mairflow\u001b[0m                    \u001b[32mairflow-triggerer-86b9f4c4b9-95kzd\u001b[0m                  \u001b[35m1/1\u001b[0m     \u001b[37mRunning\u001b[0m     \u001b[33m0\u001b[0m               \u001b[36m4h10m\u001b[0m\n",
      "\u001b[36mairflow\u001b[0m                    \u001b[32mairflow-web-79fd5555c4-dtwsk\u001b[0m                        \u001b[35m1/1\u001b[0m     \u001b[37mRunning\u001b[0m     \u001b[33m0\u001b[0m               \u001b[36m4h10m\u001b[0m\n",
      "\u001b[36mairflow\u001b[0m                    \u001b[32mairflow-worker-0\u001b[0m                                    \u001b[35m1/1\u001b[0m     \u001b[37mRunning\u001b[0m     \u001b[33m0\u001b[0m               \u001b[36m4h10m\u001b[0m\n",
      "\u001b[36margocd\u001b[0m                     \u001b[32margocd-application-controller-0\u001b[0m                     \u001b[35m1/1\u001b[0m     \u001b[37mRunning\u001b[0m     \u001b[33m0\u001b[0m               \u001b[36m14m\u001b[0m\n",
      "\u001b[36margocd\u001b[0m                     \u001b[32margocd-applicationset-controller-66c9b84df4-76wdd\u001b[0m   \u001b[35m1/1\u001b[0m     \u001b[37mRunning\u001b[0m     \u001b[33m0\u001b[0m               \u001b[36m14m\u001b[0m\n",
      "\u001b[36margocd\u001b[0m                     \u001b[32margocd-dex-server-5df4cc4565-hl6kx\u001b[0m                  \u001b[35m1/1\u001b[0m     \u001b[37mRunning\u001b[0m     \u001b[33m0\u001b[0m               \u001b[36m14m\u001b[0m\n",
      "\u001b[36margocd\u001b[0m                     \u001b[32margocd-notifications-controller-6f54fd9856-n6958\u001b[0m    \u001b[35m1/1\u001b[0m     \u001b[37mRunning\u001b[0m     \u001b[33m0\u001b[0m               \u001b[36m14m\u001b[0m\n",
      "\u001b[36margocd\u001b[0m                     \u001b[32margocd-redis-75ddd9dfbd-p2dw9\u001b[0m                       \u001b[35m1/1\u001b[0m     \u001b[37mRunning\u001b[0m     \u001b[33m0\u001b[0m               \u001b[36m14m\u001b[0m\n",
      "\u001b[36margocd\u001b[0m                     \u001b[32margocd-repo-server-86448f84fb-fwn9r\u001b[0m                 \u001b[35m1/1\u001b[0m     \u001b[37mRunning\u001b[0m     \u001b[33m0\u001b[0m               \u001b[36m14m\u001b[0m\n",
      "\u001b[36margocd\u001b[0m                     \u001b[32margocd-server-8549d6695c-4cht8\u001b[0m                      \u001b[35m1/1\u001b[0m     \u001b[37mRunning\u001b[0m     \u001b[33m0\u001b[0m               \u001b[36m14m\u001b[0m\n",
      "\u001b[36maws-glue\u001b[0m                   \u001b[32maws-glue-jupyter-7bfb5f947f-ns69b\u001b[0m                   \u001b[35m3/3\u001b[0m     \u001b[37mRunning\u001b[0m     \u001b[33m6\u001b[0m               \u001b[36m2d5h\u001b[0m\n",
      "\u001b[36mcert-manager\u001b[0m               \u001b[32mcert-manager-6c69f9f796-kfkvv\u001b[0m                       \u001b[35m1/1\u001b[0m     \u001b[37mRunning\u001b[0m     \u001b[33m0\u001b[0m               \u001b[36m41m\u001b[0m\n",
      "\u001b[36mcert-manager\u001b[0m               \u001b[32mcert-manager-cainjector-584f44558c-nsxwc\u001b[0m            \u001b[35m1/1\u001b[0m     \u001b[37mRunning\u001b[0m     \u001b[33m0\u001b[0m               \u001b[36m41m\u001b[0m\n",
      "\u001b[36mcert-manager\u001b[0m               \u001b[32mcert-manager-webhook-76f9945d6f-qw5cf\u001b[0m               \u001b[35m1/1\u001b[0m     \u001b[37mRunning\u001b[0m     \u001b[33m0\u001b[0m               \u001b[36m41m\u001b[0m\n",
      "\u001b[36mcommander\u001b[0m                  \u001b[32mjupyter-server-589c46c7d-9zvdn\u001b[0m                      \u001b[35m1/1\u001b[0m     \u001b[37mRunning\u001b[0m     \u001b[33m0\u001b[0m               \u001b[36m4h10m\u001b[0m\n",
      "\u001b[36mcommander\u001b[0m                  \u001b[32mtunnel-server-79fc7576b6-fz85w\u001b[0m                      \u001b[35m1/1\u001b[0m     \u001b[37mRunning\u001b[0m     \u001b[33m0\u001b[0m               \u001b[36m4h10m\u001b[0m\n",
      "\u001b[36mdatahub\u001b[0m                    \u001b[32mdatahub-acryl-datahub-actions-56d59dc5f5-95nvb\u001b[0m      \u001b[35m1/1\u001b[0m     \u001b[37mRunning\u001b[0m     \u001b[33m1 (4h6m ago)\u001b[0m    \u001b[36m4h10m\u001b[0m\n",
      "\u001b[36mdatahub\u001b[0m                    \u001b[32mdatahub-datahub-frontend-7545898455-p2kxq\u001b[0m           \u001b[35m1/1\u001b[0m     \u001b[37mRunning\u001b[0m     \u001b[33m2\u001b[0m               \u001b[36m2d5h\u001b[0m\n",
      "\u001b[36mdatahub\u001b[0m                    \u001b[32mdatahub-datahub-gms-6464489876-hqbbz\u001b[0m                \u001b[35m1/1\u001b[0m     \u001b[37mRunning\u001b[0m     \u001b[33m9\u001b[0m               \u001b[36m5d3h\u001b[0m\n",
      "\u001b[36mdatahub\u001b[0m                    \u001b[32melasticsearch-master-0\u001b[0m                              \u001b[35m1/1\u001b[0m     \u001b[37mRunning\u001b[0m     \u001b[33m0\u001b[0m               \u001b[36m4h10m\u001b[0m\n",
      "\u001b[36mdatahub\u001b[0m                    \u001b[32mprerequisites-kafka-0\u001b[0m                               \u001b[35m1/1\u001b[0m     \u001b[37mRunning\u001b[0m     \u001b[33m19 (4h5m ago)\u001b[0m   \u001b[36m5d3h\u001b[0m\n",
      "\u001b[36mdatahub\u001b[0m                    \u001b[32mprerequisites-zookeeper-0\u001b[0m                           \u001b[35m1/1\u001b[0m     \u001b[37mRunning\u001b[0m     \u001b[33m7\u001b[0m               \u001b[36m5d3h\u001b[0m\n",
      "\u001b[36melasticsearch\u001b[0m              \u001b[32melasticsearch-coordinating-0\u001b[0m                        \u001b[35m1/1\u001b[0m     \u001b[37mRunning\u001b[0m     \u001b[33m0\u001b[0m               \u001b[36m4h10m\u001b[0m\n",
      "\u001b[36melasticsearch\u001b[0m              \u001b[32melasticsearch-coordinating-1\u001b[0m                        \u001b[35m1/1\u001b[0m     \u001b[37mRunning\u001b[0m     \u001b[33m0\u001b[0m               \u001b[36m4h10m\u001b[0m\n",
      "\u001b[36melasticsearch\u001b[0m              \u001b[32melasticsearch-data-0\u001b[0m                                \u001b[35m1/1\u001b[0m     \u001b[37mRunning\u001b[0m     \u001b[33m0\u001b[0m               \u001b[36m4h10m\u001b[0m\n",
      "\u001b[36melasticsearch\u001b[0m              \u001b[32melasticsearch-data-1\u001b[0m                                \u001b[35m1/1\u001b[0m     \u001b[37mRunning\u001b[0m     \u001b[33m0\u001b[0m               \u001b[36m4h10m\u001b[0m\n",
      "\u001b[36melasticsearch\u001b[0m              \u001b[32melasticsearch-ingest-0\u001b[0m                              \u001b[35m1/1\u001b[0m     \u001b[37mRunning\u001b[0m     \u001b[33m0\u001b[0m               \u001b[36m4h10m\u001b[0m\n",
      "\u001b[36melasticsearch\u001b[0m              \u001b[32melasticsearch-ingest-1\u001b[0m                              \u001b[35m1/1\u001b[0m     \u001b[37mRunning\u001b[0m     \u001b[33m0\u001b[0m               \u001b[36m4h10m\u001b[0m\n",
      "\u001b[36melasticsearch\u001b[0m              \u001b[32melasticsearch-master-0\u001b[0m                              \u001b[35m1/1\u001b[0m     \u001b[37mRunning\u001b[0m     \u001b[33m0\u001b[0m               \u001b[36m4h10m\u001b[0m\n",
      "\u001b[36melasticsearch\u001b[0m              \u001b[32melasticsearch-master-1\u001b[0m                              \u001b[35m1/1\u001b[0m     \u001b[37mRunning\u001b[0m     \u001b[33m0\u001b[0m               \u001b[36m4h10m\u001b[0m\n",
      "\u001b[36mhive\u001b[0m                       \u001b[32mhive-metastore-59d88f4979-7m9f2\u001b[0m                     \u001b[35m1/1\u001b[0m     \u001b[37mRunning\u001b[0m     \u001b[33m0\u001b[0m               \u001b[36m4h10m\u001b[0m\n",
      "\u001b[36mingress-nginx\u001b[0m              \u001b[32mingress-nginx-admission-create-lhtwn\u001b[0m                \u001b[33m0/1\u001b[0m     \u001b[37mCompleted\u001b[0m   \u001b[33m0\u001b[0m               \u001b[36m5d4h\u001b[0m\n",
      "\u001b[36mingress-nginx\u001b[0m              \u001b[32mingress-nginx-admission-patch-lcgtk\u001b[0m                 \u001b[33m0/1\u001b[0m     \u001b[37mCompleted\u001b[0m   \u001b[33m2\u001b[0m               \u001b[36m5d4h\u001b[0m\n",
      "\u001b[36mingress-nginx\u001b[0m              \u001b[32mingress-nginx-controller-84945f6d87-xvsf7\u001b[0m           \u001b[35m1/1\u001b[0m     \u001b[37mRunning\u001b[0m     \u001b[33m7\u001b[0m               \u001b[36m5d3h\u001b[0m\n",
      "\u001b[36mjfrog\u001b[0m                      \u001b[32mjfrog-artifactory-jcr-0\u001b[0m                             \u001b[35m6/6\u001b[0m     \u001b[37mRunning\u001b[0m     \u001b[33m0\u001b[0m               \u001b[36m20m\u001b[0m\n",
      "\u001b[36mk8s-replicator\u001b[0m             \u001b[32mkubernetes-replicator-85c7d9f464-6l84t\u001b[0m              \u001b[35m1/1\u001b[0m     \u001b[37mRunning\u001b[0m     \u001b[33m2\u001b[0m               \u001b[36m2d5h\u001b[0m\n",
      "\u001b[36mkafka-main-cluster\u001b[0m         \u001b[32mmain-entity-operator-5bd9cdc9b6-brrzl\u001b[0m               \u001b[35m2/2\u001b[0m     \u001b[37mRunning\u001b[0m     \u001b[33m14 (4h2m ago)\u001b[0m   \u001b[36m4h10m\u001b[0m\n",
      "\u001b[36mkafka-main-cluster\u001b[0m         \u001b[32mmain-kafka-0\u001b[0m                                        \u001b[35m1/1\u001b[0m     \u001b[37mRunning\u001b[0m     \u001b[33m0\u001b[0m               \u001b[36m4h1m\u001b[0m\n",
      "\u001b[36mkafka-main-cluster\u001b[0m         \u001b[32mmain-registry-schema-registry-0\u001b[0m                     \u001b[35m1/1\u001b[0m     \u001b[37mRunning\u001b[0m     \u001b[33m5 (4h2m ago)\u001b[0m    \u001b[36m4h10m\u001b[0m\n",
      "\u001b[36mkafka-main-cluster\u001b[0m         \u001b[32mmain-zookeeper-0\u001b[0m                                    \u001b[35m1/1\u001b[0m     \u001b[37mRunning\u001b[0m     \u001b[33m0\u001b[0m               \u001b[36m4h1m\u001b[0m\n",
      "\u001b[36mkafka-main-cluster\u001b[0m         \u001b[32mmy-bridge-bridge-549bb98dff-fvttz\u001b[0m                   \u001b[35m1/1\u001b[0m     \u001b[37mRunning\u001b[0m     \u001b[33m10 (4h8m ago)\u001b[0m   \u001b[36m5d3h\u001b[0m\n",
      "\u001b[36mkafka-main-cluster\u001b[0m         \u001b[32mmy-connect-connect-0\u001b[0m                                \u001b[35m1/1\u001b[0m     \u001b[37mRunning\u001b[0m     \u001b[33m0\u001b[0m               \u001b[36m4h1m\u001b[0m\n",
      "\u001b[36mkafka\u001b[0m                      \u001b[32mkafka-ui-646c544498-9852x\u001b[0m                           \u001b[35m1/1\u001b[0m     \u001b[37mRunning\u001b[0m     \u001b[33m0\u001b[0m               \u001b[36m4h10m\u001b[0m\n",
      "\u001b[36mkafka\u001b[0m                      \u001b[32mredpandas-console-7c675884fb-b5fb7\u001b[0m                  \u001b[35m1/1\u001b[0m     \u001b[37mRunning\u001b[0m     \u001b[33m8 (4h2m ago)\u001b[0m    \u001b[36m4h10m\u001b[0m\n",
      "\u001b[36mkafka\u001b[0m                      \u001b[32mstrimzi-cluster-operator-768d955cd9-c7frl\u001b[0m           \u001b[35m1/1\u001b[0m     \u001b[37mRunning\u001b[0m     \u001b[33m2\u001b[0m               \u001b[36m2d5h\u001b[0m\n",
      "\u001b[36mkube-system\u001b[0m                \u001b[32mcoredns-5dd5756b68-p2dw2\u001b[0m                            \u001b[35m1/1\u001b[0m     \u001b[37mRunning\u001b[0m     \u001b[33m8\u001b[0m               \u001b[36m5d4h\u001b[0m\n",
      "\u001b[36mkube-system\u001b[0m                \u001b[32metcd-cluster2\u001b[0m                                       \u001b[35m1/1\u001b[0m     \u001b[37mRunning\u001b[0m     \u001b[33m8\u001b[0m               \u001b[36m5d4h\u001b[0m\n",
      "\u001b[36mkube-system\u001b[0m                \u001b[32mkindnet-6rltd\u001b[0m                                       \u001b[35m1/1\u001b[0m     \u001b[37mRunning\u001b[0m     \u001b[33m0\u001b[0m               \u001b[36m4h\u001b[0m\n",
      "\u001b[36mkube-system\u001b[0m                \u001b[32mkindnet-l6ck8\u001b[0m                                       \u001b[35m1/1\u001b[0m     \u001b[37mRunning\u001b[0m     \u001b[33m0\u001b[0m               \u001b[36m4h\u001b[0m\n",
      "\u001b[36mkube-system\u001b[0m                \u001b[32mkindnet-tvxnj\u001b[0m                                       \u001b[35m1/1\u001b[0m     \u001b[37mRunning\u001b[0m     \u001b[33m0\u001b[0m               \u001b[36m3h59m\u001b[0m\n",
      "\u001b[36mkube-system\u001b[0m                \u001b[32mkindnet-v2gwd\u001b[0m                                       \u001b[35m1/1\u001b[0m     \u001b[37mRunning\u001b[0m     \u001b[33m0\u001b[0m               \u001b[36m4h\u001b[0m\n",
      "\u001b[36mkube-system\u001b[0m                \u001b[32mkube-apiserver-cluster2\u001b[0m                             \u001b[35m1/1\u001b[0m     \u001b[37mRunning\u001b[0m     \u001b[33m8\u001b[0m               \u001b[36m5d4h\u001b[0m\n",
      "\u001b[36mkube-system\u001b[0m                \u001b[32mkube-controller-manager-cluster2\u001b[0m                    \u001b[35m1/1\u001b[0m     \u001b[37mRunning\u001b[0m     \u001b[33m8\u001b[0m               \u001b[36m5d4h\u001b[0m\n",
      "\u001b[36mkube-system\u001b[0m                \u001b[32mkube-proxy-5rs9j\u001b[0m                                    \u001b[35m1/1\u001b[0m     \u001b[37mRunning\u001b[0m     \u001b[33m8\u001b[0m               \u001b[36m5d4h\u001b[0m\n",
      "\u001b[36mkube-system\u001b[0m                \u001b[32mkube-proxy-8rwbt\u001b[0m                                    \u001b[35m1/1\u001b[0m     \u001b[37mRunning\u001b[0m     \u001b[33m8 (4h10m ago)\u001b[0m   \u001b[36m5d4h\u001b[0m\n",
      "\u001b[36mkube-system\u001b[0m                \u001b[32mkube-proxy-fzr2j\u001b[0m                                    \u001b[35m1/1\u001b[0m     \u001b[37mRunning\u001b[0m     \u001b[33m8 (4h10m ago)\u001b[0m   \u001b[36m5d4h\u001b[0m\n",
      "\u001b[36mkube-system\u001b[0m                \u001b[32mkube-proxy-z6q4v\u001b[0m                                    \u001b[35m1/1\u001b[0m     \u001b[37mRunning\u001b[0m     \u001b[33m8 (4h10m ago)\u001b[0m   \u001b[36m5d4h\u001b[0m\n",
      "\u001b[36mkube-system\u001b[0m                \u001b[32mkube-scheduler-cluster2\u001b[0m                             \u001b[35m1/1\u001b[0m     \u001b[37mRunning\u001b[0m     \u001b[33m8\u001b[0m               \u001b[36m5d4h\u001b[0m\n",
      "\u001b[36mkube-system\u001b[0m                \u001b[32mmetrics-server-7c66d45ddc-4pmb2\u001b[0m                     \u001b[35m1/1\u001b[0m     \u001b[37mRunning\u001b[0m     \u001b[33m2\u001b[0m               \u001b[36m2d5h\u001b[0m\n",
      "\u001b[36mkube-system\u001b[0m                \u001b[32mstorage-provisioner\u001b[0m                                 \u001b[35m1/1\u001b[0m     \u001b[37mRunning\u001b[0m     \u001b[33m12\u001b[0m              \u001b[36m5d4h\u001b[0m\n",
      "\u001b[36mkubernetes-dashboard\u001b[0m       \u001b[32mdashboard-metrics-scraper-7fd5cb4ddc-bhdc5\u001b[0m          \u001b[35m1/1\u001b[0m     \u001b[37mRunning\u001b[0m     \u001b[33m2\u001b[0m               \u001b[36m2d5h\u001b[0m\n",
      "\u001b[36mkubernetes-dashboard\u001b[0m       \u001b[32mkubernetes-dashboard-8694d4445c-pcj8w\u001b[0m               \u001b[35m1/1\u001b[0m     \u001b[37mRunning\u001b[0m     \u001b[33m4\u001b[0m               \u001b[36m3d4h\u001b[0m\n",
      "\u001b[36mlocalstack\u001b[0m                 \u001b[32mlocalstack-f7bd7d54d-bxvtl\u001b[0m                          \u001b[35m1/1\u001b[0m     \u001b[37mRunning\u001b[0m     \u001b[33m6\u001b[0m               \u001b[36m4d4h\u001b[0m\n",
      "\u001b[36mmetabase\u001b[0m                   \u001b[32mmetabase-deployment-5c69689fc4-2kh7r\u001b[0m                \u001b[35m1/1\u001b[0m     \u001b[37mRunning\u001b[0m     \u001b[33m0\u001b[0m               \u001b[36m4h10m\u001b[0m\n",
      "\u001b[36mmetallb-system\u001b[0m             \u001b[32mcontroller-7f75d4cbfb-m68kn\u001b[0m                         \u001b[35m1/1\u001b[0m     \u001b[37mRunning\u001b[0m     \u001b[33m2\u001b[0m               \u001b[36m2d5h\u001b[0m\n",
      "\u001b[36mmetallb-system\u001b[0m             \u001b[32mspeaker-2nhqk\u001b[0m                                       \u001b[35m1/1\u001b[0m     \u001b[37mRunning\u001b[0m     \u001b[33m8\u001b[0m               \u001b[36m5d4h\u001b[0m\n",
      "\u001b[36mmetallb-system\u001b[0m             \u001b[32mspeaker-5jh6c\u001b[0m                                       \u001b[35m1/1\u001b[0m     \u001b[37mRunning\u001b[0m     \u001b[33m8 (4h10m ago)\u001b[0m   \u001b[36m5d4h\u001b[0m\n",
      "\u001b[36mmetallb-system\u001b[0m             \u001b[32mspeaker-lk6p8\u001b[0m                                       \u001b[35m1/1\u001b[0m     \u001b[37mRunning\u001b[0m     \u001b[33m9 (4h10m ago)\u001b[0m   \u001b[36m5d4h\u001b[0m\n",
      "\u001b[36mmetallb-system\u001b[0m             \u001b[32mspeaker-wwggj\u001b[0m                                       \u001b[35m1/1\u001b[0m     \u001b[37mRunning\u001b[0m     \u001b[33m8 (4h10m ago)\u001b[0m   \u001b[36m5d4h\u001b[0m\n",
      "\u001b[36mminio-operator\u001b[0m             \u001b[32mconsole-75dc7dc944-lvm27\u001b[0m                            \u001b[35m1/1\u001b[0m     \u001b[37mRunning\u001b[0m     \u001b[33m5\u001b[0m               \u001b[36m4d4h\u001b[0m\n",
      "\u001b[36mminio-operator\u001b[0m             \u001b[32mminio-operator-5fb57dcdd5-hgwrt\u001b[0m                     \u001b[35m1/1\u001b[0m     \u001b[37mRunning\u001b[0m     \u001b[33m0\u001b[0m               \u001b[36m4h10m\u001b[0m\n",
      "\u001b[36mminio-operator\u001b[0m             \u001b[32mminio-operator-5fb57dcdd5-xssgr\u001b[0m                     \u001b[35m1/1\u001b[0m     \u001b[37mRunning\u001b[0m     \u001b[33m7\u001b[0m               \u001b[36m5d3h\u001b[0m\n",
      "\u001b[36mminio-tenant-1\u001b[0m             \u001b[32mminio-tenant-1-ss-0-0\u001b[0m                               \u001b[35m2/2\u001b[0m     \u001b[37mRunning\u001b[0m     \u001b[33m0\u001b[0m               \u001b[36m4h10m\u001b[0m\n",
      "\u001b[36mminio-tenant-1\u001b[0m             \u001b[32mminio-tenant-1-ss-0-1\u001b[0m                               \u001b[35m2/2\u001b[0m     \u001b[37mRunning\u001b[0m     \u001b[33m0\u001b[0m               \u001b[36m4h10m\u001b[0m\n",
      "\u001b[36mminio-tenant-1\u001b[0m             \u001b[32mminio-tenant-1-ss-0-2\u001b[0m                               \u001b[35m2/2\u001b[0m     \u001b[37mRunning\u001b[0m     \u001b[33m0\u001b[0m               \u001b[36m4h10m\u001b[0m\n",
      "\u001b[36mmongodb\u001b[0m                    \u001b[32mmongodb-kubernetes-operator-bf56d5578-bmfgg\u001b[0m         \u001b[35m1/1\u001b[0m     \u001b[37mRunning\u001b[0m     \u001b[33m2\u001b[0m               \u001b[36m2d5h\u001b[0m\n",
      "\u001b[36mmysql\u001b[0m                      \u001b[32mmy-release-mysql-0\u001b[0m                                  \u001b[35m1/1\u001b[0m     \u001b[37mRunning\u001b[0m     \u001b[33m0\u001b[0m               \u001b[36m4h10m\u001b[0m\n",
      "\u001b[36mnfs-external-provisioner\u001b[0m   \u001b[32mnfs-subdir-external-provisioner-78f9d66b78-wpvpn\u001b[0m    \u001b[35m1/1\u001b[0m     \u001b[37mRunning\u001b[0m     \u001b[33m6\u001b[0m               \u001b[36m5d2h\u001b[0m\n",
      "\u001b[36mopenmetadata\u001b[0m               \u001b[32mopenmetadata-664b4bd67c-f28d8\u001b[0m                       \u001b[35m1/1\u001b[0m     \u001b[37mRunning\u001b[0m     \u001b[33m0\u001b[0m               \u001b[36m4h10m\u001b[0m\n",
      "\u001b[36mpostgres\u001b[0m                   \u001b[32mpostgres-postgresql-0\u001b[0m                               \u001b[35m1/1\u001b[0m     \u001b[37mRunning\u001b[0m     \u001b[33m0\u001b[0m               \u001b[36m4h10m\u001b[0m\n",
      "\u001b[36msqlserver\u001b[0m                  \u001b[32mmssqlserver-2022-97999577d-ddctw\u001b[0m                    \u001b[35m1/1\u001b[0m     \u001b[37mRunning\u001b[0m     \u001b[33m6\u001b[0m               \u001b[36m4d23h\u001b[0m\n",
      "\u001b[36mtrino\u001b[0m                      \u001b[32mtrino-coordinator-dbbbcf9d9-d9dqq\u001b[0m                   \u001b[35m1/1\u001b[0m     \u001b[37mRunning\u001b[0m     \u001b[33m5\u001b[0m               \u001b[36m4d4h\u001b[0m\n",
      "\u001b[36mtrino\u001b[0m                      \u001b[32mtrino-worker-6c58b678cc-6xkjh\u001b[0m                       \u001b[35m1/1\u001b[0m     \u001b[37mRunning\u001b[0m     \u001b[33m0\u001b[0m               \u001b[36m4h10m\u001b[0m\n",
      "\u001b[36mtrino\u001b[0m                      \u001b[32mtrino-worker-6c58b678cc-zwb44\u001b[0m                       \u001b[35m1/1\u001b[0m     \u001b[37mRunning\u001b[0m     \u001b[33m7\u001b[0m               \u001b[36m5d3h\u001b[0m\n",
      "\u001b[36mzeppelin\u001b[0m                   \u001b[32mjupyter-server-6fb8f7dcbc-hmgp2\u001b[0m                     \u001b[35m1/1\u001b[0m     \u001b[37mRunning\u001b[0m     \u001b[33m0\u001b[0m               \u001b[36m4h10m\u001b[0m\n",
      "\u001b[36mzeppelin\u001b[0m                   \u001b[32mzeppelin-server-5d75d4f9d5-q8tls\u001b[0m                    \u001b[35m3/3\u001b[0m     \u001b[37mRunning\u001b[0m     \u001b[33m0\u001b[0m               \u001b[36m4h10m\u001b[0m\n"
     ]
    }
   ],
   "source": [
    "!kubecolor get pods -A"
   ]
  },
  {
   "cell_type": "code",
   "execution_count": null,
   "id": "19402d44-6b03-4e97-b759-28654a0076dc",
   "metadata": {},
   "outputs": [],
   "source": []
  }
 ],
 "metadata": {
  "kernelspec": {
   "display_name": "Python 3 (ipykernel)",
   "language": "python",
   "name": "python3"
  },
  "language_info": {
   "codemirror_mode": {
    "name": "ipython",
    "version": 3
   },
   "file_extension": ".py",
   "mimetype": "text/x-python",
   "name": "python",
   "nbconvert_exporter": "python",
   "pygments_lexer": "ipython3",
   "version": "3.10.13"
  }
 },
 "nbformat": 4,
 "nbformat_minor": 5
}
