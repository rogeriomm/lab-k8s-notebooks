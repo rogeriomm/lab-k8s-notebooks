{
 "cells": [
  {
   "cell_type": "code",
   "execution_count": 1,
   "id": "90147548-9e86-4dcf-8b1a-801aab06d6e2",
   "metadata": {},
   "outputs": [
    {
     "name": "stdout",
     "output_type": "stream",
     "text": [
      "Username: admin\n",
      "Password: 3TFGeep4Sw\n"
     ]
    }
   ],
   "source": [
    "!echo Username: \"admin\" && \\\n",
    " echo Password: $(kubectl get secret --namespace harbor harbor-core-envvars -o jsonpath=\"{.data.HARBOR_ADMIN_PASSWORD}\" | base64 -d)"
   ]
  },
  {
   "cell_type": "code",
   "execution_count": null,
   "id": "d9439566-65ed-408f-9c67-9c6db958ec63",
   "metadata": {},
   "outputs": [],
   "source": []
  }
 ],
 "metadata": {
  "kernelspec": {
   "display_name": "Python 3 (ipykernel)",
   "language": "python",
   "name": "python3"
  },
  "language_info": {
   "codemirror_mode": {
    "name": "ipython",
    "version": 3
   },
   "file_extension": ".py",
   "mimetype": "text/x-python",
   "name": "python",
   "nbconvert_exporter": "python",
   "pygments_lexer": "ipython3",
   "version": "3.10.13"
  }
 },
 "nbformat": 4,
 "nbformat_minor": 5
}
