{
 "cells": [
  {
   "cell_type": "code",
   "execution_count": 5,
   "id": "6a3410ec-6a38-46ec-84af-5898512d0ad1",
   "metadata": {},
   "outputs": [
    {
     "name": "stdout",
     "output_type": "stream",
     "text": [
      "\u001b[37mNAME                                     READY   STATUS    RESTARTS   AGE\u001b[0m\n",
      "\u001b[36mpod/harbor-core-554bd598-h89c8\u001b[0m           \u001b[32m1/1\u001b[0m     \u001b[35mRunning\u001b[0m   \u001b[37m0\u001b[0m          \u001b[33m3h2m\u001b[0m\n",
      "\u001b[36mpod/harbor-jobservice-7dfdb44bb4-2r4bf\u001b[0m   \u001b[32m1/1\u001b[0m     \u001b[35mRunning\u001b[0m   \u001b[37m0\u001b[0m          \u001b[33m3h34m\u001b[0m\n",
      "\u001b[36mpod/harbor-portal-5dd577bd-jc6cc\u001b[0m         \u001b[32m1/1\u001b[0m     \u001b[35mRunning\u001b[0m   \u001b[37m0\u001b[0m          \u001b[33m3h37m\u001b[0m\n",
      "\u001b[36mpod/harbor-postgresql-0\u001b[0m                  \u001b[32m1/1\u001b[0m     \u001b[35mRunning\u001b[0m   \u001b[37m0\u001b[0m          \u001b[33m3h37m\u001b[0m\n",
      "\u001b[36mpod/harbor-redis-master-0\u001b[0m                \u001b[32m1/1\u001b[0m     \u001b[35mRunning\u001b[0m   \u001b[37m0\u001b[0m          \u001b[33m3h37m\u001b[0m\n",
      "\u001b[36mpod/harbor-registry-6cfb875645-sjkz5\u001b[0m     \u001b[32m2/2\u001b[0m     \u001b[35mRunning\u001b[0m   \u001b[37m0\u001b[0m          \u001b[33m3h34m\u001b[0m\n",
      "\u001b[36mpod/harbor-trivy-0\u001b[0m                       \u001b[32m1/1\u001b[0m     \u001b[35mRunning\u001b[0m   \u001b[37m0\u001b[0m          \u001b[33m3h37m\u001b[0m\n",
      "\u001b[37m\u001b[0m\n",
      "\u001b[37mNAME                            TYPE        CLUSTER-IP       EXTERNAL-IP   PORT(S)             AGE\u001b[0m\n",
      "\u001b[36mservice/harbor-core\u001b[0m             \u001b[36mClusterIP\u001b[0m   \u001b[32m10.102.38.134\u001b[0m    \u001b[35m<none>\u001b[0m        \u001b[37m80/TCP\u001b[0m              \u001b[33m3h37m\u001b[0m\n",
      "\u001b[36mservice/harbor-jobservice\u001b[0m       \u001b[36mClusterIP\u001b[0m   \u001b[32m10.108.254.58\u001b[0m    \u001b[35m<none>\u001b[0m        \u001b[37m80/TCP\u001b[0m              \u001b[33m3h37m\u001b[0m\n",
      "\u001b[36mservice/harbor-portal\u001b[0m           \u001b[36mClusterIP\u001b[0m   \u001b[32m10.108.226.209\u001b[0m   \u001b[35m<none>\u001b[0m        \u001b[37m80/TCP\u001b[0m              \u001b[33m3h37m\u001b[0m\n",
      "\u001b[36mservice/harbor-postgresql\u001b[0m       \u001b[36mClusterIP\u001b[0m   \u001b[32m10.104.68.236\u001b[0m    \u001b[35m<none>\u001b[0m        \u001b[37m5432/TCP\u001b[0m            \u001b[33m3h37m\u001b[0m\n",
      "\u001b[36mservice/harbor-postgresql-hl\u001b[0m    \u001b[36mClusterIP\u001b[0m   \u001b[32mNone\u001b[0m             \u001b[35m<none>\u001b[0m        \u001b[37m5432/TCP\u001b[0m            \u001b[33m3h37m\u001b[0m\n",
      "\u001b[36mservice/harbor-redis-headless\u001b[0m   \u001b[36mClusterIP\u001b[0m   \u001b[32mNone\u001b[0m             \u001b[35m<none>\u001b[0m        \u001b[37m6379/TCP\u001b[0m            \u001b[33m3h37m\u001b[0m\n",
      "\u001b[36mservice/harbor-redis-master\u001b[0m     \u001b[36mClusterIP\u001b[0m   \u001b[32m10.110.169.30\u001b[0m    \u001b[35m<none>\u001b[0m        \u001b[37m6379/TCP\u001b[0m            \u001b[33m3h37m\u001b[0m\n",
      "\u001b[36mservice/harbor-registry\u001b[0m         \u001b[36mClusterIP\u001b[0m   \u001b[32m10.103.220.118\u001b[0m   \u001b[35m<none>\u001b[0m        \u001b[37m5000/TCP,8080/TCP\u001b[0m   \u001b[33m3h37m\u001b[0m\n",
      "\u001b[36mservice/harbor-trivy\u001b[0m            \u001b[36mClusterIP\u001b[0m   \u001b[32m10.99.135.231\u001b[0m    \u001b[35m<none>\u001b[0m        \u001b[37m8080/TCP\u001b[0m            \u001b[33m3h37m\u001b[0m\n",
      "\u001b[37m\u001b[0m\n",
      "\u001b[37mNAME                                READY   UP-TO-DATE   AVAILABLE   AGE\u001b[0m\n",
      "\u001b[36mdeployment.apps/harbor-core\u001b[0m         \u001b[36m1/1\u001b[0m     \u001b[32m1\u001b[0m            \u001b[32m1\u001b[0m           \u001b[35m3h37m\u001b[0m\n",
      "\u001b[36mdeployment.apps/harbor-jobservice\u001b[0m   \u001b[36m1/1\u001b[0m     \u001b[32m1\u001b[0m            \u001b[32m1\u001b[0m           \u001b[35m3h37m\u001b[0m\n",
      "\u001b[36mdeployment.apps/harbor-portal\u001b[0m       \u001b[36m1/1\u001b[0m     \u001b[32m1\u001b[0m            \u001b[32m1\u001b[0m           \u001b[35m3h37m\u001b[0m\n",
      "\u001b[36mdeployment.apps/harbor-registry\u001b[0m     \u001b[36m1/1\u001b[0m     \u001b[32m1\u001b[0m            \u001b[32m1\u001b[0m           \u001b[35m3h37m\u001b[0m\n",
      "\u001b[37m\u001b[0m\n",
      "\u001b[37mNAME                                           DESIRED   CURRENT   READY   AGE\u001b[0m\n",
      "\u001b[36mreplicaset.apps/harbor-core-554bd598\u001b[0m           \u001b[37m1\u001b[0m         \u001b[32m1\u001b[0m         \u001b[33m1\u001b[0m       \u001b[37m3h2m\u001b[0m\n",
      "\u001b[36mreplicaset.apps/harbor-core-5885b585cd\u001b[0m         \u001b[37m0\u001b[0m         \u001b[32m0\u001b[0m         \u001b[33m0\u001b[0m       \u001b[37m3h31m\u001b[0m\n",
      "\u001b[36mreplicaset.apps/harbor-core-5cc975b488\u001b[0m         \u001b[37m0\u001b[0m         \u001b[32m0\u001b[0m         \u001b[33m0\u001b[0m       \u001b[37m3h37m\u001b[0m\n",
      "\u001b[36mreplicaset.apps/harbor-core-f5cc5c9b9\u001b[0m          \u001b[37m0\u001b[0m         \u001b[32m0\u001b[0m         \u001b[33m0\u001b[0m       \u001b[37m3h34m\u001b[0m\n",
      "\u001b[36mreplicaset.apps/harbor-jobservice-7594c97bdd\u001b[0m   \u001b[37m0\u001b[0m         \u001b[32m0\u001b[0m         \u001b[33m0\u001b[0m       \u001b[37m3h37m\u001b[0m\n",
      "\u001b[36mreplicaset.apps/harbor-jobservice-7dfdb44bb4\u001b[0m   \u001b[37m1\u001b[0m         \u001b[32m1\u001b[0m         \u001b[33m1\u001b[0m       \u001b[37m3h34m\u001b[0m\n",
      "\u001b[36mreplicaset.apps/harbor-portal-5dd577bd\u001b[0m         \u001b[37m1\u001b[0m         \u001b[32m1\u001b[0m         \u001b[33m1\u001b[0m       \u001b[37m3h37m\u001b[0m\n",
      "\u001b[36mreplicaset.apps/harbor-registry-6cfb875645\u001b[0m     \u001b[37m1\u001b[0m         \u001b[32m1\u001b[0m         \u001b[33m1\u001b[0m       \u001b[37m3h34m\u001b[0m\n",
      "\u001b[36mreplicaset.apps/harbor-registry-6dbdbcb4f9\u001b[0m     \u001b[37m0\u001b[0m         \u001b[32m0\u001b[0m         \u001b[33m0\u001b[0m       \u001b[37m3h37m\u001b[0m\n",
      "\u001b[37m\u001b[0m\n",
      "\u001b[37mNAME                                   READY   AGE\u001b[0m\n",
      "\u001b[36mstatefulset.apps/harbor-postgresql\u001b[0m     \u001b[36m1/1\u001b[0m     \u001b[37m3h37m\u001b[0m\n",
      "\u001b[36mstatefulset.apps/harbor-redis-master\u001b[0m   \u001b[36m1/1\u001b[0m     \u001b[37m3h37m\u001b[0m\n",
      "\u001b[36mstatefulset.apps/harbor-trivy\u001b[0m          \u001b[36m1/1\u001b[0m     \u001b[37m3h37m\u001b[0m\n"
     ]
    }
   ],
   "source": [
    "!kubecolor -n harbor get all"
   ]
  },
  {
   "cell_type": "code",
   "execution_count": null,
   "id": "3e632d5e-3bec-45cd-97b3-032aae368abc",
   "metadata": {},
   "outputs": [],
   "source": []
  }
 ],
 "metadata": {
  "kernelspec": {
   "display_name": "Python 3 (ipykernel)",
   "language": "python",
   "name": "python3"
  },
  "language_info": {
   "codemirror_mode": {
    "name": "ipython",
    "version": 3
   },
   "file_extension": ".py",
   "mimetype": "text/x-python",
   "name": "python",
   "nbconvert_exporter": "python",
   "pygments_lexer": "ipython3",
   "version": "3.10.13"
  }
 },
 "nbformat": 4,
 "nbformat_minor": 5
}
