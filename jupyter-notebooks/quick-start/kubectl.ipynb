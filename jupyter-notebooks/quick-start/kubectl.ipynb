{
 "cells": [
  {
   "cell_type": "code",
   "execution_count": 3,
   "id": "d2ead6ad-4e2a-4a7f-b990-4dc8d484896b",
   "metadata": {},
   "outputs": [
    {
     "name": "stdout",
     "output_type": "stream",
     "text": [
      "NAMESPACE                  NAME                                                READY   STATUS                  RESTARTS         AGE\n",
      "airflow                    airflow-db-migrations-7cf9fc586d-hls88              1/1     Running                 0                92m\n",
      "airflow                    airflow-flower-6677599cc4-hgl4q                     1/1     Running                 0                92m\n",
      "airflow                    airflow-pgbouncer-7984c67569-7cxtd                  1/1     Running                 0                92m\n",
      "airflow                    airflow-redis-master-0                              1/1     Running                 20 (95m ago)     5d1h\n",
      "airflow                    airflow-scheduler-84c4f66cfb-t2hqg                  2/2     Running                 0                92m\n",
      "airflow                    airflow-sync-connections-69797c9b66-zf5km           1/1     Running                 0                92m\n",
      "airflow                    airflow-sync-users-7d48c77875-4sf5g                 1/1     Running                 0                92m\n",
      "airflow                    airflow-sync-variables-6b7f5d4689-jz4nz             1/1     Running                 0                92m\n",
      "airflow                    airflow-triggerer-69dd8fc5db-qjwnv                  1/1     Running                 0                92m\n",
      "airflow                    airflow-web-b9f7474d9-wjkn6                         1/1     Running                 0                92m\n",
      "airflow                    airflow-worker-0                                    2/2     Running                 0                93m\n",
      "argocd                     argocd-application-controller-0                     1/1     Running                 15 (95m ago)     5d1h\n",
      "argocd                     argocd-applicationset-controller-58965fcf4c-6sld4   1/1     Running                 10 (93m ago)     3d4h\n",
      "argocd                     argocd-dex-server-5bd46459b7-wjpv7                  1/1     Running                 14 (95m ago)     6d1h\n",
      "argocd                     argocd-notifications-controller-77fb46fc9-tpjqx     1/1     Running                 4 (95m ago)      42h\n",
      "argocd                     argocd-redis-87c5b59cf-q72xp                        1/1     Running                 16 (95m ago)     6d1h\n",
      "argocd                     argocd-repo-server-7b589485ff-p8p7k                 1/1     Running                 7 (95m ago)      3d4h\n",
      "argocd                     argocd-server-5d78bcbc7b-xd7vg                      1/1     Running                 16 (95m ago)     5d1h\n",
      "aws-glue                   aws-glue-jupyter-7bfb5f947f-hnp9n                   3/3     Running                 12 (95m ago)     42h\n",
      "commander                  jupyter-server-59db7d9749-ptdtj                     1/1     Running                 0                4m37s\n",
      "commander                  tunnel-server-5b87f477b5-d62pb                      1/1     Running                 0                92m\n",
      "datahub                    datahub-acryl-datahub-actions-56d59dc5f5-4cjjc      1/1     Running                 6 (95m ago)      41h\n",
      "datahub                    datahub-datahub-frontend-84cbc74689-h6hj5           1/1     Running                 7 (93m ago)      42h\n",
      "datahub                    datahub-datahub-gms-6464489876-4m5ld                1/1     Running                 3 (95m ago)      27h\n",
      "datahub                    datahub-datahub-system-update-job-tv9bz             0/1     Completed               0                6d\n",
      "datahub                    datahub-elasticsearch-setup-job-gq5w2               0/1     Completed               0                6d\n",
      "datahub                    datahub-nocode-migration-job-gxzwp                  0/1     Completed               0                6d\n",
      "datahub                    datahub-postgresql-setup-job-cbr6q                  0/1     Completed               0                6d\n",
      "datahub                    elasticsearch-master-0                              1/1     Running                 0                92m\n",
      "datahub                    prerequisites-kafka-0                               1/1     Running                 49 (92m ago)     6d\n",
      "datahub                    prerequisites-zookeeper-0                           1/1     Running                 0                93m\n",
      "elasticsearch              elasticsearch-coordinating-0                        1/1     Running                 13 (95m ago)     5d1h\n",
      "elasticsearch              elasticsearch-coordinating-1                        1/1     Running                 0                92m\n",
      "elasticsearch              elasticsearch-data-0                                1/1     Running                 17 (95m ago)     6d19h\n",
      "elasticsearch              elasticsearch-data-1                                1/1     Running                 0                92m\n",
      "elasticsearch              elasticsearch-ingest-0                              1/1     Running                 17 (95m ago)     6d19h\n",
      "elasticsearch              elasticsearch-ingest-1                              1/1     Running                 0                92m\n",
      "elasticsearch              elasticsearch-master-0                              1/1     Running                 0                93m\n",
      "elasticsearch              elasticsearch-master-1                              1/1     Running                 0                92m\n",
      "hive                       hive-metastore-775565f594-vf5dn                     1/1     Running                 12 (95m ago)     5d1h\n",
      "ingress-nginx              ingress-nginx-admission-create-t2zpd                0/1     Completed               0                7d\n",
      "ingress-nginx              ingress-nginx-admission-patch-rt8j4                 0/1     Completed               0                7d\n",
      "ingress-nginx              ingress-nginx-controller-84945f6d87-k6vsx           1/1     Running                 19 (95m ago)     6d20h\n",
      "k8s-replicator             kubernetes-replicator-85c7d9f464-z66pc              1/1     Running                 15 (95m ago)     5d1h\n",
      "kafka-main-cluster         main-entity-operator-5bd9cdc9b6-zt7q7               0/2     CrashLoopBackOff        57 (2m18s ago)   92m\n",
      "kafka-main-cluster         main-kafka-0                                        0/1     CrashLoopBackOff        40 (119s ago)    146m\n",
      "kafka-main-cluster         main-registry-schema-registry-0                     0/1     CrashLoopBackOff        25 (2m42s ago)   93m\n",
      "kafka-main-cluster         main-zookeeper-0                                    1/1     Running                 0                92m\n",
      "kafka-main-cluster         my-bridge-bridge-795b56fb6c-bt8vf                   1/1     Running                 14 (93m ago)     2d3h\n",
      "kafka-main-cluster         my-connect-connect-0                                0/1     CrashLoopBackOff        20 (4m51s ago)   92m\n",
      "kafka                      kafka-ui-646c544498-w96fs                           1/1     Running                 10 (95m ago)     3d4h\n",
      "kafka                      strimzi-cluster-operator-5468456c77-87km8           1/1     Running                 4 (95m ago)      42h\n",
      "kube-system                coredns-5dd5756b68-gpf8k                            1/1     Running                 21 (95m ago)     7d\n",
      "kube-system                etcd-cluster2                                       1/1     Running                 18 (95m ago)     7d\n",
      "kube-system                kindnet-4dzgt                                       1/1     Running                 0                42m\n",
      "kube-system                kindnet-lfsjx                                       1/1     Running                 0                41m\n",
      "kube-system                kindnet-tcl8r                                       1/1     Running                 0                41m\n",
      "kube-system                kindnet-x8kbn                                       1/1     Running                 0                42m\n",
      "kube-system                kube-apiserver-cluster2                             1/1     Running                 18 (95m ago)     7d\n",
      "kube-system                kube-controller-manager-cluster2                    1/1     Running                 18 (95m ago)     7d\n",
      "kube-system                kube-proxy-jscz9                                    1/1     Running                 18 (95m ago)     7d\n",
      "kube-system                kube-proxy-vfvd9                                    1/1     Running                 18 (95m ago)     7d\n",
      "kube-system                kube-proxy-w6c94                                    1/1     Running                 18 (95m ago)     7d\n",
      "kube-system                kube-proxy-zdmrp                                    1/1     Running                 18 (95m ago)     7d\n",
      "kube-system                kube-scheduler-cluster2                             1/1     Running                 18 (95m ago)     7d\n",
      "kube-system                metrics-server-7c66d45ddc-5lb9t                     1/1     Running                 15 (93m ago)     5d1h\n",
      "kube-system                registry-aliases-hosts-update-7rfkt                 1/1     Running                 18 (95m ago)     7d\n",
      "kube-system                registry-aliases-hosts-update-bfhzh                 1/1     Running                 18 (95m ago)     7d\n",
      "kube-system                registry-aliases-hosts-update-dnmtz                 1/1     Running                 18 (95m ago)     7d\n",
      "kube-system                registry-aliases-hosts-update-qj64c                 1/1     Running                 18 (95m ago)     7d\n",
      "kube-system                registry-d2tk7                                      1/1     Running                 17 (95m ago)     6d1h\n",
      "kube-system                registry-proxy-4rwsl                                1/1     Running                 19 (95m ago)     7d\n",
      "kube-system                registry-proxy-d82lh                                1/1     Running                 19 (95m ago)     7d\n",
      "kube-system                registry-proxy-p92jk                                1/1     Running                 19 (95m ago)     7d\n",
      "kube-system                registry-proxy-phppg                                1/1     Running                 19 (95m ago)     7d\n",
      "kube-system                storage-provisioner                                 1/1     Running                 37 (93m ago)     7d\n",
      "kubernetes-dashboard       dashboard-metrics-scraper-7fd5cb4ddc-78mqw          1/1     Running                 17 (95m ago)     6d1h\n",
      "kubernetes-dashboard       kubernetes-dashboard-8694d4445c-thhbh               1/1     Running                 20 (95m ago)     5d1h\n",
      "metabase                   metabase-deployment-5c69689fc4-4wzxx                1/1     Running                 0                93m\n",
      "metallb-system             controller-7f75d4cbfb-wnszz                         1/1     Running                 15 (95m ago)     5d1h\n",
      "metallb-system             speaker-2dmp5                                       1/1     Running                 18 (95m ago)     7d\n",
      "metallb-system             speaker-rgp68                                       1/1     Running                 18 (95m ago)     7d\n",
      "metallb-system             speaker-sw28g                                       1/1     Running                 18 (95m ago)     7d\n",
      "metallb-system             speaker-v9k6z                                       1/1     Running                 18 (95m ago)     7d\n",
      "minio-operator             console-67679f8844-g6xjm                            1/1     Running                 14 (95m ago)     5d1h\n",
      "minio-operator             minio-operator-f97db4b4b-6gwqs                      1/1     Running                 0                92m\n",
      "minio-operator             minio-operator-f97db4b4b-gpqn6                      1/1     Running                 18 (95m ago)     6d19h\n",
      "minio-tenant-1             minio-tenant-1-ss-0-0                               2/2     Running                 0                92m\n",
      "minio-tenant-1             minio-tenant-1-ss-0-1                               2/2     Running                 0                93m\n",
      "minio-tenant-1             minio-tenant-1-ss-0-2                               2/2     Running                 0                92m\n",
      "mongodb                    mongodb-kubernetes-operator-bf56d5578-zq8gk         1/1     Running                 15 (95m ago)     6d1h\n",
      "mysql                      my-release-mysql-0                                  1/1     Running                 0                93m\n",
      "nfs-external-provisioner   nfs-subdir-external-provisioner-78f9d66b78-sl75p    1/1     Running                 10 (93m ago)     3d4h\n",
      "openmetadata               openmetadata-649fdc7f97-lww8z                       0/1     Init:CrashLoopBackOff   199 (4m1s ago)   42h\n",
      "postgres                   postgres-postgresql-0                               1/1     Running                 0                93m\n",
      "trino                      trino-coordinator-dbbbcf9d9-jbtn8                   1/1     Running                 4 (95m ago)      42h\n",
      "trino                      trino-worker-6c58b678cc-49stg                       1/1     Running                 4 (95m ago)      42h\n",
      "trino                      trino-worker-6c58b678cc-86mw2                       1/1     Running                 0                92m\n",
      "velero                     velero-5795b7fd5d-922pf                             1/1     Running                 8 (93m ago)      2d3h\n",
      "zeppelin                   jupyter-server-847f955d5d-glpk7                     1/1     Running                 0                92m\n",
      "zeppelin                   zeppelin-server-8cc884444-qmb92                     3/3     Running                 0                92m\n"
     ]
    }
   ],
   "source": [
    "!kubectl get pods -A"
   ]
  },
  {
   "cell_type": "code",
   "execution_count": 5,
   "id": "4502c2dc-27a2-48ee-852e-9e9b7a361983",
   "metadata": {},
   "outputs": [
    {
     "name": "stdout",
     "output_type": "stream",
     "text": [
      "apiVersion: v1\n",
      "clusters: null\n",
      "contexts: null\n",
      "current-context: \"\"\n",
      "kind: Config\n",
      "preferences: {}\n",
      "users: null\n"
     ]
    }
   ],
   "source": [
    "!kubectl config view"
   ]
  },
  {
   "cell_type": "code",
   "execution_count": 6,
   "id": "88afcf08-0025-4e80-97b9-b1bc366bef42",
   "metadata": {},
   "outputs": [
    {
     "name": "stdout",
     "output_type": "stream",
     "text": [
      "NAME\n"
     ]
    }
   ],
   "source": [
    "!kubectl config get-clusters"
   ]
  },
  {
   "cell_type": "code",
   "execution_count": 7,
   "id": "d9c9f93b-07a2-48da-9273-982b8379535a",
   "metadata": {},
   "outputs": [
    {
     "name": "stdout",
     "output_type": "stream",
     "text": [
      "NAME\n"
     ]
    }
   ],
   "source": [
    "!kubectl config get-users"
   ]
  },
  {
   "cell_type": "code",
   "execution_count": 8,
   "id": "39df4256-a745-4657-ae26-a97baa39e851",
   "metadata": {},
   "outputs": [
    {
     "name": "stdout",
     "output_type": "stream",
     "text": [
      "lrwxrwxrwx 1 root root 12 Jan 27 10:33 /var/run/secrets/kubernetes.io/serviceaccount/token -> ..data/token\n"
     ]
    }
   ],
   "source": [
    "!ls -la /var/run/secrets/kubernetes.io/serviceaccount/token\n"
   ]
  },
  {
   "cell_type": "code",
   "execution_count": 9,
   "id": "3c8862df-8013-4b3b-b7ac-cc7e066ee1f1",
   "metadata": {},
   "outputs": [
    {
     "name": "stdout",
     "output_type": "stream",
     "text": [
      "lrwxrwxrwx 1 root root 12 Jan 27 10:33 /var/run/secrets/kubernetes.io/serviceaccount/token -> ..data/token\n"
     ]
    }
   ],
   "source": [
    "!ls -la /var/run/secrets/kubernetes.io/serviceaccount/token"
   ]
  },
  {
   "cell_type": "code",
   "execution_count": 10,
   "id": "282fe549-e9cb-49b6-bbb5-40fdadd2bf9d",
   "metadata": {},
   "outputs": [
    {
     "name": "stdout",
     "output_type": "stream",
     "text": [
      "eyJhbGciOiJSUzI1NiIsImtpZCI6InlyU2hkQkl4TW1HRnowWVlFV3AxRVk3UXNjQTRoc3U2cTF0QVRoclA2clUifQ.eyJhdWQiOlsiaHR0cHM6Ly9rdWJlcm5ldGVzLmRlZmF1bHQuc3ZjLmNsdXN0ZXIyLnhwdCJdLCJleHAiOjE3Mzc4OTg0MTYsImlhdCI6MTcwNjM2MjQxNiwiaXNzIjoiaHR0cHM6Ly9rdWJlcm5ldGVzLmRlZmF1bHQuc3ZjLmNsdXN0ZXIyLnhwdCIsImt1YmVybmV0ZXMuaW8iOnsibmFtZXNwYWNlIjoiY29tbWFuZGVyIiwicG9kIjp7Im5hbWUiOiJqdXB5dGVyLXNlcnZlci01OWRiN2Q5NzQ5LXB0ZHRqIiwidWlkIjoiN2UwYWM4ODgtNDhiNC00NWFlLWFlZjQtN2RhM2YwNDAxYjZkIn0sInNlcnZpY2VhY2NvdW50Ijp7Im5hbWUiOiJhZG1pbi1zZXJ2aWNlLWFjY291bnQiLCJ1aWQiOiJiZTZmZTM0NC04NzE3LTQ2NzItYTEyMi1hZWY1ZDFjYjA3NTgifSwid2FybmFmdGVyIjoxNzA2MzY2MDIzfSwibmJmIjoxNzA2MzYyNDE2LCJzdWIiOiJzeXN0ZW06c2VydmljZWFjY291bnQ6Y29tbWFuZGVyOmFkbWluLXNlcnZpY2UtYWNjb3VudCJ9.NjtZdLj5yCWZY0nOH5qnGbz7e4MpC75BFzAbdEcjQoqxGANVLVzFOWahnz66hg8-x8-FNDhLoa4B9TEYoJ8LhIXRamUsL3KewR-G04oFsIX09aXh3KycV3OnMLWZH7s1Led3lENqGISlAQzYvr7RKgAV0ttYMPjGJQPV2LGjDGBgtwfcwxfE38XZj11KMJIjSede_ceKpuXeeU6IjIcfX9gRZT_L4WMdDxX-BJO168XDIJkFil_2YP-FB82CFbX6xZdE5QzQxSWRBY8Rf7oP49OmZKYg76FgwTyFX6IATN4AzGDwej6KkPjGxz4nROP1gxoC6kdD-RELvITozU7VCg"
     ]
    }
   ],
   "source": [
    "!cat /var/run/secrets/kubernetes.io/serviceaccount/token"
   ]
  },
  {
   "cell_type": "code",
   "execution_count": 11,
   "id": "d745f242-9e95-4817-8217-132bac72ea7b",
   "metadata": {},
   "outputs": [
    {
     "name": "stdout",
     "output_type": "stream",
     "text": [
      "total 4\n",
      "drwxrwxrwt 3 root root  140 Jan 27 10:33 .\n",
      "drwxr-xr-x 3 root root 4096 Jan 27 10:33 ..\n",
      "drwxr-xr-x 2 root root  100 Jan 27 10:33 ..2024_01_27_13_33_36.2801876122\n",
      "lrwxrwxrwx 1 root root   13 Jan 27 10:33 ca.crt -> ..data/ca.crt\n",
      "lrwxrwxrwx 1 root root   32 Jan 27 10:33 ..data -> ..2024_01_27_13_33_36.2801876122\n",
      "lrwxrwxrwx 1 root root   16 Jan 27 10:33 namespace -> ..data/namespace\n",
      "lrwxrwxrwx 1 root root   12 Jan 27 10:33 token -> ..data/token\n"
     ]
    }
   ],
   "source": [
    "!ls -la /var/run/secrets/kubernetes.io/serviceaccount/\n"
   ]
  },
  {
   "cell_type": "code",
   "execution_count": 12,
   "id": "71a0778e-63b9-452a-befc-ca683f41795a",
   "metadata": {},
   "outputs": [
    {
     "name": "stdout",
     "output_type": "stream",
     "text": [
      "total 4\n",
      "drwxrwxrwt 3 root root  140 Jan 27 10:33 .\n",
      "drwxr-xr-x 3 root root 4096 Jan 27 10:33 ..\n",
      "drwxr-xr-x 2 root root  100 Jan 27 10:33 ..2024_01_27_13_33_36.2801876122\n",
      "lrwxrwxrwx 1 root root   13 Jan 27 10:33 ca.crt -> ..data/ca.crt\n",
      "lrwxrwxrwx 1 root root   32 Jan 27 10:33 ..data -> ..2024_01_27_13_33_36.2801876122\n",
      "lrwxrwxrwx 1 root root   16 Jan 27 10:33 namespace -> ..data/namespace\n",
      "lrwxrwxrwx 1 root root   12 Jan 27 10:33 token -> ..data/token\n"
     ]
    }
   ],
   "source": [
    "!ls -la /var/run/secrets/kubernetes.io/serviceaccount/"
   ]
  },
  {
   "cell_type": "code",
   "execution_count": 15,
   "id": "19927f96-5fdc-4f7b-85fc-2492eda2c0d7",
   "metadata": {},
   "outputs": [
    {
     "name": "stdout",
     "output_type": "stream",
     "text": [
      "NAME                              READY   STATUS    RESTARTS   AGE\n",
      "jupyter-server-59db7d9749-ptdtj   1/1     Running   0          7m27s\n",
      "tunnel-server-5b87f477b5-d62pb    1/1     Running   0          95m\n"
     ]
    }
   ],
   "source": [
    "!strace kubectl get pods 2> strace-kubectl-get-pods.txt"
   ]
  },
  {
   "cell_type": "code",
   "execution_count": null,
   "id": "b21110bf-de5b-432a-8b16-1ee8062f8c4d",
   "metadata": {},
   "outputs": [],
   "source": []
  }
 ],
 "metadata": {
  "kernelspec": {
   "display_name": "Python 3 (ipykernel)",
   "language": "python",
   "name": "python3"
  },
  "language_info": {
   "codemirror_mode": {
    "name": "ipython",
    "version": 3
   },
   "file_extension": ".py",
   "mimetype": "text/x-python",
   "name": "python",
   "nbconvert_exporter": "python",
   "pygments_lexer": "ipython3",
   "version": "3.10.13"
  }
 },
 "nbformat": 4,
 "nbformat_minor": 5
}
