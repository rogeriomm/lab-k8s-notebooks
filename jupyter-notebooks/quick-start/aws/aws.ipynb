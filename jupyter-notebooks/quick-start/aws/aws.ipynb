{
 "cells": [
  {
   "cell_type": "code",
   "execution_count": 3,
   "id": "749a3ca0-89c0-490a-94a5-c17bfd1142d0",
   "metadata": {},
   "outputs": [
    {
     "name": "stdout",
     "output_type": "stream",
     "text": [
      "NAME                                    READY   STATUS    RESTARTS       AGE\n",
      "pod/aws-glue-jupyter-7bfb5f947f-hnp9n   3/3     Running   15 (99m ago)   44h\n",
      "\n",
      "NAME                               TYPE        CLUSTER-IP      EXTERNAL-IP   PORT(S)                                                                               AGE\n",
      "service/aws-glue-jupyter-service   ClusterIP   10.98.228.127   <none>        8888/TCP,18080/TCP,4040/TCP,8889/TCP,18081/TCP,4041/TCP,8890/TCP,18082/TCP,4042/TCP   6d22h\n",
      "\n",
      "NAME                               READY   UP-TO-DATE   AVAILABLE   AGE\n",
      "deployment.apps/aws-glue-jupyter   1/1     1            1           6d22h\n",
      "\n",
      "NAME                                          DESIRED   CURRENT   READY   AGE\n",
      "replicaset.apps/aws-glue-jupyter-7bfb5f947f   1         1         1       6d22h\n"
     ]
    }
   ],
   "source": [
    "!kubectl -n aws-glue get all"
   ]
  },
  {
   "cell_type": "code",
   "execution_count": null,
   "id": "ba550a2a-457e-460e-9409-301e9cbaadfe",
   "metadata": {},
   "outputs": [],
   "source": []
  }
 ],
 "metadata": {
  "kernelspec": {
   "display_name": "Python 3 (ipykernel)",
   "language": "python",
   "name": "python3"
  },
  "language_info": {
   "codemirror_mode": {
    "name": "ipython",
    "version": 3
   },
   "file_extension": ".py",
   "mimetype": "text/x-python",
   "name": "python",
   "nbconvert_exporter": "python",
   "pygments_lexer": "ipython3",
   "version": "3.10.13"
  }
 },
 "nbformat": 4,
 "nbformat_minor": 5
}
