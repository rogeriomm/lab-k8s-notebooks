{
 "cells": [
  {
   "cell_type": "code",
   "execution_count": 3,
   "id": "73b194fb-76ca-42fa-a91e-52eede10f6fc",
   "metadata": {},
   "outputs": [
    {
     "name": "stdout",
     "output_type": "stream",
     "text": [
      "\u001b[37mNAME                                READY   STATUS    RESTARTS   AGE\u001b[0m\n",
      "\u001b[36mpod/openmetadata-74f88784f5-fzwcb\u001b[0m   \u001b[32m1/1\u001b[0m     \u001b[35mRunning\u001b[0m   \u001b[37m0\u001b[0m          \u001b[33m67m\u001b[0m\n",
      "\u001b[37m\u001b[0m\n",
      "\u001b[37mNAME                   TYPE        CLUSTER-IP      EXTERNAL-IP   PORT(S)             AGE\u001b[0m\n",
      "\u001b[36mservice/openmetadata\u001b[0m   \u001b[36mClusterIP\u001b[0m   \u001b[32m10.101.90.171\u001b[0m   \u001b[35m<none>\u001b[0m        \u001b[33m8585/TCP,8586/TCP\u001b[0m   \u001b[37m118m\u001b[0m\n",
      "\u001b[37m\u001b[0m\n",
      "\u001b[37mNAME                           READY   UP-TO-DATE   AVAILABLE   AGE\u001b[0m\n",
      "\u001b[36mdeployment.apps/openmetadata\u001b[0m   \u001b[33m1/1\u001b[0m     \u001b[36m1\u001b[0m            \u001b[32m1\u001b[0m           \u001b[35m118m\u001b[0m\n",
      "\u001b[37m\u001b[0m\n",
      "\u001b[37mNAME                                      DESIRED   CURRENT   READY   AGE\u001b[0m\n",
      "\u001b[36mreplicaset.apps/openmetadata-74f88784f5\u001b[0m   \u001b[37m1\u001b[0m         \u001b[32m1\u001b[0m         \u001b[33m1\u001b[0m       \u001b[36m118m\u001b[0m\n"
     ]
    }
   ],
   "source": [
    "!kubecolor -n openmetadata get all"
   ]
  },
  {
   "cell_type": "code",
   "execution_count": 5,
   "id": "7ed6c260-1c0e-487a-9e4d-24e20a29ac0b",
   "metadata": {},
   "outputs": [
    {
     "name": "stdout",
     "output_type": "stream",
     "text": [
      "\u001b[36mapiVersion\u001b[0m:\u001b[32m v1\u001b[0m\n",
      "\u001b[32m\u001b[0m\u001b[36mitems\u001b[0m:\n",
      "  -\u001b[36m apiVersion\u001b[0m:\u001b[32m networking.k8s.io/v1\u001b[0m\n",
      "\u001b[32m    \u001b[0m\u001b[36mkind\u001b[0m:\u001b[32m Ingress\u001b[0m\n",
      "\u001b[32m    \u001b[0m\u001b[36mmetadata\u001b[0m:\u001b[36m\u001b[0m\n",
      "\u001b[36m      annotations\u001b[0m:\u001b[36m\u001b[0m\n",
      "\u001b[36m        meta.helm.sh/release-name\u001b[0m:\u001b[32m openmetadata\u001b[0m\n",
      "\u001b[32m        \u001b[0m\u001b[36mmeta.helm.sh/release-namespace\u001b[0m:\u001b[32m openmetadata\u001b[0m\n",
      "\u001b[32m      \u001b[0m\u001b[36mcreationTimestamp\u001b[0m:\u001b[32m \"2024-02-02T12:20:46Z\"\u001b[0m\u001b[36m\u001b[0m\n",
      "\u001b[36m      generation\u001b[0m:\u001b[95m 1\u001b[0m\n",
      "\u001b[95m      \u001b[0m\u001b[36mlabels\u001b[0m:\u001b[36m\u001b[0m\n",
      "\u001b[36m        app.kubernetes.io/instance\u001b[0m:\u001b[32m openmetadata\u001b[0m\n",
      "\u001b[32m        \u001b[0m\u001b[36mapp.kubernetes.io/managed-by\u001b[0m:\u001b[32m Helm\u001b[0m\n",
      "\u001b[32m        \u001b[0m\u001b[36mapp.kubernetes.io/name\u001b[0m:\u001b[32m openmetadata\u001b[0m\n",
      "\u001b[32m        \u001b[0m\u001b[36mapp.kubernetes.io/version\u001b[0m:\u001b[32m 1.2.5\u001b[0m\n",
      "\u001b[32m        \u001b[0m\u001b[36mhelm.sh/chart\u001b[0m:\u001b[32m openmetadata-1.2.8\u001b[0m\n",
      "\u001b[32m      \u001b[0m\u001b[36mname\u001b[0m:\u001b[32m openmetadata\u001b[0m\n",
      "\u001b[32m      \u001b[0m\u001b[36mnamespace\u001b[0m:\u001b[32m openmetadata\u001b[0m\n",
      "\u001b[32m      \u001b[0m\u001b[36mresourceVersion\u001b[0m:\u001b[32m \"256942\"\u001b[0m\u001b[36m\u001b[0m\n",
      "\u001b[36m      uid\u001b[0m:\u001b[32m 8cea1696-eeb8-4515-bd36-65a0bcfbdd92\u001b[0m\n",
      "\u001b[32m    \u001b[0m\u001b[36mspec\u001b[0m:\u001b[36m\u001b[0m\n",
      "\u001b[36m      ingressClassName\u001b[0m:\u001b[32m nginx\u001b[0m\n",
      "\u001b[32m      \u001b[0m\u001b[36mrules\u001b[0m:\n",
      "        -\u001b[36m host\u001b[0m:\u001b[32m openmetadata.worldl.xpt\u001b[0m\n",
      "\u001b[32m          \u001b[0m\u001b[36mhttp\u001b[0m:\u001b[36m\u001b[0m\n",
      "\u001b[36m            paths\u001b[0m:\n",
      "              -\u001b[36m backend\u001b[0m:\u001b[36m\u001b[0m\n",
      "\u001b[36m                  service\u001b[0m:\u001b[36m\u001b[0m\n",
      "\u001b[36m                    name\u001b[0m:\u001b[32m openmetadata\u001b[0m\n",
      "\u001b[32m                    \u001b[0m\u001b[36mport\u001b[0m:\u001b[36m\u001b[0m\n",
      "\u001b[36m                      number\u001b[0m:\u001b[95m 8585\u001b[0m\n",
      "\u001b[95m                \u001b[0m\u001b[36mpath\u001b[0m:\u001b[32m /\u001b[0m\n",
      "\u001b[32m                \u001b[0m\u001b[36mpathType\u001b[0m:\u001b[32m ImplementationSpecific\u001b[0m\n",
      "\u001b[32m    \u001b[0m\u001b[36mstatus\u001b[0m:\u001b[36m\u001b[0m\n",
      "\u001b[36m      loadBalancer\u001b[0m:\u001b[36m\u001b[0m\n",
      "\u001b[36m        ingress\u001b[0m:\n",
      "          -\u001b[36m ip\u001b[0m:\u001b[32m 192.168.49.2\u001b[0m\n",
      "\u001b[32m\u001b[0m\u001b[36mkind\u001b[0m:\u001b[32m List\u001b[0m\n",
      "\u001b[32m\u001b[0m\u001b[36mmetadata\u001b[0m:\u001b[36m\u001b[0m\n",
      "\u001b[36m  resourceVersion\u001b[0m:\u001b[32m \"\"\u001b[0m\n"
     ]
    }
   ],
   "source": [
    "!kubectl -n openmetadata get ingress -o yaml | yq"
   ]
  },
  {
   "cell_type": "code",
   "execution_count": 8,
   "id": "ec27a9c0-a35d-474d-95ec-2d70e7672262",
   "metadata": {},
   "outputs": [
    {
     "name": "stdout",
     "output_type": "stream",
     "text": [
      "\u001b[36mapiVersion\u001b[0m:\u001b[32m v1\u001b[0m\n",
      "\u001b[32m\u001b[0m\u001b[36mdata\u001b[0m:\u001b[36m\u001b[0m\n",
      "\u001b[36m  WEB_CONF_CONTENT_TYPE_OPTIONS_ENABLED\u001b[0m:\u001b[32m ImZhbHNlIg==\u001b[0m\n",
      "\u001b[32m  \u001b[0m\u001b[36mWEB_CONF_FRAME_OPTION\u001b[0m:\u001b[32m IlNBTUVPUklHSU4i\u001b[0m\n",
      "\u001b[32m  \u001b[0m\u001b[36mWEB_CONF_FRAME_OPTION_ENABLED\u001b[0m:\u001b[32m ImZhbHNlIg==\u001b[0m\n",
      "\u001b[32m  \u001b[0m\u001b[36mWEB_CONF_FRAME_ORIGIN\u001b[0m:\u001b[32m IiI=\u001b[0m\n",
      "\u001b[32m  \u001b[0m\u001b[36mWEB_CONF_HSTS_ENABLED\u001b[0m:\u001b[32m ImZhbHNlIg==\u001b[0m\n",
      "\u001b[32m  \u001b[0m\u001b[36mWEB_CONF_HSTS_INCLUDE_SUBDOMAINS\u001b[0m:\u001b[32m InRydWUi\u001b[0m\n",
      "\u001b[32m  \u001b[0m\u001b[36mWEB_CONF_HSTS_MAX_AGE\u001b[0m:\u001b[32m IjM2NSBkYXlzIg==\u001b[0m\n",
      "\u001b[32m  \u001b[0m\u001b[36mWEB_CONF_HSTS_PRELOAD\u001b[0m:\u001b[32m InRydWUi\u001b[0m\n",
      "\u001b[32m  \u001b[0m\u001b[36mWEB_CONF_PERMISSION_POLICY_ENABLED\u001b[0m:\u001b[32m ImZhbHNlIg==\u001b[0m\n",
      "\u001b[32m  \u001b[0m\u001b[36mWEB_CONF_PERMISSION_POLICY_OPTION\u001b[0m:\u001b[32m IiI=\u001b[0m\n",
      "\u001b[32m  \u001b[0m\u001b[36mWEB_CONF_REFERRER_POLICY_ENABLED\u001b[0m:\u001b[32m ImZhbHNlIg==\u001b[0m\n",
      "\u001b[32m  \u001b[0m\u001b[36mWEB_CONF_REFERRER_POLICY_OPTION\u001b[0m:\u001b[32m IlNBTUVfT1JJR0lOIg==\u001b[0m\n",
      "\u001b[32m  \u001b[0m\u001b[36mWEB_CONF_URI_PATH\u001b[0m:\u001b[32m Ii9hcGki\u001b[0m\n",
      "\u001b[32m  \u001b[0m\u001b[36mWEB_CONF_XSS_CSP_ENABLED\u001b[0m:\u001b[32m ImZhbHNlIg==\u001b[0m\n",
      "\u001b[32m  \u001b[0m\u001b[36mWEB_CONF_XSS_CSP_POLICY\u001b[0m:\u001b[32m ImRlZmF1bHQtc3JjICdzZWxmJyI=\u001b[0m\n",
      "\u001b[32m  \u001b[0m\u001b[36mWEB_CONF_XSS_CSP_REPORT_ONLY_POLICY\u001b[0m:\u001b[32m IiI=\u001b[0m\n",
      "\u001b[32m  \u001b[0m\u001b[36mWEB_CONF_XSS_PROTECTION_BLOCK\u001b[0m:\u001b[32m InRydWUi\u001b[0m\n",
      "\u001b[32m  \u001b[0m\u001b[36mWEB_CONF_XSS_PROTECTION_ENABLED\u001b[0m:\u001b[32m ImZhbHNlIg==\u001b[0m\n",
      "\u001b[32m  \u001b[0m\u001b[36mWEB_CONF_XSS_PROTECTION_ON\u001b[0m:\u001b[32m InRydWUi\u001b[0m\n",
      "\u001b[32m\u001b[0m\u001b[36mkind\u001b[0m:\u001b[32m Secret\u001b[0m\n",
      "\u001b[32m\u001b[0m\u001b[36mmetadata\u001b[0m:\u001b[36m\u001b[0m\n",
      "\u001b[36m  annotations\u001b[0m:\u001b[36m\u001b[0m\n",
      "\u001b[36m    meta.helm.sh/release-name\u001b[0m:\u001b[32m openmetadata\u001b[0m\n",
      "\u001b[32m    \u001b[0m\u001b[36mmeta.helm.sh/release-namespace\u001b[0m:\u001b[32m openmetadata\u001b[0m\n",
      "\u001b[32m  \u001b[0m\u001b[36mcreationTimestamp\u001b[0m:\u001b[32m \"2024-02-02T12:20:46Z\"\u001b[0m\u001b[36m\u001b[0m\n",
      "\u001b[36m  labels\u001b[0m:\u001b[36m\u001b[0m\n",
      "\u001b[36m    app.kubernetes.io/managed-by\u001b[0m:\u001b[32m Helm\u001b[0m\n",
      "\u001b[32m  \u001b[0m\u001b[36mname\u001b[0m:\u001b[32m openmetadata-web-secret\u001b[0m\n",
      "\u001b[32m  \u001b[0m\u001b[36mnamespace\u001b[0m:\u001b[32m openmetadata\u001b[0m\n",
      "\u001b[32m  \u001b[0m\u001b[36mresourceVersion\u001b[0m:\u001b[32m \"255555\"\u001b[0m\u001b[36m\u001b[0m\n",
      "\u001b[36m  uid\u001b[0m:\u001b[32m e593776d-4134-4f52-a37c-45b07a56c80c\u001b[0m\n",
      "\u001b[32m\u001b[0m\u001b[36mtype\u001b[0m:\u001b[32m Opaque\u001b[0m\n"
     ]
    }
   ],
   "source": [
    "!kubectl -n openmetadata get secrets openmetadata-web-secret -o yaml | yq"
   ]
  },
  {
   "cell_type": "code",
   "execution_count": 12,
   "id": "9d9b23c0-e509-4843-a267-d1ef58040032",
   "metadata": {},
   "outputs": [
    {
     "name": "stdout",
     "output_type": "stream",
     "text": [
      "\u001b[1;39m{\n",
      "  \u001b[0m\u001b[34;1m\"WEB_CONF_CONTENT_TYPE_OPTIONS_ENABLED\"\u001b[0m\u001b[1;39m: \u001b[0m\u001b[0;32m\"ImZhbHNlIg==\"\u001b[0m\u001b[1;39m,\n",
      "  \u001b[0m\u001b[34;1m\"WEB_CONF_FRAME_OPTION\"\u001b[0m\u001b[1;39m: \u001b[0m\u001b[0;32m\"IlNBTUVPUklHSU4i\"\u001b[0m\u001b[1;39m,\n",
      "  \u001b[0m\u001b[34;1m\"WEB_CONF_FRAME_OPTION_ENABLED\"\u001b[0m\u001b[1;39m: \u001b[0m\u001b[0;32m\"ImZhbHNlIg==\"\u001b[0m\u001b[1;39m,\n",
      "  \u001b[0m\u001b[34;1m\"WEB_CONF_FRAME_ORIGIN\"\u001b[0m\u001b[1;39m: \u001b[0m\u001b[0;32m\"IiI=\"\u001b[0m\u001b[1;39m,\n",
      "  \u001b[0m\u001b[34;1m\"WEB_CONF_HSTS_ENABLED\"\u001b[0m\u001b[1;39m: \u001b[0m\u001b[0;32m\"ImZhbHNlIg==\"\u001b[0m\u001b[1;39m,\n",
      "  \u001b[0m\u001b[34;1m\"WEB_CONF_HSTS_INCLUDE_SUBDOMAINS\"\u001b[0m\u001b[1;39m: \u001b[0m\u001b[0;32m\"InRydWUi\"\u001b[0m\u001b[1;39m,\n",
      "  \u001b[0m\u001b[34;1m\"WEB_CONF_HSTS_MAX_AGE\"\u001b[0m\u001b[1;39m: \u001b[0m\u001b[0;32m\"IjM2NSBkYXlzIg==\"\u001b[0m\u001b[1;39m,\n",
      "  \u001b[0m\u001b[34;1m\"WEB_CONF_HSTS_PRELOAD\"\u001b[0m\u001b[1;39m: \u001b[0m\u001b[0;32m\"InRydWUi\"\u001b[0m\u001b[1;39m,\n",
      "  \u001b[0m\u001b[34;1m\"WEB_CONF_PERMISSION_POLICY_ENABLED\"\u001b[0m\u001b[1;39m: \u001b[0m\u001b[0;32m\"ImZhbHNlIg==\"\u001b[0m\u001b[1;39m,\n",
      "  \u001b[0m\u001b[34;1m\"WEB_CONF_PERMISSION_POLICY_OPTION\"\u001b[0m\u001b[1;39m: \u001b[0m\u001b[0;32m\"IiI=\"\u001b[0m\u001b[1;39m,\n",
      "  \u001b[0m\u001b[34;1m\"WEB_CONF_REFERRER_POLICY_ENABLED\"\u001b[0m\u001b[1;39m: \u001b[0m\u001b[0;32m\"ImZhbHNlIg==\"\u001b[0m\u001b[1;39m,\n",
      "  \u001b[0m\u001b[34;1m\"WEB_CONF_REFERRER_POLICY_OPTION\"\u001b[0m\u001b[1;39m: \u001b[0m\u001b[0;32m\"IlNBTUVfT1JJR0lOIg==\"\u001b[0m\u001b[1;39m,\n",
      "  \u001b[0m\u001b[34;1m\"WEB_CONF_URI_PATH\"\u001b[0m\u001b[1;39m: \u001b[0m\u001b[0;32m\"Ii9hcGki\"\u001b[0m\u001b[1;39m,\n",
      "  \u001b[0m\u001b[34;1m\"WEB_CONF_XSS_CSP_ENABLED\"\u001b[0m\u001b[1;39m: \u001b[0m\u001b[0;32m\"ImZhbHNlIg==\"\u001b[0m\u001b[1;39m,\n",
      "  \u001b[0m\u001b[34;1m\"WEB_CONF_XSS_CSP_POLICY\"\u001b[0m\u001b[1;39m: \u001b[0m\u001b[0;32m\"ImRlZmF1bHQtc3JjICdzZWxmJyI=\"\u001b[0m\u001b[1;39m,\n",
      "  \u001b[0m\u001b[34;1m\"WEB_CONF_XSS_CSP_REPORT_ONLY_POLICY\"\u001b[0m\u001b[1;39m: \u001b[0m\u001b[0;32m\"IiI=\"\u001b[0m\u001b[1;39m,\n",
      "  \u001b[0m\u001b[34;1m\"WEB_CONF_XSS_PROTECTION_BLOCK\"\u001b[0m\u001b[1;39m: \u001b[0m\u001b[0;32m\"InRydWUi\"\u001b[0m\u001b[1;39m,\n",
      "  \u001b[0m\u001b[34;1m\"WEB_CONF_XSS_PROTECTION_ENABLED\"\u001b[0m\u001b[1;39m: \u001b[0m\u001b[0;32m\"ImZhbHNlIg==\"\u001b[0m\u001b[1;39m,\n",
      "  \u001b[0m\u001b[34;1m\"WEB_CONF_XSS_PROTECTION_ON\"\u001b[0m\u001b[1;39m: \u001b[0m\u001b[0;32m\"InRydWUi\"\u001b[0m\u001b[1;39m\n",
      "\u001b[1;39m}\u001b[0m\n"
     ]
    }
   ],
   "source": [
    "!kubectl -n openmetadata get secrets openmetadata-web-secret -o jsonpath='{.data}' | jq"
   ]
  },
  {
   "cell_type": "code",
   "execution_count": 13,
   "id": "46d32a47-3dea-4441-83f9-35a79509097a",
   "metadata": {},
   "outputs": [
    {
     "name": "stdout",
     "output_type": "stream",
     "text": [
      "\"false\""
     ]
    }
   ],
   "source": [
    "!echo -n ImZhbHNlIg== | base64 -d"
   ]
  },
  {
   "cell_type": "code",
   "execution_count": null,
   "id": "5684d06d-e1ac-4182-93f5-02051b0645d4",
   "metadata": {},
   "outputs": [],
   "source": []
  }
 ],
 "metadata": {
  "kernelspec": {
   "display_name": "Python 3 (ipykernel)",
   "language": "python",
   "name": "python3"
  },
  "language_info": {
   "codemirror_mode": {
    "name": "ipython",
    "version": 3
   },
   "file_extension": ".py",
   "mimetype": "text/x-python",
   "name": "python",
   "nbconvert_exporter": "python",
   "pygments_lexer": "ipython3",
   "version": "3.10.13"
  }
 },
 "nbformat": 4,
 "nbformat_minor": 5
}
