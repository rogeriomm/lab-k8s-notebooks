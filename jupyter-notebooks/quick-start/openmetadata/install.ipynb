{
 "cells": [
  {
   "cell_type": "markdown",
   "id": "caf27fe8-2e6a-4d72-80b4-6426fd41037f",
   "metadata": {},
   "source": [
    "   * https://docs.open-metadata.org/v1.2.x/quick-start/local-kubernetes-deployment\n",
    "   * https://docs.open-metadata.org/v1.2.x/deployment"
   ]
  },
  {
   "cell_type": "code",
   "execution_count": null,
   "id": "86c31b4a-1370-4bdb-a71f-e3e6e24eeb3e",
   "metadata": {},
   "outputs": [],
   "source": []
  },
  {
   "cell_type": "markdown",
   "id": "eae0628e-81f3-4f55-9994-b4884d940fea",
   "metadata": {},
   "source": [
    "# Running the Ingestion Framework externally\n",
    "   * https://docs.open-metadata.org/v1.2.x/deployment/ingestion/airflow\n",
    "\n",
    "   * Packages\n",
    "      * https://docs.open-metadata.org/v1.2.x/connectors\n",
    "      * https://pypi.org/project/openmetadata-ingestion/\n",
    "     \n",
    "   * Openmetadata \n",
    "      * https://openmetadata.worldl.xpt/service/databaseServices/postgres\n",
    "      * https://openmetadata.worldl.xpt/service/databaseServices/mysql\n",
    "    \n",
    "  "
   ]
  },
  {
   "cell_type": "code",
   "execution_count": null,
   "id": "61a4a2b0-8410-4181-b1a2-f2939f3938f7",
   "metadata": {},
   "outputs": [],
   "source": []
  },
  {
   "cell_type": "code",
   "execution_count": null,
   "id": "d4c3864b-d88f-4c4b-ae6a-68fd8ef01ff8",
   "metadata": {},
   "outputs": [],
   "source": []
  }
 ],
 "metadata": {
  "kernelspec": {
   "display_name": "Python 3 (ipykernel)",
   "language": "python",
   "name": "python3"
  },
  "language_info": {
   "codemirror_mode": {
    "name": "ipython",
    "version": 3
   },
   "file_extension": ".py",
   "mimetype": "text/x-python",
   "name": "python",
   "nbconvert_exporter": "python",
   "pygments_lexer": "ipython3",
   "version": "3.10.13"
  }
 },
 "nbformat": 4,
 "nbformat_minor": 5
}
