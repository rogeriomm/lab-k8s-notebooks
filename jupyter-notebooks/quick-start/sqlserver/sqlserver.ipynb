{
 "cells": [
  {
   "cell_type": "code",
   "execution_count": 5,
   "id": "bfb3c85f-798d-4080-94b2-b26650b25851",
   "metadata": {},
   "outputs": [
    {
     "name": "stdout",
     "output_type": "stream",
     "text": [
      "\u001b[37mNAME                                   READY   STATUS    RESTARTS   AGE\u001b[0m\n",
      "\u001b[36mpod/mssqlserver-2022-97999577d-h2n74\u001b[0m   \u001b[32m1/1\u001b[0m     \u001b[35mRunning\u001b[0m   \u001b[37m0\u001b[0m          \u001b[33m40m\u001b[0m\n",
      "\u001b[37m\u001b[0m\n",
      "\u001b[37mNAME                       TYPE        CLUSTER-IP       EXTERNAL-IP   PORT(S)    AGE\u001b[0m\n",
      "\u001b[36mservice/mssqlserver-2022\u001b[0m   \u001b[36mClusterIP\u001b[0m   \u001b[32m10.109.219.112\u001b[0m   \u001b[32m<none>\u001b[0m        \u001b[35m1433/TCP\u001b[0m   \u001b[37m12h\u001b[0m\n",
      "\u001b[37m\u001b[0m\n",
      "\u001b[37mNAME                               READY   UP-TO-DATE   AVAILABLE   AGE\u001b[0m\n",
      "\u001b[36mdeployment.apps/mssqlserver-2022\u001b[0m   \u001b[33m1/1\u001b[0m     \u001b[36m1\u001b[0m            \u001b[32m1\u001b[0m           \u001b[33m12h\u001b[0m\n",
      "\u001b[37m\u001b[0m\n",
      "\u001b[37mNAME                                         DESIRED   CURRENT   READY   AGE\u001b[0m\n",
      "\u001b[36mreplicaset.apps/mssqlserver-2022-97999577d\u001b[0m   \u001b[32m1\u001b[0m         \u001b[35m1\u001b[0m         \u001b[37m1\u001b[0m       \u001b[33m12h\u001b[0m\n"
     ]
    }
   ],
   "source": [
    "!kubecolor -n sqlserver get all"
   ]
  },
  {
   "cell_type": "code",
   "execution_count": 3,
   "id": "d9e9fb94-31eb-430c-b194-a2f1953cc829",
   "metadata": {},
   "outputs": [
    {
     "name": "stdout",
     "output_type": "stream",
     "text": [
      "\u001b[36mapiVersion\u001b[0m:\u001b[32m v1\u001b[0m\n",
      "\u001b[32m\u001b[0m\u001b[36mitems\u001b[0m:\n",
      "  -\u001b[36m apiVersion\u001b[0m:\u001b[32m apps/v1\u001b[0m\n",
      "\u001b[32m    \u001b[0m\u001b[36mkind\u001b[0m:\u001b[32m Deployment\u001b[0m\n",
      "\u001b[32m    \u001b[0m\u001b[36mmetadata\u001b[0m:\u001b[36m\u001b[0m\n",
      "\u001b[36m      annotations\u001b[0m:\u001b[36m\u001b[0m\n",
      "\u001b[36m        deployment.kubernetes.io/revision\u001b[0m:\u001b[32m \"1\"\u001b[0m\u001b[36m\u001b[0m\n",
      "\u001b[36m        meta.helm.sh/release-name\u001b[0m:\u001b[32m mssqlserver-2022\u001b[0m\n",
      "\u001b[32m        \u001b[0m\u001b[36mmeta.helm.sh/release-namespace\u001b[0m:\u001b[32m sqlserver\u001b[0m\n",
      "\u001b[32m      \u001b[0m\u001b[36mcreationTimestamp\u001b[0m:\u001b[32m \"2024-02-01T13:22:01Z\"\u001b[0m\u001b[36m\u001b[0m\n",
      "\u001b[36m      generation\u001b[0m:\u001b[95m 1\u001b[0m\n",
      "\u001b[95m      \u001b[0m\u001b[36mlabels\u001b[0m:\u001b[36m\u001b[0m\n",
      "\u001b[36m        app\u001b[0m:\u001b[32m mssqlserver-2022\u001b[0m\n",
      "\u001b[32m        \u001b[0m\u001b[36mapp.kubernetes.io/managed-by\u001b[0m:\u001b[32m Helm\u001b[0m\n",
      "\u001b[32m        \u001b[0m\u001b[36mchart\u001b[0m:\u001b[32m mssqlserver-2022-1.2.3\u001b[0m\n",
      "\u001b[32m        \u001b[0m\u001b[36mheritage\u001b[0m:\u001b[32m Helm\u001b[0m\n",
      "\u001b[32m        \u001b[0m\u001b[36mrelease\u001b[0m:\u001b[32m mssqlserver-2022\u001b[0m\n",
      "\u001b[32m      \u001b[0m\u001b[36mname\u001b[0m:\u001b[32m mssqlserver-2022\u001b[0m\n",
      "\u001b[32m      \u001b[0m\u001b[36mnamespace\u001b[0m:\u001b[32m sqlserver\u001b[0m\n",
      "\u001b[32m      \u001b[0m\u001b[36mresourceVersion\u001b[0m:\u001b[32m \"14350\"\u001b[0m\u001b[36m\u001b[0m\n",
      "\u001b[36m      uid\u001b[0m:\u001b[32m 049e9a18-923e-4f71-8d4a-935276a80211\u001b[0m\n",
      "\u001b[32m    \u001b[0m\u001b[36mspec\u001b[0m:\u001b[36m\u001b[0m\n",
      "\u001b[36m      progressDeadlineSeconds\u001b[0m:\u001b[95m 600\u001b[0m\n",
      "\u001b[95m      \u001b[0m\u001b[36mreplicas\u001b[0m:\u001b[95m 1\u001b[0m\n",
      "\u001b[95m      \u001b[0m\u001b[36mrevisionHistoryLimit\u001b[0m:\u001b[95m 10\u001b[0m\n",
      "\u001b[95m      \u001b[0m\u001b[36mselector\u001b[0m:\u001b[36m\u001b[0m\n",
      "\u001b[36m        matchLabels\u001b[0m:\u001b[36m\u001b[0m\n",
      "\u001b[36m          app\u001b[0m:\u001b[32m mssqlserver-2022\u001b[0m\n",
      "\u001b[32m          \u001b[0m\u001b[36mrelease\u001b[0m:\u001b[32m mssqlserver-2022\u001b[0m\n",
      "\u001b[32m      \u001b[0m\u001b[36mstrategy\u001b[0m:\u001b[36m\u001b[0m\n",
      "\u001b[36m        rollingUpdate\u001b[0m:\u001b[36m\u001b[0m\n",
      "\u001b[36m          maxSurge\u001b[0m:\u001b[32m 25%\u001b[0m\n",
      "\u001b[32m          \u001b[0m\u001b[36mmaxUnavailable\u001b[0m:\u001b[32m 25%\u001b[0m\n",
      "\u001b[32m        \u001b[0m\u001b[36mtype\u001b[0m:\u001b[32m RollingUpdate\u001b[0m\n",
      "\u001b[32m      \u001b[0m\u001b[36mtemplate\u001b[0m:\u001b[36m\u001b[0m\n",
      "\u001b[36m        metadata\u001b[0m:\u001b[36m\u001b[0m\n",
      "\u001b[36m          creationTimestamp\u001b[0m: null\n",
      "          \u001b[36mlabels\u001b[0m:\u001b[36m\u001b[0m\n",
      "\u001b[36m            app\u001b[0m:\u001b[32m mssqlserver-2022\u001b[0m\n",
      "\u001b[32m            \u001b[0m\u001b[36mrelease\u001b[0m:\u001b[32m mssqlserver-2022\u001b[0m\n",
      "\u001b[32m        \u001b[0m\u001b[36mspec\u001b[0m:\u001b[36m\u001b[0m\n",
      "\u001b[36m          containers\u001b[0m:\n",
      "            -\u001b[36m env\u001b[0m:\n",
      "                -\u001b[36m name\u001b[0m:\u001b[32m ACCEPT_EULA\u001b[0m\n",
      "\u001b[32m                  \u001b[0m\u001b[36mvalue\u001b[0m:\u001b[32m \"Y\"\u001b[0m\n",
      "                -\u001b[36m name\u001b[0m:\u001b[32m MSSQL_PID\u001b[0m\n",
      "\u001b[32m                  \u001b[0m\u001b[36mvalue\u001b[0m:\u001b[32m Developer\u001b[0m\n",
      "\u001b[32m                \u001b[0m-\u001b[36m name\u001b[0m:\u001b[32m SA_PASSWORD\u001b[0m\n",
      "\u001b[32m                  \u001b[0m\u001b[36mvalueFrom\u001b[0m:\u001b[36m\u001b[0m\n",
      "\u001b[36m                    secretKeyRef\u001b[0m:\u001b[36m\u001b[0m\n",
      "\u001b[36m                      key\u001b[0m:\u001b[32m sapassword\u001b[0m\n",
      "\u001b[32m                      \u001b[0m\u001b[36mname\u001b[0m:\u001b[32m mssqlserver-2022-secret\u001b[0m\n",
      "\u001b[32m                \u001b[0m-\u001b[36m name\u001b[0m:\u001b[32m MSSQL_DATA_DIR\u001b[0m\n",
      "\u001b[32m                  \u001b[0m\u001b[36mvalue\u001b[0m:\u001b[32m /var/opt/mssql\u001b[0m\n",
      "\u001b[32m                \u001b[0m-\u001b[36m name\u001b[0m:\u001b[32m MSSQL_TCP_PORT\u001b[0m\n",
      "\u001b[32m                  \u001b[0m\u001b[36mvalue\u001b[0m:\u001b[32m \"1433\"\u001b[0m\n",
      "                -\u001b[36m name\u001b[0m:\u001b[32m MSSQL_COLLATION\u001b[0m\n",
      "\u001b[32m                  \u001b[0m\u001b[36mvalue\u001b[0m:\u001b[32m SQL_Latin1_General_CP1_CI_AS\u001b[0m\n",
      "\u001b[32m                \u001b[0m-\u001b[36m name\u001b[0m:\u001b[32m MSSQL_LCID\u001b[0m\n",
      "\u001b[32m                  \u001b[0m\u001b[36mvalue\u001b[0m:\u001b[32m \"1033\"\u001b[0m\n",
      "                -\u001b[36m name\u001b[0m:\u001b[32m MSSQL_ENABLE_HADR\u001b[0m\n",
      "\u001b[32m                  \u001b[0m\u001b[36mvalue\u001b[0m:\u001b[32m \"0\"\u001b[0m\n",
      "                -\u001b[36m name\u001b[0m:\u001b[32m MSSQL_MEMORY_LIMIT_MB\u001b[0m\n",
      "\u001b[32m                  \u001b[0m\u001b[36mvalueFrom\u001b[0m:\u001b[36m\u001b[0m\n",
      "\u001b[36m                    resourceFieldRef\u001b[0m:\u001b[36m\u001b[0m\n",
      "\u001b[36m                      divisor\u001b[0m:\u001b[32m 1Mi\u001b[0m\n",
      "\u001b[32m                      \u001b[0m\u001b[36mresource\u001b[0m:\u001b[32m limits.memory\u001b[0m\n",
      "\u001b[32m              \u001b[0m\u001b[36mimage\u001b[0m:\u001b[32m mcr.microsoft.com/mssql/server:2022-latest\u001b[0m\n",
      "\u001b[32m              \u001b[0m\u001b[36mimagePullPolicy\u001b[0m:\u001b[32m IfNotPresent\u001b[0m\n",
      "\u001b[32m              \u001b[0m\u001b[36mlivenessProbe\u001b[0m:\u001b[36m\u001b[0m\n",
      "\u001b[36m                failureThreshold\u001b[0m:\u001b[95m 3\u001b[0m\n",
      "\u001b[95m                \u001b[0m\u001b[36minitialDelaySeconds\u001b[0m:\u001b[95m 15\u001b[0m\n",
      "\u001b[95m                \u001b[0m\u001b[36mperiodSeconds\u001b[0m:\u001b[95m 20\u001b[0m\n",
      "\u001b[95m                \u001b[0m\u001b[36msuccessThreshold\u001b[0m:\u001b[95m 1\u001b[0m\n",
      "\u001b[95m                \u001b[0m\u001b[36mtcpSocket\u001b[0m:\u001b[36m\u001b[0m\n",
      "\u001b[36m                  port\u001b[0m:\u001b[32m mssql\u001b[0m\n",
      "\u001b[32m                \u001b[0m\u001b[36mtimeoutSeconds\u001b[0m:\u001b[95m 1\u001b[0m\n",
      "\u001b[95m              \u001b[0m\u001b[36mname\u001b[0m:\u001b[32m mssqlserver-2022\u001b[0m\n",
      "\u001b[32m              \u001b[0m\u001b[36mports\u001b[0m:\n",
      "                -\u001b[36m containerPort\u001b[0m:\u001b[95m 1433\u001b[0m\n",
      "\u001b[95m                  \u001b[0m\u001b[36mname\u001b[0m:\u001b[32m mssql\u001b[0m\n",
      "\u001b[32m                  \u001b[0m\u001b[36mprotocol\u001b[0m:\u001b[32m TCP\u001b[0m\n",
      "\u001b[32m              \u001b[0m\u001b[36mreadinessProbe\u001b[0m:\u001b[36m\u001b[0m\n",
      "\u001b[36m                failureThreshold\u001b[0m:\u001b[95m 3\u001b[0m\n",
      "\u001b[95m                \u001b[0m\u001b[36minitialDelaySeconds\u001b[0m:\u001b[95m 5\u001b[0m\n",
      "\u001b[95m                \u001b[0m\u001b[36mperiodSeconds\u001b[0m:\u001b[95m 10\u001b[0m\n",
      "\u001b[95m                \u001b[0m\u001b[36msuccessThreshold\u001b[0m:\u001b[95m 1\u001b[0m\n",
      "\u001b[95m                \u001b[0m\u001b[36mtcpSocket\u001b[0m:\u001b[36m\u001b[0m\n",
      "\u001b[36m                  port\u001b[0m:\u001b[32m mssql\u001b[0m\n",
      "\u001b[32m                \u001b[0m\u001b[36mtimeoutSeconds\u001b[0m:\u001b[95m 1\u001b[0m\n",
      "\u001b[95m              \u001b[0m\u001b[36mresources\u001b[0m:\u001b[36m\u001b[0m\n",
      "\u001b[36m                limits\u001b[0m:\u001b[36m\u001b[0m\n",
      "\u001b[36m                  memory\u001b[0m:\u001b[32m 2Gi\u001b[0m\n",
      "\u001b[32m              \u001b[0m\u001b[36mterminationMessagePath\u001b[0m:\u001b[32m /dev/termination-log\u001b[0m\n",
      "\u001b[32m              \u001b[0m\u001b[36mterminationMessagePolicy\u001b[0m:\u001b[32m File\u001b[0m\n",
      "\u001b[32m              \u001b[0m\u001b[36mvolumeMounts\u001b[0m:\n",
      "                -\u001b[36m mountPath\u001b[0m:\u001b[32m /var/opt/mssql\u001b[0m\n",
      "\u001b[32m                  \u001b[0m\u001b[36mname\u001b[0m:\u001b[32m data\u001b[0m\n",
      "\u001b[32m          \u001b[0m\u001b[36mdnsPolicy\u001b[0m:\u001b[32m ClusterFirst\u001b[0m\n",
      "\u001b[32m          \u001b[0m\u001b[36mrestartPolicy\u001b[0m:\u001b[32m Always\u001b[0m\n",
      "\u001b[32m          \u001b[0m\u001b[36mschedulerName\u001b[0m:\u001b[32m default-scheduler\u001b[0m\n",
      "\u001b[32m          \u001b[0m\u001b[36msecurityContext\u001b[0m:\u001b[36m\u001b[0m\n",
      "\u001b[36m            fsGroup\u001b[0m:\u001b[95m 10001\u001b[0m\n",
      "\u001b[95m          \u001b[0m\u001b[36mterminationGracePeriodSeconds\u001b[0m:\u001b[95m 30\u001b[0m\n",
      "\u001b[95m          \u001b[0m\u001b[36mvolumes\u001b[0m:\n",
      "            -\u001b[36m name\u001b[0m:\u001b[32m data\u001b[0m\n",
      "\u001b[32m              \u001b[0m\u001b[36mpersistentVolumeClaim\u001b[0m:\u001b[36m\u001b[0m\n",
      "\u001b[36m                claimName\u001b[0m:\u001b[32m mssqlserver-2022-data\u001b[0m\n",
      "\u001b[32m    \u001b[0m\u001b[36mstatus\u001b[0m:\u001b[36m\u001b[0m\n",
      "\u001b[36m      availableReplicas\u001b[0m:\u001b[95m 1\u001b[0m\n",
      "\u001b[95m      \u001b[0m\u001b[36mconditions\u001b[0m:\n",
      "        -\u001b[36m lastTransitionTime\u001b[0m:\u001b[32m \"2024-02-01T13:24:52Z\"\u001b[0m\u001b[36m\u001b[0m\n",
      "\u001b[36m          lastUpdateTime\u001b[0m:\u001b[32m \"2024-02-01T13:24:52Z\"\u001b[0m\u001b[36m\u001b[0m\n",
      "\u001b[36m          message\u001b[0m:\u001b[32m Deployment has minimum availability.\u001b[0m\n",
      "\u001b[32m          \u001b[0m\u001b[36mreason\u001b[0m:\u001b[32m MinimumReplicasAvailable\u001b[0m\n",
      "\u001b[32m          \u001b[0m\u001b[36mstatus\u001b[0m:\u001b[32m \"True\"\u001b[0m\u001b[36m\u001b[0m\n",
      "\u001b[36m          type\u001b[0m:\u001b[32m Available\u001b[0m\n",
      "\u001b[32m        \u001b[0m-\u001b[36m lastTransitionTime\u001b[0m:\u001b[32m \"2024-02-01T13:22:01Z\"\u001b[0m\u001b[36m\u001b[0m\n",
      "\u001b[36m          lastUpdateTime\u001b[0m:\u001b[32m \"2024-02-01T13:24:52Z\"\u001b[0m\u001b[36m\u001b[0m\n",
      "\u001b[36m          message\u001b[0m:\u001b[32m ReplicaSet \"mssqlserver-2022-97999577d\" has successfully progressed.\u001b[0m\n",
      "\u001b[32m          \u001b[0m\u001b[36mreason\u001b[0m:\u001b[32m NewReplicaSetAvailable\u001b[0m\n",
      "\u001b[32m          \u001b[0m\u001b[36mstatus\u001b[0m:\u001b[32m \"True\"\u001b[0m\u001b[36m\u001b[0m\n",
      "\u001b[36m          type\u001b[0m:\u001b[32m Progressing\u001b[0m\n",
      "\u001b[32m      \u001b[0m\u001b[36mobservedGeneration\u001b[0m:\u001b[95m 1\u001b[0m\n",
      "\u001b[95m      \u001b[0m\u001b[36mreadyReplicas\u001b[0m:\u001b[95m 1\u001b[0m\n",
      "\u001b[95m      \u001b[0m\u001b[36mreplicas\u001b[0m:\u001b[95m 1\u001b[0m\n",
      "\u001b[95m      \u001b[0m\u001b[36mupdatedReplicas\u001b[0m:\u001b[95m 1\u001b[0m\n",
      "\u001b[95m\u001b[0m\u001b[36mkind\u001b[0m:\u001b[32m List\u001b[0m\n",
      "\u001b[32m\u001b[0m\u001b[36mmetadata\u001b[0m:\u001b[36m\u001b[0m\n",
      "\u001b[36m  resourceVersion\u001b[0m:\u001b[32m \"\"\u001b[0m\n"
     ]
    }
   ],
   "source": [
    "!kubectl -n sqlserver get deployment -o yaml | yq"
   ]
  },
  {
   "cell_type": "code",
   "execution_count": 3,
   "id": "1ead4084-c12a-4c08-9c99-6c93fbfcd921",
   "metadata": {},
   "outputs": [
    {
     "name": "stdout",
     "output_type": "stream",
     "text": [
      "\u001b[36mapiVersion\u001b[0m:\u001b[32m v1\u001b[0m\n",
      "\u001b[32m\u001b[0m\u001b[36mkind\u001b[0m:\u001b[32m Service\u001b[0m\n",
      "\u001b[32m\u001b[0m\u001b[36mmetadata\u001b[0m:\u001b[36m\u001b[0m\n",
      "\u001b[36m  annotations\u001b[0m:\u001b[36m\u001b[0m\n",
      "\u001b[36m    meta.helm.sh/release-name\u001b[0m:\u001b[32m mssqlserver-2022\u001b[0m\n",
      "\u001b[32m    \u001b[0m\u001b[36mmeta.helm.sh/release-namespace\u001b[0m:\u001b[32m sqlserver\u001b[0m\n",
      "\u001b[32m  \u001b[0m\u001b[36mcreationTimestamp\u001b[0m:\u001b[32m \"2024-01-29T21:41:33Z\"\u001b[0m\u001b[36m\u001b[0m\n",
      "\u001b[36m  labels\u001b[0m:\u001b[36m\u001b[0m\n",
      "\u001b[36m    app\u001b[0m:\u001b[32m mssqlserver-2022\u001b[0m\n",
      "\u001b[32m    \u001b[0m\u001b[36mapp.kubernetes.io/managed-by\u001b[0m:\u001b[32m Helm\u001b[0m\n",
      "\u001b[32m    \u001b[0m\u001b[36mchart\u001b[0m:\u001b[32m mssqlserver-2022-1.2.3\u001b[0m\n",
      "\u001b[32m    \u001b[0m\u001b[36mheritage\u001b[0m:\u001b[32m Helm\u001b[0m\n",
      "\u001b[32m    \u001b[0m\u001b[36mrelease\u001b[0m:\u001b[32m mssqlserver-2022\u001b[0m\n",
      "\u001b[32m  \u001b[0m\u001b[36mname\u001b[0m:\u001b[32m mssqlserver-2022\u001b[0m\n",
      "\u001b[32m  \u001b[0m\u001b[36mnamespace\u001b[0m:\u001b[32m sqlserver\u001b[0m\n",
      "\u001b[32m  \u001b[0m\u001b[36mresourceVersion\u001b[0m:\u001b[32m \"11028\"\u001b[0m\u001b[36m\u001b[0m\n",
      "\u001b[36m  uid\u001b[0m:\u001b[32m 242e5bb0-4d1b-4a4d-858a-4032fb0efad1\u001b[0m\n",
      "\u001b[32m\u001b[0m\u001b[36mspec\u001b[0m:\u001b[36m\u001b[0m\n",
      "\u001b[36m  clusterIP\u001b[0m:\u001b[32m 10.109.219.112\u001b[0m\n",
      "\u001b[32m  \u001b[0m\u001b[36mclusterIPs\u001b[0m:\n",
      "    -\u001b[32m 10.109.219.112\u001b[0m\n",
      "\u001b[32m  \u001b[0m\u001b[36minternalTrafficPolicy\u001b[0m:\u001b[32m Cluster\u001b[0m\n",
      "\u001b[32m  \u001b[0m\u001b[36mipFamilies\u001b[0m:\n",
      "    -\u001b[32m IPv4\u001b[0m\n",
      "\u001b[32m  \u001b[0m\u001b[36mipFamilyPolicy\u001b[0m:\u001b[32m SingleStack\u001b[0m\n",
      "\u001b[32m  \u001b[0m\u001b[36mports\u001b[0m:\n",
      "    -\u001b[36m name\u001b[0m:\u001b[32m mssql\u001b[0m\n",
      "\u001b[32m      \u001b[0m\u001b[36mport\u001b[0m:\u001b[95m 1433\u001b[0m\n",
      "\u001b[95m      \u001b[0m\u001b[36mprotocol\u001b[0m:\u001b[32m TCP\u001b[0m\n",
      "\u001b[32m      \u001b[0m\u001b[36mtargetPort\u001b[0m:\u001b[32m mssql\u001b[0m\n",
      "\u001b[32m  \u001b[0m\u001b[36mselector\u001b[0m:\u001b[36m\u001b[0m\n",
      "\u001b[36m    app\u001b[0m:\u001b[32m mssqlserver-2022\u001b[0m\n",
      "\u001b[32m    \u001b[0m\u001b[36mrelease\u001b[0m:\u001b[32m mssqlserver-2022\u001b[0m\n",
      "\u001b[32m  \u001b[0m\u001b[36msessionAffinity\u001b[0m:\u001b[32m None\u001b[0m\n",
      "\u001b[32m  \u001b[0m\u001b[36mtype\u001b[0m:\u001b[32m ClusterIP\u001b[0m\n",
      "\u001b[32m\u001b[0m\u001b[36mstatus\u001b[0m:\u001b[36m\u001b[0m\n",
      "\u001b[36m  loadBalancer\u001b[0m: {}\n"
     ]
    }
   ],
   "source": [
    "!kubectl -n sqlserver get service/mssqlserver-2022 -o yaml | yq"
   ]
  },
  {
   "cell_type": "code",
   "execution_count": 2,
   "id": "61d824b9-c951-4db2-b3a4-f8a57dbb4542",
   "metadata": {},
   "outputs": [
    {
     "name": "stdout",
     "output_type": "stream",
     "text": [
      "Starting Nmap 7.80 ( https://nmap.org ) at 2024-01-30 07:15 -03\n",
      "Nmap scan report for mssqlserver-2022.sqlserver.svc (10.109.219.112)\n",
      "Host is up (0.00021s latency).\n",
      "rDNS record for 10.109.219.112: mssqlserver-2022.sqlserver.svc.cluster2.xpt\n",
      "\n",
      "PORT     STATE SERVICE\n",
      "1433/tcp open  ms-sql-s\n",
      "\n",
      "Nmap done: 1 IP address (1 host up) scanned in 0.14 seconds\n"
     ]
    }
   ],
   "source": [
    "!nmap -p 1433 mssqlserver-2022.sqlserver.svc "
   ]
  },
  {
   "cell_type": "code",
   "execution_count": 5,
   "id": "83ebba0f-a8d2-42f2-9651-6e42eede9703",
   "metadata": {},
   "outputs": [
    {
     "name": "stdout",
     "output_type": "stream",
     "text": [
      "\u001b[37mNAME                                     TYPE                 DATA   AGE\u001b[0m\n",
      "\u001b[36mmssqlserver-2022-secret\u001b[0m                  \u001b[32mOpaque\u001b[0m               \u001b[35m1\u001b[0m      \u001b[37m113m\u001b[0m\n",
      "\u001b[36msh.helm.release.v1.mssqlserver-2022.v1\u001b[0m   \u001b[32mhelm.sh/release.v1\u001b[0m   \u001b[35m1\u001b[0m      \u001b[37m113m\u001b[0m\n"
     ]
    }
   ],
   "source": [
    "!kubecolor -n sqlserver get secrets"
   ]
  },
  {
   "cell_type": "code",
   "execution_count": 4,
   "id": "e8c19462-1f54-487c-8ffc-aa228b064cf9",
   "metadata": {},
   "outputs": [
    {
     "name": "stdout",
     "output_type": "stream",
     "text": [
      "\u001b[36mapiVersion\u001b[0m:\u001b[32m v1\u001b[0m\n",
      "\u001b[32m\u001b[0m\u001b[36mdata\u001b[0m:\u001b[36m\u001b[0m\n",
      "\u001b[36m  sapassword\u001b[0m:\u001b[32m WkF5UHNNSzlSTTk5U2ZZZmF6Nlc=\u001b[0m\n",
      "\u001b[32m\u001b[0m\u001b[36mkind\u001b[0m:\u001b[32m Secret\u001b[0m\n",
      "\u001b[32m\u001b[0m\u001b[36mmetadata\u001b[0m:\u001b[36m\u001b[0m\n",
      "\u001b[36m  annotations\u001b[0m:\u001b[36m\u001b[0m\n",
      "\u001b[36m    meta.helm.sh/release-name\u001b[0m:\u001b[32m mssqlserver-2022\u001b[0m\n",
      "\u001b[32m    \u001b[0m\u001b[36mmeta.helm.sh/release-namespace\u001b[0m:\u001b[32m sqlserver\u001b[0m\n",
      "\u001b[32m  \u001b[0m\u001b[36mcreationTimestamp\u001b[0m:\u001b[32m \"2024-01-29T17:18:56Z\"\u001b[0m\u001b[36m\u001b[0m\n",
      "\u001b[36m  labels\u001b[0m:\u001b[36m\u001b[0m\n",
      "\u001b[36m    app\u001b[0m:\u001b[32m mssqlserver-2022\u001b[0m\n",
      "\u001b[32m    \u001b[0m\u001b[36mapp.kubernetes.io/managed-by\u001b[0m:\u001b[32m Helm\u001b[0m\n",
      "\u001b[32m    \u001b[0m\u001b[36mchart\u001b[0m:\u001b[32m mssqlserver-2022-1.2.3\u001b[0m\n",
      "\u001b[32m    \u001b[0m\u001b[36mheritage\u001b[0m:\u001b[32m Helm\u001b[0m\n",
      "\u001b[32m    \u001b[0m\u001b[36mrelease\u001b[0m:\u001b[32m mssqlserver-2022\u001b[0m\n",
      "\u001b[32m  \u001b[0m\u001b[36mname\u001b[0m:\u001b[32m mssqlserver-2022-secret\u001b[0m\n",
      "\u001b[32m  \u001b[0m\u001b[36mnamespace\u001b[0m:\u001b[32m sqlserver\u001b[0m\n",
      "\u001b[32m  \u001b[0m\u001b[36mresourceVersion\u001b[0m:\u001b[32m \"30307\"\u001b[0m\u001b[36m\u001b[0m\n",
      "\u001b[36m  uid\u001b[0m:\u001b[32m 8b599acf-0a35-461c-95d7-ad3d7a9d2948\u001b[0m\n",
      "\u001b[32m\u001b[0m\u001b[36mtype\u001b[0m:\u001b[32m Opaque\u001b[0m\n"
     ]
    }
   ],
   "source": [
    "!kubectl -n sqlserver get secrets mssqlserver-2022-secret -o yaml | yq"
   ]
  },
  {
   "cell_type": "markdown",
   "id": "3a7c82c6-ae17-4483-af1a-b1b87acf7c33",
   "metadata": {},
   "source": [
    "# SA Password Retrieval"
   ]
  },
  {
   "cell_type": "code",
   "execution_count": 1,
   "id": "c49038c7-f6dc-48b1-90d2-7014dbd02c09",
   "metadata": {},
   "outputs": [
    {
     "name": "stdout",
     "output_type": "stream",
     "text": [
      "2u7XMoSsOhPJsesijZPd"
     ]
    }
   ],
   "source": [
    "!kubectl -n sqlserver get secrets mssqlserver-2022-secret -o jsonpath=\"{.data.sapassword}\" | base64 --decode"
   ]
  },
  {
   "cell_type": "code",
   "execution_count": 8,
   "id": "071aaf03-6709-4ed7-b6f8-0ffadd418ae9",
   "metadata": {},
   "outputs": [
    {
     "name": "stdout",
     "output_type": "stream",
     "text": [
      "                                                                                                                                                                                                                                                                                                            \n",
      "------------------------------------------------------------------------------------------------------------------------------------------------------------------------------------------------------------------------------------------------------------------------------------------------------------\n",
      "Microsoft SQL Server 2022 (RTM-CU11) (KB5032679) - 16.0.4105.2 (X64) \n",
      "\tNov 14 2023 18:33:19 \n",
      "\tCopyright (C) 2022 Microsoft Corporation\n",
      "\tDeveloper Edition (64-bit) on Linux (Ubuntu 22.04.3 LTS) <X64>                                                                                                      \n",
      "\n",
      "(1 rows affected)\n",
      "pod \"mssqlcli\" deleted\n"
     ]
    }
   ],
   "source": [
    "! password=$(kubectl -n sqlserver get secrets mssqlserver-2022-secret -o jsonpath=\"{.data.sapassword}\" | base64 --decode) && \\\n",
    "  \\\n",
    "  \\\n",
    "  kubectl -n sqlserver run mssqlcli --image=mcr.microsoft.com/mssql-tools -ti --restart=Never --rm -- \\\n",
    "        /opt/mssql-tools/bin/sqlcmd -S mssqlserver-2022.sqlserver.svc -U sa -P $password -Q \"select @@VERSION;\""
   ]
  },
  {
   "cell_type": "code",
   "execution_count": null,
   "id": "bdf2d3ed-fbf1-48c6-95ca-9aabe5bf0952",
   "metadata": {},
   "outputs": [],
   "source": [
    "DBMS: Microsoft SQL Server (ver. 2022.0)\n",
    "Case sensitivity: plain=mixed, delimited=exact\n",
    "Unable to find remote host or port in the URL.\n"
   ]
  },
  {
   "cell_type": "code",
   "execution_count": null,
   "id": "fb7eb8b6-0ff2-4b22-b3cf-6eb8879a102a",
   "metadata": {},
   "outputs": [],
   "source": []
  }
 ],
 "metadata": {
  "kernelspec": {
   "display_name": "Python 3 (ipykernel)",
   "language": "python",
   "name": "python3"
  },
  "language_info": {
   "codemirror_mode": {
    "name": "ipython",
    "version": 3
   },
   "file_extension": ".py",
   "mimetype": "text/x-python",
   "name": "python",
   "nbconvert_exporter": "python",
   "pygments_lexer": "ipython3",
   "version": "3.10.13"
  }
 },
 "nbformat": 4,
 "nbformat_minor": 5
}
