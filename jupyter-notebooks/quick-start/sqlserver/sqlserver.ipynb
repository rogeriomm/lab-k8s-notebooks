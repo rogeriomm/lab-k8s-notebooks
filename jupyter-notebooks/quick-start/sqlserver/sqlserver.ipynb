{
 "cells": [
  {
   "cell_type": "code",
   "execution_count": 5,
   "id": "bfb3c85f-798d-4080-94b2-b26650b25851",
   "metadata": {},
   "outputs": [
    {
     "name": "stdout",
     "output_type": "stream",
     "text": [
      "\u001b[37mNAME                                   READY   STATUS    RESTARTS   AGE\u001b[0m\n",
      "\u001b[36mpod/mssqlserver-2022-97999577d-h2n74\u001b[0m   \u001b[32m1/1\u001b[0m     \u001b[35mRunning\u001b[0m   \u001b[37m0\u001b[0m          \u001b[33m40m\u001b[0m\n",
      "\u001b[37m\u001b[0m\n",
      "\u001b[37mNAME                       TYPE        CLUSTER-IP       EXTERNAL-IP   PORT(S)    AGE\u001b[0m\n",
      "\u001b[36mservice/mssqlserver-2022\u001b[0m   \u001b[36mClusterIP\u001b[0m   \u001b[32m10.109.219.112\u001b[0m   \u001b[32m<none>\u001b[0m        \u001b[35m1433/TCP\u001b[0m   \u001b[37m12h\u001b[0m\n",
      "\u001b[37m\u001b[0m\n",
      "\u001b[37mNAME                               READY   UP-TO-DATE   AVAILABLE   AGE\u001b[0m\n",
      "\u001b[36mdeployment.apps/mssqlserver-2022\u001b[0m   \u001b[33m1/1\u001b[0m     \u001b[36m1\u001b[0m            \u001b[32m1\u001b[0m           \u001b[33m12h\u001b[0m\n",
      "\u001b[37m\u001b[0m\n",
      "\u001b[37mNAME                                         DESIRED   CURRENT   READY   AGE\u001b[0m\n",
      "\u001b[36mreplicaset.apps/mssqlserver-2022-97999577d\u001b[0m   \u001b[32m1\u001b[0m         \u001b[35m1\u001b[0m         \u001b[37m1\u001b[0m       \u001b[33m12h\u001b[0m\n"
     ]
    }
   ],
   "source": [
    "!kubecolor -n sqlserver get all"
   ]
  },
  {
   "cell_type": "code",
   "execution_count": 3,
   "id": "1ead4084-c12a-4c08-9c99-6c93fbfcd921",
   "metadata": {},
   "outputs": [
    {
     "name": "stdout",
     "output_type": "stream",
     "text": [
      "\u001b[36mapiVersion\u001b[0m:\u001b[32m v1\u001b[0m\n",
      "\u001b[32m\u001b[0m\u001b[36mkind\u001b[0m:\u001b[32m Service\u001b[0m\n",
      "\u001b[32m\u001b[0m\u001b[36mmetadata\u001b[0m:\u001b[36m\u001b[0m\n",
      "\u001b[36m  annotations\u001b[0m:\u001b[36m\u001b[0m\n",
      "\u001b[36m    meta.helm.sh/release-name\u001b[0m:\u001b[32m mssqlserver-2022\u001b[0m\n",
      "\u001b[32m    \u001b[0m\u001b[36mmeta.helm.sh/release-namespace\u001b[0m:\u001b[32m sqlserver\u001b[0m\n",
      "\u001b[32m  \u001b[0m\u001b[36mcreationTimestamp\u001b[0m:\u001b[32m \"2024-01-29T21:41:33Z\"\u001b[0m\u001b[36m\u001b[0m\n",
      "\u001b[36m  labels\u001b[0m:\u001b[36m\u001b[0m\n",
      "\u001b[36m    app\u001b[0m:\u001b[32m mssqlserver-2022\u001b[0m\n",
      "\u001b[32m    \u001b[0m\u001b[36mapp.kubernetes.io/managed-by\u001b[0m:\u001b[32m Helm\u001b[0m\n",
      "\u001b[32m    \u001b[0m\u001b[36mchart\u001b[0m:\u001b[32m mssqlserver-2022-1.2.3\u001b[0m\n",
      "\u001b[32m    \u001b[0m\u001b[36mheritage\u001b[0m:\u001b[32m Helm\u001b[0m\n",
      "\u001b[32m    \u001b[0m\u001b[36mrelease\u001b[0m:\u001b[32m mssqlserver-2022\u001b[0m\n",
      "\u001b[32m  \u001b[0m\u001b[36mname\u001b[0m:\u001b[32m mssqlserver-2022\u001b[0m\n",
      "\u001b[32m  \u001b[0m\u001b[36mnamespace\u001b[0m:\u001b[32m sqlserver\u001b[0m\n",
      "\u001b[32m  \u001b[0m\u001b[36mresourceVersion\u001b[0m:\u001b[32m \"11028\"\u001b[0m\u001b[36m\u001b[0m\n",
      "\u001b[36m  uid\u001b[0m:\u001b[32m 242e5bb0-4d1b-4a4d-858a-4032fb0efad1\u001b[0m\n",
      "\u001b[32m\u001b[0m\u001b[36mspec\u001b[0m:\u001b[36m\u001b[0m\n",
      "\u001b[36m  clusterIP\u001b[0m:\u001b[32m 10.109.219.112\u001b[0m\n",
      "\u001b[32m  \u001b[0m\u001b[36mclusterIPs\u001b[0m:\n",
      "    -\u001b[32m 10.109.219.112\u001b[0m\n",
      "\u001b[32m  \u001b[0m\u001b[36minternalTrafficPolicy\u001b[0m:\u001b[32m Cluster\u001b[0m\n",
      "\u001b[32m  \u001b[0m\u001b[36mipFamilies\u001b[0m:\n",
      "    -\u001b[32m IPv4\u001b[0m\n",
      "\u001b[32m  \u001b[0m\u001b[36mipFamilyPolicy\u001b[0m:\u001b[32m SingleStack\u001b[0m\n",
      "\u001b[32m  \u001b[0m\u001b[36mports\u001b[0m:\n",
      "    -\u001b[36m name\u001b[0m:\u001b[32m mssql\u001b[0m\n",
      "\u001b[32m      \u001b[0m\u001b[36mport\u001b[0m:\u001b[95m 1433\u001b[0m\n",
      "\u001b[95m      \u001b[0m\u001b[36mprotocol\u001b[0m:\u001b[32m TCP\u001b[0m\n",
      "\u001b[32m      \u001b[0m\u001b[36mtargetPort\u001b[0m:\u001b[32m mssql\u001b[0m\n",
      "\u001b[32m  \u001b[0m\u001b[36mselector\u001b[0m:\u001b[36m\u001b[0m\n",
      "\u001b[36m    app\u001b[0m:\u001b[32m mssqlserver-2022\u001b[0m\n",
      "\u001b[32m    \u001b[0m\u001b[36mrelease\u001b[0m:\u001b[32m mssqlserver-2022\u001b[0m\n",
      "\u001b[32m  \u001b[0m\u001b[36msessionAffinity\u001b[0m:\u001b[32m None\u001b[0m\n",
      "\u001b[32m  \u001b[0m\u001b[36mtype\u001b[0m:\u001b[32m ClusterIP\u001b[0m\n",
      "\u001b[32m\u001b[0m\u001b[36mstatus\u001b[0m:\u001b[36m\u001b[0m\n",
      "\u001b[36m  loadBalancer\u001b[0m: {}\n"
     ]
    }
   ],
   "source": [
    "!kubectl -n sqlserver get service/mssqlserver-2022 -o yaml | yq"
   ]
  },
  {
   "cell_type": "code",
   "execution_count": 2,
   "id": "61d824b9-c951-4db2-b3a4-f8a57dbb4542",
   "metadata": {},
   "outputs": [
    {
     "name": "stdout",
     "output_type": "stream",
     "text": [
      "Starting Nmap 7.80 ( https://nmap.org ) at 2024-01-30 07:15 -03\n",
      "Nmap scan report for mssqlserver-2022.sqlserver.svc (10.109.219.112)\n",
      "Host is up (0.00021s latency).\n",
      "rDNS record for 10.109.219.112: mssqlserver-2022.sqlserver.svc.cluster2.xpt\n",
      "\n",
      "PORT     STATE SERVICE\n",
      "1433/tcp open  ms-sql-s\n",
      "\n",
      "Nmap done: 1 IP address (1 host up) scanned in 0.14 seconds\n"
     ]
    }
   ],
   "source": [
    "!nmap -p 1433 mssqlserver-2022.sqlserver.svc "
   ]
  },
  {
   "cell_type": "code",
   "execution_count": 5,
   "id": "83ebba0f-a8d2-42f2-9651-6e42eede9703",
   "metadata": {},
   "outputs": [
    {
     "name": "stdout",
     "output_type": "stream",
     "text": [
      "\u001b[37mNAME                                     TYPE                 DATA   AGE\u001b[0m\n",
      "\u001b[36mmssqlserver-2022-secret\u001b[0m                  \u001b[32mOpaque\u001b[0m               \u001b[35m1\u001b[0m      \u001b[37m113m\u001b[0m\n",
      "\u001b[36msh.helm.release.v1.mssqlserver-2022.v1\u001b[0m   \u001b[32mhelm.sh/release.v1\u001b[0m   \u001b[35m1\u001b[0m      \u001b[37m113m\u001b[0m\n"
     ]
    }
   ],
   "source": [
    "!kubecolor -n sqlserver get secrets"
   ]
  },
  {
   "cell_type": "code",
   "execution_count": 4,
   "id": "e8c19462-1f54-487c-8ffc-aa228b064cf9",
   "metadata": {},
   "outputs": [
    {
     "name": "stdout",
     "output_type": "stream",
     "text": [
      "\u001b[36mapiVersion\u001b[0m:\u001b[32m v1\u001b[0m\n",
      "\u001b[32m\u001b[0m\u001b[36mdata\u001b[0m:\u001b[36m\u001b[0m\n",
      "\u001b[36m  sapassword\u001b[0m:\u001b[32m WkF5UHNNSzlSTTk5U2ZZZmF6Nlc=\u001b[0m\n",
      "\u001b[32m\u001b[0m\u001b[36mkind\u001b[0m:\u001b[32m Secret\u001b[0m\n",
      "\u001b[32m\u001b[0m\u001b[36mmetadata\u001b[0m:\u001b[36m\u001b[0m\n",
      "\u001b[36m  annotations\u001b[0m:\u001b[36m\u001b[0m\n",
      "\u001b[36m    meta.helm.sh/release-name\u001b[0m:\u001b[32m mssqlserver-2022\u001b[0m\n",
      "\u001b[32m    \u001b[0m\u001b[36mmeta.helm.sh/release-namespace\u001b[0m:\u001b[32m sqlserver\u001b[0m\n",
      "\u001b[32m  \u001b[0m\u001b[36mcreationTimestamp\u001b[0m:\u001b[32m \"2024-01-29T17:18:56Z\"\u001b[0m\u001b[36m\u001b[0m\n",
      "\u001b[36m  labels\u001b[0m:\u001b[36m\u001b[0m\n",
      "\u001b[36m    app\u001b[0m:\u001b[32m mssqlserver-2022\u001b[0m\n",
      "\u001b[32m    \u001b[0m\u001b[36mapp.kubernetes.io/managed-by\u001b[0m:\u001b[32m Helm\u001b[0m\n",
      "\u001b[32m    \u001b[0m\u001b[36mchart\u001b[0m:\u001b[32m mssqlserver-2022-1.2.3\u001b[0m\n",
      "\u001b[32m    \u001b[0m\u001b[36mheritage\u001b[0m:\u001b[32m Helm\u001b[0m\n",
      "\u001b[32m    \u001b[0m\u001b[36mrelease\u001b[0m:\u001b[32m mssqlserver-2022\u001b[0m\n",
      "\u001b[32m  \u001b[0m\u001b[36mname\u001b[0m:\u001b[32m mssqlserver-2022-secret\u001b[0m\n",
      "\u001b[32m  \u001b[0m\u001b[36mnamespace\u001b[0m:\u001b[32m sqlserver\u001b[0m\n",
      "\u001b[32m  \u001b[0m\u001b[36mresourceVersion\u001b[0m:\u001b[32m \"30307\"\u001b[0m\u001b[36m\u001b[0m\n",
      "\u001b[36m  uid\u001b[0m:\u001b[32m 8b599acf-0a35-461c-95d7-ad3d7a9d2948\u001b[0m\n",
      "\u001b[32m\u001b[0m\u001b[36mtype\u001b[0m:\u001b[32m Opaque\u001b[0m\n"
     ]
    }
   ],
   "source": [
    "!kubectl -n sqlserver get secrets mssqlserver-2022-secret -o yaml | yq"
   ]
  },
  {
   "cell_type": "markdown",
   "id": "3a7c82c6-ae17-4483-af1a-b1b87acf7c33",
   "metadata": {},
   "source": [
    "# SA Password Retrieval"
   ]
  },
  {
   "cell_type": "code",
   "execution_count": 9,
   "id": "c49038c7-f6dc-48b1-90d2-7014dbd02c09",
   "metadata": {},
   "outputs": [
    {
     "name": "stdout",
     "output_type": "stream",
     "text": [
      "jRaF7SUPhgJ6iDkQZCjn"
     ]
    }
   ],
   "source": [
    "!kubectl -n sqlserver get secrets mssqlserver-2022-secret -o jsonpath=\"{.data.sapassword}\" | base64 --decode"
   ]
  },
  {
   "cell_type": "code",
   "execution_count": 20,
   "id": "071aaf03-6709-4ed7-b6f8-0ffadd418ae9",
   "metadata": {},
   "outputs": [
    {
     "name": "stdout",
     "output_type": "stream",
     "text": [
      "                                                                                                                                                                                                                                                                                                            \n",
      "------------------------------------------------------------------------------------------------------------------------------------------------------------------------------------------------------------------------------------------------------------------------------------------------------------\n",
      "Microsoft SQL Server 2022 (RTM-CU11) (KB5032679) - 16.0.4105.2 (X64) \n",
      "\tNov 14 2023 18:33:19 \n",
      "\tCopyright (C) 2022 Microsoft Corporation\n",
      "\tDeveloper Edition (64-bit) on Linux (Ubuntu 22.04.3 LTS) <X64>                                                                                                      \n",
      "\n",
      "(1 rows affected)\n",
      "pod \"mssqlcli\" deleted\n"
     ]
    }
   ],
   "source": [
    "!password=\"ZAyPsMK9RM99SfYfaz6W\" && \\\n",
    "  kubectl -n sqlserver run mssqlcli --image=mcr.microsoft.com/mssql-tools -ti --restart=Never --rm -- \\\n",
    "        /opt/mssql-tools/bin/sqlcmd -S mssqlserver-2022.sqlserver.svc -U sa -P $password -Q \"select @@VERSION;\""
   ]
  },
  {
   "cell_type": "code",
   "execution_count": null,
   "id": "bdf2d3ed-fbf1-48c6-95ca-9aabe5bf0952",
   "metadata": {},
   "outputs": [],
   "source": [
    "DBMS: Microsoft SQL Server (ver. 2022.0)\n",
    "Case sensitivity: plain=mixed, delimited=exact\n",
    "Unable to find remote host or port in the URL.\n"
   ]
  }
 ],
 "metadata": {
  "kernelspec": {
   "display_name": "Python 3 (ipykernel)",
   "language": "python",
   "name": "python3"
  },
  "language_info": {
   "codemirror_mode": {
    "name": "ipython",
    "version": 3
   },
   "file_extension": ".py",
   "mimetype": "text/x-python",
   "name": "python",
   "nbconvert_exporter": "python",
   "pygments_lexer": "ipython3",
   "version": "3.10.13"
  }
 },
 "nbformat": 4,
 "nbformat_minor": 5
}
