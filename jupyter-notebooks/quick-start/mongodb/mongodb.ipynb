{
 "cells": [
  {
   "cell_type": "code",
   "execution_count": 2,
   "id": "d321b902-dfdc-4aa0-8975-943e07547c01",
   "metadata": {},
   "outputs": [
    {
     "name": "stdout",
     "output_type": "stream",
     "text": [
      "NAME                                              READY   STATUS    RESTARTS       AGE\n",
      "pod/mongodb-kubernetes-operator-bf56d5578-zq8gk   1/1     Running   16 (98m ago)   6d4h\n",
      "\n",
      "NAME                    TYPE        CLUSTER-IP   EXTERNAL-IP   PORT(S)     AGE\n",
      "service/mongodb-1-svc   ClusterIP   None         <none>        27017/TCP   6d22h\n",
      "\n",
      "NAME                                          READY   UP-TO-DATE   AVAILABLE   AGE\n",
      "deployment.apps/mongodb-kubernetes-operator   1/1     1            1           6d22h\n",
      "\n",
      "NAME                                                    DESIRED   CURRENT   READY   AGE\n",
      "replicaset.apps/mongodb-kubernetes-operator-bf56d5578   1         1         1       6d22h\n"
     ]
    }
   ],
   "source": [
    "!kubectl -n mongodb get all"
   ]
  },
  {
   "cell_type": "code",
   "execution_count": null,
   "id": "b98a8be1-4387-4527-bf57-979b9d32ffcb",
   "metadata": {},
   "outputs": [],
   "source": []
  }
 ],
 "metadata": {
  "kernelspec": {
   "display_name": "Python 3 (ipykernel)",
   "language": "python",
   "name": "python3"
  },
  "language_info": {
   "codemirror_mode": {
    "name": "ipython",
    "version": 3
   },
   "file_extension": ".py",
   "mimetype": "text/x-python",
   "name": "python",
   "nbconvert_exporter": "python",
   "pygments_lexer": "ipython3",
   "version": "3.10.13"
  }
 },
 "nbformat": 4,
 "nbformat_minor": 5
}
