{
 "cells": [
  {
   "cell_type": "code",
   "execution_count": 4,
   "id": "148fd7ac-460d-4929-b856-ed325eb992ad",
   "metadata": {},
   "outputs": [
    {
     "name": "stdout",
     "output_type": "stream",
     "text": [
      "\u001b[36mapiVersion\u001b[0m:\u001b[32m networking.k8s.io/v1\u001b[0m\n",
      "\u001b[32m\u001b[0m\u001b[36mkind\u001b[0m:\u001b[32m Ingress\u001b[0m\n",
      "\u001b[32m\u001b[0m\u001b[36mmetadata\u001b[0m:\u001b[36m\u001b[0m\n",
      "\u001b[36m  annotations\u001b[0m:\u001b[36m\u001b[0m\n",
      "\u001b[36m    meta.helm.sh/release-name\u001b[0m:\u001b[32m redpandas-console\u001b[0m\n",
      "\u001b[32m    \u001b[0m\u001b[36mmeta.helm.sh/release-namespace\u001b[0m:\u001b[32m kafka\u001b[0m\n",
      "\u001b[32m  \u001b[0m\u001b[36mcreationTimestamp\u001b[0m:\u001b[32m \"2024-02-09T10:49:43Z\"\u001b[0m\u001b[36m\u001b[0m\n",
      "\u001b[36m  generation\u001b[0m:\u001b[95m 1\u001b[0m\n",
      "\u001b[95m  \u001b[0m\u001b[36mlabels\u001b[0m:\u001b[36m\u001b[0m\n",
      "\u001b[36m    app.kubernetes.io/instance\u001b[0m:\u001b[32m redpandas-console\u001b[0m\n",
      "\u001b[32m    \u001b[0m\u001b[36mapp.kubernetes.io/managed-by\u001b[0m:\u001b[32m Helm\u001b[0m\n",
      "\u001b[32m    \u001b[0m\u001b[36mapp.kubernetes.io/name\u001b[0m:\u001b[32m console\u001b[0m\n",
      "\u001b[32m    \u001b[0m\u001b[36mapp.kubernetes.io/version\u001b[0m:\u001b[32m v2.4.3\u001b[0m\n",
      "\u001b[32m    \u001b[0m\u001b[36mhelm.sh/chart\u001b[0m:\u001b[32m console-0.7.20\u001b[0m\n",
      "\u001b[32m  \u001b[0m\u001b[36mname\u001b[0m:\u001b[32m redpandas-console\u001b[0m\n",
      "\u001b[32m  \u001b[0m\u001b[36mnamespace\u001b[0m:\u001b[32m kafka\u001b[0m\n",
      "\u001b[32m  \u001b[0m\u001b[36mresourceVersion\u001b[0m:\u001b[32m \"626633\"\u001b[0m\u001b[36m\u001b[0m\n",
      "\u001b[36m  uid\u001b[0m:\u001b[32m 53c5bdaf-46ac-4331-9f85-d60d9a6606c4\u001b[0m\n",
      "\u001b[32m\u001b[0m\u001b[36mspec\u001b[0m:\u001b[36m\u001b[0m\n",
      "\u001b[36m  ingressClassName\u001b[0m:\u001b[32m nginx\u001b[0m\n",
      "\u001b[32m  \u001b[0m\u001b[36mrules\u001b[0m:\n",
      "    -\u001b[36m host\u001b[0m:\u001b[32m redpanda-console.worldl.xpt\u001b[0m\n",
      "\u001b[32m      \u001b[0m\u001b[36mhttp\u001b[0m:\u001b[36m\u001b[0m\n",
      "\u001b[36m        paths\u001b[0m:\n",
      "          -\u001b[36m backend\u001b[0m:\u001b[36m\u001b[0m\n",
      "\u001b[36m              service\u001b[0m:\u001b[36m\u001b[0m\n",
      "\u001b[36m                name\u001b[0m:\u001b[32m redpandas-console\u001b[0m\n",
      "\u001b[32m                \u001b[0m\u001b[36mport\u001b[0m:\u001b[36m\u001b[0m\n",
      "\u001b[36m                  number\u001b[0m:\u001b[95m 8080\u001b[0m\n",
      "\u001b[95m            \u001b[0m\u001b[36mpath\u001b[0m:\u001b[32m /\u001b[0m\n",
      "\u001b[32m            \u001b[0m\u001b[36mpathType\u001b[0m:\u001b[32m ImplementationSpecific\u001b[0m\n",
      "\u001b[32m\u001b[0m\u001b[36mstatus\u001b[0m:\u001b[36m\u001b[0m\n",
      "\u001b[36m  loadBalancer\u001b[0m:\u001b[36m\u001b[0m\n",
      "\u001b[36m    ingress\u001b[0m:\n",
      "      -\u001b[36m ip\u001b[0m:\u001b[32m 192.168.49.2\u001b[0m\n"
     ]
    }
   ],
   "source": [
    "!kubectl -n kafka get ingress redpandas-console -o yaml | yq"
   ]
  },
  {
   "cell_type": "code",
   "execution_count": 1,
   "id": "b65b3961-a9d2-4a9b-9822-a2fe8efe7a5b",
   "metadata": {},
   "outputs": [
    {
     "name": "stdout",
     "output_type": "stream",
     "text": [
      "\u001b[36mapiVersion\u001b[0m:\u001b[32m v1\u001b[0m\n",
      "\u001b[32m\u001b[0m\u001b[36mdata\u001b[0m:\u001b[36m\u001b[0m\n",
      "\u001b[36m  enterprise-license\u001b[0m:\u001b[32m \"\"\u001b[0m\u001b[36m\u001b[0m\n",
      "\u001b[36m  kafka-protobuf-git-basicauth-password\u001b[0m:\u001b[32m \"\"\u001b[0m\u001b[36m\u001b[0m\n",
      "\u001b[36m  kafka-sasl-aws-msk-iam-secret-key\u001b[0m:\u001b[32m \"\"\u001b[0m\u001b[36m\u001b[0m\n",
      "\u001b[36m  kafka-sasl-password\u001b[0m:\u001b[32m \"\"\u001b[0m\u001b[36m\u001b[0m\n",
      "\u001b[36m  kafka-schema-registry-password\u001b[0m:\u001b[32m \"\"\u001b[0m\u001b[36m\u001b[0m\n",
      "\u001b[36m  kafka-schemaregistry-tls-ca\u001b[0m:\u001b[32m \"\"\u001b[0m\u001b[36m\u001b[0m\n",
      "\u001b[36m  kafka-schemaregistry-tls-cert\u001b[0m:\u001b[32m \"\"\u001b[0m\u001b[36m\u001b[0m\n",
      "\u001b[36m  kafka-schemaregistry-tls-key\u001b[0m:\u001b[32m \"\"\u001b[0m\u001b[36m\u001b[0m\n",
      "\u001b[36m  kafka-tls-ca\u001b[0m:\u001b[32m \"\"\u001b[0m\u001b[36m\u001b[0m\n",
      "\u001b[36m  kafka-tls-cert\u001b[0m:\u001b[32m \"\"\u001b[0m\u001b[36m\u001b[0m\n",
      "\u001b[36m  kafka-tls-key\u001b[0m:\u001b[32m \"\"\u001b[0m\u001b[36m\u001b[0m\n",
      "\u001b[36m  login-github-oauth-client-secret\u001b[0m:\u001b[32m \"\"\u001b[0m\u001b[36m\u001b[0m\n",
      "\u001b[36m  login-github-personal-access-token\u001b[0m:\u001b[32m \"\"\u001b[0m\u001b[36m\u001b[0m\n",
      "\u001b[36m  login-google-groups-service-account.json\u001b[0m:\u001b[32m \"\"\u001b[0m\u001b[36m\u001b[0m\n",
      "\u001b[36m  login-google-oauth-client-secret\u001b[0m:\u001b[32m \"\"\u001b[0m\u001b[36m\u001b[0m\n",
      "\u001b[36m  login-jwt-secret\u001b[0m:\u001b[32m cTF2SjBDVU1Jb2liY25vZkVyVlhpa1BIREZiRm5TNTU=\u001b[0m\n",
      "\u001b[32m  \u001b[0m\u001b[36mlogin-oidc-client-secret\u001b[0m:\u001b[32m \"\"\u001b[0m\u001b[36m\u001b[0m\n",
      "\u001b[36m  login-okta-client-secret\u001b[0m:\u001b[32m \"\"\u001b[0m\u001b[36m\u001b[0m\n",
      "\u001b[36m  login-okta-directory-api-token\u001b[0m:\u001b[32m \"\"\u001b[0m\u001b[36m\u001b[0m\n",
      "\u001b[36m  redpanda-admin-api-password\u001b[0m:\u001b[32m \"\"\u001b[0m\u001b[36m\u001b[0m\n",
      "\u001b[36m  redpanda-admin-api-tls-ca\u001b[0m:\u001b[32m \"\"\u001b[0m\u001b[36m\u001b[0m\n",
      "\u001b[36m  redpanda-admin-api-tls-cert\u001b[0m:\u001b[32m \"\"\u001b[0m\u001b[36m\u001b[0m\n",
      "\u001b[36m  redpanda-admin-api-tls-key\u001b[0m:\u001b[32m \"\"\u001b[0m\u001b[36m\u001b[0m\n",
      "\u001b[36mkind\u001b[0m:\u001b[32m Secret\u001b[0m\n",
      "\u001b[32m\u001b[0m\u001b[36mmetadata\u001b[0m:\u001b[36m\u001b[0m\n",
      "\u001b[36m  annotations\u001b[0m:\u001b[36m\u001b[0m\n",
      "\u001b[36m    meta.helm.sh/release-name\u001b[0m:\u001b[32m redpandas-console\u001b[0m\n",
      "\u001b[32m    \u001b[0m\u001b[36mmeta.helm.sh/release-namespace\u001b[0m:\u001b[32m kafka\u001b[0m\n",
      "\u001b[32m  \u001b[0m\u001b[36mcreationTimestamp\u001b[0m:\u001b[32m \"2024-02-09T10:44:50Z\"\u001b[0m\u001b[36m\u001b[0m\n",
      "\u001b[36m  labels\u001b[0m:\u001b[36m\u001b[0m\n",
      "\u001b[36m    app.kubernetes.io/instance\u001b[0m:\u001b[32m redpandas-console\u001b[0m\n",
      "\u001b[32m    \u001b[0m\u001b[36mapp.kubernetes.io/managed-by\u001b[0m:\u001b[32m Helm\u001b[0m\n",
      "\u001b[32m    \u001b[0m\u001b[36mapp.kubernetes.io/name\u001b[0m:\u001b[32m console\u001b[0m\n",
      "\u001b[32m    \u001b[0m\u001b[36mapp.kubernetes.io/version\u001b[0m:\u001b[32m v2.4.3\u001b[0m\n",
      "\u001b[32m    \u001b[0m\u001b[36mhelm.sh/chart\u001b[0m:\u001b[32m console-0.7.20\u001b[0m\n",
      "\u001b[32m  \u001b[0m\u001b[36mname\u001b[0m:\u001b[32m redpandas-console\u001b[0m\n",
      "\u001b[32m  \u001b[0m\u001b[36mnamespace\u001b[0m:\u001b[32m kafka\u001b[0m\n",
      "\u001b[32m  \u001b[0m\u001b[36mresourceVersion\u001b[0m:\u001b[32m \"633857\"\u001b[0m\u001b[36m\u001b[0m\n",
      "\u001b[36m  uid\u001b[0m:\u001b[32m 7e3b09fe-b776-4ad9-9ec0-c688fe836fd1\u001b[0m\n",
      "\u001b[32m\u001b[0m\u001b[36mtype\u001b[0m:\u001b[32m Opaque\u001b[0m\n"
     ]
    }
   ],
   "source": [
    "!kubectl -n kafka get secret redpandas-console -o yaml | yq"
   ]
  },
  {
   "cell_type": "code",
   "execution_count": 2,
   "id": "48f917a0-a94e-48e8-9264-c784183ff494",
   "metadata": {},
   "outputs": [
    {
     "name": "stdout",
     "output_type": "stream",
     "text": [
      "\u001b[36mapiVersion\u001b[0m:\u001b[32m v1\u001b[0m\n",
      "\u001b[32m\u001b[0m\u001b[36mdata\u001b[0m:\u001b[36m\u001b[0m\n",
      "\u001b[36m  config.yaml\u001b[0m: |\n",
      "\u001b[32m    # from .Values.console.config\u001b[0m\n",
      "\u001b[32m    kafka:\u001b[0m\n",
      "\u001b[32m      brokers:\u001b[0m\n",
      "\u001b[32m      - main-kafka-bootstrap.kafka-main-cluster.svc:9092\u001b[0m\n",
      "\u001b[32m      sasl:\u001b[0m\n",
      "\u001b[32m        enabled: true\u001b[0m\n",
      "\u001b[32m        mechanism: SCRAM-SHA-512\u001b[0m\n",
      "\u001b[32m        username: kafka-user-ui\u001b[0m\n",
      "\u001b[32m\u001b[0m\u001b[36mkind\u001b[0m:\u001b[32m ConfigMap\u001b[0m\n",
      "\u001b[32m\u001b[0m\u001b[36mmetadata\u001b[0m:\u001b[36m\u001b[0m\n",
      "\u001b[36m  annotations\u001b[0m:\u001b[36m\u001b[0m\n",
      "\u001b[36m    meta.helm.sh/release-name\u001b[0m:\u001b[32m redpandas-console\u001b[0m\n",
      "\u001b[32m    \u001b[0m\u001b[36mmeta.helm.sh/release-namespace\u001b[0m:\u001b[32m kafka\u001b[0m\n",
      "\u001b[32m  \u001b[0m\u001b[36mcreationTimestamp\u001b[0m:\u001b[32m \"2024-02-09T10:44:50Z\"\u001b[0m\u001b[36m\u001b[0m\n",
      "\u001b[36m  labels\u001b[0m:\u001b[36m\u001b[0m\n",
      "\u001b[36m    app.kubernetes.io/instance\u001b[0m:\u001b[32m redpandas-console\u001b[0m\n",
      "\u001b[32m    \u001b[0m\u001b[36mapp.kubernetes.io/managed-by\u001b[0m:\u001b[32m Helm\u001b[0m\n",
      "\u001b[32m    \u001b[0m\u001b[36mapp.kubernetes.io/name\u001b[0m:\u001b[32m console\u001b[0m\n",
      "\u001b[32m    \u001b[0m\u001b[36mapp.kubernetes.io/version\u001b[0m:\u001b[32m v2.4.3\u001b[0m\n",
      "\u001b[32m    \u001b[0m\u001b[36mhelm.sh/chart\u001b[0m:\u001b[32m console-0.7.20\u001b[0m\n",
      "\u001b[32m  \u001b[0m\u001b[36mname\u001b[0m:\u001b[32m redpandas-console\u001b[0m\n",
      "\u001b[32m  \u001b[0m\u001b[36mnamespace\u001b[0m:\u001b[32m kafka\u001b[0m\n",
      "\u001b[32m  \u001b[0m\u001b[36mresourceVersion\u001b[0m:\u001b[32m \"633858\"\u001b[0m\u001b[36m\u001b[0m\n",
      "\u001b[36m  uid\u001b[0m:\u001b[32m c50ce2de-c796-42af-85bf-68e4f0cc3742\u001b[0m\n"
     ]
    }
   ],
   "source": [
    "!kubectl -n kafka get configmap redpandas-console -o yaml | yq"
   ]
  },
  {
   "cell_type": "code",
   "execution_count": null,
   "id": "48888ed4-a4b3-4d32-91e3-27f05670937f",
   "metadata": {},
   "outputs": [],
   "source": []
  }
 ],
 "metadata": {
  "kernelspec": {
   "display_name": "Python 3 (ipykernel)",
   "language": "python",
   "name": "python3"
  },
  "language_info": {
   "codemirror_mode": {
    "name": "ipython",
    "version": 3
   },
   "file_extension": ".py",
   "mimetype": "text/x-python",
   "name": "python",
   "nbconvert_exporter": "python",
   "pygments_lexer": "ipython3",
   "version": "3.10.13"
  }
 },
 "nbformat": 4,
 "nbformat_minor": 5
}
