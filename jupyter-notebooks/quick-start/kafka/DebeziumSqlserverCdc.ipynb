{
 "cells": [
  {
   "cell_type": "markdown",
   "id": "f849d58a-e973-40a4-a972-cbf9cf07d016",
   "metadata": {},
   "source": [
    "   * https://debezium.io/documentation/reference/stable/connectors/sqlserver.html: Debezium connector for SQL Server\n",
    "   * https://github.com/debezium/debezium-examples/tree/main/tutorial#using-sql-server\n",
    "      * https://github.com/debezium/debezium-examples/blob/main/tutorial/debezium-sqlserver-init/inventory.sql"
   ]
  },
  {
   "cell_type": "code",
   "execution_count": 11,
   "id": "5a859fa5-2a8d-468b-9d09-acd3ddee80b8",
   "metadata": {},
   "outputs": [
    {
     "name": "stdout",
     "output_type": "stream",
     "text": [
      "\u001b[36mapiVersion\u001b[0m:\u001b[32m kafka.strimzi.io/v1beta2\u001b[0m\n",
      "\u001b[32m\u001b[0m\u001b[36mkind\u001b[0m:\u001b[32m KafkaConnector\u001b[0m\n",
      "\u001b[32m\u001b[0m\u001b[36mmetadata\u001b[0m:\u001b[36m\u001b[0m\n",
      "\u001b[36m  annotations\u001b[0m:\u001b[36m\u001b[0m\n",
      "\u001b[36m    kubectl.kubernetes.io/last-applied-configuration\u001b[0m: |\n",
      "\u001b[32m      {\"apiVersion\":\"kafka.strimzi.io/v1beta2\",\"kind\":\"KafkaConnector\",\"metadata\":{\"annotations\":{},\"labels\":{\"strimzi.io/cluster\":\"my-connect\"},\"name\":\"debezium-connector-sqlserver\",\"namespace\":\"kafka-main-cluster\"},\"spec\":{\"class\":\"io.debezium.connector.sqlserver.SqlServerConnector\",\"config\":{\"converter.type\":\"avro\",\"database.dbname\":\"testDB\",\"database.encrypt\":false,\"database.history.kafka.bootstrap.servers\":\"main-kafka-bootstrap:9092\",\"database.history.kafka.topic\":\"sqlserver-cdc-tables\",\"database.hostname\":\"mssqlserver-2022.sqlserver.svc\",\"database.names\":\"testDB\",\"database.password\":\"${secrets:kafka-main-cluster/sqlserver-user-debezium:password}\",\"database.port\":1433,\"database.server.name\":\"mssqlserver-2022.sqlserver.svc\",\"database.user\":\"${secrets:kafka-main-cluster/sqlserver-user-debezium:username}\",\"decimal.handling.mode\":\"double\",\"key.converter\":\"io.confluent.connect.avro.AvroConverter\",\"key.converter.schema.registry.url\":\"http://schema-registry-cp-schema-registry:8081\",\"max.batch.size\":600,\"max.queue.size\":1200,\"poll.interval.ms\":20000,\"query.fetch.size\":1000,\"snapshot.fetch.size\":600,\"tombstones.on.delete\":true,\"topic.prefix\":\"sqlserver.testDB\",\"transforms\":\"unwrap\",\"transforms.unwrap.add.fields\":\"op,table,source.ts_ms\",\"transforms.unwrap.add.headers\":\"db\",\"transforms.unwrap.delete.handling.mode\":\"rewrite\",\"transforms.unwrap.drop.tombstones\":\"false\",\"transforms.unwrap.type\":\"io.debezium.transforms.ExtractNewRecordState\",\"value.converter\":\"io.confluent.connect.avro.AvroConverter\",\"value.converter.schema.registry.url\":\"http://schema-registry-cp-schema-registry:8081\"},\"tasksMax\":1}}\u001b[0m\n",
      "\u001b[32m  \u001b[0m\u001b[36mcreationTimestamp\u001b[0m:\u001b[32m \"2024-02-07T10:54:26Z\"\u001b[0m\u001b[36m\u001b[0m\n",
      "\u001b[36m  generation\u001b[0m:\u001b[95m 1\u001b[0m\n",
      "\u001b[95m  \u001b[0m\u001b[36mlabels\u001b[0m:\u001b[36m\u001b[0m\n",
      "\u001b[36m    strimzi.io/cluster\u001b[0m:\u001b[32m my-connect\u001b[0m\n",
      "\u001b[32m  \u001b[0m\u001b[36mname\u001b[0m:\u001b[32m debezium-connector-sqlserver\u001b[0m\n",
      "\u001b[32m  \u001b[0m\u001b[36mnamespace\u001b[0m:\u001b[32m kafka-main-cluster\u001b[0m\n",
      "\u001b[32m  \u001b[0m\u001b[36mresourceVersion\u001b[0m:\u001b[32m \"475372\"\u001b[0m\u001b[36m\u001b[0m\n",
      "\u001b[36m  uid\u001b[0m:\u001b[32m cc03f08e-e56f-4711-a591-9a8a90bbd867\u001b[0m\n",
      "\u001b[32m\u001b[0m\u001b[36mspec\u001b[0m:\u001b[36m\u001b[0m\n",
      "\u001b[36m  class\u001b[0m:\u001b[32m io.debezium.connector.sqlserver.SqlServerConnector\u001b[0m\n",
      "\u001b[32m  \u001b[0m\u001b[36mconfig\u001b[0m:\u001b[36m\u001b[0m\n",
      "\u001b[36m    converter.type\u001b[0m:\u001b[32m avro\u001b[0m\n",
      "\u001b[32m    \u001b[0m\u001b[36mdatabase.dbname\u001b[0m:\u001b[32m testDB\u001b[0m\n",
      "\u001b[32m    \u001b[0m\u001b[36mdatabase.encrypt\u001b[0m:\u001b[95m false\u001b[0m\n",
      "\u001b[95m    \u001b[0m\u001b[36mdatabase.history.kafka.bootstrap.servers\u001b[0m:\u001b[32m main-kafka-bootstrap:9092\u001b[0m\n",
      "\u001b[32m    \u001b[0m\u001b[36mdatabase.history.kafka.topic\u001b[0m:\u001b[32m sqlserver-cdc-tables\u001b[0m\n",
      "\u001b[32m    \u001b[0m\u001b[36mdatabase.hostname\u001b[0m:\u001b[32m mssqlserver-2022.sqlserver.svc\u001b[0m\n",
      "\u001b[32m    \u001b[0m\u001b[36mdatabase.names\u001b[0m:\u001b[32m testDB\u001b[0m\n",
      "\u001b[32m    \u001b[0m\u001b[36mdatabase.password\u001b[0m:\u001b[32m ${secrets:kafka-main-cluster/sqlserver-user-debezium:password}\u001b[0m\n",
      "\u001b[32m    \u001b[0m\u001b[36mdatabase.port\u001b[0m:\u001b[95m 1433\u001b[0m\n",
      "\u001b[95m    \u001b[0m\u001b[36mdatabase.server.name\u001b[0m:\u001b[32m mssqlserver-2022.sqlserver.svc\u001b[0m\n",
      "\u001b[32m    \u001b[0m\u001b[36mdatabase.user\u001b[0m:\u001b[32m ${secrets:kafka-main-cluster/sqlserver-user-debezium:username}\u001b[0m\n",
      "\u001b[32m    \u001b[0m\u001b[36mdecimal.handling.mode\u001b[0m:\u001b[32m double\u001b[0m\n",
      "\u001b[32m    \u001b[0m\u001b[36mkey.converter\u001b[0m:\u001b[32m io.confluent.connect.avro.AvroConverter\u001b[0m\n",
      "\u001b[32m    \u001b[0m\u001b[36mkey.converter.schema.registry.url\u001b[0m:\u001b[32m http://schema-registry-cp-schema-registry:8081\u001b[0m\n",
      "\u001b[32m    \u001b[0m\u001b[36mmax.batch.size\u001b[0m:\u001b[95m 600\u001b[0m\n",
      "\u001b[95m    \u001b[0m\u001b[36mmax.queue.size\u001b[0m:\u001b[95m 1200\u001b[0m\n",
      "\u001b[95m    \u001b[0m\u001b[36mpoll.interval.ms\u001b[0m:\u001b[95m 20000\u001b[0m\n",
      "\u001b[95m    \u001b[0m\u001b[36mquery.fetch.size\u001b[0m:\u001b[95m 1000\u001b[0m\n",
      "\u001b[95m    \u001b[0m\u001b[36msnapshot.fetch.size\u001b[0m:\u001b[95m 600\u001b[0m\n",
      "\u001b[95m    \u001b[0m\u001b[36mtombstones.on.delete\u001b[0m:\u001b[95m true\u001b[0m\n",
      "\u001b[95m    \u001b[0m\u001b[36mtopic.prefix\u001b[0m:\u001b[32m sqlserver.testDB\u001b[0m\n",
      "\u001b[32m    \u001b[0m\u001b[36mtransforms\u001b[0m:\u001b[32m unwrap\u001b[0m\n",
      "\u001b[32m    \u001b[0m\u001b[36mtransforms.unwrap.add.fields\u001b[0m:\u001b[32m op,table,source.ts_ms\u001b[0m\n",
      "\u001b[32m    \u001b[0m\u001b[36mtransforms.unwrap.add.headers\u001b[0m:\u001b[32m db\u001b[0m\n",
      "\u001b[32m    \u001b[0m\u001b[36mtransforms.unwrap.delete.handling.mode\u001b[0m:\u001b[32m rewrite\u001b[0m\n",
      "\u001b[32m    \u001b[0m\u001b[36mtransforms.unwrap.drop.tombstones\u001b[0m:\u001b[32m \"false\"\u001b[0m\u001b[36m\u001b[0m\n",
      "\u001b[36m    transforms.unwrap.type\u001b[0m:\u001b[32m io.debezium.transforms.ExtractNewRecordState\u001b[0m\n",
      "\u001b[32m    \u001b[0m\u001b[36mvalue.converter\u001b[0m:\u001b[32m io.confluent.connect.avro.AvroConverter\u001b[0m\n",
      "\u001b[32m    \u001b[0m\u001b[36mvalue.converter.schema.registry.url\u001b[0m:\u001b[32m http://schema-registry-cp-schema-registry:8081\u001b[0m\n",
      "\u001b[32m  \u001b[0m\u001b[36mtasksMax\u001b[0m:\u001b[95m 1\u001b[0m\n",
      "\u001b[95m\u001b[0m\u001b[36mstatus\u001b[0m:\u001b[36m\u001b[0m\n",
      "\u001b[36m  conditions\u001b[0m:\n",
      "    -\u001b[36m lastTransitionTime\u001b[0m:\u001b[32m \"2024-02-07T15:20:11.220586346Z\"\u001b[0m\u001b[36m\u001b[0m\n",
      "\u001b[36m      message\u001b[0m: |-\n",
      "\u001b[32m        PUT /connectors/debezium-connector-sqlserver/config returned 400 (Bad Request): Connector configuration is invalid and contains the following 1 error(s):\u001b[0m\n",
      "\u001b[32m        User debezium does not have access to CDC schema in the following databases: testDB. This user can only be used in initial_only snapshot mode\u001b[0m\n",
      "\u001b[32m        You can also find the above list of errors at the endpoint `/connector-plugins/{connectorType}/config/validate`\u001b[0m\n",
      "\u001b[32m      \u001b[0m\u001b[36mreason\u001b[0m:\u001b[32m ConnectRestException\u001b[0m\n",
      "\u001b[32m      \u001b[0m\u001b[36mstatus\u001b[0m:\u001b[32m \"True\"\u001b[0m\u001b[36m\u001b[0m\n",
      "\u001b[36m      type\u001b[0m:\u001b[32m NotReady\u001b[0m\n",
      "\u001b[32m  \u001b[0m\u001b[36mobservedGeneration\u001b[0m:\u001b[95m 1\u001b[0m\n",
      "\u001b[95m  \u001b[0m\u001b[36mtasksMax\u001b[0m:\u001b[95m 1\u001b[0m\n",
      "\u001b[95m  \u001b[0m\u001b[36mtopics\u001b[0m: []\n"
     ]
    }
   ],
   "source": [
    "!kubectl get -n kafka-main-cluster kafkaconnectors debezium-connector-sqlserver -o yaml | yq"
   ]
  },
  {
   "cell_type": "markdown",
   "id": "6e60df92-bd92-4daf-aac2-d52e38bd2e56",
   "metadata": {},
   "source": [
    "# Get connector errors"
   ]
  },
  {
   "cell_type": "code",
   "execution_count": 8,
   "id": "06b365a1-0175-49ef-8940-143ba1631c27",
   "metadata": {},
   "outputs": [
    {
     "name": "stdout",
     "output_type": "stream",
     "text": [
      "\u001b[1;39m[\n",
      "  \u001b[1;39m{\n",
      "    \u001b[0m\u001b[34;1m\"lastTransitionTime\"\u001b[0m\u001b[1;39m: \u001b[0m\u001b[0;32m\"2024-02-07T14:11:51.122755047Z\"\u001b[0m\u001b[1;39m,\n",
      "    \u001b[0m\u001b[34;1m\"message\"\u001b[0m\u001b[1;39m: \u001b[0m\u001b[0;32m\"PUT /connectors/debezium-connector-sqlserver/config returned 400 (Bad Request): Connector configuration is invalid and contains the following 1 error(s):\\nUnable to connect. Check this and other connection properties. Error: Login failed for user 'debezium'. ClientConnectionId:67395929-767f-4aa9-93f9-f4a4d9a89be0\\nYou can also find the above list of errors at the endpoint `/connector-plugins/{connectorType}/config/validate`\"\u001b[0m\u001b[1;39m,\n",
      "    \u001b[0m\u001b[34;1m\"reason\"\u001b[0m\u001b[1;39m: \u001b[0m\u001b[0;32m\"ConnectRestException\"\u001b[0m\u001b[1;39m,\n",
      "    \u001b[0m\u001b[34;1m\"status\"\u001b[0m\u001b[1;39m: \u001b[0m\u001b[0;32m\"True\"\u001b[0m\u001b[1;39m,\n",
      "    \u001b[0m\u001b[34;1m\"type\"\u001b[0m\u001b[1;39m: \u001b[0m\u001b[0;32m\"NotReady\"\u001b[0m\u001b[1;39m\n",
      "  \u001b[1;39m}\u001b[0m\u001b[1;39m\n",
      "\u001b[1;39m]\u001b[0m\n"
     ]
    }
   ],
   "source": [
    "!kubectl get -n kafka-main-cluster kafkaconnectors debezium-connector-sqlserver -o jsonpath='{.status.conditions}' | jq"
   ]
  },
  {
   "cell_type": "markdown",
   "id": "832efa04-9915-42ed-9012-3856e6a85a7b",
   "metadata": {},
   "source": [
    "   * https://debezium.io/documentation/reference/stable/connectors/sqlserver.html#setting-up-sqlserver\n",
    "      * \"Example: Enabling a SQL Server database for the CDC template\"   \n",
    "```sql\n",
    "USE test\n",
    "\n",
    "EXEC sys.sp_cdc_enable_db\n",
    "EXEC sys.sp_cdc_help_change_data_capture\n",
    "```\n"
   ]
  },
  {
   "cell_type": "markdown",
   "id": "05898b9c-86c5-4210-96e3-438a8639ea16",
   "metadata": {},
   "source": [
    "# Get all Kafka Connect connectors\n",
    "   * https://docs.confluent.io/platform/current/connect/references/restapi.html"
   ]
  },
  {
   "cell_type": "code",
   "execution_count": 1,
   "id": "99d02b52-3f75-450c-8c5a-d20f572786d7",
   "metadata": {},
   "outputs": [
    {
     "name": "stdout",
     "output_type": "stream",
     "text": [
      "\u001b[1;39m[\n",
      "  \u001b[1;39m{\n",
      "    \u001b[0m\u001b[34;1m\"class\"\u001b[0m\u001b[1;39m: \u001b[0m\u001b[0;32m\"io.debezium.connector.mongodb.MongoDbConnector\"\u001b[0m\u001b[1;39m,\n",
      "    \u001b[0m\u001b[34;1m\"type\"\u001b[0m\u001b[1;39m: \u001b[0m\u001b[0;32m\"source\"\u001b[0m\u001b[1;39m,\n",
      "    \u001b[0m\u001b[34;1m\"version\"\u001b[0m\u001b[1;39m: \u001b[0m\u001b[0;32m\"2.5.0.Final\"\u001b[0m\u001b[1;39m\n",
      "  \u001b[1;39m}\u001b[0m\u001b[1;39m,\n",
      "  \u001b[1;39m{\n",
      "    \u001b[0m\u001b[34;1m\"class\"\u001b[0m\u001b[1;39m: \u001b[0m\u001b[0;32m\"io.debezium.connector.mysql.MySqlConnector\"\u001b[0m\u001b[1;39m,\n",
      "    \u001b[0m\u001b[34;1m\"type\"\u001b[0m\u001b[1;39m: \u001b[0m\u001b[0;32m\"source\"\u001b[0m\u001b[1;39m,\n",
      "    \u001b[0m\u001b[34;1m\"version\"\u001b[0m\u001b[1;39m: \u001b[0m\u001b[0;32m\"2.5.0.Final\"\u001b[0m\u001b[1;39m\n",
      "  \u001b[1;39m}\u001b[0m\u001b[1;39m,\n",
      "  \u001b[1;39m{\n",
      "    \u001b[0m\u001b[34;1m\"class\"\u001b[0m\u001b[1;39m: \u001b[0m\u001b[0;32m\"io.debezium.connector.oracle.OracleConnector\"\u001b[0m\u001b[1;39m,\n",
      "    \u001b[0m\u001b[34;1m\"type\"\u001b[0m\u001b[1;39m: \u001b[0m\u001b[0;32m\"source\"\u001b[0m\u001b[1;39m,\n",
      "    \u001b[0m\u001b[34;1m\"version\"\u001b[0m\u001b[1;39m: \u001b[0m\u001b[0;32m\"2.5.0.Final\"\u001b[0m\u001b[1;39m\n",
      "  \u001b[1;39m}\u001b[0m\u001b[1;39m,\n",
      "  \u001b[1;39m{\n",
      "    \u001b[0m\u001b[34;1m\"class\"\u001b[0m\u001b[1;39m: \u001b[0m\u001b[0;32m\"io.debezium.connector.postgresql.PostgresConnector\"\u001b[0m\u001b[1;39m,\n",
      "    \u001b[0m\u001b[34;1m\"type\"\u001b[0m\u001b[1;39m: \u001b[0m\u001b[0;32m\"source\"\u001b[0m\u001b[1;39m,\n",
      "    \u001b[0m\u001b[34;1m\"version\"\u001b[0m\u001b[1;39m: \u001b[0m\u001b[0;32m\"2.5.0.Final\"\u001b[0m\u001b[1;39m\n",
      "  \u001b[1;39m}\u001b[0m\u001b[1;39m,\n",
      "  \u001b[1;39m{\n",
      "    \u001b[0m\u001b[34;1m\"class\"\u001b[0m\u001b[1;39m: \u001b[0m\u001b[0;32m\"io.debezium.connector.sqlserver.SqlServerConnector\"\u001b[0m\u001b[1;39m,\n",
      "    \u001b[0m\u001b[34;1m\"type\"\u001b[0m\u001b[1;39m: \u001b[0m\u001b[0;32m\"source\"\u001b[0m\u001b[1;39m,\n",
      "    \u001b[0m\u001b[34;1m\"version\"\u001b[0m\u001b[1;39m: \u001b[0m\u001b[0;32m\"2.5.0.Final\"\u001b[0m\u001b[1;39m\n",
      "  \u001b[1;39m}\u001b[0m\u001b[1;39m,\n",
      "  \u001b[1;39m{\n",
      "    \u001b[0m\u001b[34;1m\"class\"\u001b[0m\u001b[1;39m: \u001b[0m\u001b[0;32m\"org.apache.kafka.connect.mirror.MirrorCheckpointConnector\"\u001b[0m\u001b[1;39m,\n",
      "    \u001b[0m\u001b[34;1m\"type\"\u001b[0m\u001b[1;39m: \u001b[0m\u001b[0;32m\"source\"\u001b[0m\u001b[1;39m,\n",
      "    \u001b[0m\u001b[34;1m\"version\"\u001b[0m\u001b[1;39m: \u001b[0m\u001b[0;32m\"3.6.1\"\u001b[0m\u001b[1;39m\n",
      "  \u001b[1;39m}\u001b[0m\u001b[1;39m,\n",
      "  \u001b[1;39m{\n",
      "    \u001b[0m\u001b[34;1m\"class\"\u001b[0m\u001b[1;39m: \u001b[0m\u001b[0;32m\"org.apache.kafka.connect.mirror.MirrorHeartbeatConnector\"\u001b[0m\u001b[1;39m,\n",
      "    \u001b[0m\u001b[34;1m\"type\"\u001b[0m\u001b[1;39m: \u001b[0m\u001b[0;32m\"source\"\u001b[0m\u001b[1;39m,\n",
      "    \u001b[0m\u001b[34;1m\"version\"\u001b[0m\u001b[1;39m: \u001b[0m\u001b[0;32m\"3.6.1\"\u001b[0m\u001b[1;39m\n",
      "  \u001b[1;39m}\u001b[0m\u001b[1;39m,\n",
      "  \u001b[1;39m{\n",
      "    \u001b[0m\u001b[34;1m\"class\"\u001b[0m\u001b[1;39m: \u001b[0m\u001b[0;32m\"org.apache.kafka.connect.mirror.MirrorSourceConnector\"\u001b[0m\u001b[1;39m,\n",
      "    \u001b[0m\u001b[34;1m\"type\"\u001b[0m\u001b[1;39m: \u001b[0m\u001b[0;32m\"source\"\u001b[0m\u001b[1;39m,\n",
      "    \u001b[0m\u001b[34;1m\"version\"\u001b[0m\u001b[1;39m: \u001b[0m\u001b[0;32m\"3.6.1\"\u001b[0m\u001b[1;39m\n",
      "  \u001b[1;39m}\u001b[0m\u001b[1;39m\n",
      "\u001b[1;39m]\u001b[0m\n"
     ]
    }
   ],
   "source": [
    "!curl -s -H \"Accept:application/json\" http://my-connect-connect-api.kafka-main-cluster.svc:8083/connector-plugins/ | jq"
   ]
  },
  {
   "cell_type": "code",
   "execution_count": 34,
   "id": "a45c3c74-2592-485f-b796-96204e044480",
   "metadata": {},
   "outputs": [
    {
     "name": "stdout",
     "output_type": "stream",
     "text": [
      "\u001b[1;39m{\n",
      "  \u001b[0m\u001b[34;1m\"debezium-connector-postgres\"\u001b[0m\u001b[1;39m: \u001b[0m\u001b[1;39m{\n",
      "    \u001b[0m\u001b[34;1m\"status\"\u001b[0m\u001b[1;39m: \u001b[0m\u001b[1;39m{\n",
      "      \u001b[0m\u001b[34;1m\"name\"\u001b[0m\u001b[1;39m: \u001b[0m\u001b[0;32m\"debezium-connector-postgres\"\u001b[0m\u001b[1;39m,\n",
      "      \u001b[0m\u001b[34;1m\"connector\"\u001b[0m\u001b[1;39m: \u001b[0m\u001b[1;39m{\n",
      "        \u001b[0m\u001b[34;1m\"state\"\u001b[0m\u001b[1;39m: \u001b[0m\u001b[0;32m\"RUNNING\"\u001b[0m\u001b[1;39m,\n",
      "        \u001b[0m\u001b[34;1m\"worker_id\"\u001b[0m\u001b[1;39m: \u001b[0m\u001b[0;32m\"my-connect-connect-0.my-connect-connect.kafka-main-cluster.svc:8083\"\u001b[0m\u001b[1;39m\n",
      "      \u001b[1;39m}\u001b[0m\u001b[1;39m,\n",
      "      \u001b[0m\u001b[34;1m\"tasks\"\u001b[0m\u001b[1;39m: \u001b[0m\u001b[1;39m[\n",
      "        \u001b[1;39m{\n",
      "          \u001b[0m\u001b[34;1m\"id\"\u001b[0m\u001b[1;39m: \u001b[0m\u001b[0;39m0\u001b[0m\u001b[1;39m,\n",
      "          \u001b[0m\u001b[34;1m\"state\"\u001b[0m\u001b[1;39m: \u001b[0m\u001b[0;32m\"RUNNING\"\u001b[0m\u001b[1;39m,\n",
      "          \u001b[0m\u001b[34;1m\"worker_id\"\u001b[0m\u001b[1;39m: \u001b[0m\u001b[0;32m\"my-connect-connect-0.my-connect-connect.kafka-main-cluster.svc:8083\"\u001b[0m\u001b[1;39m\n",
      "        \u001b[1;39m}\u001b[0m\u001b[1;39m\n",
      "      \u001b[1;39m]\u001b[0m\u001b[1;39m,\n",
      "      \u001b[0m\u001b[34;1m\"type\"\u001b[0m\u001b[1;39m: \u001b[0m\u001b[0;32m\"source\"\u001b[0m\u001b[1;39m\n",
      "    \u001b[1;39m}\u001b[0m\u001b[1;39m\n",
      "  \u001b[1;39m}\u001b[0m\u001b[1;39m\n",
      "\u001b[1;39m}\u001b[0m\n"
     ]
    }
   ],
   "source": [
    "!curl -s -H \"Accept:application/json\" http://my-connect-connect-api.kafka-main-cluster.svc:8083/connectors/?expand=status | jq"
   ]
  },
  {
   "cell_type": "code",
   "execution_count": 26,
   "id": "863d90c6-2d22-49d6-a242-7701b403ac51",
   "metadata": {},
   "outputs": [
    {
     "name": "stdout",
     "output_type": "stream",
     "text": [
      "\u001b[1;39m{\n",
      "  \u001b[0m\u001b[34;1m\"error_code\"\u001b[0m\u001b[1;39m: \u001b[0m\u001b[0;39m405\u001b[0m\u001b[1;39m,\n",
      "  \u001b[0m\u001b[34;1m\"message\"\u001b[0m\u001b[1;39m: \u001b[0m\u001b[0;32m\"HTTP 405 Method Not Allowed\"\u001b[0m\u001b[1;39m\n",
      "\u001b[1;39m}\u001b[0m\n"
     ]
    }
   ],
   "source": [
    "!curl -s -H \"Accept:application/json\" http://my-connect-connect-api.kafka-main-cluster.svc:8083/connector-plugins/source/config/validate  | jq"
   ]
  },
  {
   "cell_type": "code",
   "execution_count": 35,
   "id": "62bf4f53-572d-4d9c-ac9f-145bf92250d0",
   "metadata": {},
   "outputs": [
    {
     "name": "stdout",
     "output_type": "stream",
     "text": [
      "  % Total    % Received % Xferd  Average Speed   Time    Time     Time  Current\n",
      "                                 Dload  Upload   Total   Spent    Left  Speed\n",
      "100    58  100    58    0     0  23947      0 --:--:-- --:--:-- --:--:-- 29000\n",
      "\u001b[1;39m{\n",
      "  \u001b[0m\u001b[34;1m\"error_code\"\u001b[0m\u001b[1;39m: \u001b[0m\u001b[0;39m405\u001b[0m\u001b[1;39m,\n",
      "  \u001b[0m\u001b[34;1m\"message\"\u001b[0m\u001b[1;39m: \u001b[0m\u001b[0;32m\"HTTP 405 Method Not Allowed\"\u001b[0m\u001b[1;39m\n",
      "\u001b[1;39m}\u001b[0m\n"
     ]
    }
   ],
   "source": [
    "!curl -H \"Accept:application/json\" http://my-connect-connect-api.kafka-main-cluster.svc:8083/connector-plugins/source/config/validate  | jq"
   ]
  },
  {
   "cell_type": "code",
   "execution_count": 12,
   "id": "384d7ab7-6964-4be1-8bf0-ec31c63b7d87",
   "metadata": {},
   "outputs": [
    {
     "name": "stdout",
     "output_type": "stream",
     "text": [
      "                                                                                                                                                                                                                                                                                                            \n",
      "------------------------------------------------------------------------------------------------------------------------------------------------------------------------------------------------------------------------------------------------------------------------------------------------------------\n",
      "Microsoft SQL Server 2022 (RTM-CU11) (KB5032679) - 16.0.4105.2 (X64) \n",
      "\tNov 14 2023 18:33:19 \n",
      "\tCopyright (C) 2022 Microsoft Corporation\n",
      "\tDeveloper Edition (64-bit) on Linux (Ubuntu 22.04.3 LTS) <X64>                                                                                                      \n",
      "\n",
      "(1 rows affected)\n",
      "pod \"mssqlcli\" deleted\n"
     ]
    }
   ],
   "source": [
    "! password=$(kubectl -n sqlserver get secrets mssqlserver-2022-secret -o jsonpath=\"{.data.sapassword}\" | base64 --decode) && \\\n",
    "  \\\n",
    "  \\\n",
    "  kubectl -n sqlserver run mssqlcli --image=mcr.microsoft.com/mssql-tools -ti --restart=Never --rm -- \\\n",
    "        /opt/mssql-tools/bin/sqlcmd -S mssqlserver-2022.sqlserver.svc -U sa -P $password -Q \"select @@VERSION;\""
   ]
  },
  {
   "cell_type": "code",
   "execution_count": 27,
   "id": "2528a3cc-d807-4442-bf52-ff602b980a29",
   "metadata": {},
   "outputs": [],
   "source": [
    "! password=$(kubectl -n sqlserver get secrets mssqlserver-2022-secret -o jsonpath=\"{.data.sapassword}\" | base64 --decode) && \\\n",
    "  kubectl -n sqlserver run mssqlcli --image=mcr.microsoft.com/mssql-tools -ti --restart=Never --rm -- \\\n",
    "        /opt/mssql-tools/bin/sqlcmd -S mssqlserver-2022.sqlserver.svc -U sa -P $password -Q\\\n",
    "       \\\n",
    "       \\\n",
    "       \"use testDB; \\\n",
    "        exec sys.sp_cdc_help_change_data_capture\" > sp_cdc_help_change_data_capture.txt"
   ]
  },
  {
   "cell_type": "code",
   "execution_count": null,
   "id": "aaaaff1c-d0d3-41cd-99b6-b595553534a9",
   "metadata": {},
   "outputs": [],
   "source": []
  },
  {
   "cell_type": "code",
   "execution_count": null,
   "id": "52a7efae-5a3a-4ae3-b41b-45f68d26b17e",
   "metadata": {},
   "outputs": [],
   "source": []
  }
 ],
 "metadata": {
  "kernelspec": {
   "display_name": "Python 3 (ipykernel)",
   "language": "python",
   "name": "python3"
  },
  "language_info": {
   "codemirror_mode": {
    "name": "ipython",
    "version": 3
   },
   "file_extension": ".py",
   "mimetype": "text/x-python",
   "name": "python",
   "nbconvert_exporter": "python",
   "pygments_lexer": "ipython3",
   "version": "3.10.13"
  }
 },
 "nbformat": 4,
 "nbformat_minor": 5
}
