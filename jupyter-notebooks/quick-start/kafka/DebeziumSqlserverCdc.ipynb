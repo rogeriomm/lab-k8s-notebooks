{
 "cells": [
  {
   "cell_type": "markdown",
   "id": "f849d58a-e973-40a4-a972-cbf9cf07d016",
   "metadata": {},
   "source": [
    "   * https://debezium.io/documentation/reference/stable/connectors/sqlserver.html: Debezium connector for SQL Server\n",
    "   * https://github.com/debezium/debezium-examples/tree/main/tutorial#using-sql-server\n",
    "      * https://github.com/debezium/debezium-examples/blob/main/tutorial/debezium-sqlserver-init/inventory.sql"
   ]
  },
  {
   "cell_type": "code",
   "execution_count": 9,
   "id": "172642af-5905-44c2-9bf4-b117bea28966",
   "metadata": {},
   "outputs": [
    {
     "name": "stdout",
     "output_type": "stream",
     "text": [
      "\u001b[37mNAME                           CLUSTER      CONNECTOR CLASS                                      MAX TASKS   READY\u001b[0m\n",
      "\u001b[36mdebezium-connector-sqlserver\u001b[0m   \u001b[32mmy-connect\u001b[0m   \u001b[35mio.debezium.connector.sqlserver.SqlServerConnector\u001b[0m   \u001b[37m1\u001b[0m           \u001b[33mTrue\u001b[0m\n"
     ]
    }
   ],
   "source": [
    "!kubecolor -n kafka-main-cluster get kafkaconnector debezium-connector-sqlserver"
   ]
  },
  {
   "cell_type": "code",
   "execution_count": 8,
   "id": "31a23cb2-0679-4119-a3d6-6b4ef0d868ca",
   "metadata": {
    "scrolled": true
   },
   "outputs": [
    {
     "name": "stdout",
     "output_type": "stream",
     "text": [
      "\u001b[36mapiVersion\u001b[0m:\u001b[32m kafka.strimzi.io/v1beta2\u001b[0m\n",
      "\u001b[32m\u001b[0m\u001b[36mkind\u001b[0m:\u001b[32m KafkaConnector\u001b[0m\n",
      "\u001b[32m\u001b[0m\u001b[36mmetadata\u001b[0m:\u001b[36m\u001b[0m\n",
      "\u001b[36m  annotations\u001b[0m:\u001b[36m\u001b[0m\n",
      "\u001b[36m    kubectl.kubernetes.io/last-applied-configuration\u001b[0m: |\n",
      "\u001b[32m      {\"apiVersion\":\"kafka.strimzi.io/v1beta2\",\"kind\":\"KafkaConnector\",\"metadata\":{\"annotations\":{},\"labels\":{\"strimzi.io/cluster\":\"my-connect\"},\"name\":\"debezium-connector-sqlserver\",\"namespace\":\"kafka-main-cluster\"},\"spec\":{\"class\":\"io.debezium.connector.sqlserver.SqlServerConnector\",\"config\":{\"converter.type\":\"avro\",\"database.dbname\":\"testDB\",\"database.encrypt\":false,\"database.history.kafka.bootstrap.servers\":\"main-kafka-bootstrap:9092\",\"database.history.kafka.topic\":\"sqlserver-cdc-tables\",\"database.hostname\":\"mssqlserver-2022.sqlserver.svc\",\"database.names\":\"testDB\",\"database.password\":\"${secrets:kafka-main-cluster/sqlserver-user-debezium:password}\",\"database.port\":1433,\"database.server.name\":\"mssqlserver-2022.sqlserver.svc\",\"database.user\":\"${secrets:kafka-main-cluster/sqlserver-user-debezium:username}\",\"decimal.handling.mode\":\"double\",\"key.converter\":\"io.confluent.connect.avro.AvroConverter\",\"key.converter.schema.registry.url\":\"http://schema-registry-cp-schema-registry:8081\",\"max.batch.size\":600,\"max.queue.size\":1200,\"poll.interval.ms\":20000,\"query.fetch.size\":1000,\"schema.history.internal.kafka.bootstrap.servers\":\"main-kafka-bootstrap:9092\",\"schema.history.internal.kafka.topic\":\"sqlserver_schema_history\",\"snapshot.fetch.size\":600,\"table.include.list\":\"dbo.products\",\"tombstones.on.delete\":true,\"topic.prefix\":\"sqlserver.testDB\",\"transforms\":\"unwrap\",\"transforms.unwrap.add.fields\":\"op,table,source.ts_ms\",\"transforms.unwrap.add.headers\":\"db\",\"transforms.unwrap.delete.handling.mode\":\"rewrite\",\"transforms.unwrap.drop.tombstones\":\"false\",\"transforms.unwrap.type\":\"io.debezium.transforms.ExtractNewRecordState\",\"value.converter\":\"io.confluent.connect.avro.AvroConverter\",\"value.converter.schema.registry.url\":\"http://schema-registry-cp-schema-registry:8081\"},\"tasksMax\":1}}\u001b[0m\n",
      "\u001b[32m  \u001b[0m\u001b[36mcreationTimestamp\u001b[0m:\u001b[32m \"2024-02-22T19:54:23Z\"\u001b[0m\u001b[36m\u001b[0m\n",
      "\u001b[36m  generation\u001b[0m:\u001b[95m 4\u001b[0m\n",
      "\u001b[95m  \u001b[0m\u001b[36mlabels\u001b[0m:\u001b[36m\u001b[0m\n",
      "\u001b[36m    strimzi.io/cluster\u001b[0m:\u001b[32m my-connect\u001b[0m\n",
      "\u001b[32m  \u001b[0m\u001b[36mname\u001b[0m:\u001b[32m debezium-connector-sqlserver\u001b[0m\n",
      "\u001b[32m  \u001b[0m\u001b[36mnamespace\u001b[0m:\u001b[32m kafka-main-cluster\u001b[0m\n",
      "\u001b[32m  \u001b[0m\u001b[36mresourceVersion\u001b[0m:\u001b[32m \"89193\"\u001b[0m\u001b[36m\u001b[0m\n",
      "\u001b[36m  uid\u001b[0m:\u001b[32m eed04ddf-3c2d-4b9f-a134-71910f87dde8\u001b[0m\n",
      "\u001b[32m\u001b[0m\u001b[36mspec\u001b[0m:\u001b[36m\u001b[0m\n",
      "\u001b[36m  class\u001b[0m:\u001b[32m io.debezium.connector.sqlserver.SqlServerConnector\u001b[0m\n",
      "\u001b[32m  \u001b[0m\u001b[36mconfig\u001b[0m:\u001b[36m\u001b[0m\n",
      "\u001b[36m    converter.type\u001b[0m:\u001b[32m avro\u001b[0m\n",
      "\u001b[32m    \u001b[0m\u001b[36mdatabase.dbname\u001b[0m:\u001b[32m testDB\u001b[0m\n",
      "\u001b[32m    \u001b[0m\u001b[36mdatabase.encrypt\u001b[0m:\u001b[95m false\u001b[0m\n",
      "\u001b[95m    \u001b[0m\u001b[36mdatabase.history.kafka.bootstrap.servers\u001b[0m:\u001b[32m main-kafka-bootstrap:9092\u001b[0m\n",
      "\u001b[32m    \u001b[0m\u001b[36mdatabase.history.kafka.topic\u001b[0m:\u001b[32m sqlserver-cdc-tables\u001b[0m\n",
      "\u001b[32m    \u001b[0m\u001b[36mdatabase.hostname\u001b[0m:\u001b[32m mssqlserver-2022.sqlserver.svc\u001b[0m\n",
      "\u001b[32m    \u001b[0m\u001b[36mdatabase.names\u001b[0m:\u001b[32m testDB\u001b[0m\n",
      "\u001b[32m    \u001b[0m\u001b[36mdatabase.password\u001b[0m:\u001b[32m ${secrets:kafka-main-cluster/sqlserver-user-debezium:password}\u001b[0m\n",
      "\u001b[32m    \u001b[0m\u001b[36mdatabase.port\u001b[0m:\u001b[95m 1433\u001b[0m\n",
      "\u001b[95m    \u001b[0m\u001b[36mdatabase.server.name\u001b[0m:\u001b[32m mssqlserver-2022.sqlserver.svc\u001b[0m\n",
      "\u001b[32m    \u001b[0m\u001b[36mdatabase.user\u001b[0m:\u001b[32m ${secrets:kafka-main-cluster/sqlserver-user-debezium:username}\u001b[0m\n",
      "\u001b[32m    \u001b[0m\u001b[36mdecimal.handling.mode\u001b[0m:\u001b[32m double\u001b[0m\n",
      "\u001b[32m    \u001b[0m\u001b[36mkey.converter\u001b[0m:\u001b[32m io.confluent.connect.avro.AvroConverter\u001b[0m\n",
      "\u001b[32m    \u001b[0m\u001b[36mkey.converter.schema.registry.url\u001b[0m:\u001b[32m http://schema-registry-cp-schema-registry:8081\u001b[0m\n",
      "\u001b[32m    \u001b[0m\u001b[36mmax.batch.size\u001b[0m:\u001b[95m 600\u001b[0m\n",
      "\u001b[95m    \u001b[0m\u001b[36mmax.queue.size\u001b[0m:\u001b[95m 1200\u001b[0m\n",
      "\u001b[95m    \u001b[0m\u001b[36mpoll.interval.ms\u001b[0m:\u001b[95m 20000\u001b[0m\n",
      "\u001b[95m    \u001b[0m\u001b[36mquery.fetch.size\u001b[0m:\u001b[95m 1000\u001b[0m\n",
      "\u001b[95m    \u001b[0m\u001b[36mschema.history.internal.kafka.bootstrap.servers\u001b[0m:\u001b[32m main-kafka-bootstrap:9092\u001b[0m\n",
      "\u001b[32m    \u001b[0m\u001b[36mschema.history.internal.kafka.topic\u001b[0m:\u001b[32m sqlserver_schema_history\u001b[0m\n",
      "\u001b[32m    \u001b[0m\u001b[36msnapshot.fetch.size\u001b[0m:\u001b[95m 600\u001b[0m\n",
      "\u001b[95m    \u001b[0m\u001b[36mtable.include.list\u001b[0m:\u001b[32m dbo.products\u001b[0m\n",
      "\u001b[32m    \u001b[0m\u001b[36mtombstones.on.delete\u001b[0m:\u001b[95m true\u001b[0m\n",
      "\u001b[95m    \u001b[0m\u001b[36mtopic.prefix\u001b[0m:\u001b[32m sqlserver.testDB\u001b[0m\n",
      "\u001b[32m    \u001b[0m\u001b[36mtransforms\u001b[0m:\u001b[32m unwrap\u001b[0m\n",
      "\u001b[32m    \u001b[0m\u001b[36mtransforms.unwrap.add.fields\u001b[0m:\u001b[32m op,table,source.ts_ms\u001b[0m\n",
      "\u001b[32m    \u001b[0m\u001b[36mtransforms.unwrap.add.headers\u001b[0m:\u001b[32m db\u001b[0m\n",
      "\u001b[32m    \u001b[0m\u001b[36mtransforms.unwrap.delete.handling.mode\u001b[0m:\u001b[32m rewrite\u001b[0m\n",
      "\u001b[32m    \u001b[0m\u001b[36mtransforms.unwrap.drop.tombstones\u001b[0m:\u001b[32m \"false\"\u001b[0m\u001b[36m\u001b[0m\n",
      "\u001b[36m    transforms.unwrap.type\u001b[0m:\u001b[32m io.debezium.transforms.ExtractNewRecordState\u001b[0m\n",
      "\u001b[32m    \u001b[0m\u001b[36mvalue.converter\u001b[0m:\u001b[32m io.confluent.connect.avro.AvroConverter\u001b[0m\n",
      "\u001b[32m    \u001b[0m\u001b[36mvalue.converter.schema.registry.url\u001b[0m:\u001b[32m http://schema-registry-cp-schema-registry:8081\u001b[0m\n",
      "\u001b[32m  \u001b[0m\u001b[36mtasksMax\u001b[0m:\u001b[95m 1\u001b[0m\n",
      "\u001b[95m\u001b[0m\u001b[36mstatus\u001b[0m:\u001b[36m\u001b[0m\n",
      "\u001b[36m  conditions\u001b[0m:\n",
      "    -\u001b[36m lastTransitionTime\u001b[0m:\u001b[32m \"2024-02-22T20:30:58.301483215Z\"\u001b[0m\u001b[36m\u001b[0m\n",
      "\u001b[36m      message\u001b[0m:\u001b[32m 'The following tasks have failed: 0, see connectorStatus for more details.'\u001b[0m\u001b[36m\u001b[0m\n",
      "\u001b[36m      reason\u001b[0m:\u001b[32m Throwable\u001b[0m\n",
      "\u001b[32m      \u001b[0m\u001b[36mstatus\u001b[0m:\u001b[32m \"True\"\u001b[0m\u001b[36m\u001b[0m\n",
      "\u001b[36m      type\u001b[0m:\u001b[32m NotReady\u001b[0m\n",
      "\u001b[32m  \u001b[0m\u001b[36mconnectorStatus\u001b[0m:\u001b[36m\u001b[0m\n",
      "\u001b[36m    connector\u001b[0m:\u001b[36m\u001b[0m\n",
      "\u001b[36m      state\u001b[0m:\u001b[32m RUNNING\u001b[0m\n",
      "\u001b[32m      \u001b[0m\u001b[36mworker_id\u001b[0m:\u001b[32m my-connect-connect-0.my-connect-connect.kafka-main-cluster.svc:8083\u001b[0m\n",
      "\u001b[32m    \u001b[0m\u001b[36mname\u001b[0m:\u001b[32m debezium-connector-sqlserver\u001b[0m\n",
      "\u001b[32m    \u001b[0m\u001b[36mtasks\u001b[0m:\n",
      "      -\u001b[36m id\u001b[0m:\u001b[95m 0\u001b[0m\n",
      "\u001b[95m        \u001b[0m\u001b[36mstate\u001b[0m:\u001b[32m FAILED\u001b[0m\n",
      "\u001b[32m        \u001b[0m\u001b[36mtrace\u001b[0m: |\n",
      "\u001b[32m          org.apache.kafka.common.errors.TimeoutException: Timeout expired while fetching topic metadata\u001b[0m\n",
      "\u001b[32m        \u001b[0m\u001b[36mworker_id\u001b[0m:\u001b[32m my-connect-connect-0.my-connect-connect.kafka-main-cluster.svc:8083\u001b[0m\n",
      "\u001b[32m    \u001b[0m\u001b[36mtype\u001b[0m:\u001b[32m source\u001b[0m\n",
      "\u001b[32m  \u001b[0m\u001b[36mobservedGeneration\u001b[0m:\u001b[95m 4\u001b[0m\n",
      "\u001b[95m  \u001b[0m\u001b[36mtasksMax\u001b[0m:\u001b[95m 1\u001b[0m\n",
      "\u001b[95m  \u001b[0m\u001b[36mtopics\u001b[0m: []\n"
     ]
    }
   ],
   "source": [
    "!kubectl get -n kafka-main-cluster kafkaconnectors debezium-connector-sqlserver -o yaml | yq"
   ]
  },
  {
   "cell_type": "code",
   "execution_count": 18,
   "id": "db4eb1a7-6d97-4ff3-94aa-ed5efd6b2b42",
   "metadata": {},
   "outputs": [],
   "source": [
    "#!kubectl get -n kafka-main-cluster kafkaconnectors debezium-connector-sqlserver -o jsonpath='{.status.connectorStatus.tasks[0].trace}'"
   ]
  },
  {
   "cell_type": "markdown",
   "id": "6e60df92-bd92-4daf-aac2-d52e38bd2e56",
   "metadata": {},
   "source": [
    "# Get connector errors"
   ]
  },
  {
   "cell_type": "code",
   "execution_count": 7,
   "id": "06b365a1-0175-49ef-8940-143ba1631c27",
   "metadata": {},
   "outputs": [
    {
     "name": "stdout",
     "output_type": "stream",
     "text": [
      "\u001b[1;39m[\n",
      "  \u001b[1;39m{\n",
      "    \u001b[0m\u001b[34;1m\"lastTransitionTime\"\u001b[0m\u001b[1;39m: \u001b[0m\u001b[0;32m\"2024-02-22T20:30:58.301483215Z\"\u001b[0m\u001b[1;39m,\n",
      "    \u001b[0m\u001b[34;1m\"message\"\u001b[0m\u001b[1;39m: \u001b[0m\u001b[0;32m\"The following tasks have failed: 0, see connectorStatus for more details.\"\u001b[0m\u001b[1;39m,\n",
      "    \u001b[0m\u001b[34;1m\"reason\"\u001b[0m\u001b[1;39m: \u001b[0m\u001b[0;32m\"Throwable\"\u001b[0m\u001b[1;39m,\n",
      "    \u001b[0m\u001b[34;1m\"status\"\u001b[0m\u001b[1;39m: \u001b[0m\u001b[0;32m\"True\"\u001b[0m\u001b[1;39m,\n",
      "    \u001b[0m\u001b[34;1m\"type\"\u001b[0m\u001b[1;39m: \u001b[0m\u001b[0;32m\"NotReady\"\u001b[0m\u001b[1;39m\n",
      "  \u001b[1;39m}\u001b[0m\u001b[1;39m\n",
      "\u001b[1;39m]\u001b[0m\n"
     ]
    }
   ],
   "source": [
    "!kubectl get -n kafka-main-cluster kafkaconnectors debezium-connector-sqlserver -o jsonpath='{.status.conditions}' | jq"
   ]
  },
  {
   "cell_type": "markdown",
   "id": "832efa04-9915-42ed-9012-3856e6a85a7b",
   "metadata": {},
   "source": [
    "   * https://debezium.io/documentation/reference/stable/connectors/sqlserver.html#setting-up-sqlserver\n",
    "      * \"Example: Enabling a SQL Server database for the CDC template\"   \n",
    "```sql\n",
    "USE test\n",
    "\n",
    "EXEC sys.sp_cdc_enable_db\n",
    "EXEC sys.sp_cdc_help_change_data_capture\n",
    "```\n"
   ]
  },
  {
   "cell_type": "markdown",
   "id": "d75c5e20-c707-4ed3-8ed7-3567638511db",
   "metadata": {},
   "source": [
    "# SqlServer version"
   ]
  },
  {
   "cell_type": "code",
   "execution_count": 13,
   "id": "384d7ab7-6964-4be1-8bf0-ec31c63b7d87",
   "metadata": {},
   "outputs": [
    {
     "name": "stdout",
     "output_type": "stream",
     "text": [
      "                                                                                                                                                                                                                                                                                                            \n",
      "------------------------------------------------------------------------------------------------------------------------------------------------------------------------------------------------------------------------------------------------------------------------------------------------------------\n",
      "Microsoft SQL Server 2022 (RTM-CU11) (KB5032679) - 16.0.4105.2 (X64) \n",
      "\tNov 14 2023 18:33:19 \n",
      "\tCopyright (C) 2022 Microsoft Corporation\n",
      "\tDeveloper Edition (64-bit) on Linux (Ubuntu 22.04.3 LTS) <X64>                                                                                                      \n",
      "\n",
      "(1 rows affected)\n",
      "pod \"mssqlcli\" deleted\n"
     ]
    }
   ],
   "source": [
    "! password=$(kubectl -n sqlserver get secrets mssqlserver-2022-secret -o jsonpath=\"{.data.sapassword}\" | base64 --decode) && \\\n",
    "  \\\n",
    "  \\\n",
    "  kubectl -n sqlserver run mssqlcli --image=mcr.microsoft.com/mssql-tools -ti --restart=Never --rm -- \\\n",
    "        /opt/mssql-tools/bin/sqlcmd -S mssqlserver-2022.sqlserver.svc -U sa -P $password -Q \"select @@VERSION;\""
   ]
  },
  {
   "cell_type": "markdown",
   "id": "88215131-ce02-4902-8580-564d03e55e0f",
   "metadata": {},
   "source": [
    "# Verifying that the user has access to the CDC table\n",
    "   * https://debezium.io/documentation/reference/stable/connectors/sqlserver.html#_verifying_that_the_user_has_access_to_the_cdc_table"
   ]
  },
  {
   "cell_type": "code",
   "execution_count": 14,
   "id": "2528a3cc-d807-4442-bf52-ff602b980a29",
   "metadata": {},
   "outputs": [],
   "source": [
    "! password=$(kubectl -n sqlserver get secrets mssqlserver-2022-secret -o jsonpath=\"{.data.sapassword}\" | base64 --decode) && \\\n",
    "  kubectl -n sqlserver run mssqlcli --image=mcr.microsoft.com/mssql-tools -ti --restart=Never --rm -- \\\n",
    "        /opt/mssql-tools/bin/sqlcmd -S mssqlserver-2022.sqlserver.svc -U sa -P $password -Q\\\n",
    "       \\\n",
    "       \\\n",
    "       \"use testDB; \\\n",
    "        exec sys.sp_cdc_help_change_data_capture\" 2> /dev/null > sp_cdc_help_change_data_capture.txt"
   ]
  },
  {
   "cell_type": "code",
   "execution_count": 15,
   "id": "52a7efae-5a3a-4ae3-b41b-45f68d26b17e",
   "metadata": {},
   "outputs": [
    {
     "name": "stdout",
     "output_type": "stream",
     "text": [
      "User: debezium Password: DeZium10#@A\n",
      "\n",
      "Changed database context to 'testDB'.\n",
      "           \n",
      "-----------\n",
      "          9\n",
      "\n",
      "(1 rows affected)\n",
      "pod \"mssqlcli\" deleted\n"
     ]
    }
   ],
   "source": [
    "! username=$(kubectl -n sqlserver get secrets  sqlserver-user-debezium -o jsonpath=\"{.data.username}\" | base64 --decode) && \\\n",
    "  password=$(kubectl -n sqlserver get secrets  sqlserver-user-debezium -o jsonpath=\"{.data.password}\" | base64 --decode) && \\\n",
    "  echo \"User: $username Password: $password\" && \\\n",
    "  echo \"\" && \\\n",
    "  kubectl -n sqlserver run mssqlcli --image=mcr.microsoft.com/mssql-tools -ti --restart=Never --rm -- \\\n",
    "        /opt/mssql-tools/bin/sqlcmd -S mssqlserver-2022.sqlserver.svc -U $username -P $password -Q \\\n",
    "        \"use testDB; \\\n",
    "        select count(*) from products\"\n",
    "  "
   ]
  },
  {
   "cell_type": "code",
   "execution_count": null,
   "id": "f3f367c0-3733-456c-bede-6d173402dd4f",
   "metadata": {},
   "outputs": [],
   "source": []
  }
 ],
 "metadata": {
  "kernelspec": {
   "display_name": "Python 3 (ipykernel)",
   "language": "python",
   "name": "python3"
  },
  "language_info": {
   "codemirror_mode": {
    "name": "ipython",
    "version": 3
   },
   "file_extension": ".py",
   "mimetype": "text/x-python",
   "name": "python",
   "nbconvert_exporter": "python",
   "pygments_lexer": "ipython3",
   "version": "3.10.13"
  }
 },
 "nbformat": 4,
 "nbformat_minor": 5
}
