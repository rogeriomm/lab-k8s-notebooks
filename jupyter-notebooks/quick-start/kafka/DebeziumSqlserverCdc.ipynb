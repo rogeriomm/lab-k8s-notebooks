{
 "cells": [
  {
   "cell_type": "markdown",
   "id": "f849d58a-e973-40a4-a972-cbf9cf07d016",
   "metadata": {},
   "source": [
    "   * https://debezium.io/documentation/reference/stable/connectors/sqlserver.html: Debezium connector for SQL Server\n",
    "   * https://github.com/debezium/debezium-examples/tree/main/tutorial#using-sql-server\n",
    "      * https://github.com/debezium/debezium-examples/blob/main/tutorial/debezium-sqlserver-init/inventory.sql"
   ]
  },
  {
   "cell_type": "code",
   "execution_count": 37,
   "id": "172642af-5905-44c2-9bf4-b117bea28966",
   "metadata": {},
   "outputs": [
    {
     "name": "stdout",
     "output_type": "stream",
     "text": [
      "\u001b[37mNAME                           CLUSTER      CONNECTOR CLASS                                      MAX TASKS   READY\u001b[0m\n",
      "\u001b[36mdebezium-connector-sqlserver\u001b[0m   \u001b[32mmy-connect\u001b[0m   \u001b[35mio.debezium.connector.sqlserver.SqlServerConnector\u001b[0m   \u001b[37m1\u001b[0m           \u001b[33m\u001b[0m\n"
     ]
    }
   ],
   "source": [
    "!kubecolor -n kafka-main-cluster get kafkaconnector debezium-connector-sqlserver"
   ]
  },
  {
   "cell_type": "code",
   "execution_count": null,
   "id": "20849a38-1440-4e63-a507-8ab78db3cab6",
   "metadata": {
    "scrolled": true
   },
   "outputs": [],
   "source": []
  },
  {
   "cell_type": "code",
   "execution_count": null,
   "id": "31a23cb2-0679-4119-a3d6-6b4ef0d868ca",
   "metadata": {
    "scrolled": true
   },
   "outputs": [],
   "source": [
    "!kubectl get -n kafka-main-cluster kafkaconnectors debezium-connector-sqlserver -o "
   ]
  },
  {
   "cell_type": "code",
   "execution_count": 64,
   "id": "db4eb1a7-6d97-4ff3-94aa-ed5efd6b2b42",
   "metadata": {
    "scrolled": true
   },
   "outputs": [
    {
     "name": "stdout",
     "output_type": "stream",
     "text": [
      "org.apache.kafka.connect.errors.ConnectException: Error configuring an instance of KafkaSchemaHistory; check the logs for details\n",
      "\tat io.debezium.storage.kafka.history.KafkaSchemaHistory.configure(KafkaSchemaHistory.java:208)\n",
      "\tat io.debezium.relational.HistorizedRelationalDatabaseConnectorConfig.getSchemaHistory(HistorizedRelationalDatabaseConnectorConfig.java:137)\n",
      "\tat io.debezium.relational.HistorizedRelationalDatabaseSchema.<init>(HistorizedRelationalDatabaseSchema.java:49)\n",
      "\tat io.debezium.connector.sqlserver.SqlServerDatabaseSchema.<init>(SqlServerDatabaseSchema.java:35)\n",
      "\tat io.debezium.connector.sqlserver.SqlServerConnectorTask.start(SqlServerConnectorTask.java:86)\n",
      "\tat io.debezium.connector.common.BaseSourceTask.start(BaseSourceTask.java:141)\n",
      "\tat org.apache.kafka.connect.runtime.AbstractWorkerSourceTask.initializeAndStart(AbstractWorkerSourceTask.java:280)\n",
      "\tat org.apache.kafka.connect.runtime.WorkerTask.doRun(WorkerTask.java:202)\n",
      "\tat org.apache.kafka.connect.runtime.WorkerTask.run(WorkerTask.java:259)\n",
      "\tat org.apache.kafka.connect.runtime.AbstractWorkerSourceTask.run(AbstractWorkerSourceTask.java:77)\n",
      "\tat org.apache.kafka.connect.runtime.isolation.Plugins.lambda$withClassLoader$1(Plugins.java:236)\n",
      "\tat java.base/java.util.concurrent.Executors$RunnableAdapter.call(Executors.java:539)\n",
      "\tat java.base/java.util.concurrent.FutureTask.run(FutureTask.java:264)\n",
      "\tat java.base/java.util.concurrent.ThreadPoolExecutor.runWorker(ThreadPoolExecutor.java:1136)\n",
      "\tat java.base/java.util.concurrent.ThreadPoolExecutor$Worker.run(ThreadPoolExecutor.java:635)\n",
      "\tat java.base/java.lang.Thread.run(Thread.java:840)\n"
     ]
    }
   ],
   "source": [
    "!kubectl get -n kafka-main-cluster kafkaconnectors debezium-connector-sqlserver -o jsonpath='{.status.connectorStatus.tasks[0].trace}'"
   ]
  },
  {
   "cell_type": "markdown",
   "id": "6e60df92-bd92-4daf-aac2-d52e38bd2e56",
   "metadata": {},
   "source": [
    "# Get connector errors"
   ]
  },
  {
   "cell_type": "code",
   "execution_count": 34,
   "id": "06b365a1-0175-49ef-8940-143ba1631c27",
   "metadata": {},
   "outputs": [
    {
     "name": "stdout",
     "output_type": "stream",
     "text": [
      "\u001b[1;39m[\n",
      "  \u001b[1;39m{\n",
      "    \u001b[0m\u001b[34;1m\"lastTransitionTime\"\u001b[0m\u001b[1;39m: \u001b[0m\u001b[0;32m\"2024-02-07T15:20:11.220586346Z\"\u001b[0m\u001b[1;39m,\n",
      "    \u001b[0m\u001b[34;1m\"message\"\u001b[0m\u001b[1;39m: \u001b[0m\u001b[0;32m\"PUT /connectors/debezium-connector-sqlserver/config returned 400 (Bad Request): Connector configuration is invalid and contains the following 1 error(s):\\nUser debezium does not have access to CDC schema in the following databases: testDB. This user can only be used in initial_only snapshot mode\\nYou can also find the above list of errors at the endpoint `/connector-plugins/{connectorType}/config/validate`\"\u001b[0m\u001b[1;39m,\n",
      "    \u001b[0m\u001b[34;1m\"reason\"\u001b[0m\u001b[1;39m: \u001b[0m\u001b[0;32m\"ConnectRestException\"\u001b[0m\u001b[1;39m,\n",
      "    \u001b[0m\u001b[34;1m\"status\"\u001b[0m\u001b[1;39m: \u001b[0m\u001b[0;32m\"True\"\u001b[0m\u001b[1;39m,\n",
      "    \u001b[0m\u001b[34;1m\"type\"\u001b[0m\u001b[1;39m: \u001b[0m\u001b[0;32m\"NotReady\"\u001b[0m\u001b[1;39m\n",
      "  \u001b[1;39m}\u001b[0m\u001b[1;39m\n",
      "\u001b[1;39m]\u001b[0m\n"
     ]
    }
   ],
   "source": [
    "!kubectl get -n kafka-main-cluster kafkaconnectors debezium-connector-sqlserver -o jsonpath='{.status.conditions}' | jq"
   ]
  },
  {
   "cell_type": "markdown",
   "id": "832efa04-9915-42ed-9012-3856e6a85a7b",
   "metadata": {},
   "source": [
    "   * https://debezium.io/documentation/reference/stable/connectors/sqlserver.html#setting-up-sqlserver\n",
    "      * \"Example: Enabling a SQL Server database for the CDC template\"   \n",
    "```sql\n",
    "USE test\n",
    "\n",
    "EXEC sys.sp_cdc_enable_db\n",
    "EXEC sys.sp_cdc_help_change_data_capture\n",
    "```\n"
   ]
  },
  {
   "cell_type": "markdown",
   "id": "d75c5e20-c707-4ed3-8ed7-3567638511db",
   "metadata": {},
   "source": [
    "# SqlServer version"
   ]
  },
  {
   "cell_type": "code",
   "execution_count": 35,
   "id": "384d7ab7-6964-4be1-8bf0-ec31c63b7d87",
   "metadata": {},
   "outputs": [
    {
     "name": "stdout",
     "output_type": "stream",
     "text": [
      "                                                                                                                                                                                                                                                                                                            \n",
      "------------------------------------------------------------------------------------------------------------------------------------------------------------------------------------------------------------------------------------------------------------------------------------------------------------\n",
      "Microsoft SQL Server 2022 (RTM-CU11) (KB5032679) - 16.0.4105.2 (X64) \n",
      "\tNov 14 2023 18:33:19 \n",
      "\tCopyright (C) 2022 Microsoft Corporation\n",
      "\tDeveloper Edition (64-bit) on Linux (Ubuntu 22.04.3 LTS) <X64>                                                                                                      \n",
      "\n",
      "(1 rows affected)\n",
      "pod \"mssqlcli\" deleted\n"
     ]
    }
   ],
   "source": [
    "! password=$(kubectl -n sqlserver get secrets mssqlserver-2022-secret -o jsonpath=\"{.data.sapassword}\" | base64 --decode) && \\\n",
    "  \\\n",
    "  \\\n",
    "  kubectl -n sqlserver run mssqlcli --image=mcr.microsoft.com/mssql-tools -ti --restart=Never --rm -- \\\n",
    "        /opt/mssql-tools/bin/sqlcmd -S mssqlserver-2022.sqlserver.svc -U sa -P $password -Q \"select @@VERSION;\""
   ]
  },
  {
   "cell_type": "markdown",
   "id": "88215131-ce02-4902-8580-564d03e55e0f",
   "metadata": {},
   "source": [
    "# Verifying that the user has access to the CDC table\n",
    "   * https://debezium.io/documentation/reference/stable/connectors/sqlserver.html#_verifying_that_the_user_has_access_to_the_cdc_table"
   ]
  },
  {
   "cell_type": "code",
   "execution_count": 30,
   "id": "2528a3cc-d807-4442-bf52-ff602b980a29",
   "metadata": {},
   "outputs": [],
   "source": [
    "! password=$(kubectl -n sqlserver get secrets mssqlserver-2022-secret -o jsonpath=\"{.data.sapassword}\" | base64 --decode) && \\\n",
    "  kubectl -n sqlserver run mssqlcli --image=mcr.microsoft.com/mssql-tools -ti --restart=Never --rm -- \\\n",
    "        /opt/mssql-tools/bin/sqlcmd -S mssqlserver-2022.sqlserver.svc -U sa -P $password -Q\\\n",
    "       \\\n",
    "       \\\n",
    "       \"use testDB; \\\n",
    "        exec sys.sp_cdc_help_change_data_capture\" 2> /dev/null > sp_cdc_help_change_data_capture.txt"
   ]
  },
  {
   "cell_type": "code",
   "execution_count": 52,
   "id": "52a7efae-5a3a-4ae3-b41b-45f68d26b17e",
   "metadata": {},
   "outputs": [
    {
     "name": "stdout",
     "output_type": "stream",
     "text": [
      "User: debezium Password: DeZium10#@A\n",
      "\n",
      "Changed database context to 'testDB'.\n",
      "           \n",
      "-----------\n",
      "          9\n",
      "\n",
      "(1 rows affected)\n",
      "pod \"mssqlcli\" deleted\n"
     ]
    }
   ],
   "source": [
    "! username=$(kubectl -n sqlserver get secrets  sqlserver-user-debezium -o jsonpath=\"{.data.username}\" | base64 --decode) && \\\n",
    "  password=$(kubectl -n sqlserver get secrets  sqlserver-user-debezium -o jsonpath=\"{.data.password}\" | base64 --decode) && \\\n",
    "  echo \"User: $username Password: $password\" && \\\n",
    "  echo \"\" && \\\n",
    "  kubectl -n sqlserver run mssqlcli --image=mcr.microsoft.com/mssql-tools -ti --restart=Never --rm -- \\\n",
    "        /opt/mssql-tools/bin/sqlcmd -S mssqlserver-2022.sqlserver.svc -U $username -P $password -Q \\\n",
    "        \"use testDB; \\\n",
    "        select count(*) from products\"\n",
    "  "
   ]
  },
  {
   "cell_type": "code",
   "execution_count": null,
   "id": "f3f367c0-3733-456c-bede-6d173402dd4f",
   "metadata": {},
   "outputs": [],
   "source": []
  }
 ],
 "metadata": {
  "kernelspec": {
   "display_name": "Python 3 (ipykernel)",
   "language": "python",
   "name": "python3"
  },
  "language_info": {
   "codemirror_mode": {
    "name": "ipython",
    "version": 3
   },
   "file_extension": ".py",
   "mimetype": "text/x-python",
   "name": "python",
   "nbconvert_exporter": "python",
   "pygments_lexer": "ipython3",
   "version": "3.10.13"
  }
 },
 "nbformat": 4,
 "nbformat_minor": 5
}
