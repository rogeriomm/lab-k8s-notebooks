{
 "cells": [
  {
   "cell_type": "code",
   "execution_count": 3,
   "id": "81f5f8d1-2d4a-44dc-a154-ced73aec8de9",
   "metadata": {},
   "outputs": [
    {
     "name": "stdout",
     "output_type": "stream",
     "text": [
      "\u001b[36mapiVersion\u001b[0m:\u001b[32m kafka.strimzi.io/v1beta2\u001b[0m\n",
      "\u001b[32m\u001b[0m\u001b[36mkind\u001b[0m:\u001b[32m KafkaConnector\u001b[0m\n",
      "\u001b[32m\u001b[0m\u001b[36mmetadata\u001b[0m:\u001b[36m\u001b[0m\n",
      "\u001b[36m  annotations\u001b[0m:\u001b[36m\u001b[0m\n",
      "\u001b[36m    kubectl.kubernetes.io/last-applied-configuration\u001b[0m: |\n",
      "\u001b[32m      {\"apiVersion\":\"kafka.strimzi.io/v1beta2\",\"kind\":\"KafkaConnector\",\"metadata\":{\"annotations\":{},\"labels\":{\"strimzi.io/cluster\":\"my-connect\"},\"name\":\"debezium-connector-postgres\",\"namespace\":\"kafka-main-cluster\"},\"spec\":{\"class\":\"io.debezium.connector.postgresql.PostgresConnector\",\"config\":{\"converter.type\":\"avro\",\"database.dbname\":\"airflow\",\"database.hostname\":\"postgres-postgresql.postgres.svc\",\"database.password\":\"debezium\",\"database.port\":5432,\"database.user\":\"debezium\",\"key.converter\":\"io.confluent.connect.avro.AvroConverter\",\"key.converter.schema.registry.url\":\"http://main-registry-schema-registry.kafka-main-cluster.svc:8081\",\"plugin.name\":\"decoderbufs\",\"schema.history.internal.kafka.bootstrap.servers\":\"main-kafka-bootstrap:9092\",\"schema.history.internal.kafka.topic\":\"schema-changes.inventory\",\"table.include.list\":\"public.dag,public.variable\",\"tasks.max\":1,\"topic.prefix\":\"postgres-airflow\",\"transforms\":\"unwrap\",\"transforms.unwrap.delete.handling.mode\":\"drop\",\"transforms.unwrap.drop.tombstones\":false,\"transforms.unwrap.type\":\"io.debezium.transforms.ExtractNewRecordState\",\"value.converter\":\"io.confluent.connect.avro.AvroConverter\",\"value.converter.schema.registry.url\":\"http://main-registry-schema-registry.kafka-main-cluster.svc:8081\"},\"tasksMax\":1}}\u001b[0m\n",
      "\u001b[32m  \u001b[0m\u001b[36mcreationTimestamp\u001b[0m:\u001b[32m \"2024-01-31T16:10:45Z\"\u001b[0m\u001b[36m\u001b[0m\n",
      "\u001b[36m  generation\u001b[0m:\u001b[95m 1\u001b[0m\n",
      "\u001b[95m  \u001b[0m\u001b[36mlabels\u001b[0m:\u001b[36m\u001b[0m\n",
      "\u001b[36m    strimzi.io/cluster\u001b[0m:\u001b[32m my-connect\u001b[0m\n",
      "\u001b[32m  \u001b[0m\u001b[36mname\u001b[0m:\u001b[32m debezium-connector-postgres\u001b[0m\n",
      "\u001b[32m  \u001b[0m\u001b[36mnamespace\u001b[0m:\u001b[32m kafka-main-cluster\u001b[0m\n",
      "\u001b[32m  \u001b[0m\u001b[36mresourceVersion\u001b[0m:\u001b[32m \"489013\"\u001b[0m\u001b[36m\u001b[0m\n",
      "\u001b[36m  uid\u001b[0m:\u001b[32m 5282e9a4-c463-42bc-aa03-96ac863744c7\u001b[0m\n",
      "\u001b[32m\u001b[0m\u001b[36mspec\u001b[0m:\u001b[36m\u001b[0m\n",
      "\u001b[36m  class\u001b[0m:\u001b[32m io.debezium.connector.postgresql.PostgresConnector\u001b[0m\n",
      "\u001b[32m  \u001b[0m\u001b[36mconfig\u001b[0m:\u001b[36m\u001b[0m\n",
      "\u001b[36m    converter.type\u001b[0m:\u001b[32m avro\u001b[0m\n",
      "\u001b[32m    \u001b[0m\u001b[36mdatabase.dbname\u001b[0m:\u001b[32m airflow\u001b[0m\n",
      "\u001b[32m    \u001b[0m\u001b[36mdatabase.hostname\u001b[0m:\u001b[32m postgres-postgresql.postgres.svc\u001b[0m\n",
      "\u001b[32m    \u001b[0m\u001b[36mdatabase.password\u001b[0m:\u001b[32m debezium\u001b[0m\n",
      "\u001b[32m    \u001b[0m\u001b[36mdatabase.port\u001b[0m:\u001b[95m 5432\u001b[0m\n",
      "\u001b[95m    \u001b[0m\u001b[36mdatabase.user\u001b[0m:\u001b[32m debezium\u001b[0m\n",
      "\u001b[32m    \u001b[0m\u001b[36mkey.converter\u001b[0m:\u001b[32m io.confluent.connect.avro.AvroConverter\u001b[0m\n",
      "\u001b[32m    \u001b[0m\u001b[36mkey.converter.schema.registry.url\u001b[0m:\u001b[32m http://main-registry-schema-registry.kafka-main-cluster.svc:8081\u001b[0m\n",
      "\u001b[32m    \u001b[0m\u001b[36mplugin.name\u001b[0m:\u001b[32m decoderbufs\u001b[0m\n",
      "\u001b[32m    \u001b[0m\u001b[36mschema.history.internal.kafka.bootstrap.servers\u001b[0m:\u001b[32m main-kafka-bootstrap:9092\u001b[0m\n",
      "\u001b[32m    \u001b[0m\u001b[36mschema.history.internal.kafka.topic\u001b[0m:\u001b[32m schema-changes.inventory\u001b[0m\n",
      "\u001b[32m    \u001b[0m\u001b[36mtable.include.list\u001b[0m:\u001b[32m public.dag,public.variable\u001b[0m\n",
      "\u001b[32m    \u001b[0m\u001b[36mtasks.max\u001b[0m:\u001b[95m 1\u001b[0m\n",
      "\u001b[95m    \u001b[0m\u001b[36mtopic.prefix\u001b[0m:\u001b[32m postgres-airflow\u001b[0m\n",
      "\u001b[32m    \u001b[0m\u001b[36mtransforms\u001b[0m:\u001b[32m unwrap\u001b[0m\n",
      "\u001b[32m    \u001b[0m\u001b[36mtransforms.unwrap.delete.handling.mode\u001b[0m:\u001b[32m drop\u001b[0m\n",
      "\u001b[32m    \u001b[0m\u001b[36mtransforms.unwrap.drop.tombstones\u001b[0m:\u001b[95m false\u001b[0m\n",
      "\u001b[95m    \u001b[0m\u001b[36mtransforms.unwrap.type\u001b[0m:\u001b[32m io.debezium.transforms.ExtractNewRecordState\u001b[0m\n",
      "\u001b[32m    \u001b[0m\u001b[36mvalue.converter\u001b[0m:\u001b[32m io.confluent.connect.avro.AvroConverter\u001b[0m\n",
      "\u001b[32m    \u001b[0m\u001b[36mvalue.converter.schema.registry.url\u001b[0m:\u001b[32m http://main-registry-schema-registry.kafka-main-cluster.svc:8081\u001b[0m\n",
      "\u001b[32m  \u001b[0m\u001b[36mtasksMax\u001b[0m:\u001b[95m 1\u001b[0m\n",
      "\u001b[95m\u001b[0m\u001b[36mstatus\u001b[0m:\u001b[36m\u001b[0m\n",
      "\u001b[36m  conditions\u001b[0m:\n",
      "    -\u001b[36m lastTransitionTime\u001b[0m:\u001b[32m \"2024-01-31T20:07:04.863429544Z\"\u001b[0m\u001b[36m\u001b[0m\n",
      "\u001b[36m      status\u001b[0m:\u001b[32m \"True\"\u001b[0m\u001b[36m\u001b[0m\n",
      "\u001b[36m      type\u001b[0m:\u001b[32m Ready\u001b[0m\n",
      "\u001b[32m  \u001b[0m\u001b[36mconnectorStatus\u001b[0m:\u001b[36m\u001b[0m\n",
      "\u001b[36m    connector\u001b[0m:\u001b[36m\u001b[0m\n",
      "\u001b[36m      state\u001b[0m:\u001b[32m RUNNING\u001b[0m\n",
      "\u001b[32m      \u001b[0m\u001b[36mworker_id\u001b[0m:\u001b[32m my-connect-connect-0.my-connect-connect.kafka-main-cluster.svc:8083\u001b[0m\n",
      "\u001b[32m    \u001b[0m\u001b[36mname\u001b[0m:\u001b[32m debezium-connector-postgres\u001b[0m\n",
      "\u001b[32m    \u001b[0m\u001b[36mtasks\u001b[0m:\n",
      "      -\u001b[36m id\u001b[0m:\u001b[95m 0\u001b[0m\n",
      "\u001b[95m        \u001b[0m\u001b[36mstate\u001b[0m:\u001b[32m RUNNING\u001b[0m\n",
      "\u001b[32m        \u001b[0m\u001b[36mworker_id\u001b[0m:\u001b[32m my-connect-connect-0.my-connect-connect.kafka-main-cluster.svc:8083\u001b[0m\n",
      "\u001b[32m    \u001b[0m\u001b[36mtype\u001b[0m:\u001b[32m source\u001b[0m\n",
      "\u001b[32m  \u001b[0m\u001b[36mobservedGeneration\u001b[0m:\u001b[95m 1\u001b[0m\n",
      "\u001b[95m  \u001b[0m\u001b[36mtasksMax\u001b[0m:\u001b[95m 1\u001b[0m\n",
      "\u001b[95m  \u001b[0m\u001b[36mtopics\u001b[0m:\n",
      "    -\u001b[32m postgres-airflow.public.variable\u001b[0m\n"
     ]
    }
   ],
   "source": [
    "!kubectl get -n kafka-main-cluster kafkaconnectors debezium-connector-postgres -o yaml | yq"
   ]
  },
  {
   "cell_type": "code",
   "execution_count": null,
   "id": "18d25e62-b99a-4f73-aa5f-4c056e3408dd",
   "metadata": {},
   "outputs": [],
   "source": []
  }
 ],
 "metadata": {
  "kernelspec": {
   "display_name": "Python 3 (ipykernel)",
   "language": "python",
   "name": "python3"
  },
  "language_info": {
   "codemirror_mode": {
    "name": "ipython",
    "version": 3
   },
   "file_extension": ".py",
   "mimetype": "text/x-python",
   "name": "python",
   "nbconvert_exporter": "python",
   "pygments_lexer": "ipython3",
   "version": "3.10.13"
  }
 },
 "nbformat": 4,
 "nbformat_minor": 5
}
