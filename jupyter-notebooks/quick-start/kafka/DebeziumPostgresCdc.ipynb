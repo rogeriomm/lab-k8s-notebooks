{
 "cells": [
  {
   "cell_type": "code",
   "execution_count": 23,
   "id": "2d6b4cdd-4027-4621-81ee-1321d338fec0",
   "metadata": {},
   "outputs": [
    {
     "name": "stdout",
     "output_type": "stream",
     "text": [
      "\u001b[36mapiVersion\u001b[0m:\u001b[32m kafka.strimzi.io/v1beta2\u001b[0m\n",
      "\u001b[32m\u001b[0m\u001b[36mkind\u001b[0m:\u001b[32m KafkaConnector\u001b[0m\n",
      "\u001b[32m\u001b[0m\u001b[36mmetadata\u001b[0m:\u001b[36m\u001b[0m\n",
      "\u001b[36m  annotations\u001b[0m:\u001b[36m\u001b[0m\n",
      "\u001b[36m    kubectl.kubernetes.io/last-applied-configuration\u001b[0m: |\n",
      "\u001b[32m      {\"apiVersion\":\"kafka.strimzi.io/v1beta2\",\"kind\":\"KafkaConnector\",\"metadata\":{\"annotations\":{},\"labels\":{\"strimzi.io/cluster\":\"my-connect\"},\"name\":\"debezium-connector-postgres\",\"namespace\":\"kafka-main-cluster\"},\"spec\":{\"class\":\"io.debezium.connector.postgresql.PostgresConnector\",\"config\":{\"converter.type\":\"avro\",\"database.dbname\":\"airflow\",\"database.hostname\":\"postgres-postgresql.postgres.svc\",\"database.password\":\"${secrets:kafka-main-cluster/postgres-user-debezium:password}\",\"database.port\":5432,\"database.user\":\"${secrets:kafka-main-cluster/postgres-user-debezium:username}\",\"key.converter\":\"io.confluent.connect.avro.AvroConverter\",\"key.converter.schema.registry.url\":\"http://main-registry-schema-registry.kafka-main-cluster.svc:8081\",\"plugin.name\":\"decoderbufs\",\"schema.history.internal.kafka.bootstrap.servers\":\"main-kafka-bootstrap:9092\",\"schema.history.internal.kafka.topic\":\"schema-changes.inventory\",\"table.include.list\":\"public.dag,public.variable\",\"tasks.max\":1,\"topic.prefix\":\"postgres-airflow\",\"transforms\":\"unwrap\",\"transforms.unwrap.delete.handling.mode\":\"drop\",\"transforms.unwrap.drop.tombstones\":false,\"transforms.unwrap.type\":\"io.debezium.transforms.ExtractNewRecordState\",\"value.converter\":\"io.confluent.connect.avro.AvroConverter\",\"value.converter.schema.registry.url\":\"http://main-registry-schema-registry.kafka-main-cluster.svc:8081\"},\"tasksMax\":1}}\u001b[0m\n",
      "\u001b[32m  \u001b[0m\u001b[36mcreationTimestamp\u001b[0m:\u001b[32m \"2024-02-01T13:18:04Z\"\u001b[0m\u001b[36m\u001b[0m\n",
      "\u001b[36m  generation\u001b[0m:\u001b[95m 4\u001b[0m\n",
      "\u001b[95m  \u001b[0m\u001b[36mlabels\u001b[0m:\u001b[36m\u001b[0m\n",
      "\u001b[36m    strimzi.io/cluster\u001b[0m:\u001b[32m my-connect\u001b[0m\n",
      "\u001b[32m  \u001b[0m\u001b[36mname\u001b[0m:\u001b[32m debezium-connector-postgres\u001b[0m\n",
      "\u001b[32m  \u001b[0m\u001b[36mnamespace\u001b[0m:\u001b[32m kafka-main-cluster\u001b[0m\n",
      "\u001b[32m  \u001b[0m\u001b[36mresourceVersion\u001b[0m:\u001b[32m \"164344\"\u001b[0m\u001b[36m\u001b[0m\n",
      "\u001b[36m  uid\u001b[0m:\u001b[32m 029e30d8-8109-413e-b9de-65c08a730bc9\u001b[0m\n",
      "\u001b[32m\u001b[0m\u001b[36mspec\u001b[0m:\u001b[36m\u001b[0m\n",
      "\u001b[36m  class\u001b[0m:\u001b[32m io.debezium.connector.postgresql.PostgresConnector\u001b[0m\n",
      "\u001b[32m  \u001b[0m\u001b[36mconfig\u001b[0m:\u001b[36m\u001b[0m\n",
      "\u001b[36m    converter.type\u001b[0m:\u001b[32m avro\u001b[0m\n",
      "\u001b[32m    \u001b[0m\u001b[36mdatabase.dbname\u001b[0m:\u001b[32m airflow\u001b[0m\n",
      "\u001b[32m    \u001b[0m\u001b[36mdatabase.hostname\u001b[0m:\u001b[32m postgres-postgresql.postgres.svc\u001b[0m\n",
      "\u001b[32m    \u001b[0m\u001b[36mdatabase.password\u001b[0m:\u001b[32m ${secrets:kafka-main-cluster/postgres-user-debezium:password}\u001b[0m\n",
      "\u001b[32m    \u001b[0m\u001b[36mdatabase.port\u001b[0m:\u001b[95m 5432\u001b[0m\n",
      "\u001b[95m    \u001b[0m\u001b[36mdatabase.user\u001b[0m:\u001b[32m ${secrets:kafka-main-cluster/postgres-user-debezium:username}\u001b[0m\n",
      "\u001b[32m    \u001b[0m\u001b[36mkey.converter\u001b[0m:\u001b[32m io.confluent.connect.avro.AvroConverter\u001b[0m\n",
      "\u001b[32m    \u001b[0m\u001b[36mkey.converter.schema.registry.url\u001b[0m:\u001b[32m http://main-registry-schema-registry.kafka-main-cluster.svc:8081\u001b[0m\n",
      "\u001b[32m    \u001b[0m\u001b[36mplugin.name\u001b[0m:\u001b[32m decoderbufs\u001b[0m\n",
      "\u001b[32m    \u001b[0m\u001b[36mschema.history.internal.kafka.bootstrap.servers\u001b[0m:\u001b[32m main-kafka-bootstrap:9092\u001b[0m\n",
      "\u001b[32m    \u001b[0m\u001b[36mschema.history.internal.kafka.topic\u001b[0m:\u001b[32m schema-changes.inventory\u001b[0m\n",
      "\u001b[32m    \u001b[0m\u001b[36mtable.include.list\u001b[0m:\u001b[32m public.dag,public.variable\u001b[0m\n",
      "\u001b[32m    \u001b[0m\u001b[36mtasks.max\u001b[0m:\u001b[95m 1\u001b[0m\n",
      "\u001b[95m    \u001b[0m\u001b[36mtopic.prefix\u001b[0m:\u001b[32m postgres-airflow\u001b[0m\n",
      "\u001b[32m    \u001b[0m\u001b[36mtransforms\u001b[0m:\u001b[32m unwrap\u001b[0m\n",
      "\u001b[32m    \u001b[0m\u001b[36mtransforms.unwrap.delete.handling.mode\u001b[0m:\u001b[32m drop\u001b[0m\n",
      "\u001b[32m    \u001b[0m\u001b[36mtransforms.unwrap.drop.tombstones\u001b[0m:\u001b[95m false\u001b[0m\n",
      "\u001b[95m    \u001b[0m\u001b[36mtransforms.unwrap.type\u001b[0m:\u001b[32m io.debezium.transforms.ExtractNewRecordState\u001b[0m\n",
      "\u001b[32m    \u001b[0m\u001b[36mvalue.converter\u001b[0m:\u001b[32m io.confluent.connect.avro.AvroConverter\u001b[0m\n",
      "\u001b[32m    \u001b[0m\u001b[36mvalue.converter.schema.registry.url\u001b[0m:\u001b[32m http://main-registry-schema-registry.kafka-main-cluster.svc:8081\u001b[0m\n",
      "\u001b[32m  \u001b[0m\u001b[36mtasksMax\u001b[0m:\u001b[95m 1\u001b[0m\n",
      "\u001b[95m\u001b[0m\u001b[36mstatus\u001b[0m:\u001b[36m\u001b[0m\n",
      "\u001b[36m  conditions\u001b[0m:\n",
      "    -\u001b[36m lastTransitionTime\u001b[0m:\u001b[32m \"2024-02-01T14:42:42.337549455Z\"\u001b[0m\u001b[36m\u001b[0m\n",
      "\u001b[36m      status\u001b[0m:\u001b[32m \"True\"\u001b[0m\u001b[36m\u001b[0m\n",
      "\u001b[36m      type\u001b[0m:\u001b[32m Ready\u001b[0m\n",
      "\u001b[32m  \u001b[0m\u001b[36mconnectorStatus\u001b[0m:\u001b[36m\u001b[0m\n",
      "\u001b[36m    connector\u001b[0m:\u001b[36m\u001b[0m\n",
      "\u001b[36m      state\u001b[0m:\u001b[32m RUNNING\u001b[0m\n",
      "\u001b[32m      \u001b[0m\u001b[36mworker_id\u001b[0m:\u001b[32m my-connect-connect-0.my-connect-connect.kafka-main-cluster.svc:8083\u001b[0m\n",
      "\u001b[32m    \u001b[0m\u001b[36mname\u001b[0m:\u001b[32m debezium-connector-postgres\u001b[0m\n",
      "\u001b[32m    \u001b[0m\u001b[36mtasks\u001b[0m:\n",
      "      -\u001b[36m id\u001b[0m:\u001b[95m 0\u001b[0m\n",
      "\u001b[95m        \u001b[0m\u001b[36mstate\u001b[0m:\u001b[32m RUNNING\u001b[0m\n",
      "\u001b[32m        \u001b[0m\u001b[36mworker_id\u001b[0m:\u001b[32m my-connect-connect-0.my-connect-connect.kafka-main-cluster.svc:8083\u001b[0m\n",
      "\u001b[32m    \u001b[0m\u001b[36mtype\u001b[0m:\u001b[32m source\u001b[0m\n",
      "\u001b[32m  \u001b[0m\u001b[36mobservedGeneration\u001b[0m:\u001b[95m 4\u001b[0m\n",
      "\u001b[95m  \u001b[0m\u001b[36mtasksMax\u001b[0m:\u001b[95m 1\u001b[0m\n",
      "\u001b[95m  \u001b[0m\u001b[36mtopics\u001b[0m:\n",
      "    -\u001b[32m postgres-airflow.public.variable\u001b[0m\n"
     ]
    }
   ],
   "source": [
    "!kubectl get -n kafka-main-cluster kafkaconnectors debezium-connector-postgres -o yaml | yq"
   ]
  },
  {
   "cell_type": "markdown",
   "id": "07900691-a574-477d-9be0-19541ec03a09",
   "metadata": {},
   "source": [
    "# Using Kubernetes Configuration Provider to load data from Secrets and Config Maps\n",
    "   * https://strimzi.io/blog/2021/07/22/using-kubernetes-config-provider-to-load-data-from-secrets-and-config-maps/"
   ]
  },
  {
   "cell_type": "code",
   "execution_count": 23,
   "id": "1357d9a2-105c-4c87-bde7-5069fc5317f2",
   "metadata": {},
   "outputs": [
    {
     "name": "stdout",
     "output_type": "stream",
     "text": [
      "\u001b[36mapiVersion\u001b[0m:\u001b[32m rbac.authorization.k8s.io/v1\u001b[0m\n",
      "\u001b[32m\u001b[0m\u001b[36mkind\u001b[0m:\u001b[32m Role\u001b[0m\n",
      "\u001b[32m\u001b[0m\u001b[36mmetadata\u001b[0m:\u001b[36m\u001b[0m\n",
      "\u001b[36m  annotations\u001b[0m:\u001b[36m\u001b[0m\n",
      "\u001b[36m    kubectl.kubernetes.io/last-applied-configuration\u001b[0m: |\n",
      "\u001b[32m      {\"apiVersion\":\"rbac.authorization.k8s.io/v1\",\"kind\":\"Role\",\"metadata\":{\"annotations\":{},\"name\":\"connector-configuration-role\",\"namespace\":\"kafka-main-cluster\"},\"rules\":[{\"apiGroups\":[\"\"],\"resourceNames\":[\"postgres-user-debezium\"],\"resources\":[\"secrets\"],\"verbs\":[\"get\"]}]}\u001b[0m\n",
      "\u001b[32m  \u001b[0m\u001b[36mcreationTimestamp\u001b[0m:\u001b[32m \"2024-01-31T21:11:15Z\"\u001b[0m\u001b[36m\u001b[0m\n",
      "\u001b[36m  name\u001b[0m:\u001b[32m connector-configuration-role\u001b[0m\n",
      "\u001b[32m  \u001b[0m\u001b[36mnamespace\u001b[0m:\u001b[32m kafka-main-cluster\u001b[0m\n",
      "\u001b[32m  \u001b[0m\u001b[36mresourceVersion\u001b[0m:\u001b[32m \"606513\"\u001b[0m\u001b[36m\u001b[0m\n",
      "\u001b[36m  uid\u001b[0m:\u001b[32m 11c59303-4a2d-4dfc-89bc-7dad23ed4627\u001b[0m\n",
      "\u001b[32m\u001b[0m\u001b[36mrules\u001b[0m:\n",
      "  -\u001b[36m apiGroups\u001b[0m:\n",
      "      -\u001b[32m \"\"\u001b[0m\u001b[36m\u001b[0m\n",
      "\u001b[36m    resourceNames\u001b[0m:\n",
      "      -\u001b[32m postgres-user-debezium\u001b[0m\n",
      "\u001b[32m    \u001b[0m\u001b[36mresources\u001b[0m:\n",
      "      -\u001b[32m secrets\u001b[0m\n",
      "\u001b[32m    \u001b[0m\u001b[36mverbs\u001b[0m:\n",
      "      -\u001b[32m get\u001b[0m\n"
     ]
    }
   ],
   "source": [
    "!kubectl -n kafka-main-cluster get role connector-configuration-role -o yaml | yq"
   ]
  },
  {
   "cell_type": "code",
   "execution_count": 10,
   "id": "18d25e62-b99a-4f73-aa5f-4c056e3408dd",
   "metadata": {},
   "outputs": [
    {
     "name": "stdout",
     "output_type": "stream",
     "text": [
      "\u001b[36mapiVersion\u001b[0m:\u001b[32m rbac.authorization.k8s.io/v1\u001b[0m\n",
      "\u001b[32m\u001b[0m\u001b[36mkind\u001b[0m:\u001b[32m RoleBinding\u001b[0m\n",
      "\u001b[32m\u001b[0m\u001b[36mmetadata\u001b[0m:\u001b[36m\u001b[0m\n",
      "\u001b[36m  annotations\u001b[0m:\u001b[36m\u001b[0m\n",
      "\u001b[36m    kubectl.kubernetes.io/last-applied-configuration\u001b[0m: |\n",
      "\u001b[32m      {\"apiVersion\":\"rbac.authorization.k8s.io/v1\",\"kind\":\"RoleBinding\",\"metadata\":{\"annotations\":{},\"name\":\"connector-configuration-role-binding\",\"namespace\":\"kafka-main-cluster\"},\"roleRef\":{\"apiGroup\":\"rbac.authorization.k8s.io\",\"kind\":\"Role\",\"name\":\"connector-configuration-role\"},\"subjects\":[{\"kind\":\"ServiceAccount\",\"name\":\"my-connect-connect\",\"namespace\":\"kafka-main-cluster\"}]}\u001b[0m\n",
      "\u001b[32m  \u001b[0m\u001b[36mcreationTimestamp\u001b[0m:\u001b[32m \"2024-01-31T21:11:15Z\"\u001b[0m\u001b[36m\u001b[0m\n",
      "\u001b[36m  name\u001b[0m:\u001b[32m connector-configuration-role-binding\u001b[0m\n",
      "\u001b[32m  \u001b[0m\u001b[36mnamespace\u001b[0m:\u001b[32m kafka-main-cluster\u001b[0m\n",
      "\u001b[32m  \u001b[0m\u001b[36mresourceVersion\u001b[0m:\u001b[32m \"606514\"\u001b[0m\u001b[36m\u001b[0m\n",
      "\u001b[36m  uid\u001b[0m:\u001b[32m 71900323-e3db-4879-bdf2-c772b891dcf4\u001b[0m\n",
      "\u001b[32m\u001b[0m\u001b[36mroleRef\u001b[0m:\u001b[36m\u001b[0m\n",
      "\u001b[36m  apiGroup\u001b[0m:\u001b[32m rbac.authorization.k8s.io\u001b[0m\n",
      "\u001b[32m  \u001b[0m\u001b[36mkind\u001b[0m:\u001b[32m Role\u001b[0m\n",
      "\u001b[32m  \u001b[0m\u001b[36mname\u001b[0m:\u001b[32m connector-configuration-role\u001b[0m\n",
      "\u001b[32m\u001b[0m\u001b[36msubjects\u001b[0m:\n",
      "  -\u001b[36m kind\u001b[0m:\u001b[32m ServiceAccount\u001b[0m\n",
      "\u001b[32m    \u001b[0m\u001b[36mname\u001b[0m:\u001b[32m my-connect-connect\u001b[0m\n",
      "\u001b[32m    \u001b[0m\u001b[36mnamespace\u001b[0m:\u001b[32m kafka-main-cluster\u001b[0m\n"
     ]
    }
   ],
   "source": [
    "!kubectl -n kafka-main-cluster get rolebinding connector-configuration-role-binding -o yaml | yq"
   ]
  },
  {
   "cell_type": "code",
   "execution_count": 14,
   "id": "15bc6ef6-8462-46c3-8d82-d8e34b1a9489",
   "metadata": {},
   "outputs": [
    {
     "name": "stdout",
     "output_type": "stream",
     "text": [
      "\u001b[36mapiVersion\u001b[0m:\u001b[32m v1\u001b[0m\n",
      "\u001b[32m\u001b[0m\u001b[36mdata\u001b[0m:\u001b[36m\u001b[0m\n",
      "\u001b[36m  password\u001b[0m:\u001b[32m ZGViZXppdW0K\u001b[0m\n",
      "\u001b[32m  \u001b[0m\u001b[36musername\u001b[0m:\u001b[32m ZGViZXppdW0K\u001b[0m\n",
      "\u001b[32m\u001b[0m\u001b[36mkind\u001b[0m:\u001b[32m Secret\u001b[0m\n",
      "\u001b[32m\u001b[0m\u001b[36mmetadata\u001b[0m:\u001b[36m\u001b[0m\n",
      "\u001b[36m  annotations\u001b[0m:\u001b[36m\u001b[0m\n",
      "\u001b[36m    replicator.v1.mittwald.de/replicated-at\u001b[0m:\u001b[32m \"2024-01-31T16:10:45Z\"\u001b[0m\u001b[36m\u001b[0m\n",
      "\u001b[36m    replicator.v1.mittwald.de/replicated-from-version\u001b[0m:\u001b[32m \"19115\"\u001b[0m\u001b[36m\u001b[0m\n",
      "\u001b[36m    replicator.v1.mittwald.de/replicated-keys\u001b[0m:\u001b[32m password,username\u001b[0m\n",
      "\u001b[32m  \u001b[0m\u001b[36mcreationTimestamp\u001b[0m:\u001b[32m \"2024-01-31T16:10:45Z\"\u001b[0m\u001b[36m\u001b[0m\n",
      "\u001b[36m  name\u001b[0m:\u001b[32m postgres-user-debezium\u001b[0m\n",
      "\u001b[32m  \u001b[0m\u001b[36mnamespace\u001b[0m:\u001b[32m kafka-main-cluster\u001b[0m\n",
      "\u001b[32m  \u001b[0m\u001b[36mresourceVersion\u001b[0m:\u001b[32m \"19116\"\u001b[0m\u001b[36m\u001b[0m\n",
      "\u001b[36m  uid\u001b[0m:\u001b[32m 8434a02b-5d8e-42f8-bd19-6947356c3e03\u001b[0m\n",
      "\u001b[32m\u001b[0m\u001b[36mtype\u001b[0m:\u001b[32m Opaque\u001b[0m\n"
     ]
    }
   ],
   "source": [
    "!kubectl -n kafka-main-cluster get secrets postgres-user-debezium -o yaml | yq"
   ]
  },
  {
   "cell_type": "code",
   "execution_count": 4,
   "id": "2fa6e0c2-59b9-4fa0-a4c9-dd1b3a7e6ba6",
   "metadata": {},
   "outputs": [
    {
     "name": "stdout",
     "output_type": "stream",
     "text": [
      "\u001b[1;39m[\n",
      "  \u001b[1;39m{\n",
      "    \u001b[0m\u001b[34;1m\"class\"\u001b[0m\u001b[1;39m: \u001b[0m\u001b[0;32m\"io.debezium.connector.mongodb.MongoDbConnector\"\u001b[0m\u001b[1;39m,\n",
      "    \u001b[0m\u001b[34;1m\"type\"\u001b[0m\u001b[1;39m: \u001b[0m\u001b[0;32m\"source\"\u001b[0m\u001b[1;39m,\n",
      "    \u001b[0m\u001b[34;1m\"version\"\u001b[0m\u001b[1;39m: \u001b[0m\u001b[0;32m\"2.5.0.Final\"\u001b[0m\u001b[1;39m\n",
      "  \u001b[1;39m}\u001b[0m\u001b[1;39m,\n",
      "  \u001b[1;39m{\n",
      "    \u001b[0m\u001b[34;1m\"class\"\u001b[0m\u001b[1;39m: \u001b[0m\u001b[0;32m\"io.debezium.connector.mysql.MySqlConnector\"\u001b[0m\u001b[1;39m,\n",
      "    \u001b[0m\u001b[34;1m\"type\"\u001b[0m\u001b[1;39m: \u001b[0m\u001b[0;32m\"source\"\u001b[0m\u001b[1;39m,\n",
      "    \u001b[0m\u001b[34;1m\"version\"\u001b[0m\u001b[1;39m: \u001b[0m\u001b[0;32m\"2.5.0.Final\"\u001b[0m\u001b[1;39m\n",
      "  \u001b[1;39m}\u001b[0m\u001b[1;39m,\n",
      "  \u001b[1;39m{\n",
      "    \u001b[0m\u001b[34;1m\"class\"\u001b[0m\u001b[1;39m: \u001b[0m\u001b[0;32m\"io.debezium.connector.oracle.OracleConnector\"\u001b[0m\u001b[1;39m,\n",
      "    \u001b[0m\u001b[34;1m\"type\"\u001b[0m\u001b[1;39m: \u001b[0m\u001b[0;32m\"source\"\u001b[0m\u001b[1;39m,\n",
      "    \u001b[0m\u001b[34;1m\"version\"\u001b[0m\u001b[1;39m: \u001b[0m\u001b[0;32m\"2.5.0.Final\"\u001b[0m\u001b[1;39m\n",
      "  \u001b[1;39m}\u001b[0m\u001b[1;39m,\n",
      "  \u001b[1;39m{\n",
      "    \u001b[0m\u001b[34;1m\"class\"\u001b[0m\u001b[1;39m: \u001b[0m\u001b[0;32m\"io.debezium.connector.postgresql.PostgresConnector\"\u001b[0m\u001b[1;39m,\n",
      "    \u001b[0m\u001b[34;1m\"type\"\u001b[0m\u001b[1;39m: \u001b[0m\u001b[0;32m\"source\"\u001b[0m\u001b[1;39m,\n",
      "    \u001b[0m\u001b[34;1m\"version\"\u001b[0m\u001b[1;39m: \u001b[0m\u001b[0;32m\"2.5.0.Final\"\u001b[0m\u001b[1;39m\n",
      "  \u001b[1;39m}\u001b[0m\u001b[1;39m,\n",
      "  \u001b[1;39m{\n",
      "    \u001b[0m\u001b[34;1m\"class\"\u001b[0m\u001b[1;39m: \u001b[0m\u001b[0;32m\"io.debezium.connector.sqlserver.SqlServerConnector\"\u001b[0m\u001b[1;39m,\n",
      "    \u001b[0m\u001b[34;1m\"type\"\u001b[0m\u001b[1;39m: \u001b[0m\u001b[0;32m\"source\"\u001b[0m\u001b[1;39m,\n",
      "    \u001b[0m\u001b[34;1m\"version\"\u001b[0m\u001b[1;39m: \u001b[0m\u001b[0;32m\"2.5.0.Final\"\u001b[0m\u001b[1;39m\n",
      "  \u001b[1;39m}\u001b[0m\u001b[1;39m,\n",
      "  \u001b[1;39m{\n",
      "    \u001b[0m\u001b[34;1m\"class\"\u001b[0m\u001b[1;39m: \u001b[0m\u001b[0;32m\"org.apache.kafka.connect.mirror.MirrorCheckpointConnector\"\u001b[0m\u001b[1;39m,\n",
      "    \u001b[0m\u001b[34;1m\"type\"\u001b[0m\u001b[1;39m: \u001b[0m\u001b[0;32m\"source\"\u001b[0m\u001b[1;39m,\n",
      "    \u001b[0m\u001b[34;1m\"version\"\u001b[0m\u001b[1;39m: \u001b[0m\u001b[0;32m\"3.6.1\"\u001b[0m\u001b[1;39m\n",
      "  \u001b[1;39m}\u001b[0m\u001b[1;39m,\n",
      "  \u001b[1;39m{\n",
      "    \u001b[0m\u001b[34;1m\"class\"\u001b[0m\u001b[1;39m: \u001b[0m\u001b[0;32m\"org.apache.kafka.connect.mirror.MirrorHeartbeatConnector\"\u001b[0m\u001b[1;39m,\n",
      "    \u001b[0m\u001b[34;1m\"type\"\u001b[0m\u001b[1;39m: \u001b[0m\u001b[0;32m\"source\"\u001b[0m\u001b[1;39m,\n",
      "    \u001b[0m\u001b[34;1m\"version\"\u001b[0m\u001b[1;39m: \u001b[0m\u001b[0;32m\"3.6.1\"\u001b[0m\u001b[1;39m\n",
      "  \u001b[1;39m}\u001b[0m\u001b[1;39m,\n",
      "  \u001b[1;39m{\n",
      "    \u001b[0m\u001b[34;1m\"class\"\u001b[0m\u001b[1;39m: \u001b[0m\u001b[0;32m\"org.apache.kafka.connect.mirror.MirrorSourceConnector\"\u001b[0m\u001b[1;39m,\n",
      "    \u001b[0m\u001b[34;1m\"type\"\u001b[0m\u001b[1;39m: \u001b[0m\u001b[0;32m\"source\"\u001b[0m\u001b[1;39m,\n",
      "    \u001b[0m\u001b[34;1m\"version\"\u001b[0m\u001b[1;39m: \u001b[0m\u001b[0;32m\"3.6.1\"\u001b[0m\u001b[1;39m\n",
      "  \u001b[1;39m}\u001b[0m\u001b[1;39m\n",
      "\u001b[1;39m]\u001b[0m\n"
     ]
    }
   ],
   "source": [
    "!curl -s -H \"Accept:application/json\" http://my-connect-connect-api.kafka-main-cluster.svc:8083/connector-plugins/ | jq"
   ]
  },
  {
   "cell_type": "code",
   "execution_count": 11,
   "id": "95350aed-1d2d-4094-a80a-4f3c98931192",
   "metadata": {},
   "outputs": [
    {
     "name": "stdout",
     "output_type": "stream",
     "text": [
      "\u001b[1;39m{\n",
      "  \u001b[0m\u001b[34;1m\"error_code\"\u001b[0m\u001b[1;39m: \u001b[0m\u001b[0;39m405\u001b[0m\u001b[1;39m,\n",
      "  \u001b[0m\u001b[34;1m\"message\"\u001b[0m\u001b[1;39m: \u001b[0m\u001b[0;32m\"HTTP 405 Method Not Allowed\"\u001b[0m\u001b[1;39m\n",
      "\u001b[1;39m}\u001b[0m\n"
     ]
    }
   ],
   "source": [
    "!curl -s -H \"Accept:application/json\" http://my-connect-connect-api.kafka-main-cluster.svc:8083/connector-plugins/source/config/validate | jq"
   ]
  },
  {
   "cell_type": "code",
   "execution_count": 12,
   "id": "a38b91fd-541b-4b11-be82-5a3ca1b1dcdb",
   "metadata": {},
   "outputs": [
    {
     "name": "stdout",
     "output_type": "stream",
     "text": [
      "\u001b[36mapiVersion\u001b[0m:\u001b[32m v1\u001b[0m\n",
      "\u001b[32m\u001b[0m\u001b[36mkind\u001b[0m:\u001b[32m ServiceAccount\u001b[0m\n",
      "\u001b[32m\u001b[0m\u001b[36mmetadata\u001b[0m:\u001b[36m\u001b[0m\n",
      "\u001b[36m  annotations\u001b[0m:\u001b[36m\u001b[0m\n",
      "\u001b[36m    meta.helm.sh/release-name\u001b[0m:\u001b[32m strimzi-cluster-operator\u001b[0m\n",
      "\u001b[32m    \u001b[0m\u001b[36mmeta.helm.sh/release-namespace\u001b[0m:\u001b[32m kafka\u001b[0m\n",
      "\u001b[32m  \u001b[0m\u001b[36mcreationTimestamp\u001b[0m:\u001b[32m \"2024-02-01T13:17:22Z\"\u001b[0m\u001b[36m\u001b[0m\n",
      "\u001b[36m  labels\u001b[0m:\u001b[36m\u001b[0m\n",
      "\u001b[36m    app\u001b[0m:\u001b[32m strimzi\u001b[0m\n",
      "\u001b[32m    \u001b[0m\u001b[36mapp.kubernetes.io/managed-by\u001b[0m:\u001b[32m Helm\u001b[0m\n",
      "\u001b[32m    \u001b[0m\u001b[36mchart\u001b[0m:\u001b[32m strimzi-kafka-operator-0.39.0\u001b[0m\n",
      "\u001b[32m    \u001b[0m\u001b[36mcomponent\u001b[0m:\u001b[32m service-account\u001b[0m\n",
      "\u001b[32m    \u001b[0m\u001b[36mheritage\u001b[0m:\u001b[32m Helm\u001b[0m\n",
      "\u001b[32m    \u001b[0m\u001b[36mrelease\u001b[0m:\u001b[32m strimzi-cluster-operator\u001b[0m\n",
      "\u001b[32m  \u001b[0m\u001b[36mname\u001b[0m:\u001b[32m strimzi-cluster-operator\u001b[0m\n",
      "\u001b[32m  \u001b[0m\u001b[36mnamespace\u001b[0m:\u001b[32m kafka\u001b[0m\n",
      "\u001b[32m  \u001b[0m\u001b[36mresourceVersion\u001b[0m:\u001b[32m \"10547\"\u001b[0m\u001b[36m\u001b[0m\n",
      "\u001b[36m  uid\u001b[0m:\u001b[32m 5e9f1db2-cafc-4324-9ba9-22b7621f18ce\u001b[0m\n"
     ]
    }
   ],
   "source": [
    "!kubectl -n kafka get serviceaccount strimzi-cluster-operator -o yaml | yq"
   ]
  },
  {
   "cell_type": "code",
   "execution_count": 9,
   "id": "1d291f0f-9ed8-4c09-8b53-ff4e72098e10",
   "metadata": {},
   "outputs": [
    {
     "name": "stdout",
     "output_type": "stream",
     "text": [
      "\u001b[36mapiVersion\u001b[0m:\u001b[32m v1\u001b[0m\n",
      "\u001b[32m\u001b[0m\u001b[36mitems\u001b[0m: []\u001b[36m\u001b[0m\n",
      "\u001b[36mkind\u001b[0m:\u001b[32m List\u001b[0m\n",
      "\u001b[32m\u001b[0m\u001b[36mmetadata\u001b[0m:\u001b[36m\u001b[0m\n",
      "\u001b[36m  resourceVersion\u001b[0m:\u001b[32m \"\"\u001b[0m\n"
     ]
    }
   ],
   "source": [
    "!kubectl -n kafka get roles -o yaml | yq"
   ]
  },
  {
   "cell_type": "code",
   "execution_count": 4,
   "id": "28b15a99-fd0a-4f7b-a14a-f331906e4799",
   "metadata": {},
   "outputs": [
    {
     "name": "stdout",
     "output_type": "stream",
     "text": [
      "\u001b[36mapiVersion\u001b[0m:\u001b[32m rbac.authorization.k8s.io/v1\u001b[0m\n",
      "\u001b[32m\u001b[0m\u001b[36mkind\u001b[0m:\u001b[32m RoleBinding\u001b[0m\n",
      "\u001b[32m\u001b[0m\u001b[36mmetadata\u001b[0m:\u001b[36m\u001b[0m\n",
      "\u001b[36m  annotations\u001b[0m:\u001b[36m\u001b[0m\n",
      "\u001b[36m    meta.helm.sh/release-name\u001b[0m:\u001b[32m strimzi-cluster-operator\u001b[0m\n",
      "\u001b[32m    \u001b[0m\u001b[36mmeta.helm.sh/release-namespace\u001b[0m:\u001b[32m kafka\u001b[0m\n",
      "\u001b[32m  \u001b[0m\u001b[36mcreationTimestamp\u001b[0m:\u001b[32m \"2024-02-01T13:17:22Z\"\u001b[0m\u001b[36m\u001b[0m\n",
      "\u001b[36m  labels\u001b[0m:\u001b[36m\u001b[0m\n",
      "\u001b[36m    app\u001b[0m:\u001b[32m strimzi\u001b[0m\n",
      "\u001b[32m    \u001b[0m\u001b[36mapp.kubernetes.io/managed-by\u001b[0m:\u001b[32m Helm\u001b[0m\n",
      "\u001b[32m    \u001b[0m\u001b[36mchart\u001b[0m:\u001b[32m strimzi-kafka-operator-0.39.0\u001b[0m\n",
      "\u001b[32m    \u001b[0m\u001b[36mcomponent\u001b[0m:\u001b[32m role-binding\u001b[0m\n",
      "\u001b[32m    \u001b[0m\u001b[36mheritage\u001b[0m:\u001b[32m Helm\u001b[0m\n",
      "\u001b[32m    \u001b[0m\u001b[36mrelease\u001b[0m:\u001b[32m strimzi-cluster-operator\u001b[0m\n",
      "\u001b[32m  \u001b[0m\u001b[36mname\u001b[0m:\u001b[32m strimzi-cluster-operator\u001b[0m\n",
      "\u001b[32m  \u001b[0m\u001b[36mnamespace\u001b[0m:\u001b[32m kafka\u001b[0m\n",
      "\u001b[32m  \u001b[0m\u001b[36mresourceVersion\u001b[0m:\u001b[32m \"10575\"\u001b[0m\u001b[36m\u001b[0m\n",
      "\u001b[36m  uid\u001b[0m:\u001b[32m 2d2c3f40-8811-439b-a916-2bd7665cf975\u001b[0m\n",
      "\u001b[32m\u001b[0m\u001b[36mroleRef\u001b[0m:\u001b[36m\u001b[0m\n",
      "\u001b[36m  apiGroup\u001b[0m:\u001b[32m rbac.authorization.k8s.io\u001b[0m\n",
      "\u001b[32m  \u001b[0m\u001b[36mkind\u001b[0m:\u001b[32m ClusterRole\u001b[0m\n",
      "\u001b[32m  \u001b[0m\u001b[36mname\u001b[0m:\u001b[32m strimzi-cluster-operator-namespaced\u001b[0m\n",
      "\u001b[32m\u001b[0m\u001b[36msubjects\u001b[0m:\n",
      "  -\u001b[36m kind\u001b[0m:\u001b[32m ServiceAccount\u001b[0m\n",
      "\u001b[32m    \u001b[0m\u001b[36mname\u001b[0m:\u001b[32m strimzi-cluster-operator\u001b[0m\n",
      "\u001b[32m    \u001b[0m\u001b[36mnamespace\u001b[0m:\u001b[32m kafka\u001b[0m\n"
     ]
    }
   ],
   "source": [
    "!kubectl -n kafka get rolebinding  strimzi-cluster-operator -o yaml | yq"
   ]
  },
  {
   "cell_type": "code",
   "execution_count": null,
   "id": "b9ee66ed-4730-4bdb-9dde-61c25b8665d7",
   "metadata": {},
   "outputs": [],
   "source": []
  }
 ],
 "metadata": {
  "kernelspec": {
   "display_name": "Python 3 (ipykernel)",
   "language": "python",
   "name": "python3"
  },
  "language_info": {
   "codemirror_mode": {
    "name": "ipython",
    "version": 3
   },
   "file_extension": ".py",
   "mimetype": "text/x-python",
   "name": "python",
   "nbconvert_exporter": "python",
   "pygments_lexer": "ipython3",
   "version": "3.10.13"
  }
 },
 "nbformat": 4,
 "nbformat_minor": 5
}
