{
 "cells": [
  {
   "cell_type": "markdown",
   "id": "6c430da2-64f6-4ff5-905b-41afd4e708a2",
   "metadata": {},
   "source": [
    "!kubectl get -n kafka-main-cluster kafkaconnectors debezium-connector-postgres -o yaml | yq"
   ]
  },
  {
   "cell_type": "markdown",
   "id": "07900691-a574-477d-9be0-19541ec03a09",
   "metadata": {},
   "source": [
    "# Using Kubernetes Configuration Provider to load data from Secrets and Config Maps\n",
    "   * https://strimzi.io/blog/2021/07/22/using-kubernetes-config-provider-to-load-data-from-secrets-and-config-maps/"
   ]
  },
  {
   "cell_type": "code",
   "execution_count": 12,
   "id": "1357d9a2-105c-4c87-bde7-5069fc5317f2",
   "metadata": {},
   "outputs": [
    {
     "name": "stdout",
     "output_type": "stream",
     "text": [
      "\u001b[36mapiVersion\u001b[0m:\u001b[32m rbac.authorization.k8s.io/v1\u001b[0m\n",
      "\u001b[32m\u001b[0m\u001b[36mkind\u001b[0m:\u001b[32m Role\u001b[0m\n",
      "\u001b[32m\u001b[0m\u001b[36mmetadata\u001b[0m:\u001b[36m\u001b[0m\n",
      "\u001b[36m  annotations\u001b[0m:\u001b[36m\u001b[0m\n",
      "\u001b[36m    kubectl.kubernetes.io/last-applied-configuration\u001b[0m: |\n",
      "\u001b[32m      {\"apiVersion\":\"rbac.authorization.k8s.io/v1\",\"kind\":\"Role\",\"metadata\":{\"annotations\":{},\"name\":\"connector-configuration-role\",\"namespace\":\"kafka-main-cluster\"},\"rules\":[{\"apiGroups\":[\"\"],\"resourceNames\":[\"postgres-user-debezium\"],\"resources\":[\"secrets\"],\"verbs\":[\"get\"]}]}\u001b[0m\n",
      "\u001b[32m  \u001b[0m\u001b[36mcreationTimestamp\u001b[0m:\u001b[32m \"2024-01-31T21:11:15Z\"\u001b[0m\u001b[36m\u001b[0m\n",
      "\u001b[36m  name\u001b[0m:\u001b[32m connector-configuration-role\u001b[0m\n",
      "\u001b[32m  \u001b[0m\u001b[36mnamespace\u001b[0m:\u001b[32m kafka-main-cluster\u001b[0m\n",
      "\u001b[32m  \u001b[0m\u001b[36mresourceVersion\u001b[0m:\u001b[32m \"606513\"\u001b[0m\u001b[36m\u001b[0m\n",
      "\u001b[36m  uid\u001b[0m:\u001b[32m 11c59303-4a2d-4dfc-89bc-7dad23ed4627\u001b[0m\n",
      "\u001b[32m\u001b[0m\u001b[36mrules\u001b[0m:\n",
      "  -\u001b[36m apiGroups\u001b[0m:\n",
      "      -\u001b[32m \"\"\u001b[0m\u001b[36m\u001b[0m\n",
      "\u001b[36m    resourceNames\u001b[0m:\n",
      "      -\u001b[32m postgres-user-debezium\u001b[0m\n",
      "\u001b[32m    \u001b[0m\u001b[36mresources\u001b[0m:\n",
      "      -\u001b[32m secrets\u001b[0m\n",
      "\u001b[32m    \u001b[0m\u001b[36mverbs\u001b[0m:\n",
      "      -\u001b[32m get\u001b[0m\n"
     ]
    }
   ],
   "source": [
    "!kubectl -n kafka-main-cluster get role connector-configuration-role -o yaml | yq"
   ]
  },
  {
   "cell_type": "code",
   "execution_count": 10,
   "id": "18d25e62-b99a-4f73-aa5f-4c056e3408dd",
   "metadata": {},
   "outputs": [
    {
     "name": "stdout",
     "output_type": "stream",
     "text": [
      "\u001b[36mapiVersion\u001b[0m:\u001b[32m rbac.authorization.k8s.io/v1\u001b[0m\n",
      "\u001b[32m\u001b[0m\u001b[36mkind\u001b[0m:\u001b[32m RoleBinding\u001b[0m\n",
      "\u001b[32m\u001b[0m\u001b[36mmetadata\u001b[0m:\u001b[36m\u001b[0m\n",
      "\u001b[36m  annotations\u001b[0m:\u001b[36m\u001b[0m\n",
      "\u001b[36m    kubectl.kubernetes.io/last-applied-configuration\u001b[0m: |\n",
      "\u001b[32m      {\"apiVersion\":\"rbac.authorization.k8s.io/v1\",\"kind\":\"RoleBinding\",\"metadata\":{\"annotations\":{},\"name\":\"connector-configuration-role-binding\",\"namespace\":\"kafka-main-cluster\"},\"roleRef\":{\"apiGroup\":\"rbac.authorization.k8s.io\",\"kind\":\"Role\",\"name\":\"connector-configuration-role\"},\"subjects\":[{\"kind\":\"ServiceAccount\",\"name\":\"my-connect-connect\",\"namespace\":\"kafka-main-cluster\"}]}\u001b[0m\n",
      "\u001b[32m  \u001b[0m\u001b[36mcreationTimestamp\u001b[0m:\u001b[32m \"2024-01-31T21:11:15Z\"\u001b[0m\u001b[36m\u001b[0m\n",
      "\u001b[36m  name\u001b[0m:\u001b[32m connector-configuration-role-binding\u001b[0m\n",
      "\u001b[32m  \u001b[0m\u001b[36mnamespace\u001b[0m:\u001b[32m kafka-main-cluster\u001b[0m\n",
      "\u001b[32m  \u001b[0m\u001b[36mresourceVersion\u001b[0m:\u001b[32m \"606514\"\u001b[0m\u001b[36m\u001b[0m\n",
      "\u001b[36m  uid\u001b[0m:\u001b[32m 71900323-e3db-4879-bdf2-c772b891dcf4\u001b[0m\n",
      "\u001b[32m\u001b[0m\u001b[36mroleRef\u001b[0m:\u001b[36m\u001b[0m\n",
      "\u001b[36m  apiGroup\u001b[0m:\u001b[32m rbac.authorization.k8s.io\u001b[0m\n",
      "\u001b[32m  \u001b[0m\u001b[36mkind\u001b[0m:\u001b[32m Role\u001b[0m\n",
      "\u001b[32m  \u001b[0m\u001b[36mname\u001b[0m:\u001b[32m connector-configuration-role\u001b[0m\n",
      "\u001b[32m\u001b[0m\u001b[36msubjects\u001b[0m:\n",
      "  -\u001b[36m kind\u001b[0m:\u001b[32m ServiceAccount\u001b[0m\n",
      "\u001b[32m    \u001b[0m\u001b[36mname\u001b[0m:\u001b[32m my-connect-connect\u001b[0m\n",
      "\u001b[32m    \u001b[0m\u001b[36mnamespace\u001b[0m:\u001b[32m kafka-main-cluster\u001b[0m\n"
     ]
    }
   ],
   "source": [
    "!kubectl -n kafka-main-cluster get rolebinding connector-configuration-role-binding -o yaml | yq"
   ]
  },
  {
   "cell_type": "code",
   "execution_count": 14,
   "id": "15bc6ef6-8462-46c3-8d82-d8e34b1a9489",
   "metadata": {},
   "outputs": [
    {
     "name": "stdout",
     "output_type": "stream",
     "text": [
      "\u001b[36mapiVersion\u001b[0m:\u001b[32m v1\u001b[0m\n",
      "\u001b[32m\u001b[0m\u001b[36mdata\u001b[0m:\u001b[36m\u001b[0m\n",
      "\u001b[36m  password\u001b[0m:\u001b[32m ZGViZXppdW0K\u001b[0m\n",
      "\u001b[32m  \u001b[0m\u001b[36musername\u001b[0m:\u001b[32m ZGViZXppdW0K\u001b[0m\n",
      "\u001b[32m\u001b[0m\u001b[36mkind\u001b[0m:\u001b[32m Secret\u001b[0m\n",
      "\u001b[32m\u001b[0m\u001b[36mmetadata\u001b[0m:\u001b[36m\u001b[0m\n",
      "\u001b[36m  annotations\u001b[0m:\u001b[36m\u001b[0m\n",
      "\u001b[36m    replicator.v1.mittwald.de/replicated-at\u001b[0m:\u001b[32m \"2024-01-31T16:10:45Z\"\u001b[0m\u001b[36m\u001b[0m\n",
      "\u001b[36m    replicator.v1.mittwald.de/replicated-from-version\u001b[0m:\u001b[32m \"19115\"\u001b[0m\u001b[36m\u001b[0m\n",
      "\u001b[36m    replicator.v1.mittwald.de/replicated-keys\u001b[0m:\u001b[32m password,username\u001b[0m\n",
      "\u001b[32m  \u001b[0m\u001b[36mcreationTimestamp\u001b[0m:\u001b[32m \"2024-01-31T16:10:45Z\"\u001b[0m\u001b[36m\u001b[0m\n",
      "\u001b[36m  name\u001b[0m:\u001b[32m postgres-user-debezium\u001b[0m\n",
      "\u001b[32m  \u001b[0m\u001b[36mnamespace\u001b[0m:\u001b[32m kafka-main-cluster\u001b[0m\n",
      "\u001b[32m  \u001b[0m\u001b[36mresourceVersion\u001b[0m:\u001b[32m \"19116\"\u001b[0m\u001b[36m\u001b[0m\n",
      "\u001b[36m  uid\u001b[0m:\u001b[32m 8434a02b-5d8e-42f8-bd19-6947356c3e03\u001b[0m\n",
      "\u001b[32m\u001b[0m\u001b[36mtype\u001b[0m:\u001b[32m Opaque\u001b[0m\n"
     ]
    }
   ],
   "source": [
    "!kubectl -n kafka-main-cluster get secrets postgres-user-debezium -o yaml | yq"
   ]
  },
  {
   "cell_type": "code",
   "execution_count": null,
   "id": "2fa6e0c2-59b9-4fa0-a4c9-dd1b3a7e6ba6",
   "metadata": {},
   "outputs": [],
   "source": []
  }
 ],
 "metadata": {
  "kernelspec": {
   "display_name": "Python 3 (ipykernel)",
   "language": "python",
   "name": "python3"
  },
  "language_info": {
   "codemirror_mode": {
    "name": "ipython",
    "version": 3
   },
   "file_extension": ".py",
   "mimetype": "text/x-python",
   "name": "python",
   "nbconvert_exporter": "python",
   "pygments_lexer": "ipython3",
   "version": "3.10.13"
  }
 },
 "nbformat": 4,
 "nbformat_minor": 5
}
