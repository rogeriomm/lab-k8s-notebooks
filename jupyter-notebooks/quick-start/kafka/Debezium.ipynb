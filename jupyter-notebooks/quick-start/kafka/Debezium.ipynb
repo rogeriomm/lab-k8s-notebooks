{
 "cells": [
  {
   "cell_type": "code",
   "execution_count": 2,
   "id": "ba5f0d85-0a80-4c14-947e-306eb2a34dc9",
   "metadata": {
    "scrolled": true
   },
   "outputs": [
    {
     "name": "stdout",
     "output_type": "stream",
     "text": [
      "\u001b[1;39m[\n",
      "  \u001b[1;39m{\n",
      "    \u001b[0m\u001b[34;1m\"class\"\u001b[0m\u001b[1;39m: \u001b[0m\u001b[0;32m\"com.github.jcustenborder.kafka.connect.redis.RedisSinkConnector\"\u001b[0m\u001b[1;39m,\n",
      "    \u001b[0m\u001b[34;1m\"type\"\u001b[0m\u001b[1;39m: \u001b[0m\u001b[0;32m\"sink\"\u001b[0m\u001b[1;39m,\n",
      "    \u001b[0m\u001b[34;1m\"version\"\u001b[0m\u001b[1;39m: \u001b[0m\u001b[0;32m\"0.0.0.0\"\u001b[0m\u001b[1;39m\n",
      "  \u001b[1;39m}\u001b[0m\u001b[1;39m,\n",
      "  \u001b[1;39m{\n",
      "    \u001b[0m\u001b[34;1m\"class\"\u001b[0m\u001b[1;39m: \u001b[0m\u001b[0;32m\"com.mongodb.kafka.connect.MongoSinkConnector\"\u001b[0m\u001b[1;39m,\n",
      "    \u001b[0m\u001b[34;1m\"type\"\u001b[0m\u001b[1;39m: \u001b[0m\u001b[0;32m\"sink\"\u001b[0m\u001b[1;39m,\n",
      "    \u001b[0m\u001b[34;1m\"version\"\u001b[0m\u001b[1;39m: \u001b[0m\u001b[0;32m\"1.11.1\"\u001b[0m\u001b[1;39m\n",
      "  \u001b[1;39m}\u001b[0m\u001b[1;39m,\n",
      "  \u001b[1;39m{\n",
      "    \u001b[0m\u001b[34;1m\"class\"\u001b[0m\u001b[1;39m: \u001b[0m\u001b[0;32m\"com.splunk.kafka.connect.SplunkSinkConnector\"\u001b[0m\u001b[1;39m,\n",
      "    \u001b[0m\u001b[34;1m\"type\"\u001b[0m\u001b[1;39m: \u001b[0m\u001b[0;32m\"sink\"\u001b[0m\u001b[1;39m,\n",
      "    \u001b[0m\u001b[34;1m\"version\"\u001b[0m\u001b[1;39m: \u001b[0m\u001b[0;32m\"v2.1.1\"\u001b[0m\u001b[1;39m\n",
      "  \u001b[1;39m}\u001b[0m\u001b[1;39m,\n",
      "  \u001b[1;39m{\n",
      "    \u001b[0m\u001b[34;1m\"class\"\u001b[0m\u001b[1;39m: \u001b[0m\u001b[0;32m\"io.confluent.connect.cassandra.CassandraSinkConnector\"\u001b[0m\u001b[1;39m,\n",
      "    \u001b[0m\u001b[34;1m\"type\"\u001b[0m\u001b[1;39m: \u001b[0m\u001b[0;32m\"sink\"\u001b[0m\u001b[1;39m,\n",
      "    \u001b[0m\u001b[34;1m\"version\"\u001b[0m\u001b[1;39m: \u001b[0m\u001b[0;32m\"2.0.6\"\u001b[0m\u001b[1;39m\n",
      "  \u001b[1;39m}\u001b[0m\u001b[1;39m,\n",
      "  \u001b[1;39m{\n",
      "    \u001b[0m\u001b[34;1m\"class\"\u001b[0m\u001b[1;39m: \u001b[0m\u001b[0;32m\"io.confluent.connect.elasticsearch.ElasticsearchSinkConnector\"\u001b[0m\u001b[1;39m,\n",
      "    \u001b[0m\u001b[34;1m\"type\"\u001b[0m\u001b[1;39m: \u001b[0m\u001b[0;32m\"sink\"\u001b[0m\u001b[1;39m,\n",
      "    \u001b[0m\u001b[34;1m\"version\"\u001b[0m\u001b[1;39m: \u001b[0m\u001b[0;32m\"14.0.12\"\u001b[0m\u001b[1;39m\n",
      "  \u001b[1;39m}\u001b[0m\u001b[1;39m,\n",
      "  \u001b[1;39m{\n",
      "    \u001b[0m\u001b[34;1m\"class\"\u001b[0m\u001b[1;39m: \u001b[0m\u001b[0;32m\"io.confluent.connect.http.HttpSinkConnector\"\u001b[0m\u001b[1;39m,\n",
      "    \u001b[0m\u001b[34;1m\"type\"\u001b[0m\u001b[1;39m: \u001b[0m\u001b[0;32m\"sink\"\u001b[0m\u001b[1;39m,\n",
      "    \u001b[0m\u001b[34;1m\"version\"\u001b[0m\u001b[1;39m: \u001b[0m\u001b[0;32m\"1.7.5\"\u001b[0m\u001b[1;39m\n",
      "  \u001b[1;39m}\u001b[0m\u001b[1;39m,\n",
      "  \u001b[1;39m{\n",
      "    \u001b[0m\u001b[34;1m\"class\"\u001b[0m\u001b[1;39m: \u001b[0m\u001b[0;32m\"io.confluent.connect.mqtt.MqttSinkConnector\"\u001b[0m\u001b[1;39m,\n",
      "    \u001b[0m\u001b[34;1m\"type\"\u001b[0m\u001b[1;39m: \u001b[0m\u001b[0;32m\"sink\"\u001b[0m\u001b[1;39m,\n",
      "    \u001b[0m\u001b[34;1m\"version\"\u001b[0m\u001b[1;39m: \u001b[0m\u001b[0;32m\"1.7.2\"\u001b[0m\u001b[1;39m\n",
      "  \u001b[1;39m}\u001b[0m\u001b[1;39m,\n",
      "  \u001b[1;39m{\n",
      "    \u001b[0m\u001b[34;1m\"class\"\u001b[0m\u001b[1;39m: \u001b[0m\u001b[0;32m\"io.confluent.connect.s3.S3SinkConnector\"\u001b[0m\u001b[1;39m,\n",
      "    \u001b[0m\u001b[34;1m\"type\"\u001b[0m\u001b[1;39m: \u001b[0m\u001b[0;32m\"sink\"\u001b[0m\u001b[1;39m,\n",
      "    \u001b[0m\u001b[34;1m\"version\"\u001b[0m\u001b[1;39m: \u001b[0m\u001b[0;32m\"10.5.7\"\u001b[0m\u001b[1;39m\n",
      "  \u001b[1;39m}\u001b[0m\u001b[1;39m,\n",
      "  \u001b[1;39m{\n",
      "    \u001b[0m\u001b[34;1m\"class\"\u001b[0m\u001b[1;39m: \u001b[0m\u001b[0;32m\"io.confluent.connect.sftp.SftpSinkConnector\"\u001b[0m\u001b[1;39m,\n",
      "    \u001b[0m\u001b[34;1m\"type\"\u001b[0m\u001b[1;39m: \u001b[0m\u001b[0;32m\"sink\"\u001b[0m\u001b[1;39m,\n",
      "    \u001b[0m\u001b[34;1m\"version\"\u001b[0m\u001b[1;39m: \u001b[0m\u001b[0;32m\"unknown\"\u001b[0m\u001b[1;39m\n",
      "  \u001b[1;39m}\u001b[0m\u001b[1;39m,\n",
      "  \u001b[1;39m{\n",
      "    \u001b[0m\u001b[34;1m\"class\"\u001b[0m\u001b[1;39m: \u001b[0m\u001b[0;32m\"io.confluent.influxdb.InfluxDBSinkConnector\"\u001b[0m\u001b[1;39m,\n",
      "    \u001b[0m\u001b[34;1m\"type\"\u001b[0m\u001b[1;39m: \u001b[0m\u001b[0;32m\"sink\"\u001b[0m\u001b[1;39m,\n",
      "    \u001b[0m\u001b[34;1m\"version\"\u001b[0m\u001b[1;39m: \u001b[0m\u001b[0;32m\"unknown\"\u001b[0m\u001b[1;39m\n",
      "  \u001b[1;39m}\u001b[0m\u001b[1;39m,\n",
      "  \u001b[1;39m{\n",
      "    \u001b[0m\u001b[34;1m\"class\"\u001b[0m\u001b[1;39m: \u001b[0m\u001b[0;32m\"streams.kafka.connect.sink.Neo4jSinkConnector\"\u001b[0m\u001b[1;39m,\n",
      "    \u001b[0m\u001b[34;1m\"type\"\u001b[0m\u001b[1;39m: \u001b[0m\u001b[0;32m\"sink\"\u001b[0m\u001b[1;39m,\n",
      "    \u001b[0m\u001b[34;1m\"version\"\u001b[0m\u001b[1;39m: \u001b[0m\u001b[0;32m\"5.0.3\"\u001b[0m\u001b[1;39m\n",
      "  \u001b[1;39m}\u001b[0m\u001b[1;39m,\n",
      "  \u001b[1;39m{\n",
      "    \u001b[0m\u001b[34;1m\"class\"\u001b[0m\u001b[1;39m: \u001b[0m\u001b[0;32m\"com.github.jcustenborder.kafka.connect.twitter.TwitterSourceConnector\"\u001b[0m\u001b[1;39m,\n",
      "    \u001b[0m\u001b[34;1m\"type\"\u001b[0m\u001b[1;39m: \u001b[0m\u001b[0;32m\"source\"\u001b[0m\u001b[1;39m,\n",
      "    \u001b[0m\u001b[34;1m\"version\"\u001b[0m\u001b[1;39m: \u001b[0m\u001b[0;32m\"0.0.0.0\"\u001b[0m\u001b[1;39m\n",
      "  \u001b[1;39m}\u001b[0m\u001b[1;39m,\n",
      "  \u001b[1;39m{\n",
      "    \u001b[0m\u001b[34;1m\"class\"\u001b[0m\u001b[1;39m: \u001b[0m\u001b[0;32m\"com.mongodb.kafka.connect.MongoSourceConnector\"\u001b[0m\u001b[1;39m,\n",
      "    \u001b[0m\u001b[34;1m\"type\"\u001b[0m\u001b[1;39m: \u001b[0m\u001b[0;32m\"source\"\u001b[0m\u001b[1;39m,\n",
      "    \u001b[0m\u001b[34;1m\"version\"\u001b[0m\u001b[1;39m: \u001b[0m\u001b[0;32m\"1.11.1\"\u001b[0m\u001b[1;39m\n",
      "  \u001b[1;39m}\u001b[0m\u001b[1;39m,\n",
      "  \u001b[1;39m{\n",
      "    \u001b[0m\u001b[34;1m\"class\"\u001b[0m\u001b[1;39m: \u001b[0m\u001b[0;32m\"io.confluent.connect.mqtt.MqttSourceConnector\"\u001b[0m\u001b[1;39m,\n",
      "    \u001b[0m\u001b[34;1m\"type\"\u001b[0m\u001b[1;39m: \u001b[0m\u001b[0;32m\"source\"\u001b[0m\u001b[1;39m,\n",
      "    \u001b[0m\u001b[34;1m\"version\"\u001b[0m\u001b[1;39m: \u001b[0m\u001b[0;32m\"1.7.2\"\u001b[0m\u001b[1;39m\n",
      "  \u001b[1;39m}\u001b[0m\u001b[1;39m,\n",
      "  \u001b[1;39m{\n",
      "    \u001b[0m\u001b[34;1m\"class\"\u001b[0m\u001b[1;39m: \u001b[0m\u001b[0;32m\"io.confluent.connect.rabbitmq.RabbitMQSourceConnector\"\u001b[0m\u001b[1;39m,\n",
      "    \u001b[0m\u001b[34;1m\"type\"\u001b[0m\u001b[1;39m: \u001b[0m\u001b[0;32m\"source\"\u001b[0m\u001b[1;39m,\n",
      "    \u001b[0m\u001b[34;1m\"version\"\u001b[0m\u001b[1;39m: \u001b[0m\u001b[0;32m\"1.7.9\"\u001b[0m\u001b[1;39m\n",
      "  \u001b[1;39m}\u001b[0m\u001b[1;39m,\n",
      "  \u001b[1;39m{\n",
      "    \u001b[0m\u001b[34;1m\"class\"\u001b[0m\u001b[1;39m: \u001b[0m\u001b[0;32m\"io.confluent.connect.replicator.ReplicatorSourceConnector\"\u001b[0m\u001b[1;39m,\n",
      "    \u001b[0m\u001b[34;1m\"type\"\u001b[0m\u001b[1;39m: \u001b[0m\u001b[0;32m\"source\"\u001b[0m\u001b[1;39m,\n",
      "    \u001b[0m\u001b[34;1m\"version\"\u001b[0m\u001b[1;39m: \u001b[0m\u001b[0;32m\"7.5.3\"\u001b[0m\u001b[1;39m\n",
      "  \u001b[1;39m}\u001b[0m\u001b[1;39m,\n",
      "  \u001b[1;39m{\n",
      "    \u001b[0m\u001b[34;1m\"class\"\u001b[0m\u001b[1;39m: \u001b[0m\u001b[0;32m\"io.confluent.connect.s3.source.S3SourceConnector\"\u001b[0m\u001b[1;39m,\n",
      "    \u001b[0m\u001b[34;1m\"type\"\u001b[0m\u001b[1;39m: \u001b[0m\u001b[0;32m\"source\"\u001b[0m\u001b[1;39m,\n",
      "    \u001b[0m\u001b[34;1m\"version\"\u001b[0m\u001b[1;39m: \u001b[0m\u001b[0;32m\"2.5.10\"\u001b[0m\u001b[1;39m\n",
      "  \u001b[1;39m}\u001b[0m\u001b[1;39m,\n",
      "  \u001b[1;39m{\n",
      "    \u001b[0m\u001b[34;1m\"class\"\u001b[0m\u001b[1;39m: \u001b[0m\u001b[0;32m\"io.confluent.connect.sftp.SftpBinaryFileSourceConnector\"\u001b[0m\u001b[1;39m,\n",
      "    \u001b[0m\u001b[34;1m\"type\"\u001b[0m\u001b[1;39m: \u001b[0m\u001b[0;32m\"source\"\u001b[0m\u001b[1;39m,\n",
      "    \u001b[0m\u001b[34;1m\"version\"\u001b[0m\u001b[1;39m: \u001b[0m\u001b[0;32m\"0.0.0.0\"\u001b[0m\u001b[1;39m\n",
      "  \u001b[1;39m}\u001b[0m\u001b[1;39m,\n",
      "  \u001b[1;39m{\n",
      "    \u001b[0m\u001b[34;1m\"class\"\u001b[0m\u001b[1;39m: \u001b[0m\u001b[0;32m\"io.confluent.connect.sftp.SftpCsvSourceConnector\"\u001b[0m\u001b[1;39m,\n",
      "    \u001b[0m\u001b[34;1m\"type\"\u001b[0m\u001b[1;39m: \u001b[0m\u001b[0;32m\"source\"\u001b[0m\u001b[1;39m,\n",
      "    \u001b[0m\u001b[34;1m\"version\"\u001b[0m\u001b[1;39m: \u001b[0m\u001b[0;32m\"0.0.0.0\"\u001b[0m\u001b[1;39m\n",
      "  \u001b[1;39m}\u001b[0m\u001b[1;39m,\n",
      "  \u001b[1;39m{\n",
      "    \u001b[0m\u001b[34;1m\"class\"\u001b[0m\u001b[1;39m: \u001b[0m\u001b[0;32m\"io.confluent.connect.sftp.SftpGenericSourceConnector\"\u001b[0m\u001b[1;39m,\n",
      "    \u001b[0m\u001b[34;1m\"type\"\u001b[0m\u001b[1;39m: \u001b[0m\u001b[0;32m\"source\"\u001b[0m\u001b[1;39m,\n",
      "    \u001b[0m\u001b[34;1m\"version\"\u001b[0m\u001b[1;39m: \u001b[0m\u001b[0;32m\"0.0.0.0\"\u001b[0m\u001b[1;39m\n",
      "  \u001b[1;39m}\u001b[0m\u001b[1;39m,\n",
      "  \u001b[1;39m{\n",
      "    \u001b[0m\u001b[34;1m\"class\"\u001b[0m\u001b[1;39m: \u001b[0m\u001b[0;32m\"io.confluent.connect.sftp.SftpJsonSourceConnector\"\u001b[0m\u001b[1;39m,\n",
      "    \u001b[0m\u001b[34;1m\"type\"\u001b[0m\u001b[1;39m: \u001b[0m\u001b[0;32m\"source\"\u001b[0m\u001b[1;39m,\n",
      "    \u001b[0m\u001b[34;1m\"version\"\u001b[0m\u001b[1;39m: \u001b[0m\u001b[0;32m\"0.0.0.0\"\u001b[0m\u001b[1;39m\n",
      "  \u001b[1;39m}\u001b[0m\u001b[1;39m,\n",
      "  \u001b[1;39m{\n",
      "    \u001b[0m\u001b[34;1m\"class\"\u001b[0m\u001b[1;39m: \u001b[0m\u001b[0;32m\"io.confluent.connect.sftp.SftpSchemaLessJsonSourceConnector\"\u001b[0m\u001b[1;39m,\n",
      "    \u001b[0m\u001b[34;1m\"type\"\u001b[0m\u001b[1;39m: \u001b[0m\u001b[0;32m\"source\"\u001b[0m\u001b[1;39m,\n",
      "    \u001b[0m\u001b[34;1m\"version\"\u001b[0m\u001b[1;39m: \u001b[0m\u001b[0;32m\"0.0.0.0\"\u001b[0m\u001b[1;39m\n",
      "  \u001b[1;39m}\u001b[0m\u001b[1;39m,\n",
      "  \u001b[1;39m{\n",
      "    \u001b[0m\u001b[34;1m\"class\"\u001b[0m\u001b[1;39m: \u001b[0m\u001b[0;32m\"io.confluent.connect.storage.tools.SchemaSourceConnector\"\u001b[0m\u001b[1;39m,\n",
      "    \u001b[0m\u001b[34;1m\"type\"\u001b[0m\u001b[1;39m: \u001b[0m\u001b[0;32m\"source\"\u001b[0m\u001b[1;39m,\n",
      "    \u001b[0m\u001b[34;1m\"version\"\u001b[0m\u001b[1;39m: \u001b[0m\u001b[0;32m\"3.6.1\"\u001b[0m\u001b[1;39m\n",
      "  \u001b[1;39m}\u001b[0m\u001b[1;39m,\n",
      "  \u001b[1;39m{\n",
      "    \u001b[0m\u001b[34;1m\"class\"\u001b[0m\u001b[1;39m: \u001b[0m\u001b[0;32m\"io.confluent.influxdb.source.InfluxdbSourceConnector\"\u001b[0m\u001b[1;39m,\n",
      "    \u001b[0m\u001b[34;1m\"type\"\u001b[0m\u001b[1;39m: \u001b[0m\u001b[0;32m\"source\"\u001b[0m\u001b[1;39m,\n",
      "    \u001b[0m\u001b[34;1m\"version\"\u001b[0m\u001b[1;39m: \u001b[0m\u001b[0;32m\"1.2.9\"\u001b[0m\u001b[1;39m\n",
      "  \u001b[1;39m}\u001b[0m\u001b[1;39m,\n",
      "  \u001b[1;39m{\n",
      "    \u001b[0m\u001b[34;1m\"class\"\u001b[0m\u001b[1;39m: \u001b[0m\u001b[0;32m\"io.debezium.connector.mongodb.MongoDbConnector\"\u001b[0m\u001b[1;39m,\n",
      "    \u001b[0m\u001b[34;1m\"type\"\u001b[0m\u001b[1;39m: \u001b[0m\u001b[0;32m\"source\"\u001b[0m\u001b[1;39m,\n",
      "    \u001b[0m\u001b[34;1m\"version\"\u001b[0m\u001b[1;39m: \u001b[0m\u001b[0;32m\"2.2.1.Final\"\u001b[0m\u001b[1;39m\n",
      "  \u001b[1;39m}\u001b[0m\u001b[1;39m,\n",
      "  \u001b[1;39m{\n",
      "    \u001b[0m\u001b[34;1m\"class\"\u001b[0m\u001b[1;39m: \u001b[0m\u001b[0;32m\"io.debezium.connector.mysql.MySqlConnector\"\u001b[0m\u001b[1;39m,\n",
      "    \u001b[0m\u001b[34;1m\"type\"\u001b[0m\u001b[1;39m: \u001b[0m\u001b[0;32m\"source\"\u001b[0m\u001b[1;39m,\n",
      "    \u001b[0m\u001b[34;1m\"version\"\u001b[0m\u001b[1;39m: \u001b[0m\u001b[0;32m\"2.2.1.Final\"\u001b[0m\u001b[1;39m\n",
      "  \u001b[1;39m}\u001b[0m\u001b[1;39m,\n",
      "  \u001b[1;39m{\n",
      "    \u001b[0m\u001b[34;1m\"class\"\u001b[0m\u001b[1;39m: \u001b[0m\u001b[0;32m\"io.debezium.connector.postgresql.PostgresConnector\"\u001b[0m\u001b[1;39m,\n",
      "    \u001b[0m\u001b[34;1m\"type\"\u001b[0m\u001b[1;39m: \u001b[0m\u001b[0;32m\"source\"\u001b[0m\u001b[1;39m,\n",
      "    \u001b[0m\u001b[34;1m\"version\"\u001b[0m\u001b[1;39m: \u001b[0m\u001b[0;32m\"2.2.1.Final\"\u001b[0m\u001b[1;39m\n",
      "  \u001b[1;39m}\u001b[0m\u001b[1;39m,\n",
      "  \u001b[1;39m{\n",
      "    \u001b[0m\u001b[34;1m\"class\"\u001b[0m\u001b[1;39m: \u001b[0m\u001b[0;32m\"io.debezium.connector.sqlserver.SqlServerConnector\"\u001b[0m\u001b[1;39m,\n",
      "    \u001b[0m\u001b[34;1m\"type\"\u001b[0m\u001b[1;39m: \u001b[0m\u001b[0;32m\"source\"\u001b[0m\u001b[1;39m,\n",
      "    \u001b[0m\u001b[34;1m\"version\"\u001b[0m\u001b[1;39m: \u001b[0m\u001b[0;32m\"2.5.0.Final\"\u001b[0m\u001b[1;39m\n",
      "  \u001b[1;39m}\u001b[0m\u001b[1;39m,\n",
      "  \u001b[1;39m{\n",
      "    \u001b[0m\u001b[34;1m\"class\"\u001b[0m\u001b[1;39m: \u001b[0m\u001b[0;32m\"org.apache.kafka.connect.mirror.MirrorCheckpointConnector\"\u001b[0m\u001b[1;39m,\n",
      "    \u001b[0m\u001b[34;1m\"type\"\u001b[0m\u001b[1;39m: \u001b[0m\u001b[0;32m\"source\"\u001b[0m\u001b[1;39m,\n",
      "    \u001b[0m\u001b[34;1m\"version\"\u001b[0m\u001b[1;39m: \u001b[0m\u001b[0;32m\"3.6.1\"\u001b[0m\u001b[1;39m\n",
      "  \u001b[1;39m}\u001b[0m\u001b[1;39m,\n",
      "  \u001b[1;39m{\n",
      "    \u001b[0m\u001b[34;1m\"class\"\u001b[0m\u001b[1;39m: \u001b[0m\u001b[0;32m\"org.apache.kafka.connect.mirror.MirrorHeartbeatConnector\"\u001b[0m\u001b[1;39m,\n",
      "    \u001b[0m\u001b[34;1m\"type\"\u001b[0m\u001b[1;39m: \u001b[0m\u001b[0;32m\"source\"\u001b[0m\u001b[1;39m,\n",
      "    \u001b[0m\u001b[34;1m\"version\"\u001b[0m\u001b[1;39m: \u001b[0m\u001b[0;32m\"3.6.1\"\u001b[0m\u001b[1;39m\n",
      "  \u001b[1;39m}\u001b[0m\u001b[1;39m,\n",
      "  \u001b[1;39m{\n",
      "    \u001b[0m\u001b[34;1m\"class\"\u001b[0m\u001b[1;39m: \u001b[0m\u001b[0;32m\"org.apache.kafka.connect.mirror.MirrorSourceConnector\"\u001b[0m\u001b[1;39m,\n",
      "    \u001b[0m\u001b[34;1m\"type\"\u001b[0m\u001b[1;39m: \u001b[0m\u001b[0;32m\"source\"\u001b[0m\u001b[1;39m,\n",
      "    \u001b[0m\u001b[34;1m\"version\"\u001b[0m\u001b[1;39m: \u001b[0m\u001b[0;32m\"3.6.1\"\u001b[0m\u001b[1;39m\n",
      "  \u001b[1;39m}\u001b[0m\u001b[1;39m,\n",
      "  \u001b[1;39m{\n",
      "    \u001b[0m\u001b[34;1m\"class\"\u001b[0m\u001b[1;39m: \u001b[0m\u001b[0;32m\"streams.kafka.connect.source.Neo4jSourceConnector\"\u001b[0m\u001b[1;39m,\n",
      "    \u001b[0m\u001b[34;1m\"type\"\u001b[0m\u001b[1;39m: \u001b[0m\u001b[0;32m\"source\"\u001b[0m\u001b[1;39m,\n",
      "    \u001b[0m\u001b[34;1m\"version\"\u001b[0m\u001b[1;39m: \u001b[0m\u001b[0;32m\"5.0.3\"\u001b[0m\u001b[1;39m\n",
      "  \u001b[1;39m}\u001b[0m\u001b[1;39m\n",
      "\u001b[1;39m]\u001b[0m\n"
     ]
    }
   ],
   "source": [
    "!curl -s -H \"Accept:application/json\" http://my-connect-connect-api.kafka-main-cluster.svc:8083/connector-plugins/ | jq"
   ]
  },
  {
   "cell_type": "code",
   "execution_count": 3,
   "id": "d5cf1859-1f21-4b18-ac67-a535ce578ce4",
   "metadata": {},
   "outputs": [
    {
     "name": "stdout",
     "output_type": "stream",
     "text": [
      "\u001b[1;39m{\n",
      "  \u001b[0m\u001b[34;1m\"error_code\"\u001b[0m\u001b[1;39m: \u001b[0m\u001b[0;39m405\u001b[0m\u001b[1;39m,\n",
      "  \u001b[0m\u001b[34;1m\"message\"\u001b[0m\u001b[1;39m: \u001b[0m\u001b[0;32m\"HTTP 405 Method Not Allowed\"\u001b[0m\u001b[1;39m\n",
      "\u001b[1;39m}\u001b[0m\n"
     ]
    }
   ],
   "source": [
    "!curl -s -H \"Accept:application/json\" http://my-connect-connect-api.kafka-main-cluster.svc:8083/connector-plugins/source/config/validate | jq"
   ]
  },
  {
   "cell_type": "code",
   "execution_count": 4,
   "id": "9c13758e-dc92-41bc-9772-b12a02885238",
   "metadata": {},
   "outputs": [
    {
     "name": "stdout",
     "output_type": "stream",
     "text": [
      "\u001b[36mapiVersion\u001b[0m:\u001b[32m v1\u001b[0m\n",
      "\u001b[32m\u001b[0m\u001b[36mkind\u001b[0m:\u001b[32m ServiceAccount\u001b[0m\n",
      "\u001b[32m\u001b[0m\u001b[36mmetadata\u001b[0m:\u001b[36m\u001b[0m\n",
      "\u001b[36m  annotations\u001b[0m:\u001b[36m\u001b[0m\n",
      "\u001b[36m    meta.helm.sh/release-name\u001b[0m:\u001b[32m strimzi-cluster-operator\u001b[0m\n",
      "\u001b[32m    \u001b[0m\u001b[36mmeta.helm.sh/release-namespace\u001b[0m:\u001b[32m kafka\u001b[0m\n",
      "\u001b[32m  \u001b[0m\u001b[36mcreationTimestamp\u001b[0m:\u001b[32m \"2024-02-07T10:53:15Z\"\u001b[0m\u001b[36m\u001b[0m\n",
      "\u001b[36m  labels\u001b[0m:\u001b[36m\u001b[0m\n",
      "\u001b[36m    app\u001b[0m:\u001b[32m strimzi\u001b[0m\n",
      "\u001b[32m    \u001b[0m\u001b[36mapp.kubernetes.io/managed-by\u001b[0m:\u001b[32m Helm\u001b[0m\n",
      "\u001b[32m    \u001b[0m\u001b[36mchart\u001b[0m:\u001b[32m strimzi-kafka-operator-0.39.0\u001b[0m\n",
      "\u001b[32m    \u001b[0m\u001b[36mcomponent\u001b[0m:\u001b[32m service-account\u001b[0m\n",
      "\u001b[32m    \u001b[0m\u001b[36mheritage\u001b[0m:\u001b[32m Helm\u001b[0m\n",
      "\u001b[32m    \u001b[0m\u001b[36mrelease\u001b[0m:\u001b[32m strimzi-cluster-operator\u001b[0m\n",
      "\u001b[32m  \u001b[0m\u001b[36mname\u001b[0m:\u001b[32m strimzi-cluster-operator\u001b[0m\n",
      "\u001b[32m  \u001b[0m\u001b[36mnamespace\u001b[0m:\u001b[32m kafka\u001b[0m\n",
      "\u001b[32m  \u001b[0m\u001b[36mresourceVersion\u001b[0m:\u001b[32m \"8226\"\u001b[0m\u001b[36m\u001b[0m\n",
      "\u001b[36m  uid\u001b[0m:\u001b[32m 07c058df-040a-4760-be1a-aeda5f12bc84\u001b[0m\n"
     ]
    }
   ],
   "source": [
    "!kubectl -n kafka get serviceaccount strimzi-cluster-operator -o yaml | yq"
   ]
  },
  {
   "cell_type": "code",
   "execution_count": 5,
   "id": "f5dc7218-8034-47e1-9ce4-e1b9b54a84e2",
   "metadata": {},
   "outputs": [
    {
     "name": "stdout",
     "output_type": "stream",
     "text": [
      "\u001b[36mapiVersion\u001b[0m:\u001b[32m v1\u001b[0m\n",
      "\u001b[32m\u001b[0m\u001b[36mitems\u001b[0m: []\u001b[36m\u001b[0m\n",
      "\u001b[36mkind\u001b[0m:\u001b[32m List\u001b[0m\n",
      "\u001b[32m\u001b[0m\u001b[36mmetadata\u001b[0m:\u001b[36m\u001b[0m\n",
      "\u001b[36m  resourceVersion\u001b[0m:\u001b[32m \"\"\u001b[0m\n"
     ]
    }
   ],
   "source": [
    "!kubectl -n kafka get roles -o yaml | yq"
   ]
  },
  {
   "cell_type": "code",
   "execution_count": 6,
   "id": "e5264eea-6140-4764-b2ad-237461206e0b",
   "metadata": {},
   "outputs": [
    {
     "name": "stdout",
     "output_type": "stream",
     "text": [
      "\u001b[36mapiVersion\u001b[0m:\u001b[32m rbac.authorization.k8s.io/v1\u001b[0m\n",
      "\u001b[32m\u001b[0m\u001b[36mkind\u001b[0m:\u001b[32m RoleBinding\u001b[0m\n",
      "\u001b[32m\u001b[0m\u001b[36mmetadata\u001b[0m:\u001b[36m\u001b[0m\n",
      "\u001b[36m  annotations\u001b[0m:\u001b[36m\u001b[0m\n",
      "\u001b[36m    meta.helm.sh/release-name\u001b[0m:\u001b[32m strimzi-cluster-operator\u001b[0m\n",
      "\u001b[32m    \u001b[0m\u001b[36mmeta.helm.sh/release-namespace\u001b[0m:\u001b[32m kafka\u001b[0m\n",
      "\u001b[32m  \u001b[0m\u001b[36mcreationTimestamp\u001b[0m:\u001b[32m \"2024-02-07T10:53:15Z\"\u001b[0m\u001b[36m\u001b[0m\n",
      "\u001b[36m  labels\u001b[0m:\u001b[36m\u001b[0m\n",
      "\u001b[36m    app\u001b[0m:\u001b[32m strimzi\u001b[0m\n",
      "\u001b[32m    \u001b[0m\u001b[36mapp.kubernetes.io/managed-by\u001b[0m:\u001b[32m Helm\u001b[0m\n",
      "\u001b[32m    \u001b[0m\u001b[36mchart\u001b[0m:\u001b[32m strimzi-kafka-operator-0.39.0\u001b[0m\n",
      "\u001b[32m    \u001b[0m\u001b[36mcomponent\u001b[0m:\u001b[32m role-binding\u001b[0m\n",
      "\u001b[32m    \u001b[0m\u001b[36mheritage\u001b[0m:\u001b[32m Helm\u001b[0m\n",
      "\u001b[32m    \u001b[0m\u001b[36mrelease\u001b[0m:\u001b[32m strimzi-cluster-operator\u001b[0m\n",
      "\u001b[32m  \u001b[0m\u001b[36mname\u001b[0m:\u001b[32m strimzi-cluster-operator\u001b[0m\n",
      "\u001b[32m  \u001b[0m\u001b[36mnamespace\u001b[0m:\u001b[32m kafka\u001b[0m\n",
      "\u001b[32m  \u001b[0m\u001b[36mresourceVersion\u001b[0m:\u001b[32m \"8253\"\u001b[0m\u001b[36m\u001b[0m\n",
      "\u001b[36m  uid\u001b[0m:\u001b[32m ce51d217-e975-4c11-adf4-0a46ca442af4\u001b[0m\n",
      "\u001b[32m\u001b[0m\u001b[36mroleRef\u001b[0m:\u001b[36m\u001b[0m\n",
      "\u001b[36m  apiGroup\u001b[0m:\u001b[32m rbac.authorization.k8s.io\u001b[0m\n",
      "\u001b[32m  \u001b[0m\u001b[36mkind\u001b[0m:\u001b[32m ClusterRole\u001b[0m\n",
      "\u001b[32m  \u001b[0m\u001b[36mname\u001b[0m:\u001b[32m strimzi-cluster-operator-namespaced\u001b[0m\n",
      "\u001b[32m\u001b[0m\u001b[36msubjects\u001b[0m:\n",
      "  -\u001b[36m kind\u001b[0m:\u001b[32m ServiceAccount\u001b[0m\n",
      "\u001b[32m    \u001b[0m\u001b[36mname\u001b[0m:\u001b[32m strimzi-cluster-operator\u001b[0m\n",
      "\u001b[32m    \u001b[0m\u001b[36mnamespace\u001b[0m:\u001b[32m kafka\u001b[0m\n"
     ]
    }
   ],
   "source": [
    "!kubectl -n kafka get rolebinding  strimzi-cluster-operator -o yaml | yq"
   ]
  },
  {
   "cell_type": "code",
   "execution_count": null,
   "id": "31f7100b-c724-4610-9e4d-d95d86be11a6",
   "metadata": {},
   "outputs": [],
   "source": []
  },
  {
   "cell_type": "markdown",
   "id": "41784c41-ad3f-4676-b8d4-428c9f99160c",
   "metadata": {},
   "source": [
    "# Using Kubernetes Configuration Provider to load data from Secrets and Config Maps\n",
    "   * https://strimzi.io/blog/2021/07/22/using-kubernetes-config-provider-to-load-data-from-secrets-and-config-maps/"
   ]
  },
  {
   "cell_type": "code",
   "execution_count": 38,
   "id": "bd31c414-f8a8-439f-9f2e-dec8c73b29a6",
   "metadata": {},
   "outputs": [
    {
     "name": "stdout",
     "output_type": "stream",
     "text": [
      "\u001b[36mapiVersion\u001b[0m:\u001b[32m rbac.authorization.k8s.io/v1\u001b[0m\n",
      "\u001b[32m\u001b[0m\u001b[36mkind\u001b[0m:\u001b[32m Role\u001b[0m\n",
      "\u001b[32m\u001b[0m\u001b[36mmetadata\u001b[0m:\u001b[36m\u001b[0m\n",
      "\u001b[36m  annotations\u001b[0m:\u001b[36m\u001b[0m\n",
      "\u001b[36m    kubectl.kubernetes.io/last-applied-configuration\u001b[0m: |\n",
      "\u001b[32m      {\"apiVersion\":\"rbac.authorization.k8s.io/v1\",\"kind\":\"Role\",\"metadata\":{\"annotations\":{},\"name\":\"connector-configuration-role\",\"namespace\":\"kafka-main-cluster\"},\"rules\":[{\"apiGroups\":[\"\"],\"resourceNames\":[\"postgres-user-debezium\",\"sqlserver-user-debezium\"],\"resources\":[\"secrets\"],\"verbs\":[\"get\"]}]}\u001b[0m\n",
      "\u001b[32m  \u001b[0m\u001b[36mcreationTimestamp\u001b[0m:\u001b[32m \"2024-02-07T10:54:26Z\"\u001b[0m\u001b[36m\u001b[0m\n",
      "\u001b[36m  name\u001b[0m:\u001b[32m connector-configuration-role\u001b[0m\n",
      "\u001b[32m  \u001b[0m\u001b[36mnamespace\u001b[0m:\u001b[32m kafka-main-cluster\u001b[0m\n",
      "\u001b[32m  \u001b[0m\u001b[36mresourceVersion\u001b[0m:\u001b[32m \"8739\"\u001b[0m\u001b[36m\u001b[0m\n",
      "\u001b[36m  uid\u001b[0m:\u001b[32m 93858122-9f56-4696-a632-ef8099cf283e\u001b[0m\n",
      "\u001b[32m\u001b[0m\u001b[36mrules\u001b[0m:\n",
      "  -\u001b[36m apiGroups\u001b[0m:\n",
      "      -\u001b[32m \"\"\u001b[0m\u001b[36m\u001b[0m\n",
      "\u001b[36m    resourceNames\u001b[0m:\n",
      "      -\u001b[32m postgres-user-debezium\u001b[0m\n",
      "\u001b[32m      \u001b[0m-\u001b[32m sqlserver-user-debezium\u001b[0m\n",
      "\u001b[32m    \u001b[0m\u001b[36mresources\u001b[0m:\n",
      "      -\u001b[32m secrets\u001b[0m\n",
      "\u001b[32m    \u001b[0m\u001b[36mverbs\u001b[0m:\n",
      "      -\u001b[32m get\u001b[0m\n"
     ]
    }
   ],
   "source": [
    "!kubectl -n kafka-main-cluster get role connector-configuration-role -o yaml | yq"
   ]
  },
  {
   "cell_type": "code",
   "execution_count": 39,
   "id": "55193e8c-ff02-4bd1-a6ce-d27d0ee0fa6b",
   "metadata": {
    "scrolled": true
   },
   "outputs": [
    {
     "name": "stdout",
     "output_type": "stream",
     "text": [
      "\u001b[36mapiVersion\u001b[0m:\u001b[32m rbac.authorization.k8s.io/v1\u001b[0m\n",
      "\u001b[32m\u001b[0m\u001b[36mkind\u001b[0m:\u001b[32m RoleBinding\u001b[0m\n",
      "\u001b[32m\u001b[0m\u001b[36mmetadata\u001b[0m:\u001b[36m\u001b[0m\n",
      "\u001b[36m  annotations\u001b[0m:\u001b[36m\u001b[0m\n",
      "\u001b[36m    kubectl.kubernetes.io/last-applied-configuration\u001b[0m: |\n",
      "\u001b[32m      {\"apiVersion\":\"rbac.authorization.k8s.io/v1\",\"kind\":\"RoleBinding\",\"metadata\":{\"annotations\":{},\"name\":\"connector-configuration-role-binding\",\"namespace\":\"kafka-main-cluster\"},\"roleRef\":{\"apiGroup\":\"rbac.authorization.k8s.io\",\"kind\":\"Role\",\"name\":\"connector-configuration-role\"},\"subjects\":[{\"kind\":\"ServiceAccount\",\"name\":\"my-connect-connect\",\"namespace\":\"kafka-main-cluster\"}]}\u001b[0m\n",
      "\u001b[32m  \u001b[0m\u001b[36mcreationTimestamp\u001b[0m:\u001b[32m \"2024-02-07T10:54:26Z\"\u001b[0m\u001b[36m\u001b[0m\n",
      "\u001b[36m  name\u001b[0m:\u001b[32m connector-configuration-role-binding\u001b[0m\n",
      "\u001b[32m  \u001b[0m\u001b[36mnamespace\u001b[0m:\u001b[32m kafka-main-cluster\u001b[0m\n",
      "\u001b[32m  \u001b[0m\u001b[36mresourceVersion\u001b[0m:\u001b[32m \"8742\"\u001b[0m\u001b[36m\u001b[0m\n",
      "\u001b[36m  uid\u001b[0m:\u001b[32m 42b135a2-d412-434a-af75-0693b0108003\u001b[0m\n",
      "\u001b[32m\u001b[0m\u001b[36mroleRef\u001b[0m:\u001b[36m\u001b[0m\n",
      "\u001b[36m  apiGroup\u001b[0m:\u001b[32m rbac.authorization.k8s.io\u001b[0m\n",
      "\u001b[32m  \u001b[0m\u001b[36mkind\u001b[0m:\u001b[32m Role\u001b[0m\n",
      "\u001b[32m  \u001b[0m\u001b[36mname\u001b[0m:\u001b[32m connector-configuration-role\u001b[0m\n",
      "\u001b[32m\u001b[0m\u001b[36msubjects\u001b[0m:\n",
      "  -\u001b[36m kind\u001b[0m:\u001b[32m ServiceAccount\u001b[0m\n",
      "\u001b[32m    \u001b[0m\u001b[36mname\u001b[0m:\u001b[32m my-connect-connect\u001b[0m\n",
      "\u001b[32m    \u001b[0m\u001b[36mnamespace\u001b[0m:\u001b[32m kafka-main-cluster\u001b[0m\n"
     ]
    }
   ],
   "source": [
    "!kubectl -n kafka-main-cluster get rolebinding connector-configuration-role-binding -o yaml | yq"
   ]
  }
 ],
 "metadata": {
  "kernelspec": {
   "display_name": "Python 3 (ipykernel)",
   "language": "python",
   "name": "python3"
  },
  "language_info": {
   "codemirror_mode": {
    "name": "ipython",
    "version": 3
   },
   "file_extension": ".py",
   "mimetype": "text/x-python",
   "name": "python",
   "nbconvert_exporter": "python",
   "pygments_lexer": "ipython3",
   "version": "3.10.13"
  }
 },
 "nbformat": 4,
 "nbformat_minor": 5
}
