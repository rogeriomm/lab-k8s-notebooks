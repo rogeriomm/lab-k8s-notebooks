{
 "cells": [
  {
   "cell_type": "markdown",
   "id": "14fdc226-e3c0-4d13-8964-8da09ebf2512",
   "metadata": {},
   "source": [
    "   * https://blog.min.io/kafka_and_minio/: Publish from Kafka, Persist on MinIO\n",
    "   * https://docs.confluent.io/kafka-connectors/s3-sink/current/overview.html#\n",
    "      * Search \"Quick Start\"  "
   ]
  },
  {
   "cell_type": "code",
   "execution_count": 1,
   "id": "fc71a417-eac1-415c-b89b-65a9c0ed7c54",
   "metadata": {},
   "outputs": [
    {
     "name": "stdout",
     "output_type": "stream",
     "text": [
      "\u001b[36mapiVersion\u001b[0m:\u001b[32m kafka.strimzi.io/v1beta2\u001b[0m\n",
      "\u001b[32m\u001b[0m\u001b[36mkind\u001b[0m:\u001b[32m KafkaConnector\u001b[0m\n",
      "\u001b[32m\u001b[0m\u001b[36mmetadata\u001b[0m:\u001b[36m\u001b[0m\n",
      "\u001b[36m  annotations\u001b[0m:\u001b[36m\u001b[0m\n",
      "\u001b[36m    kubectl.kubernetes.io/last-applied-configuration\u001b[0m: |\n",
      "\u001b[32m      {\"apiVersion\":\"kafka.strimzi.io/v1beta2\",\"kind\":\"KafkaConnector\",\"metadata\":{\"annotations\":{},\"labels\":{\"strimzi.io/cluster\":\"my-connect\"},\"name\":\"s3-sink-cdc\",\"namespace\":\"kafka-main-cluster\"},\"spec\":{\"class\":\"io.confluent.connect.s3.S3SinkConnector\",\"config\":{\"consumer.security.protocol\":\"SSL\",\"consumer.ssl.enabled.protocols\":\"TLSv1.2,TLSv1.1\",\"consumer.ssl.key.password\":123456,\"consumer.ssl.keystore.location\":\"/opt/kafka/external-configuration/self-signed-certificate/cluster.truststore.jks\",\"consumer.ssl.keystore.password\":123456,\"consumer.ssl.truststore.type\":\"JKS\",\"flush.size\":1,\"format.class\":\"io.confluent.connect.s3.format.avro.AvroFormat\",\"key.converter\":\"io.confluent.connect.avro.AvroConverter\",\"key.converter.schema.registry.url\":\"http://main-registry-schema-registry.kafka-main-cluster.svc:8081\",\"key.converter.schemas.enable\":true,\"partitioner.class\":\"io.confluent.connect.storage.partitioner.DefaultPartitioner\",\"s3.bucket.name\":\"bronze\",\"schema.compatibility\":\"NONE\",\"schema.generator.class\":\"io.confluent.connect.storage.hive.schema.DefaultSchemaGenerator\",\"schema.registry.url\":\"http://main-registry-schema-registry.kafka-main-cluster.svc:8081\",\"storage.class\":\"io.confluent.connect.s3.storage.S3Storage\",\"store.url\":\"https://minio.minio-tenant-1.svc\",\"topics\":\"postgres-airflow.public.job,postgres-airflow.public.log,postgres-airflow.public.variable\",\"value.converter\":\"io.confluent.connect.avro.AvroConverter\",\"value.converter.schema.registry.url\":\"http://main-registry-schema-registry.kafka-main-cluster.svc:8081\",\"value.converter.schemas.enable\":true},\"tasksMax\":1}}\u001b[0m\n",
      "\u001b[32m  \u001b[0m\u001b[36mcreationTimestamp\u001b[0m:\u001b[32m \"2024-02-20T11:59:45Z\"\u001b[0m\u001b[36m\u001b[0m\n",
      "\u001b[36m  generation\u001b[0m:\u001b[95m 3\u001b[0m\n",
      "\u001b[95m  \u001b[0m\u001b[36mlabels\u001b[0m:\u001b[36m\u001b[0m\n",
      "\u001b[36m    strimzi.io/cluster\u001b[0m:\u001b[32m my-connect\u001b[0m\n",
      "\u001b[32m  \u001b[0m\u001b[36mname\u001b[0m:\u001b[32m s3-sink-cdc\u001b[0m\n",
      "\u001b[32m  \u001b[0m\u001b[36mnamespace\u001b[0m:\u001b[32m kafka-main-cluster\u001b[0m\n",
      "\u001b[32m  \u001b[0m\u001b[36mresourceVersion\u001b[0m:\u001b[32m \"1186779\"\u001b[0m\u001b[36m\u001b[0m\n",
      "\u001b[36m  uid\u001b[0m:\u001b[32m 69e96347-9e03-425b-b241-caab388bd8c3\u001b[0m\n",
      "\u001b[32m\u001b[0m\u001b[36mspec\u001b[0m:\u001b[36m\u001b[0m\n",
      "\u001b[36m  class\u001b[0m:\u001b[32m io.confluent.connect.s3.S3SinkConnector\u001b[0m\n",
      "\u001b[32m  \u001b[0m\u001b[36mconfig\u001b[0m:\u001b[36m\u001b[0m\n",
      "\u001b[36m    consumer.security.protocol\u001b[0m:\u001b[32m SSL\u001b[0m\n",
      "\u001b[32m    \u001b[0m\u001b[36mconsumer.ssl.enabled.protocols\u001b[0m:\u001b[32m TLSv1.2,TLSv1.1\u001b[0m\n",
      "\u001b[32m    \u001b[0m\u001b[36mconsumer.ssl.key.password\u001b[0m:\u001b[95m 123456\u001b[0m\n",
      "\u001b[95m    \u001b[0m\u001b[36mconsumer.ssl.keystore.location\u001b[0m:\u001b[32m /opt/kafka/external-configuration/self-signed-certificate/cluster.truststore.jks\u001b[0m\n",
      "\u001b[32m    \u001b[0m\u001b[36mconsumer.ssl.keystore.password\u001b[0m:\u001b[95m 123456\u001b[0m\n",
      "\u001b[95m    \u001b[0m\u001b[36mconsumer.ssl.truststore.type\u001b[0m:\u001b[32m JKS\u001b[0m\n",
      "\u001b[32m    \u001b[0m\u001b[36mflush.size\u001b[0m:\u001b[95m 1\u001b[0m\n",
      "\u001b[95m    \u001b[0m\u001b[36mformat.class\u001b[0m:\u001b[32m io.confluent.connect.s3.format.avro.AvroFormat\u001b[0m\n",
      "\u001b[32m    \u001b[0m\u001b[36mkey.converter\u001b[0m:\u001b[32m io.confluent.connect.avro.AvroConverter\u001b[0m\n",
      "\u001b[32m    \u001b[0m\u001b[36mkey.converter.schema.registry.url\u001b[0m:\u001b[32m http://main-registry-schema-registry.kafka-main-cluster.svc:8081\u001b[0m\n",
      "\u001b[32m    \u001b[0m\u001b[36mkey.converter.schemas.enable\u001b[0m:\u001b[95m true\u001b[0m\n",
      "\u001b[95m    \u001b[0m\u001b[36mpartitioner.class\u001b[0m:\u001b[32m io.confluent.connect.storage.partitioner.DefaultPartitioner\u001b[0m\n",
      "\u001b[32m    \u001b[0m\u001b[36ms3.bucket.name\u001b[0m:\u001b[32m bronze\u001b[0m\n",
      "\u001b[32m    \u001b[0m\u001b[36mschema.compatibility\u001b[0m:\u001b[32m NONE\u001b[0m\n",
      "\u001b[32m    \u001b[0m\u001b[36mschema.generator.class\u001b[0m:\u001b[32m io.confluent.connect.storage.hive.schema.DefaultSchemaGenerator\u001b[0m\n",
      "\u001b[32m    \u001b[0m\u001b[36mschema.registry.url\u001b[0m:\u001b[32m http://main-registry-schema-registry.kafka-main-cluster.svc:8081\u001b[0m\n",
      "\u001b[32m    \u001b[0m\u001b[36mstorage.class\u001b[0m:\u001b[32m io.confluent.connect.s3.storage.S3Storage\u001b[0m\n",
      "\u001b[32m    \u001b[0m\u001b[36mstore.url\u001b[0m:\u001b[32m https://minio.minio-tenant-1.svc\u001b[0m\n",
      "\u001b[32m    \u001b[0m\u001b[36mtopics\u001b[0m:\u001b[32m postgres-airflow.public.job,postgres-airflow.public.log,postgres-airflow.public.variable\u001b[0m\n",
      "\u001b[32m    \u001b[0m\u001b[36mvalue.converter\u001b[0m:\u001b[32m io.confluent.connect.avro.AvroConverter\u001b[0m\n",
      "\u001b[32m    \u001b[0m\u001b[36mvalue.converter.schema.registry.url\u001b[0m:\u001b[32m http://main-registry-schema-registry.kafka-main-cluster.svc:8081\u001b[0m\n",
      "\u001b[32m    \u001b[0m\u001b[36mvalue.converter.schemas.enable\u001b[0m:\u001b[95m true\u001b[0m\n",
      "\u001b[95m  \u001b[0m\u001b[36mtasksMax\u001b[0m:\u001b[95m 1\u001b[0m\n",
      "\u001b[95m\u001b[0m\u001b[36mstatus\u001b[0m:\u001b[36m\u001b[0m\n",
      "\u001b[36m  conditions\u001b[0m:\n",
      "    -\u001b[36m lastTransitionTime\u001b[0m:\u001b[32m \"2024-02-21T11:42:53.816936616Z\"\u001b[0m\u001b[36m\u001b[0m\n",
      "\u001b[36m      status\u001b[0m:\u001b[32m \"True\"\u001b[0m\u001b[36m\u001b[0m\n",
      "\u001b[36m      type\u001b[0m:\u001b[32m Ready\u001b[0m\n",
      "\u001b[32m  \u001b[0m\u001b[36mconnectorStatus\u001b[0m:\u001b[36m\u001b[0m\n",
      "\u001b[36m    connector\u001b[0m:\u001b[36m\u001b[0m\n",
      "\u001b[36m      state\u001b[0m:\u001b[32m RUNNING\u001b[0m\n",
      "\u001b[32m      \u001b[0m\u001b[36mworker_id\u001b[0m:\u001b[32m my-connect-connect-0.my-connect-connect.kafka-main-cluster.svc:8083\u001b[0m\n",
      "\u001b[32m    \u001b[0m\u001b[36mname\u001b[0m:\u001b[32m s3-sink-cdc\u001b[0m\n",
      "\u001b[32m    \u001b[0m\u001b[36mtasks\u001b[0m:\n",
      "      -\u001b[36m id\u001b[0m:\u001b[95m 0\u001b[0m\n",
      "\u001b[95m        \u001b[0m\u001b[36mstate\u001b[0m:\u001b[32m RUNNING\u001b[0m\n",
      "\u001b[32m        \u001b[0m\u001b[36mworker_id\u001b[0m:\u001b[32m my-connect-connect-0.my-connect-connect.kafka-main-cluster.svc:8083\u001b[0m\n",
      "\u001b[32m    \u001b[0m\u001b[36mtype\u001b[0m:\u001b[32m sink\u001b[0m\n",
      "\u001b[32m  \u001b[0m\u001b[36mobservedGeneration\u001b[0m:\u001b[95m 3\u001b[0m\n",
      "\u001b[95m  \u001b[0m\u001b[36mtasksMax\u001b[0m:\u001b[95m 1\u001b[0m\n",
      "\u001b[95m  \u001b[0m\u001b[36mtopics\u001b[0m:\n",
      "    -\u001b[32m postgres-airflow.public.job\u001b[0m\n"
     ]
    }
   ],
   "source": [
    "!kubectl -n kafka-main-cluster get kafkaconnector s3-sink-cdc -o yaml | yq"
   ]
  },
  {
   "cell_type": "code",
   "execution_count": 19,
   "id": "e4b2e167-3421-4724-9d3d-ef654dab248a",
   "metadata": {},
   "outputs": [
    {
     "name": "stdout",
     "output_type": "stream",
     "text": [
      "The following tasks have failed: 0, see connectorStatus for more details."
     ]
    }
   ],
   "source": [
    "!kubectl -n kafka-main-cluster get kafkaconnector s3-sink-cdc -o jsonpath='{.status.conditions[0].message}'"
   ]
  },
  {
   "cell_type": "code",
   "execution_count": 3,
   "id": "bd4cdd73-f9dd-4ba3-af8c-087edf61c788",
   "metadata": {},
   "outputs": [],
   "source": [
    "!kubectl -n kafka-main-cluster get kafkaconnector s3-sink-cdc -o jsonpath='{.status.connectorStatus.tasks[0].trace}'"
   ]
  },
  {
   "cell_type": "markdown",
   "id": "74c6cbbc-7d90-42a8-8de6-8230d0caa70b",
   "metadata": {},
   "source": [
    "# Self signed certificate"
   ]
  },
  {
   "cell_type": "code",
   "execution_count": 4,
   "id": "bf30811a-9964-4e68-a22c-2a5cde7bf7af",
   "metadata": {},
   "outputs": [
    {
     "name": "stdout",
     "output_type": "stream",
     "text": [
      "Connecting to 10.102.87.93\n",
      "CONNECTED(00000003)\n",
      "depth=0 O=system:nodes, CN=system:node:*.minio-tenant-1-hl.minio-tenant-1.svc.cluster.local\n",
      "verify error:num=20:unable to get local issuer certificate\n",
      "verify return:1\n",
      "depth=0 O=system:nodes, CN=system:node:*.minio-tenant-1-hl.minio-tenant-1.svc.cluster.local\n",
      "verify error:num=21:unable to verify the first certificate\n",
      "verify return:1\n",
      "depth=0 O=system:nodes, CN=system:node:*.minio-tenant-1-hl.minio-tenant-1.svc.cluster.local\n",
      "verify return:1\n",
      "---\n",
      "Certificate chain\n",
      " 0 s:O=system:nodes, CN=system:node:*.minio-tenant-1-hl.minio-tenant-1.svc.cluster.local\n",
      "   i:CN=minikubeCA\n",
      "   a:PKEY: id-ecPublicKey, 256 (bit); sigalg: RSA-SHA256\n",
      "   v:NotBefore: Feb 20 11:55:36 2024 GMT; NotAfter: Feb 19 11:55:36 2025 GMT\n",
      "---\n",
      "Server certificate\n",
      "-----BEGIN CERTIFICATE-----\n",
      "MIIDnzCCAoegAwIBAgIQJl/BrEYomZbpipLiC0N6ujANBgkqhkiG9w0BAQsFADAV\n",
      "MRMwEQYDVQQDEwptaW5pa3ViZUNBMB4XDTI0MDIyMDExNTUzNloXDTI1MDIxOTEx\n",
      "NTUzNlowYjEVMBMGA1UEChMMc3lzdGVtOm5vZGVzMUkwRwYDVQQDDEBzeXN0ZW06\n",
      "bm9kZToqLm1pbmlvLXRlbmFudC0xLWhsLm1pbmlvLXRlbmFudC0xLnN2Yy5jbHVz\n",
      "dGVyLmxvY2FsMFkwEwYHKoZIzj0CAQYIKoZIzj0DAQcDQgAE2H7LRubBL5CvoonT\n",
      "qjMie9ixVIY9SHPc3Ef6buJ71tLLKX6ypdF0OFoaT8zcz5K2YZiluEtDd0QQG/BK\n",
      "vqBOLaOCAWcwggFjMA4GA1UdDwEB/wQEAwIFoDATBgNVHSUEDDAKBggrBgEFBQcD\n",
      "ATAMBgNVHRMBAf8EAjAAMB8GA1UdIwQYMBaAFNzr9WFJe8Ffg8lMFwmUzPqVrWpZ\n",
      "MIIBCwYDVR0RBIIBAjCB/4JObWluaW8tdGVuYW50LTEtc3MtMC17MC4uLjJ9Lm1p\n",
      "bmlvLXRlbmFudC0xLWhsLm1pbmlvLXRlbmFudC0xLnN2Yy5jbHVzdGVyLmxvY2Fs\n",
      "giVtaW5pby5taW5pby10ZW5hbnQtMS5zdmMuY2x1c3RlcjIueHB0ghRtaW5pby5t\n",
      "aW5pby10ZW5hbnQtMYIYbWluaW8ubWluaW8tdGVuYW50LTEuc3ZjgjMqLm1pbmlv\n",
      "LXRlbmFudC0xLWhsLm1pbmlvLXRlbmFudC0xLnN2Yy5jbHVzdGVyMi54cHSCISou\n",
      "bWluaW8tdGVuYW50LTEuc3ZjLmNsdXN0ZXIyLnhwdDANBgkqhkiG9w0BAQsFAAOC\n",
      "AQEAlO3AECYIjWLr4M4Q2TkrJEramrlpB96aevkDw00exCWHdD6G4GenIqCVD8xJ\n",
      "dOkkonlquLvFm9BmoejdLZ3TSuDg3/klGZUMXSy6yze2B8ThVp5EVLcGBiLbO817\n",
      "1tJtB/iGveUy5EYNU80XvOIDRH9DTGukDPcEFc8Y9sg+/CSs6WzWPN+bySq5ccxi\n",
      "xQ7fgiil7JypFGnqmJeeo5RtVWXU4NIN6s750nQVHLPbbo33GJ6W1zXG/uZZDoYs\n",
      "wTJBnt0lfFtDfXNAGKqPzPCI9liWKvdiJNNgGVff/yohZBmqrcVcxfify+ApJp0r\n",
      "L+lIyKYtHgRKO1WUoVWJOMy/ug==\n",
      "-----END CERTIFICATE-----\n",
      "subject=O=system:nodes, CN=system:node:*.minio-tenant-1-hl.minio-tenant-1.svc.cluster.local\n",
      "issuer=CN=minikubeCA\n",
      "---\n",
      "No client certificate CA names sent\n",
      "Peer signing digest: SHA256\n",
      "Peer signature type: ECDSA\n",
      "Server Temp Key: X25519, 253 bits\n",
      "---\n",
      "SSL handshake has read 1287 bytes and written 396 bytes\n",
      "Verification error: unable to verify the first certificate\n",
      "---\n",
      "New, TLSv1.3, Cipher is TLS_AES_128_GCM_SHA256\n",
      "Server public key is 256 bit\n",
      "This TLS version forbids renegotiation.\n",
      "Compression: NONE\n",
      "Expansion: NONE\n",
      "No ALPN negotiated\n",
      "Early data was not sent\n",
      "Verify return code: 21 (unable to verify the first certificate)\n",
      "---\n",
      "---\n",
      "Post-Handshake New Session Ticket arrived:\n",
      "SSL-Session:\n",
      "    Protocol  : TLSv1.3\n",
      "    Cipher    : TLS_AES_128_GCM_SHA256\n",
      "    Session-ID: 710DEE2C30DE5DA6B016117AE687F24C8EC2F0AC1C46F9A36A0DF25D2E47B233\n",
      "    Session-ID-ctx: \n",
      "    Resumption PSK: 61BCCA081E74030756D1FAD1D7BE7957AC5BF03F4F768D0D8C9AC063929C7CE1\n",
      "    PSK identity: None\n",
      "    PSK identity hint: None\n",
      "    SRP username: None\n",
      "    TLS session ticket lifetime hint: 604800 (seconds)\n",
      "    TLS session ticket:\n",
      "    0000 - f0 3d 3c 86 92 d9 11 03-ad 27 58 23 ae b2 61 e3   .=<......'X#..a.\n",
      "    0010 - df 26 72 7d de d1 40 3d-90 f0 89 84 f4 a9 70 5e   .&r}..@=......p^\n",
      "    0020 - 55 1c ec b4 b7 b5 10 51-b3 5c 5a 16 d4 ca 6f c1   U......Q.\\Z...o.\n",
      "    0030 - e2 29 73 2f 65 0c 0b b0-a4 2e cb 70 71 d5 3d f2   .)s/e......pq.=.\n",
      "    0040 - d3 8c 3f 6b a5 a0 03 77-0a a6 52 ff 4c fd 1f 71   ..?k...w..R.L..q\n",
      "    0050 - 04 7c 19 0b 52 1b 63 15-46 a6 87 b6 2b 9b 53 c3   .|..R.c.F...+.S.\n",
      "    0060 - d2 cc e5 4f 6b 02 45 0a-ce                        ...Ok.E..\n",
      "\n",
      "    Start Time: 1708515809\n",
      "    Timeout   : 7200 (sec)\n",
      "    Verify return code: 21 (unable to verify the first certificate)\n",
      "    Extended master secret: no\n",
      "    Max Early Data: 0\n",
      "---\n",
      "read R BLOCK\n",
      "DONE\n"
     ]
    }
   ],
   "source": [
    "!echo | openssl s_client -connect minio.minio-tenant-1.svc:443"
   ]
  },
  {
   "cell_type": "code",
   "execution_count": 5,
   "id": "f0e10a68-7670-4d8a-80c4-400d6fbbaabc",
   "metadata": {},
   "outputs": [
    {
     "name": "stdout",
     "output_type": "stream",
     "text": [
      "-----BEGIN CERTIFICATE-----\n",
      "MIIDnzCCAoegAwIBAgIQJl/BrEYomZbpipLiC0N6ujANBgkqhkiG9w0BAQsFADAV\n",
      "MRMwEQYDVQQDEwptaW5pa3ViZUNBMB4XDTI0MDIyMDExNTUzNloXDTI1MDIxOTEx\n",
      "NTUzNlowYjEVMBMGA1UEChMMc3lzdGVtOm5vZGVzMUkwRwYDVQQDDEBzeXN0ZW06\n",
      "bm9kZToqLm1pbmlvLXRlbmFudC0xLWhsLm1pbmlvLXRlbmFudC0xLnN2Yy5jbHVz\n",
      "dGVyLmxvY2FsMFkwEwYHKoZIzj0CAQYIKoZIzj0DAQcDQgAE2H7LRubBL5CvoonT\n",
      "qjMie9ixVIY9SHPc3Ef6buJ71tLLKX6ypdF0OFoaT8zcz5K2YZiluEtDd0QQG/BK\n",
      "vqBOLaOCAWcwggFjMA4GA1UdDwEB/wQEAwIFoDATBgNVHSUEDDAKBggrBgEFBQcD\n",
      "ATAMBgNVHRMBAf8EAjAAMB8GA1UdIwQYMBaAFNzr9WFJe8Ffg8lMFwmUzPqVrWpZ\n",
      "MIIBCwYDVR0RBIIBAjCB/4JObWluaW8tdGVuYW50LTEtc3MtMC17MC4uLjJ9Lm1p\n",
      "bmlvLXRlbmFudC0xLWhsLm1pbmlvLXRlbmFudC0xLnN2Yy5jbHVzdGVyLmxvY2Fs\n",
      "giVtaW5pby5taW5pby10ZW5hbnQtMS5zdmMuY2x1c3RlcjIueHB0ghRtaW5pby5t\n",
      "aW5pby10ZW5hbnQtMYIYbWluaW8ubWluaW8tdGVuYW50LTEuc3ZjgjMqLm1pbmlv\n",
      "LXRlbmFudC0xLWhsLm1pbmlvLXRlbmFudC0xLnN2Yy5jbHVzdGVyMi54cHSCISou\n",
      "bWluaW8tdGVuYW50LTEuc3ZjLmNsdXN0ZXIyLnhwdDANBgkqhkiG9w0BAQsFAAOC\n",
      "AQEAlO3AECYIjWLr4M4Q2TkrJEramrlpB96aevkDw00exCWHdD6G4GenIqCVD8xJ\n",
      "dOkkonlquLvFm9BmoejdLZ3TSuDg3/klGZUMXSy6yze2B8ThVp5EVLcGBiLbO817\n",
      "1tJtB/iGveUy5EYNU80XvOIDRH9DTGukDPcEFc8Y9sg+/CSs6WzWPN+bySq5ccxi\n",
      "xQ7fgiil7JypFGnqmJeeo5RtVWXU4NIN6s750nQVHLPbbo33GJ6W1zXG/uZZDoYs\n",
      "wTJBnt0lfFtDfXNAGKqPzPCI9liWKvdiJNNgGVff/yohZBmqrcVcxfify+ApJp0r\n",
      "L+lIyKYtHgRKO1WUoVWJOMy/ug==\n",
      "-----END CERTIFICATE-----\n"
     ]
    }
   ],
   "source": [
    "!echo | openssl s_client  -connect minio.minio-tenant-1.svc:443 2> /dev/null \\\n",
    "      | sed -ne '/-BEGIN CERTIFICATE-/,/-END CERTIFICATE-/p'"
   ]
  },
  {
   "cell_type": "code",
   "execution_count": null,
   "id": "c4a3c127-c6d5-4b58-b7e4-c664ac681eeb",
   "metadata": {},
   "outputs": [],
   "source": []
  }
 ],
 "metadata": {
  "kernelspec": {
   "display_name": "Python 3 (ipykernel)",
   "language": "python",
   "name": "python3"
  },
  "language_info": {
   "codemirror_mode": {
    "name": "ipython",
    "version": 3
   },
   "file_extension": ".py",
   "mimetype": "text/x-python",
   "name": "python",
   "nbconvert_exporter": "python",
   "pygments_lexer": "ipython3",
   "version": "3.10.13"
  }
 },
 "nbformat": 4,
 "nbformat_minor": 5
}
