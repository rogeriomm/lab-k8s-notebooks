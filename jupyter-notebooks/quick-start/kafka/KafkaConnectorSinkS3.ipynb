{
 "cells": [
  {
   "cell_type": "markdown",
   "id": "14fdc226-e3c0-4d13-8964-8da09ebf2512",
   "metadata": {},
   "source": [
    "   * https://blog.min.io/kafka_and_minio/: Publish from Kafka, Persist on MinIO\n",
    "   * https://docs.confluent.io/kafka-connectors/s3-sink/current/overview.html#\n",
    "      * Search \"Quick Start\"  "
   ]
  },
  {
   "cell_type": "code",
   "execution_count": 23,
   "id": "fc71a417-eac1-415c-b89b-65a9c0ed7c54",
   "metadata": {},
   "outputs": [
    {
     "name": "stdout",
     "output_type": "stream",
     "text": [
      "\u001b[36mapiVersion\u001b[0m:\u001b[32m kafka.strimzi.io/v1beta2\u001b[0m\n",
      "\u001b[32m\u001b[0m\u001b[36mkind\u001b[0m:\u001b[32m KafkaConnector\u001b[0m\n",
      "\u001b[32m\u001b[0m\u001b[36mmetadata\u001b[0m:\u001b[36m\u001b[0m\n",
      "\u001b[36m  annotations\u001b[0m:\u001b[36m\u001b[0m\n",
      "\u001b[36m    kubectl.kubernetes.io/last-applied-configuration\u001b[0m: |\n",
      "\u001b[32m      {\"apiVersion\":\"kafka.strimzi.io/v1beta2\",\"kind\":\"KafkaConnector\",\"metadata\":{\"annotations\":{},\"labels\":{\"strimzi.io/cluster\":\"my-connect\"},\"name\":\"s3-sink-cdc\",\"namespace\":\"kafka-main-cluster\"},\"spec\":{\"class\":\"io.confluent.connect.s3.S3SinkConnector\",\"config\":{\"flush.size\":3,\"format.class\":\"io.confluent.connect.s3.format.avro.AvroFormat\",\"key.converter\":\"io.confluent.connect.avro.AvroConverter\",\"key.converter.schema.registry.url\":\"http://main-registry-schema-registry.kafka-main-cluster.svc:8081\",\"partitioner.class\":\"io.confluent.connect.storage.partitioner.DefaultPartitioner\",\"s3.bucket.name\":\"bronze\",\"schema.compatibility\":\"NONE\",\"schema.generator.class\":\"io.confluent.connect.storage.hive.schema.DefaultSchemaGenerator\",\"schema.registry.url\":\"http://main-registry-schema-registry.kafka-main-cluster.svc:8081\",\"storage.class\":\"io.confluent.connect.s3.storage.S3Storage\",\"store.url\":\"https://minio.minio-tenant-1.svc\",\"topic\":\"my-topic\",\"topics\":\"postgres-airflow.public.job\",\"value.converter\":\"io.confluent.connect.avro.AvroConverter\",\"value.converter.schema.registry.url\":\"http://main-registry-schema-registry.kafka-main-cluster.svc:8081\"},\"tasksMax\":1}}\u001b[0m\n",
      "\u001b[32m  \u001b[0m\u001b[36mcreationTimestamp\u001b[0m:\u001b[32m \"2024-02-09T18:18:06Z\"\u001b[0m\u001b[36m\u001b[0m\n",
      "\u001b[36m  generation\u001b[0m:\u001b[95m 5\u001b[0m\n",
      "\u001b[95m  \u001b[0m\u001b[36mlabels\u001b[0m:\u001b[36m\u001b[0m\n",
      "\u001b[36m    strimzi.io/cluster\u001b[0m:\u001b[32m my-connect\u001b[0m\n",
      "\u001b[32m  \u001b[0m\u001b[36mname\u001b[0m:\u001b[32m s3-sink-cdc\u001b[0m\n",
      "\u001b[32m  \u001b[0m\u001b[36mnamespace\u001b[0m:\u001b[32m kafka-main-cluster\u001b[0m\n",
      "\u001b[32m  \u001b[0m\u001b[36mresourceVersion\u001b[0m:\u001b[32m \"747289\"\u001b[0m\u001b[36m\u001b[0m\n",
      "\u001b[36m  uid\u001b[0m:\u001b[32m 97dd2049-d7e4-47b7-8136-3f7aef76b533\u001b[0m\n",
      "\u001b[32m\u001b[0m\u001b[36mspec\u001b[0m:\u001b[36m\u001b[0m\n",
      "\u001b[36m  class\u001b[0m:\u001b[32m io.confluent.connect.s3.S3SinkConnector\u001b[0m\n",
      "\u001b[32m  \u001b[0m\u001b[36mconfig\u001b[0m:\u001b[36m\u001b[0m\n",
      "\u001b[36m    flush.size\u001b[0m:\u001b[95m 3\u001b[0m\n",
      "\u001b[95m    \u001b[0m\u001b[36mformat.class\u001b[0m:\u001b[32m io.confluent.connect.s3.format.avro.AvroFormat\u001b[0m\n",
      "\u001b[32m    \u001b[0m\u001b[36mkey.converter\u001b[0m:\u001b[32m io.confluent.connect.avro.AvroConverter\u001b[0m\n",
      "\u001b[32m    \u001b[0m\u001b[36mkey.converter.schema.registry.url\u001b[0m:\u001b[32m http://main-registry-schema-registry.kafka-main-cluster.svc:8081\u001b[0m\n",
      "\u001b[32m    \u001b[0m\u001b[36mpartitioner.class\u001b[0m:\u001b[32m io.confluent.connect.storage.partitioner.DefaultPartitioner\u001b[0m\n",
      "\u001b[32m    \u001b[0m\u001b[36ms3.bucket.name\u001b[0m:\u001b[32m bronze\u001b[0m\n",
      "\u001b[32m    \u001b[0m\u001b[36mschema.compatibility\u001b[0m:\u001b[32m NONE\u001b[0m\n",
      "\u001b[32m    \u001b[0m\u001b[36mschema.generator.class\u001b[0m:\u001b[32m io.confluent.connect.storage.hive.schema.DefaultSchemaGenerator\u001b[0m\n",
      "\u001b[32m    \u001b[0m\u001b[36mschema.registry.url\u001b[0m:\u001b[32m http://main-registry-schema-registry.kafka-main-cluster.svc:8081\u001b[0m\n",
      "\u001b[32m    \u001b[0m\u001b[36mstorage.class\u001b[0m:\u001b[32m io.confluent.connect.s3.storage.S3Storage\u001b[0m\n",
      "\u001b[32m    \u001b[0m\u001b[36mstore.url\u001b[0m:\u001b[32m https://minio.minio-tenant-1.svc\u001b[0m\n",
      "\u001b[32m    \u001b[0m\u001b[36mtopic\u001b[0m:\u001b[32m my-topic\u001b[0m\n",
      "\u001b[32m    \u001b[0m\u001b[36mtopics\u001b[0m:\u001b[32m postgres-airflow.public.job\u001b[0m\n",
      "\u001b[32m    \u001b[0m\u001b[36mvalue.converter\u001b[0m:\u001b[32m io.confluent.connect.avro.AvroConverter\u001b[0m\n",
      "\u001b[32m    \u001b[0m\u001b[36mvalue.converter.schema.registry.url\u001b[0m:\u001b[32m http://main-registry-schema-registry.kafka-main-cluster.svc:8081\u001b[0m\n",
      "\u001b[32m  \u001b[0m\u001b[36mtasksMax\u001b[0m:\u001b[95m 1\u001b[0m\n",
      "\u001b[95m\u001b[0m\u001b[36mstatus\u001b[0m:\u001b[36m\u001b[0m\n",
      "\u001b[36m  conditions\u001b[0m:\n",
      "    -\u001b[36m lastTransitionTime\u001b[0m:\u001b[32m \"2024-02-10T10:58:58.361417161Z\"\u001b[0m\u001b[36m\u001b[0m\n",
      "\u001b[36m      message\u001b[0m:\u001b[32m 'The following tasks have failed: 0, see connectorStatus for more details.'\u001b[0m\u001b[36m\u001b[0m\n",
      "\u001b[36m      reason\u001b[0m:\u001b[32m Throwable\u001b[0m\n",
      "\u001b[32m      \u001b[0m\u001b[36mstatus\u001b[0m:\u001b[32m \"True\"\u001b[0m\u001b[36m\u001b[0m\n",
      "\u001b[36m      type\u001b[0m:\u001b[32m NotReady\u001b[0m\n",
      "\u001b[32m  \u001b[0m\u001b[36mconnectorStatus\u001b[0m:\u001b[36m\u001b[0m\n",
      "\u001b[36m    connector\u001b[0m:\u001b[36m\u001b[0m\n",
      "\u001b[36m      state\u001b[0m:\u001b[32m RUNNING\u001b[0m\n",
      "\u001b[32m      \u001b[0m\u001b[36mworker_id\u001b[0m:\u001b[32m my-connect-connect-0.my-connect-connect.kafka-main-cluster.svc:8083\u001b[0m\n",
      "\u001b[32m    \u001b[0m\u001b[36mname\u001b[0m:\u001b[32m s3-sink-cdc\u001b[0m\n",
      "\u001b[32m    \u001b[0m\u001b[36mtasks\u001b[0m:\n",
      "      -\u001b[36m id\u001b[0m:\u001b[95m 0\u001b[0m\n",
      "\u001b[95m        \u001b[0m\u001b[36mstate\u001b[0m:\u001b[32m FAILED\u001b[0m\n",
      "\u001b[32m        \u001b[0m\u001b[36mtrace\u001b[0m:\u001b[32m \"org.apache.kafka.connect.errors.ConnectException: com.amazonaws.SdkClientException: Unable to execute HTTP request: PKIX path building failed: sun.security.provider.certpath.SunCertPathBuilderException: unable to find valid certification path to requested target\\n\\tat io.confluent.connect.s3.S3SinkTask.start(S3SinkTask.java:142)\\n\\tat org.apache.kafka.connect.runtime.WorkerSinkTask.initializeAndStart(WorkerSinkTask.java:329)\\n\\tat org.apache.kafka.connect.runtime.WorkerTask.doRun(WorkerTask.java:202)\\n\\tat org.apache.kafka.connect.runtime.WorkerTask.run(WorkerTask.java:259)\\n\\tat org.apache.kafka.connect.runtime.isolation.Plugins.lambda$withClassLoader$1(Plugins.java:236)\\n\\tat java.base/java.util.concurrent.Executors$RunnableAdapter.call(Executors.java:539)\\n\\tat java.base/java.util.concurrent.FutureTask.run(FutureTask.java:264)\\n\\tat java.base/java.util.concurrent.ThreadPoolExecutor.runWorker(ThreadPoolExecutor.java:1136)\\n\\tat java.base/java.util.concurrent.ThreadPoolExecutor$Worker.run(ThreadPoolExecutor.java:635)\\n\\tat java.base/java.lang.Thread.run(Thread.java:840)\\nCaused by: com.amazonaws.SdkClientException: Unable to execute HTTP request: PKIX path building failed: sun.security.provider.certpath.SunCertPathBuilderException: unable to find valid certification path to requested target\\n\\tat com.amazonaws.http.AmazonHttpClient$RequestExecutor.handleRetryableException(AmazonHttpClient.java:1219)\\n\\tat com.amazonaws.http.AmazonHttpClient$RequestExecutor.executeHelper(AmazonHttpClient.java:1165)\\n\\tat com.amazonaws.http.AmazonHttpClient$RequestExecutor.doExecute(AmazonHttpClient.java:814)\\n\\tat com.amazonaws.http.AmazonHttpClient$RequestExecutor.executeWithTimer(AmazonHttpClient.java:781)\\n\\tat com.amazonaws.http.AmazonHttpClient$RequestExecutor.execute(AmazonHttpClient.java:755)\\n\\tat com.amazonaws.http.AmazonHttpClient$RequestExecutor.access$500(AmazonHttpClient.java:715)\\n\\tat com.amazonaws.http.AmazonHttpClient$RequestExecutionBuilderImpl.execute(AmazonHttpClient.java:697)\\n\\tat com.amazonaws.http.AmazonHttpClient.execute(AmazonHttpClient.java:561)\\n\\tat com.amazonaws.http.AmazonHttpClient.execute(AmazonHttpClient.java:541)\\n\\tat com.amazonaws.services.s3.AmazonS3Client.invoke(AmazonS3Client.java:5520)\\n\\tat com.amazonaws.services.s3.AmazonS3Client.invoke(AmazonS3Client.java:5467)\\n\\tat com.amazonaws.services.s3.AmazonS3Client.getAcl(AmazonS3Client.java:4113)\\n\\tat com.amazonaws.services.s3.AmazonS3Client.getBucketAcl(AmazonS3Client.java:1308)\\n\\tat com.amazonaws.services.s3.AmazonS3Client.getBucketAcl(AmazonS3Client.java:1298)\\n\\tat com.amazonaws.services.s3.AmazonS3Client.doesBucketExistV2(AmazonS3Client.java:1436)\\n\\tat io.confluent.connect.s3.storage.S3Storage.bucketExists(S3Storage.java:186)\\n\\tat io.confluent.connect.s3.S3SinkTask.start(S3SinkTask.java:114)\\n\\t... 9 more\\nCaused by: javax.net.ssl.SSLHandshakeException: PKIX path building failed: sun.security.provider.certpath.SunCertPathBuilderException: unable to find valid certification path to requested target\\n\\tat java.base/sun.security.ssl.Alert.createSSLException(Alert.java:131)\\n\\tat java.base/sun.security.ssl.TransportContext.fatal(TransportContext.java:378)\\n\\tat java.base/sun.security.ssl.TransportContext.fatal(TransportContext.java:321)\\n\\tat java.base/sun.security.ssl.TransportContext.fatal(TransportContext.java:316)\\n\\tat java.base/sun.security.ssl.CertificateMessage$T13CertificateConsumer.checkServerCerts(CertificateMessage.java:1357)\\n\\tat java.base/sun.security.ssl.CertificateMessage$T13CertificateConsumer.onConsumeCertificate(CertificateMessage.java:1232)\\n\\tat java.base/sun.security.ssl.CertificateMessage$T13CertificateConsumer.consume(CertificateMessage.java:1175)\\n\\tat java.base/sun.security.ssl.SSLHandshake.consume(SSLHandshake.java:396)\\n\\tat java.base/sun.security.ssl.HandshakeContext.dispatch(HandshakeContext.java:480)\\n\\tat java.base/sun.security.ssl.HandshakeContext.dispatch(HandshakeContext.java:458)\\n\\tat java.base/sun.security.ssl.TransportContext.dispatch(TransportContext.java:201)\\n\\tat java.base/sun.security.ssl.SSLTransport.decode(SSLTransport.java:172)\\n\\tat java.base/sun.security.ssl.SSLSocketImpl.decode(SSLSocketImpl.java:1510)\\n\\tat java.base/sun.security.ssl.SSLSocketImpl.readHandshakeRecord(SSLSocketImpl.java:1425)\\n\\tat java.base/sun.security.ssl.SSLSocketImpl.startHandshake(SSLSocketImpl.java:455)\\n\\tat java.base/sun.security.ssl.SSLSocketImpl.startHandshake(SSLSocketImpl.java:426)\\n\\tat org.apache.http.conn.ssl.SSLConnectionSocketFactory.createLayeredSocket(SSLConnectionSocketFactory.java:436)\\n\\tat org.apache.http.conn.ssl.SSLConnectionSocketFactory.connectSocket(SSLConnectionSocketFactory.java:384)\\n\\tat com.amazonaws.http.conn.ssl.SdkTLSSocketFactory.connectSocket(SdkTLSSocketFactory.java:142)\\n\\tat org.apache.http.impl.conn.DefaultHttpClientConnectionOperator.connect(DefaultHttpClientConnectionOperator.java:142)\\n\\tat org.apache.http.impl.conn.PoolingHttpClientConnectionManager.connect(PoolingHttpClientConnectionManager.java:376)\\n\\tat java.base/jdk.internal.reflect.NativeMethodAccessorImpl.invoke0(Native Method)\\n\\tat java.base/jdk.internal.reflect.NativeMethodAccessorImpl.invoke(NativeMethodAccessorImpl.java:77)\\n\\tat java.base/jdk.internal.reflect.DelegatingMethodAccessorImpl.invoke(DelegatingMethodAccessorImpl.java:43)\\n\\tat java.base/java.lang.reflect.Method.invoke(Method.java:568)\\n\\tat com.amazonaws.http.conn.ClientConnectionManagerFactory$Handler.invoke(ClientConnectionManagerFactory.java:76)\\n\\tat com.amazonaws.http.conn.$Proxy322.connect(Unknown Source)\\n\\tat org.apache.http.impl.execchain.MainClientExec.establishRoute(MainClientExec.java:393)\\n\\tat org.apache.http.impl.execchain.MainClientExec.execute(MainClientExec.java:236)\\n\\tat org.apache.http.impl.execchain.ProtocolExec.execute(ProtocolExec.java:186)\\n\\tat org.apache.http.impl.client.InternalHttpClient.doExecute(InternalHttpClient.java:185)\\n\\tat org.apache.http.impl.client.CloseableHttpClient.execute(CloseableHttpClient.java:83)\\n\\tat org.apache.http.impl.client.CloseableHttpClient.execute(CloseableHttpClient.java:56)\\n\\tat com.amazonaws.http.apache.client.impl.SdkHttpClient.execute(SdkHttpClient.java:72)\\n\\tat com.amazonaws.http.AmazonHttpClient$RequestExecutor.executeOneRequest(AmazonHttpClient.java:1346)\\n\\tat com.amazonaws.http.AmazonHttpClient$RequestExecutor.executeHelper(AmazonHttpClient.java:1157)\\n\\t... 24 more\\nCaused by: sun.security.validator.ValidatorException: PKIX path building failed: sun.security.provider.certpath.SunCertPathBuilderException: unable to find valid certification path to requested target\\n\\tat java.base/sun.security.validator.PKIXValidator.doBuild(PKIXValidator.java:439)\\n\\tat java.base/sun.security.validator.PKIXValidator.engineValidate(PKIXValidator.java:306)\\n\\tat java.base/sun.security.validator.Validator.validate(Validator.java:264)\\n\\tat java.base/sun.security.ssl.X509TrustManagerImpl.checkTrusted(X509TrustManagerImpl.java:231)\\n\\tat java.base/sun.security.ssl.X509TrustManagerImpl.checkServerTrusted(X509TrustManagerImpl.java:132)\\n\\tat java.base/sun.security.ssl.CertificateMessage$T13CertificateConsumer.checkServerCerts(CertificateMessage.java:1341)\\n\\t... 55 more\\nCaused by: sun.security.provider.certpath.SunCertPathBuilderException: unable to find valid certification path to requested target\\n\\tat java.base/sun.security.provider.certpath.SunCertPathBuilder.build(SunCertPathBuilder.java:148)\\n\\tat java.base/sun.security.provider.certpath.SunCertPathBuilder.engineBuild(SunCertPathBuilder.java:129)\\n\\tat java.base/java.security.cert.CertPathBuilder.build(CertPathBuilder.java:297)\\n\\tat java.base/sun.security.validator.PKIXValidator.doBuild(PKIXValidator.java:434)\\n\\t... 60 more\\n\"\u001b[0m\u001b[36m\u001b[0m\n",
      "\u001b[36m        worker_id\u001b[0m:\u001b[32m my-connect-connect-0.my-connect-connect.kafka-main-cluster.svc:8083\u001b[0m\n",
      "\u001b[32m    \u001b[0m\u001b[36mtype\u001b[0m:\u001b[32m sink\u001b[0m\n",
      "\u001b[32m  \u001b[0m\u001b[36mobservedGeneration\u001b[0m:\u001b[95m 5\u001b[0m\n",
      "\u001b[95m  \u001b[0m\u001b[36mtasksMax\u001b[0m:\u001b[95m 1\u001b[0m\n",
      "\u001b[95m  \u001b[0m\u001b[36mtopics\u001b[0m: []\n"
     ]
    }
   ],
   "source": [
    "!kubectl -n kafka-main-cluster get kafkaconnector s3-sink-cdc -o yaml | yq"
   ]
  },
  {
   "cell_type": "code",
   "execution_count": 21,
   "id": "e4b2e167-3421-4724-9d3d-ef654dab248a",
   "metadata": {},
   "outputs": [
    {
     "name": "stdout",
     "output_type": "stream",
     "text": [
      "The following tasks have failed: 0, see connectorStatus for more details."
     ]
    }
   ],
   "source": [
    "!kubectl -n kafka-main-cluster get kafkaconnector s3-sink-cdc -o jsonpath='{.status.conditions[0].message}'"
   ]
  },
  {
   "cell_type": "code",
   "execution_count": 24,
   "id": "bd4cdd73-f9dd-4ba3-af8c-087edf61c788",
   "metadata": {},
   "outputs": [
    {
     "name": "stdout",
     "output_type": "stream",
     "text": [
      "org.apache.kafka.connect.errors.ConnectException: com.amazonaws.SdkClientException: Unable to execute HTTP request: PKIX path building failed: sun.security.provider.certpath.SunCertPathBuilderException: unable to find valid certification path to requested target\n",
      "\tat io.confluent.connect.s3.S3SinkTask.start(S3SinkTask.java:142)\n",
      "\tat org.apache.kafka.connect.runtime.WorkerSinkTask.initializeAndStart(WorkerSinkTask.java:329)\n",
      "\tat org.apache.kafka.connect.runtime.WorkerTask.doRun(WorkerTask.java:202)\n",
      "\tat org.apache.kafka.connect.runtime.WorkerTask.run(WorkerTask.java:259)\n",
      "\tat org.apache.kafka.connect.runtime.isolation.Plugins.lambda$withClassLoader$1(Plugins.java:236)\n",
      "\tat java.base/java.util.concurrent.Executors$RunnableAdapter.call(Executors.java:539)\n",
      "\tat java.base/java.util.concurrent.FutureTask.run(FutureTask.java:264)\n",
      "\tat java.base/java.util.concurrent.ThreadPoolExecutor.runWorker(ThreadPoolExecutor.java:1136)\n",
      "\tat java.base/java.util.concurrent.ThreadPoolExecutor$Worker.run(ThreadPoolExecutor.java:635)\n",
      "\tat java.base/java.lang.Thread.run(Thread.java:840)\n",
      "Caused by: com.amazonaws.SdkClientException: Unable to execute HTTP request: PKIX path building failed: sun.security.provider.certpath.SunCertPathBuilderException: unable to find valid certification path to requested target\n",
      "\tat com.amazonaws.http.AmazonHttpClient$RequestExecutor.handleRetryableException(AmazonHttpClient.java:1219)\n",
      "\tat com.amazonaws.http.AmazonHttpClient$RequestExecutor.executeHelper(AmazonHttpClient.java:1165)\n",
      "\tat com.amazonaws.http.AmazonHttpClient$RequestExecutor.doExecute(AmazonHttpClient.java:814)\n",
      "\tat com.amazonaws.http.AmazonHttpClient$RequestExecutor.executeWithTimer(AmazonHttpClient.java:781)\n",
      "\tat com.amazonaws.http.AmazonHttpClient$RequestExecutor.execute(AmazonHttpClient.java:755)\n",
      "\tat com.amazonaws.http.AmazonHttpClient$RequestExecutor.access$500(AmazonHttpClient.java:715)\n",
      "\tat com.amazonaws.http.AmazonHttpClient$RequestExecutionBuilderImpl.execute(AmazonHttpClient.java:697)\n",
      "\tat com.amazonaws.http.AmazonHttpClient.execute(AmazonHttpClient.java:561)\n",
      "\tat com.amazonaws.http.AmazonHttpClient.execute(AmazonHttpClient.java:541)\n",
      "\tat com.amazonaws.services.s3.AmazonS3Client.invoke(AmazonS3Client.java:5520)\n",
      "\tat com.amazonaws.services.s3.AmazonS3Client.invoke(AmazonS3Client.java:5467)\n",
      "\tat com.amazonaws.services.s3.AmazonS3Client.getAcl(AmazonS3Client.java:4113)\n",
      "\tat com.amazonaws.services.s3.AmazonS3Client.getBucketAcl(AmazonS3Client.java:1308)\n",
      "\tat com.amazonaws.services.s3.AmazonS3Client.getBucketAcl(AmazonS3Client.java:1298)\n",
      "\tat com.amazonaws.services.s3.AmazonS3Client.doesBucketExistV2(AmazonS3Client.java:1436)\n",
      "\tat io.confluent.connect.s3.storage.S3Storage.bucketExists(S3Storage.java:186)\n",
      "\tat io.confluent.connect.s3.S3SinkTask.start(S3SinkTask.java:114)\n",
      "\t... 9 more\n",
      "Caused by: javax.net.ssl.SSLHandshakeException: PKIX path building failed: sun.security.provider.certpath.SunCertPathBuilderException: unable to find valid certification path to requested target\n",
      "\tat java.base/sun.security.ssl.Alert.createSSLException(Alert.java:131)\n",
      "\tat java.base/sun.security.ssl.TransportContext.fatal(TransportContext.java:378)\n",
      "\tat java.base/sun.security.ssl.TransportContext.fatal(TransportContext.java:321)\n",
      "\tat java.base/sun.security.ssl.TransportContext.fatal(TransportContext.java:316)\n",
      "\tat java.base/sun.security.ssl.CertificateMessage$T13CertificateConsumer.checkServerCerts(CertificateMessage.java:1357)\n",
      "\tat java.base/sun.security.ssl.CertificateMessage$T13CertificateConsumer.onConsumeCertificate(CertificateMessage.java:1232)\n",
      "\tat java.base/sun.security.ssl.CertificateMessage$T13CertificateConsumer.consume(CertificateMessage.java:1175)\n",
      "\tat java.base/sun.security.ssl.SSLHandshake.consume(SSLHandshake.java:396)\n",
      "\tat java.base/sun.security.ssl.HandshakeContext.dispatch(HandshakeContext.java:480)\n",
      "\tat java.base/sun.security.ssl.HandshakeContext.dispatch(HandshakeContext.java:458)\n",
      "\tat java.base/sun.security.ssl.TransportContext.dispatch(TransportContext.java:201)\n",
      "\tat java.base/sun.security.ssl.SSLTransport.decode(SSLTransport.java:172)\n",
      "\tat java.base/sun.security.ssl.SSLSocketImpl.decode(SSLSocketImpl.java:1510)\n",
      "\tat java.base/sun.security.ssl.SSLSocketImpl.readHandshakeRecord(SSLSocketImpl.java:1425)\n",
      "\tat java.base/sun.security.ssl.SSLSocketImpl.startHandshake(SSLSocketImpl.java:455)\n",
      "\tat java.base/sun.security.ssl.SSLSocketImpl.startHandshake(SSLSocketImpl.java:426)\n",
      "\tat org.apache.http.conn.ssl.SSLConnectionSocketFactory.createLayeredSocket(SSLConnectionSocketFactory.java:436)\n",
      "\tat org.apache.http.conn.ssl.SSLConnectionSocketFactory.connectSocket(SSLConnectionSocketFactory.java:384)\n",
      "\tat com.amazonaws.http.conn.ssl.SdkTLSSocketFactory.connectSocket(SdkTLSSocketFactory.java:142)\n",
      "\tat org.apache.http.impl.conn.DefaultHttpClientConnectionOperator.connect(DefaultHttpClientConnectionOperator.java:142)\n",
      "\tat org.apache.http.impl.conn.PoolingHttpClientConnectionManager.connect(PoolingHttpClientConnectionManager.java:376)\n",
      "\tat java.base/jdk.internal.reflect.NativeMethodAccessorImpl.invoke0(Native Method)\n",
      "\tat java.base/jdk.internal.reflect.NativeMethodAccessorImpl.invoke(NativeMethodAccessorImpl.java:77)\n",
      "\tat java.base/jdk.internal.reflect.DelegatingMethodAccessorImpl.invoke(DelegatingMethodAccessorImpl.java:43)\n",
      "\tat java.base/java.lang.reflect.Method.invoke(Method.java:568)\n",
      "\tat com.amazonaws.http.conn.ClientConnectionManagerFactory$Handler.invoke(ClientConnectionManagerFactory.java:76)\n",
      "\tat com.amazonaws.http.conn.$Proxy322.connect(Unknown Source)\n",
      "\tat org.apache.http.impl.execchain.MainClientExec.establishRoute(MainClientExec.java:393)\n",
      "\tat org.apache.http.impl.execchain.MainClientExec.execute(MainClientExec.java:236)\n",
      "\tat org.apache.http.impl.execchain.ProtocolExec.execute(ProtocolExec.java:186)\n",
      "\tat org.apache.http.impl.client.InternalHttpClient.doExecute(InternalHttpClient.java:185)\n",
      "\tat org.apache.http.impl.client.CloseableHttpClient.execute(CloseableHttpClient.java:83)\n",
      "\tat org.apache.http.impl.client.CloseableHttpClient.execute(CloseableHttpClient.java:56)\n",
      "\tat com.amazonaws.http.apache.client.impl.SdkHttpClient.execute(SdkHttpClient.java:72)\n",
      "\tat com.amazonaws.http.AmazonHttpClient$RequestExecutor.executeOneRequest(AmazonHttpClient.java:1346)\n",
      "\tat com.amazonaws.http.AmazonHttpClient$RequestExecutor.executeHelper(AmazonHttpClient.java:1157)\n",
      "\t... 24 more\n",
      "Caused by: sun.security.validator.ValidatorException: PKIX path building failed: sun.security.provider.certpath.SunCertPathBuilderException: unable to find valid certification path to requested target\n",
      "\tat java.base/sun.security.validator.PKIXValidator.doBuild(PKIXValidator.java:439)\n",
      "\tat java.base/sun.security.validator.PKIXValidator.engineValidate(PKIXValidator.java:306)\n",
      "\tat java.base/sun.security.validator.Validator.validate(Validator.java:264)\n",
      "\tat java.base/sun.security.ssl.X509TrustManagerImpl.checkTrusted(X509TrustManagerImpl.java:231)\n",
      "\tat java.base/sun.security.ssl.X509TrustManagerImpl.checkServerTrusted(X509TrustManagerImpl.java:132)\n",
      "\tat java.base/sun.security.ssl.CertificateMessage$T13CertificateConsumer.checkServerCerts(CertificateMessage.java:1341)\n",
      "\t... 55 more\n",
      "Caused by: sun.security.provider.certpath.SunCertPathBuilderException: unable to find valid certification path to requested target\n",
      "\tat java.base/sun.security.provider.certpath.SunCertPathBuilder.build(SunCertPathBuilder.java:148)\n",
      "\tat java.base/sun.security.provider.certpath.SunCertPathBuilder.engineBuild(SunCertPathBuilder.java:129)\n",
      "\tat java.base/java.security.cert.CertPathBuilder.build(CertPathBuilder.java:297)\n",
      "\tat java.base/sun.security.validator.PKIXValidator.doBuild(PKIXValidator.java:434)\n",
      "\t... 60 more\n"
     ]
    }
   ],
   "source": [
    "!kubectl -n kafka-main-cluster get kafkaconnector s3-sink-cdc -o jsonpath='{.status.connectorStatus.tasks[0].trace}'"
   ]
  },
  {
   "cell_type": "markdown",
   "id": "84bca305-573e-49d4-bbec-0528063be1dd",
   "metadata": {},
   "source": [
    "echo -e \"[default]\\naws_access_key_id=minio\\naws_secret_access_key=awesomes3\" > ~/.aws/credentials"
   ]
  },
  {
   "cell_type": "code",
   "execution_count": null,
   "id": "bf30811a-9964-4e68-a22c-2a5cde7bf7af",
   "metadata": {},
   "outputs": [],
   "source": []
  }
 ],
 "metadata": {
  "kernelspec": {
   "display_name": "Python 3 (ipykernel)",
   "language": "python",
   "name": "python3"
  },
  "language_info": {
   "codemirror_mode": {
    "name": "ipython",
    "version": 3
   },
   "file_extension": ".py",
   "mimetype": "text/x-python",
   "name": "python",
   "nbconvert_exporter": "python",
   "pygments_lexer": "ipython3",
   "version": "3.10.13"
  }
 },
 "nbformat": 4,
 "nbformat_minor": 5
}
