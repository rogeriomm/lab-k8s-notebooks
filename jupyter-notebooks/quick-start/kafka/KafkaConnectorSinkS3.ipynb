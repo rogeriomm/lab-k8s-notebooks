{
 "cells": [
  {
   "cell_type": "markdown",
   "id": "14fdc226-e3c0-4d13-8964-8da09ebf2512",
   "metadata": {},
   "source": [
    "   * https://blog.min.io/kafka_and_minio/: Publish from Kafka, Persist on MinIO"
   ]
  },
  {
   "cell_type": "code",
   "execution_count": null,
   "id": "fc71a417-eac1-415c-b89b-65a9c0ed7c54",
   "metadata": {},
   "outputs": [],
   "source": []
  }
 ],
 "metadata": {
  "kernelspec": {
   "display_name": "Python 3 (ipykernel)",
   "language": "python",
   "name": "python3"
  },
  "language_info": {
   "codemirror_mode": {
    "name": "ipython",
    "version": 3
   },
   "file_extension": ".py",
   "mimetype": "text/x-python",
   "name": "python",
   "nbconvert_exporter": "python",
   "pygments_lexer": "ipython3",
   "version": "3.10.13"
  }
 },
 "nbformat": 4,
 "nbformat_minor": 5
}
