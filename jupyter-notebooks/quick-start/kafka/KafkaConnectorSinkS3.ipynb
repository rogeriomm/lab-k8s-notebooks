{
 "cells": [
  {
   "cell_type": "markdown",
   "id": "14fdc226-e3c0-4d13-8964-8da09ebf2512",
   "metadata": {},
   "source": [
    "   * https://blog.min.io/kafka_and_minio/: Publish from Kafka, Persist on MinIO\n",
    "   * https://docs.confluent.io/kafka-connectors/s3-sink/current/overview.html#\n",
    "      * Search \"Quick Start\"  "
   ]
  },
  {
   "cell_type": "code",
   "execution_count": 6,
   "id": "fc71a417-eac1-415c-b89b-65a9c0ed7c54",
   "metadata": {},
   "outputs": [
    {
     "name": "stdout",
     "output_type": "stream",
     "text": [
      "\u001b[36mapiVersion\u001b[0m:\u001b[32m kafka.strimzi.io/v1beta2\u001b[0m\n",
      "\u001b[32m\u001b[0m\u001b[36mkind\u001b[0m:\u001b[32m KafkaConnector\u001b[0m\n",
      "\u001b[32m\u001b[0m\u001b[36mmetadata\u001b[0m:\u001b[36m\u001b[0m\n",
      "\u001b[36m  annotations\u001b[0m:\u001b[36m\u001b[0m\n",
      "\u001b[36m    kubectl.kubernetes.io/last-applied-configuration\u001b[0m: |\n",
      "\u001b[32m      {\"apiVersion\":\"kafka.strimzi.io/v1beta2\",\"kind\":\"KafkaConnector\",\"metadata\":{\"annotations\":{},\"labels\":{\"strimzi.io/cluster\":\"my-connect\"},\"name\":\"s3-sink-cdc\",\"namespace\":\"kafka-main-cluster\"},\"spec\":{\"class\":\"io.confluent.connect.s3.S3SinkConnector\",\"config\":{\"key.converter\":\"io.confluent.connect.avro.AvroConverter\",\"key.converter.schema.registry.url\":\"http://main-registry-schema-registry.kafka-main-cluster.svc:8081\",\"partitioner.class\":\"io.confluent.connect.storage.partitioner.DefaultPartitioner\",\"s3.bucket.name\":\"bronze\",\"schema.compatibility\":\"NONE\",\"schema.generator.class\":\"io.confluent.connect.storage.hive.schema.DefaultSchemaGenerator\",\"topic\":\"my-topic\",\"topics\":\"postgres-airflow.public.job\",\"value.converter\":\"io.confluent.connect.avro.AvroConverter\",\"value.converter.schema.registry.url\":\"http://main-registry-schema-registry.kafka-main-cluster.svc:8081\"},\"tasksMax\":1}}\u001b[0m\n",
      "\u001b[32m  \u001b[0m\u001b[36mcreationTimestamp\u001b[0m:\u001b[32m \"2024-02-09T18:18:06Z\"\u001b[0m\u001b[36m\u001b[0m\n",
      "\u001b[36m  generation\u001b[0m:\u001b[95m 2\u001b[0m\n",
      "\u001b[95m  \u001b[0m\u001b[36mlabels\u001b[0m:\u001b[36m\u001b[0m\n",
      "\u001b[36m    strimzi.io/cluster\u001b[0m:\u001b[32m my-connect\u001b[0m\n",
      "\u001b[32m  \u001b[0m\u001b[36mname\u001b[0m:\u001b[32m s3-sink-cdc\u001b[0m\n",
      "\u001b[32m  \u001b[0m\u001b[36mnamespace\u001b[0m:\u001b[32m kafka-main-cluster\u001b[0m\n",
      "\u001b[32m  \u001b[0m\u001b[36mresourceVersion\u001b[0m:\u001b[32m \"715042\"\u001b[0m\u001b[36m\u001b[0m\n",
      "\u001b[36m  uid\u001b[0m:\u001b[32m 97dd2049-d7e4-47b7-8136-3f7aef76b533\u001b[0m\n",
      "\u001b[32m\u001b[0m\u001b[36mspec\u001b[0m:\u001b[36m\u001b[0m\n",
      "\u001b[36m  class\u001b[0m:\u001b[32m io.confluent.connect.s3.S3SinkConnector\u001b[0m\n",
      "\u001b[32m  \u001b[0m\u001b[36mconfig\u001b[0m:\u001b[36m\u001b[0m\n",
      "\u001b[36m    key.converter\u001b[0m:\u001b[32m io.confluent.connect.avro.AvroConverter\u001b[0m\n",
      "\u001b[32m    \u001b[0m\u001b[36mkey.converter.schema.registry.url\u001b[0m:\u001b[32m http://main-registry-schema-registry.kafka-main-cluster.svc:8081\u001b[0m\n",
      "\u001b[32m    \u001b[0m\u001b[36mpartitioner.class\u001b[0m:\u001b[32m io.confluent.connect.storage.partitioner.DefaultPartitioner\u001b[0m\n",
      "\u001b[32m    \u001b[0m\u001b[36ms3.bucket.name\u001b[0m:\u001b[32m bronze\u001b[0m\n",
      "\u001b[32m    \u001b[0m\u001b[36mschema.compatibility\u001b[0m:\u001b[32m NONE\u001b[0m\n",
      "\u001b[32m    \u001b[0m\u001b[36mschema.generator.class\u001b[0m:\u001b[32m io.confluent.connect.storage.hive.schema.DefaultSchemaGenerator\u001b[0m\n",
      "\u001b[32m    \u001b[0m\u001b[36mtopic\u001b[0m:\u001b[32m my-topic\u001b[0m\n",
      "\u001b[32m    \u001b[0m\u001b[36mtopics\u001b[0m:\u001b[32m postgres-airflow.public.job\u001b[0m\n",
      "\u001b[32m    \u001b[0m\u001b[36mvalue.converter\u001b[0m:\u001b[32m io.confluent.connect.avro.AvroConverter\u001b[0m\n",
      "\u001b[32m    \u001b[0m\u001b[36mvalue.converter.schema.registry.url\u001b[0m:\u001b[32m http://main-registry-schema-registry.kafka-main-cluster.svc:8081\u001b[0m\n",
      "\u001b[32m  \u001b[0m\u001b[36mtasksMax\u001b[0m:\u001b[95m 1\u001b[0m\n",
      "\u001b[95m\u001b[0m\u001b[36mstatus\u001b[0m:\u001b[36m\u001b[0m\n",
      "\u001b[36m  conditions\u001b[0m:\n",
      "    -\u001b[36m lastTransitionTime\u001b[0m:\u001b[32m \"2024-02-09T20:23:01.345100896Z\"\u001b[0m\u001b[36m\u001b[0m\n",
      "\u001b[36m      message\u001b[0m: |-\n",
      "\u001b[32m        PUT /connectors/s3-sink-cdc/config returned 400 (Bad Request): Connector configuration is invalid and contains the following 3 error(s):\u001b[0m\n",
      "\u001b[32m        Missing required configuration \"format.class\" which has no default value.\u001b[0m\n",
      "\u001b[32m        Missing required configuration \"flush.size\" which has no default value.\u001b[0m\n",
      "\u001b[32m        Missing required configuration \"storage.class\" which has no default value.\u001b[0m\n",
      "\u001b[32m        You can also find the above list of errors at the endpoint `/connector-plugins/{connectorType}/config/validate`\u001b[0m\n",
      "\u001b[32m      \u001b[0m\u001b[36mreason\u001b[0m:\u001b[32m ConnectRestException\u001b[0m\n",
      "\u001b[32m      \u001b[0m\u001b[36mstatus\u001b[0m:\u001b[32m \"True\"\u001b[0m\u001b[36m\u001b[0m\n",
      "\u001b[36m      type\u001b[0m:\u001b[32m NotReady\u001b[0m\n",
      "\u001b[32m  \u001b[0m\u001b[36mobservedGeneration\u001b[0m:\u001b[95m 2\u001b[0m\n",
      "\u001b[95m  \u001b[0m\u001b[36mtasksMax\u001b[0m:\u001b[95m 1\u001b[0m\n",
      "\u001b[95m  \u001b[0m\u001b[36mtopics\u001b[0m: []\n"
     ]
    }
   ],
   "source": [
    "!kubectl -n kafka-main-cluster get kafkaconnector s3-sink-cdc -o yaml | yq"
   ]
  },
  {
   "cell_type": "code",
   "execution_count": 7,
   "id": "e4b2e167-3421-4724-9d3d-ef654dab248a",
   "metadata": {},
   "outputs": [
    {
     "name": "stdout",
     "output_type": "stream",
     "text": [
      "PUT /connectors/s3-sink-cdc/config returned 400 (Bad Request): Connector configuration is invalid and contains the following 3 error(s):\n",
      "Missing required configuration \"format.class\" which has no default value.\n",
      "Missing required configuration \"flush.size\" which has no default value.\n",
      "Missing required configuration \"storage.class\" which has no default value.\n",
      "You can also find the above list of errors at the endpoint `/connector-plugins/{connectorType}/config/validate`"
     ]
    }
   ],
   "source": [
    "!kubectl -n kafka-main-cluster get kafkaconnector s3-sink-cdc -o jsonpath='{.status.conditions[0].message}'"
   ]
  },
  {
   "cell_type": "code",
   "execution_count": null,
   "id": "bd4cdd73-f9dd-4ba3-af8c-087edf61c788",
   "metadata": {},
   "outputs": [],
   "source": []
  }
 ],
 "metadata": {
  "kernelspec": {
   "display_name": "Python 3 (ipykernel)",
   "language": "python",
   "name": "python3"
  },
  "language_info": {
   "codemirror_mode": {
    "name": "ipython",
    "version": 3
   },
   "file_extension": ".py",
   "mimetype": "text/x-python",
   "name": "python",
   "nbconvert_exporter": "python",
   "pygments_lexer": "ipython3",
   "version": "3.10.13"
  }
 },
 "nbformat": 4,
 "nbformat_minor": 5
}
