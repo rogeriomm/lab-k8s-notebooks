{
 "cells": [
  {
   "cell_type": "code",
   "execution_count": 1,
   "id": "dc47e35e-a3a0-48a1-862f-5b15ad027e74",
   "metadata": {},
   "outputs": [
    {
     "name": "stdout",
     "output_type": "stream",
     "text": [
      "\u001b[36mapiVersion\u001b[0m:\u001b[32m kafka.strimzi.io/v1beta2\u001b[0m\n",
      "\u001b[32m\u001b[0m\u001b[36mkind\u001b[0m:\u001b[32m KafkaConnector\u001b[0m\n",
      "\u001b[32m\u001b[0m\u001b[36mmetadata\u001b[0m:\u001b[36m\u001b[0m\n",
      "\u001b[36m  annotations\u001b[0m:\u001b[36m\u001b[0m\n",
      "\u001b[36m    kubectl.kubernetes.io/last-applied-configuration\u001b[0m: |\n",
      "\u001b[32m      {\"apiVersion\":\"kafka.strimzi.io/v1beta2\",\"kind\":\"KafkaConnector\",\"metadata\":{\"annotations\":{},\"labels\":{\"strimzi.io/cluster\":\"my-connect\"},\"name\":\"s3-source\",\"namespace\":\"kafka-main-cluster\"},\"spec\":{\"class\":\"io.confluent.connect.s3.source.S3SourceConnector\",\"config\":{\"file\":\"/opt/kafka/LICENSE\",\"topic\":\"my-topic\"},\"tasksMax\":2}}\u001b[0m\n",
      "\u001b[32m  \u001b[0m\u001b[36mcreationTimestamp\u001b[0m:\u001b[32m \"2024-02-09T18:31:38Z\"\u001b[0m\u001b[36m\u001b[0m\n",
      "\u001b[36m  generation\u001b[0m:\u001b[95m 1\u001b[0m\n",
      "\u001b[95m  \u001b[0m\u001b[36mlabels\u001b[0m:\u001b[36m\u001b[0m\n",
      "\u001b[36m    strimzi.io/cluster\u001b[0m:\u001b[32m my-connect\u001b[0m\n",
      "\u001b[32m  \u001b[0m\u001b[36mname\u001b[0m:\u001b[32m s3-source\u001b[0m\n",
      "\u001b[32m  \u001b[0m\u001b[36mnamespace\u001b[0m:\u001b[32m kafka-main-cluster\u001b[0m\n",
      "\u001b[32m  \u001b[0m\u001b[36mresourceVersion\u001b[0m:\u001b[32m \"698544\"\u001b[0m\u001b[36m\u001b[0m\n",
      "\u001b[36m  uid\u001b[0m:\u001b[32m 289e1a73-ae76-4026-a802-048938e9257c\u001b[0m\n",
      "\u001b[32m\u001b[0m\u001b[36mspec\u001b[0m:\u001b[36m\u001b[0m\n",
      "\u001b[36m  class\u001b[0m:\u001b[32m io.confluent.connect.s3.source.S3SourceConnector\u001b[0m\n",
      "\u001b[32m  \u001b[0m\u001b[36mconfig\u001b[0m:\u001b[36m\u001b[0m\n",
      "\u001b[36m    file\u001b[0m:\u001b[32m /opt/kafka/LICENSE\u001b[0m\n",
      "\u001b[32m    \u001b[0m\u001b[36mtopic\u001b[0m:\u001b[32m my-topic\u001b[0m\n",
      "\u001b[32m  \u001b[0m\u001b[36mtasksMax\u001b[0m:\u001b[95m 2\u001b[0m\n",
      "\u001b[95m\u001b[0m\u001b[36mstatus\u001b[0m:\u001b[36m\u001b[0m\n",
      "\u001b[36m  conditions\u001b[0m:\n",
      "    -\u001b[36m lastTransitionTime\u001b[0m:\u001b[32m \"2024-02-09T18:31:38.816548075Z\"\u001b[0m\u001b[36m\u001b[0m\n",
      "\u001b[36m      message\u001b[0m: |-\n",
      "\u001b[32m        PUT /connectors/s3-source/config returned 400 (Bad Request): Connector configuration is invalid and contains the following 4 error(s):\u001b[0m\n",
      "\u001b[32m        Missing required configuration \"confluent.topic.bootstrap.servers\" which has no default value.\u001b[0m\n",
      "\u001b[32m        Missing required configuration \"format.class\" which has no default value.\u001b[0m\n",
      "\u001b[32m        Invalid value null for configuration format.class: Class must extend: io.confluent.connect.cloud.storage.source.StorageObjectFormat\u001b[0m\n",
      "\u001b[32m        Missing required configuration \"s3.bucket.name\" which has no default value.\u001b[0m\n",
      "\u001b[32m        You can also find the above list of errors at the endpoint `/connector-plugins/{connectorType}/config/validate`\u001b[0m\n",
      "\u001b[32m      \u001b[0m\u001b[36mreason\u001b[0m:\u001b[32m ConnectRestException\u001b[0m\n",
      "\u001b[32m      \u001b[0m\u001b[36mstatus\u001b[0m:\u001b[32m \"True\"\u001b[0m\u001b[36m\u001b[0m\n",
      "\u001b[36m      type\u001b[0m:\u001b[32m NotReady\u001b[0m\n",
      "\u001b[32m  \u001b[0m\u001b[36mobservedGeneration\u001b[0m:\u001b[95m 1\u001b[0m\n",
      "\u001b[95m  \u001b[0m\u001b[36mtasksMax\u001b[0m:\u001b[95m 2\u001b[0m\n",
      "\u001b[95m  \u001b[0m\u001b[36mtopics\u001b[0m: []\n"
     ]
    }
   ],
   "source": [
    "!kubectl -n kafka-main-cluster get kafkaconnector s3-source -o yaml | yq"
   ]
  },
  {
   "cell_type": "code",
   "execution_count": 2,
   "id": "3d166086-5467-4bb5-8228-4a108a8a9c36",
   "metadata": {},
   "outputs": [
    {
     "name": "stdout",
     "output_type": "stream",
     "text": [
      "PUT /connectors/s3-source/config returned 400 (Bad Request): Connector configuration is invalid and contains the following 4 error(s):\n",
      "Missing required configuration \"confluent.topic.bootstrap.servers\" which has no default value.\n",
      "Missing required configuration \"format.class\" which has no default value.\n",
      "Invalid value null for configuration format.class: Class must extend: io.confluent.connect.cloud.storage.source.StorageObjectFormat\n",
      "Missing required configuration \"s3.bucket.name\" which has no default value.\n",
      "You can also find the above list of errors at the endpoint `/connector-plugins/{connectorType}/config/validate`"
     ]
    }
   ],
   "source": [
    "!kubectl -n kafka-main-cluster get kafkaconnector s3-source -o jsonpath='{.status.conditions[0].message}'"
   ]
  },
  {
   "cell_type": "code",
   "execution_count": null,
   "id": "ae699c23-8caf-470e-be57-f14e4c56c8f3",
   "metadata": {},
   "outputs": [],
   "source": []
  }
 ],
 "metadata": {
  "kernelspec": {
   "display_name": "Python 3 (ipykernel)",
   "language": "python",
   "name": "python3"
  },
  "language_info": {
   "codemirror_mode": {
    "name": "ipython",
    "version": 3
   },
   "file_extension": ".py",
   "mimetype": "text/x-python",
   "name": "python",
   "nbconvert_exporter": "python",
   "pygments_lexer": "ipython3",
   "version": "3.10.13"
  }
 },
 "nbformat": 4,
 "nbformat_minor": 5
}
