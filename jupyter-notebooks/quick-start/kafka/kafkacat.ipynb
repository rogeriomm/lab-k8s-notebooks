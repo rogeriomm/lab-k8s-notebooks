{
 "cells": [
  {
   "cell_type": "code",
   "execution_count": 2,
   "id": "c8766b8f-6b47-40c8-86d2-da196770977a",
   "metadata": {},
   "outputs": [
    {
     "name": "stdout",
     "output_type": "stream",
     "text": [
      "\u001b[36mapiVersion\u001b[0m:\u001b[32m v1\u001b[0m\n",
      "\u001b[32m\u001b[0m\u001b[36mdata\u001b[0m:\u001b[36m\u001b[0m\n",
      "\u001b[36m  password\u001b[0m:\u001b[32m aXNUNUV4eTdSV2h6bzVsMkxWbGNRVzFxeXRKSEU5NHQ=\u001b[0m\n",
      "\u001b[32m  \u001b[0m\u001b[36msasl.jaas.config\u001b[0m:\u001b[32m b3JnLmFwYWNoZS5rYWZrYS5jb21tb24uc2VjdXJpdHkuc2NyYW0uU2NyYW1Mb2dpbk1vZHVsZSByZXF1aXJlZCB1c2VybmFtZT0ia2Fma2EtdXNlci1pZGUiIHBhc3N3b3JkPSJpc1Q1RXh5N1JXaHpvNWwyTFZsY1FXMXF5dEpIRTk0dCI7\u001b[0m\n",
      "\u001b[32m\u001b[0m\u001b[36mkind\u001b[0m:\u001b[32m Secret\u001b[0m\n",
      "\u001b[32m\u001b[0m\u001b[36mmetadata\u001b[0m:\u001b[36m\u001b[0m\n",
      "\u001b[36m  creationTimestamp\u001b[0m:\u001b[32m \"2024-01-29T21:44:28Z\"\u001b[0m\u001b[36m\u001b[0m\n",
      "\u001b[36m  labels\u001b[0m:\u001b[36m\u001b[0m\n",
      "\u001b[36m    app.kubernetes.io/instance\u001b[0m:\u001b[32m kafka-user-ide\u001b[0m\n",
      "\u001b[32m    \u001b[0m\u001b[36mapp.kubernetes.io/managed-by\u001b[0m:\u001b[32m strimzi-user-operator\u001b[0m\n",
      "\u001b[32m    \u001b[0m\u001b[36mapp.kubernetes.io/name\u001b[0m:\u001b[32m strimzi-user-operator\u001b[0m\n",
      "\u001b[32m    \u001b[0m\u001b[36mapp.kubernetes.io/part-of\u001b[0m:\u001b[32m strimzi-kafka-user-ide\u001b[0m\n",
      "\u001b[32m    \u001b[0m\u001b[36mstrimzi.io/cluster\u001b[0m:\u001b[32m main\u001b[0m\n",
      "\u001b[32m    \u001b[0m\u001b[36mstrimzi.io/kind\u001b[0m:\u001b[32m KafkaUser\u001b[0m\n",
      "\u001b[32m  \u001b[0m\u001b[36mname\u001b[0m:\u001b[32m kafka-user-ide\u001b[0m\n",
      "\u001b[32m  \u001b[0m\u001b[36mnamespace\u001b[0m:\u001b[32m kafka-main-cluster\u001b[0m\n",
      "\u001b[32m  \u001b[0m\u001b[36mownerReferences\u001b[0m:\n",
      "    -\u001b[36m apiVersion\u001b[0m:\u001b[32m kafka.strimzi.io/v1beta2\u001b[0m\n",
      "\u001b[32m      \u001b[0m\u001b[36mblockOwnerDeletion\u001b[0m:\u001b[95m false\u001b[0m\n",
      "\u001b[95m      \u001b[0m\u001b[36mcontroller\u001b[0m:\u001b[95m false\u001b[0m\n",
      "\u001b[95m      \u001b[0m\u001b[36mkind\u001b[0m:\u001b[32m KafkaUser\u001b[0m\n",
      "\u001b[32m      \u001b[0m\u001b[36mname\u001b[0m:\u001b[32m kafka-user-ide\u001b[0m\n",
      "\u001b[32m      \u001b[0m\u001b[36muid\u001b[0m:\u001b[32m 77b661b1-ae50-4888-90c0-2c85ef686f80\u001b[0m\n",
      "\u001b[32m  \u001b[0m\u001b[36mresourceVersion\u001b[0m:\u001b[32m \"12490\"\u001b[0m\u001b[36m\u001b[0m\n",
      "\u001b[36m  uid\u001b[0m:\u001b[32m 3d7797e6-f6d7-4190-a22c-d7b1cad365a5\u001b[0m\n",
      "\u001b[32m\u001b[0m\u001b[36mtype\u001b[0m:\u001b[32m Opaque\u001b[0m\n"
     ]
    }
   ],
   "source": [
    "!kubectl -n kafka-main-cluster get secret kafka-user-ide -o yaml | yq"
   ]
  },
  {
   "cell_type": "code",
   "execution_count": 7,
   "id": "dc954496-5d78-4c7c-9407-8e62432d7901",
   "metadata": {},
   "outputs": [
    {
     "name": "stdout",
     "output_type": "stream",
     "text": [
      "Starting Nmap 7.80 ( https://nmap.org ) at 2024-01-30 07:09 -03\n",
      "Nmap scan report for main-kafka-bootstrap.kafka-main-cluster.svc (10.108.236.114)\n",
      "Host is up (0.00018s latency).\n",
      "rDNS record for 10.108.236.114: main-kafka-bootstrap.kafka-main-cluster.svc.cluster2.xpt\n",
      "\n",
      "PORT     STATE SERVICE\n",
      "9091/tcp open  xmltec-xmlmail\n",
      "9092/tcp open  XmlIpcRegSvc\n",
      "9093/tcp open  copycat\n",
      "\n",
      "Nmap done: 1 IP address (1 host up) scanned in 0.12 seconds\n"
     ]
    }
   ],
   "source": [
    "!nmap -p 9091,9092,9093 main-kafka-bootstrap.kafka-main-cluster.svc"
   ]
  },
  {
   "cell_type": "code",
   "execution_count": 3,
   "id": "04b1315b-9016-47b7-afcd-53364611108d",
   "metadata": {},
   "outputs": [
    {
     "name": "stdout",
     "output_type": "stream",
     "text": [
      "user=kafka-user-ide\n",
      "password=isT5Exy7RWhzo5l2LVlcQW1qytJHE94t\n",
      "% Reached end of topic my-topic [0] at offset 0\n",
      "% Reached end of topic my-topic [1] at offset 0: exiting\n"
     ]
    }
   ],
   "source": [
    "! user=\"kafka-user-ide\" ; \\\n",
    "  password=$(kubectl -n kafka-main-cluster get secret kafka-user-ide -o=jsonpath='{.data.password}' | base64 -d) ; \\\n",
    "  echo user=$user && echo password=$password && \\\n",
    "  kafkacat -C -e -b main-kafka-bootstrap.kafka-main-cluster.svc.cluster2.xpt:9092 -X security.protocol=SASL_PLAINTEXT -X sasl.mechanisms=SCRAM-SHA-512 -X sasl.username=$user -X sasl.password=$password -t my-topic"
   ]
  },
  {
   "cell_type": "code",
   "execution_count": null,
   "id": "99a7aaad-9f82-4193-82fa-850516fdaabe",
   "metadata": {},
   "outputs": [],
   "source": []
  }
 ],
 "metadata": {
  "kernelspec": {
   "display_name": "Python 3 (ipykernel)",
   "language": "python",
   "name": "python3"
  },
  "language_info": {
   "codemirror_mode": {
    "name": "ipython",
    "version": 3
   },
   "file_extension": ".py",
   "mimetype": "text/x-python",
   "name": "python",
   "nbconvert_exporter": "python",
   "pygments_lexer": "ipython3",
   "version": "3.10.13"
  }
 },
 "nbformat": 4,
 "nbformat_minor": 5
}
