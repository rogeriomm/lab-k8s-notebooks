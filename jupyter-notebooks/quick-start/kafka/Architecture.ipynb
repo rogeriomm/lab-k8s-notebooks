{
 "cells": [
  {
   "cell_type": "code",
   "execution_count": 33,
   "id": "b1df560f-53f1-40a5-a5d1-62e3e104b305",
   "metadata": {
    "editable": false,
    "slideshow": {
     "slide_type": "skip"
    },
    "tags": [
     "hide-input"
    ]
   },
   "outputs": [],
   "source": [
    " \n",
    "import base64\n",
    "from IPython.display import Image, display\n",
    "import matplotlib.pyplot as plt\n",
    "\n",
    "def mm(graph):\n",
    "  graphbytes = graph.encode(\"ascii\")\n",
    "  base64_bytes = base64.b64encode(graphbytes)\n",
    "  base64_string = base64_bytes.decode(\"ascii\")\n",
    "  display(Image(url=\"https://mermaid.ink/img/\"+ base64_string))\n",
    " "
   ]
  },
  {
   "cell_type": "code",
   "execution_count": 35,
   "id": "55747834-8d05-44f0-abbe-62fa7325a10b",
   "metadata": {
    "editable": false,
    "slideshow": {
     "slide_type": ""
    },
    "tags": [
     "hide-input"
    ]
   },
   "outputs": [
    {
     "data": {
      "text/html": [
       "<img src=\"https://mermaid.ink/img/CmZsb3djaGFydCBURAogICAgUG9zdGdyZXMoUG9zdGdyZXMgRGF0YWJhc2UpIC0tPnxDREN8IEthZmthKEthZmthIFN0cmltemkpCiAgICBTUUxTZXJ2ZXIoU1FMIFNlcnZlciBEYXRhYmFzZSkgLS0+fENEQ3wgS2Fma2EKICAgIEthZmthIC0tPnxBVlJPIERhdGEgU3RyZWFtfCBDb25zdW1lck1pbmlvKE1pbmlvIFMzKQogICAgQ29uc3VtZXJNaW5pbyAtLT58QVZSTyBEYXRhIFN0cmVhbXwgQ29uc3VtZXJTcGFyayhBcGFjaGUgU3BhcmspCiAgICBDb25zdW1lclNwYXJrIC0tPiB8Q0RDIFJlcGxpY2F0aW9uIHVzaW5nIFNjYWxhIEVuZ2luZSAtIFRPRE98IENvbnN1bWVyRGVsdGEoRGVsdGEgTGFrZSkKICAgIENvbnN1bWVyU3BhcmsgLS0+IHxEYXRhIGNhdGFsb2csIGxpbmVhZ2V8IENvbnN1bWVyRGF0YWh1YihEYXRhaHViKQogICAgQ29uc3VtZXJTcGFyayAtLT4gSGl2ZU1ldGFzdG9yZShIaXZlIG1ldGFzdG9yZSkKICAgIEthZmthIC0tPnxTY2hlbWEgTWFuYWdlbWVudHwgU2NoZW1hUmVnaXN0cnkoQ29uZmx1ZW50IFNjaGVtYSBSZWdpc3RyeSkKICAgIFNjaGVtYVJlZ2lzdHJ5IC0tPnxTY2hlbWEgVXNlIC0gQVBJfCBDb25zdW1lclNwYXJrCiAgICBDb25zdW1lckRlbHRhIC0tPnxEYXRhIFF1ZXJ5fCBUcmlubyhUcmlubykKICAgIEFpcmZsb3coQXBhY2hlIEFpcmZsb3cpIC0tPnxPcmNoZXN0cmF0ZXwgQ29uc3VtZXJTcGFyawogICAgVHJpbm8gLS0+IFplcHBlbGluKFplcHBlbGluKQogICAgVHJpbm8gLS0+IEp1cHl0ZXIoSnVweXRlcikKICAgIFRyaW5vIC0tPiBNZXRhYmFzZShNZXRhYmFzZSkKICAgIAogICAgY2xhc3MgUG9zdGdyZXMsU1FMU2VydmVyIGRhdGFiYXNlOwogICAgY2xhc3MgS2Fma2EsU2NoZW1hUmVnaXN0cnkga2Fma2E7CiAgICBjbGFzcyBDb25zdW1lck1pbmlvLENvbnN1bWVyU3BhcmssQ29uc3VtZXJEZWx0YSxUcmlubyxBaXJmbG93IGNvbnN1bWVyczsKICAgIGNsYXNzIERhdGFodWIgZGF0YWh1YjsK\"/>"
      ],
      "text/plain": [
       "<IPython.core.display.Image object>"
      ]
     },
     "metadata": {},
     "output_type": "display_data"
    }
   ],
   "source": [
    "mm(\"\"\"\n",
    "flowchart TD\n",
    "    Postgres(Postgres Database) -->|CDC| Kafka(Kafka Strimzi)\n",
    "    SQLServer(SQL Server Database) -->|CDC| Kafka\n",
    "    Kafka -->|AVRO Data Stream| ConsumerMinio(Minio S3)\n",
    "    ConsumerMinio -->|AVRO Data Stream| ConsumerSpark(Apache Spark)\n",
    "    ConsumerSpark --> |CDC Replication using Scala Engine - TODO| ConsumerDelta(Delta Lake)\n",
    "    ConsumerSpark --> |Data catalog, lineage| ConsumerDatahub(Datahub)\n",
    "    ConsumerSpark --> HiveMetastore(Hive metastore)\n",
    "    Kafka -->|Schema Management| SchemaRegistry(Confluent Schema Registry)\n",
    "    SchemaRegistry -->|Schema Use - API| ConsumerSpark\n",
    "    ConsumerDelta -->|Data Query| Trino(Trino)\n",
    "    Airflow(Apache Airflow) -->|Orchestrate| ConsumerSpark\n",
    "    Trino --> Zeppelin(Zeppelin)\n",
    "    Trino --> Jupyter(Jupyter)\n",
    "    Trino --> Metabase(Metabase)\n",
    "    \n",
    "    class Postgres,SQLServer database;\n",
    "    class Kafka,SchemaRegistry kafka;\n",
    "    class ConsumerMinio,ConsumerSpark,ConsumerDelta,Trino,Airflow consumers;\n",
    "    class Datahub datahub;\n",
    "\"\"\")    "
   ]
  },
  {
   "cell_type": "code",
   "execution_count": null,
   "id": "0291f7b3-9666-4268-ab9e-41dabcac335a",
   "metadata": {
    "editable": true,
    "slideshow": {
     "slide_type": ""
    },
    "tags": []
   },
   "outputs": [],
   "source": []
  }
 ],
 "metadata": {
  "kernelspec": {
   "display_name": "Python 3 (ipykernel)",
   "language": "python",
   "name": "python3"
  },
  "language_info": {
   "codemirror_mode": {
    "name": "ipython",
    "version": 3
   },
   "file_extension": ".py",
   "mimetype": "text/x-python",
   "name": "python",
   "nbconvert_exporter": "python",
   "pygments_lexer": "ipython3",
   "version": "3.10.13"
  },
  "toc": {
   "base_numbering": 0
  }
 },
 "nbformat": 4,
 "nbformat_minor": 5
}
