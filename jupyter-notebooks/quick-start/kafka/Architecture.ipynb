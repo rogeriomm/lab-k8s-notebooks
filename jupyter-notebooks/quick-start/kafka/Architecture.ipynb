{
 "cells": [
  {
   "cell_type": "code",
   "execution_count": 2,
   "id": "ca2a29ca-9ada-4abd-a6bf-7885f8af7c4c",
   "metadata": {},
   "outputs": [
    {
     "data": {
      "text/html": [
       "<img src=\"https://mermaid.ink/img/CmZsb3djaGFydCBURAogICAgUG9zdGdyZXMoUG9zdGdyZXMgRGF0YWJhc2UpIC0tPnxDREN8IEthZmthKEthZmthIFN0cmltemkpCiAgICBTUUxTZXJ2ZXIoU1FMIFNlcnZlciBEYXRhYmFzZSkgLS0+fENEQ3wgS2Fma2EKICAgIEthZmthIC0tPnxEYXRhIFN0cmVhbXwgQ29uc3VtZXJze0NvbnN1bWVyc30KCgogICAgY2xhc3MgUG9zdGdyZXMsU1FMU2VydmVyIGRhdGFiYXNlOwogICAgY2xhc3MgS2Fma2Ega2Fma2E7CiAgICBjbGFzcyBDb25zdW1lcnMgY29uc3VtZXJzOwo=\"/>"
      ],
      "text/plain": [
       "<IPython.core.display.Image object>"
      ]
     },
     "metadata": {},
     "output_type": "display_data"
    }
   ],
   "source": [
    "import base64\n",
    "from IPython.display import Image, display\n",
    "import matplotlib.pyplot as plt\n",
    "\n",
    "def mm(graph):\n",
    "  graphbytes = graph.encode(\"ascii\")\n",
    "  base64_bytes = base64.b64encode(graphbytes)\n",
    "  base64_string = base64_bytes.decode(\"ascii\")\n",
    "  display(Image(url=\"https://mermaid.ink/img/\"+ base64_string))\n",
    "\n",
    "mm(\"\"\"\n",
    "flowchart TD\n",
    "    Postgres(Postgres Database) -->|CDC| Kafka(Kafka Strimzi)\n",
    "    SQLServer(SQL Server Database) -->|CDC| Kafka\n",
    "    Kafka -->|Data Stream| Consumers{Consumers}\n",
    "\n",
    "\n",
    "    class Postgres,SQLServer database;\n",
    "    class Kafka kafka;\n",
    "    class Consumers consumers;\n",
    "\"\"\")"
   ]
  },
  {
   "cell_type": "code",
   "execution_count": null,
   "id": "f1f5a903-8ee1-4d50-8203-480b15d38d78",
   "metadata": {},
   "outputs": [],
   "source": []
  }
 ],
 "metadata": {
  "kernelspec": {
   "display_name": "Python 3 (ipykernel)",
   "language": "python",
   "name": "python3"
  },
  "language_info": {
   "codemirror_mode": {
    "name": "ipython",
    "version": 3
   },
   "file_extension": ".py",
   "mimetype": "text/x-python",
   "name": "python",
   "nbconvert_exporter": "python",
   "pygments_lexer": "ipython3",
   "version": "3.10.13"
  }
 },
 "nbformat": 4,
 "nbformat_minor": 5
}
