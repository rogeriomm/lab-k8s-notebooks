{
 "cells": [
  {
   "cell_type": "code",
   "execution_count": 4,
   "id": "5fae50ff-2d54-43c3-8815-de608edc7f3d",
   "metadata": {},
   "outputs": [
    {
     "name": "stdout",
     "output_type": "stream",
     "text": [
      "\u001b[36mapiVersion\u001b[0m:\u001b[32m v1\u001b[0m\n",
      "\u001b[32m\u001b[0m\u001b[36mdata\u001b[0m:\u001b[36m\u001b[0m\n",
      "\u001b[36m  config.yml\u001b[0m:\u001b[32m \"kafka:\\n  clusters:\\n    - name: main\\n      bootstrapServers: main-kafka-bootstrap.kafka-main-cluster.svc:9092\\n      properties:\\n        security.protocol: SASL_PLAINTEXT\\n        sasl.mechanism: SCRAM-SHA-512\\n        sasl.jaas.config: org.apache.kafka.common.security.scram.ScramLoginModule required username=\\\"kafka-user-ui\\\" password=\\\"ApNuLRu8H2GyZIL7gGB0czRwbQ4caT3Y\\\";\\n      schemaRegistry: http://main-registry-schema-registry.kafka-main-cluster.svc:8081\\n      \\nauth:\\n  type: disabled\\nmanagement:\\n  health:\\n    ldap:\\n      enabled: false  \"\u001b[0m\u001b[36m\u001b[0m\n",
      "\u001b[36mkind\u001b[0m:\u001b[32m ConfigMap\u001b[0m\n",
      "\u001b[32m\u001b[0m\u001b[36mmetadata\u001b[0m:\u001b[36m\u001b[0m\n",
      "\u001b[36m  annotations\u001b[0m:\u001b[36m\u001b[0m\n",
      "\u001b[36m    kubectl.kubernetes.io/last-applied-configuration\u001b[0m: |\n",
      "\u001b[32m      {\"apiVersion\":\"v1\",\"data\":{\"config.yml\":\"kafka:\\n  clusters:\\n    - name: main\\n      bootstrapServers: main-kafka-bootstrap.kafka-main-cluster.svc:9092\\n      properties:\\n        security.protocol: SASL_PLAINTEXT\\n        sasl.mechanism: SCRAM-SHA-512\\n        sasl.jaas.config: org.apache.kafka.common.security.scram.ScramLoginModule required username=\\\"kafka-user-ui\\\" password=\\\"ApNuLRu8H2GyZIL7gGB0czRwbQ4caT3Y\\\";\\n      schemaRegistry: http://main-registry-schema-registry.kafka-main-cluster.svc:8081\\n      \\nauth:\\n  type: disabled\\nmanagement:\\n  health:\\n    ldap:\\n      enabled: false  \"},\"kind\":\"ConfigMap\",\"metadata\":{\"annotations\":{},\"name\":\"kafka-ui-configmap\",\"namespace\":\"kafka\"}}\u001b[0m\n",
      "\u001b[32m  \u001b[0m\u001b[36mcreationTimestamp\u001b[0m:\u001b[32m \"2024-02-02T10:41:37Z\"\u001b[0m\u001b[36m\u001b[0m\n",
      "\u001b[36m  name\u001b[0m:\u001b[32m kafka-ui-configmap\u001b[0m\n",
      "\u001b[32m  \u001b[0m\u001b[36mnamespace\u001b[0m:\u001b[32m kafka\u001b[0m\n",
      "\u001b[32m  \u001b[0m\u001b[36mresourceVersion\u001b[0m:\u001b[32m \"361007\"\u001b[0m\u001b[36m\u001b[0m\n",
      "\u001b[36m  uid\u001b[0m:\u001b[32m 83f2e7a6-c4e2-415b-9239-54d6c80e98fb\u001b[0m\n"
     ]
    }
   ],
   "source": [
    "!kubectl -n kafka get configmap -o yaml kafka-ui-configmap | yq"
   ]
  },
  {
   "cell_type": "code",
   "execution_count": 5,
   "id": "7fdc696f-9b2e-47f2-8afb-d4e66694ec17",
   "metadata": {},
   "outputs": [
    {
     "name": "stdout",
     "output_type": "stream",
     "text": [
      "\u001b[36mkafka\u001b[0m:\u001b[36m\u001b[0m\n",
      "\u001b[36m  clusters\u001b[0m:\n",
      "    -\u001b[36m name\u001b[0m:\u001b[32m main\u001b[0m\n",
      "\u001b[32m      \u001b[0m\u001b[36mbootstrapServers\u001b[0m:\u001b[32m main-kafka-bootstrap.kafka-main-cluster.svc.cluster2.xpt:9092\u001b[0m\n",
      "\u001b[32m      \u001b[0m\u001b[36mproperties\u001b[0m:\u001b[36m\u001b[0m\n",
      "\u001b[36m        security.protocol\u001b[0m:\u001b[32m SASL_PLAINTEXT\u001b[0m\n",
      "\u001b[32m        \u001b[0m\u001b[36msasl.mechanism\u001b[0m:\u001b[32m SCRAM-SHA-512\u001b[0m\n",
      "\u001b[32m        \u001b[0m\u001b[36msasl.jaas.config\u001b[0m:\u001b[32m org.apache.kafka.common.security.scram.ScramLoginModule required username=\"kafka-user-ui\" password=\"b0UUwAnsMQhLWlwwDOs6jlGz1SlRUpQp\";\u001b[0m\n",
      "\u001b[32m        \u001b[0m\u001b[36mschemaRegistry\u001b[0m:\u001b[32m http://main-registry-schema-registry.kafka-main-cluster.svc:8081\u001b[0m\n",
      "\u001b[32m\u001b[0m\u001b[36mauth\u001b[0m:\u001b[36m\u001b[0m\n",
      "\u001b[36m  type\u001b[0m:\u001b[32m disabled\u001b[0m\n",
      "\u001b[32m\u001b[0m\u001b[36mmanagement\u001b[0m:\u001b[36m\u001b[0m\n",
      "\u001b[36m  health\u001b[0m:\u001b[36m\u001b[0m\n",
      "\u001b[36m    ldap\u001b[0m:\u001b[36m\u001b[0m\n",
      "\u001b[36m      enabled\u001b[0m:\u001b[95m false\u001b[0m\n"
     ]
    }
   ],
   "source": [
    "!kubectl -n kafka get configmap kafka-ui-configmap -o jsonpath='{.data.config\\.yml}' | yq"
   ]
  },
  {
   "cell_type": "code",
   "execution_count": 6,
   "id": "a857f884-071e-4736-a5a6-25c43051834b",
   "metadata": {},
   "outputs": [
    {
     "name": "stdout",
     "output_type": "stream",
     "text": [
      "org.apache.kafka.common.security.scram.ScramLoginModule required username=\"kafka-user-ui\" password=\"b0UUwAnsMQhLWlwwDOs6jlGz1SlRUpQp\";\n"
     ]
    }
   ],
   "source": [
    "! sasl_jaas_config=$(kubectl -n kafka-main-cluster get secret kafka-user-ui -o=jsonpath='{.data.sasl\\.jaas\\.config}' | base64 -d) && \\\n",
    "  echo $sasl_jaas_config"
   ]
  },
  {
   "cell_type": "code",
   "execution_count": null,
   "id": "8add55fe-f591-475e-88f2-368815bc2699",
   "metadata": {},
   "outputs": [],
   "source": []
  }
 ],
 "metadata": {
  "kernelspec": {
   "display_name": "Python 3 (ipykernel)",
   "language": "python",
   "name": "python3"
  },
  "language_info": {
   "codemirror_mode": {
    "name": "ipython",
    "version": 3
   },
   "file_extension": ".py",
   "mimetype": "text/x-python",
   "name": "python",
   "nbconvert_exporter": "python",
   "pygments_lexer": "ipython3",
   "version": "3.10.13"
  }
 },
 "nbformat": 4,
 "nbformat_minor": 5
}
