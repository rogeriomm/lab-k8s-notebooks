{
 "cells": [
  {
   "cell_type": "code",
   "execution_count": 11,
   "id": "dc991b8c-d40a-4145-9d3c-59703f04f267",
   "metadata": {},
   "outputs": [
    {
     "name": "stdout",
     "output_type": "stream",
     "text": [
      "\u001b[37mNAME                                                          READY   STATUS    RESTARTS   AGE\u001b[0m\n",
      "\u001b[36mpod/jfrog-artifactory-jcr-0\u001b[0m                                   \u001b[32m6/6\u001b[0m     \u001b[35mRunning\u001b[0m   \u001b[37m0\u001b[0m          \u001b[33m89s\u001b[0m\n",
      "\u001b[36mpod/jfrog-artifactory-jcr-artifactory-nginx-7659d48c9-xvbql\u001b[0m   \u001b[32m1/1\u001b[0m     \u001b[35mRunning\u001b[0m   \u001b[37m0\u001b[0m          \u001b[33m89s\u001b[0m\n",
      "\u001b[37m\u001b[0m\n",
      "\u001b[37mNAME                                              TYPE           CLUSTER-IP       EXTERNAL-IP   PORT(S)                      AGE\u001b[0m\n",
      "\u001b[36mservice/jfrog-artifactory-jcr\u001b[0m                     \u001b[36mClusterIP\u001b[0m      \u001b[32m10.98.211.175\u001b[0m    \u001b[35m<none>\u001b[0m        \u001b[37m8082/TCP,8025/TCP,8081/TCP\u001b[0m   \u001b[33m89s\u001b[0m\n",
      "\u001b[36mservice/jfrog-artifactory-jcr-artifactory-nginx\u001b[0m   \u001b[36mLoadBalancer\u001b[0m   \u001b[32m10.106.183.222\u001b[0m   \u001b[35m<pending>\u001b[0m     \u001b[37m80:30932/TCP,443:31545/TCP\u001b[0m   \u001b[33m89s\u001b[0m\n",
      "\u001b[37m\u001b[0m\n",
      "\u001b[37mNAME                                                      READY   UP-TO-DATE   AVAILABLE   AGE\u001b[0m\n",
      "\u001b[36mdeployment.apps/jfrog-artifactory-jcr-artifactory-nginx\u001b[0m   \u001b[36m1/1\u001b[0m     \u001b[32m1\u001b[0m            \u001b[35m1\u001b[0m           \u001b[33m89s\u001b[0m\n",
      "\u001b[37m\u001b[0m\n",
      "\u001b[37mNAME                                                                DESIRED   CURRENT   READY   AGE\u001b[0m\n",
      "\u001b[36mreplicaset.apps/jfrog-artifactory-jcr-artifactory-nginx-7659d48c9\u001b[0m   \u001b[37m1\u001b[0m         \u001b[33m1\u001b[0m         \u001b[36m1\u001b[0m       \u001b[37m89s\u001b[0m\n",
      "\u001b[37m\u001b[0m\n",
      "\u001b[37mNAME                                     READY   AGE\u001b[0m\n",
      "\u001b[36mstatefulset.apps/jfrog-artifactory-jcr\u001b[0m   \u001b[32m1/1\u001b[0m     \u001b[35m89s\u001b[0m\n"
     ]
    }
   ],
   "source": [
    "!kubecolor -n jfrog get all"
   ]
  },
  {
   "cell_type": "code",
   "execution_count": 12,
   "id": "f91fc90a-5ced-4c31-9d32-74427aa7d5e6",
   "metadata": {},
   "outputs": [
    {
     "name": "stdout",
     "output_type": "stream",
     "text": [
      "\u001b[37mNAME                                      TYPE        CLUSTER-IP       EXTERNAL-IP   PORT(S)                      AGE\u001b[0m\n",
      "\u001b[36mjfrog-artifactory-jcr\u001b[0m                     \u001b[32mClusterIP\u001b[0m   \u001b[35m10.101.73.29\u001b[0m     \u001b[37m<none>\u001b[0m        \u001b[33m8082/TCP,8025/TCP,8081/TCP\u001b[0m   \u001b[36m19m\u001b[0m\n",
      "\u001b[36mjfrog-artifactory-jcr-artifactory-nginx\u001b[0m   \u001b[32mClusterIP\u001b[0m   \u001b[35m10.109.119.137\u001b[0m   \u001b[37m<none>\u001b[0m        \u001b[33m80/TCP,443/TCP\u001b[0m               \u001b[36m19m\u001b[0m\n"
     ]
    }
   ],
   "source": [
    "!kubecolor -n jfrog get services"
   ]
  },
  {
   "cell_type": "code",
   "execution_count": 13,
   "id": "53bd6f0e-d3dc-4cdb-9dfc-cba077c9f069",
   "metadata": {},
   "outputs": [
    {
     "name": "stdout",
     "output_type": "stream",
     "text": [
      "\u001b[36mapiVersion\u001b[0m:\u001b[32m v1\u001b[0m\n",
      "\u001b[32m\u001b[0m\u001b[36mkind\u001b[0m:\u001b[32m Service\u001b[0m\n",
      "\u001b[32m\u001b[0m\u001b[36mmetadata\u001b[0m:\u001b[36m\u001b[0m\n",
      "\u001b[36m  annotations\u001b[0m:\u001b[36m\u001b[0m\n",
      "\u001b[36m    meta.helm.sh/release-name\u001b[0m:\u001b[32m jfrog-artifactory-jcr\u001b[0m\n",
      "\u001b[32m    \u001b[0m\u001b[36mmeta.helm.sh/release-namespace\u001b[0m:\u001b[32m jfrog\u001b[0m\n",
      "\u001b[32m  \u001b[0m\u001b[36mcreationTimestamp\u001b[0m:\u001b[32m \"2024-02-05T13:40:58Z\"\u001b[0m\u001b[36m\u001b[0m\n",
      "\u001b[36m  labels\u001b[0m:\u001b[36m\u001b[0m\n",
      "\u001b[36m    app\u001b[0m:\u001b[32m artifactory\u001b[0m\n",
      "\u001b[32m    \u001b[0m\u001b[36mapp.kubernetes.io/managed-by\u001b[0m:\u001b[32m Helm\u001b[0m\n",
      "\u001b[32m    \u001b[0m\u001b[36mchart\u001b[0m:\u001b[32m artifactory-107.77.3\u001b[0m\n",
      "\u001b[32m    \u001b[0m\u001b[36mcomponent\u001b[0m:\u001b[32m artifactory\u001b[0m\n",
      "\u001b[32m    \u001b[0m\u001b[36mheritage\u001b[0m:\u001b[32m Helm\u001b[0m\n",
      "\u001b[32m    \u001b[0m\u001b[36mrelease\u001b[0m:\u001b[32m jfrog-artifactory-jcr\u001b[0m\n",
      "\u001b[32m  \u001b[0m\u001b[36mname\u001b[0m:\u001b[32m jfrog-artifactory-jcr\u001b[0m\n",
      "\u001b[32m  \u001b[0m\u001b[36mnamespace\u001b[0m:\u001b[32m jfrog\u001b[0m\n",
      "\u001b[32m  \u001b[0m\u001b[36mresourceVersion\u001b[0m:\u001b[32m \"2743823\"\u001b[0m\u001b[36m\u001b[0m\n",
      "\u001b[36m  uid\u001b[0m:\u001b[32m 0f4d7f85-9036-466b-9092-da5813774355\u001b[0m\n",
      "\u001b[32m\u001b[0m\u001b[36mspec\u001b[0m:\u001b[36m\u001b[0m\n",
      "\u001b[36m  clusterIP\u001b[0m:\u001b[32m 10.101.73.29\u001b[0m\n",
      "\u001b[32m  \u001b[0m\u001b[36mclusterIPs\u001b[0m:\n",
      "    -\u001b[32m 10.101.73.29\u001b[0m\n",
      "\u001b[32m  \u001b[0m\u001b[36minternalTrafficPolicy\u001b[0m:\u001b[32m Cluster\u001b[0m\n",
      "\u001b[32m  \u001b[0m\u001b[36mipFamilies\u001b[0m:\n",
      "    -\u001b[32m IPv4\u001b[0m\n",
      "\u001b[32m  \u001b[0m\u001b[36mipFamilyPolicy\u001b[0m:\u001b[32m SingleStack\u001b[0m\n",
      "\u001b[32m  \u001b[0m\u001b[36mports\u001b[0m:\n",
      "    -\u001b[36m name\u001b[0m:\u001b[32m http-router\u001b[0m\n",
      "\u001b[32m      \u001b[0m\u001b[36mport\u001b[0m:\u001b[95m 8082\u001b[0m\n",
      "\u001b[95m      \u001b[0m\u001b[36mprotocol\u001b[0m:\u001b[32m TCP\u001b[0m\n",
      "\u001b[32m      \u001b[0m\u001b[36mtargetPort\u001b[0m:\u001b[95m 8082\u001b[0m\n",
      "\u001b[95m    \u001b[0m-\u001b[36m name\u001b[0m:\u001b[32m http-rtfs\u001b[0m\n",
      "\u001b[32m      \u001b[0m\u001b[36mport\u001b[0m:\u001b[95m 8025\u001b[0m\n",
      "\u001b[95m      \u001b[0m\u001b[36mprotocol\u001b[0m:\u001b[32m TCP\u001b[0m\n",
      "\u001b[32m      \u001b[0m\u001b[36mtargetPort\u001b[0m:\u001b[95m 8025\u001b[0m\n",
      "\u001b[95m    \u001b[0m-\u001b[36m name\u001b[0m:\u001b[32m http-artifactory\u001b[0m\n",
      "\u001b[32m      \u001b[0m\u001b[36mport\u001b[0m:\u001b[95m 8081\u001b[0m\n",
      "\u001b[95m      \u001b[0m\u001b[36mprotocol\u001b[0m:\u001b[32m TCP\u001b[0m\n",
      "\u001b[32m      \u001b[0m\u001b[36mtargetPort\u001b[0m:\u001b[95m 8081\u001b[0m\n",
      "\u001b[95m  \u001b[0m\u001b[36mselector\u001b[0m:\u001b[36m\u001b[0m\n",
      "\u001b[36m    app\u001b[0m:\u001b[32m artifactory\u001b[0m\n",
      "\u001b[32m    \u001b[0m\u001b[36mcomponent\u001b[0m:\u001b[32m artifactory\u001b[0m\n",
      "\u001b[32m    \u001b[0m\u001b[36mrelease\u001b[0m:\u001b[32m jfrog-artifactory-jcr\u001b[0m\n",
      "\u001b[32m  \u001b[0m\u001b[36msessionAffinity\u001b[0m:\u001b[32m None\u001b[0m\n",
      "\u001b[32m  \u001b[0m\u001b[36mtype\u001b[0m:\u001b[32m ClusterIP\u001b[0m\n",
      "\u001b[32m\u001b[0m\u001b[36mstatus\u001b[0m:\u001b[36m\u001b[0m\n",
      "\u001b[36m  loadBalancer\u001b[0m: {}\n"
     ]
    }
   ],
   "source": [
    "!kubectl  -n jfrog get services jfrog-artifactory-jcr -o yaml | yq"
   ]
  },
  {
   "cell_type": "code",
   "execution_count": 14,
   "id": "ce62fcb5-0028-47ad-ab10-03dcff5c4331",
   "metadata": {},
   "outputs": [
    {
     "name": "stdout",
     "output_type": "stream",
     "text": [
      "\u001b[36mapiVersion\u001b[0m:\u001b[32m v1\u001b[0m\n",
      "\u001b[32m\u001b[0m\u001b[36mkind\u001b[0m:\u001b[32m Service\u001b[0m\n",
      "\u001b[32m\u001b[0m\u001b[36mmetadata\u001b[0m:\u001b[36m\u001b[0m\n",
      "\u001b[36m  annotations\u001b[0m:\u001b[36m\u001b[0m\n",
      "\u001b[36m    meta.helm.sh/release-name\u001b[0m:\u001b[32m jfrog-artifactory-jcr\u001b[0m\n",
      "\u001b[32m    \u001b[0m\u001b[36mmeta.helm.sh/release-namespace\u001b[0m:\u001b[32m jfrog\u001b[0m\n",
      "\u001b[32m  \u001b[0m\u001b[36mcreationTimestamp\u001b[0m:\u001b[32m \"2024-02-05T13:40:58Z\"\u001b[0m\u001b[36m\u001b[0m\n",
      "\u001b[36m  labels\u001b[0m:\u001b[36m\u001b[0m\n",
      "\u001b[36m    app\u001b[0m:\u001b[32m artifactory\u001b[0m\n",
      "\u001b[32m    \u001b[0m\u001b[36mapp.kubernetes.io/managed-by\u001b[0m:\u001b[32m Helm\u001b[0m\n",
      "\u001b[32m    \u001b[0m\u001b[36mchart\u001b[0m:\u001b[32m artifactory-107.77.3\u001b[0m\n",
      "\u001b[32m    \u001b[0m\u001b[36mcomponent\u001b[0m:\u001b[32m nginx\u001b[0m\n",
      "\u001b[32m    \u001b[0m\u001b[36mheritage\u001b[0m:\u001b[32m Helm\u001b[0m\n",
      "\u001b[32m    \u001b[0m\u001b[36mrelease\u001b[0m:\u001b[32m jfrog-artifactory-jcr\u001b[0m\n",
      "\u001b[32m  \u001b[0m\u001b[36mname\u001b[0m:\u001b[32m jfrog-artifactory-jcr-artifactory-nginx\u001b[0m\n",
      "\u001b[32m  \u001b[0m\u001b[36mnamespace\u001b[0m:\u001b[32m jfrog\u001b[0m\n",
      "\u001b[32m  \u001b[0m\u001b[36mresourceVersion\u001b[0m:\u001b[32m \"2785462\"\u001b[0m\u001b[36m\u001b[0m\n",
      "\u001b[36m  uid\u001b[0m:\u001b[32m 8dbb73ec-99f8-45cb-a08a-397892f2055e\u001b[0m\n",
      "\u001b[32m\u001b[0m\u001b[36mspec\u001b[0m:\u001b[36m\u001b[0m\n",
      "\u001b[36m  clusterIP\u001b[0m:\u001b[32m 10.109.119.137\u001b[0m\n",
      "\u001b[32m  \u001b[0m\u001b[36mclusterIPs\u001b[0m:\n",
      "    -\u001b[32m 10.109.119.137\u001b[0m\n",
      "\u001b[32m  \u001b[0m\u001b[36minternalTrafficPolicy\u001b[0m:\u001b[32m Cluster\u001b[0m\n",
      "\u001b[32m  \u001b[0m\u001b[36mipFamilies\u001b[0m:\n",
      "    -\u001b[32m IPv4\u001b[0m\n",
      "\u001b[32m  \u001b[0m\u001b[36mipFamilyPolicy\u001b[0m:\u001b[32m SingleStack\u001b[0m\n",
      "\u001b[32m  \u001b[0m\u001b[36mports\u001b[0m:\n",
      "    -\u001b[36m name\u001b[0m:\u001b[32m http\u001b[0m\n",
      "\u001b[32m      \u001b[0m\u001b[36mport\u001b[0m:\u001b[95m 80\u001b[0m\n",
      "\u001b[95m      \u001b[0m\u001b[36mprotocol\u001b[0m:\u001b[32m TCP\u001b[0m\n",
      "\u001b[32m      \u001b[0m\u001b[36mtargetPort\u001b[0m:\u001b[95m 8080\u001b[0m\n",
      "\u001b[95m    \u001b[0m-\u001b[36m name\u001b[0m:\u001b[32m https\u001b[0m\n",
      "\u001b[32m      \u001b[0m\u001b[36mport\u001b[0m:\u001b[95m 443\u001b[0m\n",
      "\u001b[95m      \u001b[0m\u001b[36mprotocol\u001b[0m:\u001b[32m TCP\u001b[0m\n",
      "\u001b[32m      \u001b[0m\u001b[36mtargetPort\u001b[0m:\u001b[95m 8443\u001b[0m\n",
      "\u001b[95m  \u001b[0m\u001b[36mselector\u001b[0m:\u001b[36m\u001b[0m\n",
      "\u001b[36m    app\u001b[0m:\u001b[32m artifactory\u001b[0m\n",
      "\u001b[32m    \u001b[0m\u001b[36mcomponent\u001b[0m:\u001b[32m nginx\u001b[0m\n",
      "\u001b[32m    \u001b[0m\u001b[36mrelease\u001b[0m:\u001b[32m jfrog-artifactory-jcr\u001b[0m\n",
      "\u001b[32m  \u001b[0m\u001b[36msessionAffinity\u001b[0m:\u001b[32m None\u001b[0m\n",
      "\u001b[32m  \u001b[0m\u001b[36mtype\u001b[0m:\u001b[32m ClusterIP\u001b[0m\n",
      "\u001b[32m\u001b[0m\u001b[36mstatus\u001b[0m:\u001b[36m\u001b[0m\n",
      "\u001b[36m  loadBalancer\u001b[0m: {}\n"
     ]
    }
   ],
   "source": [
    "!kubectl  -n jfrog get services jfrog-artifactory-jcr-artifactory-nginx -o yaml | yq"
   ]
  },
  {
   "cell_type": "code",
   "execution_count": 15,
   "id": "fee27889-3382-4209-a863-5110d60e3b05",
   "metadata": {},
   "outputs": [
    {
     "name": "stdout",
     "output_type": "stream",
     "text": [
      "Starting Nmap 7.80 ( https://nmap.org ) at 2024-02-05 11:01 -03\n",
      "Nmap scan report for jfrog-artifactory-jcr-artifactory-nginx.jfrog.svc (10.109.119.137)\n",
      "Host is up (0.000049s latency).\n",
      "rDNS record for 10.109.119.137: jfrog-artifactory-jcr-artifactory-nginx.jfrog.svc.cluster2.xpt\n",
      "\n",
      "PORT    STATE SERVICE\n",
      "80/tcp  open  http\n",
      "443/tcp open  https\n",
      "\n",
      "Nmap done: 1 IP address (1 host up) scanned in 0.13 seconds\n"
     ]
    }
   ],
   "source": [
    "!nmap -p 80,443 jfrog-artifactory-jcr-artifactory-nginx.jfrog.svc"
   ]
  },
  {
   "cell_type": "code",
   "execution_count": null,
   "id": "33926e83-3cd4-41ee-bea4-7877b846e1fc",
   "metadata": {},
   "outputs": [],
   "source": []
  }
 ],
 "metadata": {
  "kernelspec": {
   "display_name": "Python 3 (ipykernel)",
   "language": "python",
   "name": "python3"
  },
  "language_info": {
   "codemirror_mode": {
    "name": "ipython",
    "version": 3
   },
   "file_extension": ".py",
   "mimetype": "text/x-python",
   "name": "python",
   "nbconvert_exporter": "python",
   "pygments_lexer": "ipython3",
   "version": "3.10.13"
  }
 },
 "nbformat": 4,
 "nbformat_minor": 5
}
