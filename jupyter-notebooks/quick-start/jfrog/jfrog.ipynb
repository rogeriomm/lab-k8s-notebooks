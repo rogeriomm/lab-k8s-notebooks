{
 "cells": [
  {
   "cell_type": "code",
   "execution_count": 2,
   "id": "dc991b8c-d40a-4145-9d3c-59703f04f267",
   "metadata": {},
   "outputs": [
    {
     "name": "stdout",
     "output_type": "stream",
     "text": [
      "\u001b[37mNAME                                  READY   STATUS    RESTARTS   AGE\u001b[0m\n",
      "\u001b[36mpod/jupyter-server-547f5b4445-54r29\u001b[0m   \u001b[32m1/1\u001b[0m     \u001b[35mRunning\u001b[0m   \u001b[37m0\u001b[0m          \u001b[33m144m\u001b[0m\n",
      "\u001b[36mpod/tunnel-server-5b87f477b5-nv7tr\u001b[0m    \u001b[32m1/1\u001b[0m     \u001b[35mRunning\u001b[0m   \u001b[37m0\u001b[0m          \u001b[33m144m\u001b[0m\n",
      "\u001b[37m\u001b[0m\n",
      "\u001b[37mNAME                     TYPE        CLUSTER-IP       EXTERNAL-IP   PORT(S)     AGE\u001b[0m\n",
      "\u001b[36mservice/jupyter-driver\u001b[0m   \u001b[36mClusterIP\u001b[0m   \u001b[32mNone\u001b[0m             \u001b[35m<none>\u001b[0m        \u001b[37m24913/TCP\u001b[0m   \u001b[33m3d2h\u001b[0m\n",
      "\u001b[36mservice/jupyter-server\u001b[0m   \u001b[36mClusterIP\u001b[0m   \u001b[32m10.101.119.109\u001b[0m   \u001b[35m<none>\u001b[0m        \u001b[37m8888/TCP\u001b[0m    \u001b[33m3d2h\u001b[0m\n",
      "\u001b[37m\u001b[0m\n",
      "\u001b[37mNAME                             READY   UP-TO-DATE   AVAILABLE   AGE\u001b[0m\n",
      "\u001b[36mdeployment.apps/jupyter-server\u001b[0m   \u001b[36m1/1\u001b[0m     \u001b[32m1\u001b[0m            \u001b[35m1\u001b[0m           \u001b[35m3d2h\u001b[0m\n",
      "\u001b[36mdeployment.apps/tunnel-server\u001b[0m    \u001b[36m1/1\u001b[0m     \u001b[32m1\u001b[0m            \u001b[35m1\u001b[0m           \u001b[35m3d2h\u001b[0m\n",
      "\u001b[37m\u001b[0m\n",
      "\u001b[37mNAME                                        DESIRED   CURRENT   READY   AGE\u001b[0m\n",
      "\u001b[36mreplicaset.apps/jupyter-server-547f5b4445\u001b[0m   \u001b[37m1\u001b[0m         \u001b[35m1\u001b[0m         \u001b[33m1\u001b[0m       \u001b[36m3d2h\u001b[0m\n",
      "\u001b[36mreplicaset.apps/tunnel-server-5b87f477b5\u001b[0m    \u001b[37m1\u001b[0m         \u001b[35m1\u001b[0m         \u001b[33m1\u001b[0m       \u001b[36m3d2h\u001b[0m\n"
     ]
    }
   ],
   "source": [
    "!kubecolor get all"
   ]
  },
  {
   "cell_type": "code",
   "execution_count": 6,
   "id": "f91fc90a-5ced-4c31-9d32-74427aa7d5e6",
   "metadata": {},
   "outputs": [
    {
     "name": "stdout",
     "output_type": "stream",
     "text": [
      "\u001b[37mNAME                                      TYPE           CLUSTER-IP       EXTERNAL-IP   PORT(S)                      AGE\u001b[0m\n",
      "\u001b[36mjfrog-artifactory-jcr\u001b[0m                     \u001b[32mClusterIP\u001b[0m      \u001b[35m10.107.219.144\u001b[0m   \u001b[37m<none>\u001b[0m        \u001b[33m8082/TCP,8025/TCP,8081/TCP\u001b[0m   \u001b[36m9m43s\u001b[0m\n",
      "\u001b[36mjfrog-artifactory-jcr-artifactory-nginx\u001b[0m   \u001b[32mLoadBalancer\u001b[0m   \u001b[35m10.105.246.254\u001b[0m   \u001b[37m<pending>\u001b[0m     \u001b[33m80:32505/TCP,443:30297/TCP\u001b[0m   \u001b[36m9m43s\u001b[0m\n"
     ]
    }
   ],
   "source": [
    "!kubecolor -n jfrog get services"
   ]
  },
  {
   "cell_type": "code",
   "execution_count": 8,
   "id": "53bd6f0e-d3dc-4cdb-9dfc-cba077c9f069",
   "metadata": {},
   "outputs": [
    {
     "name": "stdout",
     "output_type": "stream",
     "text": [
      "\u001b[36mapiVersion\u001b[0m:\u001b[32m v1\u001b[0m\n",
      "\u001b[32m\u001b[0m\u001b[36mkind\u001b[0m:\u001b[32m Service\u001b[0m\n",
      "\u001b[32m\u001b[0m\u001b[36mmetadata\u001b[0m:\u001b[36m\u001b[0m\n",
      "\u001b[36m  annotations\u001b[0m:\u001b[36m\u001b[0m\n",
      "\u001b[36m    meta.helm.sh/release-name\u001b[0m:\u001b[32m jfrog-artifactory-jcr\u001b[0m\n",
      "\u001b[32m    \u001b[0m\u001b[36mmeta.helm.sh/release-namespace\u001b[0m:\u001b[32m jfrog\u001b[0m\n",
      "\u001b[32m  \u001b[0m\u001b[36mcreationTimestamp\u001b[0m:\u001b[32m \"2024-02-05T13:00:50Z\"\u001b[0m\u001b[36m\u001b[0m\n",
      "\u001b[36m  labels\u001b[0m:\u001b[36m\u001b[0m\n",
      "\u001b[36m    app\u001b[0m:\u001b[32m artifactory\u001b[0m\n",
      "\u001b[32m    \u001b[0m\u001b[36mapp.kubernetes.io/managed-by\u001b[0m:\u001b[32m Helm\u001b[0m\n",
      "\u001b[32m    \u001b[0m\u001b[36mchart\u001b[0m:\u001b[32m artifactory-107.77.3\u001b[0m\n",
      "\u001b[32m    \u001b[0m\u001b[36mcomponent\u001b[0m:\u001b[32m artifactory\u001b[0m\n",
      "\u001b[32m    \u001b[0m\u001b[36mheritage\u001b[0m:\u001b[32m Helm\u001b[0m\n",
      "\u001b[32m    \u001b[0m\u001b[36mrelease\u001b[0m:\u001b[32m jfrog-artifactory-jcr\u001b[0m\n",
      "\u001b[32m  \u001b[0m\u001b[36mname\u001b[0m:\u001b[32m jfrog-artifactory-jcr\u001b[0m\n",
      "\u001b[32m  \u001b[0m\u001b[36mnamespace\u001b[0m:\u001b[32m jfrog\u001b[0m\n",
      "\u001b[32m  \u001b[0m\u001b[36mresourceVersion\u001b[0m:\u001b[32m \"2651462\"\u001b[0m\u001b[36m\u001b[0m\n",
      "\u001b[36m  uid\u001b[0m:\u001b[32m c8051ab9-b20b-443a-bdae-3dbf07323bbe\u001b[0m\n",
      "\u001b[32m\u001b[0m\u001b[36mspec\u001b[0m:\u001b[36m\u001b[0m\n",
      "\u001b[36m  clusterIP\u001b[0m:\u001b[32m 10.107.219.144\u001b[0m\n",
      "\u001b[32m  \u001b[0m\u001b[36mclusterIPs\u001b[0m:\n",
      "    -\u001b[32m 10.107.219.144\u001b[0m\n",
      "\u001b[32m  \u001b[0m\u001b[36minternalTrafficPolicy\u001b[0m:\u001b[32m Cluster\u001b[0m\n",
      "\u001b[32m  \u001b[0m\u001b[36mipFamilies\u001b[0m:\n",
      "    -\u001b[32m IPv4\u001b[0m\n",
      "\u001b[32m  \u001b[0m\u001b[36mipFamilyPolicy\u001b[0m:\u001b[32m SingleStack\u001b[0m\n",
      "\u001b[32m  \u001b[0m\u001b[36mports\u001b[0m:\n",
      "    -\u001b[36m name\u001b[0m:\u001b[32m http-router\u001b[0m\n",
      "\u001b[32m      \u001b[0m\u001b[36mport\u001b[0m:\u001b[95m 8082\u001b[0m\n",
      "\u001b[95m      \u001b[0m\u001b[36mprotocol\u001b[0m:\u001b[32m TCP\u001b[0m\n",
      "\u001b[32m      \u001b[0m\u001b[36mtargetPort\u001b[0m:\u001b[95m 8082\u001b[0m\n",
      "\u001b[95m    \u001b[0m-\u001b[36m name\u001b[0m:\u001b[32m http-rtfs\u001b[0m\n",
      "\u001b[32m      \u001b[0m\u001b[36mport\u001b[0m:\u001b[95m 8025\u001b[0m\n",
      "\u001b[95m      \u001b[0m\u001b[36mprotocol\u001b[0m:\u001b[32m TCP\u001b[0m\n",
      "\u001b[32m      \u001b[0m\u001b[36mtargetPort\u001b[0m:\u001b[95m 8025\u001b[0m\n",
      "\u001b[95m    \u001b[0m-\u001b[36m name\u001b[0m:\u001b[32m http-artifactory\u001b[0m\n",
      "\u001b[32m      \u001b[0m\u001b[36mport\u001b[0m:\u001b[95m 8081\u001b[0m\n",
      "\u001b[95m      \u001b[0m\u001b[36mprotocol\u001b[0m:\u001b[32m TCP\u001b[0m\n",
      "\u001b[32m      \u001b[0m\u001b[36mtargetPort\u001b[0m:\u001b[95m 8081\u001b[0m\n",
      "\u001b[95m  \u001b[0m\u001b[36mselector\u001b[0m:\u001b[36m\u001b[0m\n",
      "\u001b[36m    app\u001b[0m:\u001b[32m artifactory\u001b[0m\n",
      "\u001b[32m    \u001b[0m\u001b[36mcomponent\u001b[0m:\u001b[32m artifactory\u001b[0m\n",
      "\u001b[32m    \u001b[0m\u001b[36mrelease\u001b[0m:\u001b[32m jfrog-artifactory-jcr\u001b[0m\n",
      "\u001b[32m  \u001b[0m\u001b[36msessionAffinity\u001b[0m:\u001b[32m None\u001b[0m\n",
      "\u001b[32m  \u001b[0m\u001b[36mtype\u001b[0m:\u001b[32m ClusterIP\u001b[0m\n",
      "\u001b[32m\u001b[0m\u001b[36mstatus\u001b[0m:\u001b[36m\u001b[0m\n",
      "\u001b[36m  loadBalancer\u001b[0m: {}\n"
     ]
    }
   ],
   "source": [
    "!kubectl  -n jfrog get services jfrog-artifactory-jcr -o yaml | yq"
   ]
  },
  {
   "cell_type": "code",
   "execution_count": 9,
   "id": "ce62fcb5-0028-47ad-ab10-03dcff5c4331",
   "metadata": {},
   "outputs": [
    {
     "name": "stdout",
     "output_type": "stream",
     "text": [
      "\u001b[36mapiVersion\u001b[0m:\u001b[32m v1\u001b[0m\n",
      "\u001b[32m\u001b[0m\u001b[36mkind\u001b[0m:\u001b[32m Service\u001b[0m\n",
      "\u001b[32m\u001b[0m\u001b[36mmetadata\u001b[0m:\u001b[36m\u001b[0m\n",
      "\u001b[36m  annotations\u001b[0m:\u001b[36m\u001b[0m\n",
      "\u001b[36m    meta.helm.sh/release-name\u001b[0m:\u001b[32m jfrog-artifactory-jcr\u001b[0m\n",
      "\u001b[32m    \u001b[0m\u001b[36mmeta.helm.sh/release-namespace\u001b[0m:\u001b[32m jfrog\u001b[0m\n",
      "\u001b[32m  \u001b[0m\u001b[36mcreationTimestamp\u001b[0m:\u001b[32m \"2024-02-05T13:00:50Z\"\u001b[0m\u001b[36m\u001b[0m\n",
      "\u001b[36m  labels\u001b[0m:\u001b[36m\u001b[0m\n",
      "\u001b[36m    app\u001b[0m:\u001b[32m artifactory\u001b[0m\n",
      "\u001b[32m    \u001b[0m\u001b[36mapp.kubernetes.io/managed-by\u001b[0m:\u001b[32m Helm\u001b[0m\n",
      "\u001b[32m    \u001b[0m\u001b[36mchart\u001b[0m:\u001b[32m artifactory-107.77.3\u001b[0m\n",
      "\u001b[32m    \u001b[0m\u001b[36mcomponent\u001b[0m:\u001b[32m nginx\u001b[0m\n",
      "\u001b[32m    \u001b[0m\u001b[36mheritage\u001b[0m:\u001b[32m Helm\u001b[0m\n",
      "\u001b[32m    \u001b[0m\u001b[36mrelease\u001b[0m:\u001b[32m jfrog-artifactory-jcr\u001b[0m\n",
      "\u001b[32m  \u001b[0m\u001b[36mname\u001b[0m:\u001b[32m jfrog-artifactory-jcr-artifactory-nginx\u001b[0m\n",
      "\u001b[32m  \u001b[0m\u001b[36mnamespace\u001b[0m:\u001b[32m jfrog\u001b[0m\n",
      "\u001b[32m  \u001b[0m\u001b[36mresourceVersion\u001b[0m:\u001b[32m \"2651468\"\u001b[0m\u001b[36m\u001b[0m\n",
      "\u001b[36m  uid\u001b[0m:\u001b[32m cf45438f-6022-41c5-95d4-110c5662182f\u001b[0m\n",
      "\u001b[32m\u001b[0m\u001b[36mspec\u001b[0m:\u001b[36m\u001b[0m\n",
      "\u001b[36m  allocateLoadBalancerNodePorts\u001b[0m:\u001b[95m true\u001b[0m\n",
      "\u001b[95m  \u001b[0m\u001b[36mclusterIP\u001b[0m:\u001b[32m 10.105.246.254\u001b[0m\n",
      "\u001b[32m  \u001b[0m\u001b[36mclusterIPs\u001b[0m:\n",
      "    -\u001b[32m 10.105.246.254\u001b[0m\n",
      "\u001b[32m  \u001b[0m\u001b[36mexternalTrafficPolicy\u001b[0m:\u001b[32m Cluster\u001b[0m\n",
      "\u001b[32m  \u001b[0m\u001b[36minternalTrafficPolicy\u001b[0m:\u001b[32m Cluster\u001b[0m\n",
      "\u001b[32m  \u001b[0m\u001b[36mipFamilies\u001b[0m:\n",
      "    -\u001b[32m IPv4\u001b[0m\n",
      "\u001b[32m  \u001b[0m\u001b[36mipFamilyPolicy\u001b[0m:\u001b[32m SingleStack\u001b[0m\n",
      "\u001b[32m  \u001b[0m\u001b[36mports\u001b[0m:\n",
      "    -\u001b[36m name\u001b[0m:\u001b[32m http\u001b[0m\n",
      "\u001b[32m      \u001b[0m\u001b[36mnodePort\u001b[0m:\u001b[95m 32505\u001b[0m\n",
      "\u001b[95m      \u001b[0m\u001b[36mport\u001b[0m:\u001b[95m 80\u001b[0m\n",
      "\u001b[95m      \u001b[0m\u001b[36mprotocol\u001b[0m:\u001b[32m TCP\u001b[0m\n",
      "\u001b[32m      \u001b[0m\u001b[36mtargetPort\u001b[0m:\u001b[95m 8080\u001b[0m\n",
      "\u001b[95m    \u001b[0m-\u001b[36m name\u001b[0m:\u001b[32m https\u001b[0m\n",
      "\u001b[32m      \u001b[0m\u001b[36mnodePort\u001b[0m:\u001b[95m 30297\u001b[0m\n",
      "\u001b[95m      \u001b[0m\u001b[36mport\u001b[0m:\u001b[95m 443\u001b[0m\n",
      "\u001b[95m      \u001b[0m\u001b[36mprotocol\u001b[0m:\u001b[32m TCP\u001b[0m\n",
      "\u001b[32m      \u001b[0m\u001b[36mtargetPort\u001b[0m:\u001b[95m 8443\u001b[0m\n",
      "\u001b[95m  \u001b[0m\u001b[36mselector\u001b[0m:\u001b[36m\u001b[0m\n",
      "\u001b[36m    app\u001b[0m:\u001b[32m artifactory\u001b[0m\n",
      "\u001b[32m    \u001b[0m\u001b[36mcomponent\u001b[0m:\u001b[32m nginx\u001b[0m\n",
      "\u001b[32m    \u001b[0m\u001b[36mrelease\u001b[0m:\u001b[32m jfrog-artifactory-jcr\u001b[0m\n",
      "\u001b[32m  \u001b[0m\u001b[36msessionAffinity\u001b[0m:\u001b[32m None\u001b[0m\n",
      "\u001b[32m  \u001b[0m\u001b[36mtype\u001b[0m:\u001b[32m LoadBalancer\u001b[0m\n",
      "\u001b[32m\u001b[0m\u001b[36mstatus\u001b[0m:\u001b[36m\u001b[0m\n",
      "\u001b[36m  loadBalancer\u001b[0m: {}\n"
     ]
    }
   ],
   "source": [
    "!kubectl  -n jfrog get services jfrog-artifactory-jcr-artifactory-nginx -o yaml | yq"
   ]
  },
  {
   "cell_type": "code",
   "execution_count": null,
   "id": "fee27889-3382-4209-a863-5110d60e3b05",
   "metadata": {},
   "outputs": [],
   "source": []
  }
 ],
 "metadata": {
  "kernelspec": {
   "display_name": "Python 3 (ipykernel)",
   "language": "python",
   "name": "python3"
  },
  "language_info": {
   "codemirror_mode": {
    "name": "ipython",
    "version": 3
   },
   "file_extension": ".py",
   "mimetype": "text/x-python",
   "name": "python",
   "nbconvert_exporter": "python",
   "pygments_lexer": "ipython3",
   "version": "3.10.13"
  }
 },
 "nbformat": 4,
 "nbformat_minor": 5
}
