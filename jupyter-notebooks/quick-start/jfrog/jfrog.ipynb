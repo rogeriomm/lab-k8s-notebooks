{
 "cells": [
  {
   "cell_type": "code",
   "execution_count": 2,
   "id": "dc991b8c-d40a-4145-9d3c-59703f04f267",
   "metadata": {},
   "outputs": [
    {
     "name": "stdout",
     "output_type": "stream",
     "text": [
      "\u001b[37mNAME                                  READY   STATUS    RESTARTS   AGE\u001b[0m\n",
      "\u001b[36mpod/jupyter-server-547f5b4445-54r29\u001b[0m   \u001b[32m1/1\u001b[0m     \u001b[35mRunning\u001b[0m   \u001b[37m0\u001b[0m          \u001b[33m144m\u001b[0m\n",
      "\u001b[36mpod/tunnel-server-5b87f477b5-nv7tr\u001b[0m    \u001b[32m1/1\u001b[0m     \u001b[35mRunning\u001b[0m   \u001b[37m0\u001b[0m          \u001b[33m144m\u001b[0m\n",
      "\u001b[37m\u001b[0m\n",
      "\u001b[37mNAME                     TYPE        CLUSTER-IP       EXTERNAL-IP   PORT(S)     AGE\u001b[0m\n",
      "\u001b[36mservice/jupyter-driver\u001b[0m   \u001b[36mClusterIP\u001b[0m   \u001b[32mNone\u001b[0m             \u001b[35m<none>\u001b[0m        \u001b[37m24913/TCP\u001b[0m   \u001b[33m3d2h\u001b[0m\n",
      "\u001b[36mservice/jupyter-server\u001b[0m   \u001b[36mClusterIP\u001b[0m   \u001b[32m10.101.119.109\u001b[0m   \u001b[35m<none>\u001b[0m        \u001b[37m8888/TCP\u001b[0m    \u001b[33m3d2h\u001b[0m\n",
      "\u001b[37m\u001b[0m\n",
      "\u001b[37mNAME                             READY   UP-TO-DATE   AVAILABLE   AGE\u001b[0m\n",
      "\u001b[36mdeployment.apps/jupyter-server\u001b[0m   \u001b[36m1/1\u001b[0m     \u001b[32m1\u001b[0m            \u001b[35m1\u001b[0m           \u001b[35m3d2h\u001b[0m\n",
      "\u001b[36mdeployment.apps/tunnel-server\u001b[0m    \u001b[36m1/1\u001b[0m     \u001b[32m1\u001b[0m            \u001b[35m1\u001b[0m           \u001b[35m3d2h\u001b[0m\n",
      "\u001b[37m\u001b[0m\n",
      "\u001b[37mNAME                                        DESIRED   CURRENT   READY   AGE\u001b[0m\n",
      "\u001b[36mreplicaset.apps/jupyter-server-547f5b4445\u001b[0m   \u001b[37m1\u001b[0m         \u001b[35m1\u001b[0m         \u001b[33m1\u001b[0m       \u001b[36m3d2h\u001b[0m\n",
      "\u001b[36mreplicaset.apps/tunnel-server-5b87f477b5\u001b[0m    \u001b[37m1\u001b[0m         \u001b[35m1\u001b[0m         \u001b[33m1\u001b[0m       \u001b[36m3d2h\u001b[0m\n"
     ]
    }
   ],
   "source": [
    "!kubecolor get all"
   ]
  },
  {
   "cell_type": "code",
   "execution_count": 3,
   "id": "f91fc90a-5ced-4c31-9d32-74427aa7d5e6",
   "metadata": {},
   "outputs": [
    {
     "name": "stdout",
     "output_type": "stream",
     "text": [
      "\u001b[37mNAME             TYPE        CLUSTER-IP       EXTERNAL-IP   PORT(S)     AGE\u001b[0m\n",
      "\u001b[36mjupyter-driver\u001b[0m   \u001b[32mClusterIP\u001b[0m   \u001b[35mNone\u001b[0m             \u001b[37m<none>\u001b[0m        \u001b[33m24913/TCP\u001b[0m   \u001b[36m3d2h\u001b[0m\n",
      "\u001b[36mjupyter-server\u001b[0m   \u001b[32mClusterIP\u001b[0m   \u001b[35m10.101.119.109\u001b[0m   \u001b[37m<none>\u001b[0m        \u001b[33m8888/TCP\u001b[0m    \u001b[36m3d2h\u001b[0m\n"
     ]
    }
   ],
   "source": [
    "!kubecolor get services"
   ]
  },
  {
   "cell_type": "code",
   "execution_count": 4,
   "id": "53bd6f0e-d3dc-4cdb-9dfc-cba077c9f069",
   "metadata": {},
   "outputs": [
    {
     "name": "stdout",
     "output_type": "stream",
     "text": [
      "\u001b[36mapiVersion\u001b[0m:\u001b[32m v1\u001b[0m\n",
      "\u001b[32m\u001b[0m\u001b[36mkind\u001b[0m:\u001b[32m Service\u001b[0m\n",
      "\u001b[32m\u001b[0m\u001b[36mmetadata\u001b[0m:\u001b[36m\u001b[0m\n",
      "\u001b[36m  annotations\u001b[0m:\u001b[36m\u001b[0m\n",
      "\u001b[36m    kubectl.kubernetes.io/last-applied-configuration\u001b[0m: |\n",
      "\u001b[32m      {\"apiVersion\":\"v1\",\"kind\":\"Service\",\"metadata\":{\"annotations\":{},\"name\":\"jupyter-server\",\"namespace\":\"commander\"},\"spec\":{\"ports\":[{\"name\":\"jupyter\",\"port\":8888}],\"selector\":{\"app.kubernetes.io/name\":\"jupyter-server\"}}}\u001b[0m\n",
      "\u001b[32m  \u001b[0m\u001b[36mcreationTimestamp\u001b[0m:\u001b[32m \"2024-02-02T10:41:37Z\"\u001b[0m\u001b[36m\u001b[0m\n",
      "\u001b[36m  name\u001b[0m:\u001b[32m jupyter-server\u001b[0m\n",
      "\u001b[32m  \u001b[0m\u001b[36mnamespace\u001b[0m:\u001b[32m commander\u001b[0m\n",
      "\u001b[32m  \u001b[0m\u001b[36mresourceVersion\u001b[0m:\u001b[32m \"26108\"\u001b[0m\u001b[36m\u001b[0m\n",
      "\u001b[36m  uid\u001b[0m:\u001b[32m 7aa9cbd2-0de1-423d-ae39-86276605f55d\u001b[0m\n",
      "\u001b[32m\u001b[0m\u001b[36mspec\u001b[0m:\u001b[36m\u001b[0m\n",
      "\u001b[36m  clusterIP\u001b[0m:\u001b[32m 10.101.119.109\u001b[0m\n",
      "\u001b[32m  \u001b[0m\u001b[36mclusterIPs\u001b[0m:\n",
      "    -\u001b[32m 10.101.119.109\u001b[0m\n",
      "\u001b[32m  \u001b[0m\u001b[36minternalTrafficPolicy\u001b[0m:\u001b[32m Cluster\u001b[0m\n",
      "\u001b[32m  \u001b[0m\u001b[36mipFamilies\u001b[0m:\n",
      "    -\u001b[32m IPv4\u001b[0m\n",
      "\u001b[32m  \u001b[0m\u001b[36mipFamilyPolicy\u001b[0m:\u001b[32m SingleStack\u001b[0m\n",
      "\u001b[32m  \u001b[0m\u001b[36mports\u001b[0m:\n",
      "    -\u001b[36m name\u001b[0m:\u001b[32m jupyter\u001b[0m\n",
      "\u001b[32m      \u001b[0m\u001b[36mport\u001b[0m:\u001b[95m 8888\u001b[0m\n",
      "\u001b[95m      \u001b[0m\u001b[36mprotocol\u001b[0m:\u001b[32m TCP\u001b[0m\n",
      "\u001b[32m      \u001b[0m\u001b[36mtargetPort\u001b[0m:\u001b[95m 8888\u001b[0m\n",
      "\u001b[95m  \u001b[0m\u001b[36mselector\u001b[0m:\u001b[36m\u001b[0m\n",
      "\u001b[36m    app.kubernetes.io/name\u001b[0m:\u001b[32m jupyter-server\u001b[0m\n",
      "\u001b[32m  \u001b[0m\u001b[36msessionAffinity\u001b[0m:\u001b[32m None\u001b[0m\n",
      "\u001b[32m  \u001b[0m\u001b[36mtype\u001b[0m:\u001b[32m ClusterIP\u001b[0m\n",
      "\u001b[32m\u001b[0m\u001b[36mstatus\u001b[0m:\u001b[36m\u001b[0m\n",
      "\u001b[36m  loadBalancer\u001b[0m: {}\n"
     ]
    }
   ],
   "source": [
    "!kubectl get services jupyter-server -o yaml | yq"
   ]
  },
  {
   "cell_type": "code",
   "execution_count": null,
   "id": "ce62fcb5-0028-47ad-ab10-03dcff5c4331",
   "metadata": {},
   "outputs": [],
   "source": []
  }
 ],
 "metadata": {
  "kernelspec": {
   "display_name": "Python 3 (ipykernel)",
   "language": "python",
   "name": "python3"
  },
  "language_info": {
   "codemirror_mode": {
    "name": "ipython",
    "version": 3
   },
   "file_extension": ".py",
   "mimetype": "text/x-python",
   "name": "python",
   "nbconvert_exporter": "python",
   "pygments_lexer": "ipython3",
   "version": "3.10.13"
  }
 },
 "nbformat": 4,
 "nbformat_minor": 5
}
