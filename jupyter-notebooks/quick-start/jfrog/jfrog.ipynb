{
 "cells": [
  {
   "cell_type": "code",
   "execution_count": 17,
   "id": "dc991b8c-d40a-4145-9d3c-59703f04f267",
   "metadata": {},
   "outputs": [
    {
     "name": "stdout",
     "output_type": "stream",
     "text": [
      "\u001b[37mNAME                          READY   STATUS    RESTARTS   AGE\u001b[0m\n",
      "\u001b[36mpod/jfrog-artifactory-jcr-0\u001b[0m   \u001b[33m4/6\u001b[0m     \u001b[35mRunning\u001b[0m   \u001b[37m0\u001b[0m          \u001b[33m38s\u001b[0m\n",
      "\u001b[37m\u001b[0m\n",
      "\u001b[37mNAME                            TYPE        CLUSTER-IP      EXTERNAL-IP   PORT(S)                      AGE\u001b[0m\n",
      "\u001b[36mservice/jfrog-artifactory-jcr\u001b[0m   \u001b[36mClusterIP\u001b[0m   \u001b[32m10.108.45.209\u001b[0m   \u001b[35m<none>\u001b[0m        \u001b[37m8082/TCP,8025/TCP,8081/TCP\u001b[0m   \u001b[33m43s\u001b[0m\n",
      "\u001b[37m\u001b[0m\n",
      "\u001b[37mNAME                                     READY   AGE\u001b[0m\n",
      "\u001b[36mstatefulset.apps/jfrog-artifactory-jcr\u001b[0m   \u001b[33m0/1\u001b[0m     \u001b[32m43s\u001b[0m\n"
     ]
    }
   ],
   "source": [
    "!kubecolor -n jfrog get all"
   ]
  },
  {
   "cell_type": "code",
   "execution_count": 18,
   "id": "f91fc90a-5ced-4c31-9d32-74427aa7d5e6",
   "metadata": {},
   "outputs": [
    {
     "name": "stdout",
     "output_type": "stream",
     "text": [
      "\u001b[37mNAME                    TYPE        CLUSTER-IP      EXTERNAL-IP   PORT(S)                      AGE\u001b[0m\n",
      "\u001b[36mjfrog-artifactory-jcr\u001b[0m   \u001b[32mClusterIP\u001b[0m   \u001b[35m10.108.45.209\u001b[0m   \u001b[37m<none>\u001b[0m        \u001b[33m8082/TCP,8025/TCP,8081/TCP\u001b[0m   \u001b[36m45s\u001b[0m\n"
     ]
    }
   ],
   "source": [
    "!kubecolor -n jfrog get services"
   ]
  },
  {
   "cell_type": "code",
   "execution_count": 19,
   "id": "53bd6f0e-d3dc-4cdb-9dfc-cba077c9f069",
   "metadata": {},
   "outputs": [
    {
     "name": "stdout",
     "output_type": "stream",
     "text": [
      "\u001b[36mapiVersion\u001b[0m:\u001b[32m v1\u001b[0m\n",
      "\u001b[32m\u001b[0m\u001b[36mkind\u001b[0m:\u001b[32m Service\u001b[0m\n",
      "\u001b[32m\u001b[0m\u001b[36mmetadata\u001b[0m:\u001b[36m\u001b[0m\n",
      "\u001b[36m  annotations\u001b[0m:\u001b[36m\u001b[0m\n",
      "\u001b[36m    meta.helm.sh/release-name\u001b[0m:\u001b[32m jfrog-artifactory-jcr\u001b[0m\n",
      "\u001b[32m    \u001b[0m\u001b[36mmeta.helm.sh/release-namespace\u001b[0m:\u001b[32m jfrog\u001b[0m\n",
      "\u001b[32m  \u001b[0m\u001b[36mcreationTimestamp\u001b[0m:\u001b[32m \"2024-02-05T14:30:25Z\"\u001b[0m\u001b[36m\u001b[0m\n",
      "\u001b[36m  labels\u001b[0m:\u001b[36m\u001b[0m\n",
      "\u001b[36m    app\u001b[0m:\u001b[32m artifactory\u001b[0m\n",
      "\u001b[32m    \u001b[0m\u001b[36mapp.kubernetes.io/managed-by\u001b[0m:\u001b[32m Helm\u001b[0m\n",
      "\u001b[32m    \u001b[0m\u001b[36mchart\u001b[0m:\u001b[32m artifactory-107.77.3\u001b[0m\n",
      "\u001b[32m    \u001b[0m\u001b[36mcomponent\u001b[0m:\u001b[32m artifactory\u001b[0m\n",
      "\u001b[32m    \u001b[0m\u001b[36mheritage\u001b[0m:\u001b[32m Helm\u001b[0m\n",
      "\u001b[32m    \u001b[0m\u001b[36mrelease\u001b[0m:\u001b[32m jfrog-artifactory-jcr\u001b[0m\n",
      "\u001b[32m  \u001b[0m\u001b[36mname\u001b[0m:\u001b[32m jfrog-artifactory-jcr\u001b[0m\n",
      "\u001b[32m  \u001b[0m\u001b[36mnamespace\u001b[0m:\u001b[32m jfrog\u001b[0m\n",
      "\u001b[32m  \u001b[0m\u001b[36mresourceVersion\u001b[0m:\u001b[32m \"2856363\"\u001b[0m\u001b[36m\u001b[0m\n",
      "\u001b[36m  uid\u001b[0m:\u001b[32m c526b647-458d-49f4-98fc-c5bc65585f89\u001b[0m\n",
      "\u001b[32m\u001b[0m\u001b[36mspec\u001b[0m:\u001b[36m\u001b[0m\n",
      "\u001b[36m  clusterIP\u001b[0m:\u001b[32m 10.108.45.209\u001b[0m\n",
      "\u001b[32m  \u001b[0m\u001b[36mclusterIPs\u001b[0m:\n",
      "    -\u001b[32m 10.108.45.209\u001b[0m\n",
      "\u001b[32m  \u001b[0m\u001b[36minternalTrafficPolicy\u001b[0m:\u001b[32m Cluster\u001b[0m\n",
      "\u001b[32m  \u001b[0m\u001b[36mipFamilies\u001b[0m:\n",
      "    -\u001b[32m IPv4\u001b[0m\n",
      "\u001b[32m  \u001b[0m\u001b[36mipFamilyPolicy\u001b[0m:\u001b[32m SingleStack\u001b[0m\n",
      "\u001b[32m  \u001b[0m\u001b[36mports\u001b[0m:\n",
      "    -\u001b[36m name\u001b[0m:\u001b[32m http-router\u001b[0m\n",
      "\u001b[32m      \u001b[0m\u001b[36mport\u001b[0m:\u001b[95m 8082\u001b[0m\n",
      "\u001b[95m      \u001b[0m\u001b[36mprotocol\u001b[0m:\u001b[32m TCP\u001b[0m\n",
      "\u001b[32m      \u001b[0m\u001b[36mtargetPort\u001b[0m:\u001b[95m 8082\u001b[0m\n",
      "\u001b[95m    \u001b[0m-\u001b[36m name\u001b[0m:\u001b[32m http-rtfs\u001b[0m\n",
      "\u001b[32m      \u001b[0m\u001b[36mport\u001b[0m:\u001b[95m 8025\u001b[0m\n",
      "\u001b[95m      \u001b[0m\u001b[36mprotocol\u001b[0m:\u001b[32m TCP\u001b[0m\n",
      "\u001b[32m      \u001b[0m\u001b[36mtargetPort\u001b[0m:\u001b[95m 8025\u001b[0m\n",
      "\u001b[95m    \u001b[0m-\u001b[36m name\u001b[0m:\u001b[32m http-artifactory\u001b[0m\n",
      "\u001b[32m      \u001b[0m\u001b[36mport\u001b[0m:\u001b[95m 8081\u001b[0m\n",
      "\u001b[95m      \u001b[0m\u001b[36mprotocol\u001b[0m:\u001b[32m TCP\u001b[0m\n",
      "\u001b[32m      \u001b[0m\u001b[36mtargetPort\u001b[0m:\u001b[95m 8081\u001b[0m\n",
      "\u001b[95m  \u001b[0m\u001b[36mselector\u001b[0m:\u001b[36m\u001b[0m\n",
      "\u001b[36m    app\u001b[0m:\u001b[32m artifactory\u001b[0m\n",
      "\u001b[32m    \u001b[0m\u001b[36mcomponent\u001b[0m:\u001b[32m artifactory\u001b[0m\n",
      "\u001b[32m    \u001b[0m\u001b[36mrelease\u001b[0m:\u001b[32m jfrog-artifactory-jcr\u001b[0m\n",
      "\u001b[32m  \u001b[0m\u001b[36msessionAffinity\u001b[0m:\u001b[32m None\u001b[0m\n",
      "\u001b[32m  \u001b[0m\u001b[36mtype\u001b[0m:\u001b[32m ClusterIP\u001b[0m\n",
      "\u001b[32m\u001b[0m\u001b[36mstatus\u001b[0m:\u001b[36m\u001b[0m\n",
      "\u001b[36m  loadBalancer\u001b[0m: {}\n"
     ]
    }
   ],
   "source": [
    "!kubectl  -n jfrog get services jfrog-artifactory-jcr -o yaml | yq"
   ]
  },
  {
   "cell_type": "code",
   "execution_count": 23,
   "id": "b6bd1791-564b-4914-8f6a-f8bcee4909fc",
   "metadata": {},
   "outputs": [
    {
     "name": "stdout",
     "output_type": "stream",
     "text": [
      "Starting Nmap 7.80 ( https://nmap.org ) at 2024-02-05 11:32 -03\n",
      "Nmap scan report for jfrog-artifactory-jcr.jfrog.svc (10.108.45.209)\n",
      "Host is up (0.00019s latency).\n",
      "rDNS record for 10.108.45.209: jfrog-artifactory-jcr.jfrog.svc.cluster2.xpt\n",
      "\n",
      "PORT     STATE  SERVICE\n",
      "8025/tcp closed ca-audit-da\n",
      "8081/tcp open   blackice-icecap\n",
      "8082/tcp open   blackice-alerts\n",
      "\n",
      "Nmap done: 1 IP address (1 host up) scanned in 0.12 seconds\n"
     ]
    }
   ],
   "source": [
    "!nmap -p 8081,8082,8025 jfrog-artifactory-jcr.jfrog.svc"
   ]
  },
  {
   "cell_type": "code",
   "execution_count": 32,
   "id": "f96c525c-e107-465d-ba8a-8cdcbdf6d844",
   "metadata": {},
   "outputs": [
    {
     "name": "stdout",
     "output_type": "stream",
     "text": [
      "\n",
      "; <<>> DiG 9.18.18-0ubuntu0.22.04.1-Ubuntu <<>> lab.jfrog.worldl.xpt\n",
      ";; global options: +cmd\n",
      ";; Got answer:\n",
      ";; ->>HEADER<<- opcode: QUERY, status: NOERROR, id: 1985\n",
      ";; flags: qr rd ra; QUERY: 1, ANSWER: 1, AUTHORITY: 0, ADDITIONAL: 1\n",
      "\n",
      ";; OPT PSEUDOSECTION:\n",
      "; EDNS: version: 0, flags:; udp: 1232\n",
      "; COOKIE: 0648428ef576775e (echoed)\n",
      ";; QUESTION SECTION:\n",
      ";lab.jfrog.worldl.xpt.\t\tIN\tA\n",
      "\n",
      ";; ANSWER SECTION:\n",
      "lab.jfrog.worldl.xpt.\t30\tIN\tA\t192.168.49.2\n",
      "\n",
      ";; Query time: 3 msec\n",
      ";; SERVER: 10.96.0.10#53(10.96.0.10) (UDP)\n",
      ";; WHEN: Mon Feb 05 15:47:59 -03 2024\n",
      ";; MSG SIZE  rcvd: 97\n",
      "\n"
     ]
    }
   ],
   "source": [
    "!dig lab.jfrog.worldl.xpt"
   ]
  },
  {
   "cell_type": "code",
   "execution_count": 27,
   "id": "5e302c03-03dd-443a-9689-b973e3c02bce",
   "metadata": {},
   "outputs": [
    {
     "name": "stdout",
     "output_type": "stream",
     "text": [
      "\u001b[37mNAME                    CLASS   HOSTS                  ADDRESS        PORTS   AGE\u001b[0m\n",
      "\u001b[36mjfrog-artifactory-jcr\u001b[0m   \u001b[32mnginx\u001b[0m   \u001b[35mjfrog-jcr.worldl.xpt\u001b[0m   \u001b[37m192.168.49.2\u001b[0m   \u001b[33m80\u001b[0m      \u001b[36m3h54m\u001b[0m\n",
      "\u001b[36mjfrog-ingress-lab\u001b[0m       \u001b[32mnginx\u001b[0m   \u001b[35mlab.jfrog.worldl.xpt\u001b[0m   \u001b[37m192.168.49.2\u001b[0m   \u001b[33m80\u001b[0m      \u001b[36m3m16s\u001b[0m\n"
     ]
    }
   ],
   "source": [
    "!kubecolor -n jfrog get ingress"
   ]
  },
  {
   "cell_type": "markdown",
   "id": "eff6f5f6-1330-4f6e-9ddc-792a56c8028d",
   "metadata": {},
   "source": [
    "   * http://lab.jfrog.worldl.xpt/ui/repos/tree/Properties/lab"
   ]
  },
  {
   "cell_type": "markdown",
   "id": "df92ed58-a021-47f1-a41f-7a3bd4f53a22",
   "metadata": {},
   "source": [
    "   * http://jfrog-jcr.worldl.xpt\n",
    "      * service \"jfrog-artifactory-jcr\" port 8082\n",
    "   * http://jfrog-jcr.worldl.xpt/artifactory\n",
    "      * service \"jfrog-artifactory-jcr\" port 8081"
   ]
  },
  {
   "cell_type": "code",
   "execution_count": 35,
   "id": "b9bb54e3-f8b8-4a0a-bbb5-f9da1f42c7cc",
   "metadata": {},
   "outputs": [
    {
     "name": "stdout",
     "output_type": "stream",
     "text": [
      "\u001b[36mapiVersion\u001b[0m:\u001b[32m networking.k8s.io/v1\u001b[0m\n",
      "\u001b[32m\u001b[0m\u001b[36mkind\u001b[0m:\u001b[32m Ingress\u001b[0m\n",
      "\u001b[32m\u001b[0m\u001b[36mmetadata\u001b[0m:\u001b[36m\u001b[0m\n",
      "\u001b[36m  annotations\u001b[0m:\u001b[36m\u001b[0m\n",
      "\u001b[36m    meta.helm.sh/release-name\u001b[0m:\u001b[32m jfrog-artifactory-jcr\u001b[0m\n",
      "\u001b[32m    \u001b[0m\u001b[36mmeta.helm.sh/release-namespace\u001b[0m:\u001b[32m jfrog\u001b[0m\n",
      "\u001b[32m  \u001b[0m\u001b[36mcreationTimestamp\u001b[0m:\u001b[32m \"2024-02-05T14:30:25Z\"\u001b[0m\u001b[36m\u001b[0m\n",
      "\u001b[36m  generation\u001b[0m:\u001b[95m 1\u001b[0m\n",
      "\u001b[95m  \u001b[0m\u001b[36mlabels\u001b[0m:\u001b[36m\u001b[0m\n",
      "\u001b[36m    app\u001b[0m:\u001b[32m artifactory\u001b[0m\n",
      "\u001b[32m    \u001b[0m\u001b[36mapp.kubernetes.io/managed-by\u001b[0m:\u001b[32m Helm\u001b[0m\n",
      "\u001b[32m    \u001b[0m\u001b[36mchart\u001b[0m:\u001b[32m artifactory-107.77.3\u001b[0m\n",
      "\u001b[32m    \u001b[0m\u001b[36mheritage\u001b[0m:\u001b[32m Helm\u001b[0m\n",
      "\u001b[32m    \u001b[0m\u001b[36mrelease\u001b[0m:\u001b[32m jfrog-artifactory-jcr\u001b[0m\n",
      "\u001b[32m  \u001b[0m\u001b[36mname\u001b[0m:\u001b[32m jfrog-artifactory-jcr\u001b[0m\n",
      "\u001b[32m  \u001b[0m\u001b[36mnamespace\u001b[0m:\u001b[32m jfrog\u001b[0m\n",
      "\u001b[32m  \u001b[0m\u001b[36mresourceVersion\u001b[0m:\u001b[32m \"2856550\"\u001b[0m\u001b[36m\u001b[0m\n",
      "\u001b[36m  uid\u001b[0m:\u001b[32m b648eb50-ddcb-4b89-92db-50834c448f82\u001b[0m\n",
      "\u001b[32m\u001b[0m\u001b[36mspec\u001b[0m:\u001b[36m\u001b[0m\n",
      "\u001b[36m  defaultBackend\u001b[0m:\u001b[36m\u001b[0m\n",
      "\u001b[36m    service\u001b[0m:\u001b[36m\u001b[0m\n",
      "\u001b[36m      name\u001b[0m:\u001b[32m jfrog-artifactory-jcr\u001b[0m\n",
      "\u001b[32m      \u001b[0m\u001b[36mport\u001b[0m:\u001b[36m\u001b[0m\n",
      "\u001b[36m        number\u001b[0m:\u001b[95m 8082\u001b[0m\n",
      "\u001b[95m  \u001b[0m\u001b[36mingressClassName\u001b[0m:\u001b[32m nginx\u001b[0m\n",
      "\u001b[32m  \u001b[0m\u001b[36mrules\u001b[0m:\n",
      "    -\u001b[36m host\u001b[0m:\u001b[32m jfrog-jcr.worldl.xpt\u001b[0m\n",
      "\u001b[32m      \u001b[0m\u001b[36mhttp\u001b[0m:\u001b[36m\u001b[0m\n",
      "\u001b[36m        paths\u001b[0m:\n",
      "          -\u001b[36m backend\u001b[0m:\u001b[36m\u001b[0m\n",
      "\u001b[36m              service\u001b[0m:\u001b[36m\u001b[0m\n",
      "\u001b[36m                name\u001b[0m:\u001b[32m jfrog-artifactory-jcr\u001b[0m\n",
      "\u001b[32m                \u001b[0m\u001b[36mport\u001b[0m:\u001b[36m\u001b[0m\n",
      "\u001b[36m                  number\u001b[0m:\u001b[95m 8082\u001b[0m\n",
      "\u001b[95m            \u001b[0m\u001b[36mpath\u001b[0m:\u001b[32m /\u001b[0m\n",
      "\u001b[32m            \u001b[0m\u001b[36mpathType\u001b[0m:\u001b[32m ImplementationSpecific\u001b[0m\n",
      "\u001b[32m          \u001b[0m-\u001b[36m backend\u001b[0m:\u001b[36m\u001b[0m\n",
      "\u001b[36m              service\u001b[0m:\u001b[36m\u001b[0m\n",
      "\u001b[36m                name\u001b[0m:\u001b[32m jfrog-artifactory-jcr\u001b[0m\n",
      "\u001b[32m                \u001b[0m\u001b[36mport\u001b[0m:\u001b[36m\u001b[0m\n",
      "\u001b[36m                  number\u001b[0m:\u001b[95m 8081\u001b[0m\n",
      "\u001b[95m            \u001b[0m\u001b[36mpath\u001b[0m:\u001b[32m /artifactory/\u001b[0m\n",
      "\u001b[32m            \u001b[0m\u001b[36mpathType\u001b[0m:\u001b[32m ImplementationSpecific\u001b[0m\n",
      "\u001b[32m\u001b[0m\u001b[36mstatus\u001b[0m:\u001b[36m\u001b[0m\n",
      "\u001b[36m  loadBalancer\u001b[0m:\u001b[36m\u001b[0m\n",
      "\u001b[36m    ingress\u001b[0m:\n",
      "      -\u001b[36m ip\u001b[0m:\u001b[32m 192.168.49.2\u001b[0m\n"
     ]
    }
   ],
   "source": [
    "!kubectl -n jfrog get ingress jfrog-artifactory-jcr -o yaml | yq"
   ]
  },
  {
   "cell_type": "code",
   "execution_count": 36,
   "id": "7060052b-671b-44de-aa19-e643114c5156",
   "metadata": {},
   "outputs": [
    {
     "name": "stdout",
     "output_type": "stream",
     "text": [
      "\u001b[36mapiVersion\u001b[0m:\u001b[32m networking.k8s.io/v1\u001b[0m\n",
      "\u001b[32m\u001b[0m\u001b[36mkind\u001b[0m:\u001b[32m Ingress\u001b[0m\n",
      "\u001b[32m\u001b[0m\u001b[36mmetadata\u001b[0m:\u001b[36m\u001b[0m\n",
      "\u001b[36m  annotations\u001b[0m:\u001b[36m\u001b[0m\n",
      "\u001b[36m    kubectl.kubernetes.io/last-applied-configuration\u001b[0m: |\n",
      "\u001b[32m      {\"apiVersion\":\"networking.k8s.io/v1\",\"kind\":\"Ingress\",\"metadata\":{\"annotations\":{\"nginx.ingress.kubernetes.io/backend-protocol\":\"HTTP\"},\"name\":\"jfrog-ingress-lab\",\"namespace\":\"jfrog\"},\"spec\":{\"ingressClassName\":\"nginx\",\"rules\":[{\"host\":\"lab.jfrog.worldl.xpt\",\"http\":{\"paths\":[{\"backend\":{\"service\":{\"name\":\"jfrog-artifactory-jcr-artifactory-nginx\",\"port\":{\"number\":80}}},\"path\":\"/\",\"pathType\":\"Prefix\"}]}}]}}\u001b[0m\n",
      "\u001b[32m    \u001b[0m\u001b[36mnginx.ingress.kubernetes.io/backend-protocol\u001b[0m:\u001b[32m HTTP\u001b[0m\n",
      "\u001b[32m  \u001b[0m\u001b[36mcreationTimestamp\u001b[0m:\u001b[32m \"2024-02-05T18:21:55Z\"\u001b[0m\u001b[36m\u001b[0m\n",
      "\u001b[36m  generation\u001b[0m:\u001b[95m 2\u001b[0m\n",
      "\u001b[95m  \u001b[0m\u001b[36mname\u001b[0m:\u001b[32m jfrog-ingress-lab\u001b[0m\n",
      "\u001b[32m  \u001b[0m\u001b[36mnamespace\u001b[0m:\u001b[32m jfrog\u001b[0m\n",
      "\u001b[32m  \u001b[0m\u001b[36mresourceVersion\u001b[0m:\u001b[32m \"3330217\"\u001b[0m\u001b[36m\u001b[0m\n",
      "\u001b[36m  uid\u001b[0m:\u001b[32m 054d710d-a4f4-49e8-92ff-e57a65e50c67\u001b[0m\n",
      "\u001b[32m\u001b[0m\u001b[36mspec\u001b[0m:\u001b[36m\u001b[0m\n",
      "\u001b[36m  ingressClassName\u001b[0m:\u001b[32m nginx\u001b[0m\n",
      "\u001b[32m  \u001b[0m\u001b[36mrules\u001b[0m:\n",
      "    -\u001b[36m host\u001b[0m:\u001b[32m lab.jfrog.worldl.xpt\u001b[0m\n",
      "\u001b[32m      \u001b[0m\u001b[36mhttp\u001b[0m:\u001b[36m\u001b[0m\n",
      "\u001b[36m        paths\u001b[0m:\n",
      "          -\u001b[36m backend\u001b[0m:\u001b[36m\u001b[0m\n",
      "\u001b[36m              service\u001b[0m:\u001b[36m\u001b[0m\n",
      "\u001b[36m                name\u001b[0m:\u001b[32m jfrog-artifactory-jcr-artifactory-nginx\u001b[0m\n",
      "\u001b[32m                \u001b[0m\u001b[36mport\u001b[0m:\u001b[36m\u001b[0m\n",
      "\u001b[36m                  number\u001b[0m:\u001b[95m 80\u001b[0m\n",
      "\u001b[95m            \u001b[0m\u001b[36mpath\u001b[0m:\u001b[32m /\u001b[0m\n",
      "\u001b[32m            \u001b[0m\u001b[36mpathType\u001b[0m:\u001b[32m Prefix\u001b[0m\n",
      "\u001b[32m\u001b[0m\u001b[36mstatus\u001b[0m:\u001b[36m\u001b[0m\n",
      "\u001b[36m  loadBalancer\u001b[0m:\u001b[36m\u001b[0m\n",
      "\u001b[36m    ingress\u001b[0m:\n",
      "      -\u001b[36m ip\u001b[0m:\u001b[32m 192.168.49.2\u001b[0m\n"
     ]
    }
   ],
   "source": [
    "!kubectl -n jfrog get ingress jfrog-ingress-lab -o yaml | yq"
   ]
  },
  {
   "cell_type": "markdown",
   "id": "e6dcf8d9-bd60-4c88-baa1-d499b35c1c36",
   "metadata": {},
   "source": [
    "   * <span style=\"color: blue;\">/etc/nginx/conf.d/artifactory.conf</span> \n",
    "\n",
    "  \n",
    "```text\n",
    "ssl_protocols TLSv1 TLSv1.1 TLSv1.2 TLSv1.3;\n",
    "ssl_certificate  /var/opt/jfrog/nginx/ssl/tls.crt;\n",
    "ssl_certificate_key  /var/opt/jfrog/nginx/ssl/tls.key;\n",
    "ssl_session_cache shared:SSL:1m;\n",
    "ssl_prefer_server_ciphers   on;\n",
    "## server configuration\n",
    "server {\n",
    "  listen 8443 ssl;\n",
    "  listen 8080;\n",
    "  server_name ~(?<repo>.+)\\.jfrog-artifactory-jcr jfrog-artifactory-jcr ~(?<repo>.+)\\.jfrog-jcr.worldl.xpt;\n",
    "\n",
    "  if ($http_x_forwarded_proto = '') {\n",
    "    set $http_x_forwarded_proto  $scheme;\n",
    "  }\n",
    "  ## Application specific logs\n",
    "  ## access_log /var/log/nginx/artifactory-access.log timing;\n",
    "  ## error_log /var/log/nginx/artifactory-error.log;\n",
    "  rewrite ^/artifactory/?$ / redirect;\n",
    "  if ( $repo != \"\" ) {\n",
    "    rewrite ^/(v1|v2)/(.*) /artifactory/api/docker/$repo/$1/$2 break;\n",
    "  }\n",
    "  chunked_transfer_encoding on;\n",
    "  client_max_body_size 0;\n",
    "\n",
    "  location / {\n",
    "    proxy_read_timeout  900;\n",
    "    proxy_pass_header   Server;\n",
    "    proxy_cookie_path   ~*^/.* /;\n",
    "    proxy_pass          http://jfrog-artifactory-jcr:8082/;\n",
    "    proxy_set_header    X-JFrog-Override-Base-Url $http_x_forwarded_proto://$host:$server_port;\n",
    "    proxy_set_header    X-Forwarded-Port  $server_port;\n",
    "    proxy_set_header    X-Forwarded-Proto $http_x_forwarded_proto;\n",
    "    proxy_set_header    Host              $http_host;\n",
    "    proxy_set_header    X-Forwarded-For   $proxy_add_x_forwarded_for;\n",
    "    add_header Strict-Transport-Security \"max-age=31536000; includeSubDomains\" always;\n",
    "\n",
    "    location /artifactory/ {\n",
    "      if ( $request_uri ~ ^/artifactory/(.*)$ ) {\n",
    "        proxy_pass       http://jfrog-artifactory-jcr:8081/artifactory/$1;\n",
    "      }\n",
    "      proxy_pass         http://jfrog-artifactory-jcr:8081/artifactory/;\n",
    "    }\n",
    "    location /pipelines/ {\n",
    "      proxy_http_version 1.1;\n",
    "      proxy_set_header Upgrade $http_upgrade;\n",
    "      proxy_set_header Connection \"upgrade\";\n",
    "      proxy_set_header Host $http_host;\n",
    "      proxy_pass  http://jfrog-artifactory-jcr:8082;\n",
    "    }\n",
    "  }\n",
    "}\n",
    "```\n"
   ]
  },
  {
   "cell_type": "markdown",
   "id": "5d3f9a1f-da30-45ca-a744-5eb580654196",
   "metadata": {},
   "source": [
    "   * https://jfrog.worldl.xpt/artifactory/lab/"
   ]
  },
  {
   "cell_type": "code",
   "execution_count": null,
   "id": "727bc9a9-d286-451a-9b9e-9de890ebee8a",
   "metadata": {},
   "outputs": [],
   "source": []
  }
 ],
 "metadata": {
  "kernelspec": {
   "display_name": "Python 3 (ipykernel)",
   "language": "python",
   "name": "python3"
  },
  "language_info": {
   "codemirror_mode": {
    "name": "ipython",
    "version": 3
   },
   "file_extension": ".py",
   "mimetype": "text/x-python",
   "name": "python",
   "nbconvert_exporter": "python",
   "pygments_lexer": "ipython3",
   "version": "3.10.13"
  }
 },
 "nbformat": 4,
 "nbformat_minor": 5
}
