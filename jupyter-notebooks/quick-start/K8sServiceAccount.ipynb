{
 "cells": [
  {
   "cell_type": "code",
   "execution_count": 1,
   "id": "d2ead6ad-4e2a-4a7f-b990-4dc8d484896b",
   "metadata": {},
   "outputs": [
    {
     "name": "stdout",
     "output_type": "stream",
     "text": [
      "\u001b[37mNAMESPACE                  NAME                                                                                     READY   STATUS      RESTARTS        AGE\u001b[0m\n",
      "\u001b[36mairflow\u001b[0m                    \u001b[32mairflow-db-migrations-77876c7958-q6dmz\u001b[0m                                                   \u001b[35m1/1\u001b[0m     \u001b[37mRunning\u001b[0m     \u001b[33m1 (6h26m ago)\u001b[0m   \u001b[36m6h26m\u001b[0m\n",
      "\u001b[36mairflow\u001b[0m                    \u001b[32mairflow-flower-7d45dc57d4-m4xfp\u001b[0m                                                          \u001b[35m1/1\u001b[0m     \u001b[37mRunning\u001b[0m     \u001b[33m0\u001b[0m               \u001b[36m6h26m\u001b[0m\n",
      "\u001b[36mairflow\u001b[0m                    \u001b[32mairflow-pgbouncer-8b55bf9b9-w4lnr\u001b[0m                                                        \u001b[35m1/1\u001b[0m     \u001b[37mRunning\u001b[0m     \u001b[33m0\u001b[0m               \u001b[36m6h26m\u001b[0m\n",
      "\u001b[36mairflow\u001b[0m                    \u001b[32mairflow-redis-master-0\u001b[0m                                                                   \u001b[35m1/1\u001b[0m     \u001b[37mRunning\u001b[0m     \u001b[33m0\u001b[0m               \u001b[36m7h2m\u001b[0m\n",
      "\u001b[36mairflow\u001b[0m                    \u001b[32mairflow-scheduler-69596bd558-cjsxw\u001b[0m                                                       \u001b[35m1/1\u001b[0m     \u001b[37mRunning\u001b[0m     \u001b[33m0\u001b[0m               \u001b[36m6h26m\u001b[0m\n",
      "\u001b[36mairflow\u001b[0m                    \u001b[32mairflow-sync-connections-7c986b7c4c-tjhsd\u001b[0m                                                \u001b[35m1/1\u001b[0m     \u001b[37mRunning\u001b[0m     \u001b[33m0\u001b[0m               \u001b[36m6h15m\u001b[0m\n",
      "\u001b[36mairflow\u001b[0m                    \u001b[32mairflow-sync-users-746ddc46fc-7nzf2\u001b[0m                                                      \u001b[35m1/1\u001b[0m     \u001b[37mRunning\u001b[0m     \u001b[33m0\u001b[0m               \u001b[36m6h26m\u001b[0m\n",
      "\u001b[36mairflow\u001b[0m                    \u001b[32mairflow-sync-variables-576f5f968c-wlscg\u001b[0m                                                  \u001b[35m1/1\u001b[0m     \u001b[37mRunning\u001b[0m     \u001b[33m0\u001b[0m               \u001b[36m6h26m\u001b[0m\n",
      "\u001b[36mairflow\u001b[0m                    \u001b[32mairflow-triggerer-665845d696-p5m4n\u001b[0m                                                       \u001b[35m1/1\u001b[0m     \u001b[37mRunning\u001b[0m     \u001b[33m0\u001b[0m               \u001b[36m6h26m\u001b[0m\n",
      "\u001b[36mairflow\u001b[0m                    \u001b[32mairflow-web-79d8f4bb4c-lvxwb\u001b[0m                                                             \u001b[35m1/1\u001b[0m     \u001b[37mRunning\u001b[0m     \u001b[33m0\u001b[0m               \u001b[36m6h26m\u001b[0m\n",
      "\u001b[36mairflow\u001b[0m                    \u001b[32mairflow-worker-0\u001b[0m                                                                         \u001b[35m1/1\u001b[0m     \u001b[37mRunning\u001b[0m     \u001b[33m0\u001b[0m               \u001b[36m6h26m\u001b[0m\n",
      "\u001b[36margocd\u001b[0m                     \u001b[32margocd-application-controller-0\u001b[0m                                                          \u001b[35m1/1\u001b[0m     \u001b[37mRunning\u001b[0m     \u001b[33m0\u001b[0m               \u001b[36m7h7m\u001b[0m\n",
      "\u001b[36margocd\u001b[0m                     \u001b[32margocd-applicationset-controller-8686bd5cff-jfjnk\u001b[0m                                        \u001b[35m1/1\u001b[0m     \u001b[37mRunning\u001b[0m     \u001b[33m0\u001b[0m               \u001b[36m7h7m\u001b[0m\n",
      "\u001b[36margocd\u001b[0m                     \u001b[32margocd-dex-server-7cfcd7dff9-lrtmv\u001b[0m                                                       \u001b[35m1/1\u001b[0m     \u001b[37mRunning\u001b[0m     \u001b[33m0\u001b[0m               \u001b[36m7h7m\u001b[0m\n",
      "\u001b[36margocd\u001b[0m                     \u001b[32margocd-notifications-controller-7cd6986945-7gml8\u001b[0m                                         \u001b[35m1/1\u001b[0m     \u001b[37mRunning\u001b[0m     \u001b[33m0\u001b[0m               \u001b[36m7h7m\u001b[0m\n",
      "\u001b[36margocd\u001b[0m                     \u001b[32margocd-redis-86f6c44df-tzg5q\u001b[0m                                                             \u001b[35m1/1\u001b[0m     \u001b[37mRunning\u001b[0m     \u001b[33m0\u001b[0m               \u001b[36m7h7m\u001b[0m\n",
      "\u001b[36margocd\u001b[0m                     \u001b[32margocd-repo-server-7bbccdb8c5-pfsq4\u001b[0m                                                      \u001b[35m1/1\u001b[0m     \u001b[37mRunning\u001b[0m     \u001b[33m0\u001b[0m               \u001b[36m7h7m\u001b[0m\n",
      "\u001b[36margocd\u001b[0m                     \u001b[32margocd-server-6fb8d6cdcb-8cfwh\u001b[0m                                                           \u001b[35m1/1\u001b[0m     \u001b[37mRunning\u001b[0m     \u001b[33m0\u001b[0m               \u001b[36m7h7m\u001b[0m\n",
      "\u001b[36maws-glue\u001b[0m                   \u001b[32maws-glue-jupyter-7bfb5f947f-rhg2f\u001b[0m                                                        \u001b[35m3/3\u001b[0m     \u001b[37mRunning\u001b[0m     \u001b[33m0\u001b[0m               \u001b[36m7h7m\u001b[0m\n",
      "\u001b[36mcommander\u001b[0m                  \u001b[32mjupyter-server-547f5b4445-nllrf\u001b[0m                                                          \u001b[35m1/1\u001b[0m     \u001b[37mRunning\u001b[0m     \u001b[33m0\u001b[0m               \u001b[36m168m\u001b[0m\n",
      "\u001b[36mcommander\u001b[0m                  \u001b[32mtunnel-server-5b87f477b5-dtgbj\u001b[0m                                                           \u001b[35m1/1\u001b[0m     \u001b[37mRunning\u001b[0m     \u001b[33m0\u001b[0m               \u001b[36m5h19m\u001b[0m\n",
      "\u001b[36mdatahub\u001b[0m                    \u001b[32mdatahub-acryl-datahub-actions-56d59dc5f5-k8d2q\u001b[0m                                           \u001b[35m1/1\u001b[0m     \u001b[37mRunning\u001b[0m     \u001b[33m0\u001b[0m               \u001b[36m6h54m\u001b[0m\n",
      "\u001b[36mdatahub\u001b[0m                    \u001b[32mdatahub-datahub-frontend-7545898455-8v2rx\u001b[0m                                                \u001b[35m1/1\u001b[0m     \u001b[37mRunning\u001b[0m     \u001b[33m0\u001b[0m               \u001b[36m6h54m\u001b[0m\n",
      "\u001b[36mdatahub\u001b[0m                    \u001b[32mdatahub-datahub-gms-6464489876-8hc6s\u001b[0m                                                     \u001b[35m1/1\u001b[0m     \u001b[37mRunning\u001b[0m     \u001b[33m0\u001b[0m               \u001b[36m6h54m\u001b[0m\n",
      "\u001b[36mdatahub\u001b[0m                    \u001b[32mdatahub-datahub-system-update-job-7kjsp\u001b[0m                                                  \u001b[33m0/1\u001b[0m     \u001b[37mCompleted\u001b[0m   \u001b[33m0\u001b[0m               \u001b[36m6h55m\u001b[0m\n",
      "\u001b[36mdatahub\u001b[0m                    \u001b[32mdatahub-elasticsearch-setup-job-ts2kj\u001b[0m                                                    \u001b[33m0/1\u001b[0m     \u001b[37mCompleted\u001b[0m   \u001b[33m0\u001b[0m               \u001b[36m7h2m\u001b[0m\n",
      "\u001b[36mdatahub\u001b[0m                    \u001b[32mdatahub-kafka-setup-job-5psnz\u001b[0m                                                            \u001b[33m0/1\u001b[0m     \u001b[37mCompleted\u001b[0m   \u001b[33m0\u001b[0m               \u001b[36m6h57m\u001b[0m\n",
      "\u001b[36mdatahub\u001b[0m                    \u001b[32mdatahub-nocode-migration-job-m757t\u001b[0m                                                       \u001b[33m0/1\u001b[0m     \u001b[37mCompleted\u001b[0m   \u001b[33m0\u001b[0m               \u001b[36m6h51m\u001b[0m\n",
      "\u001b[36mdatahub\u001b[0m                    \u001b[32mdatahub-postgresql-setup-job-tzzmq\u001b[0m                                                       \u001b[33m0/1\u001b[0m     \u001b[37mCompleted\u001b[0m   \u001b[33m0\u001b[0m               \u001b[36m6h55m\u001b[0m\n",
      "\u001b[36mdatahub\u001b[0m                    \u001b[32melasticsearch-master-0\u001b[0m                                                                   \u001b[35m1/1\u001b[0m     \u001b[37mRunning\u001b[0m     \u001b[33m0\u001b[0m               \u001b[36m7h2m\u001b[0m\n",
      "\u001b[36mdatahub\u001b[0m                    \u001b[32mprerequisites-kafka-0\u001b[0m                                                                    \u001b[35m1/1\u001b[0m     \u001b[37mRunning\u001b[0m     \u001b[33m2 (6h58m ago)\u001b[0m   \u001b[36m7h2m\u001b[0m\n",
      "\u001b[36mdatahub\u001b[0m                    \u001b[32mprerequisites-zookeeper-0\u001b[0m                                                                \u001b[35m1/1\u001b[0m     \u001b[37mRunning\u001b[0m     \u001b[33m0\u001b[0m               \u001b[36m7h2m\u001b[0m\n",
      "\u001b[36melasticsearch\u001b[0m              \u001b[32melasticsearch-coordinating-0\u001b[0m                                                             \u001b[35m1/1\u001b[0m     \u001b[37mRunning\u001b[0m     \u001b[33m0\u001b[0m               \u001b[36m7h7m\u001b[0m\n",
      "\u001b[36melasticsearch\u001b[0m              \u001b[32melasticsearch-coordinating-1\u001b[0m                                                             \u001b[35m1/1\u001b[0m     \u001b[37mRunning\u001b[0m     \u001b[33m0\u001b[0m               \u001b[36m7h7m\u001b[0m\n",
      "\u001b[36melasticsearch\u001b[0m              \u001b[32melasticsearch-data-0\u001b[0m                                                                     \u001b[35m1/1\u001b[0m     \u001b[37mRunning\u001b[0m     \u001b[33m0\u001b[0m               \u001b[36m7h7m\u001b[0m\n",
      "\u001b[36melasticsearch\u001b[0m              \u001b[32melasticsearch-data-1\u001b[0m                                                                     \u001b[35m1/1\u001b[0m     \u001b[37mRunning\u001b[0m     \u001b[33m0\u001b[0m               \u001b[36m7h7m\u001b[0m\n",
      "\u001b[36melasticsearch\u001b[0m              \u001b[32melasticsearch-ingest-0\u001b[0m                                                                   \u001b[35m1/1\u001b[0m     \u001b[37mRunning\u001b[0m     \u001b[33m0\u001b[0m               \u001b[36m7h7m\u001b[0m\n",
      "\u001b[36melasticsearch\u001b[0m              \u001b[32melasticsearch-ingest-1\u001b[0m                                                                   \u001b[35m1/1\u001b[0m     \u001b[37mRunning\u001b[0m     \u001b[33m0\u001b[0m               \u001b[36m7h7m\u001b[0m\n",
      "\u001b[36melasticsearch\u001b[0m              \u001b[32melasticsearch-master-0\u001b[0m                                                                   \u001b[35m1/1\u001b[0m     \u001b[37mRunning\u001b[0m     \u001b[33m0\u001b[0m               \u001b[36m7h7m\u001b[0m\n",
      "\u001b[36melasticsearch\u001b[0m              \u001b[32melasticsearch-master-1\u001b[0m                                                                   \u001b[35m1/1\u001b[0m     \u001b[37mRunning\u001b[0m     \u001b[33m0\u001b[0m               \u001b[36m7h7m\u001b[0m\n",
      "\u001b[36mhive\u001b[0m                       \u001b[32mhive-metastore-775565f594-n7pqd\u001b[0m                                                          \u001b[35m1/1\u001b[0m     \u001b[37mRunning\u001b[0m     \u001b[33m0\u001b[0m               \u001b[36m7h7m\u001b[0m\n",
      "\u001b[36mingress-nginx\u001b[0m              \u001b[32mingress-nginx-admission-create-w9k7h\u001b[0m                                                     \u001b[33m0/1\u001b[0m     \u001b[37mCompleted\u001b[0m   \u001b[33m0\u001b[0m               \u001b[36m21h\u001b[0m\n",
      "\u001b[36mingress-nginx\u001b[0m              \u001b[32mingress-nginx-admission-patch-x4zfn\u001b[0m                                                      \u001b[33m0/1\u001b[0m     \u001b[37mCompleted\u001b[0m   \u001b[33m0\u001b[0m               \u001b[36m21h\u001b[0m\n",
      "\u001b[36mingress-nginx\u001b[0m              \u001b[32mingress-nginx-controller-84945f6d87-582gs\u001b[0m                                                \u001b[35m1/1\u001b[0m     \u001b[37mRunning\u001b[0m     \u001b[33m0\u001b[0m               \u001b[36m7h35m\u001b[0m\n",
      "\u001b[36mk8s-replicator\u001b[0m             \u001b[32mkubernetes-replicator-85c7d9f464-8s6gp\u001b[0m                                                   \u001b[35m1/1\u001b[0m     \u001b[37mRunning\u001b[0m     \u001b[33m0\u001b[0m               \u001b[36m7h8m\u001b[0m\n",
      "\u001b[36mkafka-main-cluster\u001b[0m         \u001b[32mmain-entity-operator-5bd9cdc9b6-xp6b7\u001b[0m                                                    \u001b[35m2/2\u001b[0m     \u001b[37mRunning\u001b[0m     \u001b[33m0\u001b[0m               \u001b[36m7h4m\u001b[0m\n",
      "\u001b[36mkafka-main-cluster\u001b[0m         \u001b[32mmain-kafka-0\u001b[0m                                                                             \u001b[35m1/1\u001b[0m     \u001b[37mRunning\u001b[0m     \u001b[33m0\u001b[0m               \u001b[36m7h4m\u001b[0m\n",
      "\u001b[36mkafka-main-cluster\u001b[0m         \u001b[32mmain-registry-schema-registry-0\u001b[0m                                                          \u001b[35m1/1\u001b[0m     \u001b[37mRunning\u001b[0m     \u001b[33m0\u001b[0m               \u001b[36m7h8m\u001b[0m\n",
      "\u001b[36mkafka-main-cluster\u001b[0m         \u001b[32mmain-zookeeper-0\u001b[0m                                                                         \u001b[35m1/1\u001b[0m     \u001b[37mRunning\u001b[0m     \u001b[33m0\u001b[0m               \u001b[36m7h7m\u001b[0m\n",
      "\u001b[36mkafka-main-cluster\u001b[0m         \u001b[32mmy-bridge-bridge-c4b44cd4-mvh9t\u001b[0m                                                          \u001b[35m1/1\u001b[0m     \u001b[37mRunning\u001b[0m     \u001b[33m0\u001b[0m               \u001b[36m7h2m\u001b[0m\n",
      "\u001b[36mkafka-main-cluster\u001b[0m         \u001b[32mmy-connect-connect-0\u001b[0m                                                                     \u001b[35m1/1\u001b[0m     \u001b[37mRunning\u001b[0m     \u001b[33m0\u001b[0m               \u001b[36m7h2m\u001b[0m\n",
      "\u001b[36mkafka\u001b[0m                      \u001b[32mkafka-ui-646c544498-r5c9m\u001b[0m                                                                \u001b[35m1/1\u001b[0m     \u001b[37mRunning\u001b[0m     \u001b[33m0\u001b[0m               \u001b[36m3h59m\u001b[0m\n",
      "\u001b[36mkafka\u001b[0m                      \u001b[32mstrimzi-cluster-operator-768d955cd9-cs9ss\u001b[0m                                                \u001b[35m1/1\u001b[0m     \u001b[37mRunning\u001b[0m     \u001b[33m0\u001b[0m               \u001b[36m7h8m\u001b[0m\n",
      "\u001b[36mkube-system\u001b[0m                \u001b[32mcoredns-5dd5756b68-nmd64\u001b[0m                                                                 \u001b[35m1/1\u001b[0m     \u001b[37mRunning\u001b[0m     \u001b[33m1\u001b[0m               \u001b[36m21h\u001b[0m\n",
      "\u001b[36mkube-system\u001b[0m                \u001b[32metcd-cluster2\u001b[0m                                                                            \u001b[35m1/1\u001b[0m     \u001b[37mRunning\u001b[0m     \u001b[33m1\u001b[0m               \u001b[36m21h\u001b[0m\n",
      "\u001b[36mkube-system\u001b[0m                \u001b[32mkindnet-94dkw\u001b[0m                                                                            \u001b[35m1/1\u001b[0m     \u001b[37mRunning\u001b[0m     \u001b[33m0\u001b[0m               \u001b[36m7h8m\u001b[0m\n",
      "\u001b[36mkube-system\u001b[0m                \u001b[32mkindnet-cr8h5\u001b[0m                                                                            \u001b[35m1/1\u001b[0m     \u001b[37mRunning\u001b[0m     \u001b[33m0\u001b[0m               \u001b[36m7h8m\u001b[0m\n",
      "\u001b[36mkube-system\u001b[0m                \u001b[32mkindnet-rgh9w\u001b[0m                                                                            \u001b[35m1/1\u001b[0m     \u001b[37mRunning\u001b[0m     \u001b[33m0\u001b[0m               \u001b[36m7h8m\u001b[0m\n",
      "\u001b[36mkube-system\u001b[0m                \u001b[32mkindnet-shhqh\u001b[0m                                                                            \u001b[35m1/1\u001b[0m     \u001b[37mRunning\u001b[0m     \u001b[33m0\u001b[0m               \u001b[36m7h8m\u001b[0m\n",
      "\u001b[36mkube-system\u001b[0m                \u001b[32mkube-apiserver-cluster2\u001b[0m                                                                  \u001b[35m1/1\u001b[0m     \u001b[37mRunning\u001b[0m     \u001b[33m1\u001b[0m               \u001b[36m21h\u001b[0m\n",
      "\u001b[36mkube-system\u001b[0m                \u001b[32mkube-controller-manager-cluster2\u001b[0m                                                         \u001b[35m1/1\u001b[0m     \u001b[37mRunning\u001b[0m     \u001b[33m1\u001b[0m               \u001b[36m21h\u001b[0m\n",
      "\u001b[36mkube-system\u001b[0m                \u001b[32mkube-proxy-d6mzj\u001b[0m                                                                         \u001b[35m1/1\u001b[0m     \u001b[37mRunning\u001b[0m     \u001b[33m1 (7h34m ago)\u001b[0m   \u001b[36m21h\u001b[0m\n",
      "\u001b[36mkube-system\u001b[0m                \u001b[32mkube-proxy-hvqrv\u001b[0m                                                                         \u001b[35m1/1\u001b[0m     \u001b[37mRunning\u001b[0m     \u001b[33m1 (7h34m ago)\u001b[0m   \u001b[36m21h\u001b[0m\n",
      "\u001b[36mkube-system\u001b[0m                \u001b[32mkube-proxy-vdqlj\u001b[0m                                                                         \u001b[35m1/1\u001b[0m     \u001b[37mRunning\u001b[0m     \u001b[33m1\u001b[0m               \u001b[36m21h\u001b[0m\n",
      "\u001b[36mkube-system\u001b[0m                \u001b[32mkube-proxy-wzjvl\u001b[0m                                                                         \u001b[35m1/1\u001b[0m     \u001b[37mRunning\u001b[0m     \u001b[33m1 (7h34m ago)\u001b[0m   \u001b[36m21h\u001b[0m\n",
      "\u001b[36mkube-system\u001b[0m                \u001b[32mkube-scheduler-cluster2\u001b[0m                                                                  \u001b[35m1/1\u001b[0m     \u001b[37mRunning\u001b[0m     \u001b[33m1\u001b[0m               \u001b[36m21h\u001b[0m\n",
      "\u001b[36mkube-system\u001b[0m                \u001b[32mmetrics-server-7c66d45ddc-pqwx5\u001b[0m                                                          \u001b[35m1/1\u001b[0m     \u001b[37mRunning\u001b[0m     \u001b[33m0\u001b[0m               \u001b[36m7h34m\u001b[0m\n",
      "\u001b[36mkube-system\u001b[0m                \u001b[32mregistry-aliases-hosts-update-jbnxs\u001b[0m                                                      \u001b[35m1/1\u001b[0m     \u001b[37mRunning\u001b[0m     \u001b[33m1 (7h34m ago)\u001b[0m   \u001b[36m21h\u001b[0m\n",
      "\u001b[36mkube-system\u001b[0m                \u001b[32mregistry-aliases-hosts-update-jmllq\u001b[0m                                                      \u001b[35m1/1\u001b[0m     \u001b[37mRunning\u001b[0m     \u001b[33m1 (7h34m ago)\u001b[0m   \u001b[36m21h\u001b[0m\n",
      "\u001b[36mkube-system\u001b[0m                \u001b[32mregistry-aliases-hosts-update-n2752\u001b[0m                                                      \u001b[35m1/1\u001b[0m     \u001b[37mRunning\u001b[0m     \u001b[33m1 (7h34m ago)\u001b[0m   \u001b[36m21h\u001b[0m\n",
      "\u001b[36mkube-system\u001b[0m                \u001b[32mregistry-aliases-hosts-update-vdfsk\u001b[0m                                                      \u001b[35m1/1\u001b[0m     \u001b[37mRunning\u001b[0m     \u001b[33m1\u001b[0m               \u001b[36m21h\u001b[0m\n",
      "\u001b[36mkube-system\u001b[0m                \u001b[32mregistry-gh5rz\u001b[0m                                                                           \u001b[35m1/1\u001b[0m     \u001b[37mRunning\u001b[0m     \u001b[33m0\u001b[0m               \u001b[36m7h34m\u001b[0m\n",
      "\u001b[36mkube-system\u001b[0m                \u001b[32mregistry-proxy-4lz24\u001b[0m                                                                     \u001b[35m1/1\u001b[0m     \u001b[37mRunning\u001b[0m     \u001b[33m1 (7h34m ago)\u001b[0m   \u001b[36m21h\u001b[0m\n",
      "\u001b[36mkube-system\u001b[0m                \u001b[32mregistry-proxy-mgg2n\u001b[0m                                                                     \u001b[35m1/1\u001b[0m     \u001b[37mRunning\u001b[0m     \u001b[33m1 (7h34m ago)\u001b[0m   \u001b[36m21h\u001b[0m\n",
      "\u001b[36mkube-system\u001b[0m                \u001b[32mregistry-proxy-phlff\u001b[0m                                                                     \u001b[35m1/1\u001b[0m     \u001b[37mRunning\u001b[0m     \u001b[33m1 (7h34m ago)\u001b[0m   \u001b[36m21h\u001b[0m\n",
      "\u001b[36mkube-system\u001b[0m                \u001b[32mregistry-proxy-sgth6\u001b[0m                                                                     \u001b[35m1/1\u001b[0m     \u001b[37mRunning\u001b[0m     \u001b[33m1\u001b[0m               \u001b[36m21h\u001b[0m\n",
      "\u001b[36mkube-system\u001b[0m                \u001b[32mstorage-provisioner\u001b[0m                                                                      \u001b[35m1/1\u001b[0m     \u001b[37mRunning\u001b[0m     \u001b[33m1\u001b[0m               \u001b[36m21h\u001b[0m\n",
      "\u001b[36mkubernetes-dashboard\u001b[0m       \u001b[32mdashboard-metrics-scraper-7fd5cb4ddc-zxm7b\u001b[0m                                               \u001b[35m1/1\u001b[0m     \u001b[37mRunning\u001b[0m     \u001b[33m0\u001b[0m               \u001b[36m7h34m\u001b[0m\n",
      "\u001b[36mkubernetes-dashboard\u001b[0m       \u001b[32mkubernetes-dashboard-8694d4445c-8496d\u001b[0m                                                    \u001b[35m1/1\u001b[0m     \u001b[37mRunning\u001b[0m     \u001b[33m0\u001b[0m               \u001b[36m7h34m\u001b[0m\n",
      "\u001b[36mlocalstack\u001b[0m                 \u001b[32mlocalstack-f7bd7d54d-tkdh2\u001b[0m                                                               \u001b[35m1/1\u001b[0m     \u001b[37mRunning\u001b[0m     \u001b[33m0\u001b[0m               \u001b[36m7h7m\u001b[0m\n",
      "\u001b[36mmetabase\u001b[0m                   \u001b[32mmetabase-deployment-5c69689fc4-5vq2l\u001b[0m                                                     \u001b[35m1/1\u001b[0m     \u001b[37mRunning\u001b[0m     \u001b[33m0\u001b[0m               \u001b[36m7h7m\u001b[0m\n",
      "\u001b[36mmetallb-system\u001b[0m             \u001b[32mcontroller-7f75d4cbfb-6qx44\u001b[0m                                                              \u001b[35m1/1\u001b[0m     \u001b[37mRunning\u001b[0m     \u001b[33m0\u001b[0m               \u001b[36m7h34m\u001b[0m\n",
      "\u001b[36mmetallb-system\u001b[0m             \u001b[32mspeaker-jdnxk\u001b[0m                                                                            \u001b[35m1/1\u001b[0m     \u001b[37mRunning\u001b[0m     \u001b[33m1 (7h34m ago)\u001b[0m   \u001b[36m21h\u001b[0m\n",
      "\u001b[36mmetallb-system\u001b[0m             \u001b[32mspeaker-jz866\u001b[0m                                                                            \u001b[35m1/1\u001b[0m     \u001b[37mRunning\u001b[0m     \u001b[33m1 (7h34m ago)\u001b[0m   \u001b[36m21h\u001b[0m\n",
      "\u001b[36mmetallb-system\u001b[0m             \u001b[32mspeaker-w52h5\u001b[0m                                                                            \u001b[35m1/1\u001b[0m     \u001b[37mRunning\u001b[0m     \u001b[33m1\u001b[0m               \u001b[36m21h\u001b[0m\n",
      "\u001b[36mmetallb-system\u001b[0m             \u001b[32mspeaker-x27wh\u001b[0m                                                                            \u001b[35m1/1\u001b[0m     \u001b[37mRunning\u001b[0m     \u001b[33m1 (7h34m ago)\u001b[0m   \u001b[36m21h\u001b[0m\n",
      "\u001b[36mminio-operator\u001b[0m             \u001b[32mconsole-75dc7dc944-ztd6h\u001b[0m                                                                 \u001b[35m1/1\u001b[0m     \u001b[37mRunning\u001b[0m     \u001b[33m0\u001b[0m               \u001b[36m7h7m\u001b[0m\n",
      "\u001b[36mminio-operator\u001b[0m             \u001b[32mminio-operator-5fb57dcdd5-5s64g\u001b[0m                                                          \u001b[35m1/1\u001b[0m     \u001b[37mRunning\u001b[0m     \u001b[33m0\u001b[0m               \u001b[36m7h7m\u001b[0m\n",
      "\u001b[36mminio-operator\u001b[0m             \u001b[32mminio-operator-5fb57dcdd5-w2kzt\u001b[0m                                                          \u001b[35m1/1\u001b[0m     \u001b[37mRunning\u001b[0m     \u001b[33m0\u001b[0m               \u001b[36m7h7m\u001b[0m\n",
      "\u001b[36mminio-tenant-1\u001b[0m             \u001b[32mminio-tenant-1-ss-0-0\u001b[0m                                                                    \u001b[35m2/2\u001b[0m     \u001b[37mRunning\u001b[0m     \u001b[33m0\u001b[0m               \u001b[36m7h7m\u001b[0m\n",
      "\u001b[36mminio-tenant-1\u001b[0m             \u001b[32mminio-tenant-1-ss-0-1\u001b[0m                                                                    \u001b[35m2/2\u001b[0m     \u001b[37mRunning\u001b[0m     \u001b[33m0\u001b[0m               \u001b[36m7h7m\u001b[0m\n",
      "\u001b[36mminio-tenant-1\u001b[0m             \u001b[32mminio-tenant-1-ss-0-2\u001b[0m                                                                    \u001b[35m2/2\u001b[0m     \u001b[37mRunning\u001b[0m     \u001b[33m0\u001b[0m               \u001b[36m7h7m\u001b[0m\n",
      "\u001b[36mmongodb\u001b[0m                    \u001b[32mmongodb-kubernetes-operator-bf56d5578-rcq9w\u001b[0m                                              \u001b[35m1/1\u001b[0m     \u001b[37mRunning\u001b[0m     \u001b[33m0\u001b[0m               \u001b[36m7h7m\u001b[0m\n",
      "\u001b[36mmysql\u001b[0m                      \u001b[32mmy-release-mysql-0\u001b[0m                                                                       \u001b[35m1/1\u001b[0m     \u001b[37mRunning\u001b[0m     \u001b[33m0\u001b[0m               \u001b[36m4h52m\u001b[0m\n",
      "\u001b[36mnfs-external-provisioner\u001b[0m   \u001b[32mnfs-subdir-external-provisioner-78f9d66b78-d4djw\u001b[0m                                         \u001b[35m1/1\u001b[0m     \u001b[37mRunning\u001b[0m     \u001b[33m0\u001b[0m               \u001b[36m7h34m\u001b[0m\n",
      "\u001b[36mopenmetadata\u001b[0m               \u001b[32mopenmetadata-74f88784f5-fzwcb\u001b[0m                                                            \u001b[35m1/1\u001b[0m     \u001b[37mRunning\u001b[0m     \u001b[33m0\u001b[0m               \u001b[36m4h37m\u001b[0m\n",
      "\u001b[36mpostgres\u001b[0m                   \u001b[32mpostgres-postgresql-0\u001b[0m                                                                    \u001b[35m1/1\u001b[0m     \u001b[37mRunning\u001b[0m     \u001b[33m0\u001b[0m               \u001b[36m7h7m\u001b[0m\n",
      "\u001b[36msqlserver\u001b[0m                  \u001b[32mmssqlserver-2022-97999577d-jh4ns\u001b[0m                                                         \u001b[35m1/1\u001b[0m     \u001b[37mRunning\u001b[0m     \u001b[33m0\u001b[0m               \u001b[36m7h4m\u001b[0m\n",
      "\u001b[36msqlserver\u001b[0m                  \u001b[32msqlserver-init-job-pzc2l\u001b[0m                                                                 \u001b[33m0/1\u001b[0m     \u001b[37mCompleted\u001b[0m   \u001b[33m0\u001b[0m               \u001b[36m7h7m\u001b[0m\n",
      "\u001b[36mtrino\u001b[0m                      \u001b[32mtrino-coordinator-dbbbcf9d9-mlrtf\u001b[0m                                                        \u001b[35m1/1\u001b[0m     \u001b[37mRunning\u001b[0m     \u001b[33m0\u001b[0m               \u001b[36m7h2m\u001b[0m\n",
      "\u001b[36mtrino\u001b[0m                      \u001b[32mtrino-worker-6c58b678cc-sj89w\u001b[0m                                                            \u001b[35m1/1\u001b[0m     \u001b[37mRunning\u001b[0m     \u001b[33m0\u001b[0m               \u001b[36m7h2m\u001b[0m\n",
      "\u001b[36mtrino\u001b[0m                      \u001b[32mtrino-worker-6c58b678cc-xbjv2\u001b[0m                                                            \u001b[35m1/1\u001b[0m     \u001b[37mRunning\u001b[0m     \u001b[33m0\u001b[0m               \u001b[36m7h2m\u001b[0m\n",
      "\u001b[36mzeppelin\u001b[0m                   \u001b[32mjupyter-server-5d8d48898b-8b86q\u001b[0m                                                          \u001b[35m1/1\u001b[0m     \u001b[37mRunning\u001b[0m     \u001b[33m0\u001b[0m               \u001b[36m7h7m\u001b[0m\n",
      "\u001b[36mzeppelin\u001b[0m                   \u001b[32mmd-rbmkkv\u001b[0m                                                                                \u001b[35m1/1\u001b[0m     \u001b[37mRunning\u001b[0m     \u001b[33m0\u001b[0m               \u001b[36m4h24m\u001b[0m\n",
      "\u001b[36mzeppelin\u001b[0m                   \u001b[32morg-apache-zeppelin-interpreter-remote-remoteinterpreterserver-7a38f48d69fe5c44-exec-1\u001b[0m   \u001b[35m1/1\u001b[0m     \u001b[37mRunning\u001b[0m     \u001b[33m0\u001b[0m               \u001b[36m4h24m\u001b[0m\n",
      "\u001b[36mzeppelin\u001b[0m                   \u001b[32msh-brqfoe\u001b[0m                                                                                \u001b[35m1/1\u001b[0m     \u001b[37mRunning\u001b[0m     \u001b[33m0\u001b[0m               \u001b[36m4h24m\u001b[0m\n",
      "\u001b[36mzeppelin\u001b[0m                   \u001b[32mspark-ipyrvd\u001b[0m                                                                             \u001b[35m1/1\u001b[0m     \u001b[37mRunning\u001b[0m     \u001b[33m0\u001b[0m               \u001b[36m4h25m\u001b[0m\n",
      "\u001b[36mzeppelin\u001b[0m                   \u001b[32mzeppelin-server-8cc884444-nncwx\u001b[0m                                                          \u001b[35m3/3\u001b[0m     \u001b[37mRunning\u001b[0m     \u001b[33m0\u001b[0m               \u001b[36m7h7m\u001b[0m\n"
     ]
    }
   ],
   "source": [
    "!kubecolor get pods -A"
   ]
  },
  {
   "cell_type": "code",
   "execution_count": 2,
   "id": "4502c2dc-27a2-48ee-852e-9e9b7a361983",
   "metadata": {},
   "outputs": [
    {
     "name": "stdout",
     "output_type": "stream",
     "text": [
      "\u001b[32mapiVersion: v1\u001b[0m\n",
      "\u001b[32mclusters: null\u001b[0m\n",
      "\u001b[32mcontexts: null\u001b[0m\n",
      "\u001b[32mcurrent-context: \"\"\u001b[0m\n",
      "\u001b[32mkind: Config\u001b[0m\n",
      "\u001b[32mpreferences: {}\u001b[0m\n",
      "\u001b[32musers: null\u001b[0m\n"
     ]
    }
   ],
   "source": [
    "!kubecolor config view"
   ]
  },
  {
   "cell_type": "code",
   "execution_count": 3,
   "id": "88afcf08-0025-4e80-97b9-b1bc366bef42",
   "metadata": {},
   "outputs": [
    {
     "name": "stdout",
     "output_type": "stream",
     "text": [
      "\u001b[32mNAME\u001b[0m\n"
     ]
    }
   ],
   "source": [
    "!kubecolor config get-clusters"
   ]
  },
  {
   "cell_type": "code",
   "execution_count": 4,
   "id": "d9c9f93b-07a2-48da-9273-982b8379535a",
   "metadata": {},
   "outputs": [
    {
     "name": "stdout",
     "output_type": "stream",
     "text": [
      "\u001b[32mNAME\u001b[0m\n"
     ]
    }
   ],
   "source": [
    "!kubecolor config get-users"
   ]
  },
  {
   "cell_type": "code",
   "execution_count": 8,
   "id": "39df4256-a745-4657-ae26-a97baa39e851",
   "metadata": {},
   "outputs": [
    {
     "name": "stdout",
     "output_type": "stream",
     "text": [
      "lrwxrwxrwx 1 root root 12 Jan 27 10:33 /var/run/secrets/kubernetes.io/serviceaccount/token -> ..data/token\n"
     ]
    }
   ],
   "source": [
    "!ls -la /var/run/secrets/kubernetes.io/serviceaccount/token\n"
   ]
  },
  {
   "cell_type": "code",
   "execution_count": 9,
   "id": "3c8862df-8013-4b3b-b7ac-cc7e066ee1f1",
   "metadata": {},
   "outputs": [
    {
     "name": "stdout",
     "output_type": "stream",
     "text": [
      "lrwxrwxrwx 1 root root 12 Jan 27 10:33 /var/run/secrets/kubernetes.io/serviceaccount/token -> ..data/token\n"
     ]
    }
   ],
   "source": [
    "!ls -la /var/run/secrets/kubernetes.io/serviceaccount/token"
   ]
  },
  {
   "cell_type": "code",
   "execution_count": 10,
   "id": "282fe549-e9cb-49b6-bbb5-40fdadd2bf9d",
   "metadata": {},
   "outputs": [
    {
     "name": "stdout",
     "output_type": "stream",
     "text": [
      "eyJhbGciOiJSUzI1NiIsImtpZCI6InlyU2hkQkl4TW1HRnowWVlFV3AxRVk3UXNjQTRoc3U2cTF0QVRoclA2clUifQ.eyJhdWQiOlsiaHR0cHM6Ly9rdWJlcm5ldGVzLmRlZmF1bHQuc3ZjLmNsdXN0ZXIyLnhwdCJdLCJleHAiOjE3Mzc4OTg0MTYsImlhdCI6MTcwNjM2MjQxNiwiaXNzIjoiaHR0cHM6Ly9rdWJlcm5ldGVzLmRlZmF1bHQuc3ZjLmNsdXN0ZXIyLnhwdCIsImt1YmVybmV0ZXMuaW8iOnsibmFtZXNwYWNlIjoiY29tbWFuZGVyIiwicG9kIjp7Im5hbWUiOiJqdXB5dGVyLXNlcnZlci01OWRiN2Q5NzQ5LXB0ZHRqIiwidWlkIjoiN2UwYWM4ODgtNDhiNC00NWFlLWFlZjQtN2RhM2YwNDAxYjZkIn0sInNlcnZpY2VhY2NvdW50Ijp7Im5hbWUiOiJhZG1pbi1zZXJ2aWNlLWFjY291bnQiLCJ1aWQiOiJiZTZmZTM0NC04NzE3LTQ2NzItYTEyMi1hZWY1ZDFjYjA3NTgifSwid2FybmFmdGVyIjoxNzA2MzY2MDIzfSwibmJmIjoxNzA2MzYyNDE2LCJzdWIiOiJzeXN0ZW06c2VydmljZWFjY291bnQ6Y29tbWFuZGVyOmFkbWluLXNlcnZpY2UtYWNjb3VudCJ9.NjtZdLj5yCWZY0nOH5qnGbz7e4MpC75BFzAbdEcjQoqxGANVLVzFOWahnz66hg8-x8-FNDhLoa4B9TEYoJ8LhIXRamUsL3KewR-G04oFsIX09aXh3KycV3OnMLWZH7s1Led3lENqGISlAQzYvr7RKgAV0ttYMPjGJQPV2LGjDGBgtwfcwxfE38XZj11KMJIjSede_ceKpuXeeU6IjIcfX9gRZT_L4WMdDxX-BJO168XDIJkFil_2YP-FB82CFbX6xZdE5QzQxSWRBY8Rf7oP49OmZKYg76FgwTyFX6IATN4AzGDwej6KkPjGxz4nROP1gxoC6kdD-RELvITozU7VCg"
     ]
    }
   ],
   "source": [
    "!cat /var/run/secrets/kubernetes.io/serviceaccount/token"
   ]
  },
  {
   "cell_type": "code",
   "execution_count": 11,
   "id": "d745f242-9e95-4817-8217-132bac72ea7b",
   "metadata": {},
   "outputs": [
    {
     "name": "stdout",
     "output_type": "stream",
     "text": [
      "total 4\n",
      "drwxrwxrwt 3 root root  140 Jan 27 10:33 .\n",
      "drwxr-xr-x 3 root root 4096 Jan 27 10:33 ..\n",
      "drwxr-xr-x 2 root root  100 Jan 27 10:33 ..2024_01_27_13_33_36.2801876122\n",
      "lrwxrwxrwx 1 root root   13 Jan 27 10:33 ca.crt -> ..data/ca.crt\n",
      "lrwxrwxrwx 1 root root   32 Jan 27 10:33 ..data -> ..2024_01_27_13_33_36.2801876122\n",
      "lrwxrwxrwx 1 root root   16 Jan 27 10:33 namespace -> ..data/namespace\n",
      "lrwxrwxrwx 1 root root   12 Jan 27 10:33 token -> ..data/token\n"
     ]
    }
   ],
   "source": [
    "!ls -la /var/run/secrets/kubernetes.io/serviceaccount/\n"
   ]
  },
  {
   "cell_type": "code",
   "execution_count": 12,
   "id": "71a0778e-63b9-452a-befc-ca683f41795a",
   "metadata": {},
   "outputs": [
    {
     "name": "stdout",
     "output_type": "stream",
     "text": [
      "total 4\n",
      "drwxrwxrwt 3 root root  140 Jan 27 10:33 .\n",
      "drwxr-xr-x 3 root root 4096 Jan 27 10:33 ..\n",
      "drwxr-xr-x 2 root root  100 Jan 27 10:33 ..2024_01_27_13_33_36.2801876122\n",
      "lrwxrwxrwx 1 root root   13 Jan 27 10:33 ca.crt -> ..data/ca.crt\n",
      "lrwxrwxrwx 1 root root   32 Jan 27 10:33 ..data -> ..2024_01_27_13_33_36.2801876122\n",
      "lrwxrwxrwx 1 root root   16 Jan 27 10:33 namespace -> ..data/namespace\n",
      "lrwxrwxrwx 1 root root   12 Jan 27 10:33 token -> ..data/token\n"
     ]
    }
   ],
   "source": [
    "!ls -la /var/run/secrets/kubernetes.io/serviceaccount/"
   ]
  },
  {
   "cell_type": "code",
   "execution_count": 15,
   "id": "19927f96-5fdc-4f7b-85fc-2492eda2c0d7",
   "metadata": {},
   "outputs": [
    {
     "name": "stdout",
     "output_type": "stream",
     "text": [
      "NAME                              READY   STATUS    RESTARTS   AGE\n",
      "jupyter-server-59db7d9749-ptdtj   1/1     Running   0          7m27s\n",
      "tunnel-server-5b87f477b5-d62pb    1/1     Running   0          95m\n"
     ]
    }
   ],
   "source": [
    "!strace kubectl get pods 2> strace-kubectl-get-pods.txt"
   ]
  },
  {
   "cell_type": "code",
   "execution_count": 17,
   "id": "b21110bf-de5b-432a-8b16-1ee8062f8c4d",
   "metadata": {},
   "outputs": [
    {
     "name": "stdout",
     "output_type": "stream",
     "text": [
      "newfstatat(AT_FDCWD, \"/var/run/secrets/kubernetes.io/serviceaccount/token\", {st_mode=S_IFREG|0644, st_size=1066, ...}, 0) = 0\n",
      "openat(AT_FDCWD, \"/var/run/secrets/kubernetes.io/serviceaccount/namespace\", O_RDONLY|O_CLOEXEC) = 3\n",
      "newfstatat(AT_FDCWD, \"/var/run/secrets/kubernetes.io/serviceaccount/token\", {st_mode=S_IFREG|0644, st_size=1066, ...}, 0) = 0\n",
      "openat(AT_FDCWD, \"/var/run/secrets/kubernetes.io/serviceaccount/token\", O_RDONLY|O_CLOEXEC) = 3\n",
      "openat(AT_FDCWD, \"/var/run/secrets/kubernetes.io/serviceaccount/ca.crt\", O_RDONLY|O_CLOEXEC) = 3\n",
      "openat(AT_FDCWD, \"/var/run/secrets/kubernetes.io/serviceaccount/ca.crt\", O_RDONLY|O_CLOEXEC) = 3\n",
      "read(3, \":[\\\"sa\\\"]},{\\\"name\\\":\\\"serviceaccount\"..., 1536) = 658\n"
     ]
    }
   ],
   "source": [
    "!grep serviceaccount strace-kubectl-get-pods.txt"
   ]
  },
  {
   "cell_type": "code",
   "execution_count": null,
   "id": "4d86a8b0-2560-4a9f-90fc-e738f229d04f",
   "metadata": {},
   "outputs": [],
   "source": []
  }
 ],
 "metadata": {
  "kernelspec": {
   "display_name": "Python 3 (ipykernel)",
   "language": "python",
   "name": "python3"
  },
  "language_info": {
   "codemirror_mode": {
    "name": "ipython",
    "version": 3
   },
   "file_extension": ".py",
   "mimetype": "text/x-python",
   "name": "python",
   "nbconvert_exporter": "python",
   "pygments_lexer": "ipython3",
   "version": "3.10.13"
  }
 },
 "nbformat": 4,
 "nbformat_minor": 5
}
