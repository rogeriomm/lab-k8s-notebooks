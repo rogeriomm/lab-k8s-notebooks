{
 "cells": [
  {
   "cell_type": "code",
   "execution_count": 8,
   "id": "39df4256-a745-4657-ae26-a97baa39e851",
   "metadata": {},
   "outputs": [
    {
     "name": "stdout",
     "output_type": "stream",
     "text": [
      "lrwxrwxrwx 1 root root 12 Jan 27 10:33 /var/run/secrets/kubernetes.io/serviceaccount/token -> ..data/token\n"
     ]
    }
   ],
   "source": [
    "!ls -la /var/run/secrets/kubernetes.io/serviceaccount/token\n"
   ]
  },
  {
   "cell_type": "code",
   "execution_count": 9,
   "id": "3c8862df-8013-4b3b-b7ac-cc7e066ee1f1",
   "metadata": {},
   "outputs": [
    {
     "name": "stdout",
     "output_type": "stream",
     "text": [
      "lrwxrwxrwx 1 root root 12 Jan 27 10:33 /var/run/secrets/kubernetes.io/serviceaccount/token -> ..data/token\n"
     ]
    }
   ],
   "source": [
    "!ls -la /var/run/secrets/kubernetes.io/serviceaccount/token"
   ]
  },
  {
   "cell_type": "code",
   "execution_count": 10,
   "id": "282fe549-e9cb-49b6-bbb5-40fdadd2bf9d",
   "metadata": {},
   "outputs": [
    {
     "name": "stdout",
     "output_type": "stream",
     "text": [
      "eyJhbGciOiJSUzI1NiIsImtpZCI6InlyU2hkQkl4TW1HRnowWVlFV3AxRVk3UXNjQTRoc3U2cTF0QVRoclA2clUifQ.eyJhdWQiOlsiaHR0cHM6Ly9rdWJlcm5ldGVzLmRlZmF1bHQuc3ZjLmNsdXN0ZXIyLnhwdCJdLCJleHAiOjE3Mzc4OTg0MTYsImlhdCI6MTcwNjM2MjQxNiwiaXNzIjoiaHR0cHM6Ly9rdWJlcm5ldGVzLmRlZmF1bHQuc3ZjLmNsdXN0ZXIyLnhwdCIsImt1YmVybmV0ZXMuaW8iOnsibmFtZXNwYWNlIjoiY29tbWFuZGVyIiwicG9kIjp7Im5hbWUiOiJqdXB5dGVyLXNlcnZlci01OWRiN2Q5NzQ5LXB0ZHRqIiwidWlkIjoiN2UwYWM4ODgtNDhiNC00NWFlLWFlZjQtN2RhM2YwNDAxYjZkIn0sInNlcnZpY2VhY2NvdW50Ijp7Im5hbWUiOiJhZG1pbi1zZXJ2aWNlLWFjY291bnQiLCJ1aWQiOiJiZTZmZTM0NC04NzE3LTQ2NzItYTEyMi1hZWY1ZDFjYjA3NTgifSwid2FybmFmdGVyIjoxNzA2MzY2MDIzfSwibmJmIjoxNzA2MzYyNDE2LCJzdWIiOiJzeXN0ZW06c2VydmljZWFjY291bnQ6Y29tbWFuZGVyOmFkbWluLXNlcnZpY2UtYWNjb3VudCJ9.NjtZdLj5yCWZY0nOH5qnGbz7e4MpC75BFzAbdEcjQoqxGANVLVzFOWahnz66hg8-x8-FNDhLoa4B9TEYoJ8LhIXRamUsL3KewR-G04oFsIX09aXh3KycV3OnMLWZH7s1Led3lENqGISlAQzYvr7RKgAV0ttYMPjGJQPV2LGjDGBgtwfcwxfE38XZj11KMJIjSede_ceKpuXeeU6IjIcfX9gRZT_L4WMdDxX-BJO168XDIJkFil_2YP-FB82CFbX6xZdE5QzQxSWRBY8Rf7oP49OmZKYg76FgwTyFX6IATN4AzGDwej6KkPjGxz4nROP1gxoC6kdD-RELvITozU7VCg"
     ]
    }
   ],
   "source": [
    "!cat /var/run/secrets/kubernetes.io/serviceaccount/token"
   ]
  },
  {
   "cell_type": "code",
   "execution_count": 11,
   "id": "d745f242-9e95-4817-8217-132bac72ea7b",
   "metadata": {},
   "outputs": [
    {
     "name": "stdout",
     "output_type": "stream",
     "text": [
      "total 4\n",
      "drwxrwxrwt 3 root root  140 Jan 27 10:33 .\n",
      "drwxr-xr-x 3 root root 4096 Jan 27 10:33 ..\n",
      "drwxr-xr-x 2 root root  100 Jan 27 10:33 ..2024_01_27_13_33_36.2801876122\n",
      "lrwxrwxrwx 1 root root   13 Jan 27 10:33 ca.crt -> ..data/ca.crt\n",
      "lrwxrwxrwx 1 root root   32 Jan 27 10:33 ..data -> ..2024_01_27_13_33_36.2801876122\n",
      "lrwxrwxrwx 1 root root   16 Jan 27 10:33 namespace -> ..data/namespace\n",
      "lrwxrwxrwx 1 root root   12 Jan 27 10:33 token -> ..data/token\n"
     ]
    }
   ],
   "source": [
    "!ls -la /var/run/secrets/kubernetes.io/serviceaccount/\n"
   ]
  },
  {
   "cell_type": "code",
   "execution_count": 12,
   "id": "71a0778e-63b9-452a-befc-ca683f41795a",
   "metadata": {},
   "outputs": [
    {
     "name": "stdout",
     "output_type": "stream",
     "text": [
      "total 4\n",
      "drwxrwxrwt 3 root root  140 Jan 27 10:33 .\n",
      "drwxr-xr-x 3 root root 4096 Jan 27 10:33 ..\n",
      "drwxr-xr-x 2 root root  100 Jan 27 10:33 ..2024_01_27_13_33_36.2801876122\n",
      "lrwxrwxrwx 1 root root   13 Jan 27 10:33 ca.crt -> ..data/ca.crt\n",
      "lrwxrwxrwx 1 root root   32 Jan 27 10:33 ..data -> ..2024_01_27_13_33_36.2801876122\n",
      "lrwxrwxrwx 1 root root   16 Jan 27 10:33 namespace -> ..data/namespace\n",
      "lrwxrwxrwx 1 root root   12 Jan 27 10:33 token -> ..data/token\n"
     ]
    }
   ],
   "source": [
    "!ls -la /var/run/secrets/kubernetes.io/serviceaccount/"
   ]
  },
  {
   "cell_type": "code",
   "execution_count": 15,
   "id": "19927f96-5fdc-4f7b-85fc-2492eda2c0d7",
   "metadata": {},
   "outputs": [
    {
     "name": "stdout",
     "output_type": "stream",
     "text": [
      "NAME                              READY   STATUS    RESTARTS   AGE\n",
      "jupyter-server-59db7d9749-ptdtj   1/1     Running   0          7m27s\n",
      "tunnel-server-5b87f477b5-d62pb    1/1     Running   0          95m\n"
     ]
    }
   ],
   "source": [
    "!strace kubectl get pods 2> strace-kubectl-get-pods.txt"
   ]
  },
  {
   "cell_type": "code",
   "execution_count": 17,
   "id": "b21110bf-de5b-432a-8b16-1ee8062f8c4d",
   "metadata": {},
   "outputs": [
    {
     "name": "stdout",
     "output_type": "stream",
     "text": [
      "newfstatat(AT_FDCWD, \"/var/run/secrets/kubernetes.io/serviceaccount/token\", {st_mode=S_IFREG|0644, st_size=1066, ...}, 0) = 0\n",
      "openat(AT_FDCWD, \"/var/run/secrets/kubernetes.io/serviceaccount/namespace\", O_RDONLY|O_CLOEXEC) = 3\n",
      "newfstatat(AT_FDCWD, \"/var/run/secrets/kubernetes.io/serviceaccount/token\", {st_mode=S_IFREG|0644, st_size=1066, ...}, 0) = 0\n",
      "openat(AT_FDCWD, \"/var/run/secrets/kubernetes.io/serviceaccount/token\", O_RDONLY|O_CLOEXEC) = 3\n",
      "openat(AT_FDCWD, \"/var/run/secrets/kubernetes.io/serviceaccount/ca.crt\", O_RDONLY|O_CLOEXEC) = 3\n",
      "openat(AT_FDCWD, \"/var/run/secrets/kubernetes.io/serviceaccount/ca.crt\", O_RDONLY|O_CLOEXEC) = 3\n",
      "read(3, \":[\\\"sa\\\"]},{\\\"name\\\":\\\"serviceaccount\"..., 1536) = 658\n"
     ]
    }
   ],
   "source": [
    "!grep serviceaccount strace-kubectl-get-pods.txt"
   ]
  },
  {
   "cell_type": "code",
   "execution_count": null,
   "id": "4d86a8b0-2560-4a9f-90fc-e738f229d04f",
   "metadata": {},
   "outputs": [],
   "source": []
  }
 ],
 "metadata": {
  "kernelspec": {
   "display_name": "Python 3 (ipykernel)",
   "language": "python",
   "name": "python3"
  },
  "language_info": {
   "codemirror_mode": {
    "name": "ipython",
    "version": 3
   },
   "file_extension": ".py",
   "mimetype": "text/x-python",
   "name": "python",
   "nbconvert_exporter": "python",
   "pygments_lexer": "ipython3",
   "version": "3.10.13"
  }
 },
 "nbformat": 4,
 "nbformat_minor": 5
}
