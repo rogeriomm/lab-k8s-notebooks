{
 "cells": [
  {
   "cell_type": "code",
   "execution_count": 7,
   "id": "19927f96-5fdc-4f7b-85fc-2492eda2c0d7",
   "metadata": {},
   "outputs": [
    {
     "name": "stdout",
     "output_type": "stream",
     "text": [
      "NAME                             READY   STATUS    RESTARTS   AGE\n",
      "jupyter-server-589c46c7d-z6rdl   1/1     Running   0          151m\n",
      "tunnel-server-79fc7576b6-9v2kb   1/1     Running   0          151m\n"
     ]
    }
   ],
   "source": [
    "!strace kubectl get pods 2> /tmp/strace-kubectl-get-pods.txt"
   ]
  },
  {
   "cell_type": "code",
   "execution_count": 8,
   "id": "b21110bf-de5b-432a-8b16-1ee8062f8c4d",
   "metadata": {},
   "outputs": [
    {
     "name": "stdout",
     "output_type": "stream",
     "text": [
      "newfstatat(AT_FDCWD, \"/var/run/secrets/kubernetes.io/serviceaccount/token\", {st_mode=S_IFREG|0644, st_size=1065, ...}, 0) = 0\n",
      "openat(AT_FDCWD, \"/var/run/secrets/kubernetes.io/serviceaccount/namespace\", O_RDONLY|O_CLOEXEC) = 3\n",
      "newfstatat(AT_FDCWD, \"/var/run/secrets/kubernetes.io/serviceaccount/token\", {st_mode=S_IFREG|0644, st_size=1065, ...}, 0) = 0\n",
      "openat(AT_FDCWD, \"/var/run/secrets/kubernetes.io/serviceaccount/token\", O_RDONLY|O_CLOEXEC) = 3\n",
      "openat(AT_FDCWD, \"/var/run/secrets/kubernetes.io/serviceaccount/ca.crt\", O_RDONLY|O_CLOEXEC) = 3\n",
      "openat(AT_FDCWD, \"/var/run/secrets/kubernetes.io/serviceaccount/ca.crt\", O_RDONLY|O_CLOEXEC) = 3\n"
     ]
    }
   ],
   "source": [
    "!grep serviceaccount /tmp/strace-kubectl-get-pods.txt"
   ]
  },
  {
   "cell_type": "code",
   "execution_count": 4,
   "id": "d745f242-9e95-4817-8217-132bac72ea7b",
   "metadata": {},
   "outputs": [
    {
     "name": "stdout",
     "output_type": "stream",
     "text": [
      "total 4\n",
      "drwxrwxrwt 3 root root  140 Feb 15 17:27 .\n",
      "drwxr-xr-x 3 root root 4096 Feb 15 15:00 ..\n",
      "drwxr-xr-x 2 root root  100 Feb 15 17:27 ..2024_02_15_20_27_10.2435847494\n",
      "lrwxrwxrwx 1 root root   13 Feb 15 15:00 ca.crt -> ..data/ca.crt\n",
      "lrwxrwxrwx 1 root root   32 Feb 15 17:27 ..data -> ..2024_02_15_20_27_10.2435847494\n",
      "lrwxrwxrwx 1 root root   16 Feb 15 15:00 namespace -> ..data/namespace\n",
      "lrwxrwxrwx 1 root root   12 Feb 15 15:00 token -> ..data/token\n"
     ]
    }
   ],
   "source": [
    "!ls -la /var/run/secrets/kubernetes.io/serviceaccount/\n"
   ]
  },
  {
   "cell_type": "code",
   "execution_count": 10,
   "id": "282fe549-e9cb-49b6-bbb5-40fdadd2bf9d",
   "metadata": {},
   "outputs": [
    {
     "name": "stdout",
     "output_type": "stream",
     "text": [
      "eyJhbGciOiJSUzI1NiIsImtpZCI6InlyU2hkQkl4TW1HRnowWVlFV3AxRVk3UXNjQTRoc3U2cTF0QVRoclA2clUifQ.eyJhdWQiOlsiaHR0cHM6Ly9rdWJlcm5ldGVzLmRlZmF1bHQuc3ZjLmNsdXN0ZXIyLnhwdCJdLCJleHAiOjE3Mzc4OTg0MTYsImlhdCI6MTcwNjM2MjQxNiwiaXNzIjoiaHR0cHM6Ly9rdWJlcm5ldGVzLmRlZmF1bHQuc3ZjLmNsdXN0ZXIyLnhwdCIsImt1YmVybmV0ZXMuaW8iOnsibmFtZXNwYWNlIjoiY29tbWFuZGVyIiwicG9kIjp7Im5hbWUiOiJqdXB5dGVyLXNlcnZlci01OWRiN2Q5NzQ5LXB0ZHRqIiwidWlkIjoiN2UwYWM4ODgtNDhiNC00NWFlLWFlZjQtN2RhM2YwNDAxYjZkIn0sInNlcnZpY2VhY2NvdW50Ijp7Im5hbWUiOiJhZG1pbi1zZXJ2aWNlLWFjY291bnQiLCJ1aWQiOiJiZTZmZTM0NC04NzE3LTQ2NzItYTEyMi1hZWY1ZDFjYjA3NTgifSwid2FybmFmdGVyIjoxNzA2MzY2MDIzfSwibmJmIjoxNzA2MzYyNDE2LCJzdWIiOiJzeXN0ZW06c2VydmljZWFjY291bnQ6Y29tbWFuZGVyOmFkbWluLXNlcnZpY2UtYWNjb3VudCJ9.NjtZdLj5yCWZY0nOH5qnGbz7e4MpC75BFzAbdEcjQoqxGANVLVzFOWahnz66hg8-x8-FNDhLoa4B9TEYoJ8LhIXRamUsL3KewR-G04oFsIX09aXh3KycV3OnMLWZH7s1Led3lENqGISlAQzYvr7RKgAV0ttYMPjGJQPV2LGjDGBgtwfcwxfE38XZj11KMJIjSede_ceKpuXeeU6IjIcfX9gRZT_L4WMdDxX-BJO168XDIJkFil_2YP-FB82CFbX6xZdE5QzQxSWRBY8Rf7oP49OmZKYg76FgwTyFX6IATN4AzGDwej6KkPjGxz4nROP1gxoC6kdD-RELvITozU7VCg"
     ]
    }
   ],
   "source": [
    "!cat /var/run/secrets/kubernetes.io/serviceaccount/token"
   ]
  },
  {
   "cell_type": "code",
   "execution_count": 9,
   "id": "3c8862df-8013-4b3b-b7ac-cc7e066ee1f1",
   "metadata": {},
   "outputs": [
    {
     "name": "stdout",
     "output_type": "stream",
     "text": [
      "lrwxrwxrwx 1 root root 12 Jan 27 10:33 /var/run/secrets/kubernetes.io/serviceaccount/token -> ..data/token\n"
     ]
    }
   ],
   "source": [
    "!ls -la /var/run/secrets/kubernetes.io/serviceaccount/token"
   ]
  },
  {
   "cell_type": "code",
   "execution_count": 1,
   "id": "4d86a8b0-2560-4a9f-90fc-e738f229d04f",
   "metadata": {},
   "outputs": [
    {
     "name": "stdout",
     "output_type": "stream",
     "text": [
      "-----BEGIN CERTIFICATE-----\n",
      "MIIDBjCCAe6gAwIBAgIBATANBgkqhkiG9w0BAQsFADAVMRMwEQYDVQQDEwptaW5p\n",
      "a3ViZUNBMB4XDTIxMTIyODEyMzMwNVoXDTMxMTIyNzEyMzMwNVowFTETMBEGA1UE\n",
      "AxMKbWluaWt1YmVDQTCCASIwDQYJKoZIhvcNAQEBBQADggEPADCCAQoCggEBAL+7\n",
      "i18WWsCLY93ygrEizNXLD0aF8e0SpFVDTTYg7cKtEzMoSkCxH4QJb2hXRO/5AZ3f\n",
      "+hNifWzbFBM8DnYptivf+hQif2vSvHWIFXGaxHOxa8arCeRADJ6gqxh1rmG8eFlp\n",
      "oZcZQDj6314nAIBPQhrYocuku078PoN186v7qTw834fXkOIGXs9n2vAJCGOVHYvX\n",
      "dhLkA1wVcBotND4Ko5l6jMI+HU2FjtGKmRAQD0BhoLvTLvp8M4cKOfExF7jiWuWs\n",
      "c1fG+xUiPerio39JOqse2QKjiqe9n5Tbo2V1Gqr2IyzWP7RyAzBbIIN2HM7EAIyF\n",
      "OGYvBew6+JXMd87uU3sCAwEAAaNhMF8wDgYDVR0PAQH/BAQDAgKkMB0GA1UdJQQW\n",
      "MBQGCCsGAQUFBwMCBggrBgEFBQcDATAPBgNVHRMBAf8EBTADAQH/MB0GA1UdDgQW\n",
      "BBTc6/VhSXvBX4PJTBcJlMz6la1qWTANBgkqhkiG9w0BAQsFAAOCAQEALMX6+Dzb\n",
      "+l2b6FcJF28gABxJ5bjiv8p0/oeJJQ0xKSo4gv/Ny5i8s4Hu6omhyb12DCU+SO/O\n",
      "q2ZjD4mDKZ2nf/FXzbjt1d9DGNy7cP2+SZJVC1e2Nur9hlLlKiIeQzdiSQkQKeXQ\n",
      "7kiG7o9hHpJ5mM50PLVIMKJ279FS/hsWGwA6NcU6jeMNIi92ijaSSDbZ2sb+LZ63\n",
      "VOrz46ydz4HwEGVUeSQkZ4iGBww+hf0v8g6HuP7HfB2+kyY2e8ecDtot43pR7npa\n",
      "hPkgPyl0FEZg4GG6dc+HeaWGoJRcZarGTfPLHhzCyo5BcFod8r+k71+9bUIRf6Gl\n",
      "EEGVz4HceuiIhw==\n",
      "-----END CERTIFICATE-----\n"
     ]
    }
   ],
   "source": [
    "!cat /var/run/secrets/kubernetes.io/serviceaccount/ca.crt"
   ]
  },
  {
   "cell_type": "code",
   "execution_count": null,
   "id": "ca6ed155-d023-4abf-96fd-bb224a8f8b72",
   "metadata": {},
   "outputs": [],
   "source": []
  }
 ],
 "metadata": {
  "kernelspec": {
   "display_name": "Python 3 (ipykernel)",
   "language": "python",
   "name": "python3"
  },
  "language_info": {
   "codemirror_mode": {
    "name": "ipython",
    "version": 3
   },
   "file_extension": ".py",
   "mimetype": "text/x-python",
   "name": "python",
   "nbconvert_exporter": "python",
   "pygments_lexer": "ipython3",
   "version": "3.10.13"
  }
 },
 "nbformat": 4,
 "nbformat_minor": 5
}
