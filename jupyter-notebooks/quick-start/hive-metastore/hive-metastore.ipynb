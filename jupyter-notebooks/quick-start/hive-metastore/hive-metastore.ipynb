{
 "cells": [
  {
   "cell_type": "code",
   "execution_count": 1,
   "id": "e68f649e-1345-4e14-8116-0b2ec52bd6c4",
   "metadata": {},
   "outputs": [
    {
     "name": "stdout",
     "output_type": "stream",
     "text": [
      "NAME                                  READY   STATUS    RESTARTS        AGE\n",
      "pod/hive-metastore-775565f594-vf5dn   1/1     Running   13 (100m ago)   5d4h\n",
      "\n",
      "NAME                     TYPE        CLUSTER-IP       EXTERNAL-IP   PORT(S)    AGE\n",
      "service/hive-metastore   ClusterIP   10.106.134.151   <none>        9083/TCP   6d22h\n",
      "\n",
      "NAME                             READY   UP-TO-DATE   AVAILABLE   AGE\n",
      "deployment.apps/hive-metastore   1/1     1            1           6d22h\n",
      "\n",
      "NAME                                        DESIRED   CURRENT   READY   AGE\n",
      "replicaset.apps/hive-metastore-775565f594   1         1         1       6d22h\n"
     ]
    }
   ],
   "source": [
    "!kubectl -n hive get all"
   ]
  },
  {
   "cell_type": "code",
   "execution_count": null,
   "id": "38153941-834b-4e0b-9dd2-f6826ce34e61",
   "metadata": {},
   "outputs": [],
   "source": []
  }
 ],
 "metadata": {
  "kernelspec": {
   "display_name": "Python 3 (ipykernel)",
   "language": "python",
   "name": "python3"
  },
  "language_info": {
   "codemirror_mode": {
    "name": "ipython",
    "version": 3
   },
   "file_extension": ".py",
   "mimetype": "text/x-python",
   "name": "python",
   "nbconvert_exporter": "python",
   "pygments_lexer": "ipython3",
   "version": "3.10.13"
  }
 },
 "nbformat": 4,
 "nbformat_minor": 5
}
