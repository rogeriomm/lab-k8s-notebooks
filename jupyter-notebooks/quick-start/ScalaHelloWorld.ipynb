{
 "cells": [
  {
   "cell_type": "code",
   "execution_count": 1,
   "id": "81558383-a12b-49e9-8cb0-cea99b1e7b3b",
   "metadata": {},
   "outputs": [
    {
     "data": {
      "text/plain": [
       "\u001b[36ma\u001b[39m: \u001b[32mInt\u001b[39m = \u001b[32m1\u001b[39m"
      ]
     },
     "execution_count": 1,
     "metadata": {},
     "output_type": "execute_result"
    }
   ],
   "source": [
    "                                                                                            val a=1"
   ]
  },
  {
   "cell_type": "code",
   "execution_count": 2,
   "id": "248d79aa-111c-4533-bb40-b6b73a0a8f42",
   "metadata": {},
   "outputs": [
    {
     "name": "stdout",
     "output_type": "stream",
     "text": [
      "1"
     ]
    }
   ],
   "source": [
    "print(a)"
   ]
  },
  {
   "cell_type": "code",
   "execution_count": 1,
   "id": "583eb205-23f6-4d81-9a9e-e7409ccabae0",
   "metadata": {},
   "outputs": [
    {
     "data": {
      "text/plain": [
       "defined \u001b[32mfunction\u001b[39m \u001b[36mgetRunningScalaVersion\u001b[39m\n",
       "\u001b[36mres1_1\u001b[39m: \u001b[32mString\u001b[39m = \u001b[32m\"version.number=2.13.12\"\u001b[39m"
      ]
     },
     "execution_count": 1,
     "metadata": {},
     "output_type": "execute_result"
    }
   ],
   "source": [
    "def getRunningScalaVersion(): String = {\n",
    "  try {\n",
    "    //OLD WAY\n",
    "    val stream = getClass.getResourceAsStream(\"/library.properties\")\n",
    "    val iter = scala.io.Source.fromInputStream(stream).getLines\n",
    "    val line = (iter find {l => l.startsWith(\"version.number\")}).get\n",
    "    val Version = \"\"\"version\\.number=(\\d\\.\\d\\.\\d).*\"\"\".r\n",
    "\n",
    "    line\n",
    "  }\n",
    "  catch {\n",
    "    case e => {\n",
    "      e.printStackTrace()\n",
    "      \"Exception\" //or some other default version, or re-raise\n",
    "    }\n",
    "  }\n",
    "}\n",
    "\n",
    "getRunningScalaVersion()\n"
   ]
  },
  {
   "cell_type": "code",
   "execution_count": null,
   "id": "3fa09b58-f3af-4b5d-bb5b-2aef88c076f5",
   "metadata": {},
   "outputs": [],
   "source": []
  },
  {
   "cell_type": "code",
   "execution_count": 4,
   "id": "03ee9520-df3e-4819-bf25-b5d6ecb77088",
   "metadata": {},
   "outputs": [
    {
     "data": {
      "text/plain": [
       "\u001b[32mimport \u001b[39m\u001b[36mjava.io.{File, IOException}\n",
       "\u001b[39m\n",
       "\u001b[32mimport \u001b[39m\u001b[36mjava.lang.{ClassNotFoundException, NoSuchMethodException}\n",
       "\u001b[39m\n",
       "\u001b[32mimport \u001b[39m\u001b[36mjava.lang.reflect.InvocationTargetException\n",
       "\u001b[39m\n",
       "\u001b[32mimport \u001b[39m\u001b[36mjava.net.{ URL, MalformedURLException }\n",
       "//import scala.util.ScalaClassLoader\n",
       "\n",
       "        \n",
       "//import util.ClassPath\n",
       "\u001b[39m\n",
       "\u001b[32mimport \u001b[39m\u001b[36mFile.pathSeparator\n",
       "\u001b[39m"
      ]
     },
     "execution_count": 4,
     "metadata": {},
     "output_type": "execute_result"
    }
   ],
   "source": [
    "import java.io.{File, IOException}\n",
    "import java.lang.{ClassNotFoundException, NoSuchMethodException}\n",
    "import java.lang.reflect.InvocationTargetException\n",
    "import java.net.{ URL, MalformedURLException }\n",
    "//import scala.util.ScalaClassLoader\n",
    "\n",
    "        \n",
    "//import util.ClassPath\n",
    "import File.pathSeparator"
   ]
  },
  {
   "cell_type": "code",
   "execution_count": null,
   "id": "f86ed754-8757-4f6f-afa4-d586410c1c3e",
   "metadata": {},
   "outputs": [],
   "source": []
  },
  {
   "cell_type": "code",
   "execution_count": null,
   "id": "fcb91ef7-417c-41cc-b733-8ad30a0dcf12",
   "metadata": {},
   "outputs": [],
   "source": []
  }
 ],
 "metadata": {
  "kernelspec": {
   "display_name": "Scala",
   "language": "scala",
   "name": "scala"
  },
  "language_info": {
   "codemirror_mode": "text/x-scala",
   "file_extension": ".sc",
   "mimetype": "text/x-scala",
   "name": "scala",
   "nbconvert_exporter": "script",
   "version": "2.13.12"
  }
 },
 "nbformat": 4,
 "nbformat_minor": 5
}
