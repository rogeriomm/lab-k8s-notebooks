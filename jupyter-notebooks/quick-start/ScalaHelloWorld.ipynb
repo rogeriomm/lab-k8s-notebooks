{
 "cells": [
  {
   "cell_type": "code",
   "execution_count": 1,
   "id": "583eb205-23f6-4d81-9a9e-e7409ccabae0",
   "metadata": {},
   "outputs": [
    {
     "data": {
      "text/plain": [
       "defined \u001b[32mfunction\u001b[39m \u001b[36mgetRunningScalaVersion\u001b[39m\n",
       "\u001b[36mres1_1\u001b[39m: \u001b[32mString\u001b[39m = \u001b[32m\"version.number=2.13.12\"\u001b[39m"
      ]
     },
     "execution_count": 1,
     "metadata": {},
     "output_type": "execute_result"
    }
   ],
   "source": [
    "def getRunningScalaVersion(): String = {\n",
    "  try {\n",
    "    //OLD WAY\n",
    "    val stream = getClass.getResourceAsStream(\"/library.properties\")\n",
    "    val iter = scala.io.Source.fromInputStream(stream).getLines\n",
    "    val line = (iter find {l => l.startsWith(\"version.number\")}).get\n",
    "    val Version = \"\"\"version\\.number=(\\d\\.\\d\\.\\d).*\"\"\".r\n",
    "\n",
    "    line\n",
    "  }\n",
    "  catch {\n",
    "    case e => {\n",
    "      e.printStackTrace()\n",
    "      \"Exception\" //or some other default version, or re-raise\n",
    "    }\n",
    "  }\n",
    "}\n",
    "\n",
    "getRunningScalaVersion()\n"
   ]
  },
  {
   "cell_type": "code",
   "execution_count": null,
   "id": "2833fa20-e7ea-4267-822f-cab3e25167fb",
   "metadata": {},
   "outputs": [],
   "source": []
  }
 ],
 "metadata": {
  "kernelspec": {
   "display_name": "Scala",
   "language": "scala",
   "name": "scala"
  },
  "language_info": {
   "codemirror_mode": "text/x-scala",
   "file_extension": ".sc",
   "mimetype": "text/x-scala",
   "name": "scala",
   "nbconvert_exporter": "script",
   "version": "2.13.12"
  }
 },
 "nbformat": 4,
 "nbformat_minor": 5
}
