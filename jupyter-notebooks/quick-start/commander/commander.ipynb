{
 "cells": [
  {
   "cell_type": "code",
   "execution_count": 1,
   "id": "dda04fc9-4cbd-4403-b0a9-b3aa53130c5d",
   "metadata": {},
   "outputs": [
    {
     "name": "stdout",
     "output_type": "stream",
     "text": [
      "\u001b[37mNAME                                 READY   STATUS    RESTARTS   AGE\u001b[0m\n",
      "\u001b[36mpod/jupyter-server-589c46c7d-64rpd\u001b[0m   \u001b[32m1/1\u001b[0m     \u001b[35mRunning\u001b[0m   \u001b[37m0\u001b[0m          \u001b[33m144m\u001b[0m\n",
      "\u001b[36mpod/tunnel-server-79fc7576b6-zgq5c\u001b[0m   \u001b[32m1/1\u001b[0m     \u001b[35mRunning\u001b[0m   \u001b[37m0\u001b[0m          \u001b[33m144m\u001b[0m\n",
      "\u001b[37m\u001b[0m\n",
      "\u001b[37mNAME                     TYPE        CLUSTER-IP      EXTERNAL-IP   PORT(S)     AGE\u001b[0m\n",
      "\u001b[36mservice/jupyter-driver\u001b[0m   \u001b[36mClusterIP\u001b[0m   \u001b[32mNone\u001b[0m            \u001b[32m<none>\u001b[0m        \u001b[35m24913/TCP\u001b[0m   \u001b[37m3d\u001b[0m\n",
      "\u001b[36mservice/jupyter-server\u001b[0m   \u001b[36mClusterIP\u001b[0m   \u001b[32m10.111.17.153\u001b[0m   \u001b[32m<none>\u001b[0m        \u001b[35m8888/TCP\u001b[0m    \u001b[37m3d\u001b[0m\n",
      "\u001b[37m\u001b[0m\n",
      "\u001b[37mNAME                             READY   UP-TO-DATE   AVAILABLE   AGE\u001b[0m\n",
      "\u001b[36mdeployment.apps/jupyter-server\u001b[0m   \u001b[33m1/1\u001b[0m     \u001b[36m1\u001b[0m            \u001b[32m1\u001b[0m           \u001b[33m3d\u001b[0m\n",
      "\u001b[36mdeployment.apps/tunnel-server\u001b[0m    \u001b[33m1/1\u001b[0m     \u001b[36m1\u001b[0m            \u001b[32m1\u001b[0m           \u001b[33m3d\u001b[0m\n",
      "\u001b[37m\u001b[0m\n",
      "\u001b[37mNAME                                       DESIRED   CURRENT   READY   AGE\u001b[0m\n",
      "\u001b[36mreplicaset.apps/jupyter-server-589c46c7d\u001b[0m   \u001b[35m1\u001b[0m         \u001b[32m1\u001b[0m         \u001b[37m1\u001b[0m       \u001b[33m3d\u001b[0m\n",
      "\u001b[36mreplicaset.apps/tunnel-server-79fc7576b6\u001b[0m   \u001b[35m1\u001b[0m         \u001b[32m1\u001b[0m         \u001b[37m1\u001b[0m       \u001b[33m3d\u001b[0m\n"
     ]
    }
   ],
   "source": [
    "!kubecolor -n commander get all"
   ]
  },
  {
   "cell_type": "code",
   "execution_count": null,
   "id": "23e78378-487e-4a9b-96a0-7aa1eded81c1",
   "metadata": {},
   "outputs": [],
   "source": []
  }
 ],
 "metadata": {
  "kernelspec": {
   "display_name": "Python 3 (ipykernel)",
   "language": "python",
   "name": "python3"
  },
  "language_info": {
   "codemirror_mode": {
    "name": "ipython",
    "version": 3
   },
   "file_extension": ".py",
   "mimetype": "text/x-python",
   "name": "python",
   "nbconvert_exporter": "python",
   "pygments_lexer": "ipython3",
   "version": "3.10.13"
  }
 },
 "nbformat": 4,
 "nbformat_minor": 5
}
