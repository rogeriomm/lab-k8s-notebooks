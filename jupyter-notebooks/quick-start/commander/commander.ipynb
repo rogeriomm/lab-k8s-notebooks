{
 "cells": [
  {
   "cell_type": "code",
   "execution_count": 1,
   "id": "dda04fc9-4cbd-4403-b0a9-b3aa53130c5d",
   "metadata": {},
   "outputs": [
    {
     "name": "stdout",
     "output_type": "stream",
     "text": [
      "NAME                                  READY   STATUS    RESTARTS   AGE\n",
      "pod/jupyter-server-547f5b4445-4xf5j   1/1     Running   0          65m\n",
      "pod/tunnel-server-5b87f477b5-bx7w8    1/1     Running   0          71m\n",
      "\n",
      "NAME                     TYPE        CLUSTER-IP       EXTERNAL-IP   PORT(S)     AGE\n",
      "service/jupyter-driver   ClusterIP   None             <none>        24913/TCP   4h23m\n",
      "service/jupyter-server   ClusterIP   10.104.157.146   <none>        8888/TCP    4h23m\n",
      "\n",
      "NAME                             READY   UP-TO-DATE   AVAILABLE   AGE\n",
      "deployment.apps/jupyter-server   1/1     1            1           4h7m\n",
      "deployment.apps/tunnel-server    1/1     1            1           4h37m\n",
      "\n",
      "NAME                                        DESIRED   CURRENT   READY   AGE\n",
      "replicaset.apps/jupyter-server-547f5b4445   1         1         1       114m\n",
      "replicaset.apps/jupyter-server-59db7d9749   0         0         0       155m\n",
      "replicaset.apps/jupyter-server-6dd7746566   0         0         0       4h7m\n",
      "replicaset.apps/jupyter-server-6f6b8bb7c9   0         0         0       3h9m\n",
      "replicaset.apps/tunnel-server-5b87f477b5    1         1         1       4h37m\n"
     ]
    }
   ],
   "source": [
    "!kubectl -n commander get all"
   ]
  },
  {
   "cell_type": "code",
   "execution_count": null,
   "id": "23e78378-487e-4a9b-96a0-7aa1eded81c1",
   "metadata": {},
   "outputs": [],
   "source": []
  }
 ],
 "metadata": {
  "kernelspec": {
   "display_name": "Python 3 (ipykernel)",
   "language": "python",
   "name": "python3"
  },
  "language_info": {
   "codemirror_mode": {
    "name": "ipython",
    "version": 3
   },
   "file_extension": ".py",
   "mimetype": "text/x-python",
   "name": "python",
   "nbconvert_exporter": "python",
   "pygments_lexer": "ipython3",
   "version": "3.10.13"
  }
 },
 "nbformat": 4,
 "nbformat_minor": 5
}
