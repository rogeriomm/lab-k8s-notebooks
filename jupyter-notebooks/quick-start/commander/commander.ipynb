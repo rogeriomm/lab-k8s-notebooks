{
 "cells": [
  {
   "cell_type": "code",
   "execution_count": 1,
   "id": "dda04fc9-4cbd-4403-b0a9-b3aa53130c5d",
   "metadata": {},
   "outputs": [
    {
     "name": "stdout",
     "output_type": "stream",
     "text": [
      "\u001b[37mNAME                                 READY   STATUS    RESTARTS   AGE\u001b[0m\n",
      "\u001b[36mpod/jupyter-server-589c46c7d-9zvdn\u001b[0m   \u001b[32m1/1\u001b[0m     \u001b[35mRunning\u001b[0m   \u001b[37m0\u001b[0m          \u001b[33m150m\u001b[0m\n",
      "\u001b[36mpod/tunnel-server-79fc7576b6-fz85w\u001b[0m   \u001b[32m1/1\u001b[0m     \u001b[35mRunning\u001b[0m   \u001b[37m0\u001b[0m          \u001b[33m150m\u001b[0m\n",
      "\u001b[37m\u001b[0m\n",
      "\u001b[37mNAME                     TYPE        CLUSTER-IP      EXTERNAL-IP   PORT(S)     AGE\u001b[0m\n",
      "\u001b[36mservice/jupyter-driver\u001b[0m   \u001b[36mClusterIP\u001b[0m   \u001b[32mNone\u001b[0m            \u001b[32m<none>\u001b[0m        \u001b[35m24913/TCP\u001b[0m   \u001b[37m5d2h\u001b[0m\n",
      "\u001b[36mservice/jupyter-server\u001b[0m   \u001b[36mClusterIP\u001b[0m   \u001b[32m10.111.17.153\u001b[0m   \u001b[32m<none>\u001b[0m        \u001b[35m8888/TCP\u001b[0m    \u001b[37m5d2h\u001b[0m\n",
      "\u001b[37m\u001b[0m\n",
      "\u001b[37mNAME                             READY   UP-TO-DATE   AVAILABLE   AGE\u001b[0m\n",
      "\u001b[36mdeployment.apps/jupyter-server\u001b[0m   \u001b[33m1/1\u001b[0m     \u001b[36m1\u001b[0m            \u001b[32m1\u001b[0m           \u001b[33m5d2h\u001b[0m\n",
      "\u001b[36mdeployment.apps/tunnel-server\u001b[0m    \u001b[33m1/1\u001b[0m     \u001b[36m1\u001b[0m            \u001b[32m1\u001b[0m           \u001b[33m5d2h\u001b[0m\n",
      "\u001b[37m\u001b[0m\n",
      "\u001b[37mNAME                                       DESIRED   CURRENT   READY   AGE\u001b[0m\n",
      "\u001b[36mreplicaset.apps/jupyter-server-589c46c7d\u001b[0m   \u001b[35m1\u001b[0m         \u001b[32m1\u001b[0m         \u001b[37m1\u001b[0m       \u001b[33m5d2h\u001b[0m\n",
      "\u001b[36mreplicaset.apps/tunnel-server-79fc7576b6\u001b[0m   \u001b[35m1\u001b[0m         \u001b[32m1\u001b[0m         \u001b[37m1\u001b[0m       \u001b[33m5d2h\u001b[0m\n"
     ]
    }
   ],
   "source": [
    "!kubecolor -n commander get all"
   ]
  },
  {
   "cell_type": "code",
   "execution_count": 3,
   "id": "23e78378-487e-4a9b-96a0-7aa1eded81c1",
   "metadata": {},
   "outputs": [
    {
     "name": "stdout",
     "output_type": "stream",
     "text": [
      "\u001b[37mNAME                    SECRETS   AGE\u001b[0m\n",
      "\u001b[36madmin-service-account\u001b[0m   \u001b[32m0\u001b[0m         \u001b[35m5d2h\u001b[0m\n",
      "\u001b[36mdefault\u001b[0m                 \u001b[32m0\u001b[0m         \u001b[35m5d2h\u001b[0m\n"
     ]
    }
   ],
   "source": [
    "!kubecolor -n commander get serviceaccount"
   ]
  },
  {
   "cell_type": "code",
   "execution_count": 4,
   "id": "9c5c1a33-7b80-4841-8395-0747c702b1d3",
   "metadata": {},
   "outputs": [
    {
     "name": "stdout",
     "output_type": "stream",
     "text": [
      "\u001b[36mapiVersion\u001b[0m:\u001b[32m v1\u001b[0m\n",
      "\u001b[32m\u001b[0m\u001b[36mkind\u001b[0m:\u001b[32m ServiceAccount\u001b[0m\n",
      "\u001b[32m\u001b[0m\u001b[36mmetadata\u001b[0m:\u001b[36m\u001b[0m\n",
      "\u001b[36m  annotations\u001b[0m:\u001b[36m\u001b[0m\n",
      "\u001b[36m    kubectl.kubernetes.io/last-applied-configuration\u001b[0m: |\n",
      "\u001b[32m      {\"apiVersion\":\"v1\",\"kind\":\"ServiceAccount\",\"metadata\":{\"annotations\":{},\"name\":\"admin-service-account\",\"namespace\":\"commander\"}}\u001b[0m\n",
      "\u001b[32m  \u001b[0m\u001b[36mcreationTimestamp\u001b[0m:\u001b[32m \"2024-02-07T10:54:26Z\"\u001b[0m\u001b[36m\u001b[0m\n",
      "\u001b[36m  name\u001b[0m:\u001b[32m admin-service-account\u001b[0m\n",
      "\u001b[32m  \u001b[0m\u001b[36mnamespace\u001b[0m:\u001b[32m commander\u001b[0m\n",
      "\u001b[32m  \u001b[0m\u001b[36mresourceVersion\u001b[0m:\u001b[32m \"8736\"\u001b[0m\u001b[36m\u001b[0m\n",
      "\u001b[36m  uid\u001b[0m:\u001b[32m 1ff372ef-bc44-4968-b870-9c130dec8dc5\u001b[0m\n"
     ]
    }
   ],
   "source": [
    "!kubectl -n commander get serviceaccount admin-service-account -o yaml | yq"
   ]
  },
  {
   "cell_type": "code",
   "execution_count": 7,
   "id": "12824fc0-0741-491b-a09b-eb307a9d3d66",
   "metadata": {},
   "outputs": [
    {
     "name": "stdout",
     "output_type": "stream",
     "text": [
      "\u001b[36mapiVersion\u001b[0m:\u001b[32m rbac.authorization.k8s.io/v1\u001b[0m\n",
      "\u001b[32m\u001b[0m\u001b[36mkind\u001b[0m:\u001b[32m ClusterRole\u001b[0m\n",
      "\u001b[32m\u001b[0m\u001b[36mmetadata\u001b[0m:\u001b[36m\u001b[0m\n",
      "\u001b[36m  annotations\u001b[0m:\u001b[36m\u001b[0m\n",
      "\u001b[36m    kubectl.kubernetes.io/last-applied-configuration\u001b[0m: |\n",
      "\u001b[32m      {\"apiVersion\":\"rbac.authorization.k8s.io/v1\",\"kind\":\"ClusterRole\",\"metadata\":{\"annotations\":{},\"name\":\"admin-role\"},\"rules\":[{\"apiGroups\":[\"*\"],\"resources\":[\"*\"],\"verbs\":[\"*\"]}]}\u001b[0m\n",
      "\u001b[32m  \u001b[0m\u001b[36mcreationTimestamp\u001b[0m:\u001b[32m \"2024-02-07T10:54:26Z\"\u001b[0m\u001b[36m\u001b[0m\n",
      "\u001b[36m  name\u001b[0m:\u001b[32m admin-role\u001b[0m\n",
      "\u001b[32m  \u001b[0m\u001b[36mresourceVersion\u001b[0m:\u001b[32m \"8741\"\u001b[0m\u001b[36m\u001b[0m\n",
      "\u001b[36m  uid\u001b[0m:\u001b[32m eaf8fc9a-39e3-4b41-9148-3aba21bd1694\u001b[0m\n",
      "\u001b[32m\u001b[0m\u001b[36mrules\u001b[0m:\n",
      "  -\u001b[36m apiGroups\u001b[0m:\n",
      "      -\u001b[32m '*'\u001b[0m\u001b[36m\u001b[0m\n",
      "\u001b[36m    resources\u001b[0m:\n",
      "      -\u001b[32m '*'\u001b[0m\u001b[36m\u001b[0m\n",
      "\u001b[36m    verbs\u001b[0m:\n",
      "      -\u001b[32m '*'\u001b[0m\n"
     ]
    }
   ],
   "source": [
    "!kubectl -n commander get ClusterRole admin-role -o yaml | yq"
   ]
  },
  {
   "cell_type": "code",
   "execution_count": 8,
   "id": "cde95b75-4e49-4fd4-9b61-7e32a37a683d",
   "metadata": {},
   "outputs": [
    {
     "name": "stdout",
     "output_type": "stream",
     "text": [
      "\u001b[36mapiVersion\u001b[0m:\u001b[32m rbac.authorization.k8s.io/v1\u001b[0m\n",
      "\u001b[32m\u001b[0m\u001b[36mkind\u001b[0m:\u001b[32m ClusterRoleBinding\u001b[0m\n",
      "\u001b[32m\u001b[0m\u001b[36mmetadata\u001b[0m:\u001b[36m\u001b[0m\n",
      "\u001b[36m  annotations\u001b[0m:\u001b[36m\u001b[0m\n",
      "\u001b[36m    kubectl.kubernetes.io/last-applied-configuration\u001b[0m: |\n",
      "\u001b[32m      {\"apiVersion\":\"rbac.authorization.k8s.io/v1\",\"kind\":\"ClusterRoleBinding\",\"metadata\":{\"annotations\":{},\"name\":\"admin-role-binding\"},\"roleRef\":{\"apiGroup\":\"rbac.authorization.k8s.io\",\"kind\":\"ClusterRole\",\"name\":\"admin-role\"},\"subjects\":[{\"kind\":\"ServiceAccount\",\"name\":\"admin-service-account\",\"namespace\":\"commander\"}]}\u001b[0m\n",
      "\u001b[32m  \u001b[0m\u001b[36mcreationTimestamp\u001b[0m:\u001b[32m \"2024-02-07T10:54:26Z\"\u001b[0m\u001b[36m\u001b[0m\n",
      "\u001b[36m  name\u001b[0m:\u001b[32m admin-role-binding\u001b[0m\n",
      "\u001b[32m  \u001b[0m\u001b[36mresourceVersion\u001b[0m:\u001b[32m \"8744\"\u001b[0m\u001b[36m\u001b[0m\n",
      "\u001b[36m  uid\u001b[0m:\u001b[32m 9e913a57-3d37-4800-8234-d6d32f8ccf03\u001b[0m\n",
      "\u001b[32m\u001b[0m\u001b[36mroleRef\u001b[0m:\u001b[36m\u001b[0m\n",
      "\u001b[36m  apiGroup\u001b[0m:\u001b[32m rbac.authorization.k8s.io\u001b[0m\n",
      "\u001b[32m  \u001b[0m\u001b[36mkind\u001b[0m:\u001b[32m ClusterRole\u001b[0m\n",
      "\u001b[32m  \u001b[0m\u001b[36mname\u001b[0m:\u001b[32m admin-role\u001b[0m\n",
      "\u001b[32m\u001b[0m\u001b[36msubjects\u001b[0m:\n",
      "  -\u001b[36m kind\u001b[0m:\u001b[32m ServiceAccount\u001b[0m\n",
      "\u001b[32m    \u001b[0m\u001b[36mname\u001b[0m:\u001b[32m admin-service-account\u001b[0m\n",
      "\u001b[32m    \u001b[0m\u001b[36mnamespace\u001b[0m:\u001b[32m commander\u001b[0m\n"
     ]
    }
   ],
   "source": [
    "!kubectl -n commander get ClusterRoleBinding admin-role-binding -o yaml | yq"
   ]
  },
  {
   "cell_type": "code",
   "execution_count": null,
   "id": "dd2a3daa-ba2e-4248-a05f-59466c4e477b",
   "metadata": {},
   "outputs": [],
   "source": []
  }
 ],
 "metadata": {
  "kernelspec": {
   "display_name": "Python 3 (ipykernel)",
   "language": "python",
   "name": "python3"
  },
  "language_info": {
   "codemirror_mode": {
    "name": "ipython",
    "version": 3
   },
   "file_extension": ".py",
   "mimetype": "text/x-python",
   "name": "python",
   "nbconvert_exporter": "python",
   "pygments_lexer": "ipython3",
   "version": "3.10.13"
  }
 },
 "nbformat": 4,
 "nbformat_minor": 5
}
