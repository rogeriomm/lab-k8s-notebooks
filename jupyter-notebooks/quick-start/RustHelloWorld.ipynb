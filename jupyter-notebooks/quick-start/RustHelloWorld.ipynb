{
 "cells": [
  {
   "cell_type": "code",
   "execution_count": 2,
   "id": "c819dd8a-59b2-4256-95bb-e54bbbacf005",
   "metadata": {},
   "outputs": [],
   "source": [
    "let a=1;\n",
    "let b=1;"
   ]
  },
  {
   "cell_type": "code",
   "execution_count": 3,
   "id": "9deeac8c-50e5-4c5f-88eb-f5887cc1fcf4",
   "metadata": {},
   "outputs": [
    {
     "name": "stdout",
     "output_type": "stream",
     "text": [
      "1\n"
     ]
    }
   ],
   "source": [
    "println!(\"{}\", a);"
   ]
  },
  {
   "cell_type": "code",
   "execution_count": 4,
   "id": "2177ad28-d5ab-4229-8757-cf113793bd0d",
   "metadata": {},
   "outputs": [
    {
     "name": "stdout",
     "output_type": "stream",
     "text": [
      "3\n"
     ]
    }
   ],
   "source": [
    "println!(\"{}\", a+b+1);"
   ]
  },
  {
   "cell_type": "code",
   "execution_count": null,
   "id": "5eefc38f-09ca-4a98-9964-a46ff9b1a81d",
   "metadata": {},
   "outputs": [],
   "source": []
  },
  {
   "cell_type": "code",
   "execution_count": null,
   "id": "c7c2029a-871a-4333-9d4c-a06ea42eec3d",
   "metadata": {},
   "outputs": [],
   "source": []
  }
 ],
 "metadata": {
  "kernelspec": {
   "display_name": "Rust",
   "language": "rust",
   "name": "rust"
  },
  "language_info": {
   "codemirror_mode": "rust",
   "file_extension": ".rs",
   "mimetype": "text/rust",
   "name": "Rust",
   "pygment_lexer": "rust",
   "version": ""
  }
 },
 "nbformat": 4,
 "nbformat_minor": 5
}
