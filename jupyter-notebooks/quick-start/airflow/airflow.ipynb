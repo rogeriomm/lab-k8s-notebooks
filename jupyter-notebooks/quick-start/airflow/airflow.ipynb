{
 "cells": [
  {
   "cell_type": "code",
   "execution_count": 1,
   "id": "2745c12e-1ef7-4c18-8759-fe0f5051e075",
   "metadata": {},
   "outputs": [
    {
     "name": "stdout",
     "output_type": "stream",
     "text": [
      "\u001b[37mNAME                                            READY   STATUS    RESTARTS   AGE\u001b[0m\n",
      "\u001b[36mpod/airflow-db-migrations-7f96595484-tpzx6\u001b[0m      \u001b[32m1/1\u001b[0m     \u001b[35mRunning\u001b[0m   \u001b[37m0\u001b[0m          \u001b[33m144m\u001b[0m\n",
      "\u001b[36mpod/airflow-flower-648c99f4f9-857h6\u001b[0m             \u001b[32m1/1\u001b[0m     \u001b[35mRunning\u001b[0m   \u001b[37m0\u001b[0m          \u001b[33m144m\u001b[0m\n",
      "\u001b[36mpod/airflow-pgbouncer-8b55bf9b9-h46q8\u001b[0m           \u001b[32m1/1\u001b[0m     \u001b[35mRunning\u001b[0m   \u001b[37m5\u001b[0m          \u001b[33m3d\u001b[0m\n",
      "\u001b[36mpod/airflow-redis-master-0\u001b[0m                      \u001b[32m1/1\u001b[0m     \u001b[35mRunning\u001b[0m   \u001b[37m0\u001b[0m          \u001b[33m144m\u001b[0m\n",
      "\u001b[36mpod/airflow-scheduler-6b87968c95-7hvwv\u001b[0m          \u001b[32m1/1\u001b[0m     \u001b[35mRunning\u001b[0m   \u001b[37m0\u001b[0m          \u001b[33m144m\u001b[0m\n",
      "\u001b[36mpod/airflow-sync-connections-5f878b687d-t9mk7\u001b[0m   \u001b[32m1/1\u001b[0m     \u001b[35mRunning\u001b[0m   \u001b[37m0\u001b[0m          \u001b[33m144m\u001b[0m\n",
      "\u001b[36mpod/airflow-sync-users-68995d58b4-gh6l8\u001b[0m         \u001b[32m1/1\u001b[0m     \u001b[35mRunning\u001b[0m   \u001b[37m0\u001b[0m          \u001b[33m144m\u001b[0m\n",
      "\u001b[36mpod/airflow-sync-variables-5bb77757b4-xw4ql\u001b[0m     \u001b[32m1/1\u001b[0m     \u001b[35mRunning\u001b[0m   \u001b[37m0\u001b[0m          \u001b[33m144m\u001b[0m\n",
      "\u001b[36mpod/airflow-triggerer-86b9f4c4b9-tvqg8\u001b[0m          \u001b[32m1/1\u001b[0m     \u001b[35mRunning\u001b[0m   \u001b[37m0\u001b[0m          \u001b[33m144m\u001b[0m\n",
      "\u001b[36mpod/airflow-web-79fd5555c4-x59bn\u001b[0m                \u001b[32m1/1\u001b[0m     \u001b[35mRunning\u001b[0m   \u001b[37m0\u001b[0m          \u001b[33m144m\u001b[0m\n",
      "\u001b[36mpod/airflow-worker-0\u001b[0m                            \u001b[32m1/1\u001b[0m     \u001b[35mRunning\u001b[0m   \u001b[37m0\u001b[0m          \u001b[33m144m\u001b[0m\n",
      "\u001b[37m\u001b[0m\n",
      "\u001b[37mNAME                             TYPE        CLUSTER-IP       EXTERNAL-IP   PORT(S)    AGE\u001b[0m\n",
      "\u001b[36mservice/airflow-flower\u001b[0m           \u001b[36mClusterIP\u001b[0m   \u001b[32m10.101.187.225\u001b[0m   \u001b[35m<none>\u001b[0m        \u001b[37m5555/TCP\u001b[0m   \u001b[33m3d\u001b[0m\n",
      "\u001b[36mservice/airflow-pgbouncer\u001b[0m        \u001b[36mClusterIP\u001b[0m   \u001b[32m10.104.127.140\u001b[0m   \u001b[35m<none>\u001b[0m        \u001b[37m6432/TCP\u001b[0m   \u001b[33m3d\u001b[0m\n",
      "\u001b[36mservice/airflow-redis-headless\u001b[0m   \u001b[36mClusterIP\u001b[0m   \u001b[32mNone\u001b[0m             \u001b[35m<none>\u001b[0m        \u001b[37m6379/TCP\u001b[0m   \u001b[33m3d\u001b[0m\n",
      "\u001b[36mservice/airflow-redis-master\u001b[0m     \u001b[36mClusterIP\u001b[0m   \u001b[32m10.103.171.235\u001b[0m   \u001b[35m<none>\u001b[0m        \u001b[37m6379/TCP\u001b[0m   \u001b[33m3d\u001b[0m\n",
      "\u001b[36mservice/airflow-web\u001b[0m              \u001b[36mClusterIP\u001b[0m   \u001b[32m10.109.26.152\u001b[0m    \u001b[35m<none>\u001b[0m        \u001b[37m8080/TCP\u001b[0m   \u001b[33m3d\u001b[0m\n",
      "\u001b[36mservice/airflow-worker\u001b[0m           \u001b[36mClusterIP\u001b[0m   \u001b[32mNone\u001b[0m             \u001b[35m<none>\u001b[0m        \u001b[37m8793/TCP\u001b[0m   \u001b[33m3d\u001b[0m\n",
      "\u001b[37m\u001b[0m\n",
      "\u001b[37mNAME                                       READY   UP-TO-DATE   AVAILABLE   AGE\u001b[0m\n",
      "\u001b[36mdeployment.apps/airflow-db-migrations\u001b[0m      \u001b[36m1/1\u001b[0m     \u001b[32m1\u001b[0m            \u001b[35m1\u001b[0m           \u001b[37m3d\u001b[0m\n",
      "\u001b[36mdeployment.apps/airflow-flower\u001b[0m             \u001b[36m1/1\u001b[0m     \u001b[32m1\u001b[0m            \u001b[35m1\u001b[0m           \u001b[37m3d\u001b[0m\n",
      "\u001b[36mdeployment.apps/airflow-pgbouncer\u001b[0m          \u001b[36m1/1\u001b[0m     \u001b[32m1\u001b[0m            \u001b[35m1\u001b[0m           \u001b[37m3d\u001b[0m\n",
      "\u001b[36mdeployment.apps/airflow-scheduler\u001b[0m          \u001b[36m1/1\u001b[0m     \u001b[32m1\u001b[0m            \u001b[35m1\u001b[0m           \u001b[37m3d\u001b[0m\n",
      "\u001b[36mdeployment.apps/airflow-sync-connections\u001b[0m   \u001b[36m1/1\u001b[0m     \u001b[32m1\u001b[0m            \u001b[35m1\u001b[0m           \u001b[37m3d\u001b[0m\n",
      "\u001b[36mdeployment.apps/airflow-sync-users\u001b[0m         \u001b[36m1/1\u001b[0m     \u001b[32m1\u001b[0m            \u001b[35m1\u001b[0m           \u001b[37m3d\u001b[0m\n",
      "\u001b[36mdeployment.apps/airflow-sync-variables\u001b[0m     \u001b[36m1/1\u001b[0m     \u001b[32m1\u001b[0m            \u001b[35m1\u001b[0m           \u001b[37m3d\u001b[0m\n",
      "\u001b[36mdeployment.apps/airflow-triggerer\u001b[0m          \u001b[36m1/1\u001b[0m     \u001b[32m1\u001b[0m            \u001b[35m1\u001b[0m           \u001b[37m3d\u001b[0m\n",
      "\u001b[36mdeployment.apps/airflow-web\u001b[0m                \u001b[36m1/1\u001b[0m     \u001b[32m1\u001b[0m            \u001b[35m1\u001b[0m           \u001b[37m3d\u001b[0m\n",
      "\u001b[37m\u001b[0m\n",
      "\u001b[37mNAME                                                  DESIRED   CURRENT   READY   AGE\u001b[0m\n",
      "\u001b[36mreplicaset.apps/airflow-db-migrations-7f96595484\u001b[0m      \u001b[37m1\u001b[0m         \u001b[35m1\u001b[0m         \u001b[33m1\u001b[0m       \u001b[36m3d\u001b[0m\n",
      "\u001b[36mreplicaset.apps/airflow-flower-648c99f4f9\u001b[0m             \u001b[37m1\u001b[0m         \u001b[35m1\u001b[0m         \u001b[33m1\u001b[0m       \u001b[36m3d\u001b[0m\n",
      "\u001b[36mreplicaset.apps/airflow-pgbouncer-8b55bf9b9\u001b[0m           \u001b[37m1\u001b[0m         \u001b[35m1\u001b[0m         \u001b[33m1\u001b[0m       \u001b[36m3d\u001b[0m\n",
      "\u001b[36mreplicaset.apps/airflow-scheduler-6b87968c95\u001b[0m          \u001b[37m1\u001b[0m         \u001b[35m1\u001b[0m         \u001b[33m1\u001b[0m       \u001b[36m3d\u001b[0m\n",
      "\u001b[36mreplicaset.apps/airflow-sync-connections-5f878b687d\u001b[0m   \u001b[37m1\u001b[0m         \u001b[35m1\u001b[0m         \u001b[33m1\u001b[0m       \u001b[36m3d\u001b[0m\n",
      "\u001b[36mreplicaset.apps/airflow-sync-users-68995d58b4\u001b[0m         \u001b[37m1\u001b[0m         \u001b[35m1\u001b[0m         \u001b[33m1\u001b[0m       \u001b[36m3d\u001b[0m\n",
      "\u001b[36mreplicaset.apps/airflow-sync-variables-5bb77757b4\u001b[0m     \u001b[37m1\u001b[0m         \u001b[35m1\u001b[0m         \u001b[33m1\u001b[0m       \u001b[36m3d\u001b[0m\n",
      "\u001b[36mreplicaset.apps/airflow-triggerer-86b9f4c4b9\u001b[0m          \u001b[37m1\u001b[0m         \u001b[35m1\u001b[0m         \u001b[33m1\u001b[0m       \u001b[36m3d\u001b[0m\n",
      "\u001b[36mreplicaset.apps/airflow-web-79fd5555c4\u001b[0m                \u001b[37m1\u001b[0m         \u001b[35m1\u001b[0m         \u001b[33m1\u001b[0m       \u001b[36m3d\u001b[0m\n",
      "\u001b[37m\u001b[0m\n",
      "\u001b[37mNAME                                    READY   AGE\u001b[0m\n",
      "\u001b[36mstatefulset.apps/airflow-redis-master\u001b[0m   \u001b[32m1/1\u001b[0m     \u001b[32m3d\u001b[0m\n",
      "\u001b[36mstatefulset.apps/airflow-worker\u001b[0m         \u001b[32m1/1\u001b[0m     \u001b[32m3d\u001b[0m\n"
     ]
    }
   ],
   "source": [
    "!kubecolor -n airflow get all "
   ]
  },
  {
   "cell_type": "code",
   "execution_count": null,
   "id": "6b2052fb-2791-4c4f-8cf2-24450c6192d9",
   "metadata": {},
   "outputs": [],
   "source": []
  }
 ],
 "metadata": {
  "kernelspec": {
   "display_name": "Python 3 (ipykernel)",
   "language": "python",
   "name": "python3"
  },
  "language_info": {
   "codemirror_mode": {
    "name": "ipython",
    "version": 3
   },
   "file_extension": ".py",
   "mimetype": "text/x-python",
   "name": "python",
   "nbconvert_exporter": "python",
   "pygments_lexer": "ipython3",
   "version": "3.10.13"
  }
 },
 "nbformat": 4,
 "nbformat_minor": 5
}
