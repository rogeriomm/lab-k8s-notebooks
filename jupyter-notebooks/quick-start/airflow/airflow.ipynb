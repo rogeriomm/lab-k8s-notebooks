{
 "cells": [
  {
   "cell_type": "code",
   "execution_count": 1,
   "id": "2745c12e-1ef7-4c18-8759-fe0f5051e075",
   "metadata": {},
   "outputs": [
    {
     "name": "stdout",
     "output_type": "stream",
     "text": [
      "NAME                                            READY   STATUS    RESTARTS       AGE\n",
      "pod/airflow-db-migrations-7cf9fc586d-cbcdx      1/1     Running   0              69m\n",
      "pod/airflow-flower-6677599cc4-fmf5j             1/1     Running   0              69m\n",
      "pod/airflow-pgbouncer-7984c67569-n4hd8          1/1     Running   0              69m\n",
      "pod/airflow-redis-master-0                      1/1     Running   21 (92m ago)   5d3h\n",
      "pod/airflow-scheduler-84c4f66cfb-2tfjj          2/2     Running   0              69m\n",
      "pod/airflow-sync-connections-69797c9b66-d5kvh   1/1     Running   0              69m\n",
      "pod/airflow-sync-users-7d48c77875-nrhkk         1/1     Running   0              69m\n",
      "pod/airflow-sync-variables-6b7f5d4689-7g62n     1/1     Running   0              69m\n",
      "pod/airflow-triggerer-69dd8fc5db-7lv97          1/1     Running   0              69m\n",
      "pod/airflow-web-b9f7474d9-hp8jx                 1/1     Running   1 (67m ago)    69m\n",
      "pod/airflow-worker-0                            2/2     Running   0              69m\n",
      "\n",
      "NAME                             TYPE        CLUSTER-IP       EXTERNAL-IP   PORT(S)    AGE\n",
      "service/airflow-flower           ClusterIP   10.96.249.93     <none>        5555/TCP   6d21h\n",
      "service/airflow-pgbouncer        ClusterIP   10.100.167.182   <none>        6432/TCP   6d21h\n",
      "service/airflow-redis-headless   ClusterIP   None             <none>        6379/TCP   6d21h\n",
      "service/airflow-redis-master     ClusterIP   10.102.9.12      <none>        6379/TCP   6d21h\n",
      "service/airflow-web              ClusterIP   10.104.11.26     <none>        8080/TCP   6d21h\n",
      "service/airflow-worker           ClusterIP   None             <none>        8793/TCP   6d21h\n",
      "\n",
      "NAME                                       READY   UP-TO-DATE   AVAILABLE   AGE\n",
      "deployment.apps/airflow-db-migrations      1/1     1            1           6d21h\n",
      "deployment.apps/airflow-flower             1/1     1            1           6d21h\n",
      "deployment.apps/airflow-pgbouncer          1/1     1            1           6d21h\n",
      "deployment.apps/airflow-scheduler          1/1     1            1           6d21h\n",
      "deployment.apps/airflow-sync-connections   1/1     1            1           6d21h\n",
      "deployment.apps/airflow-sync-users         1/1     1            1           6d21h\n",
      "deployment.apps/airflow-sync-variables     1/1     1            1           6d21h\n",
      "deployment.apps/airflow-triggerer          1/1     1            1           6d21h\n",
      "deployment.apps/airflow-web                1/1     1            1           6d21h\n",
      "\n",
      "NAME                                                  DESIRED   CURRENT   READY   AGE\n",
      "replicaset.apps/airflow-db-migrations-7cf9fc586d      1         1         1       6d21h\n",
      "replicaset.apps/airflow-flower-6677599cc4             1         1         1       6d21h\n",
      "replicaset.apps/airflow-pgbouncer-7984c67569          1         1         1       6d21h\n",
      "replicaset.apps/airflow-scheduler-84c4f66cfb          1         1         1       6d21h\n",
      "replicaset.apps/airflow-sync-connections-69797c9b66   1         1         1       6d21h\n",
      "replicaset.apps/airflow-sync-users-7d48c77875         1         1         1       6d21h\n",
      "replicaset.apps/airflow-sync-variables-6b7f5d4689     1         1         1       6d21h\n",
      "replicaset.apps/airflow-triggerer-69dd8fc5db          1         1         1       6d21h\n",
      "replicaset.apps/airflow-web-b9f7474d9                 1         1         1       6d21h\n",
      "\n",
      "NAME                                    READY   AGE\n",
      "statefulset.apps/airflow-redis-master   1/1     6d21h\n",
      "statefulset.apps/airflow-worker         1/1     6d21h\n"
     ]
    }
   ],
   "source": [
    "!kubectl -n airflow get all"
   ]
  },
  {
   "cell_type": "code",
   "execution_count": null,
   "id": "6b2052fb-2791-4c4f-8cf2-24450c6192d9",
   "metadata": {},
   "outputs": [],
   "source": []
  }
 ],
 "metadata": {
  "kernelspec": {
   "display_name": "Python 3 (ipykernel)",
   "language": "python",
   "name": "python3"
  },
  "language_info": {
   "codemirror_mode": {
    "name": "ipython",
    "version": 3
   },
   "file_extension": ".py",
   "mimetype": "text/x-python",
   "name": "python",
   "nbconvert_exporter": "python",
   "pygments_lexer": "ipython3",
   "version": "3.10.13"
  }
 },
 "nbformat": 4,
 "nbformat_minor": 5
}
