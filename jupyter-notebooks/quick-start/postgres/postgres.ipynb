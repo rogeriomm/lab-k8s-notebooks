{
 "cells": [
  {
   "cell_type": "code",
   "execution_count": 2,
   "id": "c98d4daa-8111-453c-92fb-5a378b6d13c0",
   "metadata": {},
   "outputs": [
    {
     "name": "stdout",
     "output_type": "stream",
     "text": [
      "\u001b[37mNAME                        READY   STATUS    RESTARTS   AGE\u001b[0m\n",
      "\u001b[36mpod/postgres-postgresql-0\u001b[0m   \u001b[32m1/1\u001b[0m     \u001b[35mRunning\u001b[0m   \u001b[37m0\u001b[0m          \u001b[33m64m\u001b[0m\n",
      "\u001b[37m\u001b[0m\n",
      "\u001b[37mNAME                             TYPE        CLUSTER-IP     EXTERNAL-IP   PORT(S)    AGE\u001b[0m\n",
      "\u001b[36mservice/postgres-postgresql\u001b[0m      \u001b[36mClusterIP\u001b[0m   \u001b[32m10.97.123.12\u001b[0m   \u001b[35m<none>\u001b[0m        \u001b[37m5432/TCP\u001b[0m   \u001b[33m25h\u001b[0m\n",
      "\u001b[36mservice/postgres-postgresql-hl\u001b[0m   \u001b[36mClusterIP\u001b[0m   \u001b[32mNone\u001b[0m           \u001b[35m<none>\u001b[0m        \u001b[37m5432/TCP\u001b[0m   \u001b[33m25h\u001b[0m\n",
      "\u001b[37m\u001b[0m\n",
      "\u001b[37mNAME                                   READY   AGE\u001b[0m\n",
      "\u001b[36mstatefulset.apps/postgres-postgresql\u001b[0m   \u001b[36m1/1\u001b[0m     \u001b[32m25h\u001b[0m\n"
     ]
    }
   ],
   "source": [
    "!kubecolor -n postgres get all"
   ]
  },
  {
   "cell_type": "code",
   "execution_count": 4,
   "id": "3e73b257-cf26-4f10-9fa4-e5505c08d2cd",
   "metadata": {},
   "outputs": [
    {
     "name": "stdout",
     "output_type": "stream",
     "text": [
      "\u001b[37mNAME                     TYPE        CLUSTER-IP     EXTERNAL-IP   PORT(S)    AGE\u001b[0m\n",
      "\u001b[36mpostgres-postgresql\u001b[0m      \u001b[32mClusterIP\u001b[0m   \u001b[35m10.97.123.12\u001b[0m   \u001b[37m<none>\u001b[0m        \u001b[33m5432/TCP\u001b[0m   \u001b[36m25h\u001b[0m\n",
      "\u001b[36mpostgres-postgresql-hl\u001b[0m   \u001b[32mClusterIP\u001b[0m   \u001b[35mNone\u001b[0m           \u001b[37m<none>\u001b[0m        \u001b[33m5432/TCP\u001b[0m   \u001b[36m25h\u001b[0m\n"
     ]
    }
   ],
   "source": [
    "!kubecolor -n postgres get services"
   ]
  },
  {
   "cell_type": "code",
   "execution_count": 6,
   "id": "aada0fda-0f62-4369-a2c1-36672f0ec2cb",
   "metadata": {},
   "outputs": [
    {
     "name": "stdout",
     "output_type": "stream",
     "text": [
      "\u001b[36mapiVersion\u001b[0m:\u001b[32m v1\u001b[0m\n",
      "\u001b[32m\u001b[0m\u001b[36mkind\u001b[0m:\u001b[32m Service\u001b[0m\n",
      "\u001b[32m\u001b[0m\u001b[36mmetadata\u001b[0m:\u001b[36m\u001b[0m\n",
      "\u001b[36m  annotations\u001b[0m:\u001b[36m\u001b[0m\n",
      "\u001b[36m    meta.helm.sh/release-name\u001b[0m:\u001b[32m postgres\u001b[0m\n",
      "\u001b[32m    \u001b[0m\u001b[36mmeta.helm.sh/release-namespace\u001b[0m:\u001b[32m postgres\u001b[0m\n",
      "\u001b[32m  \u001b[0m\u001b[36mcreationTimestamp\u001b[0m:\u001b[32m \"2024-02-02T10:41:58Z\"\u001b[0m\u001b[36m\u001b[0m\n",
      "\u001b[36m  labels\u001b[0m:\u001b[36m\u001b[0m\n",
      "\u001b[36m    app.kubernetes.io/component\u001b[0m:\u001b[32m primary\u001b[0m\n",
      "\u001b[32m    \u001b[0m\u001b[36mapp.kubernetes.io/instance\u001b[0m:\u001b[32m postgres\u001b[0m\n",
      "\u001b[32m    \u001b[0m\u001b[36mapp.kubernetes.io/managed-by\u001b[0m:\u001b[32m Helm\u001b[0m\n",
      "\u001b[32m    \u001b[0m\u001b[36mapp.kubernetes.io/name\u001b[0m:\u001b[32m postgresql\u001b[0m\n",
      "\u001b[32m    \u001b[0m\u001b[36mapp.kubernetes.io/version\u001b[0m:\u001b[32m 16.1.0\u001b[0m\n",
      "\u001b[32m    \u001b[0m\u001b[36mhelm.sh/chart\u001b[0m:\u001b[32m postgresql-13.2.30\u001b[0m\n",
      "\u001b[32m  \u001b[0m\u001b[36mname\u001b[0m:\u001b[32m postgres-postgresql\u001b[0m\n",
      "\u001b[32m  \u001b[0m\u001b[36mnamespace\u001b[0m:\u001b[32m postgres\u001b[0m\n",
      "\u001b[32m  \u001b[0m\u001b[36mresourceVersion\u001b[0m:\u001b[32m \"26761\"\u001b[0m\u001b[36m\u001b[0m\n",
      "\u001b[36m  uid\u001b[0m:\u001b[32m c7683b9e-5ece-4700-ba5c-698c58202b8c\u001b[0m\n",
      "\u001b[32m\u001b[0m\u001b[36mspec\u001b[0m:\u001b[36m\u001b[0m\n",
      "\u001b[36m  clusterIP\u001b[0m:\u001b[32m 10.97.123.12\u001b[0m\n",
      "\u001b[32m  \u001b[0m\u001b[36mclusterIPs\u001b[0m:\n",
      "    -\u001b[32m 10.97.123.12\u001b[0m\n",
      "\u001b[32m  \u001b[0m\u001b[36minternalTrafficPolicy\u001b[0m:\u001b[32m Cluster\u001b[0m\n",
      "\u001b[32m  \u001b[0m\u001b[36mipFamilies\u001b[0m:\n",
      "    -\u001b[32m IPv4\u001b[0m\n",
      "\u001b[32m  \u001b[0m\u001b[36mipFamilyPolicy\u001b[0m:\u001b[32m SingleStack\u001b[0m\n",
      "\u001b[32m  \u001b[0m\u001b[36mports\u001b[0m:\n",
      "    -\u001b[36m name\u001b[0m:\u001b[32m tcp-postgresql\u001b[0m\n",
      "\u001b[32m      \u001b[0m\u001b[36mport\u001b[0m:\u001b[95m 5432\u001b[0m\n",
      "\u001b[95m      \u001b[0m\u001b[36mprotocol\u001b[0m:\u001b[32m TCP\u001b[0m\n",
      "\u001b[32m      \u001b[0m\u001b[36mtargetPort\u001b[0m:\u001b[32m tcp-postgresql\u001b[0m\n",
      "\u001b[32m  \u001b[0m\u001b[36mselector\u001b[0m:\u001b[36m\u001b[0m\n",
      "\u001b[36m    app.kubernetes.io/component\u001b[0m:\u001b[32m primary\u001b[0m\n",
      "\u001b[32m    \u001b[0m\u001b[36mapp.kubernetes.io/instance\u001b[0m:\u001b[32m postgres\u001b[0m\n",
      "\u001b[32m    \u001b[0m\u001b[36mapp.kubernetes.io/name\u001b[0m:\u001b[32m postgresql\u001b[0m\n",
      "\u001b[32m  \u001b[0m\u001b[36msessionAffinity\u001b[0m:\u001b[32m None\u001b[0m\n",
      "\u001b[32m  \u001b[0m\u001b[36mtype\u001b[0m:\u001b[32m ClusterIP\u001b[0m\n",
      "\u001b[32m\u001b[0m\u001b[36mstatus\u001b[0m:\u001b[36m\u001b[0m\n",
      "\u001b[36m  loadBalancer\u001b[0m: {}\n"
     ]
    }
   ],
   "source": [
    "!kubectl -n postgres get services postgres-postgresql -o yaml | yq"
   ]
  },
  {
   "cell_type": "code",
   "execution_count": 8,
   "id": "b2b7c0c1-3d44-440d-a77a-909fdbfc3238",
   "metadata": {},
   "outputs": [
    {
     "name": "stdout",
     "output_type": "stream",
     "text": [
      "Starting Nmap 7.80 ( https://nmap.org ) at 2024-02-03 08:50 -03\n",
      "Nmap scan report for postgres-postgresql.postgres.svc (10.97.123.12)\n",
      "Host is up (0.0012s latency).\n",
      "rDNS record for 10.97.123.12: postgres-postgresql.postgres.svc.cluster2.xpt\n",
      "\n",
      "PORT     STATE SERVICE\n",
      "5432/tcp open  postgresql\n",
      "\n",
      "Nmap done: 1 IP address (1 host up) scanned in 0.12 seconds\n"
     ]
    }
   ],
   "source": [
    "!nmap -p 5432 postgres-postgresql.postgres.svc"
   ]
  },
  {
   "cell_type": "code",
   "execution_count": 2,
   "id": "7ae19d93-e953-41bb-b551-629555dad964",
   "metadata": {},
   "outputs": [
    {
     "name": "stdout",
     "output_type": "stream",
     "text": [
      "postgres-postgresql.postgres.svc.cluster2.xpt, ktP9ZEYVrH\n"
     ]
    }
   ],
   "source": [
    "! POSTGRES_HOST=postgres-postgresql.postgres.svc.cluster2.xpt && \\\n",
    "  export POSTGRES_PASSWORD=$(kubectl get secret --namespace postgres postgres-postgresql -o jsonpath=\"{.data.postgres-password}\" | base64 -d) && \\\n",
    "  echo $POSTGRES_HOST, $POSTGRES_PASSWORD"
   ]
  },
  {
   "cell_type": "code",
   "execution_count": 7,
   "id": "0762451c-8218-4c61-b15e-60631a11e586",
   "metadata": {},
   "outputs": [
    {
     "name": "stdout",
     "output_type": "stream",
     "text": [
      "bin\t dev\t\t\t\tetc   lib64  opt   run\t sys  var\n",
      "bitnami  docker-entrypoint-initdb.d\thome  media  proc  sbin  tmp\n",
      "boot\t docker-entrypoint-preinitdb.d\tlib   mnt    root  srv\t usr\n",
      "pod \"postgres-postgresql-client\" deleted\n"
     ]
    }
   ],
   "source": [
    "! POSTGRES_HOST=postgres-postgresql.postgres.svc.cluster2.xpt && \\\n",
    "  export POSTGRES_PASSWORD=$(kubectl get secret --namespace postgres postgres-postgresql -o jsonpath=\"{.data.postgres-password}\" | base64 -d) && \\\n",
    "  kubectl run postgres-postgresql-client --rm --tty -i --restart='Never' \\\n",
    "                                       --namespace postgres --image docker.io/bitnami/postgresql:15.1.0-debian-11-r20 \\\n",
    "                                       --env=\"PGPASSWORD=$POSTGRES_PASSWORD\" \\\n",
    "                                       --command -- ls /\n",
    " "
   ]
  },
  {
   "cell_type": "code",
   "execution_count": null,
   "id": "4a907256-e6f9-4325-9652-d01927d79194",
   "metadata": {},
   "outputs": [],
   "source": []
  }
 ],
 "metadata": {
  "kernelspec": {
   "display_name": "Python 3 (ipykernel)",
   "language": "python",
   "name": "python3"
  },
  "language_info": {
   "codemirror_mode": {
    "name": "ipython",
    "version": 3
   },
   "file_extension": ".py",
   "mimetype": "text/x-python",
   "name": "python",
   "nbconvert_exporter": "python",
   "pygments_lexer": "ipython3",
   "version": "3.10.13"
  }
 },
 "nbformat": 4,
 "nbformat_minor": 5
}
