{
 "cells": [
  {
   "cell_type": "code",
   "execution_count": 1,
   "id": "c98d4daa-8111-453c-92fb-5a378b6d13c0",
   "metadata": {},
   "outputs": [
    {
     "name": "stdout",
     "output_type": "stream",
     "text": [
      "NAME                        READY   STATUS    RESTARTS   AGE\n",
      "pod/postgres-postgresql-0   1/1     Running   0          72m\n",
      "\n",
      "NAME                             TYPE        CLUSTER-IP      EXTERNAL-IP   PORT(S)    AGE\n",
      "service/postgres-postgresql      ClusterIP   10.104.161.45   <none>        5432/TCP   6d22h\n",
      "service/postgres-postgresql-hl   ClusterIP   None            <none>        5432/TCP   6d22h\n",
      "\n",
      "NAME                                   READY   AGE\n",
      "statefulset.apps/postgres-postgresql   1/1     6d22h\n"
     ]
    }
   ],
   "source": [
    "!kubectl -n postgres get all"
   ]
  },
  {
   "cell_type": "code",
   "execution_count": null,
   "id": "3e73b257-cf26-4f10-9fa4-e5505c08d2cd",
   "metadata": {},
   "outputs": [],
   "source": []
  }
 ],
 "metadata": {
  "kernelspec": {
   "display_name": "Python 3 (ipykernel)",
   "language": "python",
   "name": "python3"
  },
  "language_info": {
   "codemirror_mode": {
    "name": "ipython",
    "version": 3
   },
   "file_extension": ".py",
   "mimetype": "text/x-python",
   "name": "python",
   "nbconvert_exporter": "python",
   "pygments_lexer": "ipython3",
   "version": "3.10.13"
  }
 },
 "nbformat": 4,
 "nbformat_minor": 5
}
