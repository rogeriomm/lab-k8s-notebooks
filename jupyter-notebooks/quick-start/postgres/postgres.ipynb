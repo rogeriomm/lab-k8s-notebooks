{
 "cells": [
  {
   "cell_type": "code",
   "execution_count": 1,
   "id": "c98d4daa-8111-453c-92fb-5a378b6d13c0",
   "metadata": {},
   "outputs": [
    {
     "name": "stdout",
     "output_type": "stream",
     "text": [
      "\u001b[37mNAME                        READY   STATUS    RESTARTS   AGE\u001b[0m\n",
      "\u001b[36mpod/postgres-postgresql-0\u001b[0m   \u001b[32m1/1\u001b[0m     \u001b[35mRunning\u001b[0m   \u001b[37m0\u001b[0m          \u001b[33m7h8m\u001b[0m\n",
      "\u001b[37m\u001b[0m\n",
      "\u001b[37mNAME                             TYPE        CLUSTER-IP     EXTERNAL-IP   PORT(S)    AGE\u001b[0m\n",
      "\u001b[36mservice/postgres-postgresql\u001b[0m      \u001b[36mClusterIP\u001b[0m   \u001b[32m10.97.123.12\u001b[0m   \u001b[35m<none>\u001b[0m        \u001b[37m5432/TCP\u001b[0m   \u001b[33m7h8m\u001b[0m\n",
      "\u001b[36mservice/postgres-postgresql-hl\u001b[0m   \u001b[36mClusterIP\u001b[0m   \u001b[32mNone\u001b[0m           \u001b[35m<none>\u001b[0m        \u001b[37m5432/TCP\u001b[0m   \u001b[33m7h8m\u001b[0m\n",
      "\u001b[37m\u001b[0m\n",
      "\u001b[37mNAME                                   READY   AGE\u001b[0m\n",
      "\u001b[36mstatefulset.apps/postgres-postgresql\u001b[0m   \u001b[36m1/1\u001b[0m     \u001b[32m7h8m\u001b[0m\n"
     ]
    }
   ],
   "source": [
    "!kubecolor -n postgres get all"
   ]
  },
  {
   "cell_type": "code",
   "execution_count": null,
   "id": "3e73b257-cf26-4f10-9fa4-e5505c08d2cd",
   "metadata": {},
   "outputs": [],
   "source": []
  }
 ],
 "metadata": {
  "kernelspec": {
   "display_name": "Python 3 (ipykernel)",
   "language": "python",
   "name": "python3"
  },
  "language_info": {
   "codemirror_mode": {
    "name": "ipython",
    "version": 3
   },
   "file_extension": ".py",
   "mimetype": "text/x-python",
   "name": "python",
   "nbconvert_exporter": "python",
   "pygments_lexer": "ipython3",
   "version": "3.10.13"
  }
 },
 "nbformat": 4,
 "nbformat_minor": 5
}
