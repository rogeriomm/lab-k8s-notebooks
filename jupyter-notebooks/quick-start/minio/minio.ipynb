{
 "cells": [
  {
   "cell_type": "code",
   "execution_count": 1,
   "id": "60843db6-083c-4ec7-8bad-224e770c056d",
   "metadata": {},
   "outputs": [
    {
     "name": "stdout",
     "output_type": "stream",
     "text": [
      "\u001b[37mNAME                                  READY   STATUS    RESTARTS   AGE\u001b[0m\n",
      "\u001b[36mpod/console-75dc7dc944-lvm27\u001b[0m          \u001b[32m1/1\u001b[0m     \u001b[35mRunning\u001b[0m   \u001b[37m3\u001b[0m          \u001b[33m2d4h\u001b[0m\n",
      "\u001b[36mpod/minio-operator-5fb57dcdd5-sjkqk\u001b[0m   \u001b[32m1/1\u001b[0m     \u001b[35mRunning\u001b[0m   \u001b[37m0\u001b[0m          \u001b[33m4h53m\u001b[0m\n",
      "\u001b[36mpod/minio-operator-5fb57dcdd5-xssgr\u001b[0m   \u001b[32m1/1\u001b[0m     \u001b[35mRunning\u001b[0m   \u001b[37m5\u001b[0m          \u001b[33m3d3h\u001b[0m\n",
      "\u001b[37m\u001b[0m\n",
      "\u001b[37mNAME               TYPE        CLUSTER-IP      EXTERNAL-IP   PORT(S)             AGE\u001b[0m\n",
      "\u001b[36mservice/console\u001b[0m    \u001b[36mClusterIP\u001b[0m   \u001b[32m10.109.86.173\u001b[0m   \u001b[35m<none>\u001b[0m        \u001b[37m9090/TCP,9443/TCP\u001b[0m   \u001b[33m3d3h\u001b[0m\n",
      "\u001b[36mservice/operator\u001b[0m   \u001b[36mClusterIP\u001b[0m   \u001b[32m10.97.142.26\u001b[0m    \u001b[35m<none>\u001b[0m        \u001b[37m4221/TCP\u001b[0m            \u001b[33m3d3h\u001b[0m\n",
      "\u001b[36mservice/sts\u001b[0m        \u001b[36mClusterIP\u001b[0m   \u001b[32m10.97.216.50\u001b[0m    \u001b[35m<none>\u001b[0m        \u001b[37m4223/TCP\u001b[0m            \u001b[33m3d3h\u001b[0m\n",
      "\u001b[37m\u001b[0m\n",
      "\u001b[37mNAME                             READY   UP-TO-DATE   AVAILABLE   AGE\u001b[0m\n",
      "\u001b[36mdeployment.apps/console\u001b[0m          \u001b[36m1/1\u001b[0m     \u001b[32m1\u001b[0m            \u001b[35m1\u001b[0m           \u001b[37m3d3h\u001b[0m\n",
      "\u001b[36mdeployment.apps/minio-operator\u001b[0m   \u001b[36m2/2\u001b[0m     \u001b[32m2\u001b[0m            \u001b[35m2\u001b[0m           \u001b[37m3d3h\u001b[0m\n",
      "\u001b[37m\u001b[0m\n",
      "\u001b[37mNAME                                        DESIRED   CURRENT   READY   AGE\u001b[0m\n",
      "\u001b[36mreplicaset.apps/console-75dc7dc944\u001b[0m          \u001b[33m1\u001b[0m         \u001b[35m1\u001b[0m         \u001b[36m1\u001b[0m       \u001b[32m3d3h\u001b[0m\n",
      "\u001b[36mreplicaset.apps/minio-operator-5fb57dcdd5\u001b[0m   \u001b[33m2\u001b[0m         \u001b[35m2\u001b[0m         \u001b[36m2\u001b[0m       \u001b[32m3d3h\u001b[0m\n"
     ]
    }
   ],
   "source": [
    "!kubecolor get -n minio-operator all"
   ]
  },
  {
   "cell_type": "code",
   "execution_count": 2,
   "id": "f84c504b-89e9-43e8-86ff-f6ed80569618",
   "metadata": {},
   "outputs": [
    {
     "name": "stdout",
     "output_type": "stream",
     "text": [
      "\u001b[37mNAME                        READY   STATUS    RESTARTS   AGE\u001b[0m\n",
      "\u001b[36mpod/minio-tenant-1-ss-0-0\u001b[0m   \u001b[32m2/2\u001b[0m     \u001b[35mRunning\u001b[0m   \u001b[37m0\u001b[0m          \u001b[33m4h53m\u001b[0m\n",
      "\u001b[36mpod/minio-tenant-1-ss-0-1\u001b[0m   \u001b[32m2/2\u001b[0m     \u001b[35mRunning\u001b[0m   \u001b[37m0\u001b[0m          \u001b[33m4h53m\u001b[0m\n",
      "\u001b[36mpod/minio-tenant-1-ss-0-2\u001b[0m   \u001b[32m2/2\u001b[0m     \u001b[35mRunning\u001b[0m   \u001b[37m0\u001b[0m          \u001b[33m4h53m\u001b[0m\n",
      "\u001b[37m\u001b[0m\n",
      "\u001b[37mNAME                             TYPE        CLUSTER-IP       EXTERNAL-IP   PORT(S)    AGE\u001b[0m\n",
      "\u001b[36mservice/minio\u001b[0m                    \u001b[36mClusterIP\u001b[0m   \u001b[32m10.105.224.249\u001b[0m   \u001b[35m<none>\u001b[0m        \u001b[37m443/TCP\u001b[0m    \u001b[33m3d3h\u001b[0m\n",
      "\u001b[36mservice/minio-tenant-1-console\u001b[0m   \u001b[36mClusterIP\u001b[0m   \u001b[32m10.105.199.70\u001b[0m    \u001b[35m<none>\u001b[0m        \u001b[37m9443/TCP\u001b[0m   \u001b[33m3d3h\u001b[0m\n",
      "\u001b[36mservice/minio-tenant-1-hl\u001b[0m        \u001b[36mClusterIP\u001b[0m   \u001b[32mNone\u001b[0m             \u001b[35m<none>\u001b[0m        \u001b[37m9000/TCP\u001b[0m   \u001b[33m3d3h\u001b[0m\n",
      "\u001b[37m\u001b[0m\n",
      "\u001b[37mNAME                                   READY   AGE\u001b[0m\n",
      "\u001b[36mstatefulset.apps/minio-tenant-1-ss-0\u001b[0m   \u001b[36m3/3\u001b[0m     \u001b[32m3d3h\u001b[0m\n"
     ]
    }
   ],
   "source": [
    "!kubecolor get -n minio-tenant-1 all"
   ]
  },
  {
   "cell_type": "code",
   "execution_count": 3,
   "id": "6aa63215-9df5-47bc-9562-1bf26f1dcbe9",
   "metadata": {},
   "outputs": [
    {
     "name": "stdout",
     "output_type": "stream",
     "text": [
      "\u001b[36mapiVersion\u001b[0m:\u001b[32m v1\u001b[0m\n",
      "\u001b[32m\u001b[0m\u001b[36mdata\u001b[0m:\u001b[36m\u001b[0m\n",
      "\u001b[36m  CONSOLE_ACCESS_KEY\u001b[0m:\u001b[32m TVZDQ0g2S1ZYQ1dSTkJKWlJXM0Q=\u001b[0m\n",
      "\u001b[32m  \u001b[0m\u001b[36mCONSOLE_SECRET_KEY\u001b[0m:\u001b[32m NWZRRjhaQ25GWU1hNHR3TlF2OENpdzZpRXhIYTlLNXhqS2pTMlJCMg==\u001b[0m\n",
      "\u001b[32m\u001b[0m\u001b[36mkind\u001b[0m:\u001b[32m Secret\u001b[0m\n",
      "\u001b[32m\u001b[0m\u001b[36mmetadata\u001b[0m:\u001b[36m\u001b[0m\n",
      "\u001b[36m  creationTimestamp\u001b[0m:\u001b[32m \"2024-02-07T10:55:32Z\"\u001b[0m\u001b[36m\u001b[0m\n",
      "\u001b[36m  name\u001b[0m:\u001b[32m minio-tenant-1-user-1\u001b[0m\n",
      "\u001b[32m  \u001b[0m\u001b[36mnamespace\u001b[0m:\u001b[32m minio-tenant-1\u001b[0m\n",
      "\u001b[32m  \u001b[0m\u001b[36mresourceVersion\u001b[0m:\u001b[32m \"9600\"\u001b[0m\u001b[36m\u001b[0m\n",
      "\u001b[36m  uid\u001b[0m:\u001b[32m 3a2d1e5c-495f-432c-ab27-c7eb89946cef\u001b[0m\n",
      "\u001b[32m\u001b[0m\u001b[36mtype\u001b[0m:\u001b[32m Opaque\u001b[0m\n"
     ]
    }
   ],
   "source": [
    "!kubectl -n minio-tenant-1 get secret minio-tenant-1-user-1 -o yaml | yq"
   ]
  },
  {
   "cell_type": "code",
   "execution_count": 4,
   "id": "76b9eaa2-a24f-4141-bab6-84940043f0c2",
   "metadata": {},
   "outputs": [
    {
     "name": "stdout",
     "output_type": "stream",
     "text": [
      "\u001b[36mapiVersion\u001b[0m:\u001b[32m v1\u001b[0m\n",
      "\u001b[32m\u001b[0m\u001b[36mdata\u001b[0m:\u001b[36m\u001b[0m\n",
      "\u001b[36m  private.key\u001b[0m:\u001b[32m LS0tLS1CRUdJTiBQUklWQVRFIEtFWS0tLS0tCk1JR0hBZ0VBTUJNR0J5cUdTTTQ5QWdFR0NDcUdTTTQ5QXdFSEJHMHdhd0lCQVFRZ0lZbUM1QjVaVW5wUlppOUoKRmsvaHR4Um9nMzUxcUJvU1RNVHlCNyt2eldLaFJBTkNBQVRSRnhCVGxpVnZQSktFNkhNMW81M2JDZUNQRnJRcwpYZzdzOU5OMWZqVysyNENuMk5pZmtNdEEyeVhXa0s5ZVFMNWZmd0JCSncrRTBEbzhWSVQ2LzdrUgotLS0tLUVORCBQUklWQVRFIEtFWS0tLS0tCg==\u001b[0m\n",
      "\u001b[32m  \u001b[0m\u001b[36mpublic.crt\u001b[0m:\u001b[32m LS0tLS1CRUdJTiBDRVJUSUZJQ0FURS0tLS0tCk1JSURuakNDQW9hZ0F3SUJBZ0lQVTVrRDZ4U2EvbmdWT1FaU3ZnTTdNQTBHQ1NxR1NJYjNEUUVCQ3dVQU1CVXgKRXpBUkJnTlZCQU1UQ20xcGJtbHJkV0psUTBFd0hoY05NalF3TWpBM01UQTFNRFV5V2hjTk1qVXdNakEyTVRBMQpNRFV5V2pCaU1SVXdFd1lEVlFRS0V3eHplWE4wWlcwNmJtOWtaWE14U1RCSEJnTlZCQU1NUUhONWMzUmxiVHB1CmIyUmxPaW91YldsdWFXOHRkR1Z1WVc1MExURXRhR3d1YldsdWFXOHRkR1Z1WVc1MExURXVjM1pqTG1Oc2RYTjAKWlhJdWJHOWpZV3d3V1RBVEJnY3Foa2pPUFFJQkJnZ3Foa2pPUFFNQkJ3TkNBQVRSRnhCVGxpVnZQSktFNkhNMQpvNTNiQ2VDUEZyUXNYZzdzOU5OMWZqVysyNENuMk5pZmtNdEEyeVhXa0s5ZVFMNWZmd0JCSncrRTBEbzhWSVQ2Ci83a1JvNElCWnpDQ0FXTXdEZ1lEVlIwUEFRSC9CQVFEQWdXZ01CTUdBMVVkSlFRTU1Bb0dDQ3NHQVFVRkJ3TUIKTUF3R0ExVWRFd0VCL3dRQ01BQXdId1lEVlIwakJCZ3dGb0FVM092MVlVbDd3VitEeVV3WENaVE0rcFd0YWxrdwpnZ0VMQmdOVkhSRUVnZ0VDTUlIL2drNXRhVzVwYnkxMFpXNWhiblF0TVMxemN5MHdMWHN3TGk0dU1uMHViV2x1CmFXOHRkR1Z1WVc1MExURXRhR3d1YldsdWFXOHRkR1Z1WVc1MExURXVjM1pqTG1Oc2RYTjBaWEl1Ykc5allXeUMKSlcxcGJtbHZMbTFwYm1sdkxYUmxibUZ1ZEMweExuTjJZeTVqYkhWemRHVnlNaTU0Y0hTQ0ZHMXBibWx2TG0xcApibWx2TFhSbGJtRnVkQzB4Z2hodGFXNXBieTV0YVc1cGJ5MTBaVzVoYm5RdE1TNXpkbU9DTXlvdWJXbHVhVzh0CmRHVnVZVzUwTFRFdGFHd3ViV2x1YVc4dGRHVnVZVzUwTFRFdWMzWmpMbU5zZFhOMFpYSXlMbmh3ZElJaEtpNXQKYVc1cGJ5MTBaVzVoYm5RdE1TNXpkbU11WTJ4MWMzUmxjakl1ZUhCME1BMEdDU3FHU0liM0RRRUJDd1VBQTRJQgpBUUNmZ2toV0dteHIwL0prUEM3aGpnOFdEeVIybmNqUmsxQjg3VUZzTHdzSFdmL2lzQzkwdkFSYmo4Q1V0ZG9iCmJhWHNXSGtnNEJjQmFyNS9BbnIrN3YrVEhyRlhQc3dCcEVHQWZaRHR4RWZvL2h5OUFENCtPZDRSYTI2R2Y4RlIKS3ZCSmVYVGlnbEEyMlJabTJ4elE4dVFnUktVZVI5eFhySXNwdHBwOE9NZlJBWVNVTS95RjRQVm05SDFmWlFqcAorVWpnMzNYZ0N3dWdJbVEzSEtVc01xeGlmamJvRENxTDZzQkZ1NzhYMVM4MmlxZFNiVXQ3a0xsM1Y3V0NOUDFmCmE1eTk1ZXlmNGF3RVk4SjJoWGdPeXdDL2YvWWJhQmhxN1VoQklMOXpHQzNla2JsZmpISnJGZXNQT3hqNmEyRGQKMzNOSEh4WlN6WERYN1FnV1E5R0dWRysrCi0tLS0tRU5EIENFUlRJRklDQVRFLS0tLS0K\u001b[0m\n",
      "\u001b[32m\u001b[0m\u001b[36mkind\u001b[0m:\u001b[32m Secret\u001b[0m\n",
      "\u001b[32m\u001b[0m\u001b[36mmetadata\u001b[0m:\u001b[36m\u001b[0m\n",
      "\u001b[36m  creationTimestamp\u001b[0m:\u001b[32m \"2024-02-07T10:55:57Z\"\u001b[0m\u001b[36m\u001b[0m\n",
      "\u001b[36m  labels\u001b[0m:\u001b[36m\u001b[0m\n",
      "\u001b[36m    v1.min.io/tenant\u001b[0m:\u001b[32m minio-tenant-1\u001b[0m\n",
      "\u001b[32m  \u001b[0m\u001b[36mname\u001b[0m:\u001b[32m minio-tenant-1-tls\u001b[0m\n",
      "\u001b[32m  \u001b[0m\u001b[36mnamespace\u001b[0m:\u001b[32m minio-tenant-1\u001b[0m\n",
      "\u001b[32m  \u001b[0m\u001b[36mownerReferences\u001b[0m:\n",
      "    -\u001b[36m apiVersion\u001b[0m:\u001b[32m minio.min.io/v2\u001b[0m\n",
      "\u001b[32m      \u001b[0m\u001b[36mblockOwnerDeletion\u001b[0m:\u001b[95m true\u001b[0m\n",
      "\u001b[95m      \u001b[0m\u001b[36mcontroller\u001b[0m:\u001b[95m true\u001b[0m\n",
      "\u001b[95m      \u001b[0m\u001b[36mkind\u001b[0m:\u001b[32m Tenant\u001b[0m\n",
      "\u001b[32m      \u001b[0m\u001b[36mname\u001b[0m:\u001b[32m minio-tenant-1\u001b[0m\n",
      "\u001b[32m      \u001b[0m\u001b[36muid\u001b[0m:\u001b[32m 5828c350-a022-4693-9e5c-cca92cbabfe6\u001b[0m\n",
      "\u001b[32m  \u001b[0m\u001b[36mresourceVersion\u001b[0m:\u001b[32m \"9812\"\u001b[0m\u001b[36m\u001b[0m\n",
      "\u001b[36m  uid\u001b[0m:\u001b[32m e543e3ac-fd5c-46e2-933f-83478e893392\u001b[0m\n",
      "\u001b[32m\u001b[0m\u001b[36mtype\u001b[0m:\u001b[32m Opaque\u001b[0m\n"
     ]
    }
   ],
   "source": [
    "!kubectl -n minio-tenant-1 get secret minio-tenant-1-tls -o yaml | yq"
   ]
  },
  {
   "cell_type": "code",
   "execution_count": 5,
   "id": "f4c866a0-13e5-4d42-89a6-b6785c86c725",
   "metadata": {},
   "outputs": [
    {
     "name": "stdout",
     "output_type": "stream",
     "text": [
      "\u001b[36mapiVersion\u001b[0m:\u001b[32m v1\u001b[0m\n",
      "\u001b[32m\u001b[0m\u001b[36mdata\u001b[0m:\u001b[36m\u001b[0m\n",
      "\u001b[36m  config.env\u001b[0m:\u001b[32m ZXhwb3J0IE1JTklPX1JPT1RfVVNFUj0iSDE3TDhDQk43ODY0QUFFTUZFMVAiCmV4cG9ydCBNSU5JT19ST09UX1BBU1NXT1JEPSJuR3JsMWpZWUVOQ0dDU3ZKQjZZSzZ4WWdURXc3Z2E0N0VkekpyMXBnIgo=\u001b[0m\n",
      "\u001b[32m\u001b[0m\u001b[36mkind\u001b[0m:\u001b[32m Secret\u001b[0m\n",
      "\u001b[32m\u001b[0m\u001b[36mmetadata\u001b[0m:\u001b[36m\u001b[0m\n",
      "\u001b[36m  creationTimestamp\u001b[0m:\u001b[32m \"2024-02-07T10:55:32Z\"\u001b[0m\u001b[36m\u001b[0m\n",
      "\u001b[36m  name\u001b[0m:\u001b[32m minio-tenant-1-env-configuration\u001b[0m\n",
      "\u001b[32m  \u001b[0m\u001b[36mnamespace\u001b[0m:\u001b[32m minio-tenant-1\u001b[0m\n",
      "\u001b[32m  \u001b[0m\u001b[36mresourceVersion\u001b[0m:\u001b[32m \"9599\"\u001b[0m\u001b[36m\u001b[0m\n",
      "\u001b[36m  uid\u001b[0m:\u001b[32m e40faf24-ceac-49f8-9fae-bfd3e04c45b2\u001b[0m\n",
      "\u001b[32m\u001b[0m\u001b[36mtype\u001b[0m:\u001b[32m Opaque\u001b[0m\n"
     ]
    }
   ],
   "source": [
    "!kubectl -n minio-tenant-1 get secret minio-tenant-1-env-configuration -o yaml | yq"
   ]
  },
  {
   "cell_type": "code",
   "execution_count": 6,
   "id": "02a04912-728e-441d-93b5-ed0585d4f404",
   "metadata": {},
   "outputs": [
    {
     "name": "stdout",
     "output_type": "stream",
     "text": [
      "export MINIO_ROOT_USER=\"H17L8CBN7864AAEMFE1P\"\n",
      "export MINIO_ROOT_PASSWORD=\"nGrl1jYYENCGCSvJB6YK6xYgTEw7ga47EdzJr1pg\"\n"
     ]
    }
   ],
   "source": [
    "!echo ZXhwb3J0IE1JTklPX1JPT1RfVVNFUj0iSDE3TDhDQk43ODY0QUFFTUZFMVAiCmV4cG9ydCBNSU5JT19ST09UX1BBU1NXT1JEPSJuR3JsMWpZWUVOQ0dDU3ZKQjZZSzZ4WWdURXc3Z2E0N0VkekpyMXBnIgo= | base64 -d"
   ]
  },
  {
   "cell_type": "code",
   "execution_count": null,
   "id": "1855cdb0-bb8a-42be-b368-1d04cab1c649",
   "metadata": {},
   "outputs": [],
   "source": []
  }
 ],
 "metadata": {
  "kernelspec": {
   "display_name": "Python 3 (ipykernel)",
   "language": "python",
   "name": "python3"
  },
  "language_info": {
   "codemirror_mode": {
    "name": "ipython",
    "version": 3
   },
   "file_extension": ".py",
   "mimetype": "text/x-python",
   "name": "python",
   "nbconvert_exporter": "python",
   "pygments_lexer": "ipython3",
   "version": "3.10.13"
  }
 },
 "nbformat": 4,
 "nbformat_minor": 5
}
