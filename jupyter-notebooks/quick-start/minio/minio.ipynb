{
 "cells": [
  {
   "cell_type": "code",
   "execution_count": 2,
   "id": "60843db6-083c-4ec7-8bad-224e770c056d",
   "metadata": {},
   "outputs": [
    {
     "name": "stdout",
     "output_type": "stream",
     "text": [
      "NAME                                 READY   STATUS    RESTARTS       AGE\n",
      "pod/console-67679f8844-g6xjm         1/1     Running   15 (88m ago)   5d3h\n",
      "pod/minio-operator-f97db4b4b-dgrpd   1/1     Running   0              66m\n",
      "pod/minio-operator-f97db4b4b-gpqn6   1/1     Running   19 (88m ago)   6d21h\n",
      "\n",
      "NAME               TYPE        CLUSTER-IP       EXTERNAL-IP   PORT(S)             AGE\n",
      "service/console    ClusterIP   10.99.232.218    <none>        9090/TCP,9443/TCP   6d21h\n",
      "service/operator   ClusterIP   10.109.245.58    <none>        4221/TCP            6d21h\n",
      "service/sts        ClusterIP   10.105.184.249   <none>        4223/TCP            6d21h\n",
      "\n",
      "NAME                             READY   UP-TO-DATE   AVAILABLE   AGE\n",
      "deployment.apps/console          1/1     1            1           6d21h\n",
      "deployment.apps/minio-operator   2/2     2            2           6d21h\n",
      "\n",
      "NAME                                       DESIRED   CURRENT   READY   AGE\n",
      "replicaset.apps/console-67679f8844         1         1         1       6d21h\n",
      "replicaset.apps/minio-operator-f97db4b4b   2         2         2       6d21h\n"
     ]
    }
   ],
   "source": [
    "!kubectl get -n minio-operator all"
   ]
  },
  {
   "cell_type": "code",
   "execution_count": 3,
   "id": "f84c504b-89e9-43e8-86ff-f6ed80569618",
   "metadata": {},
   "outputs": [
    {
     "name": "stdout",
     "output_type": "stream",
     "text": [
      "NAME                        READY   STATUS    RESTARTS   AGE\n",
      "pod/minio-tenant-1-ss-0-0   2/2     Running   0          66m\n",
      "pod/minio-tenant-1-ss-0-1   2/2     Running   0          67m\n",
      "pod/minio-tenant-1-ss-0-2   2/2     Running   0          67m\n",
      "\n",
      "NAME                             TYPE        CLUSTER-IP       EXTERNAL-IP   PORT(S)    AGE\n",
      "service/minio                    ClusterIP   10.103.100.41    <none>        443/TCP    6d21h\n",
      "service/minio-tenant-1-console   ClusterIP   10.100.141.163   <none>        9443/TCP   6d21h\n",
      "service/minio-tenant-1-hl        ClusterIP   None             <none>        9000/TCP   6d21h\n",
      "\n",
      "NAME                                   READY   AGE\n",
      "statefulset.apps/minio-tenant-1-ss-0   3/3     6d21h\n"
     ]
    }
   ],
   "source": [
    "!kubectl get -n minio-tenant-1 all"
   ]
  },
  {
   "cell_type": "code",
   "execution_count": null,
   "id": "6aa63215-9df5-47bc-9562-1bf26f1dcbe9",
   "metadata": {},
   "outputs": [],
   "source": []
  }
 ],
 "metadata": {
  "kernelspec": {
   "display_name": "Python 3 (ipykernel)",
   "language": "python",
   "name": "python3"
  },
  "language_info": {
   "codemirror_mode": {
    "name": "ipython",
    "version": 3
   },
   "file_extension": ".py",
   "mimetype": "text/x-python",
   "name": "python",
   "nbconvert_exporter": "python",
   "pygments_lexer": "ipython3",
   "version": "3.10.13"
  }
 },
 "nbformat": 4,
 "nbformat_minor": 5
}
