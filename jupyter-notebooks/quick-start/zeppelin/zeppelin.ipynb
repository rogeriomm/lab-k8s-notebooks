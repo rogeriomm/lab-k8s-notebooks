{
 "cells": [
  {
   "cell_type": "code",
   "execution_count": 1,
   "id": "e9ab38dd-48e7-4e76-bd13-fe7fb4363841",
   "metadata": {},
   "outputs": [
    {
     "name": "stdout",
     "output_type": "stream",
     "text": [
      "\u001b[37mNAME                                   READY   STATUS    RESTARTS   AGE\u001b[0m\n",
      "\u001b[36mpod/jupyter-server-6fb8f7dcbc-dd7nk\u001b[0m    \u001b[32m1/1\u001b[0m     \u001b[35mRunning\u001b[0m   \u001b[37m0\u001b[0m          \u001b[33m145m\u001b[0m\n",
      "\u001b[36mpod/sh-dzomez\u001b[0m                          \u001b[32m1/1\u001b[0m     \u001b[35mRunning\u001b[0m   \u001b[37m0\u001b[0m          \u001b[33m59m\u001b[0m\n",
      "\u001b[36mpod/zeppelin-server-5d75d4f9d5-bkcgl\u001b[0m   \u001b[32m3/3\u001b[0m     \u001b[35mRunning\u001b[0m   \u001b[37m0\u001b[0m          \u001b[33m145m\u001b[0m\n",
      "\u001b[37m\u001b[0m\n",
      "\u001b[37mNAME                      TYPE        CLUSTER-IP       EXTERNAL-IP   PORT(S)                    AGE\u001b[0m\n",
      "\u001b[36mservice/jupyter-driver\u001b[0m    \u001b[36mClusterIP\u001b[0m   \u001b[32mNone\u001b[0m             \u001b[35m<none>\u001b[0m        \u001b[37m24913/TCP\u001b[0m                  \u001b[33m3d\u001b[0m\n",
      "\u001b[36mservice/jupyter-server\u001b[0m    \u001b[36mClusterIP\u001b[0m   \u001b[32m10.111.249.188\u001b[0m   \u001b[35m<none>\u001b[0m        \u001b[37m8888/TCP\u001b[0m                   \u001b[33m3d\u001b[0m\n",
      "\u001b[36mservice/sh-dzomez\u001b[0m         \u001b[36mClusterIP\u001b[0m   \u001b[32mNone\u001b[0m             \u001b[35m<none>\u001b[0m        \u001b[37m12321/TCP\u001b[0m                  \u001b[33m59m\u001b[0m\n",
      "\u001b[36mservice/zeppelin-server\u001b[0m   \u001b[36mClusterIP\u001b[0m   \u001b[32m10.98.211.146\u001b[0m    \u001b[35m<none>\u001b[0m        \u001b[37m80/TCP,443/TCP,12320/TCP\u001b[0m   \u001b[33m3d\u001b[0m\n",
      "\u001b[37m\u001b[0m\n",
      "\u001b[37mNAME                              READY   UP-TO-DATE   AVAILABLE   AGE\u001b[0m\n",
      "\u001b[36mdeployment.apps/jupyter-server\u001b[0m    \u001b[36m1/1\u001b[0m     \u001b[32m1\u001b[0m            \u001b[35m1\u001b[0m           \u001b[35m3d\u001b[0m\n",
      "\u001b[36mdeployment.apps/zeppelin-server\u001b[0m   \u001b[36m1/1\u001b[0m     \u001b[32m1\u001b[0m            \u001b[35m1\u001b[0m           \u001b[35m3d\u001b[0m\n",
      "\u001b[37m\u001b[0m\n",
      "\u001b[37mNAME                                         DESIRED   CURRENT   READY   AGE\u001b[0m\n",
      "\u001b[36mreplicaset.apps/jupyter-server-6fb8f7dcbc\u001b[0m    \u001b[37m1\u001b[0m         \u001b[35m1\u001b[0m         \u001b[33m1\u001b[0m       \u001b[36m3d\u001b[0m\n",
      "\u001b[36mreplicaset.apps/zeppelin-server-5d75d4f9d5\u001b[0m   \u001b[37m1\u001b[0m         \u001b[35m1\u001b[0m         \u001b[33m1\u001b[0m       \u001b[36m3d\u001b[0m\n"
     ]
    }
   ],
   "source": [
    "!kubecolor -n zeppelin get all"
   ]
  },
  {
   "cell_type": "code",
   "execution_count": null,
   "id": "0fafcfc4-4b34-417d-bddc-88f1afdea453",
   "metadata": {},
   "outputs": [],
   "source": []
  }
 ],
 "metadata": {
  "kernelspec": {
   "display_name": "Python 3 (ipykernel)",
   "language": "python",
   "name": "python3"
  },
  "language_info": {
   "codemirror_mode": {
    "name": "ipython",
    "version": 3
   },
   "file_extension": ".py",
   "mimetype": "text/x-python",
   "name": "python",
   "nbconvert_exporter": "python",
   "pygments_lexer": "ipython3",
   "version": "3.10.13"
  }
 },
 "nbformat": 4,
 "nbformat_minor": 5
}
