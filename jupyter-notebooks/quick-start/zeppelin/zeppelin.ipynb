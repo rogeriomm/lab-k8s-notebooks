{
 "cells": [
  {
   "cell_type": "code",
   "execution_count": 1,
   "id": "e9ab38dd-48e7-4e76-bd13-fe7fb4363841",
   "metadata": {},
   "outputs": [
    {
     "name": "stdout",
     "output_type": "stream",
     "text": [
      "NAME                                  READY   STATUS    RESTARTS   AGE\n",
      "pod/jupyter-server-847f955d5d-gz9ch   1/1     Running   0          74m\n",
      "pod/zeppelin-server-8cc884444-d67rg   3/3     Running   0          74m\n",
      "\n",
      "NAME                      TYPE        CLUSTER-IP      EXTERNAL-IP   PORT(S)                    AGE\n",
      "service/jupyter-driver    ClusterIP   None            <none>        24913/TCP                  6d22h\n",
      "service/jupyter-server    ClusterIP   10.109.68.192   <none>        8888/TCP                   6d22h\n",
      "service/zeppelin-server   ClusterIP   10.98.93.74     <none>        80/TCP,443/TCP,12320/TCP   6d22h\n",
      "\n",
      "NAME                              READY   UP-TO-DATE   AVAILABLE   AGE\n",
      "deployment.apps/jupyter-server    1/1     1            1           6d22h\n",
      "deployment.apps/zeppelin-server   1/1     1            1           6d22h\n",
      "\n",
      "NAME                                        DESIRED   CURRENT   READY   AGE\n",
      "replicaset.apps/jupyter-server-847f955d5d   1         1         1       6d22h\n",
      "replicaset.apps/zeppelin-server-8cc884444   1         1         1       6d22h\n"
     ]
    }
   ],
   "source": [
    "!kubectl -n zeppelin get all"
   ]
  },
  {
   "cell_type": "code",
   "execution_count": null,
   "id": "0fafcfc4-4b34-417d-bddc-88f1afdea453",
   "metadata": {},
   "outputs": [],
   "source": []
  }
 ],
 "metadata": {
  "kernelspec": {
   "display_name": "Python 3 (ipykernel)",
   "language": "python",
   "name": "python3"
  },
  "language_info": {
   "codemirror_mode": {
    "name": "ipython",
    "version": 3
   },
   "file_extension": ".py",
   "mimetype": "text/x-python",
   "name": "python",
   "nbconvert_exporter": "python",
   "pygments_lexer": "ipython3",
   "version": "3.10.13"
  }
 },
 "nbformat": 4,
 "nbformat_minor": 5
}
