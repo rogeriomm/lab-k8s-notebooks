{
 "cells": [
  {
   "cell_type": "code",
   "execution_count": 1,
   "id": "8d87093f-f361-4655-908a-1a97fb28f0f3",
   "metadata": {},
   "outputs": [
    {
     "name": "stdout",
     "output_type": "stream",
     "text": [
      "\u001b[37mNAME                               READY   STATUS    RESTARTS   AGE\u001b[0m\n",
      "\u001b[36mpod/elasticsearch-coordinating-0\u001b[0m   \u001b[32m1/1\u001b[0m     \u001b[35mRunning\u001b[0m   \u001b[37m0\u001b[0m          \u001b[33m4h13m\u001b[0m\n",
      "\u001b[36mpod/elasticsearch-coordinating-1\u001b[0m   \u001b[32m1/1\u001b[0m     \u001b[35mRunning\u001b[0m   \u001b[37m0\u001b[0m          \u001b[33m4h13m\u001b[0m\n",
      "\u001b[36mpod/elasticsearch-data-0\u001b[0m           \u001b[32m1/1\u001b[0m     \u001b[35mRunning\u001b[0m   \u001b[37m0\u001b[0m          \u001b[33m4h13m\u001b[0m\n",
      "\u001b[36mpod/elasticsearch-data-1\u001b[0m           \u001b[32m1/1\u001b[0m     \u001b[35mRunning\u001b[0m   \u001b[37m0\u001b[0m          \u001b[33m4h13m\u001b[0m\n",
      "\u001b[36mpod/elasticsearch-ingest-0\u001b[0m         \u001b[32m1/1\u001b[0m     \u001b[35mRunning\u001b[0m   \u001b[37m0\u001b[0m          \u001b[33m4h13m\u001b[0m\n",
      "\u001b[36mpod/elasticsearch-ingest-1\u001b[0m         \u001b[32m1/1\u001b[0m     \u001b[35mRunning\u001b[0m   \u001b[37m0\u001b[0m          \u001b[33m4h13m\u001b[0m\n",
      "\u001b[36mpod/elasticsearch-master-0\u001b[0m         \u001b[32m1/1\u001b[0m     \u001b[35mRunning\u001b[0m   \u001b[37m0\u001b[0m          \u001b[33m4h13m\u001b[0m\n",
      "\u001b[36mpod/elasticsearch-master-1\u001b[0m         \u001b[32m1/1\u001b[0m     \u001b[35mRunning\u001b[0m   \u001b[37m0\u001b[0m          \u001b[33m4h13m\u001b[0m\n",
      "\u001b[37m\u001b[0m\n",
      "\u001b[37mNAME                                    TYPE        CLUSTER-IP      EXTERNAL-IP   PORT(S)             AGE\u001b[0m\n",
      "\u001b[36mservice/elasticsearch\u001b[0m                   \u001b[36mClusterIP\u001b[0m   \u001b[32m10.105.31.246\u001b[0m   \u001b[35m<none>\u001b[0m        \u001b[37m9200/TCP,9300/TCP\u001b[0m   \u001b[33m4h13m\u001b[0m\n",
      "\u001b[36mservice/elasticsearch-coordinating-hl\u001b[0m   \u001b[36mClusterIP\u001b[0m   \u001b[32mNone\u001b[0m            \u001b[35m<none>\u001b[0m        \u001b[37m9200/TCP,9300/TCP\u001b[0m   \u001b[33m4h13m\u001b[0m\n",
      "\u001b[36mservice/elasticsearch-data-hl\u001b[0m           \u001b[36mClusterIP\u001b[0m   \u001b[32mNone\u001b[0m            \u001b[35m<none>\u001b[0m        \u001b[37m9200/TCP,9300/TCP\u001b[0m   \u001b[33m4h13m\u001b[0m\n",
      "\u001b[36mservice/elasticsearch-ingest-hl\u001b[0m         \u001b[36mClusterIP\u001b[0m   \u001b[32mNone\u001b[0m            \u001b[35m<none>\u001b[0m        \u001b[37m9200/TCP,9300/TCP\u001b[0m   \u001b[33m4h13m\u001b[0m\n",
      "\u001b[36mservice/elasticsearch-master-hl\u001b[0m         \u001b[36mClusterIP\u001b[0m   \u001b[32mNone\u001b[0m            \u001b[35m<none>\u001b[0m        \u001b[37m9200/TCP,9300/TCP\u001b[0m   \u001b[33m4h13m\u001b[0m\n",
      "\u001b[37m\u001b[0m\n",
      "\u001b[37mNAME                                          READY   AGE\u001b[0m\n",
      "\u001b[36mstatefulset.apps/elasticsearch-coordinating\u001b[0m   \u001b[36m2/2\u001b[0m     \u001b[32m4h13m\u001b[0m\n",
      "\u001b[36mstatefulset.apps/elasticsearch-data\u001b[0m           \u001b[36m2/2\u001b[0m     \u001b[32m4h13m\u001b[0m\n",
      "\u001b[36mstatefulset.apps/elasticsearch-ingest\u001b[0m         \u001b[36m2/2\u001b[0m     \u001b[32m4h13m\u001b[0m\n",
      "\u001b[36mstatefulset.apps/elasticsearch-master\u001b[0m         \u001b[36m2/2\u001b[0m     \u001b[32m4h13m\u001b[0m\n"
     ]
    }
   ],
   "source": [
    "!kubecolor -n elasticsearch get all"
   ]
  },
  {
   "cell_type": "code",
   "execution_count": 2,
   "id": "414b5027-da6c-4773-bc47-7eadde3e10e4",
   "metadata": {},
   "outputs": [
    {
     "name": "stdout",
     "output_type": "stream",
     "text": [
      "\u001b[36mapiVersion\u001b[0m:\u001b[32m v1\u001b[0m\n",
      "\u001b[32m\u001b[0m\u001b[36mkind\u001b[0m:\u001b[32m Service\u001b[0m\n",
      "\u001b[32m\u001b[0m\u001b[36mmetadata\u001b[0m:\u001b[36m\u001b[0m\n",
      "\u001b[36m  annotations\u001b[0m:\u001b[36m\u001b[0m\n",
      "\u001b[36m    meta.helm.sh/release-name\u001b[0m:\u001b[32m elasticsearch\u001b[0m\n",
      "\u001b[32m    \u001b[0m\u001b[36mmeta.helm.sh/release-namespace\u001b[0m:\u001b[32m elasticsearch\u001b[0m\n",
      "\u001b[32m  \u001b[0m\u001b[36mcreationTimestamp\u001b[0m:\u001b[32m \"2024-02-02T10:41:46Z\"\u001b[0m\u001b[36m\u001b[0m\n",
      "\u001b[36m  labels\u001b[0m:\u001b[36m\u001b[0m\n",
      "\u001b[36m    app.kubernetes.io/component\u001b[0m:\u001b[32m coordinating-only\u001b[0m\n",
      "\u001b[32m    \u001b[0m\u001b[36mapp.kubernetes.io/instance\u001b[0m:\u001b[32m elasticsearch\u001b[0m\n",
      "\u001b[32m    \u001b[0m\u001b[36mapp.kubernetes.io/managed-by\u001b[0m:\u001b[32m Helm\u001b[0m\n",
      "\u001b[32m    \u001b[0m\u001b[36mapp.kubernetes.io/name\u001b[0m:\u001b[32m elasticsearch\u001b[0m\n",
      "\u001b[32m    \u001b[0m\u001b[36mapp.kubernetes.io/version\u001b[0m:\u001b[32m 8.12.0\u001b[0m\n",
      "\u001b[32m    \u001b[0m\u001b[36mhelm.sh/chart\u001b[0m:\u001b[32m elasticsearch-19.17.2\u001b[0m\n",
      "\u001b[32m  \u001b[0m\u001b[36mname\u001b[0m:\u001b[32m elasticsearch\u001b[0m\n",
      "\u001b[32m  \u001b[0m\u001b[36mnamespace\u001b[0m:\u001b[32m elasticsearch\u001b[0m\n",
      "\u001b[32m  \u001b[0m\u001b[36mresourceVersion\u001b[0m:\u001b[32m \"26535\"\u001b[0m\u001b[36m\u001b[0m\n",
      "\u001b[36m  uid\u001b[0m:\u001b[32m a3ae2930-a1d2-40ae-9b80-517193072fd4\u001b[0m\n",
      "\u001b[32m\u001b[0m\u001b[36mspec\u001b[0m:\u001b[36m\u001b[0m\n",
      "\u001b[36m  clusterIP\u001b[0m:\u001b[32m 10.105.31.246\u001b[0m\n",
      "\u001b[32m  \u001b[0m\u001b[36mclusterIPs\u001b[0m:\n",
      "    -\u001b[32m 10.105.31.246\u001b[0m\n",
      "\u001b[32m  \u001b[0m\u001b[36minternalTrafficPolicy\u001b[0m:\u001b[32m Cluster\u001b[0m\n",
      "\u001b[32m  \u001b[0m\u001b[36mipFamilies\u001b[0m:\n",
      "    -\u001b[32m IPv4\u001b[0m\n",
      "\u001b[32m  \u001b[0m\u001b[36mipFamilyPolicy\u001b[0m:\u001b[32m SingleStack\u001b[0m\n",
      "\u001b[32m  \u001b[0m\u001b[36mports\u001b[0m:\n",
      "    -\u001b[36m name\u001b[0m:\u001b[32m tcp-rest-api\u001b[0m\n",
      "\u001b[32m      \u001b[0m\u001b[36mport\u001b[0m:\u001b[95m 9200\u001b[0m\n",
      "\u001b[95m      \u001b[0m\u001b[36mprotocol\u001b[0m:\u001b[32m TCP\u001b[0m\n",
      "\u001b[32m      \u001b[0m\u001b[36mtargetPort\u001b[0m:\u001b[32m rest-api\u001b[0m\n",
      "\u001b[32m    \u001b[0m-\u001b[36m name\u001b[0m:\u001b[32m tcp-transport\u001b[0m\n",
      "\u001b[32m      \u001b[0m\u001b[36mport\u001b[0m:\u001b[95m 9300\u001b[0m\n",
      "\u001b[95m      \u001b[0m\u001b[36mprotocol\u001b[0m:\u001b[32m TCP\u001b[0m\n",
      "\u001b[32m      \u001b[0m\u001b[36mtargetPort\u001b[0m:\u001b[95m 9300\u001b[0m\n",
      "\u001b[95m  \u001b[0m\u001b[36mselector\u001b[0m:\u001b[36m\u001b[0m\n",
      "\u001b[36m    app.kubernetes.io/component\u001b[0m:\u001b[32m coordinating-only\u001b[0m\n",
      "\u001b[32m    \u001b[0m\u001b[36mapp.kubernetes.io/instance\u001b[0m:\u001b[32m elasticsearch\u001b[0m\n",
      "\u001b[32m    \u001b[0m\u001b[36mapp.kubernetes.io/name\u001b[0m:\u001b[32m elasticsearch\u001b[0m\n",
      "\u001b[32m  \u001b[0m\u001b[36msessionAffinity\u001b[0m:\u001b[32m None\u001b[0m\n",
      "\u001b[32m  \u001b[0m\u001b[36mtype\u001b[0m:\u001b[32m ClusterIP\u001b[0m\n",
      "\u001b[32m\u001b[0m\u001b[36mstatus\u001b[0m:\u001b[36m\u001b[0m\n",
      "\u001b[36m  loadBalancer\u001b[0m: {}\n"
     ]
    }
   ],
   "source": [
    "!kubectl -n elasticsearch  get service elasticsearch -o yaml | yq"
   ]
  },
  {
   "cell_type": "code",
   "execution_count": 4,
   "id": "0235d41b-6fa8-48c6-89a3-1aa9a565845b",
   "metadata": {},
   "outputs": [
    {
     "name": "stdout",
     "output_type": "stream",
     "text": [
      "Starting Nmap 7.80 ( https://nmap.org ) at 2024-02-02 12:02 -03\n",
      "Nmap scan report for elasticsearch.elasticsearch.svc (10.105.31.246)\n",
      "Host is up (0.00012s latency).\n",
      "rDNS record for 10.105.31.246: elasticsearch.elasticsearch.svc.cluster2.xpt\n",
      "\n",
      "PORT     STATE SERVICE\n",
      "9200/tcp open  wap-wsp\n",
      "9300/tcp open  vrace\n",
      "\n",
      "Nmap done: 1 IP address (1 host up) scanned in 0.11 seconds\n"
     ]
    }
   ],
   "source": [
    "!nmap -p 9200,9300 elasticsearch.elasticsearch.svc"
   ]
  },
  {
   "cell_type": "markdown",
   "id": "55714eaf-0d05-4be8-9553-cc50d3e7a111",
   "metadata": {},
   "source": [
    "   * https://www.elastic.co/guide/en/elasticsearch/reference/current/rest-apis.html: Elasticsearch exposes REST APIs that are used by the UI components and can be called directly to configure and access Elasticsearch features.\n",
    "      * https://www.elastic.co/guide/en/elasticsearch/reference/current/security-api.html "
   ]
  },
  {
   "cell_type": "code",
   "execution_count": 11,
   "id": "ab9f8a37-7d12-41db-bf08-46b4adf604d2",
   "metadata": {},
   "outputs": [
    {
     "name": "stdout",
     "output_type": "stream",
     "text": [
      "\u001b[1;39m{\n",
      "  \u001b[0m\u001b[34;1m\"error\"\u001b[0m\u001b[1;39m: \u001b[0m\u001b[0;32m\"Incorrect HTTP method for uri [/_elastic/user?pretty] and method [GET], allowed: [POST]\"\u001b[0m\u001b[1;39m,\n",
      "  \u001b[0m\u001b[34;1m\"status\"\u001b[0m\u001b[1;39m: \u001b[0m\u001b[0;39m405\u001b[0m\u001b[1;39m\n",
      "\u001b[1;39m}\u001b[0m\n"
     ]
    }
   ],
   "source": [
    "!curl -s -u username:password -X GET \"http://elasticsearch.elasticsearch.svc:9200/elastic/user?pretty\" | jq"
   ]
  },
  {
   "cell_type": "code",
   "execution_count": 31,
   "id": "37abce64-a732-4f6d-afb0-8f2c413878d9",
   "metadata": {},
   "outputs": [
    {
     "name": "stdout",
     "output_type": "stream",
     "text": [
      "\u001b[1;39m{\n",
      "  \u001b[0m\u001b[34;1m\"cluster_name\"\u001b[0m\u001b[1;39m: \u001b[0m\u001b[0;32m\"elastic\"\u001b[0m\u001b[1;39m,\n",
      "  \u001b[0m\u001b[34;1m\"status\"\u001b[0m\u001b[1;39m: \u001b[0m\u001b[0;32m\"green\"\u001b[0m\u001b[1;39m,\n",
      "  \u001b[0m\u001b[34;1m\"timed_out\"\u001b[0m\u001b[1;39m: \u001b[0m\u001b[0;39mfalse\u001b[0m\u001b[1;39m,\n",
      "  \u001b[0m\u001b[34;1m\"number_of_nodes\"\u001b[0m\u001b[1;39m: \u001b[0m\u001b[0;39m8\u001b[0m\u001b[1;39m,\n",
      "  \u001b[0m\u001b[34;1m\"number_of_data_nodes\"\u001b[0m\u001b[1;39m: \u001b[0m\u001b[0;39m2\u001b[0m\u001b[1;39m,\n",
      "  \u001b[0m\u001b[34;1m\"active_primary_shards\"\u001b[0m\u001b[1;39m: \u001b[0m\u001b[0;39m37\u001b[0m\u001b[1;39m,\n",
      "  \u001b[0m\u001b[34;1m\"active_shards\"\u001b[0m\u001b[1;39m: \u001b[0m\u001b[0;39m74\u001b[0m\u001b[1;39m,\n",
      "  \u001b[0m\u001b[34;1m\"relocating_shards\"\u001b[0m\u001b[1;39m: \u001b[0m\u001b[0;39m0\u001b[0m\u001b[1;39m,\n",
      "  \u001b[0m\u001b[34;1m\"initializing_shards\"\u001b[0m\u001b[1;39m: \u001b[0m\u001b[0;39m0\u001b[0m\u001b[1;39m,\n",
      "  \u001b[0m\u001b[34;1m\"unassigned_shards\"\u001b[0m\u001b[1;39m: \u001b[0m\u001b[0;39m0\u001b[0m\u001b[1;39m,\n",
      "  \u001b[0m\u001b[34;1m\"delayed_unassigned_shards\"\u001b[0m\u001b[1;39m: \u001b[0m\u001b[0;39m0\u001b[0m\u001b[1;39m,\n",
      "  \u001b[0m\u001b[34;1m\"number_of_pending_tasks\"\u001b[0m\u001b[1;39m: \u001b[0m\u001b[0;39m0\u001b[0m\u001b[1;39m,\n",
      "  \u001b[0m\u001b[34;1m\"number_of_in_flight_fetch\"\u001b[0m\u001b[1;39m: \u001b[0m\u001b[0;39m0\u001b[0m\u001b[1;39m,\n",
      "  \u001b[0m\u001b[34;1m\"task_max_waiting_in_queue_millis\"\u001b[0m\u001b[1;39m: \u001b[0m\u001b[0;39m0\u001b[0m\u001b[1;39m,\n",
      "  \u001b[0m\u001b[34;1m\"active_shards_percent_as_number\"\u001b[0m\u001b[1;39m: \u001b[0m\u001b[0;39m100\u001b[0m\u001b[1;39m\n",
      "\u001b[1;39m}\u001b[0m\n"
     ]
    }
   ],
   "source": [
    "!curl -s -u elastic:password -X GET \"http://elasticsearch.elasticsearch.svc:9200/_cluster/health?pretty\" | jq"
   ]
  },
  {
   "cell_type": "code",
   "execution_count": 14,
   "id": "689e717d-a36f-4d83-a116-0f65e736ade6",
   "metadata": {},
   "outputs": [
    {
     "name": "stdout",
     "output_type": "stream",
     "text": [
      "\u001b[1;39m{\n",
      "  \u001b[0m\u001b[34;1m\"error\"\u001b[0m\u001b[1;39m: \u001b[0m\u001b[0;32m\"Incorrect HTTP method for uri [/_security/user?pretty] and method [GET], allowed: [POST]\"\u001b[0m\u001b[1;39m,\n",
      "  \u001b[0m\u001b[34;1m\"status\"\u001b[0m\u001b[1;39m: \u001b[0m\u001b[0;39m405\u001b[0m\u001b[1;39m\n",
      "\u001b[1;39m}\u001b[0m\n"
     ]
    }
   ],
   "source": [
    "!curl -s -u username:password -X GET \"http://elasticsearch.elasticsearch.svc:9200/_security/user?pretty\" | jq"
   ]
  },
  {
   "cell_type": "code",
   "execution_count": 24,
   "id": "c23233f3-42c7-4e94-b9a6-890c356b5cb0",
   "metadata": {},
   "outputs": [
    {
     "name": "stdout",
     "output_type": "stream",
     "text": [
      "\u001b[1;39m{\n",
      "  \u001b[0m\u001b[34;1m\"error\"\u001b[0m\u001b[1;39m: \u001b[0m\u001b[0;32m\"Incorrect HTTP method for uri [/_security/admin] and method [GET], allowed: [POST]\"\u001b[0m\u001b[1;39m,\n",
      "  \u001b[0m\u001b[34;1m\"status\"\u001b[0m\u001b[1;39m: \u001b[0m\u001b[0;39m405\u001b[0m\u001b[1;39m\n",
      "\u001b[1;39m}\u001b[0m\n"
     ]
    }
   ],
   "source": [
    "!curl -s -u elastic: -X GET \"http://elasticsearch.elasticsearch.svc:9200/_security/admin\" | jq\n"
   ]
  },
  {
   "cell_type": "code",
   "execution_count": 22,
   "id": "e597d1f3-3a0c-401e-b3bf-eaf64eddc155",
   "metadata": {},
   "outputs": [
    {
     "name": "stdout",
     "output_type": "stream",
     "text": [
      "{\"error\":\"no handler found for uri [/_security/user/elastic] and method [PUT]\"}"
     ]
    }
   ],
   "source": [
    "!curl -s -u username:password -X PUT \"http://elasticsearch.elasticsearch.svc:9200/_security/user/elastic\"  -H \"Content-Type: application/json\" \\\n",
    " -d '{ \\\n",
    "  \"password\" : \"user_password\", \\\n",
    "  \"roles\" : [ \"role1\", \"role2\" ], \\\n",
    "  \"full_name\" : \"Elastic User\", \\\n",
    "  \"email\" : \"elastic@example.com\", \\\n",
    "  \"metadata\" : { \\\n",
    "    \"intelligence\" : 7 \\\n",
    "  } \\\n",
    "}'"
   ]
  },
  {
   "cell_type": "code",
   "execution_count": null,
   "id": "90125b58-4e8b-4d0c-bfd5-13d060eb79f2",
   "metadata": {},
   "outputs": [],
   "source": []
  }
 ],
 "metadata": {
  "kernelspec": {
   "display_name": "Python 3 (ipykernel)",
   "language": "python",
   "name": "python3"
  },
  "language_info": {
   "codemirror_mode": {
    "name": "ipython",
    "version": 3
   },
   "file_extension": ".py",
   "mimetype": "text/x-python",
   "name": "python",
   "nbconvert_exporter": "python",
   "pygments_lexer": "ipython3",
   "version": "3.10.13"
  }
 },
 "nbformat": 4,
 "nbformat_minor": 5
}
