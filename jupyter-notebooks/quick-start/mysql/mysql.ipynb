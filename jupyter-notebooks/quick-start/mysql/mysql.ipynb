{
 "cells": [
  {
   "cell_type": "code",
   "execution_count": 1,
   "id": "a7ac7b92-3540-4a8b-8af9-64e333bbf2da",
   "metadata": {},
   "outputs": [
    {
     "name": "stdout",
     "output_type": "stream",
     "text": [
      "NAME                     READY   STATUS    RESTARTS   AGE\n",
      "pod/my-release-mysql-0   1/1     Running   0          71m\n",
      "\n",
      "NAME                                TYPE        CLUSTER-IP     EXTERNAL-IP   PORT(S)    AGE\n",
      "service/my-release-mysql            ClusterIP   10.105.48.47   <none>        3306/TCP   6d21h\n",
      "service/my-release-mysql-headless   ClusterIP   None           <none>        3306/TCP   6d21h\n",
      "\n",
      "NAME                                READY   AGE\n",
      "statefulset.apps/my-release-mysql   1/1     6d21h\n"
     ]
    }
   ],
   "source": [
    "!kubectl -n mysql get all"
   ]
  },
  {
   "cell_type": "code",
   "execution_count": null,
   "id": "0d89685f-a2af-4615-8280-77b22ccd4e3d",
   "metadata": {},
   "outputs": [],
   "source": []
  }
 ],
 "metadata": {
  "kernelspec": {
   "display_name": "Python 3 (ipykernel)",
   "language": "python",
   "name": "python3"
  },
  "language_info": {
   "codemirror_mode": {
    "name": "ipython",
    "version": 3
   },
   "file_extension": ".py",
   "mimetype": "text/x-python",
   "name": "python",
   "nbconvert_exporter": "python",
   "pygments_lexer": "ipython3",
   "version": "3.10.13"
  }
 },
 "nbformat": 4,
 "nbformat_minor": 5
}
