{
 "cells": [
  {
   "cell_type": "code",
   "execution_count": 1,
   "id": "a7ac7b92-3540-4a8b-8af9-64e333bbf2da",
   "metadata": {},
   "outputs": [
    {
     "name": "stdout",
     "output_type": "stream",
     "text": [
      "NAME                     READY   STATUS    RESTARTS   AGE\n",
      "pod/my-release-mysql-0   1/1     Running   0          71m\n",
      "\n",
      "NAME                                TYPE        CLUSTER-IP     EXTERNAL-IP   PORT(S)    AGE\n",
      "service/my-release-mysql            ClusterIP   10.105.48.47   <none>        3306/TCP   6d21h\n",
      "service/my-release-mysql-headless   ClusterIP   None           <none>        3306/TCP   6d21h\n",
      "\n",
      "NAME                                READY   AGE\n",
      "statefulset.apps/my-release-mysql   1/1     6d21h\n"
     ]
    }
   ],
   "source": [
    "!kubectl -n mysql get all"
   ]
  },
  {
   "cell_type": "code",
   "execution_count": 2,
   "id": "0d89685f-a2af-4615-8280-77b22ccd4e3d",
   "metadata": {},
   "outputs": [
    {
     "name": "stdout",
     "output_type": "stream",
     "text": [
      "Starting Nmap 7.80 ( https://nmap.org ) at 2024-01-30 07:10 -03\n",
      "Nmap scan report for my-release-mysql.mysql.svc (10.107.32.222)\n",
      "Host is up (0.00022s latency).\n",
      "rDNS record for 10.107.32.222: my-release-mysql.mysql.svc.cluster2.xpt\n",
      "\n",
      "PORT     STATE SERVICE\n",
      "3306/tcp open  mysql\n",
      "\n",
      "Nmap done: 1 IP address (1 host up) scanned in 0.12 seconds\n"
     ]
    }
   ],
   "source": [
    "!nmap -p 3306 my-release-mysql.mysql.svc"
   ]
  },
  {
   "cell_type": "code",
   "execution_count": null,
   "id": "3c0107c0-3884-4ace-bb01-a3c2d1ca884a",
   "metadata": {},
   "outputs": [],
   "source": []
  }
 ],
 "metadata": {
  "kernelspec": {
   "display_name": "Python 3 (ipykernel)",
   "language": "python",
   "name": "python3"
  },
  "language_info": {
   "codemirror_mode": {
    "name": "ipython",
    "version": 3
   },
   "file_extension": ".py",
   "mimetype": "text/x-python",
   "name": "python",
   "nbconvert_exporter": "python",
   "pygments_lexer": "ipython3",
   "version": "3.10.13"
  }
 },
 "nbformat": 4,
 "nbformat_minor": 5
}
