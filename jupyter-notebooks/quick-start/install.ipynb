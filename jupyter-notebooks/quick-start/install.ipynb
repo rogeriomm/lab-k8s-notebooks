{
 "cells": [
  {
   "cell_type": "code",
   "execution_count": 1,
   "id": "048b33f1-b255-4588-aad4-ad4bda3acf28",
   "metadata": {},
   "outputs": [
    {
     "name": "stdout",
     "output_type": "stream",
     "text": [
      "Downloading kubectl from https://dl.k8s.io/release/v1.28.6/bin/linux/amd64/kubectl\n",
      "asdf: Warn: You have configured asdf to preserve downloaded files (with always_keep_download=yes or --keep-download). But\n",
      "asdf: Warn: the current plugin (kubectl) does not support that. Downloaded files will not be preserved.\n"
     ]
    }
   ],
   "source": [
    "!asdf install kubectl 1.28.6"
   ]
  },
  {
   "cell_type": "code",
   "execution_count": 2,
   "id": "91291b3b-2c63-4a48-a12b-15b2cd7ae8d4",
   "metadata": {},
   "outputs": [],
   "source": [
    "!asdf global kubectl 1.28.6"
   ]
  },
  {
   "cell_type": "code",
   "execution_count": 3,
   "id": "ef7fef9e-d3f6-47bd-8107-a8bc1d043786",
   "metadata": {},
   "outputs": [
    {
     "name": "stdout",
     "output_type": "stream",
     "text": [
      "kubectl controls the Kubernetes cluster manager.\n",
      "\n",
      " Find more information at: https://kubernetes.io/docs/reference/kubectl/\n",
      "\n",
      "Basic Commands (Beginner):\n",
      "  create          Create a resource from a file or from stdin\n",
      "  expose          Take a replication controller, service, deployment or pod and\n",
      "expose it as a new Kubernetes service\n",
      "  run             Run a particular image on the cluster\n",
      "  set             Set specific features on objects\n",
      "\n",
      "Basic Commands (Intermediate):\n",
      "  explain         Get documentation for a resource\n",
      "  get             Display one or many resources\n",
      "  edit            Edit a resource on the server\n",
      "  delete          Delete resources by file names, stdin, resources and names, or\n",
      "by resources and label selector\n",
      "\n",
      "Deploy Commands:\n",
      "  rollout         Manage the rollout of a resource\n",
      "  scale           Set a new size for a deployment, replica set, or replication\n",
      "controller\n",
      "  autoscale       Auto-scale a deployment, replica set, stateful set, or\n",
      "replication controller\n",
      "\n",
      "Cluster Management Commands:\n",
      "  certificate     Modify certificate resources\n",
      "  cluster-info    Display cluster information\n",
      "  top             Display resource (CPU/memory) usage\n",
      "  cordon          Mark node as unschedulable\n",
      "  uncordon        Mark node as schedulable\n",
      "  drain           Drain node in preparation for maintenance\n",
      "  taint           Update the taints on one or more nodes\n",
      "\n",
      "Troubleshooting and Debugging Commands:\n",
      "  describe        Show details of a specific resource or group of resources\n",
      "  logs            Print the logs for a container in a pod\n",
      "  attach          Attach to a running container\n",
      "  exec            Execute a command in a container\n",
      "  port-forward    Forward one or more local ports to a pod\n",
      "  proxy           Run a proxy to the Kubernetes API server\n",
      "  cp              Copy files and directories to and from containers\n",
      "  auth            Inspect authorization\n",
      "  debug           Create debugging sessions for troubleshooting workloads and\n",
      "nodes\n",
      "  events          List events\n",
      "\n",
      "Advanced Commands:\n",
      "  diff            Diff the live version against a would-be applied version\n",
      "  apply           Apply a configuration to a resource by file name or stdin\n",
      "  patch           Update fields of a resource\n",
      "  replace         Replace a resource by file name or stdin\n",
      "  wait            Experimental: Wait for a specific condition on one or many\n",
      "resources\n",
      "  kustomize       Build a kustomization target from a directory or URL\n",
      "\n",
      "Settings Commands:\n",
      "  label           Update the labels on a resource\n",
      "  annotate        Update the annotations on a resource\n",
      "  completion      Output shell completion code for the specified shell (bash,\n",
      "zsh, fish, or powershell)\n",
      "\n",
      "Other Commands:\n",
      "  api-resources   Print the supported API resources on the server\n",
      "  api-versions    Print the supported API versions on the server, in the form of\n",
      "\"group/version\"\n",
      "  config          Modify kubeconfig files\n",
      "  plugin          Provides utilities for interacting with plugins\n",
      "  version         Print the client and server version information\n",
      "\n",
      "Usage:\n",
      "  kubectl [flags] [options]\n",
      "\n",
      "Use \"kubectl <command> --help\" for more information about a given command.\n",
      "Use \"kubectl options\" for a list of global command-line options (applies to all\n",
      "commands).\n"
     ]
    }
   ],
   "source": [
    "!kubectl"
   ]
  },
  {
   "cell_type": "code",
   "execution_count": 5,
   "id": "5aface92-6e27-4eff-91bf-5f172b9a7f4e",
   "metadata": {},
   "outputs": [
    {
     "name": "stdout",
     "output_type": "stream",
     "text": [
      "  % Total    % Received % Xferd  Average Speed   Time    Time     Time  Current\n",
      "                                 Dload  Upload   Total   Spent    Left  Speed\n",
      "100 15.3M  100 15.3M    0     0  10.5M      0  0:00:01  0:00:01 --:--:-- 10.5M\n"
     ]
    }
   ],
   "source": [
    "!curl https://get.helm.sh/helm-v3.14.0-linux-amd64.tar.gz -o /tmp/helm-v3.14.0-linux-amd64.tar.gz && \\\n",
    " cd /tmp && tar -zxf /tmp/helm-v3.14.0-linux-amd64.tar.gz && mv linux-amd64/helm /usr/local/bin/"
   ]
  },
  {
   "cell_type": "code",
   "execution_count": 4,
   "id": "47661ffdeeaf70d3",
   "metadata": {
    "collapsed": false,
    "jupyter": {
     "outputs_hidden": false
    }
   },
   "outputs": [
    {
     "name": "stdout",
     "output_type": "stream",
     "text": [
      "Get:1 http://security.ubuntu.com/ubuntu jammy-security InRelease [110 kB]\n",
      "Ign:2 http://repo.mongodb.org/apt/debian buster/mongodb-org/6.0 InRelease      \u001b[0m\n",
      "Get:3 http://archive.ubuntu.com/ubuntu jammy InRelease [270 kB]                \n",
      "Get:4 http://repo.mongodb.org/apt/debian buster/mongodb-org/6.0 Release [2,032 B]0m\n",
      "Get:5 http://repo.mongodb.org/apt/debian buster/mongodb-org/6.0 Release.gpg [866 B]\u001b[33m\n",
      "Get:6 http://security.ubuntu.com/ubuntu focal-security InRelease [114 kB]      \u001b[0m\u001b[33m\u001b[33m\u001b[33m\n",
      "Get:7 http://repo.mongodb.org/apt/debian buster/mongodb-org/6.0/main amd64 Packages [44.5 kB]\n",
      "Get:8 http://security.ubuntu.com/ubuntu jammy-security/main amd64 Packages [1,440 kB]33m\u001b[33m\u001b[33m\n",
      "Get:9 http://archive.ubuntu.com/ubuntu jammy-updates InRelease [119 kB]\n",
      "Get:10 http://archive.ubuntu.com/ubuntu jammy-backports InRelease [109 kB]3m\u001b[33m\n",
      "Get:11 http://archive.ubuntu.com/ubuntu jammy/restricted amd64 Packages [164 kB]3m\n",
      "Get:12 http://security.ubuntu.com/ubuntu jammy-security/restricted amd64 Packages [1,751 kB]\n",
      "Get:13 http://archive.ubuntu.com/ubuntu jammy/main amd64 Packages [1,792 kB]   \u001b[0m\u001b[33m\u001b[33m\n",
      "Get:14 http://security.ubuntu.com/ubuntu jammy-security/multiverse amd64 Packages [44.6 kB]3m\n",
      "Get:15 http://security.ubuntu.com/ubuntu jammy-security/universe amd64 Packages [1,065 kB]\n",
      "Get:16 http://security.ubuntu.com/ubuntu focal-security/main amd64 Packages [3,369 kB]3m\u001b[33m\n",
      "Get:17 http://archive.ubuntu.com/ubuntu jammy/universe amd64 Packages [17.5 MB]\u001b[0m\u001b[33m\u001b[33m\u001b[33m\n",
      "Get:18 http://archive.ubuntu.com/ubuntu jammy/multiverse amd64 Packages [266 kB][33m\u001b[33m\n",
      "Get:19 http://archive.ubuntu.com/ubuntu jammy-updates/multiverse amd64 Packages [50.4 kB]\n",
      "Get:20 http://archive.ubuntu.com/ubuntu jammy-updates/restricted amd64 Packages [1,810 kB]\n",
      "Get:21 http://archive.ubuntu.com/ubuntu jammy-updates/universe amd64 Packages [1,335 kB]\n",
      "Get:22 http://archive.ubuntu.com/ubuntu jammy-updates/main amd64 Packages [1,728 kB]\n",
      "Get:23 http://archive.ubuntu.com/ubuntu jammy-backports/main amd64 Packages [50.4 kB]33m\u001b[33m\n",
      "Get:24 http://archive.ubuntu.com/ubuntu jammy-backports/universe amd64 Packages [28.1 kB]\n",
      "Fetched 33.1 MB in 6s (5,464 kB/s)                                             \u001b[0m\u001b[33m\n",
      "Reading package lists... Done\n",
      "Building dependency tree... Done\n",
      "Reading state information... Done\n",
      "22 packages can be upgraded. Run 'apt list --upgradable' to see them.\n",
      "Reading package lists... Done\n",
      "Building dependency tree... Done\n",
      "Reading state information... Done\n",
      "The following packages were automatically installed and are no longer required:\n",
      "  libssl1.1 mongodb-database-tools mongodb-mongosh\n",
      "  mongodb-org-database-tools-extra mongodb-org-tools\n",
      "Use 'apt autoremove' to remove them.\n",
      "The following additional packages will be installed:\n",
      "  libblas3 liblinear4 liblua5.3-0 lua-lpeg nmap-common\n",
      "Suggested packages:\n",
      "  liblinear-tools liblinear-dev ncat ndiff zenmap\n",
      "The following NEW packages will be installed:\n",
      "  bind9-dnsutils kubecolor libblas3 liblinear4 liblua5.3-0 lua-lpeg nmap\n",
      "  nmap-common\n",
      "0 upgraded, 8 newly installed, 0 to remove and 22 not upgraded.\n",
      "Need to get 6,940 kB of archives.\n",
      "After this operation, 29.1 MB of additional disk space will be used.\n",
      "Get:1 http://archive.ubuntu.com/ubuntu jammy-updates/main amd64 bind9-dnsutils amd64 1:9.18.18-0ubuntu0.22.04.1 [157 kB]\n",
      "Get:2 http://archive.ubuntu.com/ubuntu jammy/universe amd64 kubecolor amd64 0.0.20-1 [670 kB]\n",
      "Get:3 http://archive.ubuntu.com/ubuntu jammy/main amd64 libblas3 amd64 3.10.0-2ubuntu1 [228 kB]\n",
      "Get:4 http://archive.ubuntu.com/ubuntu jammy/universe amd64 liblinear4 amd64 2.3.0+dfsg-5 [41.4 kB]\n",
      "Get:5 http://archive.ubuntu.com/ubuntu jammy/main amd64 liblua5.3-0 amd64 5.3.6-1build1 [140 kB]\n",
      "Get:6 http://archive.ubuntu.com/ubuntu jammy/universe amd64 lua-lpeg amd64 1.0.2-1 [31.4 kB]\n",
      "Get:7 http://archive.ubuntu.com/ubuntu jammy-updates/universe amd64 nmap-common all 7.91+dfsg1+really7.80+dfsg1-2ubuntu0.1 [3,940 kB]\n",
      "Get:8 http://archive.ubuntu.com/ubuntu jammy-updates/universe amd64 nmap amd64 7.91+dfsg1+really7.80+dfsg1-2ubuntu0.1 [1,731 kB]\n",
      "Fetched 6,940 kB in 3s (2,535 kB/s)m\u001b[33m\n",
      "debconf: delaying package configuration, since apt-utils is not installed\n",
      "\n",
      "\u001b7\u001b[0;23r\u001b8\u001b[1ASelecting previously unselected package bind9-dnsutils.\n",
      "(Reading database ... 78085 files and directories currently installed.)\n",
      "Preparing to unpack .../0-bind9-dnsutils_1%3a9.18.18-0ubuntu0.22.04.1_amd64.deb ...\n",
      "\u001b7\u001b[24;0f\u001b[42m\u001b[30mProgress: [  0%]\u001b[49m\u001b[39m [..........................................................] \u001b8\u001b7\u001b[24;0f\u001b[42m\u001b[30mProgress: [  3%]\u001b[49m\u001b[39m [#.........................................................] \u001b8Unpacking bind9-dnsutils (1:9.18.18-0ubuntu0.22.04.1) ...\n",
      "\u001b7\u001b[24;0f\u001b[42m\u001b[30mProgress: [  6%]\u001b[49m\u001b[39m [###.......................................................] \u001b8Selecting previously unselected package kubecolor.\n",
      "Preparing to unpack .../1-kubecolor_0.0.20-1_amd64.deb ...\n",
      "\u001b7\u001b[24;0f\u001b[42m\u001b[30mProgress: [  9%]\u001b[49m\u001b[39m [#####.....................................................] \u001b8Unpacking kubecolor (0.0.20-1) ...\n",
      "\u001b7\u001b[24;0f\u001b[42m\u001b[30mProgress: [ 12%]\u001b[49m\u001b[39m [#######...................................................] \u001b8Selecting previously unselected package libblas3:amd64.\n",
      "Preparing to unpack .../2-libblas3_3.10.0-2ubuntu1_amd64.deb ...\n",
      "\u001b7\u001b[24;0f\u001b[42m\u001b[30mProgress: [ 15%]\u001b[49m\u001b[39m [########..................................................] \u001b8Unpacking libblas3:amd64 (3.10.0-2ubuntu1) ...\n",
      "\u001b7\u001b[24;0f\u001b[42m\u001b[30mProgress: [ 18%]\u001b[49m\u001b[39m [##########................................................] \u001b8Selecting previously unselected package liblinear4:amd64.\n",
      "Preparing to unpack .../3-liblinear4_2.3.0+dfsg-5_amd64.deb ...\n",
      "\u001b7\u001b[24;0f\u001b[42m\u001b[30mProgress: [ 21%]\u001b[49m\u001b[39m [############..............................................] \u001b8Unpacking liblinear4:amd64 (2.3.0+dfsg-5) ...\n",
      "\u001b7\u001b[24;0f\u001b[42m\u001b[30mProgress: [ 24%]\u001b[49m\u001b[39m [##############............................................] \u001b8Selecting previously unselected package liblua5.3-0:amd64.\n",
      "Preparing to unpack .../4-liblua5.3-0_5.3.6-1build1_amd64.deb ...\n",
      "\u001b7\u001b[24;0f\u001b[42m\u001b[30mProgress: [ 27%]\u001b[49m\u001b[39m [###############...........................................] \u001b8Unpacking liblua5.3-0:amd64 (5.3.6-1build1) ...\n",
      "\u001b7\u001b[24;0f\u001b[42m\u001b[30mProgress: [ 30%]\u001b[49m\u001b[39m [#################.........................................] \u001b8Selecting previously unselected package lua-lpeg:amd64.\n",
      "Preparing to unpack .../5-lua-lpeg_1.0.2-1_amd64.deb ...\n",
      "\u001b7\u001b[24;0f\u001b[42m\u001b[30mProgress: [ 33%]\u001b[49m\u001b[39m [###################.......................................] \u001b8Unpacking lua-lpeg:amd64 (1.0.2-1) ...\n",
      "\u001b7\u001b[24;0f\u001b[42m\u001b[30mProgress: [ 36%]\u001b[49m\u001b[39m [#####################.....................................] \u001b8Selecting previously unselected package nmap-common.\n",
      "Preparing to unpack .../6-nmap-common_7.91+dfsg1+really7.80+dfsg1-2ubuntu0.1_all.deb ...\n",
      "\u001b7\u001b[24;0f\u001b[42m\u001b[30mProgress: [ 39%]\u001b[49m\u001b[39m [######################....................................] \u001b8Unpacking nmap-common (7.91+dfsg1+really7.80+dfsg1-2ubuntu0.1) ...\n",
      "\u001b7\u001b[24;0f\u001b[42m\u001b[30mProgress: [ 42%]\u001b[49m\u001b[39m [########################..................................] \u001b8Selecting previously unselected package nmap.\n",
      "Preparing to unpack .../7-nmap_7.91+dfsg1+really7.80+dfsg1-2ubuntu0.1_amd64.deb ...\n",
      "\u001b7\u001b[24;0f\u001b[42m\u001b[30mProgress: [ 45%]\u001b[49m\u001b[39m [##########################................................] \u001b8Unpacking nmap (7.91+dfsg1+really7.80+dfsg1-2ubuntu0.1) ...\n",
      "\u001b7\u001b[24;0f\u001b[42m\u001b[30mProgress: [ 48%]\u001b[49m\u001b[39m [############################..............................] \u001b8Setting up lua-lpeg:amd64 (1.0.2-1) ...\n",
      "\u001b7\u001b[24;0f\u001b[42m\u001b[30mProgress: [ 52%]\u001b[49m\u001b[39m [#############################.............................] \u001b8\u001b7\u001b[24;0f\u001b[42m\u001b[30mProgress: [ 55%]\u001b[49m\u001b[39m [###############################...........................] \u001b8Setting up libblas3:amd64 (3.10.0-2ubuntu1) ...\n",
      "\u001b7\u001b[24;0f\u001b[42m\u001b[30mProgress: [ 58%]\u001b[49m\u001b[39m [#################################.........................] \u001b8update-alternatives: using /usr/lib/x86_64-linux-gnu/blas/libblas.so.3 to provide /usr/lib/x86_64-linux-gnu/libblas.so.3 (libblas.so.3-x86_64-linux-gnu) in auto mode\n",
      "\u001b7\u001b[24;0f\u001b[42m\u001b[30mProgress: [ 61%]\u001b[49m\u001b[39m [###################################.......................] \u001b8Setting up nmap-common (7.91+dfsg1+really7.80+dfsg1-2ubuntu0.1) ...\n",
      "\u001b7\u001b[24;0f\u001b[42m\u001b[30mProgress: [ 64%]\u001b[49m\u001b[39m [####################################......................] \u001b8\u001b7\u001b[24;0f\u001b[42m\u001b[30mProgress: [ 67%]\u001b[49m\u001b[39m [######################################....................] \u001b8Setting up kubecolor (0.0.20-1) ...\n",
      "\u001b7\u001b[24;0f\u001b[42m\u001b[30mProgress: [ 70%]\u001b[49m\u001b[39m [########################################..................] \u001b8\u001b7\u001b[24;0f\u001b[42m\u001b[30mProgress: [ 73%]\u001b[49m\u001b[39m [##########################################................] \u001b8Setting up liblua5.3-0:amd64 (5.3.6-1build1) ...\n",
      "\u001b7\u001b[24;0f\u001b[42m\u001b[30mProgress: [ 76%]\u001b[49m\u001b[39m [###########################################...............] \u001b8\u001b7\u001b[24;0f\u001b[42m\u001b[30mProgress: [ 79%]\u001b[49m\u001b[39m [#############################################.............] \u001b8Setting up bind9-dnsutils (1:9.18.18-0ubuntu0.22.04.1) ...\n",
      "\u001b7\u001b[24;0f\u001b[42m\u001b[30mProgress: [ 82%]\u001b[49m\u001b[39m [###############################################...........] \u001b8\u001b7\u001b[24;0f\u001b[42m\u001b[30mProgress: [ 85%]\u001b[49m\u001b[39m [#################################################.........] \u001b8Setting up liblinear4:amd64 (2.3.0+dfsg-5) ...\n",
      "\u001b7\u001b[24;0f\u001b[42m\u001b[30mProgress: [ 88%]\u001b[49m\u001b[39m [##################################################........] \u001b8\u001b7\u001b[24;0f\u001b[42m\u001b[30mProgress: [ 91%]\u001b[49m\u001b[39m [####################################################......] \u001b8Setting up nmap (7.91+dfsg1+really7.80+dfsg1-2ubuntu0.1) ...\n",
      "\u001b7\u001b[24;0f\u001b[42m\u001b[30mProgress: [ 94%]\u001b[49m\u001b[39m [######################################################....] \u001b8\u001b7\u001b[24;0f\u001b[42m\u001b[30mProgress: [ 97%]\u001b[49m\u001b[39m [########################################################..] \u001b8Processing triggers for libc-bin (2.35-0ubuntu3.5) ...\n",
      "\n",
      "\u001b7\u001b[0;24r\u001b8\u001b[1A\u001b[J"
     ]
    }
   ],
   "source": [
    "!apt update && apt install -y kubecolor nmap bind9-dnsutils apt-file"
   ]
  },
  {
   "cell_type": "code",
   "execution_count": 7,
   "id": "cb410f31-e63a-4642-87cc-b1af00f36b86",
   "metadata": {},
   "outputs": [
    {
     "name": "stdout",
     "output_type": "stream",
     "text": [
      "Hit:1 http://security.ubuntu.com/ubuntu jammy-security InRelease\n",
      "Ign:2 http://repo.mongodb.org/apt/debian buster/mongodb-org/6.0 InRelease   \u001b[0m\n",
      "Hit:3 http://security.ubuntu.com/ubuntu focal-security InRelease               \u001b[0m3m\n",
      "Hit:4 http://repo.mongodb.org/apt/debian buster/mongodb-org/6.0 Release     \u001b[0m\u001b[33m\n",
      "Hit:6 http://archive.ubuntu.com/ubuntu jammy InRelease\n",
      "Hit:7 http://archive.ubuntu.com/ubuntu jammy-updates InRelease\n",
      "Hit:8 http://archive.ubuntu.com/ubuntu jammy-backports InRelease\n",
      "Reading package lists... Done\n",
      "Building dependency tree... Done\n",
      "Reading state information... Done\n",
      "22 packages can be upgraded. Run 'apt list --upgradable' to see them.\n"
     ]
    }
   ],
   "source": [
    "!apt-file update"
   ]
  },
  {
   "cell_type": "code",
   "execution_count": 6,
   "id": "cdb3cd79-7fc1-4575-b4d2-661345644dee",
   "metadata": {},
   "outputs": [
    {
     "name": "stdout",
     "output_type": "stream",
     "text": [
      "Error: no repositories to show\n"
     ]
    }
   ],
   "source": [
    "!helm repo list"
   ]
  },
  {
   "cell_type": "code",
   "execution_count": 10,
   "id": "1fd07305-0fc7-4dba-948a-e99e2d10de00",
   "metadata": {},
   "outputs": [],
   "source": [
    "!curl -sSL -o argocd-linux-amd64 https://github.com/argoproj/argo-cd/releases/latest/download/argocd-linux-amd64 && \\\n",
    " install -m 555 argocd-linux-amd64 /usr/local/bin/argocd && \\\n",
    " rm argocd-linux-amd64\n"
   ]
  },
  {
   "cell_type": "code",
   "execution_count": 11,
   "id": "0d5a36e9-1ece-4850-88d8-23388b33719d",
   "metadata": {},
   "outputs": [
    {
     "name": "stdout",
     "output_type": "stream",
     "text": [
      "argocd controls a Argo CD server\n",
      "\n",
      "Usage:\n",
      "  argocd [flags]\n",
      "  argocd [command]\n",
      "\n",
      "Available Commands:\n",
      "  account     Manage account settings\n",
      "  admin       Contains a set of commands useful for Argo CD administrators and requires direct Kubernetes access\n",
      "  app         Manage applications\n",
      "  appset      Manage ApplicationSets\n",
      "  cert        Manage repository certificates and SSH known hosts entries\n",
      "  cluster     Manage cluster credentials\n",
      "  completion  output shell completion code for the specified shell (bash or zsh)\n",
      "  context     Switch between contexts\n",
      "  gpg         Manage GPG keys used for signature verification\n",
      "  help        Help about any command\n",
      "  login       Log in to Argo CD\n",
      "  logout      Log out from Argo CD\n",
      "  proj        Manage projects\n",
      "  relogin     Refresh an expired authenticate token\n",
      "  repo        Manage repository connection parameters\n",
      "  repocreds   Manage repository connection parameters\n",
      "  version     Print version information\n",
      "\n",
      "Flags:\n",
      "      --auth-token string               Authentication token\n",
      "      --client-crt string               Client certificate file\n",
      "      --client-crt-key string           Client certificate key file\n",
      "      --config string                   Path to Argo CD config (default \"/root/.config/argocd/config\")\n",
      "      --controller-name string          Name of the Argo CD Application controller; set this or the ARGOCD_APPLICATION_CONTROLLER_NAME environment variable when the controller's name label differs from the default, for example when installing via the Helm chart (default \"argocd-application-controller\")\n",
      "      --core                            If set to true then CLI talks directly to Kubernetes instead of talking to Argo CD API server\n",
      "      --grpc-web                        Enables gRPC-web protocol. Useful if Argo CD server is behind proxy which does not support HTTP2.\n",
      "      --grpc-web-root-path string       Enables gRPC-web protocol. Useful if Argo CD server is behind proxy which does not support HTTP2. Set web root.\n",
      "  -H, --header strings                  Sets additional header to all requests made by Argo CD CLI. (Can be repeated multiple times to add multiple headers, also supports comma separated headers)\n",
      "  -h, --help                            help for argocd\n",
      "      --http-retry-max int              Maximum number of retries to establish http connection to Argo CD server\n",
      "      --insecure                        Skip server certificate and domain verification\n",
      "      --kube-context string             Directs the command to the given kube-context\n",
      "      --logformat string                Set the logging format. One of: text|json (default \"text\")\n",
      "      --loglevel string                 Set the logging level. One of: debug|info|warn|error (default \"info\")\n",
      "      --plaintext                       Disable TLS\n",
      "      --port-forward                    Connect to a random argocd-server port using port forwarding\n",
      "      --port-forward-namespace string   Namespace name which should be used for port forwarding\n",
      "      --redis-haproxy-name string       Name of the Redis HA Proxy; set this or the ARGOCD_REDIS_HAPROXY_NAME environment variable when the HA Proxy's name label differs from the default, for example when installing via the Helm chart (default \"argocd-redis-ha-haproxy\")\n",
      "      --redis-name string               Name of the Redis deployment; set this or the ARGOCD_REDIS_NAME environment variable when the Redis's name label differs from the default, for example when installing via the Helm chart (default \"argocd-redis\")\n",
      "      --repo-server-name string         Name of the Argo CD Repo server; set this or the ARGOCD_REPO_SERVER_NAME environment variable when the server's name label differs from the default, for example when installing via the Helm chart (default \"argocd-repo-server\")\n",
      "      --server string                   Argo CD server address\n",
      "      --server-crt string               Server certificate file\n",
      "      --server-name string              Name of the Argo CD API server; set this or the ARGOCD_SERVER_NAME environment variable when the server's name label differs from the default, for example when installing via the Helm chart (default \"argocd-server\")\n",
      "\n",
      "Use \"argocd [command] --help\" for more information about a command.\n"
     ]
    }
   ],
   "source": [
    "!argocd"
   ]
  },
  {
   "cell_type": "code",
   "execution_count": null,
   "id": "b06393a1-ca62-44c2-926e-2135e25f7791",
   "metadata": {},
   "outputs": [],
   "source": []
  }
 ],
 "metadata": {
  "kernelspec": {
   "display_name": "Python 3 (ipykernel)",
   "language": "python",
   "name": "python3"
  },
  "language_info": {
   "codemirror_mode": {
    "name": "ipython",
    "version": 3
   },
   "file_extension": ".py",
   "mimetype": "text/x-python",
   "name": "python",
   "nbconvert_exporter": "python",
   "pygments_lexer": "ipython3",
   "version": "3.10.13"
  }
 },
 "nbformat": 4,
 "nbformat_minor": 5
}
