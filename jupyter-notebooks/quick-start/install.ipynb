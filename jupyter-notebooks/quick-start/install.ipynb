{
 "cells": [
  {
   "cell_type": "code",
   "execution_count": 2,
   "id": "048b33f1-b255-4588-aad4-ad4bda3acf28",
   "metadata": {},
   "outputs": [
    {
     "name": "stdout",
     "output_type": "stream",
     "text": [
      "Downloading kubectl from https://dl.k8s.io/release/v1.28.6/bin/linux/amd64/kubectl\n",
      "asdf: Warn: You have configured asdf to preserve downloaded files (with always_keep_download=yes or --keep-download). But\n",
      "asdf: Warn: the current plugin (kubectl) does not support that. Downloaded files will not be preserved.\n"
     ]
    }
   ],
   "source": [
    "!asdf install kubectl 1.28.6"
   ]
  },
  {
   "cell_type": "code",
   "execution_count": 3,
   "id": "91291b3b-2c63-4a48-a12b-15b2cd7ae8d4",
   "metadata": {},
   "outputs": [],
   "source": [
    "!asdf global kubectl 1.28.6"
   ]
  },
  {
   "cell_type": "code",
   "execution_count": 4,
   "id": "ef7fef9e-d3f6-47bd-8107-a8bc1d043786",
   "metadata": {},
   "outputs": [
    {
     "name": "stdout",
     "output_type": "stream",
     "text": [
      "kubectl controls the Kubernetes cluster manager.\n",
      "\n",
      " Find more information at: https://kubernetes.io/docs/reference/kubectl/\n",
      "\n",
      "Basic Commands (Beginner):\n",
      "  create          Create a resource from a file or from stdin\n",
      "  expose          Take a replication controller, service, deployment or pod and\n",
      "expose it as a new Kubernetes service\n",
      "  run             Run a particular image on the cluster\n",
      "  set             Set specific features on objects\n",
      "\n",
      "Basic Commands (Intermediate):\n",
      "  explain         Get documentation for a resource\n",
      "  get             Display one or many resources\n",
      "  edit            Edit a resource on the server\n",
      "  delete          Delete resources by file names, stdin, resources and names, or\n",
      "by resources and label selector\n",
      "\n",
      "Deploy Commands:\n",
      "  rollout         Manage the rollout of a resource\n",
      "  scale           Set a new size for a deployment, replica set, or replication\n",
      "controller\n",
      "  autoscale       Auto-scale a deployment, replica set, stateful set, or\n",
      "replication controller\n",
      "\n",
      "Cluster Management Commands:\n",
      "  certificate     Modify certificate resources\n",
      "  cluster-info    Display cluster information\n",
      "  top             Display resource (CPU/memory) usage\n",
      "  cordon          Mark node as unschedulable\n",
      "  uncordon        Mark node as schedulable\n",
      "  drain           Drain node in preparation for maintenance\n",
      "  taint           Update the taints on one or more nodes\n",
      "\n",
      "Troubleshooting and Debugging Commands:\n",
      "  describe        Show details of a specific resource or group of resources\n",
      "  logs            Print the logs for a container in a pod\n",
      "  attach          Attach to a running container\n",
      "  exec            Execute a command in a container\n",
      "  port-forward    Forward one or more local ports to a pod\n",
      "  proxy           Run a proxy to the Kubernetes API server\n",
      "  cp              Copy files and directories to and from containers\n",
      "  auth            Inspect authorization\n",
      "  debug           Create debugging sessions for troubleshooting workloads and\n",
      "nodes\n",
      "  events          List events\n",
      "\n",
      "Advanced Commands:\n",
      "  diff            Diff the live version against a would-be applied version\n",
      "  apply           Apply a configuration to a resource by file name or stdin\n",
      "  patch           Update fields of a resource\n",
      "  replace         Replace a resource by file name or stdin\n",
      "  wait            Experimental: Wait for a specific condition on one or many\n",
      "resources\n",
      "  kustomize       Build a kustomization target from a directory or URL\n",
      "\n",
      "Settings Commands:\n",
      "  label           Update the labels on a resource\n",
      "  annotate        Update the annotations on a resource\n",
      "  completion      Output shell completion code for the specified shell (bash,\n",
      "zsh, fish, or powershell)\n",
      "\n",
      "Other Commands:\n",
      "  api-resources   Print the supported API resources on the server\n",
      "  api-versions    Print the supported API versions on the server, in the form of\n",
      "\"group/version\"\n",
      "  config          Modify kubeconfig files\n",
      "  plugin          Provides utilities for interacting with plugins\n",
      "  version         Print the client and server version information\n",
      "\n",
      "Usage:\n",
      "  kubectl [flags] [options]\n",
      "\n",
      "Use \"kubectl <command> --help\" for more information about a given command.\n",
      "Use \"kubectl options\" for a list of global command-line options (applies to all\n",
      "commands).\n"
     ]
    }
   ],
   "source": [
    "!kubectl"
   ]
  },
  {
   "cell_type": "code",
   "execution_count": 5,
   "id": "47661ffdeeaf70d3",
   "metadata": {
    "collapsed": false,
    "jupyter": {
     "outputs_hidden": false
    }
   },
   "outputs": [
    {
     "name": "stdout",
     "output_type": "stream",
     "text": [
      "Ign:1 http://repo.mongodb.org/apt/debian buster/mongodb-org/6.0 InRelease      \u001b[0m\n",
      "Get:2 http://security.ubuntu.com/ubuntu jammy-security InRelease [110 kB]      \n",
      "Hit:3 http://archive.ubuntu.com/ubuntu jammy InRelease                        \u001b[0m\n",
      "Hit:4 http://repo.mongodb.org/apt/debian buster/mongodb-org/6.0 Release       \n",
      "Get:5 http://archive.ubuntu.com/ubuntu jammy-updates InRelease [119 kB]\n",
      "Hit:7 http://archive.ubuntu.com/ubuntu jammy-backports InRelease    \u001b[0m\u001b[33m\u001b[33m\u001b[33m\u001b[33m\n",
      "Hit:8 http://security.ubuntu.com/ubuntu focal-security InRelease\n",
      "Fetched 229 kB in 2s (130 kB/s)\n",
      "Reading package lists... Done\n",
      "Building dependency tree... Done\n",
      "Reading state information... Done\n",
      "21 packages can be upgraded. Run 'apt list --upgradable' to see them.\n",
      "Reading package lists... Done\n",
      "Building dependency tree... Done\n",
      "Reading state information... Done\n",
      "kubecolor is already the newest version (0.0.20-1).\n",
      "nmap is already the newest version (7.91+dfsg1+really7.80+dfsg1-2ubuntu0.1).\n",
      "The following packages were automatically installed and are no longer required:\n",
      "  libssl1.1 mongodb-database-tools mongodb-mongosh\n",
      "  mongodb-org-database-tools-extra mongodb-org-tools\n",
      "Use 'apt autoremove' to remove them.\n",
      "0 upgraded, 0 newly installed, 0 to remove and 21 not upgraded.\n"
     ]
    }
   ],
   "source": [
    "!apt update && apt install -y kubecolor nmap"
   ]
  },
  {
   "cell_type": "code",
   "execution_count": null,
   "id": "5aface92-6e27-4eff-91bf-5f172b9a7f4e",
   "metadata": {},
   "outputs": [],
   "source": []
  }
 ],
 "metadata": {
  "kernelspec": {
   "display_name": "Python 3 (ipykernel)",
   "language": "python",
   "name": "python3"
  },
  "language_info": {
   "codemirror_mode": {
    "name": "ipython",
    "version": 3
   },
   "file_extension": ".py",
   "mimetype": "text/x-python",
   "name": "python",
   "nbconvert_exporter": "python",
   "pygments_lexer": "ipython3",
   "version": "3.10.13"
  }
 },
 "nbformat": 4,
 "nbformat_minor": 5
}
