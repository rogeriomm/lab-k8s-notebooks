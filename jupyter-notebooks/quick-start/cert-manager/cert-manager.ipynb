{
 "cells": [
  {
   "cell_type": "markdown",
   "id": "561f26fc-1877-4a14-bd2d-4cbe2acf5a26",
   "metadata": {},
   "source": [
    "   * https://cert-manager.io/docs/installation/helm/"
   ]
  },
  {
   "cell_type": "code",
   "execution_count": 3,
   "id": "fe96eb6f-3470-4eea-aafd-630273789311",
   "metadata": {},
   "outputs": [
    {
     "name": "stdout",
     "output_type": "stream",
     "text": [
      "\u001b[37mNAME                                           READY   STATUS    RESTARTS   AGE\u001b[0m\n",
      "\u001b[36mpod/cert-manager-6c69f9f796-kfkvv\u001b[0m              \u001b[32m1/1\u001b[0m     \u001b[35mRunning\u001b[0m   \u001b[37m0\u001b[0m          \u001b[33m46m\u001b[0m\n",
      "\u001b[36mpod/cert-manager-cainjector-584f44558c-nsxwc\u001b[0m   \u001b[32m1/1\u001b[0m     \u001b[35mRunning\u001b[0m   \u001b[37m0\u001b[0m          \u001b[33m46m\u001b[0m\n",
      "\u001b[36mpod/cert-manager-webhook-76f9945d6f-qw5cf\u001b[0m      \u001b[32m1/1\u001b[0m     \u001b[35mRunning\u001b[0m   \u001b[37m0\u001b[0m          \u001b[33m46m\u001b[0m\n",
      "\u001b[37m\u001b[0m\n",
      "\u001b[37mNAME                           TYPE        CLUSTER-IP      EXTERNAL-IP   PORT(S)    AGE\u001b[0m\n",
      "\u001b[36mservice/cert-manager\u001b[0m           \u001b[36mClusterIP\u001b[0m   \u001b[32m10.99.46.14\u001b[0m     \u001b[35m<none>\u001b[0m        \u001b[37m9402/TCP\u001b[0m   \u001b[33m46m\u001b[0m\n",
      "\u001b[36mservice/cert-manager-webhook\u001b[0m   \u001b[36mClusterIP\u001b[0m   \u001b[32m10.105.229.32\u001b[0m   \u001b[35m<none>\u001b[0m        \u001b[37m443/TCP\u001b[0m    \u001b[33m46m\u001b[0m\n",
      "\u001b[37m\u001b[0m\n",
      "\u001b[37mNAME                                      READY   UP-TO-DATE   AVAILABLE   AGE\u001b[0m\n",
      "\u001b[36mdeployment.apps/cert-manager\u001b[0m              \u001b[36m1/1\u001b[0m     \u001b[32m1\u001b[0m            \u001b[35m1\u001b[0m           \u001b[37m46m\u001b[0m\n",
      "\u001b[36mdeployment.apps/cert-manager-cainjector\u001b[0m   \u001b[36m1/1\u001b[0m     \u001b[32m1\u001b[0m            \u001b[35m1\u001b[0m           \u001b[37m46m\u001b[0m\n",
      "\u001b[36mdeployment.apps/cert-manager-webhook\u001b[0m      \u001b[36m1/1\u001b[0m     \u001b[32m1\u001b[0m            \u001b[35m1\u001b[0m           \u001b[37m46m\u001b[0m\n",
      "\u001b[37m\u001b[0m\n",
      "\u001b[37mNAME                                                 DESIRED   CURRENT   READY   AGE\u001b[0m\n",
      "\u001b[36mreplicaset.apps/cert-manager-6c69f9f796\u001b[0m              \u001b[33m1\u001b[0m         \u001b[35m1\u001b[0m         \u001b[37m1\u001b[0m       \u001b[36m46m\u001b[0m\n",
      "\u001b[36mreplicaset.apps/cert-manager-cainjector-584f44558c\u001b[0m   \u001b[33m1\u001b[0m         \u001b[35m1\u001b[0m         \u001b[37m1\u001b[0m       \u001b[36m46m\u001b[0m\n",
      "\u001b[36mreplicaset.apps/cert-manager-webhook-76f9945d6f\u001b[0m      \u001b[33m1\u001b[0m         \u001b[35m1\u001b[0m         \u001b[37m1\u001b[0m       \u001b[36m46m\u001b[0m\n"
     ]
    }
   ],
   "source": [
    "!kubecolor -n cert-manager get all"
   ]
  },
  {
   "cell_type": "code",
   "execution_count": null,
   "id": "4841684b-96fe-41c4-849f-fd05d8c25668",
   "metadata": {},
   "outputs": [],
   "source": []
  }
 ],
 "metadata": {
  "kernelspec": {
   "display_name": "Python 3 (ipykernel)",
   "language": "python",
   "name": "python3"
  },
  "language_info": {
   "codemirror_mode": {
    "name": "ipython",
    "version": 3
   },
   "file_extension": ".py",
   "mimetype": "text/x-python",
   "name": "python",
   "nbconvert_exporter": "python",
   "pygments_lexer": "ipython3",
   "version": "3.10.13"
  }
 },
 "nbformat": 4,
 "nbformat_minor": 5
}
