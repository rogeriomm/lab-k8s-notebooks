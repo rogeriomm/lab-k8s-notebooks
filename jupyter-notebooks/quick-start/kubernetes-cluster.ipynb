{
 "cells": [
  {
   "cell_type": "code",
   "execution_count": 1,
   "id": "initial_id",
   "metadata": {},
   "outputs": [
    {
     "name": "stdout",
     "output_type": "stream",
     "text": [
      "\u001b[33mNo preset version installed for command kubectl\u001b[0m\n",
      "\u001b[33mPlease install a version by running one of the following:\u001b[0m\n",
      "\u001b[33m\u001b[0m\n",
      "\u001b[33masdf install kubectl 1.28.6\u001b[0m\n",
      "\u001b[33m\u001b[0m\n",
      "\u001b[33mor add one of the following versions in your config file at /Volumes/data/git/labtools-k8s/.tool-versions\u001b[0m\n",
      "\u001b[33mkubectl 1.28.3\u001b[0m\n"
     ]
    }
   ],
   "source": [
    "!kubecolor top pods --sort-by='memory' -A"
   ]
  },
  {
   "cell_type": "code",
   "execution_count": null,
   "id": "f2d86117-315f-4c3d-927e-319b45bf213f",
   "metadata": {},
   "outputs": [],
   "source": []
  }
 ],
 "metadata": {
  "kernelspec": {
   "display_name": "Python 3 (ipykernel)",
   "language": "python",
   "name": "python3"
  },
  "language_info": {
   "codemirror_mode": {
    "name": "ipython",
    "version": 3
   },
   "file_extension": ".py",
   "mimetype": "text/x-python",
   "name": "python",
   "nbconvert_exporter": "python",
   "pygments_lexer": "ipython3",
   "version": "3.10.13"
  }
 },
 "nbformat": 4,
 "nbformat_minor": 5
}
